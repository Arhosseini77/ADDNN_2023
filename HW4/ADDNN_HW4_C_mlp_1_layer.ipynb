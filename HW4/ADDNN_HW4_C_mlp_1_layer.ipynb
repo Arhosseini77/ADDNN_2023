{
 "cells": [
  {
   "cell_type": "code",
   "execution_count": null,
   "id": "880d190c-07c6-483e-b635-85018f3fe9f4",
   "metadata": {
    "tags": []
   },
   "outputs": [],
   "source": [
    "!git clone https://github.com/Arhosseini77/data_complexity_measures"
   ]
  },
  {
   "cell_type": "markdown",
   "id": "fe4eae95-043c-41f5-ab08-e32e9b2260a6",
   "metadata": {},
   "source": [
    "# Import Libraries"
   ]
  },
  {
   "cell_type": "code",
   "execution_count": 1,
   "id": "6f7bf20a-41a0-467f-98dc-bbca70fbea82",
   "metadata": {},
   "outputs": [
    {
     "name": "stderr",
     "output_type": "stream",
     "text": [
      "/root/miniconda3/envs/torch2/lib/python3.11/site-packages/tqdm/auto.py:21: TqdmWarning: IProgress not found. Please update jupyter and ipywidgets. See https://ipywidgets.readthedocs.io/en/stable/user_install.html\n",
      "  from .autonotebook import tqdm as notebook_tqdm\n"
     ]
    }
   ],
   "source": [
    "import numpy as np\n",
    "import torch\n",
    "import torch.nn as nn\n",
    "from torchvision import datasets\n",
    "from torchvision import transforms\n",
    "from torch.utils.data.sampler import SubsetRandomSampler\n",
    "import torch\n",
    "import torch.nn as nn\n",
    "import torch.optim as optim\n",
    "import torchvision.transforms as transforms\n",
    "from torch.utils.data import DataLoader\n",
    "from torchvision.datasets import CIFAR10\n",
    "from torch.optim.lr_scheduler import StepLR\n",
    "from sklearn.model_selection import StratifiedShuffleSplit\n",
    "from torch.utils.data.dataset import Subset\n",
    "import numpy as np\n",
    "import matplotlib.pyplot as plt\n",
    "from tqdm import tqdm\n",
    "import pickle\n",
    "\n",
    "\n",
    "from data_complexity_measures.models.ARH_SeparationIndex import ARH_SeparationIndex\n",
    "\n",
    "# Device configuration\n",
    "device = torch.device('cuda:1' if torch.cuda.is_available() else 'cpu')\n"
   ]
  },
  {
   "cell_type": "markdown",
   "id": "789a4bfd-8ea6-4870-a32c-75fd86f2b296",
   "metadata": {},
   "source": [
    "# Load Pretrained VGG16 Model"
   ]
  },
  {
   "cell_type": "code",
   "execution_count": 2,
   "id": "3f0941d6-0a3c-4043-a39f-b6f9d7186c03",
   "metadata": {
    "tags": []
   },
   "outputs": [
    {
     "name": "stdout",
     "output_type": "stream",
     "text": [
      "VGG(\n",
      "  (features): Sequential(\n",
      "    (0): Conv2d(3, 64, kernel_size=(3, 3), stride=(1, 1), padding=(1, 1))\n",
      "    (1): ReLU(inplace=True)\n",
      "    (2): Conv2d(64, 64, kernel_size=(3, 3), stride=(1, 1), padding=(1, 1))\n",
      "    (3): ReLU(inplace=True)\n",
      "    (4): MaxPool2d(kernel_size=2, stride=2, padding=0, dilation=1, ceil_mode=False)\n",
      "    (5): Conv2d(64, 128, kernel_size=(3, 3), stride=(1, 1), padding=(1, 1))\n",
      "    (6): ReLU(inplace=True)\n",
      "    (7): Conv2d(128, 128, kernel_size=(3, 3), stride=(1, 1), padding=(1, 1))\n",
      "    (8): ReLU(inplace=True)\n",
      "    (9): MaxPool2d(kernel_size=2, stride=2, padding=0, dilation=1, ceil_mode=False)\n",
      "    (10): Conv2d(128, 256, kernel_size=(3, 3), stride=(1, 1), padding=(1, 1))\n",
      "    (11): ReLU(inplace=True)\n",
      "    (12): Conv2d(256, 256, kernel_size=(3, 3), stride=(1, 1), padding=(1, 1))\n",
      "    (13): ReLU(inplace=True)\n",
      "    (14): Conv2d(256, 256, kernel_size=(3, 3), stride=(1, 1), padding=(1, 1))\n",
      "    (15): ReLU(inplace=True)\n",
      "    (16): MaxPool2d(kernel_size=2, stride=2, padding=0, dilation=1, ceil_mode=False)\n",
      "    (17): Conv2d(256, 512, kernel_size=(3, 3), stride=(1, 1), padding=(1, 1))\n",
      "    (18): ReLU(inplace=True)\n",
      "    (19): Conv2d(512, 512, kernel_size=(3, 3), stride=(1, 1), padding=(1, 1))\n",
      "    (20): ReLU(inplace=True)\n",
      "    (21): Conv2d(512, 512, kernel_size=(3, 3), stride=(1, 1), padding=(1, 1))\n",
      "    (22): ReLU(inplace=True)\n",
      "    (23): MaxPool2d(kernel_size=2, stride=2, padding=0, dilation=1, ceil_mode=False)\n",
      "    (24): Conv2d(512, 512, kernel_size=(3, 3), stride=(1, 1), padding=(1, 1))\n",
      "    (25): ReLU(inplace=True)\n",
      "    (26): Conv2d(512, 512, kernel_size=(3, 3), stride=(1, 1), padding=(1, 1))\n",
      "    (27): ReLU(inplace=True)\n",
      "    (28): Conv2d(512, 512, kernel_size=(3, 3), stride=(1, 1), padding=(1, 1))\n",
      "    (29): ReLU(inplace=True)\n",
      "    (30): MaxPool2d(kernel_size=2, stride=2, padding=0, dilation=1, ceil_mode=False)\n",
      "  )\n",
      "  (avgpool): AdaptiveAvgPool2d(output_size=(7, 7))\n",
      "  (classifier): Sequential(\n",
      "    (0): Linear(in_features=25088, out_features=4096, bias=True)\n",
      "    (1): ReLU(inplace=True)\n",
      "    (2): Dropout(p=0.5, inplace=False)\n",
      "    (3): Linear(in_features=4096, out_features=4096, bias=True)\n",
      "    (4): ReLU(inplace=True)\n",
      "    (5): Dropout(p=0.5, inplace=False)\n",
      "    (6): Linear(in_features=4096, out_features=10, bias=True)\n",
      "  )\n",
      ")\n"
     ]
    }
   ],
   "source": [
    "class VGG(nn.Module):\n",
    "    def __init__(self):\n",
    "        super(VGG, self).__init__()\n",
    "        self.features = nn.Sequential(\n",
    "            nn.Conv2d(3, 64, kernel_size=3, stride=1, padding=1),\n",
    "            nn.ReLU(inplace=True),\n",
    "            nn.Conv2d(64, 64, kernel_size=3, stride=1, padding=1),\n",
    "            nn.ReLU(inplace=True),\n",
    "            nn.MaxPool2d(kernel_size=2, stride=2),\n",
    "            nn.Conv2d(64, 128, kernel_size=3, stride=1, padding=1),\n",
    "            nn.ReLU(inplace=True),\n",
    "            nn.Conv2d(128, 128, kernel_size=3, stride=1, padding=1),\n",
    "            nn.ReLU(inplace=True),\n",
    "            nn.MaxPool2d(kernel_size=2, stride=2),\n",
    "            nn.Conv2d(128, 256, kernel_size=3, stride=1, padding=1),\n",
    "            nn.ReLU(inplace=True),\n",
    "            nn.Conv2d(256, 256, kernel_size=3, stride=1, padding=1),\n",
    "            nn.ReLU(inplace=True),\n",
    "            nn.Conv2d(256, 256, kernel_size=3, stride=1, padding=1),\n",
    "            nn.ReLU(inplace=True),\n",
    "            nn.MaxPool2d(kernel_size=2, stride=2),\n",
    "            nn.Conv2d(256, 512, kernel_size=3, stride=1, padding=1),\n",
    "            nn.ReLU(inplace=True),\n",
    "            nn.Conv2d(512, 512, kernel_size=3, stride=1, padding=1),\n",
    "            nn.ReLU(inplace=True),\n",
    "            nn.Conv2d(512, 512, kernel_size=3, stride=1, padding=1),\n",
    "            nn.ReLU(inplace=True),\n",
    "            nn.MaxPool2d(kernel_size=2, stride=2),\n",
    "            nn.Conv2d(512, 512, kernel_size=3, stride=1, padding=1),\n",
    "            nn.ReLU(inplace=True),\n",
    "            nn.Conv2d(512, 512, kernel_size=3, stride=1, padding=1),\n",
    "            nn.ReLU(inplace=True),\n",
    "            nn.Conv2d(512, 512, kernel_size=3, stride=1, padding=1),\n",
    "            nn.ReLU(inplace=True),\n",
    "            nn.MaxPool2d(kernel_size=2, stride=2),\n",
    "        )\n",
    "        self.avgpool = nn.AdaptiveAvgPool2d((7, 7))\n",
    "        self.classifier = nn.Sequential(\n",
    "            nn.Linear(25088, 4096),\n",
    "            nn.ReLU(inplace=True),\n",
    "            nn.Dropout(),\n",
    "            nn.Linear(4096, 4096),\n",
    "            nn.ReLU(inplace=True),\n",
    "            nn.Dropout(),\n",
    "            nn.Linear(4096, 10)\n",
    "        )\n",
    "\n",
    "    def forward(self, x):\n",
    "        x = self.features(x)\n",
    "        x = self.avgpool(x)\n",
    "        x = torch.flatten(x, 1)\n",
    "        x = self.classifier(x)\n",
    "        return x\n",
    "\n",
    "# Instantiate the VGG model\n",
    "vgg16 = VGG()\n",
    "\n",
    "# Print the model architecture\n",
    "print(vgg16)"
   ]
  },
  {
   "cell_type": "code",
   "execution_count": 3,
   "id": "ef4f3f3c-afa5-49f4-b7b4-b6455e600eac",
   "metadata": {
    "tags": []
   },
   "outputs": [],
   "source": [
    "def load_loaders(file_path):\n",
    "    with open(file_path, 'rb') as file:\n",
    "        loaders = pickle.load(file)\n",
    "    return loaders['train_loader'], loaders['val_loader'], loaders['test_loader']"
   ]
  },
  {
   "cell_type": "code",
   "execution_count": 4,
   "id": "2c6a4980-9c58-4e4e-ad4a-6852c2e61e22",
   "metadata": {
    "tags": []
   },
   "outputs": [],
   "source": [
    "train_loader, valid_loader, test_loader = load_loaders('data_loaders_final.pkl')\n"
   ]
  },
  {
   "cell_type": "code",
   "execution_count": 5,
   "id": "56c59e35-3e12-48a4-896b-2f9c4327a4ee",
   "metadata": {
    "tags": []
   },
   "outputs": [],
   "source": [
    "# Calculate the size of the subset (10% of the original dataset)\n",
    "subset_size = int(0.1 * len(train_loader.dataset))\n",
    "subset_indices = torch.randperm(len(train_loader.dataset))[:subset_size]\n",
    "# Create a subset using Subset class from torch.utils.data.dataset\n",
    "subset = Subset(train_loader.dataset, subset_indices)\n",
    "# Create a new DataLoader for the subset\n",
    "train_loader_SI = DataLoader(subset, batch_size=train_loader.batch_size, shuffle=True, num_workers=train_loader.num_workers)"
   ]
  },
  {
   "cell_type": "code",
   "execution_count": 6,
   "id": "31d18aac-9f51-48a8-b8a1-ba6302ef6b66",
   "metadata": {
    "tags": []
   },
   "outputs": [
    {
     "data": {
      "text/plain": [
       "VGG(\n",
       "  (features): Sequential(\n",
       "    (0): Conv2d(3, 64, kernel_size=(3, 3), stride=(1, 1), padding=(1, 1))\n",
       "    (1): ReLU(inplace=True)\n",
       "    (2): Conv2d(64, 64, kernel_size=(3, 3), stride=(1, 1), padding=(1, 1))\n",
       "    (3): ReLU(inplace=True)\n",
       "    (4): MaxPool2d(kernel_size=2, stride=2, padding=0, dilation=1, ceil_mode=False)\n",
       "    (5): Conv2d(64, 128, kernel_size=(3, 3), stride=(1, 1), padding=(1, 1))\n",
       "    (6): ReLU(inplace=True)\n",
       "    (7): Conv2d(128, 128, kernel_size=(3, 3), stride=(1, 1), padding=(1, 1))\n",
       "    (8): ReLU(inplace=True)\n",
       "    (9): MaxPool2d(kernel_size=2, stride=2, padding=0, dilation=1, ceil_mode=False)\n",
       "    (10): Conv2d(128, 256, kernel_size=(3, 3), stride=(1, 1), padding=(1, 1))\n",
       "    (11): ReLU(inplace=True)\n",
       "    (12): Conv2d(256, 256, kernel_size=(3, 3), stride=(1, 1), padding=(1, 1))\n",
       "    (13): ReLU(inplace=True)\n",
       "    (14): Conv2d(256, 256, kernel_size=(3, 3), stride=(1, 1), padding=(1, 1))\n",
       "    (15): ReLU(inplace=True)\n",
       "    (16): MaxPool2d(kernel_size=2, stride=2, padding=0, dilation=1, ceil_mode=False)\n",
       "    (17): Conv2d(256, 512, kernel_size=(3, 3), stride=(1, 1), padding=(1, 1))\n",
       "    (18): ReLU(inplace=True)\n",
       "    (19): Conv2d(512, 512, kernel_size=(3, 3), stride=(1, 1), padding=(1, 1))\n",
       "    (20): ReLU(inplace=True)\n",
       "    (21): Conv2d(512, 512, kernel_size=(3, 3), stride=(1, 1), padding=(1, 1))\n",
       "    (22): ReLU(inplace=True)\n",
       "    (23): MaxPool2d(kernel_size=2, stride=2, padding=0, dilation=1, ceil_mode=False)\n",
       "    (24): Conv2d(512, 512, kernel_size=(3, 3), stride=(1, 1), padding=(1, 1))\n",
       "    (25): ReLU(inplace=True)\n",
       "    (26): Conv2d(512, 512, kernel_size=(3, 3), stride=(1, 1), padding=(1, 1))\n",
       "    (27): ReLU(inplace=True)\n",
       "    (28): Conv2d(512, 512, kernel_size=(3, 3), stride=(1, 1), padding=(1, 1))\n",
       "    (29): ReLU(inplace=True)\n",
       "    (30): MaxPool2d(kernel_size=2, stride=2, padding=0, dilation=1, ceil_mode=False)\n",
       "  )\n",
       "  (avgpool): AdaptiveAvgPool2d(output_size=(7, 7))\n",
       "  (classifier): Sequential(\n",
       "    (0): Linear(in_features=25088, out_features=4096, bias=True)\n",
       "    (1): ReLU(inplace=True)\n",
       "    (2): Dropout(p=0.5, inplace=False)\n",
       "    (3): Linear(in_features=4096, out_features=4096, bias=True)\n",
       "    (4): ReLU(inplace=True)\n",
       "    (5): Dropout(p=0.5, inplace=False)\n",
       "    (6): Linear(in_features=4096, out_features=10, bias=True)\n",
       "  )\n",
       ")"
      ]
     },
     "execution_count": 6,
     "metadata": {},
     "output_type": "execute_result"
    }
   ],
   "source": [
    "# Instantiate and load the model\n",
    "model = VGG()  \n",
    "model.load_state_dict(torch.load('best_model_weights.pth'))\n",
    "model.to('cuda:1' if torch.cuda.is_available() else 'cpu')\n",
    "model.eval()"
   ]
  },
  {
   "cell_type": "markdown",
   "id": "a51710e4-241c-41c0-9359-5baed039e16d",
   "metadata": {
    "jp-MarkdownHeadingCollapsed": true,
    "tags": []
   },
   "source": [
    "# calculate SI and CSI for Train - Pretrained Model"
   ]
  },
  {
   "cell_type": "code",
   "execution_count": 11,
   "id": "56d0a950-b274-488e-b166-0d35b2a786cc",
   "metadata": {
    "tags": []
   },
   "outputs": [],
   "source": [
    "# Prepare storage for outputs and labels\n",
    "features_per_layer = [[] for _ in range(len(model.features))]\n",
    "labels_list = []\n",
    "\n",
    "# Function to attach hooks\n",
    "def get_layer_outputs(layer_idx):\n",
    "    def hook(module, input, output):\n",
    "        features_per_layer[layer_idx].append(output.detach())\n",
    "    return hook\n",
    "\n",
    "# Attach hooks to each layer\n",
    "for idx, layer in enumerate(model.features):\n",
    "    layer.register_forward_hook(get_layer_outputs(idx))"
   ]
  },
  {
   "cell_type": "code",
   "execution_count": 12,
   "id": "9fc627fb-5ea5-4e3d-ad2c-863ff04fbff8",
   "metadata": {
    "tags": []
   },
   "outputs": [
    {
     "name": "stderr",
     "output_type": "stream",
     "text": [
      "100%|██████████| 40/40 [00:01<00:00, 37.72it/s]\n"
     ]
    }
   ],
   "source": [
    "# Pass data through the model and collect layer outputs\n",
    "with torch.no_grad():\n",
    "    for inputs, targets in tqdm(train_loader_SI):\n",
    "        if torch.cuda.is_available():\n",
    "            inputs = inputs.to('cuda:1')\n",
    "\n",
    "        # Trigger the hooks and collect layer outputs\n",
    "        model(inputs)\n",
    "        labels_list.append(targets)\n",
    "\n",
    "        # Release GPU memory\n",
    "        del inputs\n",
    "        torch.cuda.empty_cache()\n",
    "\n",
    "# Post-process the data: Flatten and concatenate\n",
    "for idx, layer_features in enumerate(features_per_layer):\n",
    "    layer_features = torch.cat([f.view(f.size(0), -1) for f in layer_features])\n",
    "    features_per_layer[idx] = layer_features\n",
    "\n",
    "labels = torch.cat(labels_list)"
   ]
  },
  {
   "cell_type": "code",
   "execution_count": 13,
   "id": "3ba7d146-7b88-4fe0-b1f9-f791ac922f66",
   "metadata": {
    "tags": []
   },
   "outputs": [
    {
     "name": "stdout",
     "output_type": "stream",
     "text": [
      "Data has been normalized\n"
     ]
    },
    {
     "name": "stderr",
     "output_type": "stream",
     "text": [
      "Calculating SI: 100%|██████████| 5000/5000 [00:00<00:00, 34529.49it/s]\n"
     ]
    },
    {
     "name": "stdout",
     "output_type": "stream",
     "text": [
      "Data has been normalized\n"
     ]
    },
    {
     "name": "stderr",
     "output_type": "stream",
     "text": [
      "Calculating SI: 100%|██████████| 5000/5000 [00:00<00:00, 36082.77it/s]\n"
     ]
    },
    {
     "name": "stdout",
     "output_type": "stream",
     "text": [
      "Data has been normalized\n"
     ]
    },
    {
     "name": "stderr",
     "output_type": "stream",
     "text": [
      "Calculating SI: 100%|██████████| 5000/5000 [00:00<00:00, 36115.76it/s]\n"
     ]
    },
    {
     "name": "stdout",
     "output_type": "stream",
     "text": [
      "Data has been normalized\n"
     ]
    },
    {
     "name": "stderr",
     "output_type": "stream",
     "text": [
      "Calculating SI: 100%|██████████| 5000/5000 [00:00<00:00, 36178.56it/s]\n"
     ]
    },
    {
     "name": "stdout",
     "output_type": "stream",
     "text": [
      "Data has been normalized\n"
     ]
    },
    {
     "name": "stderr",
     "output_type": "stream",
     "text": [
      "Calculating SI: 100%|██████████| 5000/5000 [00:00<00:00, 36485.47it/s]\n"
     ]
    },
    {
     "name": "stdout",
     "output_type": "stream",
     "text": [
      "Data has been normalized\n"
     ]
    },
    {
     "name": "stderr",
     "output_type": "stream",
     "text": [
      "Calculating SI: 100%|██████████| 5000/5000 [00:00<00:00, 36712.60it/s]\n"
     ]
    },
    {
     "name": "stdout",
     "output_type": "stream",
     "text": [
      "Data has been normalized\n"
     ]
    },
    {
     "name": "stderr",
     "output_type": "stream",
     "text": [
      "Calculating SI: 100%|██████████| 5000/5000 [00:00<00:00, 36580.36it/s]\n"
     ]
    },
    {
     "name": "stdout",
     "output_type": "stream",
     "text": [
      "Data has been normalized\n"
     ]
    },
    {
     "name": "stderr",
     "output_type": "stream",
     "text": [
      "Calculating SI: 100%|██████████| 5000/5000 [00:00<00:00, 36759.38it/s]\n"
     ]
    },
    {
     "name": "stdout",
     "output_type": "stream",
     "text": [
      "Data has been normalized\n"
     ]
    },
    {
     "name": "stderr",
     "output_type": "stream",
     "text": [
      "Calculating SI: 100%|██████████| 5000/5000 [00:00<00:00, 36708.80it/s]\n"
     ]
    },
    {
     "name": "stdout",
     "output_type": "stream",
     "text": [
      "Data has been normalized\n"
     ]
    },
    {
     "name": "stderr",
     "output_type": "stream",
     "text": [
      "Calculating SI: 100%|██████████| 5000/5000 [00:00<00:00, 36786.98it/s]\n"
     ]
    },
    {
     "name": "stdout",
     "output_type": "stream",
     "text": [
      "Data has been normalized\n"
     ]
    },
    {
     "name": "stderr",
     "output_type": "stream",
     "text": [
      "Calculating SI: 100%|██████████| 5000/5000 [00:00<00:00, 36495.31it/s]\n"
     ]
    },
    {
     "name": "stdout",
     "output_type": "stream",
     "text": [
      "Data has been normalized\n"
     ]
    },
    {
     "name": "stderr",
     "output_type": "stream",
     "text": [
      "Calculating SI: 100%|██████████| 5000/5000 [00:00<00:00, 36547.91it/s]\n"
     ]
    },
    {
     "name": "stdout",
     "output_type": "stream",
     "text": [
      "Data has been normalized\n"
     ]
    },
    {
     "name": "stderr",
     "output_type": "stream",
     "text": [
      "Calculating SI: 100%|██████████| 5000/5000 [00:00<00:00, 36600.72it/s]\n"
     ]
    },
    {
     "name": "stdout",
     "output_type": "stream",
     "text": [
      "Data has been normalized\n"
     ]
    },
    {
     "name": "stderr",
     "output_type": "stream",
     "text": [
      "Calculating SI: 100%|██████████| 5000/5000 [00:00<00:00, 36523.98it/s]\n"
     ]
    },
    {
     "name": "stdout",
     "output_type": "stream",
     "text": [
      "Data has been normalized\n"
     ]
    },
    {
     "name": "stderr",
     "output_type": "stream",
     "text": [
      "Calculating SI: 100%|██████████| 5000/5000 [00:00<00:00, 36690.82it/s]\n"
     ]
    },
    {
     "name": "stdout",
     "output_type": "stream",
     "text": [
      "Data has been normalized\n"
     ]
    },
    {
     "name": "stderr",
     "output_type": "stream",
     "text": [
      "Calculating SI: 100%|██████████| 5000/5000 [00:00<00:00, 36559.19it/s]\n"
     ]
    },
    {
     "name": "stdout",
     "output_type": "stream",
     "text": [
      "Data has been normalized\n"
     ]
    },
    {
     "name": "stderr",
     "output_type": "stream",
     "text": [
      "Calculating SI: 100%|██████████| 5000/5000 [00:00<00:00, 36581.25it/s]\n"
     ]
    },
    {
     "name": "stdout",
     "output_type": "stream",
     "text": [
      "Data has been normalized\n"
     ]
    },
    {
     "name": "stderr",
     "output_type": "stream",
     "text": [
      "Calculating SI: 100%|██████████| 5000/5000 [00:00<00:00, 36497.03it/s]\n"
     ]
    },
    {
     "name": "stdout",
     "output_type": "stream",
     "text": [
      "Data has been normalized\n"
     ]
    },
    {
     "name": "stderr",
     "output_type": "stream",
     "text": [
      "Calculating SI: 100%|██████████| 5000/5000 [00:00<00:00, 36499.25it/s]\n"
     ]
    },
    {
     "name": "stdout",
     "output_type": "stream",
     "text": [
      "Data has been normalized\n"
     ]
    },
    {
     "name": "stderr",
     "output_type": "stream",
     "text": [
      "Calculating SI: 100%|██████████| 5000/5000 [00:00<00:00, 36582.15it/s]\n"
     ]
    },
    {
     "name": "stdout",
     "output_type": "stream",
     "text": [
      "Data has been normalized\n"
     ]
    },
    {
     "name": "stderr",
     "output_type": "stream",
     "text": [
      "Calculating SI: 100%|██████████| 5000/5000 [00:00<00:00, 36604.05it/s]\n"
     ]
    },
    {
     "name": "stdout",
     "output_type": "stream",
     "text": [
      "Data has been normalized\n"
     ]
    },
    {
     "name": "stderr",
     "output_type": "stream",
     "text": [
      "Calculating SI: 100%|██████████| 5000/5000 [00:00<00:00, 36534.54it/s]\n"
     ]
    },
    {
     "name": "stdout",
     "output_type": "stream",
     "text": [
      "Data has been normalized\n"
     ]
    },
    {
     "name": "stderr",
     "output_type": "stream",
     "text": [
      "Calculating SI: 100%|██████████| 5000/5000 [00:00<00:00, 36539.06it/s]\n"
     ]
    },
    {
     "name": "stdout",
     "output_type": "stream",
     "text": [
      "Data has been normalized\n"
     ]
    },
    {
     "name": "stderr",
     "output_type": "stream",
     "text": [
      "Calculating SI: 100%|██████████| 5000/5000 [00:00<00:00, 36627.32it/s]\n"
     ]
    },
    {
     "name": "stdout",
     "output_type": "stream",
     "text": [
      "Data has been normalized\n"
     ]
    },
    {
     "name": "stderr",
     "output_type": "stream",
     "text": [
      "Calculating SI: 100%|██████████| 5000/5000 [00:00<00:00, 36563.39it/s]\n"
     ]
    },
    {
     "name": "stdout",
     "output_type": "stream",
     "text": [
      "Data has been normalized\n"
     ]
    },
    {
     "name": "stderr",
     "output_type": "stream",
     "text": [
      "Calculating SI: 100%|██████████| 5000/5000 [00:00<00:00, 36607.31it/s]\n"
     ]
    },
    {
     "name": "stdout",
     "output_type": "stream",
     "text": [
      "Data has been normalized\n"
     ]
    },
    {
     "name": "stderr",
     "output_type": "stream",
     "text": [
      "Calculating SI: 100%|██████████| 5000/5000 [00:00<00:00, 36576.85it/s]\n"
     ]
    },
    {
     "name": "stdout",
     "output_type": "stream",
     "text": [
      "Data has been normalized\n"
     ]
    },
    {
     "name": "stderr",
     "output_type": "stream",
     "text": [
      "Calculating SI: 100%|██████████| 5000/5000 [00:00<00:00, 36580.61it/s]\n"
     ]
    },
    {
     "name": "stdout",
     "output_type": "stream",
     "text": [
      "Data has been normalized\n"
     ]
    },
    {
     "name": "stderr",
     "output_type": "stream",
     "text": [
      "Calculating SI: 100%|██████████| 5000/5000 [00:00<00:00, 36534.86it/s]\n"
     ]
    },
    {
     "name": "stdout",
     "output_type": "stream",
     "text": [
      "Data has been normalized\n"
     ]
    },
    {
     "name": "stderr",
     "output_type": "stream",
     "text": [
      "Calculating SI: 100%|██████████| 5000/5000 [00:00<00:00, 36624.76it/s]\n"
     ]
    },
    {
     "name": "stdout",
     "output_type": "stream",
     "text": [
      "Data has been normalized\n"
     ]
    },
    {
     "name": "stderr",
     "output_type": "stream",
     "text": [
      "Calculating SI: 100%|██████████| 5000/5000 [00:00<00:00, 36633.52it/s]\n"
     ]
    }
   ],
   "source": [
    "si_layer_train =[]\n",
    "for features in features_per_layer:\n",
    "  instance_disturbance = ARH_SeparationIndex(features, labels, normalize=True)\n",
    "  si = instance_disturbance.si()\n",
    "  si_layer_train.append(si)"
   ]
  },
  {
   "cell_type": "code",
   "execution_count": 14,
   "id": "3242a54f-545f-4492-ad2f-952ad7ea2a53",
   "metadata": {
    "tags": []
   },
   "outputs": [
    {
     "name": "stdout",
     "output_type": "stream",
     "text": [
      "31\n",
      "[0.1916, 0.1916, 0.1742, 0.1742, 0.2156, 0.24, 0.24, 0.2464, 0.2464, 0.3252, 0.4002, 0.4002, 0.456, 0.456, 0.4406, 0.4406, 0.6146, 0.81, 0.81, 0.9246, 0.9246, 0.9684, 0.9684, 0.9748, 0.9848, 0.9848, 0.9872, 0.9872, 0.9838, 0.9838, 0.9856]\n"
     ]
    }
   ],
   "source": [
    "print(len(si_layer_train))\n",
    "print(si_layer_train)"
   ]
  },
  {
   "cell_type": "code",
   "execution_count": 15,
   "id": "96c117ff-3104-4949-9d12-5a5f646dc711",
   "metadata": {
    "tags": []
   },
   "outputs": [
    {
     "data": {
      "image/png": "[encoded data removed]",
      "text/plain": [
       "<Figure size 640x480 with 1 Axes>"
      ]
     },
     "metadata": {},
     "output_type": "display_data"
    }
   ],
   "source": [
    "# plot si vs layer for Train\n",
    "plt.plot(si_layer_train)\n",
    "plt.xlabel('Layer')\n",
    "plt.ylabel('SI')\n",
    "plt.show()"
   ]
  },
  {
   "cell_type": "code",
   "execution_count": 16,
   "id": "6d09e475-0776-437f-9f85-3e172ea27abb",
   "metadata": {
    "tags": []
   },
   "outputs": [
    {
     "name": "stdout",
     "output_type": "stream",
     "text": [
      "Data has been normalized\n"
     ]
    },
    {
     "name": "stderr",
     "output_type": "stream",
     "text": [
      "Calculating Class Centers: 100%|██████████| 10/10 [00:00<00:00, 541.59it/s]\n"
     ]
    },
    {
     "name": "stdout",
     "output_type": "stream",
     "text": [
      "Data has been normalized\n"
     ]
    },
    {
     "name": "stderr",
     "output_type": "stream",
     "text": [
      "Calculating Class Centers: 100%|██████████| 10/10 [00:00<00:00, 1893.59it/s]\n"
     ]
    },
    {
     "name": "stdout",
     "output_type": "stream",
     "text": [
      "Data has been normalized\n"
     ]
    },
    {
     "name": "stderr",
     "output_type": "stream",
     "text": [
      "Calculating Class Centers: 100%|██████████| 10/10 [00:00<00:00, 1923.46it/s]\n"
     ]
    },
    {
     "name": "stdout",
     "output_type": "stream",
     "text": [
      "Data has been normalized\n"
     ]
    },
    {
     "name": "stderr",
     "output_type": "stream",
     "text": [
      "Calculating Class Centers: 100%|██████████| 10/10 [00:00<00:00, 1906.59it/s]\n"
     ]
    },
    {
     "name": "stdout",
     "output_type": "stream",
     "text": [
      "Data has been normalized\n"
     ]
    },
    {
     "name": "stderr",
     "output_type": "stream",
     "text": [
      "Calculating Class Centers: 100%|██████████| 10/10 [00:00<00:00, 4869.17it/s]\n"
     ]
    },
    {
     "name": "stdout",
     "output_type": "stream",
     "text": [
      "Data has been normalized\n"
     ]
    },
    {
     "name": "stderr",
     "output_type": "stream",
     "text": [
      "Calculating Class Centers: 100%|██████████| 10/10 [00:00<00:00, 3287.85it/s]\n"
     ]
    },
    {
     "name": "stdout",
     "output_type": "stream",
     "text": [
      "Data has been normalized\n"
     ]
    },
    {
     "name": "stderr",
     "output_type": "stream",
     "text": [
      "Calculating Class Centers: 100%|██████████| 10/10 [00:00<00:00, 3295.34it/s]\n"
     ]
    },
    {
     "name": "stdout",
     "output_type": "stream",
     "text": [
      "Data has been normalized\n"
     ]
    },
    {
     "name": "stderr",
     "output_type": "stream",
     "text": [
      "Calculating Class Centers: 100%|██████████| 10/10 [00:00<00:00, 3319.33it/s]\n"
     ]
    },
    {
     "name": "stdout",
     "output_type": "stream",
     "text": [
      "Data has been normalized\n"
     ]
    },
    {
     "name": "stderr",
     "output_type": "stream",
     "text": [
      "Calculating Class Centers: 100%|██████████| 10/10 [00:00<00:00, 3305.46it/s]\n"
     ]
    },
    {
     "name": "stdout",
     "output_type": "stream",
     "text": [
      "Data has been normalized\n"
     ]
    },
    {
     "name": "stderr",
     "output_type": "stream",
     "text": [
      "Calculating Class Centers: 100%|██████████| 10/10 [00:00<00:00, 6740.00it/s]\n"
     ]
    },
    {
     "name": "stdout",
     "output_type": "stream",
     "text": [
      "Data has been normalized\n"
     ]
    },
    {
     "name": "stderr",
     "output_type": "stream",
     "text": [
      "Calculating Class Centers: 100%|██████████| 10/10 [00:00<00:00, 4949.62it/s]\n"
     ]
    },
    {
     "name": "stdout",
     "output_type": "stream",
     "text": [
      "Data has been normalized\n"
     ]
    },
    {
     "name": "stderr",
     "output_type": "stream",
     "text": [
      "Calculating Class Centers: 100%|██████████| 10/10 [00:00<00:00, 4987.87it/s]\n"
     ]
    },
    {
     "name": "stdout",
     "output_type": "stream",
     "text": [
      "Data has been normalized\n"
     ]
    },
    {
     "name": "stderr",
     "output_type": "stream",
     "text": [
      "Calculating Class Centers: 100%|██████████| 10/10 [00:00<00:00, 5003.94it/s]\n"
     ]
    },
    {
     "name": "stdout",
     "output_type": "stream",
     "text": [
      "Data has been normalized\n"
     ]
    },
    {
     "name": "stderr",
     "output_type": "stream",
     "text": [
      "Calculating Class Centers: 100%|██████████| 10/10 [00:00<00:00, 4985.50it/s]\n"
     ]
    },
    {
     "name": "stdout",
     "output_type": "stream",
     "text": [
      "Data has been normalized\n"
     ]
    },
    {
     "name": "stderr",
     "output_type": "stream",
     "text": [
      "Calculating Class Centers: 100%|██████████| 10/10 [00:00<00:00, 4971.32it/s]\n"
     ]
    },
    {
     "name": "stdout",
     "output_type": "stream",
     "text": [
      "Data has been normalized\n"
     ]
    },
    {
     "name": "stderr",
     "output_type": "stream",
     "text": [
      "Calculating Class Centers: 100%|██████████| 10/10 [00:00<00:00, 5027.94it/s]"
     ]
    },
    {
     "name": "stdout",
     "output_type": "stream",
     "text": [
      "Data has been normalized\n"
     ]
    },
    {
     "name": "stderr",
     "output_type": "stream",
     "text": [
      "\n",
      "Calculating Class Centers: 100%|██████████| 10/10 [00:00<00:00, 9341.43it/s]\n"
     ]
    },
    {
     "name": "stdout",
     "output_type": "stream",
     "text": [
      "Data has been normalized\n"
     ]
    },
    {
     "name": "stderr",
     "output_type": "stream",
     "text": [
      "Calculating Class Centers: 100%|██████████| 10/10 [00:00<00:00, 7164.85it/s]"
     ]
    },
    {
     "name": "stdout",
     "output_type": "stream",
     "text": [
      "Data has been normalized\n"
     ]
    },
    {
     "name": "stderr",
     "output_type": "stream",
     "text": [
      "\n",
      "Calculating Class Centers: 100%|██████████| 10/10 [00:00<00:00, 6989.34it/s]\n"
     ]
    },
    {
     "name": "stdout",
     "output_type": "stream",
     "text": [
      "Data has been normalized\n"
     ]
    },
    {
     "name": "stderr",
     "output_type": "stream",
     "text": [
      "Calculating Class Centers: 100%|██████████| 10/10 [00:00<00:00, 6989.34it/s]\n"
     ]
    },
    {
     "name": "stdout",
     "output_type": "stream",
     "text": [
      "Data has been normalized\n"
     ]
    },
    {
     "name": "stderr",
     "output_type": "stream",
     "text": [
      "Calculating Class Centers: 100%|██████████| 10/10 [00:00<00:00, 6956.88it/s]\n"
     ]
    },
    {
     "name": "stdout",
     "output_type": "stream",
     "text": [
      "Data has been normalized\n"
     ]
    },
    {
     "name": "stderr",
     "output_type": "stream",
     "text": [
      "Calculating Class Centers: 100%|██████████| 10/10 [00:00<00:00, 7280.51it/s]\n"
     ]
    },
    {
     "name": "stdout",
     "output_type": "stream",
     "text": [
      "Data has been normalized\n"
     ]
    },
    {
     "name": "stderr",
     "output_type": "stream",
     "text": [
      "Calculating Class Centers: 100%|██████████| 10/10 [00:00<00:00, 7121.06it/s]\n"
     ]
    },
    {
     "name": "stdout",
     "output_type": "stream",
     "text": [
      "Data has been normalized\n"
     ]
    },
    {
     "name": "stderr",
     "output_type": "stream",
     "text": [
      "Calculating Class Centers: 100%|██████████| 10/10 [00:00<00:00, 9670.98it/s]\n"
     ]
    },
    {
     "name": "stdout",
     "output_type": "stream",
     "text": [
      "Data has been normalized\n"
     ]
    },
    {
     "name": "stderr",
     "output_type": "stream",
     "text": [
      "Calculating Class Centers: 100%|██████████| 10/10 [00:00<00:00, 9370.65it/s]"
     ]
    },
    {
     "name": "stdout",
     "output_type": "stream",
     "text": [
      "Data has been normalized\n"
     ]
    },
    {
     "name": "stderr",
     "output_type": "stream",
     "text": [
      "\n",
      "Calculating Class Centers: 100%|██████████| 10/10 [00:00<00:00, 10423.22it/s]\n"
     ]
    },
    {
     "name": "stdout",
     "output_type": "stream",
     "text": [
      "Data has been normalized\n"
     ]
    },
    {
     "name": "stderr",
     "output_type": "stream",
     "text": [
      "Calculating Class Centers: 100%|██████████| 10/10 [00:00<00:00, 9850.41it/s]\n"
     ]
    },
    {
     "name": "stdout",
     "output_type": "stream",
     "text": [
      "Data has been normalized\n"
     ]
    },
    {
     "name": "stderr",
     "output_type": "stream",
     "text": [
      "Calculating Class Centers: 100%|██████████| 10/10 [00:00<00:00, 10031.82it/s]\n"
     ]
    },
    {
     "name": "stdout",
     "output_type": "stream",
     "text": [
      "Data has been normalized\n"
     ]
    },
    {
     "name": "stderr",
     "output_type": "stream",
     "text": [
      "Calculating Class Centers: 100%|██████████| 10/10 [00:00<00:00, 9118.05it/s]\n"
     ]
    },
    {
     "name": "stdout",
     "output_type": "stream",
     "text": [
      "Data has been normalized\n"
     ]
    },
    {
     "name": "stderr",
     "output_type": "stream",
     "text": [
      "Calculating Class Centers: 100%|██████████| 10/10 [00:00<00:00, 9617.76it/s]\n"
     ]
    },
    {
     "name": "stdout",
     "output_type": "stream",
     "text": [
      "Data has been normalized\n"
     ]
    },
    {
     "name": "stderr",
     "output_type": "stream",
     "text": [
      "Calculating Class Centers: 100%|██████████| 10/10 [00:00<00:00, 10029.42it/s]\n"
     ]
    }
   ],
   "source": [
    "csi_layer_train =[]\n",
    "for features in features_per_layer:\n",
    "  instance_disturbance = ARH_SeparationIndex(features, labels, normalize=True)\n",
    "  csi = instance_disturbance.center_si()\n",
    "  csi_layer_train.append(csi)"
   ]
  },
  {
   "cell_type": "code",
   "execution_count": 18,
   "id": "a20546f5-4c60-4182-b527-f36945cca95e",
   "metadata": {
    "tags": []
   },
   "outputs": [
    {
     "name": "stdout",
     "output_type": "stream",
     "text": [
      "[0.3815999925136566, 0.3815999925136566, 0.45419999957084656, 0.45419999957084656, 0.4601999819278717, 0.5435999631881714, 0.5435999631881714, 0.6549999713897705, 0.6549999713897705, 0.6353999972343445, 0.6827999949455261, 0.6827999949455261, 0.7360000014305115, 0.7360000014305115, 0.8381999731063843, 0.8381999731063843, 0.8319999575614929, 0.8797999620437622, 0.8797999620437622, 0.9283999800682068, 0.9283999800682068, 0.9567999839782715, 0.9567999839782715, 0.9648000001907349, 0.9833999872207642, 0.9833999872207642, 0.986799955368042, 0.986799955368042, 0.9871999621391296, 0.9871999621391296, 0.9865999817848206]\n"
     ]
    }
   ],
   "source": [
    "print(csi_layer_train)"
   ]
  },
  {
   "cell_type": "code",
   "execution_count": 19,
   "id": "65037ded-11d4-45aa-882e-a4972b67656f",
   "metadata": {
    "tags": []
   },
   "outputs": [
    {
     "data": {
      "image/png": "[encoded data removed]",
      "text/plain": [
       "<Figure size 640x480 with 1 Axes>"
      ]
     },
     "metadata": {},
     "output_type": "display_data"
    }
   ],
   "source": [
    "# plot si vs layer for Train\n",
    "plt.plot(csi_layer_train)\n",
    "plt.xlabel('Layer')\n",
    "plt.ylabel('CSI')\n",
    "plt.show()"
   ]
  },
  {
   "cell_type": "markdown",
   "id": "70f31871-3fb3-4be6-9a3a-eae9a817bf69",
   "metadata": {
    "jp-MarkdownHeadingCollapsed": true,
    "tags": []
   },
   "source": [
    "# calculate SI and CSI for Test - Pretrained Model"
   ]
  },
  {
   "cell_type": "code",
   "execution_count": 8,
   "id": "89064154-cb81-47ee-a08e-a0321038e4c3",
   "metadata": {
    "tags": []
   },
   "outputs": [
    {
     "name": "stderr",
     "output_type": "stream",
     "text": [
      "100%|██████████| 71/71 [00:01<00:00, 47.03it/s]\n"
     ]
    }
   ],
   "source": [
    "# Prepare storage for outputs and labels\n",
    "features_per_layer = [[] for _ in range(len(model.features))]\n",
    "labels_list = []\n",
    "\n",
    "# Function to attach hooks\n",
    "def get_layer_outputs(layer_idx):\n",
    "    def hook(module, input, output):\n",
    "        features_per_layer[layer_idx].append(output.detach())\n",
    "    return hook\n",
    "\n",
    "# Attach hooks to each layer\n",
    "for idx, layer in enumerate(model.features):\n",
    "    layer.register_forward_hook(get_layer_outputs(idx))\n",
    "    \n",
    "    \n",
    "# Pass data through the model and collect layer outputs\n",
    "with torch.no_grad():\n",
    "    for inputs, targets in tqdm(test_loader):\n",
    "        if torch.cuda.is_available():\n",
    "            inputs = inputs.to('cuda:1')\n",
    "\n",
    "        # Trigger the hooks and collect layer outputs\n",
    "        model(inputs)\n",
    "        labels_list.append(targets)\n",
    "\n",
    "        # Release GPU memory\n",
    "        del inputs\n",
    "        torch.cuda.empty_cache()\n",
    "\n",
    "# Post-process the data: Flatten and concatenate\n",
    "for idx, layer_features in enumerate(features_per_layer):\n",
    "    layer_features = torch.cat([f.view(f.size(0), -1) for f in layer_features])\n",
    "    features_per_layer[idx] = layer_features\n",
    "\n",
    "labels = torch.cat(labels_list)    "
   ]
  },
  {
   "cell_type": "code",
   "execution_count": 10,
   "id": "7c1636b3-2292-4c9d-a400-63864ad877bb",
   "metadata": {
    "tags": []
   },
   "outputs": [
    {
     "name": "stdout",
     "output_type": "stream",
     "text": [
      "Data has been normalized\n"
     ]
    },
    {
     "name": "stderr",
     "output_type": "stream",
     "text": [
      "Calculating SI: 100%|██████████| 9000/9000 [00:00<00:00, 34378.60it/s]\n"
     ]
    },
    {
     "name": "stdout",
     "output_type": "stream",
     "text": [
      "Data has been normalized\n"
     ]
    },
    {
     "name": "stderr",
     "output_type": "stream",
     "text": [
      "Calculating SI: 100%|██████████| 9000/9000 [00:00<00:00, 33936.05it/s]\n"
     ]
    },
    {
     "name": "stdout",
     "output_type": "stream",
     "text": [
      "Data has been normalized\n"
     ]
    },
    {
     "name": "stderr",
     "output_type": "stream",
     "text": [
      "Calculating SI: 100%|██████████| 9000/9000 [00:00<00:00, 37070.71it/s]\n"
     ]
    },
    {
     "name": "stdout",
     "output_type": "stream",
     "text": [
      "Data has been normalized\n"
     ]
    },
    {
     "name": "stderr",
     "output_type": "stream",
     "text": [
      "Calculating SI: 100%|██████████| 9000/9000 [00:00<00:00, 32439.86it/s]\n"
     ]
    },
    {
     "name": "stdout",
     "output_type": "stream",
     "text": [
      "Data has been normalized\n"
     ]
    },
    {
     "name": "stderr",
     "output_type": "stream",
     "text": [
      "Calculating SI: 100%|██████████| 9000/9000 [00:00<00:00, 32047.73it/s]\n"
     ]
    },
    {
     "name": "stdout",
     "output_type": "stream",
     "text": [
      "Data has been normalized\n"
     ]
    },
    {
     "name": "stderr",
     "output_type": "stream",
     "text": [
      "Calculating SI: 100%|██████████| 9000/9000 [00:00<00:00, 34356.95it/s]\n"
     ]
    },
    {
     "name": "stdout",
     "output_type": "stream",
     "text": [
      "Data has been normalized\n"
     ]
    },
    {
     "name": "stderr",
     "output_type": "stream",
     "text": [
      "Calculating SI: 100%|██████████| 9000/9000 [00:00<00:00, 33763.86it/s]\n"
     ]
    },
    {
     "name": "stdout",
     "output_type": "stream",
     "text": [
      "Data has been normalized\n"
     ]
    },
    {
     "name": "stderr",
     "output_type": "stream",
     "text": [
      "Calculating SI: 100%|██████████| 9000/9000 [00:00<00:00, 34188.61it/s]\n"
     ]
    },
    {
     "name": "stdout",
     "output_type": "stream",
     "text": [
      "Data has been normalized\n"
     ]
    },
    {
     "name": "stderr",
     "output_type": "stream",
     "text": [
      "Calculating SI: 100%|██████████| 9000/9000 [00:00<00:00, 34484.66it/s]\n"
     ]
    },
    {
     "name": "stdout",
     "output_type": "stream",
     "text": [
      "Data has been normalized\n"
     ]
    },
    {
     "name": "stderr",
     "output_type": "stream",
     "text": [
      "Calculating SI: 100%|██████████| 9000/9000 [00:00<00:00, 34059.20it/s]\n"
     ]
    },
    {
     "name": "stdout",
     "output_type": "stream",
     "text": [
      "Data has been normalized\n"
     ]
    },
    {
     "name": "stderr",
     "output_type": "stream",
     "text": [
      "Calculating SI: 100%|██████████| 9000/9000 [00:00<00:00, 34451.24it/s]\n"
     ]
    },
    {
     "name": "stdout",
     "output_type": "stream",
     "text": [
      "Data has been normalized\n"
     ]
    },
    {
     "name": "stderr",
     "output_type": "stream",
     "text": [
      "Calculating SI: 100%|██████████| 9000/9000 [00:00<00:00, 35229.71it/s]\n"
     ]
    },
    {
     "name": "stdout",
     "output_type": "stream",
     "text": [
      "Data has been normalized\n"
     ]
    },
    {
     "name": "stderr",
     "output_type": "stream",
     "text": [
      "Calculating SI: 100%|██████████| 9000/9000 [00:00<00:00, 32091.35it/s]\n"
     ]
    },
    {
     "name": "stdout",
     "output_type": "stream",
     "text": [
      "Data has been normalized\n"
     ]
    },
    {
     "name": "stderr",
     "output_type": "stream",
     "text": [
      "Calculating SI: 100%|██████████| 9000/9000 [00:00<00:00, 34904.86it/s]\n"
     ]
    },
    {
     "name": "stdout",
     "output_type": "stream",
     "text": [
      "Data has been normalized\n"
     ]
    },
    {
     "name": "stderr",
     "output_type": "stream",
     "text": [
      "Calculating SI: 100%|██████████| 9000/9000 [00:00<00:00, 33154.19it/s]\n"
     ]
    },
    {
     "name": "stdout",
     "output_type": "stream",
     "text": [
      "Data has been normalized\n"
     ]
    },
    {
     "name": "stderr",
     "output_type": "stream",
     "text": [
      "Calculating SI: 100%|██████████| 9000/9000 [00:00<00:00, 32606.05it/s]\n"
     ]
    },
    {
     "name": "stdout",
     "output_type": "stream",
     "text": [
      "Data has been normalized\n"
     ]
    },
    {
     "name": "stderr",
     "output_type": "stream",
     "text": [
      "Calculating SI: 100%|██████████| 9000/9000 [00:00<00:00, 32966.28it/s]\n"
     ]
    },
    {
     "name": "stdout",
     "output_type": "stream",
     "text": [
      "Data has been normalized\n"
     ]
    },
    {
     "name": "stderr",
     "output_type": "stream",
     "text": [
      "Calculating SI: 100%|██████████| 9000/9000 [00:00<00:00, 34229.72it/s]\n"
     ]
    },
    {
     "name": "stdout",
     "output_type": "stream",
     "text": [
      "Data has been normalized\n"
     ]
    },
    {
     "name": "stderr",
     "output_type": "stream",
     "text": [
      "Calculating SI: 100%|██████████| 9000/9000 [00:00<00:00, 32617.74it/s]\n"
     ]
    },
    {
     "name": "stdout",
     "output_type": "stream",
     "text": [
      "Data has been normalized\n"
     ]
    },
    {
     "name": "stderr",
     "output_type": "stream",
     "text": [
      "Calculating SI: 100%|██████████| 9000/9000 [00:00<00:00, 33472.05it/s]\n"
     ]
    },
    {
     "name": "stdout",
     "output_type": "stream",
     "text": [
      "Data has been normalized\n"
     ]
    },
    {
     "name": "stderr",
     "output_type": "stream",
     "text": [
      "Calculating SI: 100%|██████████| 9000/9000 [00:00<00:00, 34486.61it/s]\n"
     ]
    },
    {
     "name": "stdout",
     "output_type": "stream",
     "text": [
      "Data has been normalized\n"
     ]
    },
    {
     "name": "stderr",
     "output_type": "stream",
     "text": [
      "Calculating SI: 100%|██████████| 9000/9000 [00:00<00:00, 33711.48it/s]\n"
     ]
    },
    {
     "name": "stdout",
     "output_type": "stream",
     "text": [
      "Data has been normalized\n"
     ]
    },
    {
     "name": "stderr",
     "output_type": "stream",
     "text": [
      "Calculating SI: 100%|██████████| 9000/9000 [00:00<00:00, 32714.27it/s]\n"
     ]
    },
    {
     "name": "stdout",
     "output_type": "stream",
     "text": [
      "Data has been normalized\n"
     ]
    },
    {
     "name": "stderr",
     "output_type": "stream",
     "text": [
      "Calculating SI: 100%|██████████| 9000/9000 [00:00<00:00, 33513.20it/s]\n"
     ]
    },
    {
     "name": "stdout",
     "output_type": "stream",
     "text": [
      "Data has been normalized\n"
     ]
    },
    {
     "name": "stderr",
     "output_type": "stream",
     "text": [
      "Calculating SI: 100%|██████████| 9000/9000 [00:00<00:00, 34144.20it/s]\n"
     ]
    },
    {
     "name": "stdout",
     "output_type": "stream",
     "text": [
      "Data has been normalized\n"
     ]
    },
    {
     "name": "stderr",
     "output_type": "stream",
     "text": [
      "Calculating SI: 100%|██████████| 9000/9000 [00:00<00:00, 33970.07it/s]\n"
     ]
    },
    {
     "name": "stdout",
     "output_type": "stream",
     "text": [
      "Data has been normalized\n"
     ]
    },
    {
     "name": "stderr",
     "output_type": "stream",
     "text": [
      "Calculating SI: 100%|██████████| 9000/9000 [00:00<00:00, 34375.19it/s]\n"
     ]
    },
    {
     "name": "stdout",
     "output_type": "stream",
     "text": [
      "Data has been normalized\n"
     ]
    },
    {
     "name": "stderr",
     "output_type": "stream",
     "text": [
      "Calculating SI: 100%|██████████| 9000/9000 [00:00<00:00, 33895.13it/s]\n"
     ]
    },
    {
     "name": "stdout",
     "output_type": "stream",
     "text": [
      "Data has been normalized\n"
     ]
    },
    {
     "name": "stderr",
     "output_type": "stream",
     "text": [
      "Calculating SI: 100%|██████████| 9000/9000 [00:00<00:00, 36030.34it/s]\n"
     ]
    },
    {
     "name": "stdout",
     "output_type": "stream",
     "text": [
      "Data has been normalized\n"
     ]
    },
    {
     "name": "stderr",
     "output_type": "stream",
     "text": [
      "Calculating SI: 100%|██████████| 9000/9000 [00:00<00:00, 36905.92it/s]\n"
     ]
    },
    {
     "name": "stdout",
     "output_type": "stream",
     "text": [
      "Data has been normalized\n"
     ]
    },
    {
     "name": "stderr",
     "output_type": "stream",
     "text": [
      "Calculating SI: 100%|██████████| 9000/9000 [00:00<00:00, 36828.83it/s]\n"
     ]
    }
   ],
   "source": [
    "si_layer_test =[]\n",
    "for features in features_per_layer:\n",
    "  instance_disturbance = ARH_SeparationIndex(features, labels, normalize=True)\n",
    "  si = instance_disturbance.si()\n",
    "  si_layer_test.append(si)"
   ]
  },
  {
   "cell_type": "code",
   "execution_count": 11,
   "id": "3ede7d5b-696c-4ad0-b1a8-7eb4fa524c7b",
   "metadata": {
    "tags": []
   },
   "outputs": [
    {
     "name": "stdout",
     "output_type": "stream",
     "text": [
      "31\n",
      "[0.2378888888888889, 0.2378888888888889, 0.2238888888888889, 0.2238888888888889, 0.3055555555555556, 0.333, 0.333, 0.32822222222222225, 0.32822222222222225, 0.4438888888888889, 0.5058888888888889, 0.5058888888888889, 0.5657777777777778, 0.5657777777777778, 0.48644444444444446, 0.48644444444444446, 0.6308888888888889, 0.7812222222222223, 0.7812222222222223, 0.8407777777777777, 0.8407777777777777, 0.8542222222222222, 0.8542222222222222, 0.8562222222222222, 0.8623333333333333, 0.8623333333333333, 0.859, 0.859, 0.8556666666666667, 0.8556666666666667, 0.8616666666666667]\n"
     ]
    }
   ],
   "source": [
    "print(len(si_layer_test))\n",
    "print(si_layer_test)"
   ]
  },
  {
   "cell_type": "code",
   "execution_count": 13,
   "id": "cd843441-788d-488a-adab-f6eab9ea2515",
   "metadata": {
    "tags": []
   },
   "outputs": [
    {
     "name": "stdout",
     "output_type": "stream",
     "text": [
      "Data has been normalized\n"
     ]
    },
    {
     "name": "stderr",
     "output_type": "stream",
     "text": [
      "Calculating Class Centers: 100%|██████████| 10/10 [00:00<00:00, 1155.77it/s]\n"
     ]
    },
    {
     "name": "stdout",
     "output_type": "stream",
     "text": [
      "Data has been normalized\n"
     ]
    },
    {
     "name": "stderr",
     "output_type": "stream",
     "text": [
      "Calculating Class Centers: 100%|██████████| 10/10 [00:00<00:00, 1045.49it/s]\n"
     ]
    },
    {
     "name": "stdout",
     "output_type": "stream",
     "text": [
      "Data has been normalized\n"
     ]
    },
    {
     "name": "stderr",
     "output_type": "stream",
     "text": [
      "Calculating Class Centers: 100%|██████████| 10/10 [00:00<00:00, 1012.14it/s]\n"
     ]
    },
    {
     "name": "stdout",
     "output_type": "stream",
     "text": [
      "Data has been normalized\n"
     ]
    },
    {
     "name": "stderr",
     "output_type": "stream",
     "text": [
      "Calculating Class Centers: 100%|██████████| 10/10 [00:00<00:00, 1070.99it/s]\n"
     ]
    },
    {
     "name": "stdout",
     "output_type": "stream",
     "text": [
      "Data has been normalized\n"
     ]
    },
    {
     "name": "stderr",
     "output_type": "stream",
     "text": [
      "Calculating Class Centers: 100%|██████████| 10/10 [00:00<00:00, 3380.05it/s]\n"
     ]
    },
    {
     "name": "stdout",
     "output_type": "stream",
     "text": [
      "Data has been normalized\n"
     ]
    },
    {
     "name": "stderr",
     "output_type": "stream",
     "text": [
      "Calculating Class Centers: 100%|██████████| 10/10 [00:00<00:00, 1888.82it/s]\n"
     ]
    },
    {
     "name": "stdout",
     "output_type": "stream",
     "text": [
      "Data has been normalized\n"
     ]
    },
    {
     "name": "stderr",
     "output_type": "stream",
     "text": [
      "Calculating Class Centers: 100%|██████████| 10/10 [00:00<00:00, 2078.96it/s]\n"
     ]
    },
    {
     "name": "stdout",
     "output_type": "stream",
     "text": [
      "Data has been normalized\n"
     ]
    },
    {
     "name": "stderr",
     "output_type": "stream",
     "text": [
      "Calculating Class Centers: 100%|██████████| 10/10 [00:00<00:00, 2094.95it/s]\n"
     ]
    },
    {
     "name": "stdout",
     "output_type": "stream",
     "text": [
      "Data has been normalized\n"
     ]
    },
    {
     "name": "stderr",
     "output_type": "stream",
     "text": [
      "Calculating Class Centers: 100%|██████████| 10/10 [00:00<00:00, 2033.01it/s]\n"
     ]
    },
    {
     "name": "stdout",
     "output_type": "stream",
     "text": [
      "Data has been normalized\n"
     ]
    },
    {
     "name": "stderr",
     "output_type": "stream",
     "text": [
      "Calculating Class Centers: 100%|██████████| 10/10 [00:00<00:00, 4771.68it/s]\n"
     ]
    },
    {
     "name": "stdout",
     "output_type": "stream",
     "text": [
      "Data has been normalized\n"
     ]
    },
    {
     "name": "stderr",
     "output_type": "stream",
     "text": [
      "Calculating Class Centers: 100%|██████████| 10/10 [00:00<00:00, 3423.36it/s]\n"
     ]
    },
    {
     "name": "stdout",
     "output_type": "stream",
     "text": [
      "Data has been normalized\n"
     ]
    },
    {
     "name": "stderr",
     "output_type": "stream",
     "text": [
      "Calculating Class Centers: 100%|██████████| 10/10 [00:00<00:00, 3528.78it/s]\n"
     ]
    },
    {
     "name": "stdout",
     "output_type": "stream",
     "text": [
      "Data has been normalized\n"
     ]
    },
    {
     "name": "stderr",
     "output_type": "stream",
     "text": [
      "Calculating Class Centers: 100%|██████████| 10/10 [00:00<00:00, 2955.82it/s]\n"
     ]
    },
    {
     "name": "stdout",
     "output_type": "stream",
     "text": [
      "Data has been normalized\n"
     ]
    },
    {
     "name": "stderr",
     "output_type": "stream",
     "text": [
      "Calculating Class Centers: 100%|██████████| 10/10 [00:00<00:00, 2899.82it/s]\n"
     ]
    },
    {
     "name": "stdout",
     "output_type": "stream",
     "text": [
      "Data has been normalized\n"
     ]
    },
    {
     "name": "stderr",
     "output_type": "stream",
     "text": [
      "Calculating Class Centers: 100%|██████████| 10/10 [00:00<00:00, 2983.57it/s]\n"
     ]
    },
    {
     "name": "stdout",
     "output_type": "stream",
     "text": [
      "Data has been normalized\n"
     ]
    },
    {
     "name": "stderr",
     "output_type": "stream",
     "text": [
      "Calculating Class Centers: 100%|██████████| 10/10 [00:00<00:00, 3503.43it/s]\n"
     ]
    },
    {
     "name": "stdout",
     "output_type": "stream",
     "text": [
      "Data has been normalized\n"
     ]
    },
    {
     "name": "stderr",
     "output_type": "stream",
     "text": [
      "Calculating Class Centers: 100%|██████████| 10/10 [00:00<00:00, 6473.69it/s]\n"
     ]
    },
    {
     "name": "stdout",
     "output_type": "stream",
     "text": [
      "Data has been normalized\n"
     ]
    },
    {
     "name": "stderr",
     "output_type": "stream",
     "text": [
      "Calculating Class Centers: 100%|██████████| 10/10 [00:00<00:00, 4329.38it/s]\n"
     ]
    },
    {
     "name": "stdout",
     "output_type": "stream",
     "text": [
      "Data has been normalized\n"
     ]
    },
    {
     "name": "stderr",
     "output_type": "stream",
     "text": [
      "Calculating Class Centers: 100%|██████████| 10/10 [00:00<00:00, 4889.04it/s]\n"
     ]
    },
    {
     "name": "stdout",
     "output_type": "stream",
     "text": [
      "Data has been normalized\n"
     ]
    },
    {
     "name": "stderr",
     "output_type": "stream",
     "text": [
      "Calculating Class Centers: 100%|██████████| 10/10 [00:00<00:00, 5192.90it/s]\n"
     ]
    },
    {
     "name": "stdout",
     "output_type": "stream",
     "text": [
      "Data has been normalized\n"
     ]
    },
    {
     "name": "stderr",
     "output_type": "stream",
     "text": [
      "Calculating Class Centers: 100%|██████████| 10/10 [00:00<00:00, 5063.75it/s]\n"
     ]
    },
    {
     "name": "stdout",
     "output_type": "stream",
     "text": [
      "Data has been normalized\n"
     ]
    },
    {
     "name": "stderr",
     "output_type": "stream",
     "text": [
      "Calculating Class Centers: 100%|██████████| 10/10 [00:00<00:00, 5143.86it/s]\n"
     ]
    },
    {
     "name": "stdout",
     "output_type": "stream",
     "text": [
      "Data has been normalized\n"
     ]
    },
    {
     "name": "stderr",
     "output_type": "stream",
     "text": [
      "Calculating Class Centers: 100%|██████████| 10/10 [00:00<00:00, 5048.51it/s]\n"
     ]
    },
    {
     "name": "stdout",
     "output_type": "stream",
     "text": [
      "Data has been normalized\n"
     ]
    },
    {
     "name": "stderr",
     "output_type": "stream",
     "text": [
      "Calculating Class Centers: 100%|██████████| 10/10 [00:00<00:00, 5818.15it/s]\n"
     ]
    },
    {
     "name": "stdout",
     "output_type": "stream",
     "text": [
      "Data has been normalized\n"
     ]
    },
    {
     "name": "stderr",
     "output_type": "stream",
     "text": [
      "Calculating Class Centers: 100%|██████████| 10/10 [00:00<00:00, 8059.77it/s]"
     ]
    },
    {
     "name": "stdout",
     "output_type": "stream",
     "text": [
      "Data has been normalized\n"
     ]
    },
    {
     "name": "stderr",
     "output_type": "stream",
     "text": [
      "\n",
      "Calculating Class Centers: 100%|██████████| 10/10 [00:00<00:00, 8164.89it/s]\n"
     ]
    },
    {
     "name": "stdout",
     "output_type": "stream",
     "text": [
      "Data has been normalized\n"
     ]
    },
    {
     "name": "stderr",
     "output_type": "stream",
     "text": [
      "Calculating Class Centers: 100%|██████████| 10/10 [00:00<00:00, 7714.37it/s]\n"
     ]
    },
    {
     "name": "stdout",
     "output_type": "stream",
     "text": [
      "Data has been normalized\n"
     ]
    },
    {
     "name": "stderr",
     "output_type": "stream",
     "text": [
      "Calculating Class Centers: 100%|██████████| 10/10 [00:00<00:00, 7918.26it/s]\n"
     ]
    },
    {
     "name": "stdout",
     "output_type": "stream",
     "text": [
      "Data has been normalized\n"
     ]
    },
    {
     "name": "stderr",
     "output_type": "stream",
     "text": [
      "Calculating Class Centers: 100%|██████████| 10/10 [00:00<00:00, 7064.69it/s]\n"
     ]
    },
    {
     "name": "stdout",
     "output_type": "stream",
     "text": [
      "Data has been normalized\n"
     ]
    },
    {
     "name": "stderr",
     "output_type": "stream",
     "text": [
      "Calculating Class Centers: 100%|██████████| 10/10 [00:00<00:00, 5408.52it/s]\n"
     ]
    },
    {
     "name": "stdout",
     "output_type": "stream",
     "text": [
      "Data has been normalized\n"
     ]
    },
    {
     "name": "stderr",
     "output_type": "stream",
     "text": [
      "Calculating Class Centers: 100%|██████████| 10/10 [00:00<00:00, 8725.41it/s]\n"
     ]
    }
   ],
   "source": [
    "csi_layer_test =[]\n",
    "for features in features_per_layer:\n",
    "  instance_disturbance = ARH_SeparationIndex(features, labels, normalize=True)\n",
    "  csi = instance_disturbance.center_si()\n",
    "  csi_layer_test.append(csi)"
   ]
  },
  {
   "cell_type": "code",
   "execution_count": 14,
   "id": "d616e4b0-1ba9-40be-8267-c37309b3f923",
   "metadata": {
    "tags": []
   },
   "outputs": [
    {
     "name": "stdout",
     "output_type": "stream",
     "text": [
      "31\n",
      "[0.3921111226081848, 0.3921111226081848, 0.45866668224334717, 0.45866668224334717, 0.49211111664772034, 0.5580000281333923, 0.5580000281333923, 0.6326666474342346, 0.6326666474342346, 0.6334444284439087, 0.6836666464805603, 0.6836666464805603, 0.7304444313049316, 0.7304444313049316, 0.7937777638435364, 0.7937777638435364, 0.7994444370269775, 0.8387777805328369, 0.8387777805328369, 0.8665555715560913, 0.8665555715560913, 0.8795555830001831, 0.8795555830001831, 0.8793333172798157, 0.8948888778686523, 0.8948888778686523, 0.8989999890327454, 0.8989999890327454, 0.8986666798591614, 0.8986666798591614, 0.8985555768013]\n"
     ]
    }
   ],
   "source": [
    "print(len(csi_layer_test))\n",
    "print(csi_layer_test)"
   ]
  },
  {
   "cell_type": "code",
   "execution_count": 18,
   "id": "240d1b97-75bd-422b-b8ca-3631dba49829",
   "metadata": {
    "tags": []
   },
   "outputs": [
    {
     "data": {
      "image/png": "[encoded data removed]",
      "text/plain": [
       "<Figure size 640x480 with 1 Axes>"
      ]
     },
     "metadata": {},
     "output_type": "display_data"
    }
   ],
   "source": [
    "# plot si vs layer for Test\n",
    "plt.plot(si_layer_test)\n",
    "plt.xlabel('Layer')\n",
    "plt.ylabel('SI')\n",
    "plt.show()"
   ]
  },
  {
   "cell_type": "code",
   "execution_count": 19,
   "id": "d27c8a0e-bb2c-4bc4-89b0-598869f676f3",
   "metadata": {
    "tags": []
   },
   "outputs": [
    {
     "data": {
      "image/png": "[encoded data removed]",
      "text/plain": [
       "<Figure size 640x480 with 1 Axes>"
      ]
     },
     "metadata": {},
     "output_type": "display_data"
    }
   ],
   "source": [
    "# plot si vs layer for Test\n",
    "plt.plot(csi_layer_test)\n",
    "plt.xlabel('Layer')\n",
    "plt.ylabel('CSI')\n",
    "plt.show()"
   ]
  },
  {
   "cell_type": "markdown",
   "id": "886e92cb-e566-46a5-ad97-ba2be6bcf1bd",
   "metadata": {},
   "source": [
    "# Compress Network"
   ]
  },
  {
   "cell_type": "code",
   "execution_count": 7,
   "id": "82f58b4c-bcb6-49b2-9795-a060beb7ae78",
   "metadata": {
    "tags": []
   },
   "outputs": [
    {
     "data": {
      "text/plain": [
       "VGG(\n",
       "  (features): Sequential(\n",
       "    (0): Conv2d(3, 64, kernel_size=(3, 3), stride=(1, 1), padding=(1, 1))\n",
       "    (1): ReLU(inplace=True)\n",
       "    (2): Conv2d(64, 64, kernel_size=(3, 3), stride=(1, 1), padding=(1, 1))\n",
       "    (3): ReLU(inplace=True)\n",
       "    (4): MaxPool2d(kernel_size=2, stride=2, padding=0, dilation=1, ceil_mode=False)\n",
       "    (5): Conv2d(64, 128, kernel_size=(3, 3), stride=(1, 1), padding=(1, 1))\n",
       "    (6): ReLU(inplace=True)\n",
       "    (7): Conv2d(128, 128, kernel_size=(3, 3), stride=(1, 1), padding=(1, 1))\n",
       "    (8): ReLU(inplace=True)\n",
       "    (9): MaxPool2d(kernel_size=2, stride=2, padding=0, dilation=1, ceil_mode=False)\n",
       "    (10): Conv2d(128, 256, kernel_size=(3, 3), stride=(1, 1), padding=(1, 1))\n",
       "    (11): ReLU(inplace=True)\n",
       "    (12): Conv2d(256, 256, kernel_size=(3, 3), stride=(1, 1), padding=(1, 1))\n",
       "    (13): ReLU(inplace=True)\n",
       "    (14): Conv2d(256, 256, kernel_size=(3, 3), stride=(1, 1), padding=(1, 1))\n",
       "    (15): ReLU(inplace=True)\n",
       "    (16): MaxPool2d(kernel_size=2, stride=2, padding=0, dilation=1, ceil_mode=False)\n",
       "    (17): Conv2d(256, 512, kernel_size=(3, 3), stride=(1, 1), padding=(1, 1))\n",
       "    (18): ReLU(inplace=True)\n",
       "    (19): Conv2d(512, 512, kernel_size=(3, 3), stride=(1, 1), padding=(1, 1))\n",
       "    (20): ReLU(inplace=True)\n",
       "    (21): Conv2d(512, 512, kernel_size=(3, 3), stride=(1, 1), padding=(1, 1))\n",
       "    (22): ReLU(inplace=True)\n",
       "    (23): MaxPool2d(kernel_size=2, stride=2, padding=0, dilation=1, ceil_mode=False)\n",
       "  )\n",
       "  (avgpool): AdaptiveAvgPool2d(output_size=(7, 7))\n",
       "  (classifier): Sequential(\n",
       "    (0): Linear(in_features=25088, out_features=4096, bias=True)\n",
       "    (1): ReLU(inplace=True)\n",
       "    (2): Dropout(p=0.5, inplace=False)\n",
       "    (3): Linear(in_features=4096, out_features=4096, bias=True)\n",
       "    (4): ReLU(inplace=True)\n",
       "    (5): Dropout(p=0.5, inplace=False)\n",
       "    (6): Linear(in_features=4096, out_features=10, bias=True)\n",
       "  )\n",
       ")"
      ]
     },
     "execution_count": 7,
     "metadata": {},
     "output_type": "execute_result"
    }
   ],
   "source": [
    "# Redefine the features module up to the (23)\n",
    "model.features = torch.nn.Sequential(*list(model.features.children())[:24])\n",
    "model.eval()"
   ]
  },
  {
   "cell_type": "code",
   "execution_count": 8,
   "id": "0c58fe46-967e-43f2-a7f4-47ba41709e19",
   "metadata": {
    "tags": []
   },
   "outputs": [
    {
     "name": "stderr",
     "output_type": "stream",
     "text": [
      "100%|██████████| 40/40 [00:00<00:00, 41.06it/s]\n"
     ]
    }
   ],
   "source": [
    "features = []\n",
    "labels = []\n",
    "\n",
    "with torch.no_grad():\n",
    "    for inputs, targets  in tqdm(train_loader_SI):\n",
    "        if torch.cuda.is_available():\n",
    "            inputs = inputs.to('cuda:1')\n",
    "        # Forward pass through the model.features\n",
    "        features_batch = model.features(inputs)\n",
    "        #features_batch = model.avgpool(features_batch)\n",
    "        features.append(features_batch)\n",
    "        labels.append(targets)\n",
    "        # Release GPU memory\n",
    "        del inputs\n",
    "        torch.cuda.empty_cache()\n",
    "        \n",
    "# Stack and reshape the extracted features\n",
    "features = torch.cat(features)\n",
    "features = features.view(features.size(0), -1)\n",
    "labels = torch.cat(labels)   \n",
    "\n",
    "labels=labels.unsqueeze(1)  # Make it a 2D tensor"
   ]
  },
  {
   "cell_type": "code",
   "execution_count": 9,
   "id": "a8e27e5d-2788-4f61-b4bf-a6630a826ae6",
   "metadata": {
    "tags": []
   },
   "outputs": [
    {
     "data": {
      "text/plain": [
       "torch.Size([5000, 2048])"
      ]
     },
     "execution_count": 9,
     "metadata": {},
     "output_type": "execute_result"
    }
   ],
   "source": [
    "features.size()"
   ]
  },
  {
   "cell_type": "code",
   "execution_count": 10,
   "id": "651e2cbc-913e-418d-a1d0-d1d293f8f559",
   "metadata": {
    "tags": []
   },
   "outputs": [
    {
     "name": "stdout",
     "output_type": "stream",
     "text": [
      "Data has been normalized\n"
     ]
    }
   ],
   "source": [
    "instance_disturbance = ARH_SeparationIndex(features, labels, normalize=True)"
   ]
  },
  {
   "cell_type": "code",
   "execution_count": 11,
   "id": "8da0d12e-883a-44ad-8f93-5bd132b667a4",
   "metadata": {
    "tags": []
   },
   "outputs": [
    {
     "name": "stdout",
     "output_type": "stream",
     "text": [
      "Start forward selection\n"
     ]
    },
    {
     "name": "stderr",
     "output_type": "stream",
     "text": [
      "100%|██████████| 2048/2048 [05:50<00:00,  5.84it/s]\n"
     ]
    }
   ],
   "source": [
    "si_ranked_features, ranked_features = instance_disturbance.forward_feature_ranking_si()"
   ]
  },
  {
   "cell_type": "code",
   "execution_count": null,
   "id": "cf109122-881d-436d-99e7-a292f6c43e40",
   "metadata": {
    "tags": []
   },
   "outputs": [],
   "source": [
    "\n",
    "# # Saving the Ranked Features to .pkl files\n",
    "# with open('si_ranked_features_new.pkl', 'wb') as f:\n",
    "#     pickle.dump(si_ranked_features, f)\n",
    "\n",
    "# with open('ranked_features_new.pkl', 'wb') as f:\n",
    "#     pickle.dump(ranked_features, f)\n"
   ]
  },
  {
   "cell_type": "code",
   "execution_count": 11,
   "id": "de54b55b-6f86-46d3-8d08-d8be7b262abe",
   "metadata": {
    "tags": []
   },
   "outputs": [],
   "source": [
    "# Loading the ranked features from the .pkl files\n",
    "with open('si_ranked_features_new.pkl', 'rb') as f:\n",
    "    si_ranked_features = pickle.load(f)\n",
    "\n",
    "with open('ranked_features_new.pkl', 'rb') as f:\n",
    "    ranked_features = pickle.load(f)\n"
   ]
  },
  {
   "cell_type": "code",
   "execution_count": 12,
   "id": "71f8d511-abd9-46b1-a0e5-a48b96c85df1",
   "metadata": {
    "tags": []
   },
   "outputs": [
    {
     "name": "stdout",
     "output_type": "stream",
     "text": [
      "Ranked features are:  tensor([[1568.,  637., 1271.,  ..., 1743., 1778., 1999.]])\n",
      "si for the best chosen Features are:  [[0.2836     0.4924     0.6796     ... 0.9722     0.97179997 0.97139996]]\n"
     ]
    },
    {
     "data": {
      "image/png": "[encoded data removed]",
      "text/plain": [
       "<Figure size 640x480 with 1 Axes>"
      ]
     },
     "metadata": {},
     "output_type": "display_data"
    }
   ],
   "source": [
    "plt.subplot(2, 1, 2)\n",
    "plt.plot(si_ranked_features.cpu().detach().numpy(), 'b')\n",
    "plt.xlabel(\"Number of selected features\")\n",
    "plt.ylabel(\"SI\")\n",
    "plt.title(\"Forward feature ranking by SI\")\n",
    "si_ranked_features = torch.transpose(si_ranked_features, 0, 1)\n",
    "print('Ranked features are: ', ranked_features)\n",
    "print('si for the best chosen Features are: ', si_ranked_features.detach().cpu().numpy())"
   ]
  },
  {
   "cell_type": "code",
   "execution_count": 13,
   "id": "af535141-7b06-439f-b437-b9ad6ddf3d14",
   "metadata": {
    "tags": []
   },
   "outputs": [
    {
     "data": {
      "text/plain": [
       "tensor([[1568.,  637., 1271.,  ..., 1743., 1778., 1999.]])"
      ]
     },
     "execution_count": 13,
     "metadata": {},
     "output_type": "execute_result"
    }
   ],
   "source": [
    "ranked_features"
   ]
  },
  {
   "cell_type": "code",
   "execution_count": 14,
   "id": "add4e1e0-61ab-459b-a763-739edca84782",
   "metadata": {
    "tags": []
   },
   "outputs": [
    {
     "data": {
      "text/plain": [
       "0.98939997"
      ]
     },
     "execution_count": 14,
     "metadata": {},
     "output_type": "execute_result"
    }
   ],
   "source": [
    "np.max(si_ranked_features.detach().cpu().numpy()[0])"
   ]
  },
  {
   "cell_type": "code",
   "execution_count": 15,
   "id": "c49005f6-9fda-4774-8a41-7af3ce6c66e6",
   "metadata": {
    "tags": []
   },
   "outputs": [
    {
     "name": "stdout",
     "output_type": "stream",
     "text": [
      "Index of the maximum value: 400\n"
     ]
    }
   ],
   "source": [
    "si_ranked_features = si_ranked_features.detach().cpu().numpy()[0]\n",
    "max_index = np.argmax(si_ranked_features)\n",
    "\n",
    "print(\"Index of the maximum value:\", max_index)"
   ]
  },
  {
   "cell_type": "code",
   "execution_count": 16,
   "id": "ffc35acf-964b-4d21-85e3-5b226af3c4b5",
   "metadata": {
    "tags": []
   },
   "outputs": [],
   "source": [
    "feat = ranked_features[0][:max_index]"
   ]
  },
  {
   "cell_type": "code",
   "execution_count": 17,
   "id": "c1b15884-1dff-4497-b69c-e54bbf8e531e",
   "metadata": {
    "tags": []
   },
   "outputs": [
    {
     "data": {
      "text/plain": [
       "torch.Size([400])"
      ]
     },
     "execution_count": 17,
     "metadata": {},
     "output_type": "execute_result"
    }
   ],
   "source": [
    "feat.size()"
   ]
  },
  {
   "cell_type": "code",
   "execution_count": 18,
   "id": "a7c30813-2c3c-4e97-a255-435f5d16462a",
   "metadata": {
    "tags": []
   },
   "outputs": [],
   "source": [
    "# class MLPModel(nn.Module):\n",
    "#     def __init__(self, input_size, output_size, dropout_rate=0.2):\n",
    "#         super(MLPModel, self).__init__()\n",
    "#         self.flatten = nn.Flatten()\n",
    "#         self.fc1 = nn.Linear(input_size, 4096)\n",
    "#         self.relu1 = nn.ReLU()\n",
    "#         self.dropout1 = nn.Dropout(dropout_rate)\n",
    "#         self.fc2 = nn.Linear(4096, 4096)\n",
    "#         self.relu2 = nn.ReLU()\n",
    "#         self.dropout2 = nn.Dropout(dropout_rate)\n",
    "#         self.fc3 = nn.Linear(4096, output_size)\n",
    "\n",
    "#     def forward(self, x):\n",
    "#         x = self.flatten(x)\n",
    "#         x = self.fc1(x)\n",
    "#         x = self.relu1(x)\n",
    "#         x = self.dropout1(x)\n",
    "#         x = self.fc2(x)\n",
    "#         x = self.relu2(x)\n",
    "#         x = self.dropout2(x)\n",
    "#         x = self.fc3(x)\n",
    "#         return x\n",
    "\n",
    "\n",
    "class MLPModel(nn.Module):\n",
    "    def __init__(self, input_size, output_size, dropout_rate=0.2):\n",
    "        super(MLPModel, self).__init__()\n",
    "        self.flatten = nn.Flatten()\n",
    "        self.dropout = nn.Dropout(dropout_rate)\n",
    "        self.fc = nn.Linear(input_size, output_size)\n",
    "\n",
    "    def forward(self, x):\n",
    "        x = self.flatten(x)\n",
    "        x = self.dropout(x)\n",
    "        x = self.fc(x)\n",
    "        return x"
   ]
  },
  {
   "cell_type": "code",
   "execution_count": 19,
   "id": "e29af6b8-e1a7-40a6-8813-44b5e2452198",
   "metadata": {
    "tags": []
   },
   "outputs": [],
   "source": [
    "input_size = len(feat)\n",
    "output_size = 10  \n",
    "mlp_model = MLPModel(input_size, output_size)"
   ]
  },
  {
   "cell_type": "code",
   "execution_count": 20,
   "id": "320b771b-a202-448f-a104-dc2de9e12078",
   "metadata": {
    "tags": []
   },
   "outputs": [
    {
     "name": "stdout",
     "output_type": "stream",
     "text": [
      "model.feature and MLP loaded to device\n"
     ]
    }
   ],
   "source": [
    "# Define loss function and optimizer\n",
    "criterion = nn.CrossEntropyLoss()\n",
    "optimizer = optim.Adam(mlp_model.parameters(), lr=0.001)\n",
    "\n",
    "# Set device\n",
    "device = torch.device(\"cuda:1\" if torch.cuda.is_available() else \"cpu\")\n",
    "\n",
    "# Move models to device\n",
    "mlp_model.to(device)\n",
    "model.to(device)\n",
    "print(\"model.feature and MLP loaded to device\")"
   ]
  },
  {
   "cell_type": "code",
   "execution_count": 21,
   "id": "724cc735-de1b-42e5-9d35-ef641d8ac298",
   "metadata": {
    "tags": []
   },
   "outputs": [
    {
     "name": "stderr",
     "output_type": "stream",
     "text": [
      "Epoch 1/6: 100%|██████████| 352/352 [00:06<00:00, 54.57batch/s, Loss=0.0108]\n"
     ]
    },
    {
     "name": "stdout",
     "output_type": "stream",
     "text": [
      "Train Loss: 1.3779977837746793, Train Accuracy: 84.47555555555556%, Val Loss: 0.9584499195218086, Val Accuracy: 87.86%\n"
     ]
    },
    {
     "name": "stderr",
     "output_type": "stream",
     "text": [
      "Epoch 2/6: 100%|██████████| 352/352 [00:06<00:00, 54.49batch/s, Loss=0.00524]\n"
     ]
    },
    {
     "name": "stdout",
     "output_type": "stream",
     "text": [
      "Train Loss: 0.6697556001388214, Train Accuracy: 97.78222222222222%, Val Loss: 0.6436648115515708, Val Accuracy: 90.0%\n"
     ]
    },
    {
     "name": "stderr",
     "output_type": "stream",
     "text": [
      "Epoch 3/6: 100%|██████████| 352/352 [00:06<00:00, 55.69batch/s, Loss=0.00338]\n"
     ]
    },
    {
     "name": "stdout",
     "output_type": "stream",
     "text": [
      "Train Loss: 0.4326853580264883, Train Accuracy: 99.01777777777778%, Val Loss: 0.507838973402977, Val Accuracy: 90.42%\n"
     ]
    },
    {
     "name": "stderr",
     "output_type": "stream",
     "text": [
      "Epoch 4/6: 100%|██████████| 352/352 [00:06<00:00, 55.25batch/s, Loss=0.00247]\n"
     ]
    },
    {
     "name": "stdout",
     "output_type": "stream",
     "text": [
      "Train Loss: 0.31521312138912355, Train Accuracy: 99.0911111111111%, Val Loss: 0.43785489574074743, Val Accuracy: 89.78%\n"
     ]
    },
    {
     "name": "stderr",
     "output_type": "stream",
     "text": [
      "Epoch 5/6: 100%|██████████| 352/352 [00:06<00:00, 54.79batch/s, Loss=0.00191]\n"
     ]
    },
    {
     "name": "stdout",
     "output_type": "stream",
     "text": [
      "Train Loss: 0.24389025450430132, Train Accuracy: 99.2088888888889%, Val Loss: 0.39953272230923176, Val Accuracy: 89.56%\n"
     ]
    },
    {
     "name": "stderr",
     "output_type": "stream",
     "text": [
      "Epoch 6/6: 100%|██████████| 352/352 [00:06<00:00, 55.85batch/s, Loss=0.00156]\n"
     ]
    },
    {
     "name": "stdout",
     "output_type": "stream",
     "text": [
      "Train Loss: 0.19948583536527373, Train Accuracy: 99.06222222222222%, Val Loss: 0.35922819152474406, Val Accuracy: 90.34%\n"
     ]
    }
   ],
   "source": [
    "# Training and validation loop\n",
    "num_epochs = 6\n",
    "\n",
    "train_losses = []\n",
    "train_accuracies = []\n",
    "val_losses = []\n",
    "val_accuracies = []\n",
    "\n",
    "for epoch in range(num_epochs):\n",
    "    mlp_model.train()\n",
    "    total_loss = 0.0\n",
    "    correct = 0\n",
    "    total = 0\n",
    "\n",
    "    # Use tqdm for progress bar\n",
    "    with tqdm(train_loader, desc=f'Epoch {epoch + 1}/{num_epochs}', unit='batch') as tqdm_loader:\n",
    "        for inputs, labels in tqdm_loader:\n",
    "            inputs, labels = inputs.to(device), labels.to(device)\n",
    "\n",
    "            # Get features using the pretrained model\n",
    "            features_batch = model.features(inputs)\n",
    "            features_batch = features_batch.view(-1, 2048, 1, 1)\n",
    "            #features_batch = model.avgpool(features_batch)\n",
    "            x = features_batch[:, feat.long(), :, :]\n",
    "\n",
    "            # Forward pass through the MLP model\n",
    "            outputs = mlp_model(x)\n",
    "\n",
    "            # Calculate loss and perform backpropagation\n",
    "            loss = criterion(outputs, labels)\n",
    "            optimizer.zero_grad()\n",
    "            loss.backward()\n",
    "            optimizer.step()\n",
    "\n",
    "            total_loss += loss.item()\n",
    "            _, predicted = outputs.max(1)\n",
    "            total += labels.size(0)\n",
    "            correct += predicted.eq(labels).sum().item()\n",
    "\n",
    "            # Update tqdm description with current loss\n",
    "            tqdm_loader.set_postfix({'Loss': total_loss / total})\n",
    "\n",
    "    # Calculate training accuracy and loss\n",
    "    train_accuracy = 100 * correct / total\n",
    "    train_losses.append(total_loss / len(train_loader))\n",
    "    train_accuracies.append(train_accuracy)\n",
    "\n",
    "    # Validation loop\n",
    "    mlp_model.eval()\n",
    "    with torch.no_grad():\n",
    "        val_loss = 0.0\n",
    "        val_correct = 0\n",
    "        val_total = 0\n",
    "\n",
    "        for val_inputs, val_labels in valid_loader:\n",
    "            val_inputs, val_labels = val_inputs.to(device), val_labels.to(device)\n",
    "\n",
    "            val_features_batch = model.features(val_inputs)\n",
    "            val_features_batch = val_features_batch.view(-1, 2048, 1, 1)\n",
    "            #val_features_batch = model.avgpool(val_features_batch)\n",
    "            val_x = val_features_batch[:, feat.long(), :, :]\n",
    "\n",
    "            val_outputs = mlp_model(val_x)\n",
    "            val_loss += criterion(val_outputs, val_labels).item()\n",
    "\n",
    "            _, val_predicted = val_outputs.max(1)\n",
    "            val_total += val_labels.size(0)\n",
    "            val_correct += val_predicted.eq(val_labels).sum().item()\n",
    "\n",
    "        # Calculate validation accuracy and loss\n",
    "        val_accuracy = 100 * val_correct / val_total\n",
    "        val_losses.append(val_loss / len(valid_loader))\n",
    "        val_accuracies.append(val_accuracy)\n",
    "\n",
    "        print(f'Train Loss: {train_losses[-1]}, Train Accuracy: {train_accuracies[-1]}%, '\n",
    "              f'Val Loss: {val_losses[-1]}, Val Accuracy: {val_accuracies[-1]}%')"
   ]
  },
  {
   "cell_type": "code",
   "execution_count": 22,
   "id": "349e99e9-b2c9-45ab-91d6-ae081631dea6",
   "metadata": {},
   "outputs": [
    {
     "data": {
      "image/png": "[encoded data removed]",
      "text/plain": [
       "<Figure size 1000x500 with 2 Axes>"
      ]
     },
     "metadata": {},
     "output_type": "display_data"
    }
   ],
   "source": [
    "# Plotting\n",
    "plt.figure(figsize=(10, 5))\n",
    "plt.subplot(1, 2, 1)\n",
    "plt.plot(train_losses, label='Train')\n",
    "plt.plot(val_losses, label='Validation')\n",
    "plt.title('Loss')\n",
    "plt.legend()\n",
    "\n",
    "plt.subplot(1, 2, 2)\n",
    "plt.plot(train_accuracies, label='Train')\n",
    "plt.plot(val_accuracies, label='Validation')\n",
    "plt.title('Accuracy')\n",
    "plt.legend()\n",
    "\n",
    "plt.show()"
   ]
  },
  {
   "cell_type": "code",
   "execution_count": 23,
   "id": "ceb64aa3-302e-47fa-9fc1-efa39c6718be",
   "metadata": {
    "tags": []
   },
   "outputs": [],
   "source": [
    "# Save the trained model\n",
    "torch.save(mlp_model.state_dict(), 'mlp_model_compress.pth')"
   ]
  },
  {
   "cell_type": "code",
   "execution_count": 24,
   "id": "b4eca903-acf2-4c85-a751-9286cc3f5f45",
   "metadata": {
    "tags": []
   },
   "outputs": [
    {
     "name": "stdout",
     "output_type": "stream",
     "text": [
      "test_accuracy :  90.2\n"
     ]
    }
   ],
   "source": [
    "## test \n",
    "test_total = 0\n",
    "test_correct = 0 \n",
    "\n",
    "with torch.no_grad():\n",
    "    for test_inputs, test_labels in test_loader:\n",
    "        test_inputs, test_labels = test_inputs.to(device), test_labels.to(device)\n",
    "\n",
    "        test_features_batch = model.features(test_inputs)\n",
    "        test_features_batch = test_features_batch.view(-1, 2048, 1, 1)\n",
    "        test_x = test_features_batch[:, feat.long(), :, :]\n",
    "\n",
    "        test_outputs = mlp_model(test_x)\n",
    "\n",
    "        _, test_predicted = test_outputs.max(1)\n",
    "        test_total += test_labels.size(0)\n",
    "        test_correct += test_predicted.eq(test_labels).sum().item()\n",
    "\n",
    "# Calculate validation accuracy and loss\n",
    "test_accuracy = 100 * test_correct / test_total\n",
    "print(\"test_accuracy : \" , test_accuracy )"
   ]
  },
  {
   "cell_type": "code",
   "execution_count": 30,
   "id": "6a8c8ac0-f08b-474a-b13f-efdb8158935c",
   "metadata": {
    "tags": []
   },
   "outputs": [
    {
     "name": "stderr",
     "output_type": "stream",
     "text": [
      "100%|██████████| 40/40 [00:00<00:00, 54.05it/s]\n"
     ]
    }
   ],
   "source": [
    "# CSI and SI of last layer after Compression for train\n",
    "features = []\n",
    "labels = []\n",
    "\n",
    "with torch.no_grad():\n",
    "    for inputs, targets  in tqdm(train_loader_SI):\n",
    "        if torch.cuda.is_available():\n",
    "            inputs = inputs.to('cuda:1')\n",
    "        # Forward pass through the model.features\n",
    "        features_batch = model.features(inputs)\n",
    "        features_batch = features_batch.view(-1, 2048, 1, 1)\n",
    "        features_batch = features_batch[:, feat.long(), :, :]\n",
    "        \n",
    "        features.append(features_batch)\n",
    "        labels.append(targets)\n",
    "        # Release GPU memory\n",
    "        del inputs\n",
    "        torch.cuda.empty_cache()\n",
    "        \n",
    "# Stack and reshape the extracted features\n",
    "features = torch.cat(features)\n",
    "features = features.view(features.size(0), -1)\n",
    "labels = torch.cat(labels)   \n",
    "\n",
    "labels=labels.unsqueeze(1)  # Make it a 2D tensor"
   ]
  },
  {
   "cell_type": "code",
   "execution_count": 31,
   "id": "be6aa2ae-50e8-4445-ae0a-75f292efba33",
   "metadata": {
    "tags": []
   },
   "outputs": [
    {
     "name": "stdout",
     "output_type": "stream",
     "text": [
      "Data has been normalized\n"
     ]
    },
    {
     "name": "stderr",
     "output_type": "stream",
     "text": [
      "Calculating SI: 100%|██████████| 5000/5000 [00:00<00:00, 34769.47it/s]\n",
      "Calculating Class Centers: 100%|██████████| 10/10 [00:00<00:00, 9892.23it/s]"
     ]
    },
    {
     "name": "stdout",
     "output_type": "stream",
     "text": [
      "train_si_last_compress:  0.9742\n",
      "Train_csi_last_compress:  0.9053999781608582\n"
     ]
    },
    {
     "name": "stderr",
     "output_type": "stream",
     "text": [
      "\n"
     ]
    }
   ],
   "source": [
    "instance_disturbance = ARH_SeparationIndex(features, labels, normalize=True)\n",
    "\n",
    "si_last_compress = instance_disturbance.si()\n",
    "csi_last_compress = instance_disturbance.center_si()\n",
    "\n",
    "print(\"train_si_last_compress: \", si_last_compress)\n",
    "print(\"Train_csi_last_compress: \", csi_last_compress)\n"
   ]
  },
  {
   "cell_type": "code",
   "execution_count": 32,
   "id": "869a29b4-e867-46f0-8a5a-57c042db1544",
   "metadata": {
    "tags": []
   },
   "outputs": [
    {
     "name": "stderr",
     "output_type": "stream",
     "text": [
      "100%|██████████| 79/79 [00:01<00:00, 77.79it/s] \n"
     ]
    }
   ],
   "source": [
    "# CSI and SI of last layer after Compression for test\n",
    "features = []\n",
    "labels = []\n",
    "\n",
    "with torch.no_grad():\n",
    "    for inputs, targets  in tqdm(test_loader):\n",
    "        if torch.cuda.is_available():\n",
    "            inputs = inputs.to('cuda:1')\n",
    "        # Forward pass through the model.features\n",
    "        features_batch = model.features(inputs)\n",
    "        features_batch = features_batch.view(-1, 2048, 1, 1)\n",
    "        features_batch = features_batch[:, feat.long(), :, :]\n",
    "        \n",
    "        features.append(features_batch)\n",
    "        labels.append(targets)\n",
    "        # Release GPU memory\n",
    "        del inputs\n",
    "        torch.cuda.empty_cache()\n",
    "        \n",
    "# Stack and reshape the extracted features\n",
    "features = torch.cat(features)\n",
    "features = features.view(features.size(0), -1)\n",
    "labels = torch.cat(labels)   \n",
    "\n",
    "labels=labels.unsqueeze(1)  # Make it a 2D tensor"
   ]
  },
  {
   "cell_type": "code",
   "execution_count": 33,
   "id": "17582fa3-2b61-44f5-adfc-58cb7a6ec93b",
   "metadata": {
    "tags": []
   },
   "outputs": [
    {
     "name": "stdout",
     "output_type": "stream",
     "text": [
      "Data has been normalized\n"
     ]
    },
    {
     "name": "stderr",
     "output_type": "stream",
     "text": [
      "Calculating SI: 100%|██████████| 10000/10000 [00:00<00:00, 35037.94it/s]\n",
      "Calculating Class Centers: 100%|██████████| 10/10 [00:00<00:00, 8463.08it/s]"
     ]
    },
    {
     "name": "stdout",
     "output_type": "stream",
     "text": [
      "test_si_last_compress:  0.8541\n",
      "test_csi_last_compress:  0.8307999968528748\n"
     ]
    },
    {
     "name": "stderr",
     "output_type": "stream",
     "text": [
      "\n"
     ]
    }
   ],
   "source": [
    "instance_disturbance = ARH_SeparationIndex(features, labels, normalize=True)\n",
    "\n",
    "si_last_compress = instance_disturbance.si()\n",
    "csi_last_compress = instance_disturbance.center_si()\n",
    "\n",
    "print(\"test_si_last_compress: \", si_last_compress)\n",
    "print(\"test_csi_last_compress: \", csi_last_compress)\n"
   ]
  },
  {
   "cell_type": "markdown",
   "id": "a7274e1c-1b1e-4c7c-9772-29f2014c8d6f",
   "metadata": {
    "tags": []
   },
   "source": [
    "# calculate model parametres"
   ]
  },
  {
   "cell_type": "code",
   "execution_count": 25,
   "id": "77bf2482-5dec-4c09-94c5-9b374cc863bc",
   "metadata": {
    "tags": []
   },
   "outputs": [
    {
     "name": "stdout",
     "output_type": "stream",
     "text": [
      "Total number of parameters: 7639274\n"
     ]
    }
   ],
   "source": [
    "# no hidden layer\n",
    "\n",
    "total_parameters = sum(p.numel() for p in model.features.parameters()) + sum(p.numel() for p in mlp_model.parameters())\n",
    "\n",
    "print(\"Total number of parameters:\", total_parameters)"
   ]
  },
  {
   "cell_type": "code",
   "execution_count": 27,
   "id": "3c989647-10d8-4287-b438-d141d4cf1fcf",
   "metadata": {
    "tags": []
   },
   "outputs": [
    {
     "name": "stdout",
     "output_type": "stream",
     "text": [
      "Total number of parameters: 26100042\n"
     ]
    }
   ],
   "source": [
    "# 2 hidden layer\n",
    "\n",
    "class MLPModel(nn.Module):\n",
    "    def __init__(self, input_size, output_size, dropout_rate=0.2):\n",
    "        super(MLPModel, self).__init__()\n",
    "        self.flatten = nn.Flatten()\n",
    "        self.fc1 = nn.Linear(input_size, 4096)\n",
    "        self.relu1 = nn.ReLU()\n",
    "        self.dropout1 = nn.Dropout(dropout_rate)\n",
    "        self.fc2 = nn.Linear(4096, 4096)\n",
    "        self.relu2 = nn.ReLU()\n",
    "        self.dropout2 = nn.Dropout(dropout_rate)\n",
    "        self.fc3 = nn.Linear(4096, output_size)\n",
    "\n",
    "    def forward(self, x):\n",
    "        x = self.flatten(x)\n",
    "        x = self.fc1(x)\n",
    "        x = self.relu1(x)\n",
    "        x = self.dropout1(x)\n",
    "        x = self.fc2(x)\n",
    "        x = self.relu2(x)\n",
    "        x = self.dropout2(x)\n",
    "        x = self.fc3(x)\n",
    "        return x\n",
    "    \n",
    "input_size = len(feat)\n",
    "output_size = 10  \n",
    "mlp_model = MLPModel(input_size, output_size)\n",
    "mlp_model.to(device)\n",
    "\n",
    "\n",
    "total_parameters1 = sum(p.numel() for p in model.features.parameters()) + sum(p.numel() for p in mlp_model.parameters())\n",
    "\n",
    "print(\"Total number of parameters:\", total_parameters1)"
   ]
  },
  {
   "cell_type": "code",
   "execution_count": null,
   "id": "2db771ac-5e4f-45a3-ac08-849b6c92d349",
   "metadata": {},
   "outputs": [],
   "source": []
  }
 ],
 "metadata": {
  "kernelspec": {
   "display_name": "torch2",
   "language": "python",
   "name": "torch2"
  },
  "language_info": {
   "codemirror_mode": {
    "name": "ipython",
    "version": 3
   },
   "file_extension": ".py",
   "mimetype": "text/x-python",
   "name": "python",
   "nbconvert_exporter": "python",
   "pygments_lexer": "ipython3",
   "version": "3.11.6"
  }
 },
 "nbformat": 4,
 "nbformat_minor": 5
}
