{
  "nbformat": 4,
  "nbformat_minor": 0,
  "metadata": {
    "colab": {
      "provenance": [],
      "gpuType": "T4"
    },
    "kernelspec": {
      "name": "python3",
      "display_name": "Python 3"
    },
    "language_info": {
      "name": "python"
    },
    "accelerator": "GPU"
  },
  "cells": [
    {
      "cell_type": "markdown",
      "source": [
        "# Pre Req\n",
        "Clone to SI codes\n",
        "Download Pretrained Weights"
      ],
      "metadata": {
        "id": "IVjcqGbeC5FV"
      }
    },
    {
      "cell_type": "code",
      "source": [
        "!git clone https://github.com/Arhosseini77/data_complexity_measures"
      ],
      "metadata": {
        "colab": {
          "base_uri": "https://localhost:8080/"
        },
        "id": "-0WN9UttDIpr",
        "outputId": "05631294-4d4a-4cff-9cab-c8a65cf57a87"
      },
      "execution_count": 1,
      "outputs": [
        {
          "output_type": "stream",
          "name": "stdout",
          "text": [
            "Cloning into 'data_complexity_measures'...\n",
            "remote: Enumerating objects: 91, done.\u001b[K\n",
            "remote: Counting objects: 100% (91/91), done.\u001b[K\n",
            "remote: Compressing objects: 100% (79/79), done.\u001b[K\n",
            "remote: Total 91 (delta 47), reused 32 (delta 9), pack-reused 0\u001b[K\n",
            "Receiving objects: 100% (91/91), 131.12 KiB | 4.37 MiB/s, done.\n",
            "Resolving deltas: 100% (47/47), done.\n"
          ]
        }
      ]
    },
    {
      "cell_type": "code",
      "source": [
        "# download Pretrained Model\n",
        "!gdown 1yWb1OXm7LslxkRx3zHyen-PBZ12-W2sA"
      ],
      "metadata": {
        "colab": {
          "base_uri": "https://localhost:8080/"
        },
        "id": "vsC9qg6EDSS9",
        "outputId": "9990a728-142d-48eb-fc16-631938b34b35"
      },
      "execution_count": 2,
      "outputs": [
        {
          "output_type": "stream",
          "name": "stdout",
          "text": [
            "Downloading...\n",
            "From: https://drive.google.com/uc?id=1yWb1OXm7LslxkRx3zHyen-PBZ12-W2sA\n",
            "To: /content/efficientnetv2_s_cifar100_finetuned.pth\n",
            "100% 82.1M/82.1M [00:03<00:00, 23.6MB/s]\n"
          ]
        }
      ]
    },
    {
      "cell_type": "markdown",
      "source": [
        "# Import libraries"
      ],
      "metadata": {
        "id": "ZoYo7sEKDmYY"
      }
    },
    {
      "cell_type": "code",
      "source": [
        "import torch\n",
        "import torchvision.transforms as transforms\n",
        "import torchvision.datasets as datasets\n",
        "import torchvision.models as models\n",
        "import torch.nn as nn\n",
        "import torch.optim as optim\n",
        "import matplotlib.pyplot as plt\n",
        "from tqdm import tqdm\n",
        "import random\n",
        "from torch.utils.data import Subset, DataLoader\n",
        "import numpy as np\n",
        "from torch.cuda.amp import autocast, GradScaler\n",
        "from torch.utils.data.sampler import SubsetRandomSampler\n",
        "\n",
        "from data_complexity_measures.models.ARH_SI import ARH_SeparationIndex"
      ],
      "metadata": {
        "id": "LYFS2hx7Do9O"
      },
      "execution_count": 1,
      "outputs": []
    },
    {
      "cell_type": "markdown",
      "source": [
        "# Q2"
      ],
      "metadata": {
        "id": "Ya2w49MLDWu3"
      }
    },
    {
      "cell_type": "markdown",
      "source": [
        "**Load Model**"
      ],
      "metadata": {
        "id": "A24bQu83Dbt3"
      }
    },
    {
      "cell_type": "code",
      "source": [
        "# Load EfficientNetV2-S model\n",
        "model = models.efficientnet_v2_s(weights='IMAGENET1K_V1')\n",
        "\n",
        "# 100 classes\n",
        "model.classifier = nn.Sequential(\n",
        "    nn.Dropout(p=0.2, inplace=True),\n",
        "    nn.Linear(1280, 100)\n",
        ")\n",
        "\n",
        "\n",
        "transform = transforms.Compose([\n",
        "    transforms.Resize(300),\n",
        "    transforms.CenterCrop(260),\n",
        "    transforms.ToTensor(),\n",
        "    transforms.Normalize(mean=[0.485, 0.456, 0.406], std=[0.229, 0.224, 0.225])\n",
        "])\n",
        "\n",
        "# Load your pre-trained model weights\n",
        "model.load_state_dict(torch.load('efficientnetv2_s_cifar100_finetuned.pth'))\n",
        "\n",
        "\n",
        "model.eval()\n",
        "model.cuda()\n",
        "\n",
        "print(\"Model Loaded\")"
      ],
      "metadata": {
        "colab": {
          "base_uri": "https://localhost:8080/"
        },
        "id": "OSEw6jt9DVw4",
        "outputId": "c9ddb3ca-c1d7-4796-817e-2065e5d3d9b2"
      },
      "execution_count": 2,
      "outputs": [
        {
          "output_type": "stream",
          "name": "stdout",
          "text": [
            "Model Loaded\n"
          ]
        }
      ]
    },
    {
      "cell_type": "markdown",
      "source": [
        "**Load Subset of CIFA100**"
      ],
      "metadata": {
        "id": "YH-nDNdXE1Ac"
      }
    },
    {
      "cell_type": "code",
      "source": [
        "# Load the CIFAR-100 dataset and create a balanced subset\n",
        "transform = transforms.Compose([transforms.ToTensor()])\n",
        "\n",
        "cifar100_train = datasets.CIFAR100(root='./data', train=True, download=True, transform=transform)\n",
        "cifar100_test = datasets.CIFAR100(root='./data', train=False, download=True, transform=transform)\n",
        "\n",
        "# Combine original and augmented datasets\n",
        "cifar100_train_combined = torch.utils.data.ConcatDataset([cifar100_train])\n",
        "cifar100_test_combined = torch.utils.data.ConcatDataset([cifar100_test])\n",
        "\n",
        "# Define the size of the balanced subset for both train and test sets\n",
        "subset_fraction_train = 0.5\n",
        "subset_fraction_test = 1\n",
        "\n",
        "# Calculate the number of samples needed for the balanced subset for both train and test sets\n",
        "subset_size_train = int(subset_fraction_train * len(cifar100_train_combined))\n",
        "subset_size_test = int(subset_fraction_test * len(cifar100_test_combined))\n",
        "\n",
        "# Create a balanced subset for both train and test sets using SubsetRandomSampler\n",
        "class_indices_train = list(range(len(cifar100_train.classes)))\n",
        "class_indices_test = list(range(len(cifar100_test.classes)))\n",
        "\n",
        "class_subset_size_train = int(subset_size_train / len(cifar100_train.classes))\n",
        "class_subset_size_test = int(subset_size_test / len(cifar100_test.classes))\n",
        "\n",
        "class_sampler_indices_train = []\n",
        "class_sampler_indices_test = []\n",
        "\n",
        "for class_index in class_indices_train:\n",
        "    class_indices_list_train = [i for i, label in enumerate(cifar100_train.targets) if label == class_index]\n",
        "    class_sampler_indices_train.extend(class_indices_list_train[:class_subset_size_train])\n",
        "\n",
        "for class_index in class_indices_test:\n",
        "    class_indices_list_test = [i for i, label in enumerate(cifar100_test.targets) if label == class_index]\n",
        "    class_sampler_indices_test.extend(class_indices_list_test[:class_subset_size_test])\n",
        "\n",
        "train_sampler = SubsetRandomSampler(class_sampler_indices_train)\n",
        "test_sampler = SubsetRandomSampler(class_sampler_indices_test)\n",
        "\n",
        "# Create PyTorch data loaders using the balanced subset for both train and test sets\n",
        "batch_size = 256\n",
        "train_loader = torch.utils.data.DataLoader(cifar100_train_combined, batch_size=batch_size, sampler=train_sampler)\n",
        "test_loader = torch.utils.data.DataLoader(cifar100_test_combined, batch_size=batch_size, sampler=test_sampler)\n",
        "\n",
        "# Check the number of samples in each set\n",
        "print(f\"Balanced Train set size: {len(train_loader.sampler)}\")\n",
        "print(f\"Balanced Test set size: {len(test_loader.sampler)}\")"
      ],
      "metadata": {
        "colab": {
          "base_uri": "https://localhost:8080/"
        },
        "id": "AaiHZhzSLwsg",
        "outputId": "12141488-127c-467e-ed14-3da62c981535"
      },
      "execution_count": 3,
      "outputs": [
        {
          "output_type": "stream",
          "name": "stdout",
          "text": [
            "Files already downloaded and verified\n",
            "Files already downloaded and verified\n",
            "Balanced Train set size: 25000\n",
            "Balanced Test set size: 10000\n"
          ]
        }
      ]
    },
    {
      "cell_type": "markdown",
      "source": [
        "**Count Number of layer**"
      ],
      "metadata": {
        "id": "278tuoM7Ox-T"
      }
    },
    {
      "cell_type": "code",
      "source": [
        "# Counter Num Layer\n",
        "counter = 0\n",
        "for idx, layer in enumerate(model.features):\n",
        "  counter +=1\n",
        "print(f\"Number of layer is : {counter}\")"
      ],
      "metadata": {
        "colab": {
          "base_uri": "https://localhost:8080/"
        },
        "id": "ib1lf0NUJ0ak",
        "outputId": "c4f8029f-dec6-4ee3-823a-47d3b0c809a2"
      },
      "execution_count": 4,
      "outputs": [
        {
          "output_type": "stream",
          "name": "stdout",
          "text": [
            "Number of layer is : 8\n"
          ]
        }
      ]
    },
    {
      "cell_type": "markdown",
      "source": [
        "**Attach Hooks to each layer**"
      ],
      "metadata": {
        "id": "_XMrY7-QO2qC"
      }
    },
    {
      "cell_type": "code",
      "source": [
        "# Prepare storage for outputs and labels\n",
        "features_per_layer = [[] for _ in range(len(model.features))]\n",
        "labels_list = []\n",
        "\n",
        "# Function to attach hooks\n",
        "def get_layer_outputs(layer_idx):\n",
        "    def hook(module, input, output):\n",
        "        features_per_layer[layer_idx].append(output.detach())\n",
        "    return hook\n",
        "\n",
        "# Attach hooks to each layer\n",
        "for idx, layer in enumerate(model.features):\n",
        "    layer.register_forward_hook(get_layer_outputs(idx))"
      ],
      "metadata": {
        "id": "zH7YM0rME7uL"
      },
      "execution_count": 5,
      "outputs": []
    },
    {
      "cell_type": "markdown",
      "source": [
        "## Train data\n",
        "plot SI vs Layer for train data (50%)"
      ],
      "metadata": {
        "id": "Ez7xQpCxO95g"
      }
    },
    {
      "cell_type": "code",
      "source": [
        "# Pass data through the model and collect layer outputs\n",
        "with torch.no_grad():\n",
        "    for inputs, targets in tqdm(train_loader):\n",
        "        if torch.cuda.is_available():\n",
        "            inputs = inputs.to('cuda')\n",
        "\n",
        "        # Trigger the hooks and collect layer outputs\n",
        "        model(inputs)\n",
        "        labels_list.append(targets)\n",
        "\n",
        "        # Release GPU memory\n",
        "        del inputs\n",
        "        torch.cuda.empty_cache()\n",
        "\n",
        "# Post-process the data: Flatten and concatenate\n",
        "for idx, layer_features in enumerate(features_per_layer):\n",
        "    layer_features = torch.cat([f.view(f.size(0), -1) for f in layer_features])\n",
        "    features_per_layer[idx] = layer_features\n",
        "\n",
        "labels = torch.cat(labels_list)"
      ],
      "metadata": {
        "colab": {
          "base_uri": "https://localhost:8080/"
        },
        "id": "aZ2qUOJ-GAN6",
        "outputId": "f05c1d51-e1e1-4988-8598-0eaa0266b323"
      },
      "execution_count": 6,
      "outputs": [
        {
          "output_type": "stream",
          "name": "stderr",
          "text": [
            "100%|██████████| 98/98 [00:14<00:00,  6.61it/s]\n"
          ]
        }
      ]
    },
    {
      "cell_type": "code",
      "source": [
        "si_layer_train =[]\n",
        "for features in features_per_layer:\n",
        "  instance_disturbance = ARH_SeparationIndex(features, labels, normalize=True)\n",
        "  si_data = instance_disturbance.si_data()\n",
        "  num_ones = torch.sum(si_data == 1).item()\n",
        "  total_elements = si_data.numel()\n",
        "  ratio_ones = num_ones / total_elements\n",
        "  si_layer_train.append(ratio_ones)"
      ],
      "metadata": {
        "id": "PwX-cmN7HO03"
      },
      "execution_count": 7,
      "outputs": []
    },
    {
      "cell_type": "code",
      "source": [
        "si_layer_train"
      ],
      "metadata": {
        "colab": {
          "base_uri": "https://localhost:8080/"
        },
        "id": "7sqFR9THNPKC",
        "outputId": "ef6f1c61-11b4-405b-822a-7167e0f80e8a"
      },
      "execution_count": 8,
      "outputs": [
        {
          "output_type": "execute_result",
          "data": {
            "text/plain": [
              "[0.1122, 0.08148, 0.257, 0.391, 0.4246, 0.50996, 0.65252, 0.67892]"
            ]
          },
          "metadata": {},
          "execution_count": 8
        }
      ]
    },
    {
      "cell_type": "code",
      "source": [
        "# plot si vs layer for Train\n",
        "plt.plot(si_layer_train)\n",
        "plt.xlabel('Layer')\n",
        "plt.ylabel('SI')\n",
        "plt.show()"
      ],
      "metadata": {
        "colab": {
          "base_uri": "https://localhost:8080/",
          "height": 450
        },
        "id": "WvCmsCC8NG0y",
        "outputId": "5915947e-bfc7-4410-ea73-fbf338b30d51"
      },
      "execution_count": 9,
      "outputs": [
        {
          "output_type": "display_data",
          "data": {
            "text/plain": [
              "<Figure size 640x480 with 1 Axes>"
            ],
            "image/png": "[encoded data removed]"
          },
          "metadata": {}
        }
      ]
    },
    {
      "cell_type": "markdown",
      "source": [
        "## Test data\n",
        "plot SI vs Layer for test data (100%)\n",
        "\n",
        "**** Restart Kernel and run again for Test Section"
      ],
      "metadata": {
        "id": "XwArpqXCPMEz"
      }
    },
    {
      "cell_type": "code",
      "source": [
        "with torch.no_grad():\n",
        "    for inputs, targets in tqdm(test_loader):\n",
        "        if torch.cuda.is_available():\n",
        "            inputs = inputs.to('cuda')\n",
        "\n",
        "        # Trigger the hooks and collect layer outputs\n",
        "        model(inputs)\n",
        "        labels_list.append(targets)\n",
        "\n",
        "        # Release GPU memory\n",
        "        del inputs\n",
        "        torch.cuda.empty_cache()\n",
        "\n",
        "# Post-process the data: Flatten and concatenate\n",
        "for idx, layer_features in enumerate(features_per_layer):\n",
        "    layer_features = torch.cat([f.view(f.size(0), -1) for f in layer_features])\n",
        "    features_per_layer[idx] = layer_features\n",
        "\n",
        "labels = torch.cat(labels_list)\n"
      ],
      "metadata": {
        "colab": {
          "base_uri": "https://localhost:8080/"
        },
        "id": "hDWSYoKHMdGt",
        "outputId": "02c35cd6-6d62-4d73-cd3f-669007623ddd"
      },
      "execution_count": 6,
      "outputs": [
        {
          "output_type": "stream",
          "name": "stderr",
          "text": [
            "100%|██████████| 40/40 [00:11<00:00,  3.60it/s]\n"
          ]
        }
      ]
    },
    {
      "cell_type": "code",
      "source": [
        "si_layer_test =[]\n",
        "for features in features_per_layer:\n",
        "  instance_disturbance = ARH_SeparationIndex(features, labels, normalize=True)\n",
        "  si_data = instance_disturbance.si_data()\n",
        "  num_ones = torch.sum(si_data == 1).item()\n",
        "  total_elements = si_data.numel()\n",
        "  ratio_ones = num_ones / total_elements\n",
        "  si_layer_test.append(ratio_ones)"
      ],
      "metadata": {
        "id": "wx4Qs2ogOjPQ"
      },
      "execution_count": 7,
      "outputs": []
    },
    {
      "cell_type": "code",
      "source": [
        "si_layer_test"
      ],
      "metadata": {
        "colab": {
          "base_uri": "https://localhost:8080/"
        },
        "id": "sma2pnG-IGpx",
        "outputId": "580f7e43-8db8-4e73-9eb1-e9b05f62feb3"
      },
      "execution_count": 8,
      "outputs": [
        {
          "output_type": "execute_result",
          "data": {
            "text/plain": [
              "[0.0861, 0.0608, 0.2005, 0.3198, 0.3365, 0.3855, 0.4372, 0.4371]"
            ]
          },
          "metadata": {},
          "execution_count": 8
        }
      ]
    },
    {
      "cell_type": "code",
      "source": [
        "# plot si vs layer for Train\n",
        "plt.plot(si_layer_test)\n",
        "plt.xlabel('Layer')\n",
        "plt.ylabel('SI')\n",
        "plt.show()"
      ],
      "metadata": {
        "colab": {
          "base_uri": "https://localhost:8080/",
          "height": 450
        },
        "id": "Sl0O9SXJJkQp",
        "outputId": "7b19ebb5-fd2a-4de0-e613-3adedddf44c1"
      },
      "execution_count": 9,
      "outputs": [
        {
          "output_type": "display_data",
          "data": {
            "text/plain": [
              "<Figure size 640x480 with 1 Axes>"
            ],
            "image/png": "[encoded data removed]"
          },
          "metadata": {}
        }
      ]
    },
    {
      "cell_type": "code",
      "source": [],
      "metadata": {
        "id": "L_JqwtBsZWtB"
      },
      "execution_count": null,
      "outputs": []
    }
  ]
}