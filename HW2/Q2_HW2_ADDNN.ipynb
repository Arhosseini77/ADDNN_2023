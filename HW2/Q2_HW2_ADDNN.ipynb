{
  "cells": [
    {
      "cell_type": "markdown",
      "metadata": {
        "id": "IVjcqGbeC5FV"
      },
      "source": [
        "# Pre Req\n",
        "Clone to SI codes\n",
        "Download Pretrained Weights"
      ]
    },
    {
      "cell_type": "code",
      "execution_count": 1,
      "metadata": {
        "colab": {
          "base_uri": "https://localhost:8080/"
        },
        "id": "-0WN9UttDIpr",
        "outputId": "b8abf40d-7544-4582-8d28-189b3e0234d0"
      },
      "outputs": [
        {
          "output_type": "stream",
          "name": "stdout",
          "text": [
            "Cloning into 'data_complexity_measures'...\n",
            "remote: Enumerating objects: 121, done.\u001b[K\n",
            "remote: Counting objects: 100% (121/121), done.\u001b[K\n",
            "remote: Compressing objects: 100% (109/109), done.\u001b[K\n",
            "remote: Total 121 (delta 68), reused 32 (delta 9), pack-reused 0\u001b[K\n",
            "Receiving objects: 100% (121/121), 138.91 KiB | 17.36 MiB/s, done.\n",
            "Resolving deltas: 100% (68/68), done.\n"
          ]
        }
      ],
      "source": [
        "!git clone https://github.com/Arhosseini77/data_complexity_measures"
      ]
    },
    {
      "cell_type": "code",
      "execution_count": 2,
      "metadata": {
        "colab": {
          "base_uri": "https://localhost:8080/"
        },
        "id": "vsC9qg6EDSS9",
        "outputId": "143151b5-e522-44f4-fe10-e65e307ce35b"
      },
      "outputs": [
        {
          "output_type": "stream",
          "name": "stdout",
          "text": [
            "Downloading...\n",
            "From: https://drive.google.com/uc?id=1yWb1OXm7LslxkRx3zHyen-PBZ12-W2sA\n",
            "To: /content/efficientnetv2_s_cifar100_finetuned.pth\n",
            "100% 82.1M/82.1M [00:00<00:00, 103MB/s] \n"
          ]
        }
      ],
      "source": [
        "# download Pretrained Model\n",
        "!gdown 1yWb1OXm7LslxkRx3zHyen-PBZ12-W2sA"
      ]
    },
    {
      "cell_type": "markdown",
      "metadata": {
        "id": "ZoYo7sEKDmYY"
      },
      "source": [
        "# Import libraries"
      ]
    },
    {
      "cell_type": "code",
      "execution_count": 1,
      "metadata": {
        "id": "LYFS2hx7Do9O"
      },
      "outputs": [],
      "source": [
        "import torch\n",
        "import torchvision.transforms as transforms\n",
        "import torchvision.datasets as datasets\n",
        "import torchvision.models as models\n",
        "import torch.nn as nn\n",
        "import torch.optim as optim\n",
        "import matplotlib.pyplot as plt\n",
        "from tqdm import tqdm\n",
        "import random\n",
        "from torch.utils.data import Subset, DataLoader\n",
        "import numpy as np\n",
        "from torch.cuda.amp import autocast, GradScaler\n",
        "from torch.utils.data.sampler import SubsetRandomSampler\n",
        "\n",
        "from data_complexity_measures.models.ARH_SeparationIndex import ARH_SeparationIndex"
      ]
    },
    {
      "cell_type": "markdown",
      "metadata": {
        "id": "Ya2w49MLDWu3"
      },
      "source": [
        "# Q2"
      ]
    },
    {
      "cell_type": "markdown",
      "metadata": {
        "id": "A24bQu83Dbt3"
      },
      "source": [
        "**Load Model**"
      ]
    },
    {
      "cell_type": "code",
      "execution_count": 2,
      "metadata": {
        "colab": {
          "base_uri": "https://localhost:8080/"
        },
        "id": "OSEw6jt9DVw4",
        "outputId": "86d73e1d-a75b-4504-af60-c0e422e38dc7"
      },
      "outputs": [
        {
          "output_type": "stream",
          "name": "stdout",
          "text": [
            "Model Loaded\n"
          ]
        }
      ],
      "source": [
        "# Load EfficientNetV2-S model\n",
        "model = models.efficientnet_v2_s(weights='IMAGENET1K_V1')\n",
        "\n",
        "# 100 classes\n",
        "model.classifier = nn.Sequential(\n",
        "    nn.Dropout(p=0.2, inplace=True),\n",
        "    nn.Linear(1280, 100)\n",
        ")\n",
        "\n",
        "\n",
        "transform = transforms.Compose([\n",
        "    transforms.Resize(300),\n",
        "    transforms.CenterCrop(260),\n",
        "    transforms.ToTensor(),\n",
        "    transforms.Normalize(mean=[0.485, 0.456, 0.406], std=[0.229, 0.224, 0.225])\n",
        "])\n",
        "\n",
        "# Load your pre-trained model weights\n",
        "model.load_state_dict(torch.load('efficientnetv2_s_cifar100_finetuned.pth'))\n",
        "\n",
        "\n",
        "model.eval()\n",
        "model.cuda()\n",
        "\n",
        "print(\"Model Loaded\")"
      ]
    },
    {
      "cell_type": "markdown",
      "metadata": {
        "id": "YH-nDNdXE1Ac"
      },
      "source": [
        "**Load Subset of CIFA100**"
      ]
    },
    {
      "cell_type": "code",
      "execution_count": 3,
      "metadata": {
        "colab": {
          "base_uri": "https://localhost:8080/"
        },
        "id": "AaiHZhzSLwsg",
        "outputId": "43d673ad-f2cd-4b45-f1e1-271c433a6eb6"
      },
      "outputs": [
        {
          "output_type": "stream",
          "name": "stdout",
          "text": [
            "Files already downloaded and verified\n",
            "Files already downloaded and verified\n",
            "Balanced Train set size: 25000\n",
            "Balanced Test set size: 10000\n"
          ]
        }
      ],
      "source": [
        "# Load the CIFAR-100 dataset and create a balanced subset\n",
        "transform = transforms.Compose([transforms.ToTensor()])\n",
        "\n",
        "cifar100_train = datasets.CIFAR100(root='./data', train=True, download=True, transform=transform)\n",
        "cifar100_test = datasets.CIFAR100(root='./data', train=False, download=True, transform=transform)\n",
        "\n",
        "# Combine original and augmented datasets\n",
        "cifar100_train_combined = torch.utils.data.ConcatDataset([cifar100_train])\n",
        "cifar100_test_combined = torch.utils.data.ConcatDataset([cifar100_test])\n",
        "\n",
        "# Define the size of the balanced subset for both train and test sets\n",
        "subset_fraction_train = 0.5\n",
        "subset_fraction_test = 1\n",
        "\n",
        "# Calculate the number of samples needed for the balanced subset for both train and test sets\n",
        "subset_size_train = int(subset_fraction_train * len(cifar100_train_combined))\n",
        "subset_size_test = int(subset_fraction_test * len(cifar100_test_combined))\n",
        "\n",
        "# Create a balanced subset for both train and test sets using SubsetRandomSampler\n",
        "class_indices_train = list(range(len(cifar100_train.classes)))\n",
        "class_indices_test = list(range(len(cifar100_test.classes)))\n",
        "\n",
        "class_subset_size_train = int(subset_size_train / len(cifar100_train.classes))\n",
        "class_subset_size_test = int(subset_size_test / len(cifar100_test.classes))\n",
        "\n",
        "class_sampler_indices_train = []\n",
        "class_sampler_indices_test = []\n",
        "\n",
        "for class_index in class_indices_train:\n",
        "    class_indices_list_train = [i for i, label in enumerate(cifar100_train.targets) if label == class_index]\n",
        "    class_sampler_indices_train.extend(class_indices_list_train[:class_subset_size_train])\n",
        "\n",
        "for class_index in class_indices_test:\n",
        "    class_indices_list_test = [i for i, label in enumerate(cifar100_test.targets) if label == class_index]\n",
        "    class_sampler_indices_test.extend(class_indices_list_test[:class_subset_size_test])\n",
        "\n",
        "train_sampler = SubsetRandomSampler(class_sampler_indices_train)\n",
        "test_sampler = SubsetRandomSampler(class_sampler_indices_test)\n",
        "\n",
        "# Create PyTorch data loaders using the balanced subset for both train and test sets\n",
        "batch_size = 256\n",
        "train_loader = torch.utils.data.DataLoader(cifar100_train_combined, batch_size=batch_size, sampler=train_sampler)\n",
        "test_loader = torch.utils.data.DataLoader(cifar100_test_combined, batch_size=batch_size, sampler=test_sampler)\n",
        "\n",
        "# Check the number of samples in each set\n",
        "print(f\"Balanced Train set size: {len(train_loader.sampler)}\")\n",
        "print(f\"Balanced Test set size: {len(test_loader.sampler)}\")"
      ]
    },
    {
      "cell_type": "markdown",
      "metadata": {
        "id": "278tuoM7Ox-T"
      },
      "source": [
        "**Count Number of layer**"
      ]
    },
    {
      "cell_type": "code",
      "execution_count": 4,
      "metadata": {
        "colab": {
          "base_uri": "https://localhost:8080/"
        },
        "id": "ib1lf0NUJ0ak",
        "outputId": "5e286c83-ab72-44bb-863e-c42bf62a544f"
      },
      "outputs": [
        {
          "output_type": "stream",
          "name": "stdout",
          "text": [
            "Number of layer is : 8\n"
          ]
        }
      ],
      "source": [
        "# Counter Num Layer\n",
        "counter = 0\n",
        "for idx, layer in enumerate(model.features):\n",
        "  counter +=1\n",
        "print(f\"Number of layer is : {counter}\")"
      ]
    },
    {
      "cell_type": "markdown",
      "metadata": {
        "id": "_XMrY7-QO2qC"
      },
      "source": [
        "**Attach Hooks to each layer**"
      ]
    },
    {
      "cell_type": "code",
      "execution_count": 5,
      "metadata": {
        "id": "zH7YM0rME7uL"
      },
      "outputs": [],
      "source": [
        "# Prepare storage for outputs and labels\n",
        "features_per_layer = [[] for _ in range(len(model.features))]\n",
        "labels_list = []\n",
        "\n",
        "# Function to attach hooks\n",
        "def get_layer_outputs(layer_idx):\n",
        "    def hook(module, input, output):\n",
        "        features_per_layer[layer_idx].append(output.detach())\n",
        "    return hook\n",
        "\n",
        "# Attach hooks to each layer\n",
        "for idx, layer in enumerate(model.features):\n",
        "    layer.register_forward_hook(get_layer_outputs(idx))"
      ]
    },
    {
      "cell_type": "markdown",
      "metadata": {
        "id": "Ez7xQpCxO95g"
      },
      "source": [
        "## Train data\n",
        "plot SI vs Layer for train data (50%)"
      ]
    },
    {
      "cell_type": "code",
      "execution_count": 8,
      "metadata": {
        "colab": {
          "base_uri": "https://localhost:8080/"
        },
        "id": "aZ2qUOJ-GAN6",
        "outputId": "7ca29f46-100e-400f-8aa6-94466eb07c61"
      },
      "outputs": [
        {
          "output_type": "stream",
          "name": "stderr",
          "text": [
            "100%|██████████| 98/98 [00:17<00:00,  5.57it/s]\n"
          ]
        }
      ],
      "source": [
        "# Pass data through the model and collect layer outputs\n",
        "with torch.no_grad():\n",
        "    for inputs, targets in tqdm(train_loader):\n",
        "        if torch.cuda.is_available():\n",
        "            inputs = inputs.to('cuda')\n",
        "\n",
        "        # Trigger the hooks and collect layer outputs\n",
        "        model(inputs)\n",
        "        labels_list.append(targets)\n",
        "\n",
        "        # Release GPU memory\n",
        "        del inputs\n",
        "        torch.cuda.empty_cache()\n",
        "\n",
        "# Post-process the data: Flatten and concatenate\n",
        "for idx, layer_features in enumerate(features_per_layer):\n",
        "    layer_features = torch.cat([f.view(f.size(0), -1) for f in layer_features])\n",
        "    features_per_layer[idx] = layer_features\n",
        "\n",
        "labels = torch.cat(labels_list)"
      ]
    },
    {
      "cell_type": "code",
      "execution_count": 9,
      "metadata": {
        "colab": {
          "base_uri": "https://localhost:8080/"
        },
        "id": "PwX-cmN7HO03",
        "outputId": "f8197b82-5e5e-4372-f0ef-ca6bf8c9d4be"
      },
      "outputs": [
        {
          "output_type": "stream",
          "name": "stdout",
          "text": [
            "Data has been normalized\n"
          ]
        },
        {
          "output_type": "stream",
          "name": "stderr",
          "text": [
            "Calculating SI: 100%|██████████| 25000/25000 [00:01<00:00, 19563.05it/s]\n"
          ]
        },
        {
          "output_type": "stream",
          "name": "stdout",
          "text": [
            "Data has been normalized\n"
          ]
        },
        {
          "output_type": "stream",
          "name": "stderr",
          "text": [
            "Calculating SI: 100%|██████████| 25000/25000 [00:01<00:00, 19308.37it/s]\n"
          ]
        },
        {
          "output_type": "stream",
          "name": "stdout",
          "text": [
            "Data has been normalized\n"
          ]
        },
        {
          "output_type": "stream",
          "name": "stderr",
          "text": [
            "Calculating SI: 100%|██████████| 25000/25000 [00:01<00:00, 15270.07it/s]\n"
          ]
        },
        {
          "output_type": "stream",
          "name": "stdout",
          "text": [
            "Data has been normalized\n"
          ]
        },
        {
          "output_type": "stream",
          "name": "stderr",
          "text": [
            "Calculating SI: 100%|██████████| 25000/25000 [00:01<00:00, 14055.80it/s]\n"
          ]
        },
        {
          "output_type": "stream",
          "name": "stdout",
          "text": [
            "Data has been normalized\n"
          ]
        },
        {
          "output_type": "stream",
          "name": "stderr",
          "text": [
            "Calculating SI: 100%|██████████| 25000/25000 [00:01<00:00, 18904.38it/s]\n"
          ]
        },
        {
          "output_type": "stream",
          "name": "stdout",
          "text": [
            "Data has been normalized\n"
          ]
        },
        {
          "output_type": "stream",
          "name": "stderr",
          "text": [
            "Calculating SI: 100%|██████████| 25000/25000 [00:01<00:00, 18807.09it/s]\n"
          ]
        },
        {
          "output_type": "stream",
          "name": "stdout",
          "text": [
            "Data has been normalized\n"
          ]
        },
        {
          "output_type": "stream",
          "name": "stderr",
          "text": [
            "Calculating SI: 100%|██████████| 25000/25000 [00:01<00:00, 19247.51it/s]\n"
          ]
        },
        {
          "output_type": "stream",
          "name": "stdout",
          "text": [
            "Data has been normalized\n"
          ]
        },
        {
          "output_type": "stream",
          "name": "stderr",
          "text": [
            "Calculating SI: 100%|██████████| 25000/25000 [00:01<00:00, 18910.10it/s]\n"
          ]
        }
      ],
      "source": [
        "si_layer_train =[]\n",
        "for features in features_per_layer:\n",
        "  instance_disturbance = ARH_SeparationIndex(features, labels, normalize=True)\n",
        "  si = instance_disturbance.si()\n",
        "  # num_ones = torch.sum(si_data == 1).item()\n",
        "  # total_elements = si_data.numel()\n",
        "  # ratio_ones = num_ones / total_elements\n",
        "  si_layer_train.append(si)"
      ]
    },
    {
      "cell_type": "code",
      "execution_count": 10,
      "metadata": {
        "colab": {
          "base_uri": "https://localhost:8080/"
        },
        "id": "7sqFR9THNPKC",
        "outputId": "612f8926-6a28-4785-ae12-31363b3bdeb2"
      },
      "outputs": [
        {
          "output_type": "execute_result",
          "data": {
            "text/plain": [
              "[0.1122, 0.08148, 0.257, 0.391, 0.4246, 0.50996, 0.65252, 0.67892]"
            ]
          },
          "metadata": {},
          "execution_count": 10
        }
      ],
      "source": [
        "si_layer_train"
      ]
    },
    {
      "cell_type": "code",
      "execution_count": 11,
      "metadata": {
        "colab": {
          "base_uri": "https://localhost:8080/",
          "height": 450
        },
        "id": "WvCmsCC8NG0y",
        "outputId": "4be523d1-b05b-49f4-8667-1921b16c4b1c"
      },
      "outputs": [
        {
          "output_type": "display_data",
          "data": {
            "text/plain": [
              "<Figure size 640x480 with 1 Axes>"
            ],
            "image/png": "[encoded data removed]"
          },
          "metadata": {}
        }
      ],
      "source": [
        "# plot si vs layer for Train\n",
        "plt.plot(si_layer_train)\n",
        "plt.xlabel('Layer')\n",
        "plt.ylabel('SI')\n",
        "plt.show()"
      ]
    },
    {
      "cell_type": "markdown",
      "metadata": {
        "id": "XwArpqXCPMEz"
      },
      "source": [
        "## Test data\n",
        "plot SI vs Layer for test data (60%)\n",
        "\n",
        "**** Restart Kernel and run again for Test Section"
      ]
    },
    {
      "cell_type": "code",
      "execution_count": 6,
      "metadata": {
        "colab": {
          "base_uri": "https://localhost:8080/"
        },
        "id": "hDWSYoKHMdGt",
        "outputId": "7d14123a-bcd7-48aa-9f55-3f84d5246969"
      },
      "outputs": [
        {
          "output_type": "stream",
          "name": "stderr",
          "text": [
            "100%|██████████| 40/40 [00:11<00:00,  3.57it/s]\n"
          ]
        }
      ],
      "source": [
        "with torch.no_grad():\n",
        "    for inputs, targets in tqdm(test_loader):\n",
        "        if torch.cuda.is_available():\n",
        "            inputs = inputs.to('cuda')\n",
        "\n",
        "        # Trigger the hooks and collect layer outputs\n",
        "        model(inputs)\n",
        "        labels_list.append(targets)\n",
        "\n",
        "        # Release GPU memory\n",
        "        del inputs\n",
        "        torch.cuda.empty_cache()\n",
        "\n",
        "# Post-process the data: Flatten and concatenate\n",
        "for idx, layer_features in enumerate(features_per_layer):\n",
        "    layer_features = torch.cat([f.view(f.size(0), -1) for f in layer_features])\n",
        "    features_per_layer[idx] = layer_features\n",
        "\n",
        "labels = torch.cat(labels_list)\n"
      ]
    },
    {
      "cell_type": "code",
      "execution_count": 7,
      "metadata": {
        "colab": {
          "base_uri": "https://localhost:8080/"
        },
        "id": "wx4Qs2ogOjPQ",
        "outputId": "a43814ff-7802-49c9-abbf-2bfb2740711c"
      },
      "outputs": [
        {
          "output_type": "stream",
          "name": "stdout",
          "text": [
            "Data has been normalized\n"
          ]
        },
        {
          "output_type": "stream",
          "name": "stderr",
          "text": [
            "Calculating SI: 100%|██████████| 10000/10000 [00:00<00:00, 12356.43it/s]\n"
          ]
        },
        {
          "output_type": "stream",
          "name": "stdout",
          "text": [
            "Data has been normalized\n"
          ]
        },
        {
          "output_type": "stream",
          "name": "stderr",
          "text": [
            "Calculating SI: 100%|██████████| 10000/10000 [00:00<00:00, 19914.75it/s]\n"
          ]
        },
        {
          "output_type": "stream",
          "name": "stdout",
          "text": [
            "Data has been normalized\n"
          ]
        },
        {
          "output_type": "stream",
          "name": "stderr",
          "text": [
            "Calculating SI: 100%|██████████| 10000/10000 [00:00<00:00, 19259.96it/s]\n"
          ]
        },
        {
          "output_type": "stream",
          "name": "stdout",
          "text": [
            "Data has been normalized\n"
          ]
        },
        {
          "output_type": "stream",
          "name": "stderr",
          "text": [
            "Calculating SI: 100%|██████████| 10000/10000 [00:00<00:00, 19534.18it/s]\n"
          ]
        },
        {
          "output_type": "stream",
          "name": "stdout",
          "text": [
            "Data has been normalized\n"
          ]
        },
        {
          "output_type": "stream",
          "name": "stderr",
          "text": [
            "Calculating SI: 100%|██████████| 10000/10000 [00:00<00:00, 19013.45it/s]\n"
          ]
        },
        {
          "output_type": "stream",
          "name": "stdout",
          "text": [
            "Data has been normalized\n"
          ]
        },
        {
          "output_type": "stream",
          "name": "stderr",
          "text": [
            "Calculating SI: 100%|██████████| 10000/10000 [00:00<00:00, 18810.50it/s]\n"
          ]
        },
        {
          "output_type": "stream",
          "name": "stdout",
          "text": [
            "Data has been normalized\n"
          ]
        },
        {
          "output_type": "stream",
          "name": "stderr",
          "text": [
            "Calculating SI: 100%|██████████| 10000/10000 [00:00<00:00, 18063.46it/s]\n"
          ]
        },
        {
          "output_type": "stream",
          "name": "stdout",
          "text": [
            "Data has been normalized\n"
          ]
        },
        {
          "output_type": "stream",
          "name": "stderr",
          "text": [
            "Calculating SI: 100%|██████████| 10000/10000 [00:00<00:00, 18768.76it/s]\n"
          ]
        }
      ],
      "source": [
        "si_layer_test =[]\n",
        "for features in features_per_layer:\n",
        "  instance_disturbance = ARH_SeparationIndex(features, labels, normalize=True)\n",
        "  si = instance_disturbance.si()\n",
        "  si_layer_test.append(si)"
      ]
    },
    {
      "cell_type": "code",
      "execution_count": 8,
      "metadata": {
        "colab": {
          "base_uri": "https://localhost:8080/"
        },
        "id": "sma2pnG-IGpx",
        "outputId": "6c11c955-8dd6-46dc-a8ac-5096b645abfd"
      },
      "outputs": [
        {
          "output_type": "execute_result",
          "data": {
            "text/plain": [
              "[0.0861, 0.0608, 0.2005, 0.3197, 0.3364, 0.3854, 0.4372, 0.4371]"
            ]
          },
          "metadata": {},
          "execution_count": 8
        }
      ],
      "source": [
        "si_layer_test"
      ]
    },
    {
      "cell_type": "code",
      "execution_count": 9,
      "metadata": {
        "colab": {
          "base_uri": "https://localhost:8080/",
          "height": 450
        },
        "id": "Sl0O9SXJJkQp",
        "outputId": "f9869ede-242f-414d-c4ed-16b0960c09c3"
      },
      "outputs": [
        {
          "output_type": "display_data",
          "data": {
            "text/plain": [
              "<Figure size 640x480 with 1 Axes>"
            ],
            "image/png": "[encoded data removed]"
          },
          "metadata": {}
        }
      ],
      "source": [
        "# plot si vs layer for Train\n",
        "plt.plot(si_layer_test)\n",
        "plt.xlabel('Layer')\n",
        "plt.ylabel('SI')\n",
        "plt.show()"
      ]
    },
    {
      "cell_type": "code",
      "source": [],
      "metadata": {
        "id": "cHURM9Ev_Hhk"
      },
      "execution_count": null,
      "outputs": []
    }
  ],
  "metadata": {
    "accelerator": "GPU",
    "colab": {
      "provenance": []
    },
    "kernelspec": {
      "display_name": "Python 3",
      "name": "python3"
    },
    "language_info": {
      "name": "python"
    }
  },
  "nbformat": 4,
  "nbformat_minor": 0
}