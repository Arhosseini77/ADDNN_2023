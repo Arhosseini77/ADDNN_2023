{
 "cells": [
  {
   "cell_type": "code",
   "execution_count": 1,
   "metadata": {
    "id": "TTEv8sD99GyK"
   },
   "outputs": [],
   "source": [
    "import torch\n",
    "import torchvision.transforms as transforms\n",
    "import torchvision.datasets as datasets\n",
    "import torchvision.models as models\n",
    "import torch.nn as nn\n",
    "import torch.optim as optim\n",
    "from torch.optim.lr_scheduler import StepLR\n",
    "import matplotlib.pyplot as plt\n",
    "from tqdm import tqdm\n",
    "import random\n",
    "from torch.utils.data import Subset, DataLoader\n",
    "import numpy as np\n",
    "from torch.cuda.amp import autocast, GradScaler"
   ]
  },
  {
   "cell_type": "code",
   "execution_count": null,
   "metadata": {
    "colab": {
     "base_uri": "https://localhost:8080/"
    },
    "id": "eZ6cIV9z9Hea",
    "outputId": "30b4b123-182d-42ea-e4a3-b22aa241c9d6"
   },
   "outputs": [
    {
     "name": "stdout",
     "output_type": "stream",
     "text": [
      "Downloading...\n",
      "From (uriginal): https://drive.google.com/uc?id=1yWb1OXm7LslxkRx3zHyen-PBZ12-W2sA\n",
      "From (redirected): https://drive.google.com/uc?id=1yWb1OXm7LslxkRx3zHyen-PBZ12-W2sA&confirm=t&uuid=5bffc006-ef82-4ded-9919-d1f42b04392b\n",
      "To: /media/arh/HDD/HDD_files/UT/ADDNNL/HW1/Q2/efficientnetv2_s_cifar100_finetuned.pth\n",
      "100%|██████████████████████████████████████| 82.1M/82.1M [00:23<00:00, 3.49MB/s]\n"
     ]
    }
   ],
   "source": [
    "!gdown 1yWb1OXm7LslxkRx3zHyen-PBZ12-W2sA"
   ]
  },
  {
   "cell_type": "code",
   "execution_count": 2,
   "metadata": {
    "colab": {
     "base_uri": "https://localhost:8080/"
    },
    "id": "ovhgwrGt9Hgq",
    "outputId": "81a5e359-8df4-4312-beea-77b349587560"
   },
   "outputs": [
    {
     "name": "stdout",
     "output_type": "stream",
     "text": [
      "Model Loaded\n"
     ]
    }
   ],
   "source": [
    "# Load EfficientNetV2-S model\n",
    "model = models.efficientnet_v2_s(weights='IMAGENET1K_V1')\n",
    "\n",
    "# 100 classes\n",
    "model.classifier = nn.Sequential(\n",
    "    nn.Dropout(p=0.2, inplace=True),\n",
    "    nn.Linear(1280, 100)\n",
    ")\n",
    "\n",
    "# Define a transformation for the CIFAR-100 dataset (make sure it matches the one used during training)\n",
    "transform = transforms.Compose([\n",
    "    transforms.Resize(300),  # EfficientNetV2-S expects 300x300 input\n",
    "    transforms.CenterCrop(260),  # Center crop to 260x260\n",
    "    transforms.ToTensor(),\n",
    "    transforms.Normalize(mean=[0.485, 0.456, 0.406], std=[0.229, 0.224, 0.225])  # ImageNet mean and std\n",
    "])\n",
    "\n",
    "# Load your pre-trained model weights\n",
    "model.load_state_dict(torch.load('efficientnetv2_s_cifar100_finetuned.pth'))\n",
    "model.eval()  # Set the model to evaluation mode\n",
    "model.cuda()\n",
    "print(\"Model Loaded\")"
   ]
  },
  {
   "cell_type": "code",
   "execution_count": 3,
   "metadata": {
    "colab": {
     "base_uri": "https://localhost:8080/"
    },
    "id": "MiYxrbH29Hlm",
    "outputId": "eeb1d84c-9500-4b7c-e518-942ae907e99d"
   },
   "outputs": [
    {
     "name": "stdout",
     "output_type": "stream",
     "text": [
      "Files already downloaded and verified\n"
     ]
    }
   ],
   "source": [
    "# Define the transformation\n",
    "transform = transforms.Compose([transforms.ToTensor()])\n",
    "\n",
    "# Load the CIFAR-100 dataset\n",
    "cifar100_dataset = datasets.CIFAR100(root='./data', train=True, transform=transform, download=True)\n",
    "\n",
    "# Calculate the number of samples you want (20% of the dataset)\n",
    "# subset_size = int(0.01 * len(cifar100_dataset))\n",
    "\n",
    "subset_size = int(0.2 * len(cifar100_dataset))\n",
    "\n",
    "\n",
    "\n",
    "# Create a random subset of 20% of the dataset\n",
    "subset_indices = torch.randperm(len(cifar100_dataset))[:subset_size]\n",
    "subset_dataset = Subset(cifar100_dataset, subset_indices)\n",
    "\n",
    "# Define your DataLoader for the subset\n",
    "batch_size = 64\n",
    "dataloader = DataLoader(subset_dataset, batch_size=batch_size, shuffle=True)\n"
   ]
  },
  {
   "cell_type": "code",
   "execution_count": 4,
   "metadata": {
    "colab": {
     "base_uri": "https://localhost:8080/"
    },
    "id": "Wa0JcFXZ9LUe",
    "outputId": "0b60f157-2212-47eb-a923-aefd101e5150"
   },
   "outputs": [
    {
     "name": "stderr",
     "output_type": "stream",
     "text": [
      "100%|█████████████████████████████████████████| 157/157 [00:03<00:00, 41.38it/s]\n"
     ]
    }
   ],
   "source": [
    "features = []\n",
    "labels = []\n",
    "\n",
    "\n",
    "with torch.no_grad():\n",
    "    for inputs, targets  in tqdm(dataloader):\n",
    "        if torch.cuda.is_available():\n",
    "            inputs = inputs.to('cuda')\n",
    "        # Forward pass through the model.features\n",
    "        features_batch = model.features(inputs)\n",
    "        features_batch = model.avgpool(features_batch)\n",
    "        features.append(features_batch)\n",
    "        labels.append(targets)\n",
    "\n",
    "\n",
    "        # Release GPU memory\n",
    "        del inputs\n",
    "        torch.cuda.empty_cache()"
   ]
  },
  {
   "cell_type": "code",
   "execution_count": 5,
   "metadata": {},
   "outputs": [],
   "source": [
    "# Stack and reshape the extracted features\n",
    "features = torch.cat(features)\n",
    "features = features.view(features.size(0), -1)\n",
    "labels = torch.cat(labels)"
   ]
  },
  {
   "cell_type": "code",
   "execution_count": 6,
   "metadata": {
    "colab": {
     "base_uri": "https://localhost:8080/"
    },
    "id": "SBzmxHvSl59J",
    "outputId": "28025462-8952-4e90-98e4-8c5dba448007"
   },
   "outputs": [
    {
     "data": {
      "text/plain": [
       "torch.Size([10000, 1280])"
      ]
     },
     "execution_count": 6,
     "metadata": {},
     "output_type": "execute_result"
    }
   ],
   "source": [
    "features.size()"
   ]
  },
  {
   "cell_type": "code",
   "execution_count": 7,
   "metadata": {
    "id": "EWbXV6bZ9Lcc"
   },
   "outputs": [],
   "source": [
    "labels=labels.unsqueeze(1)  # Make it a 2D tensor"
   ]
  },
  {
   "cell_type": "code",
   "execution_count": 8,
   "metadata": {
    "id": "8e2a-Gra9Nvx"
   },
   "outputs": [],
   "source": [
    "from data_complexity_measures.models.SeprationIndex import Kalhor_SeparationIndex"
   ]
  },
  {
   "cell_type": "code",
   "execution_count": 9,
   "metadata": {
    "colab": {
     "base_uri": "https://localhost:8080/"
    },
    "id": "tbftHjt49RwT",
    "outputId": "2b403a0c-b829-495a-aa47-689b3d107588"
   },
   "outputs": [
    {
     "name": "stdout",
     "output_type": "stream",
     "text": [
      "data becomes normalized\n"
     ]
    }
   ],
   "source": [
    "instance_disturbance = Kalhor_SeparationIndex(features, labels, normalize=True)\n"
   ]
  },
  {
   "cell_type": "code",
   "execution_count": 10,
   "metadata": {
    "id": "_o-5XVcQ9SJV"
   },
   "outputs": [
    {
     "name": "stdout",
     "output_type": "stream",
     "text": [
      "start forward-Selection\n"
     ]
    },
    {
     "name": "stderr",
     "output_type": "stream",
     "text": [
      "100%|█████████████████████████████████████| 1280/1280 [4:15:59<00:00, 12.00s/it]\n"
     ]
    }
   ],
   "source": [
    "si_ranked_features, ranked_features = instance_disturbance.forward_feature_ranking_si()"
   ]
  },
  {
   "cell_type": "code",
   "execution_count": 11,
   "metadata": {
    "colab": {
     "base_uri": "https://localhost:8080/",
     "height": 305
    },
    "id": "Cye-7KJ29TQc",
    "outputId": "4fd039f4-7337-4d25-c643-2a7ebb2db368"
   },
   "outputs": [
    {
     "name": "stdout",
     "output_type": "stream",
     "text": [
      "Ranked features are:  tensor([[ 377., 1273., 1261.,  ..., 1169., 1049.,  855.]])\n",
      "si for the best chosen Features are:  [[0.0274 0.0449 0.0669 ... 0.6429 0.6425 0.6419]]\n"
     ]
    },
    {
     "data": {
      "image/png": "[encoded data removed]",
      "text/plain": [
       "<Figure size 640x480 with 1 Axes>"
      ]
     },
     "metadata": {},
     "output_type": "display_data"
    }
   ],
   "source": [
    "plt.subplot(2, 1, 2)\n",
    "plt.plot(si_ranked_features.cpu().detach().numpy(), 'b')\n",
    "plt.xlabel(\"Number of selected features\")\n",
    "plt.ylabel(\"SI\")\n",
    "plt.title(\"Forward feature ranking by SI\")\n",
    "si_ranked_features = torch.transpose(si_ranked_features, 0, 1)\n",
    "print('Ranked features are: ', ranked_features)\n",
    "print('si for the best chosen Features are: ', si_ranked_features.detach().cpu().numpy())"
   ]
  },
  {
   "cell_type": "code",
   "execution_count": 12,
   "metadata": {
    "colab": {
     "base_uri": "https://localhost:8080/"
    },
    "id": "mArS6J1TGco8",
    "outputId": "384a06e5-e056-4033-e763-e57125217228"
   },
   "outputs": [
    {
     "data": {
      "text/plain": [
       "tensor([[ 377., 1273., 1261.,  ..., 1169., 1049.,  855.]])"
      ]
     },
     "execution_count": 12,
     "metadata": {},
     "output_type": "execute_result"
    }
   ],
   "source": [
    "ranked_features"
   ]
  },
  {
   "cell_type": "code",
   "execution_count": 13,
   "metadata": {
    "colab": {
     "base_uri": "https://localhost:8080/"
    },
    "id": "ZntLWtDWGkJJ",
    "outputId": "a7b0912e-81a6-4105-af54-e697edcb2efd"
   },
   "outputs": [
    {
     "data": {
      "text/plain": [
       "0.6744"
      ]
     },
     "execution_count": 13,
     "metadata": {},
     "output_type": "execute_result"
    }
   ],
   "source": [
    "np.max(si_ranked_features.detach().cpu().numpy()[0])"
   ]
  },
  {
   "cell_type": "code",
   "execution_count": 14,
   "metadata": {
    "colab": {
     "base_uri": "https://localhost:8080/"
    },
    "id": "yJnJA2SDGmWe",
    "outputId": "154aa3b7-d04e-4770-b89a-f2443c85cefb"
   },
   "outputs": [
    {
     "name": "stdout",
     "output_type": "stream",
     "text": [
      "Index of the maximum value: 545\n"
     ]
    }
   ],
   "source": [
    "si_ranked_features = si_ranked_features.detach().cpu().numpy()[0]\n",
    "max_index = np.argmax(si_ranked_features)\n",
    "\n",
    "print(\"Index of the maximum value:\", max_index)\n"
   ]
  },
  {
   "cell_type": "code",
   "execution_count": 15,
   "metadata": {
    "colab": {
     "base_uri": "https://localhost:8080/"
    },
    "id": "2Yj8OXp3HutY",
    "outputId": "027e411c-68de-46b6-e656-0ea3d24da7f1"
   },
   "outputs": [],
   "source": [
    "feat = ranked_features[0][:max_index]"
   ]
  },
  {
   "cell_type": "code",
   "execution_count": 16,
   "metadata": {},
   "outputs": [
    {
     "data": {
      "text/plain": [
       "torch.Size([545])"
      ]
     },
     "execution_count": 16,
     "metadata": {},
     "output_type": "execute_result"
    }
   ],
   "source": [
    "feat.size()"
   ]
  },
  {
   "cell_type": "code",
   "execution_count": 17,
   "metadata": {},
   "outputs": [
    {
     "data": {
      "text/plain": [
       "545"
      ]
     },
     "execution_count": 17,
     "metadata": {},
     "output_type": "execute_result"
    }
   ],
   "source": [
    "len(feat)"
   ]
  },
  {
   "cell_type": "code",
   "execution_count": 18,
   "metadata": {},
   "outputs": [
    {
     "data": {
      "text/plain": [
       "torch.Size([16, 1280, 1, 1])"
      ]
     },
     "execution_count": 18,
     "metadata": {},
     "output_type": "execute_result"
    }
   ],
   "source": [
    "features_batch.size()"
   ]
  },
  {
   "cell_type": "code",
   "execution_count": 19,
   "metadata": {},
   "outputs": [],
   "source": [
    "x = features_batch[:, feat.long(),:,:] "
   ]
  },
  {
   "cell_type": "code",
   "execution_count": 20,
   "metadata": {},
   "outputs": [
    {
     "data": {
      "text/plain": [
       "torch.Size([16, 545, 1, 1])"
      ]
     },
     "execution_count": 20,
     "metadata": {},
     "output_type": "execute_result"
    }
   ],
   "source": [
    "x.size()"
   ]
  },
  {
   "cell_type": "code",
   "execution_count": 21,
   "metadata": {},
   "outputs": [],
   "source": [
    "# Train MLP"
   ]
  },
  {
   "cell_type": "code",
   "execution_count": 22,
   "metadata": {},
   "outputs": [],
   "source": [
    "\n",
    "class MLPModel(nn.Module):\n",
    "    def __init__(self, input_size, output_size, dropout_rate=0.2):\n",
    "        super(MLPModel, self).__init__()\n",
    "        self.flatten = nn.Flatten()\n",
    "        self.dropout = nn.Dropout(dropout_rate)\n",
    "        self.fc = nn.Linear(input_size, output_size)\n",
    "\n",
    "    def forward(self, x):\n",
    "        x = self.flatten(x)\n",
    "        x = self.dropout(x)\n",
    "        x = self.fc(x)\n",
    "        return x"
   ]
  },
  {
   "cell_type": "code",
   "execution_count": 23,
   "metadata": {},
   "outputs": [],
   "source": [
    "input_size = len(feat)\n",
    "output_size = 100  \n",
    "mlp_model = MLPModel(input_size, output_size)"
   ]
  },
  {
   "cell_type": "code",
   "execution_count": 24,
   "metadata": {},
   "outputs": [],
   "source": [
    "# Define loss function and optimizer\n",
    "criterion = nn.CrossEntropyLoss()\n",
    "optimizer = optim.Adam(mlp_model.parameters(), lr=0.001)\n",
    "\n",
    "# Set device\n",
    "device = torch.device(\"cuda\" if torch.cuda.is_available() else \"cpu\")\n",
    "\n",
    "# Move models to device\n",
    "model.to(device)\n",
    "mlp_model.to(device)\n",
    "\n",
    "# Load CIFAR-100 dataset\n",
    "transform = transforms.Compose([\n",
    "    transforms.ToTensor(),\n",
    "    transforms.Normalize((0.5, 0.5, 0.5), (0.5, 0.5, 0.5))\n",
    "])"
   ]
  },
  {
   "cell_type": "code",
   "execution_count": 25,
   "metadata": {},
   "outputs": [],
   "source": [
    "import torchvision"
   ]
  },
  {
   "cell_type": "code",
   "execution_count": 26,
   "metadata": {},
   "outputs": [
    {
     "name": "stdout",
     "output_type": "stream",
     "text": [
      "Files already downloaded and verified\n",
      "Files already downloaded and verified\n"
     ]
    }
   ],
   "source": [
    "train_dataset = torchvision.datasets.CIFAR100(root='./data', train=True, download=True, transform=transform)\n",
    "train_loader = DataLoader(train_dataset, batch_size=64, shuffle=True, num_workers=2)\n",
    "\n",
    "test_dataset = torchvision.datasets.CIFAR100(root='./data', train=False, download=True, transform=transform)\n",
    "test_loader = DataLoader(test_dataset, batch_size=64, shuffle=False, num_workers=2)"
   ]
  },
  {
   "cell_type": "code",
   "execution_count": 27,
   "metadata": {},
   "outputs": [
    {
     "name": "stderr",
     "output_type": "stream",
     "text": [
      "Epoch 1/10: 100%|████████████| 782/782 [00:44<00:00, 17.56batch/s, Loss=0.00648]\n"
     ]
    },
    {
     "name": "stdout",
     "output_type": "stream",
     "text": [
      "Train Loss: 0.41419599418673675, Train Accuracy: 93.272%, Val Loss: 1.5593414264879408, Val Accuracy: 64.17%\n"
     ]
    },
    {
     "name": "stderr",
     "output_type": "stream",
     "text": [
      "Epoch 2/10: 100%|████████████| 782/782 [00:44<00:00, 17.73batch/s, Loss=0.00139]\n"
     ]
    },
    {
     "name": "stdout",
     "output_type": "stream",
     "text": [
      "Train Loss: 0.08903824880985958, Train Accuracy: 98.174%, Val Loss: 1.7491491349639408, Val Accuracy: 64.03%\n"
     ]
    },
    {
     "name": "stderr",
     "output_type": "stream",
     "text": [
      "Epoch 3/10: 100%|███████████| 782/782 [00:44<00:00, 17.73batch/s, Loss=0.000939]\n"
     ]
    },
    {
     "name": "stdout",
     "output_type": "stream",
     "text": [
      "Train Loss: 0.060029274593476595, Train Accuracy: 98.672%, Val Loss: 1.897880528003547, Val Accuracy: 64.05%\n"
     ]
    },
    {
     "name": "stderr",
     "output_type": "stream",
     "text": [
      "Epoch 4/10: 100%|███████████| 782/782 [00:43<00:00, 17.81batch/s, Loss=0.000737]\n"
     ]
    },
    {
     "name": "stdout",
     "output_type": "stream",
     "text": [
      "Train Loss: 0.047141327947268594, Train Accuracy: 98.91%, Val Loss: 2.030767187950717, Val Accuracy: 63.79%\n"
     ]
    },
    {
     "name": "stderr",
     "output_type": "stream",
     "text": [
      "Epoch 5/10: 100%|████████████| 782/782 [00:43<00:00, 17.84batch/s, Loss=0.00062]\n"
     ]
    },
    {
     "name": "stdout",
     "output_type": "stream",
     "text": [
      "Train Loss: 0.03962559335420856, Train Accuracy: 99.054%, Val Loss: 2.153800835275346, Val Accuracy: 64.05%\n"
     ]
    },
    {
     "name": "stderr",
     "output_type": "stream",
     "text": [
      "Epoch 6/10: 100%|███████████| 782/782 [00:43<00:00, 17.83batch/s, Loss=0.000526]\n"
     ]
    },
    {
     "name": "stdout",
     "output_type": "stream",
     "text": [
      "Train Loss: 0.03366048281501426, Train Accuracy: 99.158%, Val Loss: 2.276406872044703, Val Accuracy: 63.87%\n"
     ]
    },
    {
     "name": "stderr",
     "output_type": "stream",
     "text": [
      "Epoch 7/10: 100%|███████████| 782/782 [00:43<00:00, 17.79batch/s, Loss=0.000471]\n"
     ]
    },
    {
     "name": "stdout",
     "output_type": "stream",
     "text": [
      "Train Loss: 0.03010703546508356, Train Accuracy: 99.2%, Val Loss: 2.381517439131524, Val Accuracy: 63.75%\n"
     ]
    },
    {
     "name": "stderr",
     "output_type": "stream",
     "text": [
      "Epoch 8/10: 100%|███████████| 782/782 [00:43<00:00, 17.80batch/s, Loss=0.000429]\n"
     ]
    },
    {
     "name": "stdout",
     "output_type": "stream",
     "text": [
      "Train Loss: 0.027431093888771733, Train Accuracy: 99.274%, Val Loss: 2.488978254567286, Val Accuracy: 63.63%\n"
     ]
    },
    {
     "name": "stderr",
     "output_type": "stream",
     "text": [
      "Epoch 9/10: 100%|███████████| 782/782 [00:44<00:00, 17.65batch/s, Loss=0.000374]\n"
     ]
    },
    {
     "name": "stdout",
     "output_type": "stream",
     "text": [
      "Train Loss: 0.023892969442376642, Train Accuracy: 99.318%, Val Loss: 2.5865020319155065, Val Accuracy: 63.71%\n"
     ]
    },
    {
     "name": "stderr",
     "output_type": "stream",
     "text": [
      "Epoch 10/10: 100%|██████████| 782/782 [00:43<00:00, 17.80batch/s, Loss=0.000361]\n"
     ]
    },
    {
     "name": "stdout",
     "output_type": "stream",
     "text": [
      "Train Loss: 0.0230679059324636, Train Accuracy: 99.354%, Val Loss: 2.664083052592672, Val Accuracy: 63.66%\n"
     ]
    }
   ],
   "source": [
    "# Training and validation loop\n",
    "num_epochs = 10\n",
    "\n",
    "train_losses = []\n",
    "train_accuracies = []\n",
    "val_losses = []\n",
    "val_accuracies = []\n",
    "\n",
    "for epoch in range(num_epochs):\n",
    "    mlp_model.train()\n",
    "    total_loss = 0.0\n",
    "    correct = 0\n",
    "    total = 0\n",
    "\n",
    "    # Use tqdm for progress bar\n",
    "    with tqdm(train_loader, desc=f'Epoch {epoch + 1}/{num_epochs}', unit='batch') as tqdm_loader:\n",
    "        for inputs, labels in tqdm_loader:\n",
    "            inputs, labels = inputs.to(device), labels.to(device)\n",
    "\n",
    "            # Get features using the pretrained model\n",
    "            features_batch = model.features(inputs)\n",
    "            features_batch = model.avgpool(features_batch)\n",
    "            x = features_batch[:, feat.long(), :, :]\n",
    "\n",
    "            # Forward pass through the MLP model\n",
    "            outputs = mlp_model(x)\n",
    "\n",
    "            # Calculate loss and perform backpropagation\n",
    "            loss = criterion(outputs, labels)\n",
    "            optimizer.zero_grad()\n",
    "            loss.backward()\n",
    "            optimizer.step()\n",
    "\n",
    "            total_loss += loss.item()\n",
    "            _, predicted = outputs.max(1)\n",
    "            total += labels.size(0)\n",
    "            correct += predicted.eq(labels).sum().item()\n",
    "\n",
    "            # Update tqdm description with current loss\n",
    "            tqdm_loader.set_postfix({'Loss': total_loss / total})\n",
    "\n",
    "    # Calculate training accuracy and loss\n",
    "    train_accuracy = 100 * correct / total\n",
    "    train_losses.append(total_loss / len(train_loader))\n",
    "    train_accuracies.append(train_accuracy)\n",
    "\n",
    "    # Validation loop\n",
    "    mlp_model.eval()\n",
    "    with torch.no_grad():\n",
    "        val_loss = 0.0\n",
    "        val_correct = 0\n",
    "        val_total = 0\n",
    "\n",
    "        for val_inputs, val_labels in test_loader:\n",
    "            val_inputs, val_labels = val_inputs.to(device), val_labels.to(device)\n",
    "\n",
    "            val_features_batch = model.features(val_inputs)\n",
    "            val_features_batch = model.avgpool(val_features_batch)\n",
    "            val_x = val_features_batch[:, feat.long(), :, :]\n",
    "\n",
    "            val_outputs = mlp_model(val_x)\n",
    "            val_loss += criterion(val_outputs, val_labels).item()\n",
    "\n",
    "            _, val_predicted = val_outputs.max(1)\n",
    "            val_total += val_labels.size(0)\n",
    "            val_correct += val_predicted.eq(val_labels).sum().item()\n",
    "\n",
    "        # Calculate validation accuracy and loss\n",
    "        val_accuracy = 100 * val_correct / val_total\n",
    "        val_losses.append(val_loss / len(test_loader))\n",
    "        val_accuracies.append(val_accuracy)\n",
    "\n",
    "        print(f'Train Loss: {train_losses[-1]}, Train Accuracy: {train_accuracies[-1]}%, '\n",
    "              f'Val Loss: {val_losses[-1]}, Val Accuracy: {val_accuracies[-1]}%')"
   ]
  },
  {
   "cell_type": "code",
   "execution_count": 28,
   "metadata": {},
   "outputs": [
    {
     "data": {
      "image/png": "[encoded data removed]",
      "text/plain": [
       "<Figure size 1000x500 with 2 Axes>"
      ]
     },
     "metadata": {},
     "output_type": "display_data"
    }
   ],
   "source": [
    "# Plotting\n",
    "plt.figure(figsize=(10, 5))\n",
    "plt.subplot(1, 2, 1)\n",
    "plt.plot(train_losses, label='Train')\n",
    "plt.plot(val_losses, label='Validation')\n",
    "plt.title('Loss')\n",
    "plt.legend()\n",
    "\n",
    "plt.subplot(1, 2, 2)\n",
    "plt.plot(train_accuracies, label='Train')\n",
    "plt.plot(val_accuracies, label='Validation')\n",
    "plt.title('Accuracy')\n",
    "plt.legend()\n",
    "\n",
    "plt.show()"
   ]
  },
  {
   "cell_type": "code",
   "execution_count": 29,
   "metadata": {},
   "outputs": [],
   "source": [
    "# Save the trained model\n",
    "torch.save(mlp_model.state_dict(), 'mlp_model.pth')"
   ]
  },
  {
   "cell_type": "code",
   "execution_count": null,
   "metadata": {},
   "outputs": [],
   "source": []
  }
 ],
 "metadata": {
  "accelerator": "GPU",
  "colab": {
   "gpuType": "T4",
   "provenance": []
  },
  "kernelspec": {
   "display_name": "deepgaze3",
   "language": "python",
   "name": "deepgaze3"
  },
  "language_info": {
   "codemirror_mode": {
    "name": "ipython",
    "version": 3
   },
   "file_extension": ".py",
   "mimetype": "text/x-python",
   "name": "python",
   "nbconvert_exporter": "python",
   "pygments_lexer": "ipython3",
   "version": "3.9.16"
  }
 },
 "nbformat": 4,
 "nbformat_minor": 4
}
