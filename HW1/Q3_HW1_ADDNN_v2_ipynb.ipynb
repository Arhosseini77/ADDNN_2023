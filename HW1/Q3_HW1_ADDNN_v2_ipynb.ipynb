{
 "cells": [
  {
   "cell_type": "code",
   "execution_count": 1,
   "metadata": {
    "id": "XioKT_xcVUOv"
   },
   "outputs": [],
   "source": [
    "import torch\n",
    "import torchvision.transforms as transforms\n",
    "import torchvision.datasets as datasets\n",
    "import torchvision.models as models\n",
    "import torch.nn as nn\n",
    "import torch.optim as optim\n",
    "from torch.optim.lr_scheduler import StepLR\n",
    "import matplotlib.pyplot as plt\n",
    "from tqdm import tqdm\n",
    "import albumentations as A\n",
    "import numpy as np\n",
    "import cv2\n",
    "import random"
   ]
  },
  {
   "cell_type": "code",
   "execution_count": 2,
   "metadata": {
    "colab": {
     "base_uri": "https://localhost:8080/"
    },
    "id": "jzkPk2puyGkY",
    "outputId": "16ba3f18-347a-4a13-88eb-16248f6b5cb7"
   },
   "outputs": [
    {
     "name": "stdout",
     "output_type": "stream",
     "text": [
      "Cloning into 'data_complexity_measures'...\n",
      "remote: Enumerating objects: 71, done.\u001b[K\n",
      "remote: Counting objects: 100% (71/71), done.\u001b[K\n",
      "remote: Compressing objects: 100% (59/59), done.\u001b[K\n",
      "remote: Total 71 (delta 34), reused 31 (delta 9), pack-reused 0\u001b[K\n",
      "Receiving objects: 100% (71/71), 125.53 KiB | 528.00 KiB/s, done.\n",
      "Resolving deltas: 100% (34/34), done.\n"
     ]
    }
   ],
   "source": [
    "!git clone https://github.com/Arhosseini77/data_complexity_measures"
   ]
  },
  {
   "cell_type": "code",
   "execution_count": 2,
   "metadata": {
    "id": "Wa_dMcOxyHZM"
   },
   "outputs": [],
   "source": [
    "import torch\n",
    "from torchvision import datasets, transforms\n",
    "import random\n",
    "import numpy as np\n",
    "\n",
    "from data_complexity_measures.models.SeprationIndex import Kalhor_SeparationIndex"
   ]
  },
  {
   "cell_type": "markdown",
   "metadata": {
    "id": "R1wPcoLVhUmk"
   },
   "source": [
    "# CLAHE"
   ]
  },
  {
   "cell_type": "code",
   "execution_count": 4,
   "metadata": {
    "colab": {
     "base_uri": "https://localhost:8080/"
    },
    "id": "RS0C3i9wVt46",
    "outputId": "64a49782-ae56-426a-ff7f-d4eaeaafd3ae"
   },
   "outputs": [
    {
     "name": "stdout",
     "output_type": "stream",
     "text": [
      "Files already downloaded and verified\n",
      "Files already downloaded and verified\n",
      "Files already downloaded and verified\n",
      "Combined Train set size: 100000\n",
      "Combined Test set size: 10000\n"
     ]
    }
   ],
   "source": [
    "import albumentations as A\n",
    "import cv2\n",
    "import torch\n",
    "from torchvision import datasets, transforms\n",
    "import numpy as np\n",
    "\n",
    "# Declare an augmentation pipeline\n",
    "image_transform = A.Compose([\n",
    "    A.CLAHE(clip_limit=4.0, tile_grid_size=(8, 8), always_apply=False, p=0.5),\n",
    "])\n",
    "\n",
    "# Define data transformations including the Albumentations transform\n",
    "transform1 = transforms.Compose([\n",
    "    # transforms.ToPILImage(),\n",
    "    transforms.Lambda(lambda img: image_transform(image=np.array(img))[\"image\"]),\n",
    "    transforms.ToTensor(),\n",
    "    # transforms.Normalize((0.5, 0.5, 0.5), (0.5, 0.5, 0.5))\n",
    "])\n",
    "\n",
    "transform2 = transforms.Compose([\n",
    "    # transforms.ToPILImage(),\n",
    "    transforms.ToTensor(),\n",
    "    # transforms.Normalize((0.5, 0.5, 0.5), (0.5, 0.5, 0.5))\n",
    "])\n",
    "\n",
    "# Load CIFAR-100 dataset without Albumentations transform\n",
    "cifar100_original = datasets.CIFAR100(root='./data', train=True, download=True, transform=transforms.ToTensor())\n",
    "cifar100_train_augmented = datasets.CIFAR100(root='./data', train=True, download=True, transform=transform1)\n",
    "cifar100_test_augmented = datasets.CIFAR100(root='./data', train=False, download=True, transform=transform2)\n",
    "\n",
    "# Combine original and augmented datasets\n",
    "cifar100_train_combined = torch.utils.data.ConcatDataset([cifar100_original, cifar100_train_augmented])\n",
    "cifar100_test_combined = torch.utils.data.ConcatDataset([cifar100_test_augmented])\n",
    "\n",
    "# Create PyTorch data loaders\n",
    "batch_size = 256\n",
    "train_loader = torch.utils.data.DataLoader(cifar100_train_combined, batch_size=batch_size, shuffle=True)\n",
    "val_loader = torch.utils.data.DataLoader(cifar100_test_combined, batch_size=batch_size, shuffle=False)\n",
    "\n",
    "# Check the number of samples in each set\n",
    "print(f\"Combined Train set size: {len(cifar100_train_combined)}\")\n",
    "print(f\"Combined Test set size: {len(cifar100_test_combined)}\")\n"
   ]
  },
  {
   "cell_type": "code",
   "execution_count": 7,
   "metadata": {
    "colab": {
     "base_uri": "https://localhost:8080/"
    },
    "id": "U31V69KgXXUB",
    "outputId": "8ac69e02-4eb9-4674-83ee-5c4f186bda06"
   },
   "outputs": [],
   "source": [
    "# Load EfficientNetV2-S model\n",
    "model = models.efficientnet_v2_s(weights='IMAGENET1K_V1')\n",
    "\n",
    "# 100 classes\n",
    "model.classifier = nn.Sequential(\n",
    "    nn.Dropout(p=0.2, inplace=True),\n",
    "    nn.Linear(1280, 100)\n",
    ")"
   ]
  },
  {
   "cell_type": "code",
   "execution_count": 8,
   "metadata": {
    "colab": {
     "base_uri": "https://localhost:8080/"
    },
    "id": "fhWh6pNgbhJN",
    "outputId": "35782be3-d2aa-43e1-e8ed-7d1e69e81b42"
   },
   "outputs": [
    {
     "name": "stdout",
     "output_type": "stream",
     "text": [
      "Sequential(\n",
      "  (0): Dropout(p=0.2, inplace=True)\n",
      "  (1): Linear(in_features=1280, out_features=100, bias=True)\n",
      ")\n"
     ]
    }
   ],
   "source": [
    "classifier = model.classifier\n",
    "print(classifier)"
   ]
  },
  {
   "cell_type": "code",
   "execution_count": 9,
   "metadata": {
    "colab": {
     "base_uri": "https://localhost:8080/"
    },
    "id": "J8RmQDsibinI",
    "outputId": "880fd850-7d81-41ee-cff7-3e50afb38343"
   },
   "outputs": [
    {
     "name": "stderr",
     "output_type": "stream",
     "text": [
      "Epoch 1/20: 100%|█████████████████████████████| 391/391 [01:04<00:00,  6.09it/s]\n"
     ]
    },
    {
     "name": "stdout",
     "output_type": "stream",
     "text": [
      "Epoch 1/20 | Train Loss: 2.3408 | Train Acc: 40.15% | Val Loss: 1.5929 | Val Acc: 55.42%\n"
     ]
    },
    {
     "name": "stderr",
     "output_type": "stream",
     "text": [
      "Epoch 2/20: 100%|█████████████████████████████| 391/391 [01:01<00:00,  6.36it/s]\n"
     ]
    },
    {
     "name": "stdout",
     "output_type": "stream",
     "text": [
      "Epoch 2/20 | Train Loss: 1.1910 | Train Acc: 65.75% | Val Loss: 1.4926 | Val Acc: 59.83%\n"
     ]
    },
    {
     "name": "stderr",
     "output_type": "stream",
     "text": [
      "Epoch 3/20: 100%|█████████████████████████████| 391/391 [01:01<00:00,  6.34it/s]\n"
     ]
    },
    {
     "name": "stdout",
     "output_type": "stream",
     "text": [
      "Epoch 3/20 | Train Loss: 0.8116 | Train Acc: 75.72% | Val Loss: 1.4893 | Val Acc: 60.61%\n"
     ]
    },
    {
     "name": "stderr",
     "output_type": "stream",
     "text": [
      "Epoch 4/20: 100%|█████████████████████████████| 391/391 [01:01<00:00,  6.36it/s]\n"
     ]
    },
    {
     "name": "stdout",
     "output_type": "stream",
     "text": [
      "Epoch 4/20 | Train Loss: 0.5720 | Train Acc: 82.49% | Val Loss: 1.6559 | Val Acc: 60.40%\n"
     ]
    },
    {
     "name": "stderr",
     "output_type": "stream",
     "text": [
      "Epoch 5/20: 100%|█████████████████████████████| 391/391 [01:01<00:00,  6.40it/s]\n"
     ]
    },
    {
     "name": "stdout",
     "output_type": "stream",
     "text": [
      "Epoch 5/20 | Train Loss: 0.2078 | Train Acc: 93.70% | Val Loss: 1.5659 | Val Acc: 65.10%\n"
     ]
    },
    {
     "name": "stderr",
     "output_type": "stream",
     "text": [
      "Epoch 6/20: 100%|█████████████████████████████| 391/391 [01:01<00:00,  6.37it/s]\n"
     ]
    },
    {
     "name": "stdout",
     "output_type": "stream",
     "text": [
      "Epoch 6/20 | Train Loss: 0.0999 | Train Acc: 97.18% | Val Loss: 1.6538 | Val Acc: 64.89%\n"
     ]
    },
    {
     "name": "stderr",
     "output_type": "stream",
     "text": [
      "Epoch 7/20: 100%|█████████████████████████████| 391/391 [01:01<00:00,  6.41it/s]\n"
     ]
    },
    {
     "name": "stdout",
     "output_type": "stream",
     "text": [
      "Epoch 7/20 | Train Loss: 0.0643 | Train Acc: 98.28% | Val Loss: 1.7771 | Val Acc: 65.33%\n"
     ]
    },
    {
     "name": "stderr",
     "output_type": "stream",
     "text": [
      "Epoch 8/20: 100%|█████████████████████████████| 391/391 [01:01<00:00,  6.37it/s]\n"
     ]
    },
    {
     "name": "stdout",
     "output_type": "stream",
     "text": [
      "Epoch 8/20 | Train Loss: 0.0480 | Train Acc: 98.67% | Val Loss: 1.8506 | Val Acc: 65.27%\n"
     ]
    },
    {
     "name": "stderr",
     "output_type": "stream",
     "text": [
      "Epoch 9/20: 100%|█████████████████████████████| 391/391 [01:00<00:00,  6.41it/s]\n"
     ]
    },
    {
     "name": "stdout",
     "output_type": "stream",
     "text": [
      "Epoch 9/20 | Train Loss: 0.0338 | Train Acc: 99.13% | Val Loss: 1.8274 | Val Acc: 65.40%\n"
     ]
    },
    {
     "name": "stderr",
     "output_type": "stream",
     "text": [
      "Epoch 10/20: 100%|████████████████████████████| 391/391 [01:00<00:00,  6.41it/s]\n"
     ]
    },
    {
     "name": "stdout",
     "output_type": "stream",
     "text": [
      "Epoch 10/20 | Train Loss: 0.0254 | Train Acc: 99.38% | Val Loss: 1.8440 | Val Acc: 65.68%\n"
     ]
    },
    {
     "name": "stderr",
     "output_type": "stream",
     "text": [
      "Epoch 11/20: 100%|████████████████████████████| 391/391 [01:01<00:00,  6.37it/s]\n"
     ]
    },
    {
     "name": "stdout",
     "output_type": "stream",
     "text": [
      "Epoch 11/20 | Train Loss: 0.0222 | Train Acc: 99.47% | Val Loss: 1.8740 | Val Acc: 65.74%\n"
     ]
    },
    {
     "name": "stderr",
     "output_type": "stream",
     "text": [
      "Epoch 12/20: 100%|████████████████████████████| 391/391 [01:01<00:00,  6.35it/s]\n"
     ]
    },
    {
     "name": "stdout",
     "output_type": "stream",
     "text": [
      "Epoch 12/20 | Train Loss: 0.0184 | Train Acc: 99.56% | Val Loss: 1.8906 | Val Acc: 65.70%\n"
     ]
    },
    {
     "name": "stderr",
     "output_type": "stream",
     "text": [
      "Epoch 13/20: 100%|████████████████████████████| 391/391 [01:01<00:00,  6.39it/s]\n"
     ]
    },
    {
     "name": "stdout",
     "output_type": "stream",
     "text": [
      "Epoch 13/20 | Train Loss: 0.0167 | Train Acc: 99.61% | Val Loss: 1.9021 | Val Acc: 65.92%\n"
     ]
    },
    {
     "name": "stderr",
     "output_type": "stream",
     "text": [
      "Epoch 14/20: 100%|████████████████████████████| 391/391 [01:01<00:00,  6.37it/s]\n"
     ]
    },
    {
     "name": "stdout",
     "output_type": "stream",
     "text": [
      "Epoch 14/20 | Train Loss: 0.0158 | Train Acc: 99.62% | Val Loss: 1.9033 | Val Acc: 65.91%\n"
     ]
    },
    {
     "name": "stderr",
     "output_type": "stream",
     "text": [
      "Epoch 15/20: 100%|████████████████████████████| 391/391 [01:01<00:00,  6.40it/s]\n"
     ]
    },
    {
     "name": "stdout",
     "output_type": "stream",
     "text": [
      "Epoch 15/20 | Train Loss: 0.0151 | Train Acc: 99.66% | Val Loss: 1.9068 | Val Acc: 65.87%\n"
     ]
    },
    {
     "name": "stderr",
     "output_type": "stream",
     "text": [
      "Epoch 16/20: 100%|████████████████████████████| 391/391 [01:01<00:00,  6.39it/s]\n"
     ]
    },
    {
     "name": "stdout",
     "output_type": "stream",
     "text": [
      "Epoch 16/20 | Train Loss: 0.0153 | Train Acc: 99.62% | Val Loss: 1.9192 | Val Acc: 65.70%\n"
     ]
    },
    {
     "name": "stderr",
     "output_type": "stream",
     "text": [
      "Epoch 17/20: 100%|████████████████████████████| 391/391 [01:01<00:00,  6.40it/s]\n"
     ]
    },
    {
     "name": "stdout",
     "output_type": "stream",
     "text": [
      "Epoch 17/20 | Train Loss: 0.0136 | Train Acc: 99.70% | Val Loss: 1.9178 | Val Acc: 65.79%\n"
     ]
    },
    {
     "name": "stderr",
     "output_type": "stream",
     "text": [
      "Epoch 18/20: 100%|████████████████████████████| 391/391 [01:01<00:00,  6.39it/s]\n"
     ]
    },
    {
     "name": "stdout",
     "output_type": "stream",
     "text": [
      "Epoch 18/20 | Train Loss: 0.0137 | Train Acc: 99.69% | Val Loss: 1.9122 | Val Acc: 65.89%\n"
     ]
    },
    {
     "name": "stderr",
     "output_type": "stream",
     "text": [
      "Epoch 19/20: 100%|████████████████████████████| 391/391 [01:01<00:00,  6.39it/s]\n"
     ]
    },
    {
     "name": "stdout",
     "output_type": "stream",
     "text": [
      "Epoch 19/20 | Train Loss: 0.0138 | Train Acc: 99.67% | Val Loss: 1.9210 | Val Acc: 66.05%\n"
     ]
    },
    {
     "name": "stderr",
     "output_type": "stream",
     "text": [
      "Epoch 20/20: 100%|████████████████████████████| 391/391 [01:01<00:00,  6.38it/s]\n"
     ]
    },
    {
     "name": "stdout",
     "output_type": "stream",
     "text": [
      "Epoch 20/20 | Train Loss: 0.0134 | Train Acc: 99.70% | Val Loss: 1.9197 | Val Acc: 65.97%\n"
     ]
    }
   ],
   "source": [
    "# Define loss and optimizer\n",
    "criterion = nn.CrossEntropyLoss()\n",
    "optimizer = optim.Adam(model.parameters(), lr=0.001)\n",
    "scheduler = StepLR(optimizer, step_size=4, gamma=0.2)\n",
    "\n",
    "# Training loop\n",
    "num_epochs = 20\n",
    "device = torch.device(\"cuda\" if torch.cuda.is_available() else \"cpu\")\n",
    "model.to(device)\n",
    "\n",
    "train_losses, val_losses = [], []\n",
    "train_acc, val_acc = [], []\n",
    "\n",
    "best_val_acc = 0.0\n",
    "best_model_path = 'efficientnetv2_s_cifar100_best.pth'\n",
    "\n",
    "for epoch in range(num_epochs):\n",
    "    model.train()\n",
    "    running_loss = 0.0\n",
    "    correct_train = 0\n",
    "    total_train = 0\n",
    "\n",
    "    for inputs, labels in tqdm(train_loader, desc=f'Epoch {epoch + 1}/{num_epochs}'):\n",
    "        inputs, labels = inputs.to(device), labels.to(device)\n",
    "        optimizer.zero_grad()\n",
    "        outputs = model(inputs)\n",
    "        loss = criterion(outputs, labels)\n",
    "        loss.backward()\n",
    "        optimizer.step()\n",
    "\n",
    "        running_loss += loss.item()\n",
    "        _, predicted = torch.max(outputs.data, 1)\n",
    "        total_train += labels.size(0)\n",
    "        correct_train += (predicted == labels).sum().item()\n",
    "\n",
    "    train_losses.append(running_loss / len(train_loader))\n",
    "    train_acc.append(100 * correct_train / total_train)\n",
    "\n",
    "    model.eval()\n",
    "    running_loss = 0.0\n",
    "    correct_val = 0\n",
    "    total_val = 0\n",
    "\n",
    "    with torch.no_grad():\n",
    "        for inputs, labels in val_loader:\n",
    "            inputs, labels = inputs.to(device), labels.to(device)\n",
    "            outputs = model(inputs)\n",
    "            loss = criterion(outputs, labels)\n",
    "            running_loss += loss.item()\n",
    "            _, predicted = torch.max(outputs.data, 1)\n",
    "            total_val += labels.size(0)\n",
    "            correct_val += (predicted == labels).sum().item()\n",
    "\n",
    "    val_losses.append(running_loss / len(val_loader))\n",
    "    val_acc.append(100 * correct_val / total_val)\n",
    "\n",
    "\n",
    "    scheduler.step()\n",
    "\n",
    "    # Check if the current model has the best validation accuracy\n",
    "    if val_acc[-1] > best_val_acc:\n",
    "        best_val_acc = val_acc[-1]\n",
    "        torch.save(model.state_dict(), best_model_path)\n",
    "\n",
    "    print(f\"Epoch {epoch + 1}/{num_epochs} | Train Loss: {train_losses[-1]:.4f} | Train Acc: {train_acc[-1]:.2f}% | Val Loss: {val_losses[-1]:.4f} | Val Acc: {val_acc[-1]:.2f}%\")\n",
    "\n",
    "# Load the best model\n",
    "model.load_state_dict(torch.load(best_model_path))\n",
    "\n",
    "# Save model weights\n",
    "torch.save(model.state_dict(), 'efficientnetv2_s_cifar100_augmented_first_method.pth')"
   ]
  },
  {
   "cell_type": "code",
   "execution_count": 10,
   "metadata": {
    "colab": {
     "base_uri": "https://localhost:8080/",
     "height": 410
    },
    "id": "QIdZRGRPboQK",
    "outputId": "6a87d4ef-1a87-4c8c-a698-22290e97e099"
   },
   "outputs": [
    {
     "data": {
      "image/png": "[encoded data removed]",
      "text/plain": [
       "<Figure size 1200x400 with 2 Axes>"
      ]
     },
     "metadata": {},
     "output_type": "display_data"
    }
   ],
   "source": [
    "# Plot loss and accuracy\n",
    "plt.figure(figsize=(12, 4))\n",
    "plt.subplot(1, 2, 1)\n",
    "plt.plot(train_losses, label='Train Loss')\n",
    "plt.plot(val_losses, label='Validation Loss')\n",
    "plt.legend()\n",
    "plt.xlabel('Epochs')\n",
    "plt.ylabel('Loss')\n",
    "plt.title('Loss vs. Epochs')\n",
    "\n",
    "plt.subplot(1, 2, 2)\n",
    "plt.plot(train_acc, label='Train Accuracy')\n",
    "plt.plot(val_acc, label='Validation Accuracy')\n",
    "plt.legend()\n",
    "plt.xlabel('Epochs')\n",
    "plt.ylabel('Accuracy')\n",
    "plt.title('Accuracy vs. Epochs')\n",
    "\n",
    "plt.show()"
   ]
  },
  {
   "cell_type": "code",
   "execution_count": 11,
   "metadata": {
    "id": "TiCc56CVhuby"
   },
   "outputs": [
    {
     "name": "stdout",
     "output_type": "stream",
     "text": [
      "Final Test Accuracy: 66.05%\n"
     ]
    }
   ],
   "source": [
    "model.eval()\n",
    "correct_test = 0\n",
    "total_test = 0\n",
    "\n",
    "with torch.no_grad():\n",
    "    for inputs, labels in val_loader:\n",
    "        inputs, labels = inputs.to(device), labels.to(device)\n",
    "        outputs = model(inputs)\n",
    "        _, predicted = torch.max(outputs.data, 1)\n",
    "        total_test += labels.size(0)\n",
    "        correct_test += (predicted == labels).sum().item()\n",
    "\n",
    "test_accuracy = 100 * correct_test / total_test\n",
    "print(f\"Final Test Accuracy: {test_accuracy:.2f}%\")\n"
   ]
  },
  {
   "cell_type": "markdown",
   "metadata": {
    "id": "Oy3oxy6_wDCT"
   },
   "source": [
    "## SI cross for CLAHE"
   ]
  },
  {
   "cell_type": "code",
   "execution_count": 12,
   "metadata": {
    "colab": {
     "base_uri": "https://localhost:8080/"
    },
    "id": "UR57HE2lwCsJ",
    "outputId": "f4b254e3-ee26-48a8-ad08-a0549ce439a4"
   },
   "outputs": [
    {
     "name": "stdout",
     "output_type": "stream",
     "text": [
      "Files already downloaded and verified\n",
      "Files already downloaded and verified\n",
      "Files already downloaded and verified\n",
      "Balanced Train set size: 20000\n",
      "Balanced Test set size: 2000\n"
     ]
    }
   ],
   "source": [
    "import albumentations as A\n",
    "import cv2\n",
    "import torch\n",
    "from torchvision import datasets, transforms\n",
    "from torch.utils.data.sampler import SubsetRandomSampler\n",
    "import numpy as np\n",
    "\n",
    "# Declare an augmentation pipeline\n",
    "image_transform = A.Compose([\n",
    "    A.CLAHE(clip_limit=4.0, tile_grid_size=(8, 8), always_apply=False, p=0.5),\n",
    "])\n",
    "\n",
    "# Define data transformations including the Albumentations transform\n",
    "transform1 = transforms.Compose([\n",
    "    # transforms.ToPILImage(),\n",
    "    transforms.Lambda(lambda img: image_transform(image=np.array(img))[\"image\"]),\n",
    "    transforms.ToTensor(),\n",
    "    # transforms.Normalize((0.5, 0.5, 0.5), (0.5, 0.5, 0.5))\n",
    "])\n",
    "\n",
    "transform2 = transforms.Compose([\n",
    "    # transforms.ToPILImage(),\n",
    "    transforms.ToTensor(),\n",
    "    # transforms.Normalize((0.5, 0.5, 0.5), (0.5, 0.5, 0.5))\n",
    "])\n",
    "\n",
    "# Load CIFAR-100 dataset without Albumentations transform\n",
    "cifar100_original = datasets.CIFAR100(root='./data', train=True, download=True, transform=transforms.ToTensor())\n",
    "cifar100_train_augmented = datasets.CIFAR100(root='./data', train=True, download=True, transform=transform1)\n",
    "cifar100_test_augmented = datasets.CIFAR100(root='./data', train=False, download=True, transform=transform2)\n",
    "\n",
    "# Combine original and augmented datasets\n",
    "cifar100_train_combined = torch.utils.data.ConcatDataset([cifar100_original, cifar100_train_augmented])\n",
    "cifar100_test_combined = torch.utils.data.ConcatDataset([cifar100_test_augmented])\n",
    "\n",
    "# Define the size of the balanced subset for both train and test sets\n",
    "subset_fraction_train = 0.2\n",
    "subset_fraction_test = 0.2\n",
    "\n",
    "# Calculate the number of samples needed for the balanced subset for both train and test sets\n",
    "subset_size_train = int(subset_fraction_train * len(cifar100_train_combined))\n",
    "subset_size_test = int(subset_fraction_test * len(cifar100_test_combined))\n",
    "\n",
    "# Create a balanced subset for both train and test sets using SubsetRandomSampler\n",
    "class_indices_train = list(range(len(cifar100_train_augmented.classes)))\n",
    "class_indices_test = list(range(len(cifar100_test_augmented.classes)))\n",
    "\n",
    "class_subset_size_train = int(subset_size_train / len(cifar100_train_augmented.classes))\n",
    "class_subset_size_test = int(subset_size_test / len(cifar100_test_augmented.classes))\n",
    "\n",
    "class_sampler_indices_train = []\n",
    "class_sampler_indices_test = []\n",
    "\n",
    "for class_index in class_indices_train:\n",
    "    class_indices_list_train = [i for i, label in enumerate(cifar100_train_augmented.targets) if label == class_index]\n",
    "    class_sampler_indices_train.extend(class_indices_list_train[:class_subset_size_train])\n",
    "\n",
    "for class_index in class_indices_test:\n",
    "    class_indices_list_test = [i for i, label in enumerate(cifar100_test_augmented.targets) if label == class_index]\n",
    "    class_sampler_indices_test.extend(class_indices_list_test[:class_subset_size_test])\n",
    "\n",
    "train_sampler = SubsetRandomSampler(class_sampler_indices_train)\n",
    "test_sampler = SubsetRandomSampler(class_sampler_indices_test)\n",
    "\n",
    "# Create PyTorch data loaders using the balanced subset for both train and test sets\n",
    "batch_size = 256\n",
    "train_loader = torch.utils.data.DataLoader(cifar100_train_combined, batch_size=batch_size, sampler=train_sampler)\n",
    "test_loader = torch.utils.data.DataLoader(cifar100_test_combined, batch_size=batch_size, sampler=test_sampler)\n",
    "\n",
    "# Check the number of samples in each set\n",
    "print(f\"Balanced Train set size: {len(train_loader.sampler)}\")\n",
    "print(f\"Balanced Test set size: {len(test_loader.sampler)}\")\n"
   ]
  },
  {
   "cell_type": "code",
   "execution_count": 13,
   "metadata": {
    "id": "RRGfH6Gpx2oX"
   },
   "outputs": [],
   "source": [
    "# Extract data and labels from loaders\n",
    "cifar100_train_data, cifar100_train_labels = [], []\n",
    "for data, label in train_loader:\n",
    "    cifar100_train_data.append(data)\n",
    "    cifar100_train_labels.append(label)\n",
    "\n",
    "cifar100_test_data, cifar100_test_labels = [], []\n",
    "for data, label in test_loader:\n",
    "    cifar100_test_data.append(data)\n",
    "    cifar100_test_labels.append(label)\n",
    "\n",
    "# Concatenate the lists of tensors\n",
    "cifar100_train_data = torch.cat(cifar100_train_data, dim=0)\n",
    "cifar100_train_labels = torch.cat(cifar100_train_labels, dim=0)\n",
    "cifar100_test_data = torch.cat(cifar100_test_data, dim=0)\n",
    "cifar100_test_labels = torch.cat(cifar100_test_labels, dim=0)\n",
    "\n",
    "# Convert to desired format\n",
    "train_data_tensor = cifar100_train_data\n",
    "train_data_tensor = train_data_tensor.view(train_data_tensor.size(0), -1)\n",
    "\n",
    "train_label_tensor = cifar100_train_labels.unsqueeze(1)\n",
    "\n",
    "test_data_tensor = cifar100_test_data\n",
    "test_data_tensor = test_data_tensor.view(test_data_tensor.size(0), -1)\n",
    "\n",
    "test_label_tensor = cifar100_test_labels.unsqueeze(1)"
   ]
  },
  {
   "cell_type": "code",
   "execution_count": 14,
   "metadata": {
    "colab": {
     "base_uri": "https://localhost:8080/"
    },
    "id": "cWVBQh4Ax2q1",
    "outputId": "56a2dfe1-c8dd-4180-95cd-9c3549515ceb"
   },
   "outputs": [
    {
     "name": "stdout",
     "output_type": "stream",
     "text": [
      "data becomes normalized\n",
      "data becomes normalized\n"
     ]
    }
   ],
   "source": [
    "train_si_calculator = Kalhor_SeparationIndex(train_data_tensor, train_label_tensor, normalize=True)\n",
    "test_si_calculator = Kalhor_SeparationIndex(test_data_tensor, test_label_tensor, normalize=True)"
   ]
  },
  {
   "cell_type": "code",
   "execution_count": 15,
   "metadata": {
    "colab": {
     "base_uri": "https://localhost:8080/"
    },
    "id": "G966KAgHyN95",
    "outputId": "32515b26-43c5-4803-b814-8d5645e7dc2d"
   },
   "outputs": [
    {
     "name": "stdout",
     "output_type": "stream",
     "text": [
      "Cross SI: 0.144\n"
     ]
    }
   ],
   "source": [
    "# Calculate cross_si_data for the test dataset\n",
    "cross_si_data = train_si_calculator.cross_si_data(test_data_tensor, test_label_tensor)\n",
    "num_ones = torch.sum(cross_si_data == True).item()\n",
    "total_elements = cross_si_data.numel()\n",
    "ratio_ones = num_ones / total_elements\n",
    "\n",
    "print(\"Cross SI:\", ratio_ones)"
   ]
  },
  {
   "cell_type": "markdown",
   "metadata": {
    "id": "5j6mZ5ANkqZz"
   },
   "source": [
    "# AdvancedBlur"
   ]
  },
  {
   "cell_type": "code",
   "execution_count": 3,
   "metadata": {
    "colab": {
     "base_uri": "https://localhost:8080/"
    },
    "id": "B2VhWC6WkrlS",
    "outputId": "8dd37af5-7d1e-40a8-a5db-2c114cf48a0b"
   },
   "outputs": [
    {
     "name": "stdout",
     "output_type": "stream",
     "text": [
      "Files already downloaded and verified\n",
      "Files already downloaded and verified\n",
      "Files already downloaded and verified\n",
      "Combined Train set size: 100000\n",
      "Combined Test set size: 10000\n"
     ]
    }
   ],
   "source": [
    "import albumentations as A\n",
    "import cv2\n",
    "import torch\n",
    "from torchvision import datasets, transforms\n",
    "import numpy as np\n",
    "\n",
    "# Declare an augmentation pipeline\n",
    "image_transform = A.Compose([\n",
    "    A.AdvancedBlur(blur_limit=(3, 7), sigmaX_limit=(0.2, 1.0), sigmaY_limit=(0.2, 1.0), rotate_limit=90, beta_limit=(0.5, 8.0), noise_limit=(0.9, 1.1), always_apply=False, p=0.5),\n",
    "])\n",
    "\n",
    "# Define data transformations including the Albumentations transform\n",
    "transform1 = transforms.Compose([\n",
    "    # transforms.ToPILImage(),\n",
    "    transforms.Lambda(lambda img: image_transform(image=np.array(img))[\"image\"]),\n",
    "    transforms.ToTensor(),\n",
    "    transforms.Normalize((0.5, 0.5, 0.5), (0.5, 0.5, 0.5))\n",
    "])\n",
    "\n",
    "transform2 = transforms.Compose([\n",
    "    # transforms.ToPILImage(),\n",
    "    transforms.ToTensor(),\n",
    "    transforms.Normalize((0.5, 0.5, 0.5), (0.5, 0.5, 0.5))\n",
    "])\n",
    "\n",
    "# Load CIFAR-100 dataset without Albumentations transform\n",
    "cifar100_original = datasets.CIFAR100(root='./data', train=True, download=True, transform=transforms.ToTensor())\n",
    "cifar100_train_augmented = datasets.CIFAR100(root='./data', train=True, download=True, transform=transform1)\n",
    "cifar100_test_augmented = datasets.CIFAR100(root='./data', train=False, download=True, transform=transform2)\n",
    "\n",
    "# Combine original and augmented datasets\n",
    "cifar100_train_combined = torch.utils.data.ConcatDataset([cifar100_original, cifar100_train_augmented])\n",
    "cifar100_test_combined = torch.utils.data.ConcatDataset([cifar100_test_augmented])\n",
    "\n",
    "# Create PyTorch data loaders\n",
    "batch_size = 256\n",
    "train_loader = torch.utils.data.DataLoader(cifar100_train_combined, batch_size=batch_size, shuffle=True)\n",
    "val_loader = torch.utils.data.DataLoader(cifar100_test_combined, batch_size=batch_size, shuffle=False)\n",
    "\n",
    "# Check the number of samples in each set\n",
    "print(f\"Combined Train set size: {len(cifar100_train_combined)}\")\n",
    "print(f\"Combined Test set size: {len(cifar100_test_combined)}\")\n"
   ]
  },
  {
   "cell_type": "code",
   "execution_count": 4,
   "metadata": {
    "id": "kwtvRB0olJ3x"
   },
   "outputs": [],
   "source": [
    "# Load EfficientNetV2-S model\n",
    "model = models.efficientnet_v2_s(weights='IMAGENET1K_V1')\n",
    "\n",
    "# 100 classes\n",
    "model.classifier = nn.Sequential(\n",
    "    nn.Dropout(p=0.2, inplace=True),\n",
    "    nn.Linear(1280, 100)\n",
    ")"
   ]
  },
  {
   "cell_type": "code",
   "execution_count": 5,
   "metadata": {
    "id": "SMZMq4n1lJ5o"
   },
   "outputs": [
    {
     "name": "stdout",
     "output_type": "stream",
     "text": [
      "Sequential(\n",
      "  (0): Dropout(p=0.2, inplace=True)\n",
      "  (1): Linear(in_features=1280, out_features=100, bias=True)\n",
      ")\n"
     ]
    }
   ],
   "source": [
    "classifier = model.classifier\n",
    "print(classifier)"
   ]
  },
  {
   "cell_type": "code",
   "execution_count": 6,
   "metadata": {
    "id": "5KCjWuZFlJ7o"
   },
   "outputs": [
    {
     "name": "stderr",
     "output_type": "stream",
     "text": [
      "Epoch 1/20: 100%|█████████████████████████████| 391/391 [01:10<00:00,  5.57it/s]\n"
     ]
    },
    {
     "name": "stdout",
     "output_type": "stream",
     "text": [
      "Epoch 1/20 | Train Loss: 2.2742 | Train Acc: 41.68% | Val Loss: 1.6803 | Val Acc: 54.87%\n"
     ]
    },
    {
     "name": "stderr",
     "output_type": "stream",
     "text": [
      "Epoch 2/20: 100%|█████████████████████████████| 391/391 [01:07<00:00,  5.75it/s]\n"
     ]
    },
    {
     "name": "stdout",
     "output_type": "stream",
     "text": [
      "Epoch 2/20 | Train Loss: 1.2405 | Train Acc: 64.62% | Val Loss: 1.5360 | Val Acc: 59.28%\n"
     ]
    },
    {
     "name": "stderr",
     "output_type": "stream",
     "text": [
      "Epoch 3/20: 100%|█████████████████████████████| 391/391 [01:07<00:00,  5.80it/s]\n"
     ]
    },
    {
     "name": "stdout",
     "output_type": "stream",
     "text": [
      "Epoch 3/20 | Train Loss: 0.8320 | Train Acc: 75.51% | Val Loss: 1.6708 | Val Acc: 58.10%\n"
     ]
    },
    {
     "name": "stderr",
     "output_type": "stream",
     "text": [
      "Epoch 4/20: 100%|█████████████████████████████| 391/391 [01:07<00:00,  5.80it/s]\n"
     ]
    },
    {
     "name": "stdout",
     "output_type": "stream",
     "text": [
      "Epoch 4/20 | Train Loss: 0.5981 | Train Acc: 81.80% | Val Loss: 1.7333 | Val Acc: 59.65%\n"
     ]
    },
    {
     "name": "stderr",
     "output_type": "stream",
     "text": [
      "Epoch 5/20: 100%|█████████████████████████████| 391/391 [01:11<00:00,  5.50it/s]\n"
     ]
    },
    {
     "name": "stdout",
     "output_type": "stream",
     "text": [
      "Epoch 5/20 | Train Loss: 0.2155 | Train Acc: 93.66% | Val Loss: 1.6453 | Val Acc: 64.49%\n"
     ]
    },
    {
     "name": "stderr",
     "output_type": "stream",
     "text": [
      "Epoch 6/20: 100%|█████████████████████████████| 391/391 [02:58<00:00,  2.19it/s]\n"
     ]
    },
    {
     "name": "stdout",
     "output_type": "stream",
     "text": [
      "Epoch 6/20 | Train Loss: 0.0997 | Train Acc: 97.28% | Val Loss: 1.6803 | Val Acc: 64.72%\n"
     ]
    },
    {
     "name": "stderr",
     "output_type": "stream",
     "text": [
      "Epoch 7/20: 100%|█████████████████████████████| 391/391 [03:21<00:00,  1.94it/s]\n"
     ]
    },
    {
     "name": "stdout",
     "output_type": "stream",
     "text": [
      "Epoch 7/20 | Train Loss: 0.0689 | Train Acc: 98.12% | Val Loss: 1.8239 | Val Acc: 64.65%\n"
     ]
    },
    {
     "name": "stderr",
     "output_type": "stream",
     "text": [
      "Epoch 8/20: 100%|█████████████████████████████| 391/391 [03:19<00:00,  1.96it/s]\n"
     ]
    },
    {
     "name": "stdout",
     "output_type": "stream",
     "text": [
      "Epoch 8/20 | Train Loss: 0.0562 | Train Acc: 98.49% | Val Loss: 1.8691 | Val Acc: 64.53%\n"
     ]
    },
    {
     "name": "stderr",
     "output_type": "stream",
     "text": [
      "Epoch 9/20: 100%|█████████████████████████████| 391/391 [02:08<00:00,  3.03it/s]\n"
     ]
    },
    {
     "name": "stdout",
     "output_type": "stream",
     "text": [
      "Epoch 9/20 | Train Loss: 0.0396 | Train Acc: 99.00% | Val Loss: 1.8784 | Val Acc: 65.23%\n"
     ]
    },
    {
     "name": "stderr",
     "output_type": "stream",
     "text": [
      "Epoch 10/20: 100%|████████████████████████████| 391/391 [01:06<00:00,  5.85it/s]\n"
     ]
    },
    {
     "name": "stdout",
     "output_type": "stream",
     "text": [
      "Epoch 10/20 | Train Loss: 0.0324 | Train Acc: 99.17% | Val Loss: 1.8672 | Val Acc: 65.62%\n"
     ]
    },
    {
     "name": "stderr",
     "output_type": "stream",
     "text": [
      "Epoch 11/20: 100%|████████████████████████████| 391/391 [01:06<00:00,  5.85it/s]\n"
     ]
    },
    {
     "name": "stdout",
     "output_type": "stream",
     "text": [
      "Epoch 11/20 | Train Loss: 0.0275 | Train Acc: 99.31% | Val Loss: 1.9476 | Val Acc: 65.25%\n"
     ]
    },
    {
     "name": "stderr",
     "output_type": "stream",
     "text": [
      "Epoch 12/20: 100%|████████████████████████████| 391/391 [01:07<00:00,  5.81it/s]\n"
     ]
    },
    {
     "name": "stdout",
     "output_type": "stream",
     "text": [
      "Epoch 12/20 | Train Loss: 0.0261 | Train Acc: 99.32% | Val Loss: 1.9380 | Val Acc: 65.69%\n"
     ]
    },
    {
     "name": "stderr",
     "output_type": "stream",
     "text": [
      "Epoch 13/20: 100%|████████████████████████████| 391/391 [01:06<00:00,  5.84it/s]\n"
     ]
    },
    {
     "name": "stdout",
     "output_type": "stream",
     "text": [
      "Epoch 13/20 | Train Loss: 0.0229 | Train Acc: 99.43% | Val Loss: 1.9536 | Val Acc: 65.53%\n"
     ]
    },
    {
     "name": "stderr",
     "output_type": "stream",
     "text": [
      "Epoch 14/20: 100%|████████████████████████████| 391/391 [01:07<00:00,  5.78it/s]\n"
     ]
    },
    {
     "name": "stdout",
     "output_type": "stream",
     "text": [
      "Epoch 14/20 | Train Loss: 0.0231 | Train Acc: 99.41% | Val Loss: 1.9031 | Val Acc: 65.73%\n"
     ]
    },
    {
     "name": "stderr",
     "output_type": "stream",
     "text": [
      "Epoch 15/20: 100%|████████████████████████████| 391/391 [01:06<00:00,  5.85it/s]\n"
     ]
    },
    {
     "name": "stdout",
     "output_type": "stream",
     "text": [
      "Epoch 15/20 | Train Loss: 0.0224 | Train Acc: 99.40% | Val Loss: 1.9144 | Val Acc: 65.54%\n"
     ]
    },
    {
     "name": "stderr",
     "output_type": "stream",
     "text": [
      "Epoch 16/20: 100%|████████████████████████████| 391/391 [01:06<00:00,  5.85it/s]\n"
     ]
    },
    {
     "name": "stdout",
     "output_type": "stream",
     "text": [
      "Epoch 16/20 | Train Loss: 0.0208 | Train Acc: 99.45% | Val Loss: 1.9443 | Val Acc: 65.59%\n"
     ]
    },
    {
     "name": "stderr",
     "output_type": "stream",
     "text": [
      "Epoch 17/20: 100%|████████████████████████████| 391/391 [01:07<00:00,  5.82it/s]\n"
     ]
    },
    {
     "name": "stdout",
     "output_type": "stream",
     "text": [
      "Epoch 17/20 | Train Loss: 0.0204 | Train Acc: 99.47% | Val Loss: 1.9019 | Val Acc: 65.72%\n"
     ]
    },
    {
     "name": "stderr",
     "output_type": "stream",
     "text": [
      "Epoch 18/20: 100%|████████████████████████████| 391/391 [01:07<00:00,  5.79it/s]\n"
     ]
    },
    {
     "name": "stdout",
     "output_type": "stream",
     "text": [
      "Epoch 18/20 | Train Loss: 0.0192 | Train Acc: 99.52% | Val Loss: 1.8854 | Val Acc: 65.55%\n"
     ]
    },
    {
     "name": "stderr",
     "output_type": "stream",
     "text": [
      "Epoch 19/20: 100%|████████████████████████████| 391/391 [01:06<00:00,  5.86it/s]\n"
     ]
    },
    {
     "name": "stdout",
     "output_type": "stream",
     "text": [
      "Epoch 19/20 | Train Loss: 0.0201 | Train Acc: 99.47% | Val Loss: 1.9433 | Val Acc: 65.72%\n"
     ]
    },
    {
     "name": "stderr",
     "output_type": "stream",
     "text": [
      "Epoch 20/20: 100%|████████████████████████████| 391/391 [01:07<00:00,  5.75it/s]\n"
     ]
    },
    {
     "name": "stdout",
     "output_type": "stream",
     "text": [
      "Epoch 20/20 | Train Loss: 0.0193 | Train Acc: 99.52% | Val Loss: 1.9140 | Val Acc: 65.49%\n"
     ]
    }
   ],
   "source": [
    "# Define loss and optimizer\n",
    "criterion = nn.CrossEntropyLoss()\n",
    "optimizer = optim.Adam(model.parameters(), lr=0.001)\n",
    "scheduler = StepLR(optimizer, step_size=4, gamma=0.2)\n",
    "\n",
    "# Training loop\n",
    "num_epochs = 20\n",
    "device = torch.device(\"cuda\" if torch.cuda.is_available() else \"cpu\")\n",
    "model.to(device)\n",
    "\n",
    "train_losses, val_losses = [], []\n",
    "train_acc, val_acc = [], []\n",
    "\n",
    "best_val_acc = 0.0\n",
    "best_model_path = 'efficientnetv2_s_cifar100_best.pth'\n",
    "\n",
    "for epoch in range(num_epochs):\n",
    "    model.train()\n",
    "    running_loss = 0.0\n",
    "    correct_train = 0\n",
    "    total_train = 0\n",
    "\n",
    "    for inputs, labels in tqdm(train_loader, desc=f'Epoch {epoch + 1}/{num_epochs}'):\n",
    "        inputs, labels = inputs.to(device), labels.to(device)\n",
    "        optimizer.zero_grad()\n",
    "        outputs = model(inputs)\n",
    "        loss = criterion(outputs, labels)\n",
    "        loss.backward()\n",
    "        optimizer.step()\n",
    "\n",
    "        running_loss += loss.item()\n",
    "        _, predicted = torch.max(outputs.data, 1)\n",
    "        total_train += labels.size(0)\n",
    "        correct_train += (predicted == labels).sum().item()\n",
    "\n",
    "    train_losses.append(running_loss / len(train_loader))\n",
    "    train_acc.append(100 * correct_train / total_train)\n",
    "\n",
    "    model.eval()\n",
    "    running_loss = 0.0\n",
    "    correct_val = 0\n",
    "    total_val = 0\n",
    "\n",
    "    with torch.no_grad():\n",
    "        for inputs, labels in val_loader:\n",
    "            inputs, labels = inputs.to(device), labels.to(device)\n",
    "            outputs = model(inputs)\n",
    "            loss = criterion(outputs, labels)\n",
    "            running_loss += loss.item()\n",
    "            _, predicted = torch.max(outputs.data, 1)\n",
    "            total_val += labels.size(0)\n",
    "            correct_val += (predicted == labels).sum().item()\n",
    "\n",
    "    val_losses.append(running_loss / len(val_loader))\n",
    "    val_acc.append(100 * correct_val / total_val)\n",
    "\n",
    "\n",
    "    scheduler.step()\n",
    "\n",
    "    # Check if the current model has the best validation accuracy\n",
    "    if val_acc[-1] > best_val_acc:\n",
    "        best_val_acc = val_acc[-1]\n",
    "        torch.save(model.state_dict(), best_model_path)\n",
    "\n",
    "    print(f\"Epoch {epoch + 1}/{num_epochs} | Train Loss: {train_losses[-1]:.4f} | Train Acc: {train_acc[-1]:.2f}% | Val Loss: {val_losses[-1]:.4f} | Val Acc: {val_acc[-1]:.2f}%\")\n",
    "\n",
    "# Load the best model\n",
    "model.load_state_dict(torch.load(best_model_path))\n",
    "\n",
    "# Save model weights\n",
    "torch.save(model.state_dict(), 'efficientnetv2_s_cifar100_augmented_second_method.pth')"
   ]
  },
  {
   "cell_type": "code",
   "execution_count": 7,
   "metadata": {},
   "outputs": [
    {
     "data": {
      "image/png": "[encoded data removed]",
      "text/plain": [
       "<Figure size 1200x400 with 2 Axes>"
      ]
     },
     "metadata": {},
     "output_type": "display_data"
    }
   ],
   "source": [
    "# Plot loss and accuracy\n",
    "plt.figure(figsize=(12, 4))\n",
    "plt.subplot(1, 2, 1)\n",
    "plt.plot(train_losses, label='Train Loss')\n",
    "plt.plot(val_losses, label='Validation Loss')\n",
    "plt.legend()\n",
    "plt.xlabel('Epochs')\n",
    "plt.ylabel('Loss')\n",
    "plt.title('Loss vs. Epochs')\n",
    "\n",
    "plt.subplot(1, 2, 2)\n",
    "plt.plot(train_acc, label='Train Accuracy')\n",
    "plt.plot(val_acc, label='Validation Accuracy')\n",
    "plt.legend()\n",
    "plt.xlabel('Epochs')\n",
    "plt.ylabel('Accuracy')\n",
    "plt.title('Accuracy vs. Epochs')\n",
    "\n",
    "plt.show()"
   ]
  },
  {
   "cell_type": "code",
   "execution_count": 8,
   "metadata": {},
   "outputs": [
    {
     "name": "stdout",
     "output_type": "stream",
     "text": [
      "Final Test Accuracy: 65.73%\n"
     ]
    }
   ],
   "source": [
    "model.eval()\n",
    "correct_test = 0\n",
    "total_test = 0\n",
    "\n",
    "with torch.no_grad():\n",
    "    for inputs, labels in val_loader:\n",
    "        inputs, labels = inputs.to(device), labels.to(device)\n",
    "        outputs = model(inputs)\n",
    "        _, predicted = torch.max(outputs.data, 1)\n",
    "        total_test += labels.size(0)\n",
    "        correct_test += (predicted == labels).sum().item()\n",
    "\n",
    "test_accuracy = 100 * correct_test / total_test\n",
    "print(f\"Final Test Accuracy: {test_accuracy:.2f}%\")\n"
   ]
  },
  {
   "cell_type": "markdown",
   "metadata": {
    "id": "NmUtTL4s8mdp"
   },
   "source": [
    "## SI cross for AdvancedBlur"
   ]
  },
  {
   "cell_type": "code",
   "execution_count": 21,
   "metadata": {
    "colab": {
     "base_uri": "https://localhost:8080/"
    },
    "id": "7SD-B02z8po7",
    "outputId": "499c1fad-c192-4ad7-e3f5-8382584c1321"
   },
   "outputs": [
    {
     "name": "stdout",
     "output_type": "stream",
     "text": [
      "Files already downloaded and verified\n",
      "Files already downloaded and verified\n",
      "Files already downloaded and verified\n",
      "Balanced Train set size: 20000\n",
      "Balanced Test set size: 2000\n"
     ]
    }
   ],
   "source": [
    "import albumentations as A\n",
    "import cv2\n",
    "import torch\n",
    "from torchvision import datasets, transforms\n",
    "from torch.utils.data.sampler import SubsetRandomSampler\n",
    "import numpy as np\n",
    "\n",
    "# Declare an augmentation pipeline\n",
    "image_transform = A.Compose([\n",
    "    A.AdvancedBlur(blur_limit=(3, 7), sigmaX_limit=(0.2, 1.0), sigmaY_limit=(0.2, 1.0), rotate_limit=90, beta_limit=(0.5, 8.0), noise_limit=(0.9, 1.1), always_apply=False, p=0.5),\n",
    "])\n",
    "\n",
    "# Define data transformations including the Albumentations transform\n",
    "transform1 = transforms.Compose([\n",
    "    # transforms.ToPILImage(),\n",
    "    transforms.Lambda(lambda img: image_transform(image=np.array(img))[\"image\"]),\n",
    "    transforms.ToTensor(),\n",
    "    # transforms.Normalize((0.5, 0.5, 0.5), (0.5, 0.5, 0.5))\n",
    "])\n",
    "\n",
    "transform2 = transforms.Compose([\n",
    "    # transforms.ToPILImage(),\n",
    "    transforms.ToTensor(),\n",
    "    # transforms.Normalize((0.5, 0.5, 0.5), (0.5, 0.5, 0.5))\n",
    "])\n",
    "\n",
    "# Load CIFAR-100 dataset without Albumentations transform\n",
    "cifar100_original = datasets.CIFAR100(root='./data', train=True, download=True, transform=transforms.ToTensor())\n",
    "cifar100_train_augmented = datasets.CIFAR100(root='./data', train=True, download=True, transform=transform1)\n",
    "cifar100_test_augmented = datasets.CIFAR100(root='./data', train=False, download=True, transform=transform2)\n",
    "\n",
    "# Combine original and augmented datasets\n",
    "cifar100_train_combined = torch.utils.data.ConcatDataset([cifar100_original, cifar100_train_augmented])\n",
    "cifar100_test_combined = torch.utils.data.ConcatDataset([cifar100_test_augmented])\n",
    "\n",
    "# Define the size of the balanced subset for both train and test sets\n",
    "subset_fraction_train = 0.2\n",
    "subset_fraction_test = 0.2\n",
    "\n",
    "# Calculate the number of samples needed for the balanced subset for both train and test sets\n",
    "subset_size_train = int(subset_fraction_train * len(cifar100_train_combined))\n",
    "subset_size_test = int(subset_fraction_test * len(cifar100_test_combined))\n",
    "\n",
    "# Create a balanced subset for both train and test sets using SubsetRandomSampler\n",
    "class_indices_train = list(range(len(cifar100_train_augmented.classes)))\n",
    "class_indices_test = list(range(len(cifar100_test_augmented.classes)))\n",
    "\n",
    "class_subset_size_train = int(subset_size_train / len(cifar100_train_augmented.classes))\n",
    "class_subset_size_test = int(subset_size_test / len(cifar100_test_augmented.classes))\n",
    "\n",
    "class_sampler_indices_train = []\n",
    "class_sampler_indices_test = []\n",
    "\n",
    "for class_index in class_indices_train:\n",
    "    class_indices_list_train = [i for i, label in enumerate(cifar100_train_augmented.targets) if label == class_index]\n",
    "    class_sampler_indices_train.extend(class_indices_list_train[:class_subset_size_train])\n",
    "\n",
    "for class_index in class_indices_test:\n",
    "    class_indices_list_test = [i for i, label in enumerate(cifar100_test_augmented.targets) if label == class_index]\n",
    "    class_sampler_indices_test.extend(class_indices_list_test[:class_subset_size_test])\n",
    "\n",
    "train_sampler = SubsetRandomSampler(class_sampler_indices_train)\n",
    "test_sampler = SubsetRandomSampler(class_sampler_indices_test)\n",
    "\n",
    "# Create PyTorch data loaders using the balanced subset for both train and test sets\n",
    "batch_size = 256\n",
    "train_loader = torch.utils.data.DataLoader(cifar100_train_combined, batch_size=batch_size, sampler=train_sampler)\n",
    "test_loader = torch.utils.data.DataLoader(cifar100_test_combined, batch_size=batch_size, sampler=test_sampler)\n",
    "\n",
    "# Check the number of samples in each set\n",
    "print(f\"Balanced Train set size: {len(train_loader.sampler)}\")\n",
    "print(f\"Balanced Test set size: {len(test_loader.sampler)}\")\n"
   ]
  },
  {
   "cell_type": "code",
   "execution_count": 22,
   "metadata": {
    "id": "hyfan5xh8prN"
   },
   "outputs": [],
   "source": [
    "# Extract data and labels from loaders\n",
    "cifar100_train_data, cifar100_train_labels = [], []\n",
    "for data, label in train_loader:\n",
    "    cifar100_train_data.append(data)\n",
    "    cifar100_train_labels.append(label)\n",
    "\n",
    "cifar100_test_data, cifar100_test_labels = [], []\n",
    "for data, label in test_loader:\n",
    "    cifar100_test_data.append(data)\n",
    "    cifar100_test_labels.append(label)\n",
    "\n",
    "# Concatenate the lists of tensors\n",
    "cifar100_train_data = torch.cat(cifar100_train_data, dim=0)\n",
    "cifar100_train_labels = torch.cat(cifar100_train_labels, dim=0)\n",
    "cifar100_test_data = torch.cat(cifar100_test_data, dim=0)\n",
    "cifar100_test_labels = torch.cat(cifar100_test_labels, dim=0)\n",
    "\n",
    "# Convert to desired format\n",
    "train_data_tensor = cifar100_train_data\n",
    "train_data_tensor = train_data_tensor.view(train_data_tensor.size(0), -1)\n",
    "\n",
    "train_label_tensor = cifar100_train_labels.unsqueeze(1)\n",
    "\n",
    "test_data_tensor = cifar100_test_data\n",
    "test_data_tensor = test_data_tensor.view(test_data_tensor.size(0), -1)\n",
    "\n",
    "test_label_tensor = cifar100_test_labels.unsqueeze(1)"
   ]
  },
  {
   "cell_type": "code",
   "execution_count": 23,
   "metadata": {
    "colab": {
     "base_uri": "https://localhost:8080/"
    },
    "id": "6zFBVNb58ptg",
    "outputId": "96a5808d-076a-4999-e031-8dd5f639e7c6"
   },
   "outputs": [
    {
     "name": "stdout",
     "output_type": "stream",
     "text": [
      "data becomes normalized\n",
      "data becomes normalized\n"
     ]
    }
   ],
   "source": [
    "train_si_calculator = Kalhor_SeparationIndex(train_data_tensor, train_label_tensor, normalize=True)\n",
    "test_si_calculator = Kalhor_SeparationIndex(test_data_tensor, test_label_tensor, normalize=True)"
   ]
  },
  {
   "cell_type": "code",
   "execution_count": 24,
   "metadata": {
    "colab": {
     "base_uri": "https://localhost:8080/"
    },
    "id": "-u8e3tcf8pvh",
    "outputId": "0e6845c5-51fb-494d-b899-935e9420acc6"
   },
   "outputs": [
    {
     "name": "stdout",
     "output_type": "stream",
     "text": [
      "Cross SI: 0.144\n"
     ]
    }
   ],
   "source": [
    "# Calculate cross_si_data for the test dataset\n",
    "cross_si_data = train_si_calculator.cross_si_data(test_data_tensor, test_label_tensor)\n",
    "num_ones = torch.sum(cross_si_data == True).item()\n",
    "total_elements = cross_si_data.numel()\n",
    "ratio_ones = num_ones / total_elements\n",
    "\n",
    "print(\"Cross SI:\", ratio_ones)"
   ]
  },
  {
   "cell_type": "markdown",
   "metadata": {
    "id": "hj1GEgQ7lbP9"
   },
   "source": [
    "# GaussNoise"
   ]
  },
  {
   "cell_type": "code",
   "execution_count": 9,
   "metadata": {
    "colab": {
     "base_uri": "https://localhost:8080/"
    },
    "id": "9wMuLZ6bldL4",
    "outputId": "e3a78adb-5e6b-439b-c4bb-b97bde5b8d64"
   },
   "outputs": [
    {
     "name": "stdout",
     "output_type": "stream",
     "text": [
      "Files already downloaded and verified\n",
      "Files already downloaded and verified\n",
      "Files already downloaded and verified\n",
      "Combined Train set size: 100000\n",
      "Combined Test set size: 10000\n"
     ]
    }
   ],
   "source": [
    "import albumentations as A\n",
    "import cv2\n",
    "import torch\n",
    "from torchvision import datasets, transforms\n",
    "import numpy as np\n",
    "\n",
    "# Declare an augmentation pipeline\n",
    "image_transform = A.Compose([\n",
    "    A.GaussNoise (var_limit=(10.0, 50.0), mean=0, per_channel=True, always_apply=False, p=0.5)\n",
    "])\n",
    "\n",
    "# Define data transformations including the Albumentations transform\n",
    "transform1 = transforms.Compose([\n",
    "    # transforms.ToPILImage(),\n",
    "    transforms.Lambda(lambda img: image_transform(image=np.array(img))[\"image\"]),\n",
    "    transforms.ToTensor(),\n",
    "    transforms.Normalize((0.5, 0.5, 0.5), (0.5, 0.5, 0.5))\n",
    "])\n",
    "\n",
    "transform2 = transforms.Compose([\n",
    "    # transforms.ToPILImage(),\n",
    "    transforms.ToTensor(),\n",
    "    transforms.Normalize((0.5, 0.5, 0.5), (0.5, 0.5, 0.5))\n",
    "])\n",
    "\n",
    "# Load CIFAR-100 dataset without Albumentations transform\n",
    "cifar100_original = datasets.CIFAR100(root='./data', train=True, download=True, transform=transforms.ToTensor())\n",
    "cifar100_train_augmented = datasets.CIFAR100(root='./data', train=True, download=True, transform=transform1)\n",
    "cifar100_test_augmented = datasets.CIFAR100(root='./data', train=False, download=True, transform=transform2)\n",
    "\n",
    "# Combine original and augmented datasets\n",
    "cifar100_train_combined = torch.utils.data.ConcatDataset([cifar100_original, cifar100_train_augmented])\n",
    "cifar100_test_combined = torch.utils.data.ConcatDataset([cifar100_test_augmented])\n",
    "\n",
    "# Create PyTorch data loaders\n",
    "batch_size = 256\n",
    "train_loader = torch.utils.data.DataLoader(cifar100_train_combined, batch_size=batch_size, shuffle=True)\n",
    "val_loader = torch.utils.data.DataLoader(cifar100_test_combined, batch_size=batch_size, shuffle=False)\n",
    "\n",
    "# Check the number of samples in each set\n",
    "print(f\"Combined Train set size: {len(cifar100_train_combined)}\")\n",
    "print(f\"Combined Test set size: {len(cifar100_test_combined)}\")\n"
   ]
  },
  {
   "cell_type": "code",
   "execution_count": 10,
   "metadata": {
    "id": "mn-n3dGZmOb8"
   },
   "outputs": [],
   "source": [
    "# Load EfficientNetV2-S model\n",
    "model = models.efficientnet_v2_s(weights='IMAGENET1K_V1')\n",
    "\n",
    "# 100 classes\n",
    "model.classifier = nn.Sequential(\n",
    "    nn.Dropout(p=0.2, inplace=True),\n",
    "    nn.Linear(1280, 100)\n",
    ")"
   ]
  },
  {
   "cell_type": "code",
   "execution_count": 11,
   "metadata": {
    "id": "pNW9uT-omOeu"
   },
   "outputs": [
    {
     "name": "stdout",
     "output_type": "stream",
     "text": [
      "Sequential(\n",
      "  (0): Dropout(p=0.2, inplace=True)\n",
      "  (1): Linear(in_features=1280, out_features=100, bias=True)\n",
      ")\n"
     ]
    }
   ],
   "source": [
    "classifier = model.classifier\n",
    "print(classifier)"
   ]
  },
  {
   "cell_type": "code",
   "execution_count": 12,
   "metadata": {
    "id": "A44r-eI0mOg4"
   },
   "outputs": [
    {
     "name": "stderr",
     "output_type": "stream",
     "text": [
      "Epoch 1/20: 100%|█████████████████████████████| 391/391 [01:05<00:00,  5.93it/s]\n"
     ]
    },
    {
     "name": "stdout",
     "output_type": "stream",
     "text": [
      "Epoch 1/20 | Train Loss: 2.2670 | Train Acc: 41.69% | Val Loss: 1.6702 | Val Acc: 54.26%\n"
     ]
    },
    {
     "name": "stderr",
     "output_type": "stream",
     "text": [
      "Epoch 2/20: 100%|█████████████████████████████| 391/391 [01:06<00:00,  5.90it/s]\n"
     ]
    },
    {
     "name": "stdout",
     "output_type": "stream",
     "text": [
      "Epoch 2/20 | Train Loss: 1.1558 | Train Acc: 66.54% | Val Loss: 1.5713 | Val Acc: 58.43%\n"
     ]
    },
    {
     "name": "stderr",
     "output_type": "stream",
     "text": [
      "Epoch 3/20: 100%|█████████████████████████████| 391/391 [01:05<00:00,  5.93it/s]\n"
     ]
    },
    {
     "name": "stdout",
     "output_type": "stream",
     "text": [
      "Epoch 3/20 | Train Loss: 0.7531 | Train Acc: 77.18% | Val Loss: 1.5800 | Val Acc: 60.65%\n"
     ]
    },
    {
     "name": "stderr",
     "output_type": "stream",
     "text": [
      "Epoch 4/20: 100%|█████████████████████████████| 391/391 [01:06<00:00,  5.88it/s]\n"
     ]
    },
    {
     "name": "stdout",
     "output_type": "stream",
     "text": [
      "Epoch 4/20 | Train Loss: 0.5210 | Train Acc: 83.91% | Val Loss: 1.6767 | Val Acc: 60.78%\n"
     ]
    },
    {
     "name": "stderr",
     "output_type": "stream",
     "text": [
      "Epoch 5/20: 100%|█████████████████████████████| 391/391 [01:05<00:00,  5.93it/s]\n"
     ]
    },
    {
     "name": "stdout",
     "output_type": "stream",
     "text": [
      "Epoch 5/20 | Train Loss: 0.1687 | Train Acc: 94.92% | Val Loss: 1.6279 | Val Acc: 64.76%\n"
     ]
    },
    {
     "name": "stderr",
     "output_type": "stream",
     "text": [
      "Epoch 6/20: 100%|█████████████████████████████| 391/391 [01:05<00:00,  5.94it/s]\n"
     ]
    },
    {
     "name": "stdout",
     "output_type": "stream",
     "text": [
      "Epoch 6/20 | Train Loss: 0.0820 | Train Acc: 97.76% | Val Loss: 1.7522 | Val Acc: 64.91%\n"
     ]
    },
    {
     "name": "stderr",
     "output_type": "stream",
     "text": [
      "Epoch 7/20: 100%|█████████████████████████████| 391/391 [01:05<00:00,  5.97it/s]\n"
     ]
    },
    {
     "name": "stdout",
     "output_type": "stream",
     "text": [
      "Epoch 7/20 | Train Loss: 0.0504 | Train Acc: 98.68% | Val Loss: 1.8327 | Val Acc: 65.27%\n"
     ]
    },
    {
     "name": "stderr",
     "output_type": "stream",
     "text": [
      "Epoch 8/20: 100%|█████████████████████████████| 391/391 [01:05<00:00,  5.96it/s]\n"
     ]
    },
    {
     "name": "stdout",
     "output_type": "stream",
     "text": [
      "Epoch 8/20 | Train Loss: 0.0361 | Train Acc: 99.06% | Val Loss: 1.9246 | Val Acc: 64.99%\n"
     ]
    },
    {
     "name": "stderr",
     "output_type": "stream",
     "text": [
      "Epoch 9/20: 100%|█████████████████████████████| 391/391 [01:05<00:00,  5.97it/s]\n"
     ]
    },
    {
     "name": "stdout",
     "output_type": "stream",
     "text": [
      "Epoch 9/20 | Train Loss: 0.0251 | Train Acc: 99.38% | Val Loss: 1.9075 | Val Acc: 65.43%\n"
     ]
    },
    {
     "name": "stderr",
     "output_type": "stream",
     "text": [
      "Epoch 10/20: 100%|████████████████████████████| 391/391 [01:05<00:00,  5.95it/s]\n"
     ]
    },
    {
     "name": "stdout",
     "output_type": "stream",
     "text": [
      "Epoch 10/20 | Train Loss: 0.0191 | Train Acc: 99.52% | Val Loss: 1.9361 | Val Acc: 65.29%\n"
     ]
    },
    {
     "name": "stderr",
     "output_type": "stream",
     "text": [
      "Epoch 11/20: 100%|████████████████████████████| 391/391 [01:05<00:00,  5.95it/s]\n"
     ]
    },
    {
     "name": "stdout",
     "output_type": "stream",
     "text": [
      "Epoch 11/20 | Train Loss: 0.0177 | Train Acc: 99.59% | Val Loss: 1.9552 | Val Acc: 65.66%\n"
     ]
    },
    {
     "name": "stderr",
     "output_type": "stream",
     "text": [
      "Epoch 12/20: 100%|████████████████████████████| 391/391 [01:05<00:00,  5.96it/s]\n"
     ]
    },
    {
     "name": "stdout",
     "output_type": "stream",
     "text": [
      "Epoch 12/20 | Train Loss: 0.0150 | Train Acc: 99.64% | Val Loss: 1.9938 | Val Acc: 65.63%\n"
     ]
    },
    {
     "name": "stderr",
     "output_type": "stream",
     "text": [
      "Epoch 13/20: 100%|████████████████████████████| 391/391 [01:05<00:00,  5.93it/s]\n"
     ]
    },
    {
     "name": "stdout",
     "output_type": "stream",
     "text": [
      "Epoch 13/20 | Train Loss: 0.0137 | Train Acc: 99.66% | Val Loss: 1.9808 | Val Acc: 65.78%\n"
     ]
    },
    {
     "name": "stderr",
     "output_type": "stream",
     "text": [
      "Epoch 14/20: 100%|████████████████████████████| 391/391 [01:05<00:00,  5.94it/s]\n"
     ]
    },
    {
     "name": "stdout",
     "output_type": "stream",
     "text": [
      "Epoch 14/20 | Train Loss: 0.0130 | Train Acc: 99.71% | Val Loss: 1.9899 | Val Acc: 65.69%\n"
     ]
    },
    {
     "name": "stderr",
     "output_type": "stream",
     "text": [
      "Epoch 15/20: 100%|████████████████████████████| 391/391 [01:05<00:00,  5.99it/s]\n"
     ]
    },
    {
     "name": "stdout",
     "output_type": "stream",
     "text": [
      "Epoch 15/20 | Train Loss: 0.0130 | Train Acc: 99.70% | Val Loss: 1.9796 | Val Acc: 65.86%\n"
     ]
    },
    {
     "name": "stderr",
     "output_type": "stream",
     "text": [
      "Epoch 16/20: 100%|████████████████████████████| 391/391 [01:05<00:00,  5.94it/s]\n"
     ]
    },
    {
     "name": "stdout",
     "output_type": "stream",
     "text": [
      "Epoch 16/20 | Train Loss: 0.0117 | Train Acc: 99.72% | Val Loss: 1.9892 | Val Acc: 65.83%\n"
     ]
    },
    {
     "name": "stderr",
     "output_type": "stream",
     "text": [
      "Epoch 17/20: 100%|████████████████████████████| 391/391 [01:05<00:00,  5.97it/s]\n"
     ]
    },
    {
     "name": "stdout",
     "output_type": "stream",
     "text": [
      "Epoch 17/20 | Train Loss: 0.0122 | Train Acc: 99.71% | Val Loss: 1.9920 | Val Acc: 65.83%\n"
     ]
    },
    {
     "name": "stderr",
     "output_type": "stream",
     "text": [
      "Epoch 18/20: 100%|████████████████████████████| 391/391 [01:05<00:00,  5.98it/s]\n"
     ]
    },
    {
     "name": "stdout",
     "output_type": "stream",
     "text": [
      "Epoch 18/20 | Train Loss: 0.0115 | Train Acc: 99.72% | Val Loss: 2.0081 | Val Acc: 65.72%\n"
     ]
    },
    {
     "name": "stderr",
     "output_type": "stream",
     "text": [
      "Epoch 19/20: 100%|████████████████████████████| 391/391 [01:05<00:00,  5.95it/s]\n"
     ]
    },
    {
     "name": "stdout",
     "output_type": "stream",
     "text": [
      "Epoch 19/20 | Train Loss: 0.0115 | Train Acc: 99.73% | Val Loss: 1.9930 | Val Acc: 65.83%\n"
     ]
    },
    {
     "name": "stderr",
     "output_type": "stream",
     "text": [
      "Epoch 20/20: 100%|████████████████████████████| 391/391 [01:06<00:00,  5.86it/s]\n"
     ]
    },
    {
     "name": "stdout",
     "output_type": "stream",
     "text": [
      "Epoch 20/20 | Train Loss: 0.0108 | Train Acc: 99.77% | Val Loss: 1.9908 | Val Acc: 65.92%\n"
     ]
    }
   ],
   "source": [
    "# Define loss and optimizer\n",
    "criterion = nn.CrossEntropyLoss()\n",
    "optimizer = optim.Adam(model.parameters(), lr=0.001)\n",
    "scheduler = StepLR(optimizer, step_size=4, gamma=0.2)\n",
    "\n",
    "# Training loop\n",
    "num_epochs = 20\n",
    "device = torch.device(\"cuda\" if torch.cuda.is_available() else \"cpu\")\n",
    "model.to(device)\n",
    "\n",
    "train_losses, val_losses = [], []\n",
    "train_acc, val_acc = [], []\n",
    "\n",
    "best_val_acc = 0.0\n",
    "best_model_path = 'efficientnetv2_s_cifar100_best.pth'\n",
    "\n",
    "for epoch in range(num_epochs):\n",
    "    model.train()\n",
    "    running_loss = 0.0\n",
    "    correct_train = 0\n",
    "    total_train = 0\n",
    "\n",
    "    for inputs, labels in tqdm(train_loader, desc=f'Epoch {epoch + 1}/{num_epochs}'):\n",
    "        inputs, labels = inputs.to(device), labels.to(device)\n",
    "        optimizer.zero_grad()\n",
    "        outputs = model(inputs)\n",
    "        loss = criterion(outputs, labels)\n",
    "        loss.backward()\n",
    "        optimizer.step()\n",
    "\n",
    "        running_loss += loss.item()\n",
    "        _, predicted = torch.max(outputs.data, 1)\n",
    "        total_train += labels.size(0)\n",
    "        correct_train += (predicted == labels).sum().item()\n",
    "\n",
    "    train_losses.append(running_loss / len(train_loader))\n",
    "    train_acc.append(100 * correct_train / total_train)\n",
    "\n",
    "    model.eval()\n",
    "    running_loss = 0.0\n",
    "    correct_val = 0\n",
    "    total_val = 0\n",
    "\n",
    "    with torch.no_grad():\n",
    "        for inputs, labels in val_loader:\n",
    "            inputs, labels = inputs.to(device), labels.to(device)\n",
    "            outputs = model(inputs)\n",
    "            loss = criterion(outputs, labels)\n",
    "            running_loss += loss.item()\n",
    "            _, predicted = torch.max(outputs.data, 1)\n",
    "            total_val += labels.size(0)\n",
    "            correct_val += (predicted == labels).sum().item()\n",
    "\n",
    "    val_losses.append(running_loss / len(val_loader))\n",
    "    val_acc.append(100 * correct_val / total_val)\n",
    "\n",
    "\n",
    "    scheduler.step()\n",
    "\n",
    "    # Check if the current model has the best validation accuracy\n",
    "    if val_acc[-1] > best_val_acc:\n",
    "        best_val_acc = val_acc[-1]\n",
    "        torch.save(model.state_dict(), best_model_path)\n",
    "\n",
    "    print(f\"Epoch {epoch + 1}/{num_epochs} | Train Loss: {train_losses[-1]:.4f} | Train Acc: {train_acc[-1]:.2f}% | Val Loss: {val_losses[-1]:.4f} | Val Acc: {val_acc[-1]:.2f}%\")\n",
    "\n",
    "# Load the best model\n",
    "model.load_state_dict(torch.load(best_model_path))\n",
    "\n",
    "# Save model weights\n",
    "torch.save(model.state_dict(), 'efficientnetv2_s_cifar100_augmented_third_method.pth')"
   ]
  },
  {
   "cell_type": "code",
   "execution_count": 13,
   "metadata": {},
   "outputs": [
    {
     "data": {
      "image/png": "[encoded data removed]",
      "text/plain": [
       "<Figure size 1200x400 with 2 Axes>"
      ]
     },
     "metadata": {},
     "output_type": "display_data"
    }
   ],
   "source": [
    "# Plot loss and accuracy\n",
    "plt.figure(figsize=(12, 4))\n",
    "plt.subplot(1, 2, 1)\n",
    "plt.plot(train_losses, label='Train Loss')\n",
    "plt.plot(val_losses, label='Validation Loss')\n",
    "plt.legend()\n",
    "plt.xlabel('Epochs')\n",
    "plt.ylabel('Loss')\n",
    "plt.title('Loss vs. Epochs')\n",
    "\n",
    "plt.subplot(1, 2, 2)\n",
    "plt.plot(train_acc, label='Train Accuracy')\n",
    "plt.plot(val_acc, label='Validation Accuracy')\n",
    "plt.legend()\n",
    "plt.xlabel('Epochs')\n",
    "plt.ylabel('Accuracy')\n",
    "plt.title('Accuracy vs. Epochs')\n",
    "\n",
    "plt.show()"
   ]
  },
  {
   "cell_type": "code",
   "execution_count": 14,
   "metadata": {},
   "outputs": [
    {
     "name": "stdout",
     "output_type": "stream",
     "text": [
      "Final Test Accuracy: 65.92%\n"
     ]
    }
   ],
   "source": [
    "model.eval()\n",
    "correct_test = 0\n",
    "total_test = 0\n",
    "\n",
    "with torch.no_grad():\n",
    "    for inputs, labels in val_loader:\n",
    "        inputs, labels = inputs.to(device), labels.to(device)\n",
    "        outputs = model(inputs)\n",
    "        _, predicted = torch.max(outputs.data, 1)\n",
    "        total_test += labels.size(0)\n",
    "        correct_test += (predicted == labels).sum().item()\n",
    "\n",
    "test_accuracy = 100 * correct_test / total_test\n",
    "print(f\"Final Test Accuracy: {test_accuracy:.2f}%\")"
   ]
  },
  {
   "cell_type": "markdown",
   "metadata": {
    "id": "wBcfAsyc9JPQ"
   },
   "source": [
    "## SI cross for GaussNoise"
   ]
  },
  {
   "cell_type": "code",
   "execution_count": 30,
   "metadata": {
    "colab": {
     "base_uri": "https://localhost:8080/"
    },
    "id": "fMqVI6SR9MnA",
    "outputId": "eac08003-fc00-4ce5-e31e-e0bb11bbf8ce"
   },
   "outputs": [
    {
     "name": "stdout",
     "output_type": "stream",
     "text": [
      "Files already downloaded and verified\n",
      "Files already downloaded and verified\n",
      "Files already downloaded and verified\n",
      "Balanced Train set size: 20000\n",
      "Balanced Test set size: 2000\n"
     ]
    }
   ],
   "source": [
    "import albumentations as A\n",
    "import cv2\n",
    "import torch\n",
    "from torchvision import datasets, transforms\n",
    "from torch.utils.data.sampler import SubsetRandomSampler\n",
    "import numpy as np\n",
    "\n",
    "# Declare an augmentation pipeline\n",
    "image_transform = A.Compose([\n",
    "    A.GaussNoise (var_limit=(10.0, 50.0), mean=0, per_channel=True, always_apply=False, p=0.5)\n",
    "])\n",
    "\n",
    "# Define data transformations including the Albumentations transform\n",
    "transform1 = transforms.Compose([\n",
    "    # transforms.ToPILImage(),\n",
    "    transforms.Lambda(lambda img: image_transform(image=np.array(img))[\"image\"]),\n",
    "    transforms.ToTensor(),\n",
    "    # transforms.Normalize((0.5, 0.5, 0.5), (0.5, 0.5, 0.5))\n",
    "])\n",
    "\n",
    "transform2 = transforms.Compose([\n",
    "    # transforms.ToPILImage(),\n",
    "    transforms.ToTensor(),\n",
    "    # transforms.Normalize((0.5, 0.5, 0.5), (0.5, 0.5, 0.5))\n",
    "])\n",
    "\n",
    "# Load CIFAR-100 dataset without Albumentations transform\n",
    "cifar100_original = datasets.CIFAR100(root='./data', train=True, download=True, transform=transforms.ToTensor())\n",
    "cifar100_train_augmented = datasets.CIFAR100(root='./data', train=True, download=True, transform=transform1)\n",
    "cifar100_test_augmented = datasets.CIFAR100(root='./data', train=False, download=True, transform=transform2)\n",
    "\n",
    "# Combine original and augmented datasets\n",
    "cifar100_train_combined = torch.utils.data.ConcatDataset([cifar100_original, cifar100_train_augmented])\n",
    "cifar100_test_combined = torch.utils.data.ConcatDataset([cifar100_test_augmented])\n",
    "\n",
    "# Define the size of the balanced subset for both train and test sets\n",
    "subset_fraction_train = 0.2\n",
    "subset_fraction_test = 0.2\n",
    "\n",
    "# Calculate the number of samples needed for the balanced subset for both train and test sets\n",
    "subset_size_train = int(subset_fraction_train * len(cifar100_train_combined))\n",
    "subset_size_test = int(subset_fraction_test * len(cifar100_test_combined))\n",
    "\n",
    "# Create a balanced subset for both train and test sets using SubsetRandomSampler\n",
    "class_indices_train = list(range(len(cifar100_train_augmented.classes)))\n",
    "class_indices_test = list(range(len(cifar100_test_augmented.classes)))\n",
    "\n",
    "class_subset_size_train = int(subset_size_train / len(cifar100_train_augmented.classes))\n",
    "class_subset_size_test = int(subset_size_test / len(cifar100_test_augmented.classes))\n",
    "\n",
    "class_sampler_indices_train = []\n",
    "class_sampler_indices_test = []\n",
    "\n",
    "for class_index in class_indices_train:\n",
    "    class_indices_list_train = [i for i, label in enumerate(cifar100_train_augmented.targets) if label == class_index]\n",
    "    class_sampler_indices_train.extend(class_indices_list_train[:class_subset_size_train])\n",
    "\n",
    "for class_index in class_indices_test:\n",
    "    class_indices_list_test = [i for i, label in enumerate(cifar100_test_augmented.targets) if label == class_index]\n",
    "    class_sampler_indices_test.extend(class_indices_list_test[:class_subset_size_test])\n",
    "\n",
    "train_sampler = SubsetRandomSampler(class_sampler_indices_train)\n",
    "test_sampler = SubsetRandomSampler(class_sampler_indices_test)\n",
    "\n",
    "# Create PyTorch data loaders using the balanced subset for both train and test sets\n",
    "batch_size = 256\n",
    "train_loader = torch.utils.data.DataLoader(cifar100_train_combined, batch_size=batch_size, sampler=train_sampler)\n",
    "test_loader = torch.utils.data.DataLoader(cifar100_test_combined, batch_size=batch_size, sampler=test_sampler)\n",
    "\n",
    "# Check the number of samples in each set\n",
    "print(f\"Balanced Train set size: {len(train_loader.sampler)}\")\n",
    "print(f\"Balanced Test set size: {len(test_loader.sampler)}\")\n"
   ]
  },
  {
   "cell_type": "code",
   "execution_count": 31,
   "metadata": {
    "id": "xLI7tzat9MpI"
   },
   "outputs": [],
   "source": [
    "# Extract data and labels from loaders\n",
    "cifar100_train_data, cifar100_train_labels = [], []\n",
    "for data, label in train_loader:\n",
    "    cifar100_train_data.append(data)\n",
    "    cifar100_train_labels.append(label)\n",
    "\n",
    "cifar100_test_data, cifar100_test_labels = [], []\n",
    "for data, label in test_loader:\n",
    "    cifar100_test_data.append(data)\n",
    "    cifar100_test_labels.append(label)\n",
    "\n",
    "# Concatenate the lists of tensors\n",
    "cifar100_train_data = torch.cat(cifar100_train_data, dim=0)\n",
    "cifar100_train_labels = torch.cat(cifar100_train_labels, dim=0)\n",
    "cifar100_test_data = torch.cat(cifar100_test_data, dim=0)\n",
    "cifar100_test_labels = torch.cat(cifar100_test_labels, dim=0)\n",
    "\n",
    "# Convert to desired format\n",
    "train_data_tensor = cifar100_train_data\n",
    "train_data_tensor = train_data_tensor.view(train_data_tensor.size(0), -1)\n",
    "\n",
    "train_label_tensor = cifar100_train_labels.unsqueeze(1)\n",
    "\n",
    "test_data_tensor = cifar100_test_data\n",
    "test_data_tensor = test_data_tensor.view(test_data_tensor.size(0), -1)\n",
    "\n",
    "test_label_tensor = cifar100_test_labels.unsqueeze(1)"
   ]
  },
  {
   "cell_type": "code",
   "execution_count": 32,
   "metadata": {
    "colab": {
     "base_uri": "https://localhost:8080/"
    },
    "id": "N6I-oxJn9NBd",
    "outputId": "3c8d504e-c98f-43d4-93a2-377fbd757e62"
   },
   "outputs": [
    {
     "name": "stdout",
     "output_type": "stream",
     "text": [
      "data becomes normalized\n",
      "data becomes normalized\n"
     ]
    }
   ],
   "source": [
    "train_si_calculator = Kalhor_SeparationIndex(train_data_tensor, train_label_tensor, normalize=True)\n",
    "test_si_calculator = Kalhor_SeparationIndex(test_data_tensor, test_label_tensor, normalize=True)"
   ]
  },
  {
   "cell_type": "code",
   "execution_count": 33,
   "metadata": {
    "colab": {
     "base_uri": "https://localhost:8080/"
    },
    "id": "19cc99HX9hOB",
    "outputId": "ecefbf5b-01d0-478e-95f9-b00499972300"
   },
   "outputs": [
    {
     "name": "stdout",
     "output_type": "stream",
     "text": [
      "Cross SI: 0.144\n"
     ]
    }
   ],
   "source": [
    "# Calculate cross_si_data for the test dataset\n",
    "cross_si_data = train_si_calculator.cross_si_data(test_data_tensor, test_label_tensor)\n",
    "num_ones = torch.sum(cross_si_data == True).item()\n",
    "total_elements = cross_si_data.numel()\n",
    "ratio_ones = num_ones / total_elements\n",
    "\n",
    "print(\"Cross SI:\", ratio_ones)"
   ]
  },
  {
   "cell_type": "markdown",
   "metadata": {
    "id": "ILxH-CCjncpx"
   },
   "source": [
    "# RandomRain"
   ]
  },
  {
   "cell_type": "code",
   "execution_count": 15,
   "metadata": {
    "colab": {
     "base_uri": "https://localhost:8080/"
    },
    "id": "XCSiNc0fmOim",
    "outputId": "c28efe55-b0a1-4acb-81d3-606d39e144c4"
   },
   "outputs": [
    {
     "name": "stdout",
     "output_type": "stream",
     "text": [
      "Files already downloaded and verified\n",
      "Files already downloaded and verified\n",
      "Files already downloaded and verified\n",
      "Combined Train set size: 100000\n",
      "Combined Test set size: 10000\n"
     ]
    }
   ],
   "source": [
    "import albumentations as A\n",
    "import cv2\n",
    "import torch\n",
    "from torchvision import datasets, transforms\n",
    "import numpy as np\n",
    "\n",
    "# Declare an augmentation pipeline\n",
    "image_transform = A.Compose([\n",
    "    A.RandomRain(slant_lower=-10, slant_upper=10, drop_length=20, drop_width=1, drop_color=(200, 200, 200), blur_value=7, brightness_coefficient=0.7, rain_type=None, always_apply=False, p=0.5)\n",
    "])\n",
    "\n",
    "# Define data transformations including the Albumentations transform\n",
    "transform1 = transforms.Compose([\n",
    "    # transforms.ToPILImage(),\n",
    "    transforms.Lambda(lambda img: image_transform(image=np.array(img))[\"image\"]),\n",
    "    transforms.ToTensor(),\n",
    "    transforms.Normalize((0.5, 0.5, 0.5), (0.5, 0.5, 0.5))\n",
    "])\n",
    "\n",
    "transform2 = transforms.Compose([\n",
    "    # transforms.ToPILImage(),\n",
    "    transforms.ToTensor(),\n",
    "    transforms.Normalize((0.5, 0.5, 0.5), (0.5, 0.5, 0.5))\n",
    "])\n",
    "\n",
    "# Load CIFAR-100 dataset without Albumentations transform\n",
    "cifar100_original = datasets.CIFAR100(root='./data', train=True, download=True, transform=transforms.ToTensor())\n",
    "cifar100_train_augmented = datasets.CIFAR100(root='./data', train=True, download=True, transform=transform1)\n",
    "cifar100_test_augmented = datasets.CIFAR100(root='./data', train=False, download=True, transform=transform2)\n",
    "\n",
    "# Combine original and augmented datasets\n",
    "cifar100_train_combined = torch.utils.data.ConcatDataset([cifar100_original, cifar100_train_augmented])\n",
    "cifar100_test_combined = torch.utils.data.ConcatDataset([cifar100_test_augmented])\n",
    "\n",
    "# Create PyTorch data loaders\n",
    "batch_size = 256\n",
    "train_loader = torch.utils.data.DataLoader(cifar100_train_combined, batch_size=batch_size, shuffle=True)\n",
    "val_loader = torch.utils.data.DataLoader(cifar100_test_combined, batch_size=batch_size, shuffle=False)\n",
    "\n",
    "# Check the number of samples in each set\n",
    "print(f\"Combined Train set size: {len(cifar100_train_combined)}\")\n",
    "print(f\"Combined Test set size: {len(cifar100_test_combined)}\")\n"
   ]
  },
  {
   "cell_type": "code",
   "execution_count": 16,
   "metadata": {
    "id": "HYTHpuCknuO0"
   },
   "outputs": [],
   "source": [
    "# Load EfficientNetV2-S model\n",
    "model = models.efficientnet_v2_s(weights='IMAGENET1K_V1')\n",
    "\n",
    "# 100 classes\n",
    "model.classifier = nn.Sequential(\n",
    "    nn.Dropout(p=0.2, inplace=True),\n",
    "    nn.Linear(1280, 100)\n",
    ")"
   ]
  },
  {
   "cell_type": "code",
   "execution_count": 17,
   "metadata": {
    "id": "-9LHzVJunuQ_"
   },
   "outputs": [
    {
     "name": "stdout",
     "output_type": "stream",
     "text": [
      "Sequential(\n",
      "  (0): Dropout(p=0.2, inplace=True)\n",
      "  (1): Linear(in_features=1280, out_features=100, bias=True)\n",
      ")\n"
     ]
    }
   ],
   "source": [
    "classifier = model.classifier\n",
    "print(classifier)"
   ]
  },
  {
   "cell_type": "code",
   "execution_count": 18,
   "metadata": {
    "id": "WSD9T0-unuSy"
   },
   "outputs": [
    {
     "name": "stderr",
     "output_type": "stream",
     "text": [
      "Epoch 1/20: 100%|█████████████████████████████| 391/391 [01:02<00:00,  6.26it/s]\n"
     ]
    },
    {
     "name": "stdout",
     "output_type": "stream",
     "text": [
      "Epoch 1/20 | Train Loss: 2.4562 | Train Acc: 37.68% | Val Loss: 1.5804 | Val Acc: 55.40%\n"
     ]
    },
    {
     "name": "stderr",
     "output_type": "stream",
     "text": [
      "Epoch 2/20: 100%|█████████████████████████████| 391/391 [01:02<00:00,  6.23it/s]\n"
     ]
    },
    {
     "name": "stdout",
     "output_type": "stream",
     "text": [
      "Epoch 2/20 | Train Loss: 1.3770 | Train Acc: 61.21% | Val Loss: 1.4942 | Val Acc: 59.87%\n"
     ]
    },
    {
     "name": "stderr",
     "output_type": "stream",
     "text": [
      "Epoch 3/20: 100%|█████████████████████████████| 391/391 [01:02<00:00,  6.29it/s]\n"
     ]
    },
    {
     "name": "stdout",
     "output_type": "stream",
     "text": [
      "Epoch 3/20 | Train Loss: 1.0145 | Train Acc: 70.64% | Val Loss: 1.4592 | Val Acc: 61.50%\n"
     ]
    },
    {
     "name": "stderr",
     "output_type": "stream",
     "text": [
      "Epoch 4/20: 100%|█████████████████████████████| 391/391 [01:02<00:00,  6.25it/s]\n"
     ]
    },
    {
     "name": "stdout",
     "output_type": "stream",
     "text": [
      "Epoch 4/20 | Train Loss: 0.8026 | Train Acc: 76.40% | Val Loss: 1.6276 | Val Acc: 60.71%\n"
     ]
    },
    {
     "name": "stderr",
     "output_type": "stream",
     "text": [
      "Epoch 5/20: 100%|█████████████████████████████| 391/391 [01:02<00:00,  6.29it/s]\n"
     ]
    },
    {
     "name": "stdout",
     "output_type": "stream",
     "text": [
      "Epoch 5/20 | Train Loss: 0.4227 | Train Acc: 87.59% | Val Loss: 1.5055 | Val Acc: 65.61%\n"
     ]
    },
    {
     "name": "stderr",
     "output_type": "stream",
     "text": [
      "Epoch 6/20: 100%|█████████████████████████████| 391/391 [01:02<00:00,  6.27it/s]\n"
     ]
    },
    {
     "name": "stdout",
     "output_type": "stream",
     "text": [
      "Epoch 6/20 | Train Loss: 0.2793 | Train Acc: 91.94% | Val Loss: 1.5970 | Val Acc: 65.71%\n"
     ]
    },
    {
     "name": "stderr",
     "output_type": "stream",
     "text": [
      "Epoch 7/20: 100%|█████████████████████████████| 391/391 [01:02<00:00,  6.29it/s]\n"
     ]
    },
    {
     "name": "stdout",
     "output_type": "stream",
     "text": [
      "Epoch 7/20 | Train Loss: 0.2237 | Train Acc: 93.56% | Val Loss: 1.6814 | Val Acc: 65.65%\n"
     ]
    },
    {
     "name": "stderr",
     "output_type": "stream",
     "text": [
      "Epoch 8/20: 100%|█████████████████████████████| 391/391 [01:02<00:00,  6.23it/s]\n"
     ]
    },
    {
     "name": "stdout",
     "output_type": "stream",
     "text": [
      "Epoch 8/20 | Train Loss: 0.1899 | Train Acc: 94.58% | Val Loss: 1.7353 | Val Acc: 65.02%\n"
     ]
    },
    {
     "name": "stderr",
     "output_type": "stream",
     "text": [
      "Epoch 9/20: 100%|█████████████████████████████| 391/391 [01:02<00:00,  6.21it/s]\n"
     ]
    },
    {
     "name": "stdout",
     "output_type": "stream",
     "text": [
      "Epoch 9/20 | Train Loss: 0.1339 | Train Acc: 96.17% | Val Loss: 1.7370 | Val Acc: 65.87%\n"
     ]
    },
    {
     "name": "stderr",
     "output_type": "stream",
     "text": [
      "Epoch 10/20: 100%|████████████████████████████| 391/391 [01:02<00:00,  6.28it/s]\n"
     ]
    },
    {
     "name": "stdout",
     "output_type": "stream",
     "text": [
      "Epoch 10/20 | Train Loss: 0.1126 | Train Acc: 96.82% | Val Loss: 1.7540 | Val Acc: 65.60%\n"
     ]
    },
    {
     "name": "stderr",
     "output_type": "stream",
     "text": [
      "Epoch 11/20: 100%|████████████████████████████| 391/391 [01:01<00:00,  6.35it/s]\n"
     ]
    },
    {
     "name": "stdout",
     "output_type": "stream",
     "text": [
      "Epoch 11/20 | Train Loss: 0.1024 | Train Acc: 97.11% | Val Loss: 1.7966 | Val Acc: 65.73%\n"
     ]
    },
    {
     "name": "stderr",
     "output_type": "stream",
     "text": [
      "Epoch 12/20: 100%|████████████████████████████| 391/391 [01:01<00:00,  6.37it/s]\n"
     ]
    },
    {
     "name": "stdout",
     "output_type": "stream",
     "text": [
      "Epoch 12/20 | Train Loss: 0.0934 | Train Acc: 97.29% | Val Loss: 1.8108 | Val Acc: 65.65%\n"
     ]
    },
    {
     "name": "stderr",
     "output_type": "stream",
     "text": [
      "Epoch 13/20: 100%|████████████████████████████| 391/391 [01:02<00:00,  6.29it/s]\n"
     ]
    },
    {
     "name": "stdout",
     "output_type": "stream",
     "text": [
      "Epoch 13/20 | Train Loss: 0.0824 | Train Acc: 97.63% | Val Loss: 1.8128 | Val Acc: 65.70%\n"
     ]
    },
    {
     "name": "stderr",
     "output_type": "stream",
     "text": [
      "Epoch 14/20: 100%|████████████████████████████| 391/391 [01:02<00:00,  6.25it/s]\n"
     ]
    },
    {
     "name": "stdout",
     "output_type": "stream",
     "text": [
      "Epoch 14/20 | Train Loss: 0.0796 | Train Acc: 97.76% | Val Loss: 1.8289 | Val Acc: 65.58%\n"
     ]
    },
    {
     "name": "stderr",
     "output_type": "stream",
     "text": [
      "Epoch 15/20: 100%|████████████████████████████| 391/391 [01:02<00:00,  6.30it/s]\n"
     ]
    },
    {
     "name": "stdout",
     "output_type": "stream",
     "text": [
      "Epoch 15/20 | Train Loss: 0.0764 | Train Acc: 97.86% | Val Loss: 1.8379 | Val Acc: 65.57%\n"
     ]
    },
    {
     "name": "stderr",
     "output_type": "stream",
     "text": [
      "Epoch 16/20: 100%|████████████████████████████| 391/391 [01:01<00:00,  6.31it/s]\n"
     ]
    },
    {
     "name": "stdout",
     "output_type": "stream",
     "text": [
      "Epoch 16/20 | Train Loss: 0.0739 | Train Acc: 97.88% | Val Loss: 1.8450 | Val Acc: 65.42%\n"
     ]
    },
    {
     "name": "stderr",
     "output_type": "stream",
     "text": [
      "Epoch 17/20: 100%|████████████████████████████| 391/391 [01:01<00:00,  6.32it/s]\n"
     ]
    },
    {
     "name": "stdout",
     "output_type": "stream",
     "text": [
      "Epoch 17/20 | Train Loss: 0.0735 | Train Acc: 97.92% | Val Loss: 1.8390 | Val Acc: 65.63%\n"
     ]
    },
    {
     "name": "stderr",
     "output_type": "stream",
     "text": [
      "Epoch 18/20: 100%|████████████████████████████| 391/391 [01:01<00:00,  6.34it/s]\n"
     ]
    },
    {
     "name": "stdout",
     "output_type": "stream",
     "text": [
      "Epoch 18/20 | Train Loss: 0.0710 | Train Acc: 97.97% | Val Loss: 1.8471 | Val Acc: 65.61%\n"
     ]
    },
    {
     "name": "stderr",
     "output_type": "stream",
     "text": [
      "Epoch 19/20: 100%|████████████████████████████| 391/391 [01:02<00:00,  6.30it/s]\n"
     ]
    },
    {
     "name": "stdout",
     "output_type": "stream",
     "text": [
      "Epoch 19/20 | Train Loss: 0.0694 | Train Acc: 98.02% | Val Loss: 1.8496 | Val Acc: 65.45%\n"
     ]
    },
    {
     "name": "stderr",
     "output_type": "stream",
     "text": [
      "Epoch 20/20: 100%|████████████████████████████| 391/391 [01:01<00:00,  6.31it/s]\n"
     ]
    },
    {
     "name": "stdout",
     "output_type": "stream",
     "text": [
      "Epoch 20/20 | Train Loss: 0.0700 | Train Acc: 98.01% | Val Loss: 1.8528 | Val Acc: 65.53%\n"
     ]
    }
   ],
   "source": [
    "# Define loss and optimizer\n",
    "criterion = nn.CrossEntropyLoss()\n",
    "optimizer = optim.Adam(model.parameters(), lr=0.001)\n",
    "scheduler = StepLR(optimizer, step_size=4, gamma=0.2)\n",
    "\n",
    "# Training loop\n",
    "num_epochs = 20\n",
    "device = torch.device(\"cuda\" if torch.cuda.is_available() else \"cpu\")\n",
    "model.to(device)\n",
    "\n",
    "train_losses, val_losses = [], []\n",
    "train_acc, val_acc = [], []\n",
    "\n",
    "best_val_acc = 0.0\n",
    "best_model_path = 'efficientnetv2_s_cifar100_best.pth'\n",
    "\n",
    "for epoch in range(num_epochs):\n",
    "    model.train()\n",
    "    running_loss = 0.0\n",
    "    correct_train = 0\n",
    "    total_train = 0\n",
    "\n",
    "    for inputs, labels in tqdm(train_loader, desc=f'Epoch {epoch + 1}/{num_epochs}'):\n",
    "        inputs, labels = inputs.to(device), labels.to(device)\n",
    "        optimizer.zero_grad()\n",
    "        outputs = model(inputs)\n",
    "        loss = criterion(outputs, labels)\n",
    "        loss.backward()\n",
    "        optimizer.step()\n",
    "\n",
    "        running_loss += loss.item()\n",
    "        _, predicted = torch.max(outputs.data, 1)\n",
    "        total_train += labels.size(0)\n",
    "        correct_train += (predicted == labels).sum().item()\n",
    "\n",
    "    train_losses.append(running_loss / len(train_loader))\n",
    "    train_acc.append(100 * correct_train / total_train)\n",
    "\n",
    "    model.eval()\n",
    "    running_loss = 0.0\n",
    "    correct_val = 0\n",
    "    total_val = 0\n",
    "\n",
    "    with torch.no_grad():\n",
    "        for inputs, labels in val_loader:\n",
    "            inputs, labels = inputs.to(device), labels.to(device)\n",
    "            outputs = model(inputs)\n",
    "            loss = criterion(outputs, labels)\n",
    "            running_loss += loss.item()\n",
    "            _, predicted = torch.max(outputs.data, 1)\n",
    "            total_val += labels.size(0)\n",
    "            correct_val += (predicted == labels).sum().item()\n",
    "\n",
    "    val_losses.append(running_loss / len(val_loader))\n",
    "    val_acc.append(100 * correct_val / total_val)\n",
    "\n",
    "\n",
    "    scheduler.step()\n",
    "\n",
    "    # Check if the current model has the best validation accuracy\n",
    "    if val_acc[-1] > best_val_acc:\n",
    "        best_val_acc = val_acc[-1]\n",
    "        torch.save(model.state_dict(), best_model_path)\n",
    "\n",
    "    print(f\"Epoch {epoch + 1}/{num_epochs} | Train Loss: {train_losses[-1]:.4f} | Train Acc: {train_acc[-1]:.2f}% | Val Loss: {val_losses[-1]:.4f} | Val Acc: {val_acc[-1]:.2f}%\")\n",
    "\n",
    "# Load the best model\n",
    "model.load_state_dict(torch.load(best_model_path))\n",
    "\n",
    "# Save model weights\n",
    "torch.save(model.state_dict(), 'efficientnetv2_s_cifar100_augmented_fourth_method.pth')"
   ]
  },
  {
   "cell_type": "code",
   "execution_count": 19,
   "metadata": {},
   "outputs": [
    {
     "data": {
      "image/png": "[encoded data removed]",
      "text/plain": [
       "<Figure size 1200x400 with 2 Axes>"
      ]
     },
     "metadata": {},
     "output_type": "display_data"
    }
   ],
   "source": [
    "# Plot loss and accuracy\n",
    "plt.figure(figsize=(12, 4))\n",
    "plt.subplot(1, 2, 1)\n",
    "plt.plot(train_losses, label='Train Loss')\n",
    "plt.plot(val_losses, label='Validation Loss')\n",
    "plt.legend()\n",
    "plt.xlabel('Epochs')\n",
    "plt.ylabel('Loss')\n",
    "plt.title('Loss vs. Epochs')\n",
    "\n",
    "plt.subplot(1, 2, 2)\n",
    "plt.plot(train_acc, label='Train Accuracy')\n",
    "plt.plot(val_acc, label='Validation Accuracy')\n",
    "plt.legend()\n",
    "plt.xlabel('Epochs')\n",
    "plt.ylabel('Accuracy')\n",
    "plt.title('Accuracy vs. Epochs')\n",
    "\n",
    "plt.show()"
   ]
  },
  {
   "cell_type": "code",
   "execution_count": 20,
   "metadata": {},
   "outputs": [
    {
     "name": "stdout",
     "output_type": "stream",
     "text": [
      "Final Test Accuracy: 65.87%\n"
     ]
    }
   ],
   "source": [
    "model.eval()\n",
    "correct_test = 0\n",
    "total_test = 0\n",
    "\n",
    "with torch.no_grad():\n",
    "    for inputs, labels in val_loader:\n",
    "        inputs, labels = inputs.to(device), labels.to(device)\n",
    "        outputs = model(inputs)\n",
    "        _, predicted = torch.max(outputs.data, 1)\n",
    "        total_test += labels.size(0)\n",
    "        correct_test += (predicted == labels).sum().item()\n",
    "\n",
    "test_accuracy = 100 * correct_test / total_test\n",
    "print(f\"Final Test Accuracy: {test_accuracy:.2f}%\")"
   ]
  },
  {
   "cell_type": "markdown",
   "metadata": {
    "id": "DOBxSLK-9lkB"
   },
   "source": [
    "## SI cross for RandomRain"
   ]
  },
  {
   "cell_type": "code",
   "execution_count": null,
   "metadata": {
    "colab": {
     "base_uri": "https://localhost:8080/"
    },
    "id": "EgmSmqI-9n-l",
    "outputId": "44e7e50e-e93b-46a5-e6d2-a3436e8071a8"
   },
   "outputs": [],
   "source": [
    "import albumentations as A\n",
    "import cv2\n",
    "import torch\n",
    "from torchvision import datasets, transforms\n",
    "from torch.utils.data.sampler import SubsetRandomSampler\n",
    "import numpy as np\n",
    "\n",
    "# Declare an augmentation pipeline\n",
    "image_transform = A.Compose([\n",
    "    A.RandomRain(slant_lower=-10, slant_upper=10, drop_length=20, drop_width=1, drop_color=(200, 200, 200), blur_value=7, brightness_coefficient=0.7, rain_type=None, always_apply=False, p=0.5)\n",
    "])\n",
    "\n",
    "# Define data transformations including the Albumentations transform\n",
    "transform1 = transforms.Compose([\n",
    "    # transforms.ToPILImage(),\n",
    "    transforms.Lambda(lambda img: image_transform(image=np.array(img))[\"image\"]),\n",
    "    transforms.ToTensor(),\n",
    "    # transforms.Normalize((0.5, 0.5, 0.5), (0.5, 0.5, 0.5))\n",
    "])\n",
    "\n",
    "transform2 = transforms.Compose([\n",
    "    # transforms.ToPILImage(),\n",
    "    transforms.ToTensor(),\n",
    "    # transforms.Normalize((0.5, 0.5, 0.5), (0.5, 0.5, 0.5))\n",
    "])\n",
    "\n",
    "# Load CIFAR-100 dataset without Albumentations transform\n",
    "cifar100_original = datasets.CIFAR100(root='./data', train=True, download=True, transform=transforms.ToTensor())\n",
    "cifar100_train_augmented = datasets.CIFAR100(root='./data', train=True, download=True, transform=transform1)\n",
    "cifar100_test_augmented = datasets.CIFAR100(root='./data', train=False, download=True, transform=transform2)\n",
    "\n",
    "# Combine original and augmented datasets\n",
    "cifar100_train_combined = torch.utils.data.ConcatDataset([cifar100_original, cifar100_train_augmented])\n",
    "cifar100_test_combined = torch.utils.data.ConcatDataset([cifar100_test_augmented])\n",
    "\n",
    "# Define the size of the balanced subset for both train and test sets\n",
    "subset_fraction_train = 0.2\n",
    "subset_fraction_test = 0.2\n",
    "\n",
    "# Calculate the number of samples needed for the balanced subset for both train and test sets\n",
    "subset_size_train = int(subset_fraction_train * len(cifar100_train_combined))\n",
    "subset_size_test = int(subset_fraction_test * len(cifar100_test_combined))\n",
    "\n",
    "# Create a balanced subset for both train and test sets using SubsetRandomSampler\n",
    "class_indices_train = list(range(len(cifar100_train_augmented.classes)))\n",
    "class_indices_test = list(range(len(cifar100_test_augmented.classes)))\n",
    "\n",
    "class_subset_size_train = int(subset_size_train / len(cifar100_train_augmented.classes))\n",
    "class_subset_size_test = int(subset_size_test / len(cifar100_test_augmented.classes))\n",
    "\n",
    "class_sampler_indices_train = []\n",
    "class_sampler_indices_test = []\n",
    "\n",
    "for class_index in class_indices_train:\n",
    "    class_indices_list_train = [i for i, label in enumerate(cifar100_train_augmented.targets) if label == class_index]\n",
    "    class_sampler_indices_train.extend(class_indices_list_train[:class_subset_size_train])\n",
    "\n",
    "for class_index in class_indices_test:\n",
    "    class_indices_list_test = [i for i, label in enumerate(cifar100_test_augmented.targets) if label == class_index]\n",
    "    class_sampler_indices_test.extend(class_indices_list_test[:class_subset_size_test])\n",
    "\n",
    "train_sampler = SubsetRandomSampler(class_sampler_indices_train)\n",
    "test_sampler = SubsetRandomSampler(class_sampler_indices_test)\n",
    "\n",
    "# Create PyTorch data loaders using the balanced subset for both train and test sets\n",
    "batch_size = 256\n",
    "train_loader = torch.utils.data.DataLoader(cifar100_train_combined, batch_size=batch_size, sampler=train_sampler)\n",
    "test_loader = torch.utils.data.DataLoader(cifar100_test_combined, batch_size=batch_size, sampler=test_sampler)\n",
    "\n",
    "# Check the number of samples in each set\n",
    "print(f\"Balanced Train set size: {len(train_loader.sampler)}\")\n",
    "print(f\"Balanced Test set size: {len(test_loader.sampler)}\")\n"
   ]
  },
  {
   "cell_type": "code",
   "execution_count": null,
   "metadata": {
    "id": "5MSvXd5p9oAw"
   },
   "outputs": [],
   "source": [
    "# Extract data and labels from loaders\n",
    "cifar100_train_data, cifar100_train_labels = [], []\n",
    "for data, label in train_loader:\n",
    "    cifar100_train_data.append(data)\n",
    "    cifar100_train_labels.append(label)\n",
    "\n",
    "cifar100_test_data, cifar100_test_labels = [], []\n",
    "for data, label in test_loader:\n",
    "    cifar100_test_data.append(data)\n",
    "    cifar100_test_labels.append(label)\n",
    "\n",
    "# Concatenate the lists of tensors\n",
    "cifar100_train_data = torch.cat(cifar100_train_data, dim=0)\n",
    "cifar100_train_labels = torch.cat(cifar100_train_labels, dim=0)\n",
    "cifar100_test_data = torch.cat(cifar100_test_data, dim=0)\n",
    "cifar100_test_labels = torch.cat(cifar100_test_labels, dim=0)\n",
    "\n",
    "# Convert to desired format\n",
    "train_data_tensor = cifar100_train_data\n",
    "train_data_tensor = train_data_tensor.view(train_data_tensor.size(0), -1)\n",
    "\n",
    "train_label_tensor = cifar100_train_labels.unsqueeze(1)\n",
    "\n",
    "test_data_tensor = cifar100_test_data\n",
    "test_data_tensor = test_data_tensor.view(test_data_tensor.size(0), -1)\n",
    "\n",
    "test_label_tensor = cifar100_test_labels.unsqueeze(1)"
   ]
  },
  {
   "cell_type": "code",
   "execution_count": null,
   "metadata": {
    "colab": {
     "base_uri": "https://localhost:8080/"
    },
    "id": "3TvRZPpQ9oYI",
    "outputId": "13f8be17-a717-4ef3-f7c9-58a6555b0168"
   },
   "outputs": [],
   "source": [
    "train_si_calculator = Kalhor_SeparationIndex(train_data_tensor, train_label_tensor, normalize=True)\n",
    "test_si_calculator = Kalhor_SeparationIndex(test_data_tensor, test_label_tensor, normalize=True)"
   ]
  },
  {
   "cell_type": "code",
   "execution_count": null,
   "metadata": {
    "colab": {
     "base_uri": "https://localhost:8080/"
    },
    "id": "wTPO2VUn95Pw",
    "outputId": "66a41392-9a99-40cc-9a62-75b35cad7085"
   },
   "outputs": [],
   "source": [
    "# Calculate cross_si_data for the test dataset\n",
    "cross_si_data = train_si_calculator.cross_si_data(test_data_tensor, test_label_tensor)\n",
    "num_ones = torch.sum(cross_si_data == True).item()\n",
    "total_elements = cross_si_data.numel()\n",
    "ratio_ones = num_ones / total_elements\n",
    "\n",
    "print(\"Cross SI:\", ratio_ones)"
   ]
  },
  {
   "cell_type": "markdown",
   "metadata": {
    "id": "I6MiaNqNnxkS"
   },
   "source": [
    "# ToGray"
   ]
  },
  {
   "cell_type": "code",
   "execution_count": 21,
   "metadata": {
    "colab": {
     "base_uri": "https://localhost:8080/"
    },
    "id": "cvFRdVXCoHNo",
    "outputId": "63eca3cc-47bb-4951-9483-e9312d789fa8"
   },
   "outputs": [
    {
     "name": "stdout",
     "output_type": "stream",
     "text": [
      "Files already downloaded and verified\n",
      "Files already downloaded and verified\n",
      "Files already downloaded and verified\n",
      "Combined Train set size: 100000\n",
      "Combined Test set size: 10000\n"
     ]
    }
   ],
   "source": [
    "import albumentations as A\n",
    "import cv2\n",
    "import torch\n",
    "from torchvision import datasets, transforms\n",
    "import numpy as np\n",
    "\n",
    "# Declare an augmentation pipeline\n",
    "image_transform = A.Compose([\n",
    "     A.ToGray()\n",
    "     ])\n",
    "\n",
    "# Define data transformations including the Albumentations transform\n",
    "transform1 = transforms.Compose([\n",
    "    # transforms.ToPILImage(),\n",
    "    transforms.Lambda(lambda img: image_transform(image=np.array(img))[\"image\"]),\n",
    "    transforms.ToTensor(),\n",
    "    transforms.Normalize((0.5, 0.5, 0.5), (0.5, 0.5, 0.5))\n",
    "])\n",
    "\n",
    "transform2 = transforms.Compose([\n",
    "    # transforms.ToPILImage(),\n",
    "    transforms.ToTensor(),\n",
    "    transforms.Normalize((0.5, 0.5, 0.5), (0.5, 0.5, 0.5))\n",
    "])\n",
    "\n",
    "# Load CIFAR-100 dataset without Albumentations transform\n",
    "cifar100_original = datasets.CIFAR100(root='./data', train=True, download=True, transform=transforms.ToTensor())\n",
    "cifar100_train_augmented = datasets.CIFAR100(root='./data', train=True, download=True, transform=transform1)\n",
    "cifar100_test_augmented = datasets.CIFAR100(root='./data', train=False, download=True, transform=transform2)\n",
    "\n",
    "# Combine original and augmented datasets\n",
    "cifar100_train_combined = torch.utils.data.ConcatDataset([cifar100_original, cifar100_train_augmented])\n",
    "cifar100_test_combined = torch.utils.data.ConcatDataset([cifar100_test_augmented])\n",
    "\n",
    "# Create PyTorch data loaders\n",
    "batch_size = 256\n",
    "train_loader = torch.utils.data.DataLoader(cifar100_train_combined, batch_size=batch_size, shuffle=True)\n",
    "val_loader = torch.utils.data.DataLoader(cifar100_test_combined, batch_size=batch_size, shuffle=False)\n",
    "\n",
    "# Check the number of samples in each set\n",
    "print(f\"Combined Train set size: {len(cifar100_train_combined)}\")\n",
    "print(f\"Combined Test set size: {len(cifar100_test_combined)}\")\n"
   ]
  },
  {
   "cell_type": "code",
   "execution_count": 22,
   "metadata": {
    "id": "Qd6MoBETonzh"
   },
   "outputs": [],
   "source": [
    "# Load EfficientNetV2-S model\n",
    "model = models.efficientnet_v2_s(weights='IMAGENET1K_V1')\n",
    "\n",
    "# 100 classes\n",
    "model.classifier = nn.Sequential(\n",
    "    nn.Dropout(p=0.2, inplace=True),\n",
    "    nn.Linear(1280, 100)\n",
    ")"
   ]
  },
  {
   "cell_type": "code",
   "execution_count": 23,
   "metadata": {
    "id": "EKsphiJXon1s"
   },
   "outputs": [
    {
     "name": "stdout",
     "output_type": "stream",
     "text": [
      "Sequential(\n",
      "  (0): Dropout(p=0.2, inplace=True)\n",
      "  (1): Linear(in_features=1280, out_features=100, bias=True)\n",
      ")\n"
     ]
    }
   ],
   "source": [
    "classifier = model.classifier\n",
    "print(classifier)"
   ]
  },
  {
   "cell_type": "code",
   "execution_count": 24,
   "metadata": {
    "id": "c6pw0lNuoqih"
   },
   "outputs": [
    {
     "name": "stderr",
     "output_type": "stream",
     "text": [
      "Epoch 1/20: 100%|█████████████████████████████| 391/391 [01:00<00:00,  6.43it/s]\n"
     ]
    },
    {
     "name": "stdout",
     "output_type": "stream",
     "text": [
      "Epoch 1/20 | Train Loss: 2.3311 | Train Acc: 40.27% | Val Loss: 1.5746 | Val Acc: 56.40%\n"
     ]
    },
    {
     "name": "stderr",
     "output_type": "stream",
     "text": [
      "Epoch 2/20: 100%|█████████████████████████████| 391/391 [01:00<00:00,  6.44it/s]\n"
     ]
    },
    {
     "name": "stdout",
     "output_type": "stream",
     "text": [
      "Epoch 2/20 | Train Loss: 1.2230 | Train Acc: 65.04% | Val Loss: 1.5003 | Val Acc: 59.50%\n"
     ]
    },
    {
     "name": "stderr",
     "output_type": "stream",
     "text": [
      "Epoch 3/20: 100%|█████████████████████████████| 391/391 [01:00<00:00,  6.43it/s]\n"
     ]
    },
    {
     "name": "stdout",
     "output_type": "stream",
     "text": [
      "Epoch 3/20 | Train Loss: 0.8429 | Train Acc: 75.17% | Val Loss: 1.5743 | Val Acc: 60.54%\n"
     ]
    },
    {
     "name": "stderr",
     "output_type": "stream",
     "text": [
      "Epoch 4/20: 100%|█████████████████████████████| 391/391 [01:00<00:00,  6.41it/s]\n"
     ]
    },
    {
     "name": "stdout",
     "output_type": "stream",
     "text": [
      "Epoch 4/20 | Train Loss: 0.6349 | Train Acc: 80.96% | Val Loss: 1.6227 | Val Acc: 60.55%\n"
     ]
    },
    {
     "name": "stderr",
     "output_type": "stream",
     "text": [
      "Epoch 5/20: 100%|█████████████████████████████| 391/391 [01:00<00:00,  6.44it/s]\n"
     ]
    },
    {
     "name": "stdout",
     "output_type": "stream",
     "text": [
      "Epoch 5/20 | Train Loss: 0.2448 | Train Acc: 92.58% | Val Loss: 1.5622 | Val Acc: 65.18%\n"
     ]
    },
    {
     "name": "stderr",
     "output_type": "stream",
     "text": [
      "Epoch 6/20: 100%|█████████████████████████████| 391/391 [01:00<00:00,  6.44it/s]\n"
     ]
    },
    {
     "name": "stdout",
     "output_type": "stream",
     "text": [
      "Epoch 6/20 | Train Loss: 0.1218 | Train Acc: 96.53% | Val Loss: 1.6749 | Val Acc: 65.74%\n"
     ]
    },
    {
     "name": "stderr",
     "output_type": "stream",
     "text": [
      "Epoch 7/20: 100%|█████████████████████████████| 391/391 [01:00<00:00,  6.41it/s]\n"
     ]
    },
    {
     "name": "stdout",
     "output_type": "stream",
     "text": [
      "Epoch 7/20 | Train Loss: 0.0819 | Train Acc: 97.71% | Val Loss: 1.7690 | Val Acc: 64.80%\n"
     ]
    },
    {
     "name": "stderr",
     "output_type": "stream",
     "text": [
      "Epoch 8/20: 100%|█████████████████████████████| 391/391 [01:01<00:00,  6.41it/s]\n"
     ]
    },
    {
     "name": "stdout",
     "output_type": "stream",
     "text": [
      "Epoch 8/20 | Train Loss: 0.0610 | Train Acc: 98.32% | Val Loss: 1.8499 | Val Acc: 64.94%\n"
     ]
    },
    {
     "name": "stderr",
     "output_type": "stream",
     "text": [
      "Epoch 9/20: 100%|█████████████████████████████| 391/391 [01:01<00:00,  6.39it/s]\n"
     ]
    },
    {
     "name": "stdout",
     "output_type": "stream",
     "text": [
      "Epoch 9/20 | Train Loss: 0.0422 | Train Acc: 98.90% | Val Loss: 1.8586 | Val Acc: 65.21%\n"
     ]
    },
    {
     "name": "stderr",
     "output_type": "stream",
     "text": [
      "Epoch 10/20: 100%|████████████████████████████| 391/391 [01:01<00:00,  6.40it/s]\n"
     ]
    },
    {
     "name": "stdout",
     "output_type": "stream",
     "text": [
      "Epoch 10/20 | Train Loss: 0.0333 | Train Acc: 99.14% | Val Loss: 1.8779 | Val Acc: 65.29%\n"
     ]
    },
    {
     "name": "stderr",
     "output_type": "stream",
     "text": [
      "Epoch 11/20: 100%|████████████████████████████| 391/391 [01:00<00:00,  6.43it/s]\n"
     ]
    },
    {
     "name": "stdout",
     "output_type": "stream",
     "text": [
      "Epoch 11/20 | Train Loss: 0.0271 | Train Acc: 99.32% | Val Loss: 1.8925 | Val Acc: 65.38%\n"
     ]
    },
    {
     "name": "stderr",
     "output_type": "stream",
     "text": [
      "Epoch 12/20: 100%|████████████████████████████| 391/391 [01:00<00:00,  6.43it/s]\n"
     ]
    },
    {
     "name": "stdout",
     "output_type": "stream",
     "text": [
      "Epoch 12/20 | Train Loss: 0.0247 | Train Acc: 99.40% | Val Loss: 1.9274 | Val Acc: 65.45%\n"
     ]
    },
    {
     "name": "stderr",
     "output_type": "stream",
     "text": [
      "Epoch 13/20: 100%|████████████████████████████| 391/391 [01:00<00:00,  6.42it/s]\n"
     ]
    },
    {
     "name": "stdout",
     "output_type": "stream",
     "text": [
      "Epoch 13/20 | Train Loss: 0.0214 | Train Acc: 99.45% | Val Loss: 1.9264 | Val Acc: 65.37%\n"
     ]
    },
    {
     "name": "stderr",
     "output_type": "stream",
     "text": [
      "Epoch 14/20: 100%|████████████████████████████| 391/391 [01:01<00:00,  6.40it/s]\n"
     ]
    },
    {
     "name": "stdout",
     "output_type": "stream",
     "text": [
      "Epoch 14/20 | Train Loss: 0.0191 | Train Acc: 99.54% | Val Loss: 1.9345 | Val Acc: 65.39%\n"
     ]
    },
    {
     "name": "stderr",
     "output_type": "stream",
     "text": [
      "Epoch 15/20: 100%|████████████████████████████| 391/391 [01:01<00:00,  6.41it/s]\n"
     ]
    },
    {
     "name": "stdout",
     "output_type": "stream",
     "text": [
      "Epoch 15/20 | Train Loss: 0.0195 | Train Acc: 99.53% | Val Loss: 1.9424 | Val Acc: 65.31%\n"
     ]
    },
    {
     "name": "stderr",
     "output_type": "stream",
     "text": [
      "Epoch 16/20: 100%|████████████████████████████| 391/391 [01:01<00:00,  6.40it/s]\n"
     ]
    },
    {
     "name": "stdout",
     "output_type": "stream",
     "text": [
      "Epoch 16/20 | Train Loss: 0.0187 | Train Acc: 99.53% | Val Loss: 1.9442 | Val Acc: 65.52%\n"
     ]
    },
    {
     "name": "stderr",
     "output_type": "stream",
     "text": [
      "Epoch 17/20: 100%|████████████████████████████| 391/391 [01:00<00:00,  6.42it/s]\n"
     ]
    },
    {
     "name": "stdout",
     "output_type": "stream",
     "text": [
      "Epoch 17/20 | Train Loss: 0.0181 | Train Acc: 99.54% | Val Loss: 1.9556 | Val Acc: 65.43%\n"
     ]
    },
    {
     "name": "stderr",
     "output_type": "stream",
     "text": [
      "Epoch 18/20: 100%|████████████████████████████| 391/391 [01:01<00:00,  6.41it/s]\n"
     ]
    },
    {
     "name": "stdout",
     "output_type": "stream",
     "text": [
      "Epoch 18/20 | Train Loss: 0.0182 | Train Acc: 99.53% | Val Loss: 1.9435 | Val Acc: 65.33%\n"
     ]
    },
    {
     "name": "stderr",
     "output_type": "stream",
     "text": [
      "Epoch 19/20: 100%|████████████████████████████| 391/391 [01:01<00:00,  6.35it/s]\n"
     ]
    },
    {
     "name": "stdout",
     "output_type": "stream",
     "text": [
      "Epoch 19/20 | Train Loss: 0.0175 | Train Acc: 99.55% | Val Loss: 1.9542 | Val Acc: 65.24%\n"
     ]
    },
    {
     "name": "stderr",
     "output_type": "stream",
     "text": [
      "Epoch 20/20: 100%|████████████████████████████| 391/391 [01:00<00:00,  6.43it/s]\n"
     ]
    },
    {
     "name": "stdout",
     "output_type": "stream",
     "text": [
      "Epoch 20/20 | Train Loss: 0.0179 | Train Acc: 99.56% | Val Loss: 1.9502 | Val Acc: 65.42%\n"
     ]
    }
   ],
   "source": [
    "# Define loss and optimizer\n",
    "criterion = nn.CrossEntropyLoss()\n",
    "optimizer = optim.Adam(model.parameters(), lr=0.001)\n",
    "scheduler = StepLR(optimizer, step_size=4, gamma=0.2)\n",
    "\n",
    "# Training loop\n",
    "num_epochs = 20\n",
    "device = torch.device(\"cuda\" if torch.cuda.is_available() else \"cpu\")\n",
    "model.to(device)\n",
    "\n",
    "train_losses, val_losses = [], []\n",
    "train_acc, val_acc = [], []\n",
    "\n",
    "best_val_acc = 0.0\n",
    "best_model_path = 'efficientnetv2_s_cifar100_best.pth'\n",
    "\n",
    "for epoch in range(num_epochs):\n",
    "    model.train()\n",
    "    running_loss = 0.0\n",
    "    correct_train = 0\n",
    "    total_train = 0\n",
    "\n",
    "    for inputs, labels in tqdm(train_loader, desc=f'Epoch {epoch + 1}/{num_epochs}'):\n",
    "        inputs, labels = inputs.to(device), labels.to(device)\n",
    "        optimizer.zero_grad()\n",
    "        outputs = model(inputs)\n",
    "        loss = criterion(outputs, labels)\n",
    "        loss.backward()\n",
    "        optimizer.step()\n",
    "\n",
    "        running_loss += loss.item()\n",
    "        _, predicted = torch.max(outputs.data, 1)\n",
    "        total_train += labels.size(0)\n",
    "        correct_train += (predicted == labels).sum().item()\n",
    "\n",
    "    train_losses.append(running_loss / len(train_loader))\n",
    "    train_acc.append(100 * correct_train / total_train)\n",
    "\n",
    "    model.eval()\n",
    "    running_loss = 0.0\n",
    "    correct_val = 0\n",
    "    total_val = 0\n",
    "\n",
    "    with torch.no_grad():\n",
    "        for inputs, labels in val_loader:\n",
    "            inputs, labels = inputs.to(device), labels.to(device)\n",
    "            outputs = model(inputs)\n",
    "            loss = criterion(outputs, labels)\n",
    "            running_loss += loss.item()\n",
    "            _, predicted = torch.max(outputs.data, 1)\n",
    "            total_val += labels.size(0)\n",
    "            correct_val += (predicted == labels).sum().item()\n",
    "\n",
    "    val_losses.append(running_loss / len(val_loader))\n",
    "    val_acc.append(100 * correct_val / total_val)\n",
    "\n",
    "\n",
    "    scheduler.step()\n",
    "\n",
    "    # Check if the current model has the best validation accuracy\n",
    "    if val_acc[-1] > best_val_acc:\n",
    "        best_val_acc = val_acc[-1]\n",
    "        torch.save(model.state_dict(), best_model_path)\n",
    "\n",
    "    print(f\"Epoch {epoch + 1}/{num_epochs} | Train Loss: {train_losses[-1]:.4f} | Train Acc: {train_acc[-1]:.2f}% | Val Loss: {val_losses[-1]:.4f} | Val Acc: {val_acc[-1]:.2f}%\")\n",
    "\n",
    "# Load the best model\n",
    "model.load_state_dict(torch.load(best_model_path))\n",
    "\n",
    "# Save model weights\n",
    "torch.save(model.state_dict(), 'efficientnetv2_s_cifar100_augmented_fifth_method.pth')"
   ]
  },
  {
   "cell_type": "code",
   "execution_count": 25,
   "metadata": {},
   "outputs": [
    {
     "data": {
      "image/png": "[encoded data removed]",
      "text/plain": [
       "<Figure size 1200x400 with 2 Axes>"
      ]
     },
     "metadata": {},
     "output_type": "display_data"
    }
   ],
   "source": [
    "# Plot loss and accuracy\n",
    "plt.figure(figsize=(12, 4))\n",
    "plt.subplot(1, 2, 1)\n",
    "plt.plot(train_losses, label='Train Loss')\n",
    "plt.plot(val_losses, label='Validation Loss')\n",
    "plt.legend()\n",
    "plt.xlabel('Epochs')\n",
    "plt.ylabel('Loss')\n",
    "plt.title('Loss vs. Epochs')\n",
    "\n",
    "plt.subplot(1, 2, 2)\n",
    "plt.plot(train_acc, label='Train Accuracy')\n",
    "plt.plot(val_acc, label='Validation Accuracy')\n",
    "plt.legend()\n",
    "plt.xlabel('Epochs')\n",
    "plt.ylabel('Accuracy')\n",
    "plt.title('Accuracy vs. Epochs')\n",
    "\n",
    "plt.show()"
   ]
  },
  {
   "cell_type": "code",
   "execution_count": 26,
   "metadata": {},
   "outputs": [
    {
     "name": "stdout",
     "output_type": "stream",
     "text": [
      "Final Test Accuracy: 65.74%\n"
     ]
    }
   ],
   "source": [
    "model.eval()\n",
    "correct_test = 0\n",
    "total_test = 0\n",
    "\n",
    "with torch.no_grad():\n",
    "    for inputs, labels in val_loader:\n",
    "        inputs, labels = inputs.to(device), labels.to(device)\n",
    "        outputs = model(inputs)\n",
    "        _, predicted = torch.max(outputs.data, 1)\n",
    "        total_test += labels.size(0)\n",
    "        correct_test += (predicted == labels).sum().item()\n",
    "\n",
    "test_accuracy = 100 * correct_test / total_test\n",
    "print(f\"Final Test Accuracy: {test_accuracy:.2f}%\")"
   ]
  },
  {
   "cell_type": "markdown",
   "metadata": {
    "id": "KZnDZieB977K"
   },
   "source": [
    "## SI cross for ToGray"
   ]
  },
  {
   "cell_type": "code",
   "execution_count": 12,
   "metadata": {
    "colab": {
     "base_uri": "https://localhost:8080/"
    },
    "id": "MhTOsHpe-Bkr",
    "outputId": "6d37dfde-c9cc-4aca-8ac1-17c39d332ea0"
   },
   "outputs": [
    {
     "name": "stdout",
     "output_type": "stream",
     "text": [
      "Files already downloaded and verified\n",
      "Files already downloaded and verified\n",
      "Files already downloaded and verified\n",
      "Balanced Train set size: 20000\n",
      "Balanced Test set size: 2000\n"
     ]
    }
   ],
   "source": [
    "import albumentations as A\n",
    "import cv2\n",
    "import torch\n",
    "from torchvision import datasets, transforms\n",
    "from torch.utils.data.sampler import SubsetRandomSampler\n",
    "import numpy as np\n",
    "\n",
    "# Declare an augmentation pipeline\n",
    "image_transform = A.Compose([\n",
    "     A.ToGray()\n",
    "])\n",
    "\n",
    "# Define data transformations including the Albumentations transform\n",
    "transform1 = transforms.Compose([\n",
    "    # transforms.ToPILImage(),\n",
    "    transforms.Lambda(lambda img: image_transform(image=np.array(img))[\"image\"]),\n",
    "    transforms.ToTensor(),\n",
    "    # transforms.Normalize((0.5, 0.5, 0.5), (0.5, 0.5, 0.5))\n",
    "])\n",
    "\n",
    "transform2 = transforms.Compose([\n",
    "    # transforms.ToPILImage(),\n",
    "    transforms.ToTensor(),\n",
    "    # transforms.Normalize((0.5, 0.5, 0.5), (0.5, 0.5, 0.5))\n",
    "])\n",
    "\n",
    "# Load CIFAR-100 dataset without Albumentations transform\n",
    "cifar100_original = datasets.CIFAR100(root='./data', train=True, download=True, transform=transforms.ToTensor())\n",
    "cifar100_train_augmented = datasets.CIFAR100(root='./data', train=True, download=True, transform=transform1)\n",
    "cifar100_test_augmented = datasets.CIFAR100(root='./data', train=False, download=True, transform=transform2)\n",
    "\n",
    "# Combine original and augmented datasets\n",
    "cifar100_train_combined = torch.utils.data.ConcatDataset([cifar100_original, cifar100_train_augmented])\n",
    "cifar100_test_combined = torch.utils.data.ConcatDataset([cifar100_test_augmented])\n",
    "\n",
    "# Define the size of the balanced subset for both train and test sets\n",
    "subset_fraction_train = 0.2\n",
    "subset_fraction_test = 0.2\n",
    "\n",
    "# Calculate the number of samples needed for the balanced subset for both train and test sets\n",
    "subset_size_train = int(subset_fraction_train * len(cifar100_train_combined))\n",
    "subset_size_test = int(subset_fraction_test * len(cifar100_test_combined))\n",
    "\n",
    "# Create a balanced subset for both train and test sets using SubsetRandomSampler\n",
    "class_indices_train = list(range(len(cifar100_train_augmented.classes)))\n",
    "class_indices_test = list(range(len(cifar100_test_augmented.classes)))\n",
    "\n",
    "class_subset_size_train = int(subset_size_train / len(cifar100_train_augmented.classes))\n",
    "class_subset_size_test = int(subset_size_test / len(cifar100_test_augmented.classes))\n",
    "\n",
    "class_sampler_indices_train = []\n",
    "class_sampler_indices_test = []\n",
    "\n",
    "for class_index in class_indices_train:\n",
    "    class_indices_list_train = [i for i, label in enumerate(cifar100_train_augmented.targets) if label == class_index]\n",
    "    class_sampler_indices_train.extend(class_indices_list_train[:class_subset_size_train])\n",
    "\n",
    "for class_index in class_indices_test:\n",
    "    class_indices_list_test = [i for i, label in enumerate(cifar100_test_augmented.targets) if label == class_index]\n",
    "    class_sampler_indices_test.extend(class_indices_list_test[:class_subset_size_test])\n",
    "\n",
    "train_sampler = SubsetRandomSampler(class_sampler_indices_train)\n",
    "test_sampler = SubsetRandomSampler(class_sampler_indices_test)\n",
    "\n",
    "# Create PyTorch data loaders using the balanced subset for both train and test sets\n",
    "batch_size = 256\n",
    "train_loader = torch.utils.data.DataLoader(cifar100_train_combined, batch_size=batch_size, sampler=train_sampler)\n",
    "test_loader = torch.utils.data.DataLoader(cifar100_test_combined, batch_size=batch_size, sampler=test_sampler)\n",
    "\n",
    "# Check the number of samples in each set\n",
    "print(f\"Balanced Train set size: {len(train_loader.sampler)}\")\n",
    "print(f\"Balanced Test set size: {len(test_loader.sampler)}\")\n"
   ]
  },
  {
   "cell_type": "code",
   "execution_count": 13,
   "metadata": {
    "id": "ekLRJ-x7-Bmy"
   },
   "outputs": [],
   "source": [
    "# Extract data and labels from loaders\n",
    "cifar100_train_data, cifar100_train_labels = [], []\n",
    "for data, label in train_loader:\n",
    "    cifar100_train_data.append(data)\n",
    "    cifar100_train_labels.append(label)\n",
    "\n",
    "cifar100_test_data, cifar100_test_labels = [], []\n",
    "for data, label in test_loader:\n",
    "    cifar100_test_data.append(data)\n",
    "    cifar100_test_labels.append(label)\n",
    "\n",
    "# Concatenate the lists of tensors\n",
    "cifar100_train_data = torch.cat(cifar100_train_data, dim=0)\n",
    "cifar100_train_labels = torch.cat(cifar100_train_labels, dim=0)\n",
    "cifar100_test_data = torch.cat(cifar100_test_data, dim=0)\n",
    "cifar100_test_labels = torch.cat(cifar100_test_labels, dim=0)\n",
    "\n",
    "# Convert to desired format\n",
    "train_data_tensor = cifar100_train_data\n",
    "train_data_tensor = train_data_tensor.view(train_data_tensor.size(0), -1)\n",
    "\n",
    "train_label_tensor = cifar100_train_labels.unsqueeze(1)\n",
    "\n",
    "test_data_tensor = cifar100_test_data\n",
    "test_data_tensor = test_data_tensor.view(test_data_tensor.size(0), -1)\n",
    "\n",
    "test_label_tensor = cifar100_test_labels.unsqueeze(1)"
   ]
  },
  {
   "cell_type": "code",
   "execution_count": 14,
   "metadata": {
    "colab": {
     "base_uri": "https://localhost:8080/"
    },
    "id": "F_N7EM3Q-BBz",
    "outputId": "f668b479-9234-4308-bf34-5ce8344d1deb"
   },
   "outputs": [
    {
     "name": "stdout",
     "output_type": "stream",
     "text": [
      "data becomes normalized\n",
      "data becomes normalized\n"
     ]
    }
   ],
   "source": [
    "train_si_calculator = Kalhor_SeparationIndex(train_data_tensor, train_label_tensor, normalize=True)\n",
    "test_si_calculator = Kalhor_SeparationIndex(test_data_tensor, test_label_tensor, normalize=True)"
   ]
  },
  {
   "cell_type": "code",
   "execution_count": 15,
   "metadata": {
    "colab": {
     "base_uri": "https://localhost:8080/"
    },
    "id": "HjpQBCSb-Mek",
    "outputId": "68ac330e-45b1-4d5f-d1c1-babb53837047"
   },
   "outputs": [
    {
     "name": "stdout",
     "output_type": "stream",
     "text": [
      "Cross SI: 0.144\n"
     ]
    }
   ],
   "source": [
    "# Calculate cross_si_data for the test dataset\n",
    "cross_si_data = train_si_calculator.cross_si_data(test_data_tensor, test_label_tensor)\n",
    "num_ones = torch.sum(cross_si_data == True).item()\n",
    "total_elements = cross_si_data.numel()\n",
    "ratio_ones = num_ones / total_elements\n",
    "\n",
    "print(\"Cross SI:\", ratio_ones)"
   ]
  }
 ],
 "metadata": {
  "accelerator": "GPU",
  "colab": {
   "gpuType": "T4",
   "provenance": []
  },
  "kernelspec": {
   "display_name": "deepgaze3",
   "language": "python",
   "name": "deepgaze3"
  },
  "language_info": {
   "codemirror_mode": {
    "name": "ipython",
    "version": 3
   },
   "file_extension": ".py",
   "mimetype": "text/x-python",
   "name": "python",
   "nbconvert_exporter": "python",
   "pygments_lexer": "ipython3",
   "version": "3.9.16"
  }
 },
 "nbformat": 4,
 "nbformat_minor": 4
}
