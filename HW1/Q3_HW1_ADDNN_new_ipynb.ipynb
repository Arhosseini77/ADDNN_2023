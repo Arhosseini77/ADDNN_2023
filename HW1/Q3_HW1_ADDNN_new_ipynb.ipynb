{
  "nbformat": 4,
  "nbformat_minor": 0,
  "metadata": {
    "colab": {
      "provenance": [],
      "gpuType": "T4"
    },
    "kernelspec": {
      "name": "python3",
      "display_name": "Python 3"
    },
    "language_info": {
      "name": "python"
    },
    "accelerator": "GPU"
  },
  "cells": [
    {
      "cell_type": "code",
      "execution_count": 1,
      "metadata": {
        "id": "XioKT_xcVUOv"
      },
      "outputs": [],
      "source": [
        "import torch\n",
        "import torchvision.transforms as transforms\n",
        "import torchvision.datasets as datasets\n",
        "import torchvision.models as models\n",
        "import torch.nn as nn\n",
        "import torch.optim as optim\n",
        "from torch.optim.lr_scheduler import StepLR\n",
        "import matplotlib.pyplot as plt\n",
        "from tqdm import tqdm\n",
        "import albumentations as A\n",
        "import numpy as np\n",
        "import cv2\n",
        "import random"
      ]
    },
    {
      "cell_type": "code",
      "source": [
        "!git clone https://github.com/Arhosseini77/data_complexity_measures"
      ],
      "metadata": {
        "colab": {
          "base_uri": "https://localhost:8080/"
        },
        "id": "jzkPk2puyGkY",
        "outputId": "16ba3f18-347a-4a13-88eb-16248f6b5cb7"
      },
      "execution_count": 10,
      "outputs": [
        {
          "output_type": "stream",
          "name": "stdout",
          "text": [
            "Cloning into 'data_complexity_measures'...\n",
            "remote: Enumerating objects: 71, done.\u001b[K\n",
            "remote: Counting objects: 100% (71/71), done.\u001b[K\n",
            "remote: Compressing objects: 100% (59/59), done.\u001b[K\n",
            "remote: Total 71 (delta 34), reused 31 (delta 9), pack-reused 0\u001b[K\n",
            "Receiving objects: 100% (71/71), 125.53 KiB | 1004.00 KiB/s, done.\n",
            "Resolving deltas: 100% (34/34), done.\n"
          ]
        }
      ]
    },
    {
      "cell_type": "code",
      "source": [
        "import torch\n",
        "from torchvision import datasets, transforms\n",
        "import random\n",
        "import numpy as np\n",
        "\n",
        "from data_complexity_measures.models.SeprationIndex import Kalhor_SeparationIndex"
      ],
      "metadata": {
        "id": "Wa_dMcOxyHZM"
      },
      "execution_count": 11,
      "outputs": []
    },
    {
      "cell_type": "markdown",
      "source": [
        "# CLAHE"
      ],
      "metadata": {
        "id": "R1wPcoLVhUmk"
      }
    },
    {
      "cell_type": "code",
      "source": [
        "import albumentations as A\n",
        "import cv2\n",
        "import torch\n",
        "from torchvision import datasets, transforms\n",
        "import numpy as np\n",
        "\n",
        "# Declare an augmentation pipeline\n",
        "image_transform = A.Compose([\n",
        "    A.CLAHE(clip_limit=4.0, tile_grid_size=(8, 8), always_apply=False, p=0.5),\n",
        "])\n",
        "\n",
        "# Define data transformations including the Albumentations transform\n",
        "transform1 = transforms.Compose([\n",
        "    # transforms.ToPILImage(),\n",
        "    transforms.Lambda(lambda img: image_transform(image=np.array(img))[\"image\"]),\n",
        "    transforms.ToTensor(),\n",
        "    # transforms.Normalize((0.5, 0.5, 0.5), (0.5, 0.5, 0.5))\n",
        "])\n",
        "\n",
        "transform2 = transforms.Compose([\n",
        "    # transforms.ToPILImage(),\n",
        "    transforms.ToTensor(),\n",
        "    # transforms.Normalize((0.5, 0.5, 0.5), (0.5, 0.5, 0.5))\n",
        "])\n",
        "\n",
        "# Load CIFAR-100 dataset without Albumentations transform\n",
        "cifar100_original = datasets.CIFAR100(root='./data', train=True, download=True, transform=transforms.ToTensor())\n",
        "cifar100_train_augmented = datasets.CIFAR100(root='./data', train=True, download=True, transform=transform1)\n",
        "cifar100_test_augmented = datasets.CIFAR100(root='./data', train=False, download=True, transform=transform2)\n",
        "\n",
        "# Combine original and augmented datasets\n",
        "cifar100_train_combined = torch.utils.data.ConcatDataset([cifar100_original, cifar100_train_augmented])\n",
        "cifar100_test_combined = torch.utils.data.ConcatDataset([cifar100_test_augmented])\n",
        "\n",
        "# Create PyTorch data loaders\n",
        "batch_size = 256\n",
        "train_loader = torch.utils.data.DataLoader(cifar100_train_combined, batch_size=batch_size, shuffle=True)\n",
        "val_loader = torch.utils.data.DataLoader(cifar100_test_combined, batch_size=batch_size, shuffle=False)\n",
        "\n",
        "# Check the number of samples in each set\n",
        "print(f\"Combined Train set size: {len(cifar100_train_combined)}\")\n",
        "print(f\"Combined Test set size: {len(cifar100_test_combined)}\")\n"
      ],
      "metadata": {
        "colab": {
          "base_uri": "https://localhost:8080/"
        },
        "id": "RS0C3i9wVt46",
        "outputId": "64a49782-ae56-426a-ff7f-d4eaeaafd3ae"
      },
      "execution_count": 25,
      "outputs": [
        {
          "output_type": "stream",
          "name": "stdout",
          "text": [
            "Files already downloaded and verified\n",
            "Files already downloaded and verified\n",
            "Files already downloaded and verified\n",
            "Combined Train set size: 100000\n",
            "Combined Test set size: 10000\n"
          ]
        }
      ]
    },
    {
      "cell_type": "code",
      "source": [
        "import cv2\n",
        "import matplotlib.pyplot as plt\n",
        "from albumentations import CLAHE\n",
        "from tensorflow.keras.datasets import cifar100\n",
        "\n",
        "(train_images, _), (_, _) = cifar100.load_data()\n",
        "image_index = 0\n",
        "original_image = train_images[image_index]\n",
        "\n",
        "plt.figure(figsize=(8, 8))\n",
        "plt.subplot(1, 2, 1)\n",
        "plt.title(\"Original Image\")\n",
        "plt.imshow(original_image)\n",
        "plt.axis('off')\n",
        "\n",
        "augmentation = CLAHE(clip_limit=4.0, tile_grid_size=(8, 8), always_apply=False, p=1.0)\n",
        "\n",
        "\n",
        "augmented_image = augmentation(image=original_image)['image']\n",
        "plt.subplot(1, 2, 2)\n",
        "plt.title(\"Augmented Image (CLAHE)\")\n",
        "plt.imshow(augmented_image)\n",
        "plt.axis('off')\n",
        "\n",
        "plt.show()\n"
      ],
      "metadata": {
        "colab": {
          "base_uri": "https://localhost:8080/",
          "height": 341
        },
        "id": "pIoBYiX7uLp9",
        "outputId": "ff1ac4d1-665e-4ced-c085-f5ccea627390"
      },
      "execution_count": 35,
      "outputs": [
        {
          "output_type": "display_data",
          "data": {
            "text/plain": [
              "<Figure size 800x800 with 2 Axes>"
            ],
            "image/png": "[encoded data removed]"
          },
          "metadata": {}
        }
      ]
    },
    {
      "cell_type": "code",
      "source": [
        "# Load EfficientNetV2-S model\n",
        "model = models.efficientnet_v2_s(weights='IMAGENET1K_V1')\n",
        "\n",
        "# 100 classes\n",
        "model.classifier = nn.Sequential(\n",
        "    nn.Dropout(p=0.2, inplace=True),\n",
        "    nn.Linear(1280, 100)\n",
        ")"
      ],
      "metadata": {
        "colab": {
          "base_uri": "https://localhost:8080/"
        },
        "id": "U31V69KgXXUB",
        "outputId": "8ac69e02-4eb9-4674-83ee-5c4f186bda06"
      },
      "execution_count": 24,
      "outputs": [
        {
          "output_type": "stream",
          "name": "stderr",
          "text": [
            "Downloading: \"https://download.pytorch.org/models/efficientnet_v2_s-dd5fe13b.pth\" to /root/.cache/torch/hub/checkpoints/efficientnet_v2_s-dd5fe13b.pth\n",
            "100%|██████████| 82.7M/82.7M [00:01<00:00, 70.1MB/s]\n"
          ]
        }
      ]
    },
    {
      "cell_type": "code",
      "source": [
        "classifier = model.classifier\n",
        "print(classifier)"
      ],
      "metadata": {
        "colab": {
          "base_uri": "https://localhost:8080/"
        },
        "id": "fhWh6pNgbhJN",
        "outputId": "35782be3-d2aa-43e1-e8ed-7d1e69e81b42"
      },
      "execution_count": 25,
      "outputs": [
        {
          "output_type": "stream",
          "name": "stdout",
          "text": [
            "Sequential(\n",
            "  (0): Dropout(p=0.2, inplace=True)\n",
            "  (1): Linear(in_features=1280, out_features=100, bias=True)\n",
            ")\n"
          ]
        }
      ]
    },
    {
      "cell_type": "code",
      "source": [
        "# Define loss and optimizer\n",
        "criterion = nn.CrossEntropyLoss()\n",
        "optimizer = optim.Adam(model.parameters(), lr=0.001)\n",
        "scheduler = StepLR(optimizer, step_size=4, gamma=0.2)\n",
        "\n",
        "# Training loop\n",
        "num_epochs = 1\n",
        "device = torch.device(\"cuda\" if torch.cuda.is_available() else \"cpu\")\n",
        "model.to(device)\n",
        "\n",
        "train_losses, val_losses = [], []\n",
        "train_acc, val_acc = [], []\n",
        "\n",
        "best_val_acc = 0.0\n",
        "best_model_path = 'efficientnetv2_s_cifar100_best.pth'\n",
        "\n",
        "for epoch in range(num_epochs):\n",
        "    model.train()\n",
        "    running_loss = 0.0\n",
        "    correct_train = 0\n",
        "    total_train = 0\n",
        "\n",
        "    for inputs, labels in tqdm(train_loader, desc=f'Epoch {epoch + 1}/{num_epochs}'):\n",
        "        inputs, labels = inputs.to(device), labels.to(device)\n",
        "        optimizer.zero_grad()\n",
        "        outputs = model(inputs)\n",
        "        loss = criterion(outputs, labels)\n",
        "        loss.backward()\n",
        "        optimizer.step()\n",
        "\n",
        "        running_loss += loss.item()\n",
        "        _, predicted = torch.max(outputs.data, 1)\n",
        "        total_train += labels.size(0)\n",
        "        correct_train += (predicted == labels).sum().item()\n",
        "\n",
        "    train_losses.append(running_loss / len(train_loader))\n",
        "    train_acc.append(100 * correct_train / total_train)\n",
        "\n",
        "    model.eval()\n",
        "    running_loss = 0.0\n",
        "    correct_val = 0\n",
        "    total_val = 0\n",
        "\n",
        "    with torch.no_grad():\n",
        "        for inputs, labels in val_loader:\n",
        "            inputs, labels = inputs.to(device), labels.to(device)\n",
        "            outputs = model(inputs)\n",
        "            loss = criterion(outputs, labels)\n",
        "            running_loss += loss.item()\n",
        "            _, predicted = torch.max(outputs.data, 1)\n",
        "            total_val += labels.size(0)\n",
        "            correct_val += (predicted == labels).sum().item()\n",
        "\n",
        "    val_losses.append(running_loss / len(val_loader))\n",
        "    val_acc.append(100 * correct_val / total_val)\n",
        "\n",
        "\n",
        "    scheduler.step()\n",
        "\n",
        "    # Check if the current model has the best validation accuracy\n",
        "    if val_acc[-1] > best_val_acc:\n",
        "        best_val_acc = val_acc[-1]\n",
        "        torch.save(model.state_dict(), best_model_path)\n",
        "\n",
        "    print(f\"Epoch {epoch + 1}/{num_epochs} | Train Loss: {train_losses[-1]:.4f} | Train Acc: {train_acc[-1]:.2f}% | Val Loss: {val_losses[-1]:.4f} | Val Acc: {val_acc[-1]:.2f}%\")\n",
        "\n",
        "# Load the best model\n",
        "model.load_state_dict(torch.load(best_model_path))\n",
        "\n",
        "# Save model weights\n",
        "torch.save(model.state_dict(), 'efficientnetv2_s_cifar100_augmented_fiest_method.pth')"
      ],
      "metadata": {
        "colab": {
          "base_uri": "https://localhost:8080/"
        },
        "id": "J8RmQDsibinI",
        "outputId": "880fd850-7d81-41ee-cff7-3e50afb38343"
      },
      "execution_count": 27,
      "outputs": [
        {
          "output_type": "stream",
          "name": "stderr",
          "text": [
            "Epoch 1/1: 100%|██████████| 25000/25000 [35:25<00:00, 11.76it/s]\n"
          ]
        },
        {
          "output_type": "stream",
          "name": "stdout",
          "text": [
            "Epoch 1/1 | Train Loss: 4.3242 | Train Acc: 4.35% | Val Loss: 47.4367 | Val Acc: 5.06%\n"
          ]
        }
      ]
    },
    {
      "cell_type": "code",
      "source": [
        "# Plot loss and accuracy\n",
        "plt.figure(figsize=(12, 4))\n",
        "plt.subplot(1, 2, 1)\n",
        "plt.plot(train_losses, label='Train Loss')\n",
        "plt.plot(val_losses, label='Validation Loss')\n",
        "plt.legend()\n",
        "plt.xlabel('Epochs')\n",
        "plt.ylabel('Loss')\n",
        "plt.title('Loss vs. Epochs')\n",
        "\n",
        "plt.subplot(1, 2, 2)\n",
        "plt.plot(train_acc, label='Train Accuracy')\n",
        "plt.plot(val_acc, label='Validation Accuracy')\n",
        "plt.legend()\n",
        "plt.xlabel('Epochs')\n",
        "plt.ylabel('Accuracy')\n",
        "plt.title('Accuracy vs. Epochs')\n",
        "\n",
        "plt.show()"
      ],
      "metadata": {
        "colab": {
          "base_uri": "https://localhost:8080/",
          "height": 410
        },
        "id": "QIdZRGRPboQK",
        "outputId": "6a87d4ef-1a87-4c8c-a698-22290e97e099"
      },
      "execution_count": 28,
      "outputs": [
        {
          "output_type": "display_data",
          "data": {
            "text/plain": [
              "<Figure size 1200x400 with 2 Axes>"
            ],
            "image/png": "[encoded data removed]"
          },
          "metadata": {}
        }
      ]
    },
    {
      "cell_type": "code",
      "source": [
        "model.eval()\n",
        "correct_test = 0\n",
        "total_test = 0\n",
        "\n",
        "with torch.no_grad():\n",
        "    for inputs, labels in val_loader:\n",
        "        inputs, labels = inputs.to(device), labels.to(device)\n",
        "        outputs = model(inputs)\n",
        "        _, predicted = torch.max(outputs.data, 1)\n",
        "        total_test += labels.size(0)\n",
        "        correct_test += (predicted == labels).sum().item()\n",
        "\n",
        "test_accuracy = 100 * correct_test / total_test\n",
        "print(f\"Final Test Accuracy: {test_accuracy:.2f}%\")\n"
      ],
      "metadata": {
        "id": "TiCc56CVhuby"
      },
      "execution_count": null,
      "outputs": []
    },
    {
      "cell_type": "markdown",
      "source": [
        "## SI cross for CLAHE"
      ],
      "metadata": {
        "id": "Oy3oxy6_wDCT"
      }
    },
    {
      "cell_type": "code",
      "source": [
        "import albumentations as A\n",
        "import cv2\n",
        "import torch\n",
        "from torchvision import datasets, transforms\n",
        "from torch.utils.data.sampler import SubsetRandomSampler\n",
        "import numpy as np\n",
        "\n",
        "# Declare an augmentation pipeline\n",
        "image_transform = A.Compose([\n",
        "    A.CLAHE(clip_limit=4.0, tile_grid_size=(8, 8), always_apply=False, p=0.5),\n",
        "])\n",
        "\n",
        "# Define data transformations including the Albumentations transform\n",
        "transform1 = transforms.Compose([\n",
        "    # transforms.ToPILImage(),\n",
        "    transforms.Lambda(lambda img: image_transform(image=np.array(img))[\"image\"]),\n",
        "    transforms.ToTensor(),\n",
        "    # transforms.Normalize((0.5, 0.5, 0.5), (0.5, 0.5, 0.5))\n",
        "])\n",
        "\n",
        "transform2 = transforms.Compose([\n",
        "    # transforms.ToPILImage(),\n",
        "    transforms.ToTensor(),\n",
        "    # transforms.Normalize((0.5, 0.5, 0.5), (0.5, 0.5, 0.5))\n",
        "])\n",
        "\n",
        "# Load CIFAR-100 dataset without Albumentations transform\n",
        "cifar100_original = datasets.CIFAR100(root='./data', train=True, download=True, transform=transforms.ToTensor())\n",
        "cifar100_train_augmented = datasets.CIFAR100(root='./data', train=True, download=True, transform=transform1)\n",
        "cifar100_test_augmented = datasets.CIFAR100(root='./data', train=False, download=True, transform=transform2)\n",
        "\n",
        "# Combine original and augmented datasets\n",
        "cifar100_train_combined = torch.utils.data.ConcatDataset([cifar100_original, cifar100_train_augmented])\n",
        "cifar100_test_combined = torch.utils.data.ConcatDataset([cifar100_test_augmented])\n",
        "\n",
        "# Define the size of the balanced subset for both train and test sets\n",
        "subset_fraction_train = 0.2\n",
        "subset_fraction_test = 0.2\n",
        "\n",
        "# Calculate the number of samples needed for the balanced subset for both train and test sets\n",
        "subset_size_train = int(subset_fraction_train * len(cifar100_train_combined))\n",
        "subset_size_test = int(subset_fraction_test * len(cifar100_test_combined))\n",
        "\n",
        "# Create a balanced subset for both train and test sets using SubsetRandomSampler\n",
        "class_indices_train = list(range(len(cifar100_train_augmented.classes)))\n",
        "class_indices_test = list(range(len(cifar100_test_augmented.classes)))\n",
        "\n",
        "class_subset_size_train = int(subset_size_train / len(cifar100_train_augmented.classes))\n",
        "class_subset_size_test = int(subset_size_test / len(cifar100_test_augmented.classes))\n",
        "\n",
        "class_sampler_indices_train = []\n",
        "class_sampler_indices_test = []\n",
        "\n",
        "for class_index in class_indices_train:\n",
        "    class_indices_list_train = [i for i, label in enumerate(cifar100_train_augmented.targets) if label == class_index]\n",
        "    class_sampler_indices_train.extend(class_indices_list_train[:class_subset_size_train])\n",
        "\n",
        "for class_index in class_indices_test:\n",
        "    class_indices_list_test = [i for i, label in enumerate(cifar100_test_augmented.targets) if label == class_index]\n",
        "    class_sampler_indices_test.extend(class_indices_list_test[:class_subset_size_test])\n",
        "\n",
        "train_sampler = SubsetRandomSampler(class_sampler_indices_train)\n",
        "test_sampler = SubsetRandomSampler(class_sampler_indices_test)\n",
        "\n",
        "# Create PyTorch data loaders using the balanced subset for both train and test sets\n",
        "batch_size = 256\n",
        "train_loader = torch.utils.data.DataLoader(cifar100_train_combined, batch_size=batch_size, sampler=train_sampler)\n",
        "test_loader = torch.utils.data.DataLoader(cifar100_test_combined, batch_size=batch_size, sampler=test_sampler)\n",
        "\n",
        "# Check the number of samples in each set\n",
        "print(f\"Balanced Train set size: {len(train_loader.sampler)}\")\n",
        "print(f\"Balanced Test set size: {len(test_loader.sampler)}\")\n"
      ],
      "metadata": {
        "colab": {
          "base_uri": "https://localhost:8080/"
        },
        "id": "UR57HE2lwCsJ",
        "outputId": "f4b254e3-ee26-48a8-ad08-a0549ce439a4"
      },
      "execution_count": 39,
      "outputs": [
        {
          "output_type": "stream",
          "name": "stdout",
          "text": [
            "Files already downloaded and verified\n",
            "Files already downloaded and verified\n",
            "Files already downloaded and verified\n",
            "Balanced Train set size: 20000\n",
            "Balanced Test set size: 2000\n"
          ]
        }
      ]
    },
    {
      "cell_type": "code",
      "source": [
        "# Extract data and labels from loaders\n",
        "cifar100_train_data, cifar100_train_labels = [], []\n",
        "for data, label in train_loader:\n",
        "    cifar100_train_data.append(data)\n",
        "    cifar100_train_labels.append(label)\n",
        "\n",
        "cifar100_test_data, cifar100_test_labels = [], []\n",
        "for data, label in test_loader:\n",
        "    cifar100_test_data.append(data)\n",
        "    cifar100_test_labels.append(label)\n",
        "\n",
        "# Concatenate the lists of tensors\n",
        "cifar100_train_data = torch.cat(cifar100_train_data, dim=0)\n",
        "cifar100_train_labels = torch.cat(cifar100_train_labels, dim=0)\n",
        "cifar100_test_data = torch.cat(cifar100_test_data, dim=0)\n",
        "cifar100_test_labels = torch.cat(cifar100_test_labels, dim=0)\n",
        "\n",
        "# Convert to desired format\n",
        "train_data_tensor = cifar100_train_data\n",
        "train_data_tensor = train_data_tensor.view(train_data_tensor.size(0), -1)\n",
        "\n",
        "train_label_tensor = cifar100_train_labels.unsqueeze(1)\n",
        "\n",
        "test_data_tensor = cifar100_test_data\n",
        "test_data_tensor = test_data_tensor.view(test_data_tensor.size(0), -1)\n",
        "\n",
        "test_label_tensor = cifar100_test_labels.unsqueeze(1)"
      ],
      "metadata": {
        "id": "RRGfH6Gpx2oX"
      },
      "execution_count": 86,
      "outputs": []
    },
    {
      "cell_type": "code",
      "source": [
        "train_si_calculator = Kalhor_SeparationIndex(train_data_tensor, train_label_tensor, normalize=True)\n",
        "test_si_calculator = Kalhor_SeparationIndex(test_data_tensor, test_label_tensor, normalize=True)"
      ],
      "metadata": {
        "colab": {
          "base_uri": "https://localhost:8080/"
        },
        "id": "cWVBQh4Ax2q1",
        "outputId": "56a2dfe1-c8dd-4180-95cd-9c3549515ceb"
      },
      "execution_count": 87,
      "outputs": [
        {
          "output_type": "stream",
          "name": "stdout",
          "text": [
            "data becomes normalized\n",
            "data becomes normalized\n"
          ]
        }
      ]
    },
    {
      "cell_type": "code",
      "source": [
        "# Calculate cross_si_data for the test dataset\n",
        "cross_si_data = train_si_calculator.cross_si_data(test_data_tensor, test_label_tensor)\n",
        "num_ones = torch.sum(cross_si_data == True).item()\n",
        "total_elements = cross_si_data.numel()\n",
        "ratio_ones = num_ones / total_elements\n",
        "\n",
        "print(\"Cross SI:\", ratio_ones)"
      ],
      "metadata": {
        "colab": {
          "base_uri": "https://localhost:8080/"
        },
        "id": "G966KAgHyN95",
        "outputId": "32515b26-43c5-4803-b814-8d5645e7dc2d"
      },
      "execution_count": 88,
      "outputs": [
        {
          "output_type": "stream",
          "name": "stdout",
          "text": [
            "Cross SI: 0.144\n"
          ]
        }
      ]
    },
    {
      "cell_type": "markdown",
      "source": [
        "# AdvancedBlur"
      ],
      "metadata": {
        "id": "5j6mZ5ANkqZz"
      }
    },
    {
      "cell_type": "code",
      "source": [
        "import albumentations as A\n",
        "import cv2\n",
        "import torch\n",
        "from torchvision import datasets, transforms\n",
        "import numpy as np\n",
        "\n",
        "# Declare an augmentation pipeline\n",
        "image_transform = A.Compose([\n",
        "    A.AdvancedBlur(blur_limit=(3, 7), sigmaX_limit=(0.2, 1.0), sigmaY_limit=(0.2, 1.0), rotate_limit=90, beta_limit=(0.5, 8.0), noise_limit=(0.9, 1.1), always_apply=False, p=0.5),\n",
        "])\n",
        "\n",
        "# Define data transformations including the Albumentations transform\n",
        "transform1 = transforms.Compose([\n",
        "    # transforms.ToPILImage(),\n",
        "    transforms.Lambda(lambda img: image_transform(image=np.array(img))[\"image\"]),\n",
        "    transforms.ToTensor(),\n",
        "    transforms.Normalize((0.5, 0.5, 0.5), (0.5, 0.5, 0.5))\n",
        "])\n",
        "\n",
        "transform2 = transforms.Compose([\n",
        "    # transforms.ToPILImage(),\n",
        "    transforms.ToTensor(),\n",
        "    transforms.Normalize((0.5, 0.5, 0.5), (0.5, 0.5, 0.5))\n",
        "])\n",
        "\n",
        "# Load CIFAR-100 dataset without Albumentations transform\n",
        "cifar100_original = datasets.CIFAR100(root='./data', train=True, download=True, transform=transforms.ToTensor())\n",
        "cifar100_train_augmented = datasets.CIFAR100(root='./data', train=True, download=True, transform=transform1)\n",
        "cifar100_test_augmented = datasets.CIFAR100(root='./data', train=False, download=True, transform=transform2)\n",
        "\n",
        "# Combine original and augmented datasets\n",
        "cifar100_train_combined = torch.utils.data.ConcatDataset([cifar100_original, cifar100_train_augmented])\n",
        "cifar100_test_combined = torch.utils.data.ConcatDataset([cifar100_test_augmented])\n",
        "\n",
        "# Create PyTorch data loaders\n",
        "batch_size = 256\n",
        "train_loader = torch.utils.data.DataLoader(cifar100_train_combined, batch_size=batch_size, shuffle=True)\n",
        "val_loader = torch.utils.data.DataLoader(cifar100_test_combined, batch_size=batch_size, shuffle=False)\n",
        "\n",
        "# Check the number of samples in each set\n",
        "print(f\"Combined Train set size: {len(cifar100_train_combined)}\")\n",
        "print(f\"Combined Test set size: {len(cifar100_test_combined)}\")\n"
      ],
      "metadata": {
        "colab": {
          "base_uri": "https://localhost:8080/"
        },
        "id": "B2VhWC6WkrlS",
        "outputId": "8dd37af5-7d1e-40a8-a5db-2c114cf48a0b"
      },
      "execution_count": 29,
      "outputs": [
        {
          "output_type": "stream",
          "name": "stdout",
          "text": [
            "Files already downloaded and verified\n",
            "Files already downloaded and verified\n",
            "Files already downloaded and verified\n",
            "Combined Train set size: 100000\n",
            "Combined Test set size: 10000\n"
          ]
        }
      ]
    },
    {
      "cell_type": "code",
      "source": [
        "import cv2\n",
        "import matplotlib.pyplot as plt\n",
        "from albumentations import AdvancedBlur\n",
        "from tensorflow.keras.datasets import cifar100\n",
        "\n",
        "# Load CIFAR-100 dataset\n",
        "(train_images, _), (_, _) = cifar100.load_data()\n",
        "\n",
        "# Choose an index for the image you want to augment\n",
        "image_index = 0\n",
        "original_image = train_images[image_index]\n",
        "\n",
        "# Display the original image\n",
        "plt.figure(figsize=(8, 8))\n",
        "plt.subplot(1, 2, 1)\n",
        "plt.title(\"Original Image\")\n",
        "plt.imshow(original_image)\n",
        "plt.axis('off')\n",
        "\n",
        "# Define the augmentation\n",
        "augmentation = AdvancedBlur(\n",
        "    blur_limit=(3, 7),\n",
        "    sigmaX_limit=(0.2, 1.0),\n",
        "    sigmaY_limit=(0.2, 1.0),\n",
        "    rotate_limit=90,\n",
        "    beta_limit=(0.5, 8.0),\n",
        "    noise_limit=(0.9, 1.1),\n",
        "    always_apply=False,\n",
        "    p=1.0  # Set p=1.0 for always applying the augmentation\n",
        ")\n",
        "\n",
        "# Apply augmentation to the image\n",
        "augmented_image = augmentation(image=original_image)['image']\n",
        "\n",
        "# Display the augmented image\n",
        "plt.subplot(1, 2, 2)\n",
        "plt.title(\"Augmented Image (AdvancedBlur)\")\n",
        "plt.imshow(augmented_image)\n",
        "plt.axis('off')\n",
        "\n",
        "plt.show()\n"
      ],
      "metadata": {
        "colab": {
          "base_uri": "https://localhost:8080/",
          "height": 341
        },
        "id": "E_GL3YOhuXqw",
        "outputId": "d0b842b0-c665-436f-e03e-21589a5a1de2"
      },
      "execution_count": 40,
      "outputs": [
        {
          "output_type": "display_data",
          "data": {
            "text/plain": [
              "<Figure size 800x800 with 2 Axes>"
            ],
            "image/png": "[encoded data removed]"
          },
          "metadata": {}
        }
      ]
    },
    {
      "cell_type": "code",
      "source": [
        "# Load EfficientNetV2-S model\n",
        "model = models.efficientnet_v2_s(weights='IMAGENET1K_V1')\n",
        "\n",
        "# 100 classes\n",
        "model.classifier = nn.Sequential(\n",
        "    nn.Dropout(p=0.2, inplace=True),\n",
        "    nn.Linear(1280, 100)\n",
        ")"
      ],
      "metadata": {
        "id": "kwtvRB0olJ3x"
      },
      "execution_count": null,
      "outputs": []
    },
    {
      "cell_type": "code",
      "source": [
        "classifier = model.classifier\n",
        "print(classifier)"
      ],
      "metadata": {
        "id": "SMZMq4n1lJ5o"
      },
      "execution_count": null,
      "outputs": []
    },
    {
      "cell_type": "code",
      "source": [
        "# Define loss and optimizer\n",
        "criterion = nn.CrossEntropyLoss()\n",
        "optimizer = optim.Adam(model.parameters(), lr=0.001)\n",
        "scheduler = StepLR(optimizer, step_size=4, gamma=0.2)\n",
        "\n",
        "# Training loop\n",
        "num_epochs = 1\n",
        "device = torch.device(\"cuda\" if torch.cuda.is_available() else \"cpu\")\n",
        "model.to(device)\n",
        "\n",
        "train_losses, val_losses = [], []\n",
        "train_acc, val_acc = [], []\n",
        "\n",
        "best_val_acc = 0.0\n",
        "best_model_path = 'efficientnetv2_s_cifar100_best.pth'\n",
        "\n",
        "for epoch in range(num_epochs):\n",
        "    model.train()\n",
        "    running_loss = 0.0\n",
        "    correct_train = 0\n",
        "    total_train = 0\n",
        "\n",
        "    for inputs, labels in tqdm(train_loader, desc=f'Epoch {epoch + 1}/{num_epochs}'):\n",
        "        inputs, labels = inputs.to(device), labels.to(device)\n",
        "        optimizer.zero_grad()\n",
        "        outputs = model(inputs)\n",
        "        loss = criterion(outputs, labels)\n",
        "        loss.backward()\n",
        "        optimizer.step()\n",
        "\n",
        "        running_loss += loss.item()\n",
        "        _, predicted = torch.max(outputs.data, 1)\n",
        "        total_train += labels.size(0)\n",
        "        correct_train += (predicted == labels).sum().item()\n",
        "\n",
        "    train_losses.append(running_loss / len(train_loader))\n",
        "    train_acc.append(100 * correct_train / total_train)\n",
        "\n",
        "    model.eval()\n",
        "    running_loss = 0.0\n",
        "    correct_val = 0\n",
        "    total_val = 0\n",
        "\n",
        "    with torch.no_grad():\n",
        "        for inputs, labels in val_loader:\n",
        "            inputs, labels = inputs.to(device), labels.to(device)\n",
        "            outputs = model(inputs)\n",
        "            loss = criterion(outputs, labels)\n",
        "            running_loss += loss.item()\n",
        "            _, predicted = torch.max(outputs.data, 1)\n",
        "            total_val += labels.size(0)\n",
        "            correct_val += (predicted == labels).sum().item()\n",
        "\n",
        "    val_losses.append(running_loss / len(val_loader))\n",
        "    val_acc.append(100 * correct_val / total_val)\n",
        "\n",
        "\n",
        "    scheduler.step()\n",
        "\n",
        "    # Check if the current model has the best validation accuracy\n",
        "    if val_acc[-1] > best_val_acc:\n",
        "        best_val_acc = val_acc[-1]\n",
        "        torch.save(model.state_dict(), best_model_path)\n",
        "\n",
        "    print(f\"Epoch {epoch + 1}/{num_epochs} | Train Loss: {train_losses[-1]:.4f} | Train Acc: {train_acc[-1]:.2f}% | Val Loss: {val_losses[-1]:.4f} | Val Acc: {val_acc[-1]:.2f}%\")\n",
        "\n",
        "# Load the best model\n",
        "model.load_state_dict(torch.load(best_model_path))\n",
        "\n",
        "# Save model weights\n",
        "torch.save(model.state_dict(), 'efficientnetv2_s_cifar100_augmented_second_method.pth')"
      ],
      "metadata": {
        "id": "5KCjWuZFlJ7o"
      },
      "execution_count": null,
      "outputs": []
    },
    {
      "cell_type": "markdown",
      "source": [
        "## SI cross for AdvancedBlur"
      ],
      "metadata": {
        "id": "NmUtTL4s8mdp"
      }
    },
    {
      "cell_type": "code",
      "source": [
        "import albumentations as A\n",
        "import cv2\n",
        "import torch\n",
        "from torchvision import datasets, transforms\n",
        "from torch.utils.data.sampler import SubsetRandomSampler\n",
        "import numpy as np\n",
        "\n",
        "# Declare an augmentation pipeline\n",
        "image_transform = A.Compose([\n",
        "    A.AdvancedBlur(blur_limit=(3, 7), sigmaX_limit=(0.2, 1.0), sigmaY_limit=(0.2, 1.0), rotate_limit=90, beta_limit=(0.5, 8.0), noise_limit=(0.9, 1.1), always_apply=False, p=0.5),\n",
        "])\n",
        "\n",
        "# Define data transformations including the Albumentations transform\n",
        "transform1 = transforms.Compose([\n",
        "    # transforms.ToPILImage(),\n",
        "    transforms.Lambda(lambda img: image_transform(image=np.array(img))[\"image\"]),\n",
        "    transforms.ToTensor(),\n",
        "    # transforms.Normalize((0.5, 0.5, 0.5), (0.5, 0.5, 0.5))\n",
        "])\n",
        "\n",
        "transform2 = transforms.Compose([\n",
        "    # transforms.ToPILImage(),\n",
        "    transforms.ToTensor(),\n",
        "    # transforms.Normalize((0.5, 0.5, 0.5), (0.5, 0.5, 0.5))\n",
        "])\n",
        "\n",
        "# Load CIFAR-100 dataset without Albumentations transform\n",
        "cifar100_original = datasets.CIFAR100(root='./data', train=True, download=True, transform=transforms.ToTensor())\n",
        "cifar100_train_augmented = datasets.CIFAR100(root='./data', train=True, download=True, transform=transform1)\n",
        "cifar100_test_augmented = datasets.CIFAR100(root='./data', train=False, download=True, transform=transform2)\n",
        "\n",
        "# Combine original and augmented datasets\n",
        "cifar100_train_combined = torch.utils.data.ConcatDataset([cifar100_original, cifar100_train_augmented])\n",
        "cifar100_test_combined = torch.utils.data.ConcatDataset([cifar100_test_augmented])\n",
        "\n",
        "# Define the size of the balanced subset for both train and test sets\n",
        "subset_fraction_train = 0.2\n",
        "subset_fraction_test = 0.2\n",
        "\n",
        "# Calculate the number of samples needed for the balanced subset for both train and test sets\n",
        "subset_size_train = int(subset_fraction_train * len(cifar100_train_combined))\n",
        "subset_size_test = int(subset_fraction_test * len(cifar100_test_combined))\n",
        "\n",
        "# Create a balanced subset for both train and test sets using SubsetRandomSampler\n",
        "class_indices_train = list(range(len(cifar100_train_augmented.classes)))\n",
        "class_indices_test = list(range(len(cifar100_test_augmented.classes)))\n",
        "\n",
        "class_subset_size_train = int(subset_size_train / len(cifar100_train_augmented.classes))\n",
        "class_subset_size_test = int(subset_size_test / len(cifar100_test_augmented.classes))\n",
        "\n",
        "class_sampler_indices_train = []\n",
        "class_sampler_indices_test = []\n",
        "\n",
        "for class_index in class_indices_train:\n",
        "    class_indices_list_train = [i for i, label in enumerate(cifar100_train_augmented.targets) if label == class_index]\n",
        "    class_sampler_indices_train.extend(class_indices_list_train[:class_subset_size_train])\n",
        "\n",
        "for class_index in class_indices_test:\n",
        "    class_indices_list_test = [i for i, label in enumerate(cifar100_test_augmented.targets) if label == class_index]\n",
        "    class_sampler_indices_test.extend(class_indices_list_test[:class_subset_size_test])\n",
        "\n",
        "train_sampler = SubsetRandomSampler(class_sampler_indices_train)\n",
        "test_sampler = SubsetRandomSampler(class_sampler_indices_test)\n",
        "\n",
        "# Create PyTorch data loaders using the balanced subset for both train and test sets\n",
        "batch_size = 256\n",
        "train_loader = torch.utils.data.DataLoader(cifar100_train_combined, batch_size=batch_size, sampler=train_sampler)\n",
        "test_loader = torch.utils.data.DataLoader(cifar100_test_combined, batch_size=batch_size, sampler=test_sampler)\n",
        "\n",
        "# Check the number of samples in each set\n",
        "print(f\"Balanced Train set size: {len(train_loader.sampler)}\")\n",
        "print(f\"Balanced Test set size: {len(test_loader.sampler)}\")\n"
      ],
      "metadata": {
        "colab": {
          "base_uri": "https://localhost:8080/"
        },
        "id": "7SD-B02z8po7",
        "outputId": "499c1fad-c192-4ad7-e3f5-8382584c1321"
      },
      "execution_count": 89,
      "outputs": [
        {
          "output_type": "stream",
          "name": "stdout",
          "text": [
            "Files already downloaded and verified\n",
            "Files already downloaded and verified\n",
            "Files already downloaded and verified\n",
            "Balanced Train set size: 20000\n",
            "Balanced Test set size: 2000\n"
          ]
        }
      ]
    },
    {
      "cell_type": "code",
      "source": [
        "# Extract data and labels from loaders\n",
        "cifar100_train_data, cifar100_train_labels = [], []\n",
        "for data, label in train_loader:\n",
        "    cifar100_train_data.append(data)\n",
        "    cifar100_train_labels.append(label)\n",
        "\n",
        "cifar100_test_data, cifar100_test_labels = [], []\n",
        "for data, label in test_loader:\n",
        "    cifar100_test_data.append(data)\n",
        "    cifar100_test_labels.append(label)\n",
        "\n",
        "# Concatenate the lists of tensors\n",
        "cifar100_train_data = torch.cat(cifar100_train_data, dim=0)\n",
        "cifar100_train_labels = torch.cat(cifar100_train_labels, dim=0)\n",
        "cifar100_test_data = torch.cat(cifar100_test_data, dim=0)\n",
        "cifar100_test_labels = torch.cat(cifar100_test_labels, dim=0)\n",
        "\n",
        "# Convert to desired format\n",
        "train_data_tensor = cifar100_train_data\n",
        "train_data_tensor = train_data_tensor.view(train_data_tensor.size(0), -1)\n",
        "\n",
        "train_label_tensor = cifar100_train_labels.unsqueeze(1)\n",
        "\n",
        "test_data_tensor = cifar100_test_data\n",
        "test_data_tensor = test_data_tensor.view(test_data_tensor.size(0), -1)\n",
        "\n",
        "test_label_tensor = cifar100_test_labels.unsqueeze(1)"
      ],
      "metadata": {
        "id": "hyfan5xh8prN"
      },
      "execution_count": 90,
      "outputs": []
    },
    {
      "cell_type": "code",
      "source": [
        "train_si_calculator = Kalhor_SeparationIndex(train_data_tensor, train_label_tensor, normalize=True)\n",
        "test_si_calculator = Kalhor_SeparationIndex(test_data_tensor, test_label_tensor, normalize=True)"
      ],
      "metadata": {
        "colab": {
          "base_uri": "https://localhost:8080/"
        },
        "id": "6zFBVNb58ptg",
        "outputId": "96a5808d-076a-4999-e031-8dd5f639e7c6"
      },
      "execution_count": 91,
      "outputs": [
        {
          "output_type": "stream",
          "name": "stdout",
          "text": [
            "data becomes normalized\n",
            "data becomes normalized\n"
          ]
        }
      ]
    },
    {
      "cell_type": "code",
      "source": [
        "# Calculate cross_si_data for the test dataset\n",
        "cross_si_data = train_si_calculator.cross_si_data(test_data_tensor, test_label_tensor)\n",
        "num_ones = torch.sum(cross_si_data == True).item()\n",
        "total_elements = cross_si_data.numel()\n",
        "ratio_ones = num_ones / total_elements\n",
        "\n",
        "print(\"Cross SI:\", ratio_ones)"
      ],
      "metadata": {
        "colab": {
          "base_uri": "https://localhost:8080/"
        },
        "id": "-u8e3tcf8pvh",
        "outputId": "0e6845c5-51fb-494d-b899-935e9420acc6"
      },
      "execution_count": 92,
      "outputs": [
        {
          "output_type": "stream",
          "name": "stdout",
          "text": [
            "Cross SI: 0.144\n"
          ]
        }
      ]
    },
    {
      "cell_type": "markdown",
      "source": [
        "# GaussNoise"
      ],
      "metadata": {
        "id": "hj1GEgQ7lbP9"
      }
    },
    {
      "cell_type": "code",
      "source": [
        "import albumentations as A\n",
        "import cv2\n",
        "import torch\n",
        "from torchvision import datasets, transforms\n",
        "import numpy as np\n",
        "\n",
        "# Declare an augmentation pipeline\n",
        "image_transform = A.Compose([\n",
        "    A.GaussNoise (var_limit=(10.0, 50.0), mean=0, per_channel=True, always_apply=False, p=0.5)\n",
        "])\n",
        "\n",
        "# Define data transformations including the Albumentations transform\n",
        "transform1 = transforms.Compose([\n",
        "    # transforms.ToPILImage(),\n",
        "    transforms.Lambda(lambda img: image_transform(image=np.array(img))[\"image\"]),\n",
        "    transforms.ToTensor(),\n",
        "    transforms.Normalize((0.5, 0.5, 0.5), (0.5, 0.5, 0.5))\n",
        "])\n",
        "\n",
        "transform2 = transforms.Compose([\n",
        "    # transforms.ToPILImage(),\n",
        "    transforms.ToTensor(),\n",
        "    transforms.Normalize((0.5, 0.5, 0.5), (0.5, 0.5, 0.5))\n",
        "])\n",
        "\n",
        "# Load CIFAR-100 dataset without Albumentations transform\n",
        "cifar100_original = datasets.CIFAR100(root='./data', train=True, download=True, transform=transforms.ToTensor())\n",
        "cifar100_train_augmented = datasets.CIFAR100(root='./data', train=True, download=True, transform=transform1)\n",
        "cifar100_test_augmented = datasets.CIFAR100(root='./data', train=False, download=True, transform=transform2)\n",
        "\n",
        "# Combine original and augmented datasets\n",
        "cifar100_train_combined = torch.utils.data.ConcatDataset([cifar100_original, cifar100_train_augmented])\n",
        "cifar100_test_combined = torch.utils.data.ConcatDataset([cifar100_test_augmented])\n",
        "\n",
        "# Create PyTorch data loaders\n",
        "batch_size = 256\n",
        "train_loader = torch.utils.data.DataLoader(cifar100_train_combined, batch_size=batch_size, shuffle=True)\n",
        "val_loader = torch.utils.data.DataLoader(cifar100_test_combined, batch_size=batch_size, shuffle=False)\n",
        "\n",
        "# Check the number of samples in each set\n",
        "print(f\"Combined Train set size: {len(cifar100_train_combined)}\")\n",
        "print(f\"Combined Test set size: {len(cifar100_test_combined)}\")\n"
      ],
      "metadata": {
        "colab": {
          "base_uri": "https://localhost:8080/"
        },
        "id": "9wMuLZ6bldL4",
        "outputId": "e3a78adb-5e6b-439b-c4bb-b97bde5b8d64"
      },
      "execution_count": 30,
      "outputs": [
        {
          "output_type": "stream",
          "name": "stdout",
          "text": [
            "Files already downloaded and verified\n",
            "Files already downloaded and verified\n",
            "Files already downloaded and verified\n",
            "Combined Train set size: 100000\n",
            "Combined Test set size: 10000\n"
          ]
        }
      ]
    },
    {
      "cell_type": "code",
      "source": [
        "import cv2\n",
        "import matplotlib.pyplot as plt\n",
        "from albumentations import GaussNoise\n",
        "from tensorflow.keras.datasets import cifar100\n",
        "\n",
        "# Load CIFAR-100 dataset\n",
        "(train_images, _), (_, _) = cifar100.load_data()\n",
        "\n",
        "# Choose an index for the image you want to augment\n",
        "image_index = 0\n",
        "original_image = train_images[image_index]\n",
        "\n",
        "# Display the original image\n",
        "plt.figure(figsize=(8, 8))\n",
        "plt.subplot(1, 2, 1)\n",
        "plt.title(\"Original Image\")\n",
        "plt.imshow(original_image)\n",
        "plt.axis('off')\n",
        "\n",
        "# Define the augmentation\n",
        "augmentation = GaussNoise(\n",
        "    var_limit=(10.0, 50.0),\n",
        "    mean=0,\n",
        "    per_channel=True,\n",
        "    always_apply=False,\n",
        "    p=1.0  # Set p=1.0 for always applying the augmentation\n",
        ")\n",
        "\n",
        "# Apply augmentation to the image\n",
        "augmented_image = augmentation(image=original_image)['image']\n",
        "\n",
        "# Display the augmented image\n",
        "plt.subplot(1, 2, 2)\n",
        "plt.title(\"Augmented Image (GaussNoise)\")\n",
        "plt.imshow(augmented_image)\n",
        "plt.axis('off')\n",
        "\n",
        "plt.show()\n"
      ],
      "metadata": {
        "colab": {
          "base_uri": "https://localhost:8080/",
          "height": 341
        },
        "id": "wS-e-Nivu3Tz",
        "outputId": "f9e5a217-f081-4d77-e28c-274b32aa079d"
      },
      "execution_count": 43,
      "outputs": [
        {
          "output_type": "display_data",
          "data": {
            "text/plain": [
              "<Figure size 800x800 with 2 Axes>"
            ],
            "image/png": "[encoded data removed]"
          },
          "metadata": {}
        }
      ]
    },
    {
      "cell_type": "code",
      "source": [
        "# Load EfficientNetV2-S model\n",
        "model = models.efficientnet_v2_s(weights='IMAGENET1K_V1')\n",
        "\n",
        "# 100 classes\n",
        "model.classifier = nn.Sequential(\n",
        "    nn.Dropout(p=0.2, inplace=True),\n",
        "    nn.Linear(1280, 100)\n",
        ")"
      ],
      "metadata": {
        "id": "mn-n3dGZmOb8"
      },
      "execution_count": null,
      "outputs": []
    },
    {
      "cell_type": "code",
      "source": [
        "classifier = model.classifier\n",
        "print(classifier)"
      ],
      "metadata": {
        "id": "pNW9uT-omOeu"
      },
      "execution_count": null,
      "outputs": []
    },
    {
      "cell_type": "code",
      "source": [
        "# Define loss and optimizer\n",
        "criterion = nn.CrossEntropyLoss()\n",
        "optimizer = optim.Adam(model.parameters(), lr=0.001)\n",
        "scheduler = StepLR(optimizer, step_size=4, gamma=0.2)\n",
        "\n",
        "# Training loop\n",
        "num_epochs = 1\n",
        "device = torch.device(\"cuda\" if torch.cuda.is_available() else \"cpu\")\n",
        "model.to(device)\n",
        "\n",
        "train_losses, val_losses = [], []\n",
        "train_acc, val_acc = [], []\n",
        "\n",
        "best_val_acc = 0.0\n",
        "best_model_path = 'efficientnetv2_s_cifar100_best.pth'\n",
        "\n",
        "for epoch in range(num_epochs):\n",
        "    model.train()\n",
        "    running_loss = 0.0\n",
        "    correct_train = 0\n",
        "    total_train = 0\n",
        "\n",
        "    for inputs, labels in tqdm(train_loader, desc=f'Epoch {epoch + 1}/{num_epochs}'):\n",
        "        inputs, labels = inputs.to(device), labels.to(device)\n",
        "        optimizer.zero_grad()\n",
        "        outputs = model(inputs)\n",
        "        loss = criterion(outputs, labels)\n",
        "        loss.backward()\n",
        "        optimizer.step()\n",
        "\n",
        "        running_loss += loss.item()\n",
        "        _, predicted = torch.max(outputs.data, 1)\n",
        "        total_train += labels.size(0)\n",
        "        correct_train += (predicted == labels).sum().item()\n",
        "\n",
        "    train_losses.append(running_loss / len(train_loader))\n",
        "    train_acc.append(100 * correct_train / total_train)\n",
        "\n",
        "    model.eval()\n",
        "    running_loss = 0.0\n",
        "    correct_val = 0\n",
        "    total_val = 0\n",
        "\n",
        "    with torch.no_grad():\n",
        "        for inputs, labels in val_loader:\n",
        "            inputs, labels = inputs.to(device), labels.to(device)\n",
        "            outputs = model(inputs)\n",
        "            loss = criterion(outputs, labels)\n",
        "            running_loss += loss.item()\n",
        "            _, predicted = torch.max(outputs.data, 1)\n",
        "            total_val += labels.size(0)\n",
        "            correct_val += (predicted == labels).sum().item()\n",
        "\n",
        "    val_losses.append(running_loss / len(val_loader))\n",
        "    val_acc.append(100 * correct_val / total_val)\n",
        "\n",
        "\n",
        "    scheduler.step()\n",
        "\n",
        "    # Check if the current model has the best validation accuracy\n",
        "    if val_acc[-1] > best_val_acc:\n",
        "        best_val_acc = val_acc[-1]\n",
        "        torch.save(model.state_dict(), best_model_path)\n",
        "\n",
        "    print(f\"Epoch {epoch + 1}/{num_epochs} | Train Loss: {train_losses[-1]:.4f} | Train Acc: {train_acc[-1]:.2f}% | Val Loss: {val_losses[-1]:.4f} | Val Acc: {val_acc[-1]:.2f}%\")\n",
        "\n",
        "# Load the best model\n",
        "model.load_state_dict(torch.load(best_model_path))\n",
        "\n",
        "# Save model weights\n",
        "torch.save(model.state_dict(), 'efficientnetv2_s_cifar100_augmented_third_method.pth')"
      ],
      "metadata": {
        "id": "A44r-eI0mOg4"
      },
      "execution_count": null,
      "outputs": []
    },
    {
      "cell_type": "markdown",
      "source": [
        "## SI cross for GaussNoise"
      ],
      "metadata": {
        "id": "wBcfAsyc9JPQ"
      }
    },
    {
      "cell_type": "code",
      "source": [
        "import albumentations as A\n",
        "import cv2\n",
        "import torch\n",
        "from torchvision import datasets, transforms\n",
        "from torch.utils.data.sampler import SubsetRandomSampler\n",
        "import numpy as np\n",
        "\n",
        "# Declare an augmentation pipeline\n",
        "image_transform = A.Compose([\n",
        "    A.GaussNoise (var_limit=(10.0, 50.0), mean=0, per_channel=True, always_apply=False, p=0.5)\n",
        "])\n",
        "\n",
        "# Define data transformations including the Albumentations transform\n",
        "transform1 = transforms.Compose([\n",
        "    # transforms.ToPILImage(),\n",
        "    transforms.Lambda(lambda img: image_transform(image=np.array(img))[\"image\"]),\n",
        "    transforms.ToTensor(),\n",
        "    # transforms.Normalize((0.5, 0.5, 0.5), (0.5, 0.5, 0.5))\n",
        "])\n",
        "\n",
        "transform2 = transforms.Compose([\n",
        "    # transforms.ToPILImage(),\n",
        "    transforms.ToTensor(),\n",
        "    # transforms.Normalize((0.5, 0.5, 0.5), (0.5, 0.5, 0.5))\n",
        "])\n",
        "\n",
        "# Load CIFAR-100 dataset without Albumentations transform\n",
        "cifar100_original = datasets.CIFAR100(root='./data', train=True, download=True, transform=transforms.ToTensor())\n",
        "cifar100_train_augmented = datasets.CIFAR100(root='./data', train=True, download=True, transform=transform1)\n",
        "cifar100_test_augmented = datasets.CIFAR100(root='./data', train=False, download=True, transform=transform2)\n",
        "\n",
        "# Combine original and augmented datasets\n",
        "cifar100_train_combined = torch.utils.data.ConcatDataset([cifar100_original, cifar100_train_augmented])\n",
        "cifar100_test_combined = torch.utils.data.ConcatDataset([cifar100_test_augmented])\n",
        "\n",
        "# Define the size of the balanced subset for both train and test sets\n",
        "subset_fraction_train = 0.2\n",
        "subset_fraction_test = 0.2\n",
        "\n",
        "# Calculate the number of samples needed for the balanced subset for both train and test sets\n",
        "subset_size_train = int(subset_fraction_train * len(cifar100_train_combined))\n",
        "subset_size_test = int(subset_fraction_test * len(cifar100_test_combined))\n",
        "\n",
        "# Create a balanced subset for both train and test sets using SubsetRandomSampler\n",
        "class_indices_train = list(range(len(cifar100_train_augmented.classes)))\n",
        "class_indices_test = list(range(len(cifar100_test_augmented.classes)))\n",
        "\n",
        "class_subset_size_train = int(subset_size_train / len(cifar100_train_augmented.classes))\n",
        "class_subset_size_test = int(subset_size_test / len(cifar100_test_augmented.classes))\n",
        "\n",
        "class_sampler_indices_train = []\n",
        "class_sampler_indices_test = []\n",
        "\n",
        "for class_index in class_indices_train:\n",
        "    class_indices_list_train = [i for i, label in enumerate(cifar100_train_augmented.targets) if label == class_index]\n",
        "    class_sampler_indices_train.extend(class_indices_list_train[:class_subset_size_train])\n",
        "\n",
        "for class_index in class_indices_test:\n",
        "    class_indices_list_test = [i for i, label in enumerate(cifar100_test_augmented.targets) if label == class_index]\n",
        "    class_sampler_indices_test.extend(class_indices_list_test[:class_subset_size_test])\n",
        "\n",
        "train_sampler = SubsetRandomSampler(class_sampler_indices_train)\n",
        "test_sampler = SubsetRandomSampler(class_sampler_indices_test)\n",
        "\n",
        "# Create PyTorch data loaders using the balanced subset for both train and test sets\n",
        "batch_size = 256\n",
        "train_loader = torch.utils.data.DataLoader(cifar100_train_combined, batch_size=batch_size, sampler=train_sampler)\n",
        "test_loader = torch.utils.data.DataLoader(cifar100_test_combined, batch_size=batch_size, sampler=test_sampler)\n",
        "\n",
        "# Check the number of samples in each set\n",
        "print(f\"Balanced Train set size: {len(train_loader.sampler)}\")\n",
        "print(f\"Balanced Test set size: {len(test_loader.sampler)}\")\n"
      ],
      "metadata": {
        "colab": {
          "base_uri": "https://localhost:8080/"
        },
        "id": "fMqVI6SR9MnA",
        "outputId": "eac08003-fc00-4ce5-e31e-e0bb11bbf8ce"
      },
      "execution_count": 20,
      "outputs": [
        {
          "output_type": "stream",
          "name": "stdout",
          "text": [
            "Files already downloaded and verified\n",
            "Files already downloaded and verified\n",
            "Files already downloaded and verified\n",
            "Balanced Train set size: 20000\n",
            "Balanced Test set size: 2000\n"
          ]
        }
      ]
    },
    {
      "cell_type": "code",
      "source": [
        "# Extract data and labels from loaders\n",
        "cifar100_train_data, cifar100_train_labels = [], []\n",
        "for data, label in train_loader:\n",
        "    cifar100_train_data.append(data)\n",
        "    cifar100_train_labels.append(label)\n",
        "\n",
        "cifar100_test_data, cifar100_test_labels = [], []\n",
        "for data, label in test_loader:\n",
        "    cifar100_test_data.append(data)\n",
        "    cifar100_test_labels.append(label)\n",
        "\n",
        "# Concatenate the lists of tensors\n",
        "cifar100_train_data = torch.cat(cifar100_train_data, dim=0)\n",
        "cifar100_train_labels = torch.cat(cifar100_train_labels, dim=0)\n",
        "cifar100_test_data = torch.cat(cifar100_test_data, dim=0)\n",
        "cifar100_test_labels = torch.cat(cifar100_test_labels, dim=0)\n",
        "\n",
        "# Convert to desired format\n",
        "train_data_tensor = cifar100_train_data\n",
        "train_data_tensor = train_data_tensor.view(train_data_tensor.size(0), -1)\n",
        "\n",
        "train_label_tensor = cifar100_train_labels.unsqueeze(1)\n",
        "\n",
        "test_data_tensor = cifar100_test_data\n",
        "test_data_tensor = test_data_tensor.view(test_data_tensor.size(0), -1)\n",
        "\n",
        "test_label_tensor = cifar100_test_labels.unsqueeze(1)"
      ],
      "metadata": {
        "id": "xLI7tzat9MpI"
      },
      "execution_count": 21,
      "outputs": []
    },
    {
      "cell_type": "code",
      "source": [
        "train_si_calculator = Kalhor_SeparationIndex(train_data_tensor, train_label_tensor, normalize=True)\n",
        "test_si_calculator = Kalhor_SeparationIndex(test_data_tensor, test_label_tensor, normalize=True)"
      ],
      "metadata": {
        "colab": {
          "base_uri": "https://localhost:8080/"
        },
        "id": "N6I-oxJn9NBd",
        "outputId": "3c8d504e-c98f-43d4-93a2-377fbd757e62"
      },
      "execution_count": 22,
      "outputs": [
        {
          "output_type": "stream",
          "name": "stdout",
          "text": [
            "data becomes normalized\n",
            "data becomes normalized\n"
          ]
        }
      ]
    },
    {
      "cell_type": "code",
      "source": [
        "# Calculate cross_si_data for the test dataset\n",
        "cross_si_data = train_si_calculator.cross_si_data(test_data_tensor, test_label_tensor)\n",
        "num_ones = torch.sum(cross_si_data == True).item()\n",
        "total_elements = cross_si_data.numel()\n",
        "ratio_ones = num_ones / total_elements\n",
        "\n",
        "print(\"Cross SI:\", ratio_ones)"
      ],
      "metadata": {
        "colab": {
          "base_uri": "https://localhost:8080/"
        },
        "id": "19cc99HX9hOB",
        "outputId": "ecefbf5b-01d0-478e-95f9-b00499972300"
      },
      "execution_count": 23,
      "outputs": [
        {
          "output_type": "stream",
          "name": "stdout",
          "text": [
            "Cross SI: 0.144\n"
          ]
        }
      ]
    },
    {
      "cell_type": "markdown",
      "source": [
        "# RandomRain"
      ],
      "metadata": {
        "id": "ILxH-CCjncpx"
      }
    },
    {
      "cell_type": "code",
      "source": [
        "import albumentations as A\n",
        "import cv2\n",
        "import torch\n",
        "from torchvision import datasets, transforms\n",
        "import numpy as np\n",
        "\n",
        "# Declare an augmentation pipeline\n",
        "image_transform = A.Compose([\n",
        "    A.RandomRain(slant_lower=-10, slant_upper=10, drop_length=20, drop_width=1, drop_color=(200, 200, 200), blur_value=7, brightness_coefficient=0.7, rain_type=None, always_apply=False, p=0.5)\n",
        "])\n",
        "\n",
        "# Define data transformations including the Albumentations transform\n",
        "transform1 = transforms.Compose([\n",
        "    # transforms.ToPILImage(),\n",
        "    transforms.Lambda(lambda img: image_transform(image=np.array(img))[\"image\"]),\n",
        "    transforms.ToTensor(),\n",
        "    transforms.Normalize((0.5, 0.5, 0.5), (0.5, 0.5, 0.5))\n",
        "])\n",
        "\n",
        "transform2 = transforms.Compose([\n",
        "    # transforms.ToPILImage(),\n",
        "    transforms.ToTensor(),\n",
        "    transforms.Normalize((0.5, 0.5, 0.5), (0.5, 0.5, 0.5))\n",
        "])\n",
        "\n",
        "# Load CIFAR-100 dataset without Albumentations transform\n",
        "cifar100_original = datasets.CIFAR100(root='./data', train=True, download=True, transform=transforms.ToTensor())\n",
        "cifar100_train_augmented = datasets.CIFAR100(root='./data', train=True, download=True, transform=transform1)\n",
        "cifar100_test_augmented = datasets.CIFAR100(root='./data', train=False, download=True, transform=transform2)\n",
        "\n",
        "# Combine original and augmented datasets\n",
        "cifar100_train_combined = torch.utils.data.ConcatDataset([cifar100_original, cifar100_train_augmented])\n",
        "cifar100_test_combined = torch.utils.data.ConcatDataset([cifar100_test_augmented])\n",
        "\n",
        "# Create PyTorch data loaders\n",
        "batch_size = 256\n",
        "train_loader = torch.utils.data.DataLoader(cifar100_train_combined, batch_size=batch_size, shuffle=True)\n",
        "val_loader = torch.utils.data.DataLoader(cifar100_test_combined, batch_size=batch_size, shuffle=False)\n",
        "\n",
        "# Check the number of samples in each set\n",
        "print(f\"Combined Train set size: {len(cifar100_train_combined)}\")\n",
        "print(f\"Combined Test set size: {len(cifar100_test_combined)}\")\n"
      ],
      "metadata": {
        "colab": {
          "base_uri": "https://localhost:8080/"
        },
        "id": "XCSiNc0fmOim",
        "outputId": "c28efe55-b0a1-4acb-81d3-606d39e144c4"
      },
      "execution_count": 31,
      "outputs": [
        {
          "output_type": "stream",
          "name": "stdout",
          "text": [
            "Files already downloaded and verified\n",
            "Files already downloaded and verified\n",
            "Files already downloaded and verified\n",
            "Combined Train set size: 100000\n",
            "Combined Test set size: 10000\n"
          ]
        }
      ]
    },
    {
      "cell_type": "code",
      "source": [
        "import cv2\n",
        "import matplotlib.pyplot as plt\n",
        "from albumentations import RandomRain\n",
        "from tensorflow.keras.datasets import cifar100\n",
        "\n",
        "# Load CIFAR-100 dataset\n",
        "(train_images, _), (_, _) = cifar100.load_data()\n",
        "\n",
        "# Choose an index for the image you want to augment\n",
        "image_index = 0\n",
        "original_image = train_images[image_index]\n",
        "\n",
        "# Display the original image\n",
        "plt.figure(figsize=(8, 8))\n",
        "plt.subplot(1, 2, 1)\n",
        "plt.title(\"Original Image\")\n",
        "plt.imshow(original_image)\n",
        "plt.axis('off')\n",
        "\n",
        "# Define the augmentation\n",
        "augmentation = RandomRain(\n",
        "    slant_lower=-10,\n",
        "    slant_upper=10,\n",
        "    drop_length=20,\n",
        "    drop_width=1,\n",
        "    drop_color=(200, 200, 200),\n",
        "    blur_value=7,\n",
        "    brightness_coefficient=0.7,\n",
        "    rain_type=None,\n",
        "    always_apply=False,\n",
        "    p=1.0  # Set p=1.0 for always applying the augmentation\n",
        ")\n",
        "\n",
        "# Apply augmentation to the image\n",
        "augmented_image = augmentation(image=original_image)['image']\n",
        "\n",
        "# Display the augmented image\n",
        "plt.subplot(1, 2, 2)\n",
        "plt.title(\"Augmented Image (RandomRain)\")\n",
        "plt.imshow(augmented_image)\n",
        "plt.axis('off')\n",
        "\n",
        "plt.show()\n"
      ],
      "metadata": {
        "colab": {
          "base_uri": "https://localhost:8080/",
          "height": 341
        },
        "id": "gMtg3K7_vDQZ",
        "outputId": "9775b319-63f2-41f3-ea83-d8751d949e1d"
      },
      "execution_count": 44,
      "outputs": [
        {
          "output_type": "display_data",
          "data": {
            "text/plain": [
              "<Figure size 800x800 with 2 Axes>"
            ],
            "image/png": "[encoded data removed]"
          },
          "metadata": {}
        }
      ]
    },
    {
      "cell_type": "code",
      "source": [
        "# Load EfficientNetV2-S model\n",
        "model = models.efficientnet_v2_s(weights='IMAGENET1K_V1')\n",
        "\n",
        "# 100 classes\n",
        "model.classifier = nn.Sequential(\n",
        "    nn.Dropout(p=0.2, inplace=True),\n",
        "    nn.Linear(1280, 100)\n",
        ")"
      ],
      "metadata": {
        "id": "HYTHpuCknuO0"
      },
      "execution_count": null,
      "outputs": []
    },
    {
      "cell_type": "code",
      "source": [
        "classifier = model.classifier\n",
        "print(classifier)"
      ],
      "metadata": {
        "id": "-9LHzVJunuQ_"
      },
      "execution_count": null,
      "outputs": []
    },
    {
      "cell_type": "code",
      "source": [
        "# Define loss and optimizer\n",
        "criterion = nn.CrossEntropyLoss()\n",
        "optimizer = optim.Adam(model.parameters(), lr=0.001)\n",
        "scheduler = StepLR(optimizer, step_size=4, gamma=0.2)\n",
        "\n",
        "# Training loop\n",
        "num_epochs = 1\n",
        "device = torch.device(\"cuda\" if torch.cuda.is_available() else \"cpu\")\n",
        "model.to(device)\n",
        "\n",
        "train_losses, val_losses = [], []\n",
        "train_acc, val_acc = [], []\n",
        "\n",
        "best_val_acc = 0.0\n",
        "best_model_path = 'efficientnetv2_s_cifar100_best.pth'\n",
        "\n",
        "for epoch in range(num_epochs):\n",
        "    model.train()\n",
        "    running_loss = 0.0\n",
        "    correct_train = 0\n",
        "    total_train = 0\n",
        "\n",
        "    for inputs, labels in tqdm(train_loader, desc=f'Epoch {epoch + 1}/{num_epochs}'):\n",
        "        inputs, labels = inputs.to(device), labels.to(device)\n",
        "        optimizer.zero_grad()\n",
        "        outputs = model(inputs)\n",
        "        loss = criterion(outputs, labels)\n",
        "        loss.backward()\n",
        "        optimizer.step()\n",
        "\n",
        "        running_loss += loss.item()\n",
        "        _, predicted = torch.max(outputs.data, 1)\n",
        "        total_train += labels.size(0)\n",
        "        correct_train += (predicted == labels).sum().item()\n",
        "\n",
        "    train_losses.append(running_loss / len(train_loader))\n",
        "    train_acc.append(100 * correct_train / total_train)\n",
        "\n",
        "    model.eval()\n",
        "    running_loss = 0.0\n",
        "    correct_val = 0\n",
        "    total_val = 0\n",
        "\n",
        "    with torch.no_grad():\n",
        "        for inputs, labels in val_loader:\n",
        "            inputs, labels = inputs.to(device), labels.to(device)\n",
        "            outputs = model(inputs)\n",
        "            loss = criterion(outputs, labels)\n",
        "            running_loss += loss.item()\n",
        "            _, predicted = torch.max(outputs.data, 1)\n",
        "            total_val += labels.size(0)\n",
        "            correct_val += (predicted == labels).sum().item()\n",
        "\n",
        "    val_losses.append(running_loss / len(val_loader))\n",
        "    val_acc.append(100 * correct_val / total_val)\n",
        "\n",
        "\n",
        "    scheduler.step()\n",
        "\n",
        "    # Check if the current model has the best validation accuracy\n",
        "    if val_acc[-1] > best_val_acc:\n",
        "        best_val_acc = val_acc[-1]\n",
        "        torch.save(model.state_dict(), best_model_path)\n",
        "\n",
        "    print(f\"Epoch {epoch + 1}/{num_epochs} | Train Loss: {train_losses[-1]:.4f} | Train Acc: {train_acc[-1]:.2f}% | Val Loss: {val_losses[-1]:.4f} | Val Acc: {val_acc[-1]:.2f}%\")\n",
        "\n",
        "# Load the best model\n",
        "model.load_state_dict(torch.load(best_model_path))\n",
        "\n",
        "# Save model weights\n",
        "torch.save(model.state_dict(), 'efficientnetv2_s_cifar100_augmented_fourth_method.pth')"
      ],
      "metadata": {
        "id": "WSD9T0-unuSy"
      },
      "execution_count": null,
      "outputs": []
    },
    {
      "cell_type": "markdown",
      "source": [
        "## SI cross for RandomRain"
      ],
      "metadata": {
        "id": "DOBxSLK-9lkB"
      }
    },
    {
      "cell_type": "code",
      "source": [
        "import albumentations as A\n",
        "import cv2\n",
        "import torch\n",
        "from torchvision import datasets, transforms\n",
        "from torch.utils.data.sampler import SubsetRandomSampler\n",
        "import numpy as np\n",
        "\n",
        "# Declare an augmentation pipeline\n",
        "image_transform = A.Compose([\n",
        "    A.RandomRain(slant_lower=-10, slant_upper=10, drop_length=20, drop_width=1, drop_color=(200, 200, 200), blur_value=7, brightness_coefficient=0.7, rain_type=None, always_apply=False, p=0.5)\n",
        "])\n",
        "\n",
        "# Define data transformations including the Albumentations transform\n",
        "transform1 = transforms.Compose([\n",
        "    # transforms.ToPILImage(),\n",
        "    transforms.Lambda(lambda img: image_transform(image=np.array(img))[\"image\"]),\n",
        "    transforms.ToTensor(),\n",
        "    # transforms.Normalize((0.5, 0.5, 0.5), (0.5, 0.5, 0.5))\n",
        "])\n",
        "\n",
        "transform2 = transforms.Compose([\n",
        "    # transforms.ToPILImage(),\n",
        "    transforms.ToTensor(),\n",
        "    # transforms.Normalize((0.5, 0.5, 0.5), (0.5, 0.5, 0.5))\n",
        "])\n",
        "\n",
        "# Load CIFAR-100 dataset without Albumentations transform\n",
        "cifar100_original = datasets.CIFAR100(root='./data', train=True, download=True, transform=transforms.ToTensor())\n",
        "cifar100_train_augmented = datasets.CIFAR100(root='./data', train=True, download=True, transform=transform1)\n",
        "cifar100_test_augmented = datasets.CIFAR100(root='./data', train=False, download=True, transform=transform2)\n",
        "\n",
        "# Combine original and augmented datasets\n",
        "cifar100_train_combined = torch.utils.data.ConcatDataset([cifar100_original, cifar100_train_augmented])\n",
        "cifar100_test_combined = torch.utils.data.ConcatDataset([cifar100_test_augmented])\n",
        "\n",
        "# Define the size of the balanced subset for both train and test sets\n",
        "subset_fraction_train = 0.2\n",
        "subset_fraction_test = 0.2\n",
        "\n",
        "# Calculate the number of samples needed for the balanced subset for both train and test sets\n",
        "subset_size_train = int(subset_fraction_train * len(cifar100_train_combined))\n",
        "subset_size_test = int(subset_fraction_test * len(cifar100_test_combined))\n",
        "\n",
        "# Create a balanced subset for both train and test sets using SubsetRandomSampler\n",
        "class_indices_train = list(range(len(cifar100_train_augmented.classes)))\n",
        "class_indices_test = list(range(len(cifar100_test_augmented.classes)))\n",
        "\n",
        "class_subset_size_train = int(subset_size_train / len(cifar100_train_augmented.classes))\n",
        "class_subset_size_test = int(subset_size_test / len(cifar100_test_augmented.classes))\n",
        "\n",
        "class_sampler_indices_train = []\n",
        "class_sampler_indices_test = []\n",
        "\n",
        "for class_index in class_indices_train:\n",
        "    class_indices_list_train = [i for i, label in enumerate(cifar100_train_augmented.targets) if label == class_index]\n",
        "    class_sampler_indices_train.extend(class_indices_list_train[:class_subset_size_train])\n",
        "\n",
        "for class_index in class_indices_test:\n",
        "    class_indices_list_test = [i for i, label in enumerate(cifar100_test_augmented.targets) if label == class_index]\n",
        "    class_sampler_indices_test.extend(class_indices_list_test[:class_subset_size_test])\n",
        "\n",
        "train_sampler = SubsetRandomSampler(class_sampler_indices_train)\n",
        "test_sampler = SubsetRandomSampler(class_sampler_indices_test)\n",
        "\n",
        "# Create PyTorch data loaders using the balanced subset for both train and test sets\n",
        "batch_size = 256\n",
        "train_loader = torch.utils.data.DataLoader(cifar100_train_combined, batch_size=batch_size, sampler=train_sampler)\n",
        "test_loader = torch.utils.data.DataLoader(cifar100_test_combined, batch_size=batch_size, sampler=test_sampler)\n",
        "\n",
        "# Check the number of samples in each set\n",
        "print(f\"Balanced Train set size: {len(train_loader.sampler)}\")\n",
        "print(f\"Balanced Test set size: {len(test_loader.sampler)}\")\n"
      ],
      "metadata": {
        "colab": {
          "base_uri": "https://localhost:8080/"
        },
        "id": "EgmSmqI-9n-l",
        "outputId": "44e7e50e-e93b-46a5-e6d2-a3436e8071a8"
      },
      "execution_count": 16,
      "outputs": [
        {
          "output_type": "stream",
          "name": "stdout",
          "text": [
            "Files already downloaded and verified\n",
            "Files already downloaded and verified\n",
            "Files already downloaded and verified\n",
            "Balanced Train set size: 20000\n",
            "Balanced Test set size: 2000\n"
          ]
        }
      ]
    },
    {
      "cell_type": "code",
      "source": [
        "# Extract data and labels from loaders\n",
        "cifar100_train_data, cifar100_train_labels = [], []\n",
        "for data, label in train_loader:\n",
        "    cifar100_train_data.append(data)\n",
        "    cifar100_train_labels.append(label)\n",
        "\n",
        "cifar100_test_data, cifar100_test_labels = [], []\n",
        "for data, label in test_loader:\n",
        "    cifar100_test_data.append(data)\n",
        "    cifar100_test_labels.append(label)\n",
        "\n",
        "# Concatenate the lists of tensors\n",
        "cifar100_train_data = torch.cat(cifar100_train_data, dim=0)\n",
        "cifar100_train_labels = torch.cat(cifar100_train_labels, dim=0)\n",
        "cifar100_test_data = torch.cat(cifar100_test_data, dim=0)\n",
        "cifar100_test_labels = torch.cat(cifar100_test_labels, dim=0)\n",
        "\n",
        "# Convert to desired format\n",
        "train_data_tensor = cifar100_train_data\n",
        "train_data_tensor = train_data_tensor.view(train_data_tensor.size(0), -1)\n",
        "\n",
        "train_label_tensor = cifar100_train_labels.unsqueeze(1)\n",
        "\n",
        "test_data_tensor = cifar100_test_data\n",
        "test_data_tensor = test_data_tensor.view(test_data_tensor.size(0), -1)\n",
        "\n",
        "test_label_tensor = cifar100_test_labels.unsqueeze(1)"
      ],
      "metadata": {
        "id": "5MSvXd5p9oAw"
      },
      "execution_count": 17,
      "outputs": []
    },
    {
      "cell_type": "code",
      "source": [
        "train_si_calculator = Kalhor_SeparationIndex(train_data_tensor, train_label_tensor, normalize=True)\n",
        "test_si_calculator = Kalhor_SeparationIndex(test_data_tensor, test_label_tensor, normalize=True)"
      ],
      "metadata": {
        "colab": {
          "base_uri": "https://localhost:8080/"
        },
        "id": "3TvRZPpQ9oYI",
        "outputId": "13f8be17-a717-4ef3-f7c9-58a6555b0168"
      },
      "execution_count": 18,
      "outputs": [
        {
          "output_type": "stream",
          "name": "stdout",
          "text": [
            "data becomes normalized\n",
            "data becomes normalized\n"
          ]
        }
      ]
    },
    {
      "cell_type": "code",
      "source": [
        "# Calculate cross_si_data for the test dataset\n",
        "cross_si_data = train_si_calculator.cross_si_data(test_data_tensor, test_label_tensor)\n",
        "num_ones = torch.sum(cross_si_data == True).item()\n",
        "total_elements = cross_si_data.numel()\n",
        "ratio_ones = num_ones / total_elements\n",
        "\n",
        "print(\"Cross SI:\", ratio_ones)"
      ],
      "metadata": {
        "colab": {
          "base_uri": "https://localhost:8080/"
        },
        "id": "wTPO2VUn95Pw",
        "outputId": "66a41392-9a99-40cc-9a62-75b35cad7085"
      },
      "execution_count": 19,
      "outputs": [
        {
          "output_type": "stream",
          "name": "stdout",
          "text": [
            "Cross SI: 0.144\n"
          ]
        }
      ]
    },
    {
      "cell_type": "markdown",
      "source": [
        "# ToGray"
      ],
      "metadata": {
        "id": "I6MiaNqNnxkS"
      }
    },
    {
      "cell_type": "code",
      "source": [
        "import albumentations as A\n",
        "import cv2\n",
        "import torch\n",
        "from torchvision import datasets, transforms\n",
        "import numpy as np\n",
        "\n",
        "# Declare an augmentation pipeline\n",
        "image_transform = A.Compose([\n",
        "     A.ToGray()\n",
        "     ])\n",
        "\n",
        "# Define data transformations including the Albumentations transform\n",
        "transform1 = transforms.Compose([\n",
        "    # transforms.ToPILImage(),\n",
        "    transforms.Lambda(lambda img: image_transform(image=np.array(img))[\"image\"]),\n",
        "    transforms.ToTensor(),\n",
        "    transforms.Normalize((0.5, 0.5, 0.5), (0.5, 0.5, 0.5))\n",
        "])\n",
        "\n",
        "transform2 = transforms.Compose([\n",
        "    # transforms.ToPILImage(),\n",
        "    transforms.ToTensor(),\n",
        "    transforms.Normalize((0.5, 0.5, 0.5), (0.5, 0.5, 0.5))\n",
        "])\n",
        "\n",
        "# Load CIFAR-100 dataset without Albumentations transform\n",
        "cifar100_original = datasets.CIFAR100(root='./data', train=True, download=True, transform=transforms.ToTensor())\n",
        "cifar100_train_augmented = datasets.CIFAR100(root='./data', train=True, download=True, transform=transform1)\n",
        "cifar100_test_augmented = datasets.CIFAR100(root='./data', train=False, download=True, transform=transform2)\n",
        "\n",
        "# Combine original and augmented datasets\n",
        "cifar100_train_combined = torch.utils.data.ConcatDataset([cifar100_original, cifar100_train_augmented])\n",
        "cifar100_test_combined = torch.utils.data.ConcatDataset([cifar100_test_augmented])\n",
        "\n",
        "# Create PyTorch data loaders\n",
        "batch_size = 256\n",
        "train_loader = torch.utils.data.DataLoader(cifar100_train_combined, batch_size=batch_size, shuffle=True)\n",
        "val_loader = torch.utils.data.DataLoader(cifar100_test_combined, batch_size=batch_size, shuffle=False)\n",
        "\n",
        "# Check the number of samples in each set\n",
        "print(f\"Combined Train set size: {len(cifar100_train_combined)}\")\n",
        "print(f\"Combined Test set size: {len(cifar100_test_combined)}\")\n"
      ],
      "metadata": {
        "colab": {
          "base_uri": "https://localhost:8080/"
        },
        "id": "cvFRdVXCoHNo",
        "outputId": "63eca3cc-47bb-4951-9483-e9312d789fa8"
      },
      "execution_count": 32,
      "outputs": [
        {
          "output_type": "stream",
          "name": "stdout",
          "text": [
            "Files already downloaded and verified\n",
            "Files already downloaded and verified\n",
            "Files already downloaded and verified\n",
            "Combined Train set size: 100000\n",
            "Combined Test set size: 10000\n"
          ]
        }
      ]
    },
    {
      "cell_type": "code",
      "source": [
        "import cv2\n",
        "import matplotlib.pyplot as plt\n",
        "from albumentations import ToGray\n",
        "from tensorflow.keras.datasets import cifar100\n",
        "\n",
        "# Load CIFAR-100 dataset\n",
        "(train_images, _), (_, _) = cifar100.load_data()\n",
        "\n",
        "# Choose an index for the image you want to augment\n",
        "image_index = 0\n",
        "original_image = train_images[image_index]\n",
        "\n",
        "# Display the original image\n",
        "plt.figure(figsize=(8, 8))\n",
        "plt.subplot(1, 2, 1)\n",
        "plt.title(\"Original Image\")\n",
        "plt.imshow(original_image)\n",
        "plt.axis('off')\n",
        "\n",
        "# Define the augmentation\n",
        "augmentation = ToGray(always_apply=False, p=1.0)  # Set p=1.0 for always applying the augmentation\n",
        "\n",
        "# Apply augmentation to the image\n",
        "augmented_image = augmentation(image=original_image)['image']\n",
        "\n",
        "# Display the augmented image\n",
        "plt.subplot(1, 2, 2)\n",
        "plt.title(\"Augmented Image (ToGray)\")\n",
        "plt.imshow(augmented_image, cmap='gray')\n",
        "plt.axis('off')\n",
        "\n",
        "plt.show()\n"
      ],
      "metadata": {
        "colab": {
          "base_uri": "https://localhost:8080/",
          "height": 341
        },
        "id": "wey9jfJ-vI3q",
        "outputId": "c45823a5-41f5-477c-9ead-fe95e07d1722"
      },
      "execution_count": 45,
      "outputs": [
        {
          "output_type": "display_data",
          "data": {
            "text/plain": [
              "<Figure size 800x800 with 2 Axes>"
            ],
            "image/png": "[encoded data removed]"
          },
          "metadata": {}
        }
      ]
    },
    {
      "cell_type": "code",
      "source": [
        "# Load EfficientNetV2-S model\n",
        "model = models.efficientnet_v2_s(weights='IMAGENET1K_V1')\n",
        "\n",
        "# 100 classes\n",
        "model.classifier = nn.Sequential(\n",
        "    nn.Dropout(p=0.2, inplace=True),\n",
        "    nn.Linear(1280, 100)\n",
        ")"
      ],
      "metadata": {
        "id": "Qd6MoBETonzh"
      },
      "execution_count": null,
      "outputs": []
    },
    {
      "cell_type": "code",
      "source": [
        "classifier = model.classifier\n",
        "print(classifier)"
      ],
      "metadata": {
        "id": "EKsphiJXon1s"
      },
      "execution_count": null,
      "outputs": []
    },
    {
      "cell_type": "code",
      "source": [
        "# Define loss and optimizer\n",
        "criterion = nn.CrossEntropyLoss()\n",
        "optimizer = optim.Adam(model.parameters(), lr=0.001)\n",
        "scheduler = StepLR(optimizer, step_size=4, gamma=0.2)\n",
        "\n",
        "# Training loop\n",
        "num_epochs = 1\n",
        "device = torch.device(\"cuda\" if torch.cuda.is_available() else \"cpu\")\n",
        "model.to(device)\n",
        "\n",
        "train_losses, val_losses = [], []\n",
        "train_acc, val_acc = [], []\n",
        "\n",
        "best_val_acc = 0.0\n",
        "best_model_path = 'efficientnetv2_s_cifar100_best.pth'\n",
        "\n",
        "for epoch in range(num_epochs):\n",
        "    model.train()\n",
        "    running_loss = 0.0\n",
        "    correct_train = 0\n",
        "    total_train = 0\n",
        "\n",
        "    for inputs, labels in tqdm(train_loader, desc=f'Epoch {epoch + 1}/{num_epochs}'):\n",
        "        inputs, labels = inputs.to(device), labels.to(device)\n",
        "        optimizer.zero_grad()\n",
        "        outputs = model(inputs)\n",
        "        loss = criterion(outputs, labels)\n",
        "        loss.backward()\n",
        "        optimizer.step()\n",
        "\n",
        "        running_loss += loss.item()\n",
        "        _, predicted = torch.max(outputs.data, 1)\n",
        "        total_train += labels.size(0)\n",
        "        correct_train += (predicted == labels).sum().item()\n",
        "\n",
        "    train_losses.append(running_loss / len(train_loader))\n",
        "    train_acc.append(100 * correct_train / total_train)\n",
        "\n",
        "    model.eval()\n",
        "    running_loss = 0.0\n",
        "    correct_val = 0\n",
        "    total_val = 0\n",
        "\n",
        "    with torch.no_grad():\n",
        "        for inputs, labels in val_loader:\n",
        "            inputs, labels = inputs.to(device), labels.to(device)\n",
        "            outputs = model(inputs)\n",
        "            loss = criterion(outputs, labels)\n",
        "            running_loss += loss.item()\n",
        "            _, predicted = torch.max(outputs.data, 1)\n",
        "            total_val += labels.size(0)\n",
        "            correct_val += (predicted == labels).sum().item()\n",
        "\n",
        "    val_losses.append(running_loss / len(val_loader))\n",
        "    val_acc.append(100 * correct_val / total_val)\n",
        "\n",
        "\n",
        "    scheduler.step()\n",
        "\n",
        "    # Check if the current model has the best validation accuracy\n",
        "    if val_acc[-1] > best_val_acc:\n",
        "        best_val_acc = val_acc[-1]\n",
        "        torch.save(model.state_dict(), best_model_path)\n",
        "\n",
        "    print(f\"Epoch {epoch + 1}/{num_epochs} | Train Loss: {train_losses[-1]:.4f} | Train Acc: {train_acc[-1]:.2f}% | Val Loss: {val_losses[-1]:.4f} | Val Acc: {val_acc[-1]:.2f}%\")\n",
        "\n",
        "# Load the best model\n",
        "model.load_state_dict(torch.load(best_model_path))\n",
        "\n",
        "# Save model weights\n",
        "torch.save(model.state_dict(), 'efficientnetv2_s_cifar100_augmented_fifth_method.pth')"
      ],
      "metadata": {
        "id": "c6pw0lNuoqih"
      },
      "execution_count": null,
      "outputs": []
    },
    {
      "cell_type": "markdown",
      "source": [
        "## SI cross for ToGray"
      ],
      "metadata": {
        "id": "KZnDZieB977K"
      }
    },
    {
      "cell_type": "code",
      "source": [
        "import albumentations as A\n",
        "import cv2\n",
        "import torch\n",
        "from torchvision import datasets, transforms\n",
        "from torch.utils.data.sampler import SubsetRandomSampler\n",
        "import numpy as np\n",
        "\n",
        "# Declare an augmentation pipeline\n",
        "image_transform = A.Compose([\n",
        "     A.ToGray()\n",
        "])\n",
        "\n",
        "# Define data transformations including the Albumentations transform\n",
        "transform1 = transforms.Compose([\n",
        "    # transforms.ToPILImage(),\n",
        "    transforms.Lambda(lambda img: image_transform(image=np.array(img))[\"image\"]),\n",
        "    transforms.ToTensor(),\n",
        "    # transforms.Normalize((0.5, 0.5, 0.5), (0.5, 0.5, 0.5))\n",
        "])\n",
        "\n",
        "transform2 = transforms.Compose([\n",
        "    # transforms.ToPILImage(),\n",
        "    transforms.ToTensor(),\n",
        "    # transforms.Normalize((0.5, 0.5, 0.5), (0.5, 0.5, 0.5))\n",
        "])\n",
        "\n",
        "# Load CIFAR-100 dataset without Albumentations transform\n",
        "cifar100_original = datasets.CIFAR100(root='./data', train=True, download=True, transform=transforms.ToTensor())\n",
        "cifar100_train_augmented = datasets.CIFAR100(root='./data', train=True, download=True, transform=transform1)\n",
        "cifar100_test_augmented = datasets.CIFAR100(root='./data', train=False, download=True, transform=transform2)\n",
        "\n",
        "# Combine original and augmented datasets\n",
        "cifar100_train_combined = torch.utils.data.ConcatDataset([cifar100_original, cifar100_train_augmented])\n",
        "cifar100_test_combined = torch.utils.data.ConcatDataset([cifar100_test_augmented])\n",
        "\n",
        "# Define the size of the balanced subset for both train and test sets\n",
        "subset_fraction_train = 0.2\n",
        "subset_fraction_test = 0.2\n",
        "\n",
        "# Calculate the number of samples needed for the balanced subset for both train and test sets\n",
        "subset_size_train = int(subset_fraction_train * len(cifar100_train_combined))\n",
        "subset_size_test = int(subset_fraction_test * len(cifar100_test_combined))\n",
        "\n",
        "# Create a balanced subset for both train and test sets using SubsetRandomSampler\n",
        "class_indices_train = list(range(len(cifar100_train_augmented.classes)))\n",
        "class_indices_test = list(range(len(cifar100_test_augmented.classes)))\n",
        "\n",
        "class_subset_size_train = int(subset_size_train / len(cifar100_train_augmented.classes))\n",
        "class_subset_size_test = int(subset_size_test / len(cifar100_test_augmented.classes))\n",
        "\n",
        "class_sampler_indices_train = []\n",
        "class_sampler_indices_test = []\n",
        "\n",
        "for class_index in class_indices_train:\n",
        "    class_indices_list_train = [i for i, label in enumerate(cifar100_train_augmented.targets) if label == class_index]\n",
        "    class_sampler_indices_train.extend(class_indices_list_train[:class_subset_size_train])\n",
        "\n",
        "for class_index in class_indices_test:\n",
        "    class_indices_list_test = [i for i, label in enumerate(cifar100_test_augmented.targets) if label == class_index]\n",
        "    class_sampler_indices_test.extend(class_indices_list_test[:class_subset_size_test])\n",
        "\n",
        "train_sampler = SubsetRandomSampler(class_sampler_indices_train)\n",
        "test_sampler = SubsetRandomSampler(class_sampler_indices_test)\n",
        "\n",
        "# Create PyTorch data loaders using the balanced subset for both train and test sets\n",
        "batch_size = 256\n",
        "train_loader = torch.utils.data.DataLoader(cifar100_train_combined, batch_size=batch_size, sampler=train_sampler)\n",
        "test_loader = torch.utils.data.DataLoader(cifar100_test_combined, batch_size=batch_size, sampler=test_sampler)\n",
        "\n",
        "# Check the number of samples in each set\n",
        "print(f\"Balanced Train set size: {len(train_loader.sampler)}\")\n",
        "print(f\"Balanced Test set size: {len(test_loader.sampler)}\")\n"
      ],
      "metadata": {
        "colab": {
          "base_uri": "https://localhost:8080/"
        },
        "id": "MhTOsHpe-Bkr",
        "outputId": "6d37dfde-c9cc-4aca-8ac1-17c39d332ea0"
      },
      "execution_count": 12,
      "outputs": [
        {
          "output_type": "stream",
          "name": "stdout",
          "text": [
            "Files already downloaded and verified\n",
            "Files already downloaded and verified\n",
            "Files already downloaded and verified\n",
            "Balanced Train set size: 20000\n",
            "Balanced Test set size: 2000\n"
          ]
        }
      ]
    },
    {
      "cell_type": "code",
      "source": [
        "# Extract data and labels from loaders\n",
        "cifar100_train_data, cifar100_train_labels = [], []\n",
        "for data, label in train_loader:\n",
        "    cifar100_train_data.append(data)\n",
        "    cifar100_train_labels.append(label)\n",
        "\n",
        "cifar100_test_data, cifar100_test_labels = [], []\n",
        "for data, label in test_loader:\n",
        "    cifar100_test_data.append(data)\n",
        "    cifar100_test_labels.append(label)\n",
        "\n",
        "# Concatenate the lists of tensors\n",
        "cifar100_train_data = torch.cat(cifar100_train_data, dim=0)\n",
        "cifar100_train_labels = torch.cat(cifar100_train_labels, dim=0)\n",
        "cifar100_test_data = torch.cat(cifar100_test_data, dim=0)\n",
        "cifar100_test_labels = torch.cat(cifar100_test_labels, dim=0)\n",
        "\n",
        "# Convert to desired format\n",
        "train_data_tensor = cifar100_train_data\n",
        "train_data_tensor = train_data_tensor.view(train_data_tensor.size(0), -1)\n",
        "\n",
        "train_label_tensor = cifar100_train_labels.unsqueeze(1)\n",
        "\n",
        "test_data_tensor = cifar100_test_data\n",
        "test_data_tensor = test_data_tensor.view(test_data_tensor.size(0), -1)\n",
        "\n",
        "test_label_tensor = cifar100_test_labels.unsqueeze(1)"
      ],
      "metadata": {
        "id": "ekLRJ-x7-Bmy"
      },
      "execution_count": 13,
      "outputs": []
    },
    {
      "cell_type": "code",
      "source": [
        "train_si_calculator = Kalhor_SeparationIndex(train_data_tensor, train_label_tensor, normalize=True)\n",
        "test_si_calculator = Kalhor_SeparationIndex(test_data_tensor, test_label_tensor, normalize=True)"
      ],
      "metadata": {
        "colab": {
          "base_uri": "https://localhost:8080/"
        },
        "id": "F_N7EM3Q-BBz",
        "outputId": "f668b479-9234-4308-bf34-5ce8344d1deb"
      },
      "execution_count": 14,
      "outputs": [
        {
          "output_type": "stream",
          "name": "stdout",
          "text": [
            "data becomes normalized\n",
            "data becomes normalized\n"
          ]
        }
      ]
    },
    {
      "cell_type": "code",
      "source": [
        "# Calculate cross_si_data for the test dataset\n",
        "cross_si_data = train_si_calculator.cross_si_data(test_data_tensor, test_label_tensor)\n",
        "num_ones = torch.sum(cross_si_data == True).item()\n",
        "total_elements = cross_si_data.numel()\n",
        "ratio_ones = num_ones / total_elements\n",
        "\n",
        "print(\"Cross SI:\", ratio_ones)"
      ],
      "metadata": {
        "colab": {
          "base_uri": "https://localhost:8080/"
        },
        "id": "HjpQBCSb-Mek",
        "outputId": "68ac330e-45b1-4d5f-d1c1-babb53837047"
      },
      "execution_count": 15,
      "outputs": [
        {
          "output_type": "stream",
          "name": "stdout",
          "text": [
            "Cross SI: 0.144\n"
          ]
        }
      ]
    }
  ]
}