{
 "cells": [
  {
   "cell_type": "markdown",
   "metadata": {
    "id": "2YHSOgkymwLh"
   },
   "source": [
    "# import Libraries"
   ]
  },
  {
   "cell_type": "code",
   "execution_count": 1,
   "metadata": {
    "id": "z50_htHYwwBz"
   },
   "outputs": [],
   "source": [
    "import torch\n",
    "import torchvision.transforms as transforms\n",
    "import torchvision.datasets as datasets\n",
    "import torchvision.models as models\n",
    "import torch.nn as nn\n",
    "import torch.optim as optim\n",
    "from torch.optim.lr_scheduler import StepLR\n",
    "import matplotlib.pyplot as plt\n",
    "from tqdm import tqdm\n",
    "import random"
   ]
  },
  {
   "cell_type": "markdown",
   "metadata": {
    "id": "PkhWBx68m17N"
   },
   "source": [
    "# Part1 : Train EfficientnetV2_s over CIFAR100"
   ]
  },
  {
   "cell_type": "markdown",
   "metadata": {
    "id": "UzLVsXJhm-lP"
   },
   "source": [
    "**Load CIFAR100 Dataset**"
   ]
  },
  {
   "cell_type": "code",
   "execution_count": null,
   "metadata": {
    "colab": {
     "base_uri": "https://localhost:8080/"
    },
    "id": "FeAeAxHkwx_a",
    "outputId": "13f9daa9-abc6-4df4-92e0-91612f25ff73"
   },
   "outputs": [
    {
     "name": "stdout",
     "output_type": "stream",
     "text": [
      "Downloading https://www.cs.toronto.edu/~kriz/cifar-100-python.tar.gz to ./data/cifar-100-python.tar.gz\n"
     ]
    },
    {
     "name": "stderr",
     "output_type": "stream",
     "text": [
      "100%|██████████| 169001437/169001437 [00:05<00:00, 30333270.82it/s]\n"
     ]
    },
    {
     "name": "stdout",
     "output_type": "stream",
     "text": [
      "Extracting ./data/cifar-100-python.tar.gz to ./data\n",
      "Files already downloaded and verified\n",
      "Train set size: 50000\n",
      "Test set size: 10000\n"
     ]
    }
   ],
   "source": [
    "# Define data transformations\n",
    "transform = transforms.Compose([transforms.ToTensor(), transforms.Normalize((0.5, 0.5, 0.5), (0.5, 0.5, 0.5))])\n",
    "\n",
    "# Load CIFAR-100 dataset\n",
    "cifar100_train = datasets.CIFAR100(root='./data', train=True, download=True, transform=transform)\n",
    "cifar100_test = datasets.CIFAR100(root='./data', train=False, download=True, transform=transform)\n",
    "\n",
    "\n",
    "# Create PyTorch data loaders \n",
    "batch_size = 256\n",
    "train_loader = torch.utils.data.DataLoader(cifar100_train, batch_size=batch_size, shuffle=True)\n",
    "val_loader = torch.utils.data.DataLoader(cifar100_test, batch_size=batch_size, shuffle=False)\n",
    "\n",
    "# Check the number of samples in each set\n",
    "print(f\"Train set size: {len(cifar100_train)}\")\n",
    "print(f\"Test set size: {len(cifar100_test)}\")\n"
   ]
  },
  {
   "cell_type": "markdown",
   "metadata": {
    "id": "8OVZjPCynmcm"
   },
   "source": [
    "**Load EfficientNetV2-S model**"
   ]
  },
  {
   "cell_type": "code",
   "execution_count": null,
   "metadata": {
    "colab": {
     "base_uri": "https://localhost:8080/"
    },
    "id": "l99LGsUbw0t6",
    "outputId": "165af7bf-9074-42ca-bf42-e586e140f8eb"
   },
   "outputs": [
    {
     "name": "stderr",
     "output_type": "stream",
     "text": [
      "Downloading: \"https://download.pytorch.org/models/efficientnet_v2_s-dd5fe13b.pth\" to /root/.cache/torch/hub/checkpoints/efficientnet_v2_s-dd5fe13b.pth\n",
      "100%|██████████| 82.7M/82.7M [00:01<00:00, 84.3MB/s]\n"
     ]
    }
   ],
   "source": [
    "# Load EfficientNetV2-S model\n",
    "model = models.efficientnet_v2_s(weights='IMAGENET1K_V1')\n",
    "\n",
    "# 100 classes\n",
    "model.classifier = nn.Sequential(\n",
    "    nn.Dropout(p=0.2, inplace=True),\n",
    "    nn.Linear(1280, 100)\n",
    ")"
   ]
  },
  {
   "cell_type": "code",
   "execution_count": null,
   "metadata": {
    "colab": {
     "base_uri": "https://localhost:8080/"
    },
    "id": "6KddUvv7w7y5",
    "outputId": "adab03c2-a743-493a-fcb8-ae5295185993"
   },
   "outputs": [
    {
     "name": "stdout",
     "output_type": "stream",
     "text": [
      "Sequential(\n",
      "  (0): Dropout(p=0.2, inplace=True)\n",
      "  (1): Linear(in_features=1280, out_features=100, bias=True)\n",
      ")\n"
     ]
    }
   ],
   "source": [
    "classifier = model.classifier\n",
    "print(classifier)"
   ]
  },
  {
   "cell_type": "markdown",
   "metadata": {
    "id": "J5izlx24nsF7"
   },
   "source": [
    "**Training Loop**"
   ]
  },
  {
   "cell_type": "code",
   "execution_count": null,
   "metadata": {
    "colab": {
     "base_uri": "https://localhost:8080/"
    },
    "id": "Acfn4yy4xKWZ",
    "outputId": "36a300d3-f63c-43f5-ca7a-7e5a0d2f8207"
   },
   "outputs": [
    {
     "name": "stderr",
     "output_type": "stream",
     "text": [
      "Epoch 1/9: 100%|██████████| 196/196 [00:45<00:00,  4.27it/s]\n"
     ]
    },
    {
     "name": "stdout",
     "output_type": "stream",
     "text": [
      "Epoch 1/9 | Train Loss: 2.9420 | Train Acc: 28.28% | Val Loss: 1.9080 | Val Acc: 48.33%\n"
     ]
    },
    {
     "name": "stderr",
     "output_type": "stream",
     "text": [
      "Epoch 2/9: 100%|██████████| 196/196 [00:38<00:00,  5.10it/s]\n"
     ]
    },
    {
     "name": "stdout",
     "output_type": "stream",
     "text": [
      "Epoch 2/9 | Train Loss: 1.5890 | Train Acc: 55.56% | Val Loss: 1.5382 | Val Acc: 57.00%\n"
     ]
    },
    {
     "name": "stderr",
     "output_type": "stream",
     "text": [
      "Epoch 3/9: 100%|██████████| 196/196 [00:46<00:00,  4.21it/s]\n"
     ]
    },
    {
     "name": "stdout",
     "output_type": "stream",
     "text": [
      "Epoch 3/9 | Train Loss: 1.1273 | Train Acc: 67.02% | Val Loss: 1.5193 | Val Acc: 58.12%\n"
     ]
    },
    {
     "name": "stderr",
     "output_type": "stream",
     "text": [
      "Epoch 4/9: 100%|██████████| 196/196 [00:38<00:00,  5.06it/s]\n"
     ]
    },
    {
     "name": "stdout",
     "output_type": "stream",
     "text": [
      "Epoch 4/9 | Train Loss: 1.0441 | Train Acc: 69.50% | Val Loss: 1.6985 | Val Acc: 56.20%\n"
     ]
    },
    {
     "name": "stderr",
     "output_type": "stream",
     "text": [
      "Epoch 5/9: 100%|██████████| 196/196 [00:39<00:00,  5.02it/s]\n"
     ]
    },
    {
     "name": "stdout",
     "output_type": "stream",
     "text": [
      "Epoch 5/9 | Train Loss: 0.6760 | Train Acc: 79.30% | Val Loss: 1.3892 | Val Acc: 63.80%\n"
     ]
    },
    {
     "name": "stderr",
     "output_type": "stream",
     "text": [
      "Epoch 6/9: 100%|██████████| 196/196 [00:39<00:00,  4.94it/s]\n"
     ]
    },
    {
     "name": "stdout",
     "output_type": "stream",
     "text": [
      "Epoch 6/9 | Train Loss: 0.3970 | Train Acc: 87.74% | Val Loss: 1.4419 | Val Acc: 64.70%\n"
     ]
    },
    {
     "name": "stderr",
     "output_type": "stream",
     "text": [
      "Epoch 7/9: 100%|██████████| 196/196 [00:38<00:00,  5.11it/s]\n"
     ]
    },
    {
     "name": "stdout",
     "output_type": "stream",
     "text": [
      "Epoch 7/9 | Train Loss: 0.2676 | Train Acc: 91.99% | Val Loss: 1.5167 | Val Acc: 64.77%\n"
     ]
    },
    {
     "name": "stderr",
     "output_type": "stream",
     "text": [
      "Epoch 8/9: 100%|██████████| 196/196 [00:38<00:00,  5.05it/s]\n"
     ]
    },
    {
     "name": "stdout",
     "output_type": "stream",
     "text": [
      "Epoch 8/9 | Train Loss: 0.1786 | Train Acc: 94.86% | Val Loss: 1.6125 | Val Acc: 64.24%\n"
     ]
    },
    {
     "name": "stderr",
     "output_type": "stream",
     "text": [
      "Epoch 9/9: 100%|██████████| 196/196 [00:38<00:00,  5.12it/s]\n"
     ]
    },
    {
     "name": "stdout",
     "output_type": "stream",
     "text": [
      "Epoch 9/9 | Train Loss: 0.1090 | Train Acc: 97.24% | Val Loss: 1.6296 | Val Acc: 64.86%\n"
     ]
    }
   ],
   "source": [
    "# Define loss and optimizer\n",
    "criterion = nn.CrossEntropyLoss()\n",
    "optimizer = optim.Adam(model.parameters(), lr=0.001)\n",
    "scheduler = StepLR(optimizer, step_size=4, gamma=0.2)\n",
    "\n",
    "# Training loop\n",
    "num_epochs = 9\n",
    "device = torch.device(\"cuda\" if torch.cuda.is_available() else \"cpu\")\n",
    "model.to(device)\n",
    "\n",
    "train_losses, val_losses = [], []\n",
    "train_acc, val_acc = [], []\n",
    "\n",
    "best_val_acc = 0.0\n",
    "best_model_path = 'efficientnetv2_s_cifar100_best.pth'\n",
    "\n",
    "for epoch in range(num_epochs):\n",
    "    model.train()\n",
    "    running_loss = 0.0\n",
    "    correct_train = 0\n",
    "    total_train = 0\n",
    "\n",
    "    for inputs, labels in tqdm(train_loader, desc=f'Epoch {epoch + 1}/{num_epochs}'):\n",
    "        inputs, labels = inputs.to(device), labels.to(device)\n",
    "        optimizer.zero_grad()\n",
    "        outputs = model(inputs)\n",
    "        loss = criterion(outputs, labels)\n",
    "        loss.backward()\n",
    "        optimizer.step()\n",
    "\n",
    "        running_loss += loss.item()\n",
    "        _, predicted = torch.max(outputs.data, 1)\n",
    "        total_train += labels.size(0)\n",
    "        correct_train += (predicted == labels).sum().item()\n",
    "\n",
    "    train_losses.append(running_loss / len(train_loader))\n",
    "    train_acc.append(100 * correct_train / total_train)\n",
    "\n",
    "    model.eval()\n",
    "    running_loss = 0.0\n",
    "    correct_val = 0\n",
    "    total_val = 0\n",
    "\n",
    "    with torch.no_grad():\n",
    "        for inputs, labels in val_loader:\n",
    "            inputs, labels = inputs.to(device), labels.to(device)\n",
    "            outputs = model(inputs)\n",
    "            loss = criterion(outputs, labels)\n",
    "            running_loss += loss.item()\n",
    "            _, predicted = torch.max(outputs.data, 1)\n",
    "            total_val += labels.size(0)\n",
    "            correct_val += (predicted == labels).sum().item()\n",
    "\n",
    "    val_losses.append(running_loss / len(val_loader))\n",
    "    val_acc.append(100 * correct_val / total_val)\n",
    "\n",
    "\n",
    "    scheduler.step()\n",
    "\n",
    "    # Check if the current model has the best validation accuracy\n",
    "    if val_acc[-1] > best_val_acc:\n",
    "        best_val_acc = val_acc[-1]\n",
    "        torch.save(model.state_dict(), best_model_path)\n",
    "\n",
    "    print(f\"Epoch {epoch + 1}/{num_epochs} | Train Loss: {train_losses[-1]:.4f} | Train Acc: {train_acc[-1]:.2f}% | Val Loss: {val_losses[-1]:.4f} | Val Acc: {val_acc[-1]:.2f}%\")\n",
    "\n",
    "# Load the best model\n",
    "model.load_state_dict(torch.load(best_model_path))\n",
    "\n",
    "# Save model weights\n",
    "torch.save(model.state_dict(), 'efficientnetv2_s_cifar100_finetuned.pth')"
   ]
  },
  {
   "cell_type": "markdown",
   "metadata": {
    "id": "yZFWNYDSoHlb"
   },
   "source": [
    "**Plot Training Result**"
   ]
  },
  {
   "cell_type": "code",
   "execution_count": null,
   "metadata": {
    "colab": {
     "base_uri": "https://localhost:8080/",
     "height": 410
    },
    "id": "f3rzQzO0yLZy",
    "outputId": "6a40030f-6481-43e8-cf53-5ca8eab9dae7"
   },
   "outputs": [
    {
     "data": {
      "image/png": "[encoded data removed]",
      "text/plain": [
       "<Figure size 1200x400 with 2 Axes>"
      ]
     },
     "metadata": {},
     "output_type": "display_data"
    }
   ],
   "source": [
    "# Plot loss and accuracy\n",
    "plt.figure(figsize=(12, 4))\n",
    "plt.subplot(1, 2, 1)\n",
    "plt.plot(train_losses, label='Train Loss')\n",
    "plt.plot(val_losses, label='Validation Loss')\n",
    "plt.legend()\n",
    "plt.xlabel('Epochs')\n",
    "plt.ylabel('Loss')\n",
    "plt.title('Loss vs. Epochs')\n",
    "\n",
    "plt.subplot(1, 2, 2)\n",
    "plt.plot(train_acc, label='Train Accuracy')\n",
    "plt.plot(val_acc, label='Validation Accuracy')\n",
    "plt.legend()\n",
    "plt.xlabel('Epochs')\n",
    "plt.ylabel('Accuracy')\n",
    "plt.title('Accuracy vs. Epochs')\n",
    "\n",
    "plt.show()"
   ]
  },
  {
   "cell_type": "markdown",
   "metadata": {
    "id": "bDdsUSOQoMzN"
   },
   "source": [
    "# Part2 : SI over CIFAR100"
   ]
  },
  {
   "cell_type": "code",
   "execution_count": 2,
   "metadata": {
    "colab": {
     "base_uri": "https://localhost:8080/"
    },
    "id": "yUIJ0toJoTu_",
    "outputId": "4d54a22b-e107-4478-db81-b09be1eeb532"
   },
   "outputs": [
    {
     "name": "stdout",
     "output_type": "stream",
     "text": [
      "Cloning into 'data_complexity_measures'...\n",
      "remote: Enumerating objects: 59, done.\u001b[K\n",
      "remote: Counting objects: 100% (59/59), done.\u001b[K\n",
      "remote: Compressing objects: 100% (48/48), done.\u001b[K\n",
      "remote: Total 59 (delta 26), reused 29 (delta 8), pack-reused 0\u001b[K\n",
      "Receiving objects: 100% (59/59), 120.32 KiB | 560.00 KiB/s, done.\n",
      "Resolving deltas: 100% (26/26), done.\n"
     ]
    }
   ],
   "source": [
    "!git clone https://github.com/Arhosseini77/data_complexity_measures"
   ]
  },
  {
   "cell_type": "markdown",
   "metadata": {
    "id": "DdrumxhzfexY"
   },
   "source": [
    "**Import Libraries**"
   ]
  },
  {
   "cell_type": "code",
   "execution_count": 1,
   "metadata": {
    "id": "87PKQwZ1lNt_"
   },
   "outputs": [],
   "source": [
    "import torch\n",
    "from torchvision import datasets, transforms\n",
    "import random\n",
    "import numpy as np\n",
    "\n",
    "from data_complexity_measures.models.SeprationIndex import Kalhor_SeparationIndex"
   ]
  },
  {
   "cell_type": "markdown",
   "metadata": {
    "id": "FhmPxb-9flak"
   },
   "source": [
    "**Select Ballanced Subset of data**"
   ]
  },
  {
   "cell_type": "code",
   "execution_count": 2,
   "metadata": {
    "id": "TwIV_s2AznPO"
   },
   "outputs": [],
   "source": [
    "seed = 42\n",
    "random.seed(seed)\n",
    "np.random.seed(seed)\n",
    "torch.manual_seed(seed)\n",
    "\n",
    "# Define a function to create a balanced subset of CIFAR-100\n",
    "def create_balanced_subset(data, labels, subset_size):\n",
    "    unique_labels = np.unique(labels)\n",
    "    num_classes = len(unique_labels)\n",
    "    samples_per_class = int(subset_size / num_classes)\n",
    "    selected_indices = []\n",
    "\n",
    "    for label in unique_labels:\n",
    "        label_indices = np.where(labels == label)[0]\n",
    "        random_indices = np.random.choice(label_indices, samples_per_class, replace=False)\n",
    "        selected_indices.extend(random_indices)\n",
    "\n",
    "    selected_data = data[selected_indices]\n",
    "    selected_labels = labels[selected_indices]\n",
    "\n",
    "    return selected_data, selected_labels"
   ]
  },
  {
   "cell_type": "code",
   "execution_count": 6,
   "metadata": {
    "colab": {
     "base_uri": "https://localhost:8080/"
    },
    "id": "NTWjKgF33nhx",
    "outputId": "b54d2ad1-190e-4d3b-f74c-8c69b9d30929"
   },
   "outputs": [
    {
     "name": "stdout",
     "output_type": "stream",
     "text": [
      "Files already downloaded and verified\n"
     ]
    }
   ],
   "source": [
    "# Load the CIFAR-100 dataset and create a balanced subset\n",
    "transform = transforms.Compose([transforms.ToTensor()])\n",
    "cifar100_dataset = datasets.CIFAR100(root='./data', train=True, download=True, transform=transform)\n",
    "\n",
    "# Define the subset size \n",
    "# different for each metric ( for SI:80% , HSI:60% , for anti SI :60% , for Center SI: 3% only\n",
    "subset_size = int(0.03 * len(cifar100_dataset)) \n",
    "\n",
    "cifar100_data, cifar100_labels = create_balanced_subset(cifar100_dataset.data, np.array(cifar100_dataset.targets), subset_size)"
   ]
  },
  {
   "cell_type": "markdown",
   "metadata": {
    "id": "w97Q3Gq0fwxL"
   },
   "source": [
    "**Create an instance of the Kalhor_SeparationIndex class**"
   ]
  },
  {
   "cell_type": "code",
   "execution_count": 4,
   "metadata": {
    "colab": {
     "base_uri": "https://localhost:8080/"
    },
    "id": "Ok39EO0z3zqG",
    "outputId": "b35480db-a613-4306-8cfb-80d1936a4dde"
   },
   "outputs": [
    {
     "name": "stdout",
     "output_type": "stream",
     "text": [
      "data becomes normalized\n"
     ]
    }
   ],
   "source": [
    "# Flatten the data to shape (n_data, n_feature)\n",
    "cifar100_data = cifar100_data.reshape(subset_size, -1)\n",
    "# Convert to PyTorch tensor\n",
    "data_tensor = torch.Tensor(cifar100_data)  \n",
    "label_tensor = torch.Tensor(cifar100_labels) \n",
    "# Make it a 2D tensor\n",
    "label_tensor = label_tensor.unsqueeze(1)  \n",
    "\n",
    "# Create Instance of class\n",
    "si_calculator = Kalhor_SeparationIndex(data_tensor, label_tensor, normalize=True)"
   ]
  },
  {
   "cell_type": "markdown",
   "metadata": {
    "id": "bQQYz75Pf-xr"
   },
   "source": [
    "**Calc SI Data**"
   ]
  },
  {
   "cell_type": "code",
   "execution_count": null,
   "metadata": {
    "colab": {
     "base_uri": "https://localhost:8080/"
    },
    "id": "3jYryZMD4cV1",
    "outputId": "a90c3ddd-23c6-46bf-e95a-1a892ef83adc"
   },
   "outputs": [
    {
     "name": "stdout",
     "output_type": "stream",
     "text": [
      "Ratio of 1s in si_data: 0.161075\n"
     ]
    }
   ],
   "source": [
    "si_data = si_calculator.si_data()\n",
    "\n",
    "num_ones = torch.sum(si_data == 1).item()\n",
    "total_elements = si_data.numel()\n",
    "ratio_ones = num_ones / total_elements\n",
    "\n",
    "print(\"First order SI :\", ratio_ones)\n"
   ]
  },
  {
   "cell_type": "markdown",
   "metadata": {
    "id": "3g9CfO2MgGv5"
   },
   "source": [
    "**Calc High order SI (order = 2)**"
   ]
  },
  {
   "cell_type": "code",
   "execution_count": null,
   "metadata": {
    "colab": {
     "base_uri": "https://localhost:8080/"
    },
    "id": "dBvi31lX7P55",
    "outputId": "baad4269-8ef8-448e-cf8f-7f2f04454be9"
   },
   "outputs": [
    {
     "name": "stdout",
     "output_type": "stream",
     "text": [
      "Ratio of 1s in si__HO2_data: 0.0212\n"
     ]
    }
   ],
   "source": [
    "si_high_order_2_data = si_calculator.high_order_si_data(order=2)\n",
    "num_ones = torch.sum(si_high_order_2_data == 1).item()\n",
    "total_elements = si_high_order_2_data.numel()\n",
    "ratio_ones = num_ones / total_elements\n",
    "\n",
    "print(\"High order(2) SI :\", ratio_ones)"
   ]
  },
  {
   "cell_type": "markdown",
   "metadata": {
    "id": "8J1oyrSegkx3"
   },
   "source": [
    "**Calc Soft Order SI**"
   ]
  },
  {
   "cell_type": "code",
   "execution_count": null,
   "metadata": {
    "colab": {
     "base_uri": "https://localhost:8080/"
    },
    "id": "g8H0tv3EOuy_",
    "outputId": "59cff5f7-9c47-4eb8-bbe6-f5e9ccd17be9"
   },
   "outputs": [
    {
     "name": "stdout",
     "output_type": "stream",
     "text": [
      "Ratio of 1s in si__HO2_data: 0.0212\n"
     ]
    }
   ],
   "source": [
    "si_soft_order_2_data = si_calculator.soft_order_si_data(order=2)\n",
    "\n",
    "num_ones = torch.sum(si_soft_order_2_data == 1).item()\n",
    "total_elements = si_soft_order_2_data.numel()\n",
    "ratio_ones = num_ones / total_elements\n",
    "\n",
    "print(\"Soft Order(2) SI :\", ratio_ones)"
   ]
  },
  {
   "cell_type": "markdown",
   "metadata": {
    "id": "Z822h6ozgwib"
   },
   "source": [
    "**Calc Anti SI**"
   ]
  },
  {
   "cell_type": "code",
   "execution_count": null,
   "metadata": {
    "colab": {
     "base_uri": "https://localhost:8080/"
    },
    "id": "_q8behc-QdhY",
    "outputId": "5f47b6ca-13b2-42fe-df78-eef7ff70e9ed"
   },
   "outputs": [
    {
     "name": "stdout",
     "output_type": "stream",
     "text": [
      "Ratio of 1s in si_data: 0.8664\n"
     ]
    }
   ],
   "source": [
    "anti_si_data = si_calculator.anti_si_data(order=2)\n",
    "\n",
    "num_ones = torch.sum(anti_si_data == 1).item()\n",
    "total_elements = anti_si_data.numel()\n",
    "ratio_ones = num_ones / total_elements\n",
    "\n",
    "print(\"Anti SI:\", ratio_ones)"
   ]
  },
  {
   "cell_type": "markdown",
   "metadata": {
    "id": "uEH4vbQKg3nz"
   },
   "source": [
    "**Calc Center SI**"
   ]
  },
  {
   "cell_type": "code",
   "execution_count": 7,
   "metadata": {
    "id": "lm0uWUkiRv0X"
   },
   "outputs": [
    {
     "name": "stdout",
     "output_type": "stream",
     "text": [
      "Center SI: 0.488\n"
     ]
    }
   ],
   "source": [
    "center_si_data = si_calculator.center_si_data()\n",
    "\n",
    "num_ones = torch.sum(center_si_data == 1).item()\n",
    "total_elements = center_si_data.numel()\n",
    "ratio_ones = num_ones / total_elements\n",
    "\n",
    "print(\"Center SI:\", ratio_ones)"
   ]
  },
  {
   "cell_type": "markdown",
   "metadata": {
    "id": "7eGpb_n40fMb"
   },
   "source": [
    "# Part3 : SI over Latent Efficient net"
   ]
  },
  {
   "cell_type": "code",
   "execution_count": null,
   "metadata": {
    "colab": {
     "base_uri": "https://localhost:8080/"
    },
    "id": "Bk8QywL90nr0",
    "outputId": "680a5e03-80f0-48a1-b4d9-69ec0d9ec053"
   },
   "outputs": [
    {
     "name": "stdout",
     "output_type": "stream",
     "text": [
      "Cloning into 'data_complexity_measures'...\n",
      "remote: Enumerating objects: 59, done.\u001b[K\n",
      "remote: Counting objects: 100% (59/59), done.\u001b[K\n",
      "remote: Compressing objects: 100% (48/48), done.\u001b[K\n",
      "remote: Total 59 (delta 26), reused 29 (delta 8), pack-reused 0\u001b[K\n",
      "Receiving objects: 100% (59/59), 120.32 KiB | 1.67 MiB/s, done.\n",
      "Resolving deltas: 100% (26/26), done.\n"
     ]
    }
   ],
   "source": [
    "!git clone https://github.com/Arhosseini77/data_complexity_measures"
   ]
  },
  {
   "cell_type": "code",
   "execution_count": 8,
   "metadata": {
    "colab": {
     "base_uri": "https://localhost:8080/"
    },
    "id": "NRlSmfXR1k_j",
    "outputId": "4ff565f3-bcf3-4169-a612-9a3f919b27ab"
   },
   "outputs": [
    {
     "name": "stdout",
     "output_type": "stream",
     "text": [
      "Downloading...\n",
      "From (uriginal): https://drive.google.com/uc?id=1yWb1OXm7LslxkRx3zHyen-PBZ12-W2sA\n",
      "From (redirected): https://drive.google.com/uc?id=1yWb1OXm7LslxkRx3zHyen-PBZ12-W2sA&confirm=t&uuid=a6a3a226-126b-4cac-9390-c704feb74985\n",
      "To: /media/arh/HDD/HDD_files/UT/ADDNNL/HW1/Q1/efficientnetv2_s_cifar100_finetuned.pth\n",
      "100%|██████████████████████████████████████| 82.1M/82.1M [00:23<00:00, 3.50MB/s]\n"
     ]
    }
   ],
   "source": [
    "# download Pretrained Model\n",
    "!gdown 1yWb1OXm7LslxkRx3zHyen-PBZ12-W2sA"
   ]
  },
  {
   "cell_type": "markdown",
   "metadata": {
    "id": "RWdoYg-b1fVn"
   },
   "source": [
    "**Import Libraries**"
   ]
  },
  {
   "cell_type": "code",
   "execution_count": 3,
   "metadata": {
    "id": "CBB43rZl1KWo"
   },
   "outputs": [],
   "source": [
    "import torch\n",
    "import torchvision.transforms as transforms\n",
    "import torchvision.datasets as datasets\n",
    "import torchvision.models as models\n",
    "import torch.nn as nn\n",
    "import torch.optim as optim\n",
    "from torch.optim.lr_scheduler import StepLR\n",
    "import matplotlib.pyplot as plt\n",
    "from tqdm import tqdm\n",
    "import random\n",
    "from torch.utils.data import Subset, DataLoader\n",
    "import numpy as np\n",
    "from torch.cuda.amp import autocast, GradScaler\n",
    "\n",
    "from data_complexity_measures.models.SeprationIndex import Kalhor_SeparationIndex"
   ]
  },
  {
   "cell_type": "markdown",
   "metadata": {
    "id": "E2CPoZfL1wB1"
   },
   "source": [
    "**Load Model and Get Feature Latent**"
   ]
  },
  {
   "cell_type": "code",
   "execution_count": 2,
   "metadata": {
    "colab": {
     "base_uri": "https://localhost:8080/"
    },
    "id": "9bUPr1Cp135j",
    "outputId": "447405de-2421-412b-be06-4adf28202630"
   },
   "outputs": [
    {
     "name": "stdout",
     "output_type": "stream",
     "text": [
      "Model Loaded\n"
     ]
    }
   ],
   "source": [
    "# Load EfficientNetV2-S model\n",
    "model = models.efficientnet_v2_s(weights='IMAGENET1K_V1')\n",
    "\n",
    "# 100 classes\n",
    "model.classifier = nn.Sequential(\n",
    "    nn.Dropout(p=0.2, inplace=True),\n",
    "    nn.Linear(1280, 100)\n",
    ")\n",
    "\n",
    "\n",
    "transform = transforms.Compose([\n",
    "    transforms.Resize(300),  \n",
    "    transforms.CenterCrop(260),\n",
    "    transforms.ToTensor(),\n",
    "    transforms.Normalize(mean=[0.485, 0.456, 0.406], std=[0.229, 0.224, 0.225])\n",
    "])\n",
    "\n",
    "# Load your pre-trained model weights\n",
    "model.load_state_dict(torch.load('efficientnetv2_s_cifar100_finetuned.pth'))\n",
    "model.eval()  # Set the model to evaluation mode\n",
    "model.cuda()\n",
    "print(\"Model Loaded\")"
   ]
  },
  {
   "cell_type": "code",
   "execution_count": 3,
   "metadata": {
    "colab": {
     "base_uri": "https://localhost:8080/"
    },
    "id": "m__WUvrr2EcY",
    "outputId": "d4a86093-0071-4f2f-adb5-7510686347bc"
   },
   "outputs": [
    {
     "name": "stdout",
     "output_type": "stream",
     "text": [
      "Files already downloaded and verified\n"
     ]
    }
   ],
   "source": [
    "transform = transforms.Compose([transforms.ToTensor()])\n",
    "\n",
    "# Load the CIFAR-100 dataset\n",
    "cifar100_dataset = datasets.CIFAR100(root='./data', train=True, transform=transform, download=True)\n",
    "\n",
    "# 80% for SI , 0.03 % for center SI and 30% for other Metrics \n",
    "subset_size = int(0.03 * len(cifar100_dataset))\n",
    "\n",
    "# Create a random subset of 20% of the dataset\n",
    "subset_indices = torch.randperm(len(cifar100_dataset))[:subset_size]\n",
    "subset_dataset = Subset(cifar100_dataset, subset_indices)\n",
    "\n",
    "# Define DataLoader for the subset\n",
    "batch_size = 64\n",
    "dataloader = DataLoader(subset_dataset, batch_size=batch_size, shuffle=True)\n"
   ]
  },
  {
   "cell_type": "code",
   "execution_count": 4,
   "metadata": {
    "colab": {
     "base_uri": "https://localhost:8080/"
    },
    "id": "ZevJTZcH2Uzq",
    "outputId": "351143bc-5077-4d11-93eb-8b0de6124874"
   },
   "outputs": [
    {
     "name": "stderr",
     "output_type": "stream",
     "text": [
      "100%|███████████████████████████████████████████| 24/24 [00:01<00:00, 22.28it/s]\n"
     ]
    }
   ],
   "source": [
    "features = []\n",
    "labels = []\n",
    "\n",
    "\n",
    "with torch.no_grad():\n",
    "    for inputs, targets  in tqdm(dataloader):\n",
    "        if torch.cuda.is_available():\n",
    "            inputs = inputs.to('cuda')\n",
    "        # Forward pass through the model.features and model.avgpool\n",
    "        features_batch = model.features(inputs)\n",
    "        features_batch = model.avgpool(features_batch)\n",
    "        features.append(features_batch)\n",
    "        labels.append(targets)\n",
    "\n",
    "        # Release GPU memory\n",
    "        del inputs\n",
    "        torch.cuda.empty_cache()"
   ]
  },
  {
   "cell_type": "code",
   "execution_count": 5,
   "metadata": {
    "id": "GAKOvIEx2gd8"
   },
   "outputs": [],
   "source": [
    "# Stack and reshape the extracted features\n",
    "features = torch.cat(features)\n",
    "features = features.view(features.size(0), -1)\n",
    "labels = torch.cat(labels)"
   ]
  },
  {
   "cell_type": "code",
   "execution_count": 6,
   "metadata": {
    "id": "XNXHITe13cfd"
   },
   "outputs": [],
   "source": [
    "labels = labels.unsqueeze(1)"
   ]
  },
  {
   "cell_type": "markdown",
   "metadata": {
    "id": "MHJJ45bx2pyK"
   },
   "source": [
    "**Instance Class SI**"
   ]
  },
  {
   "cell_type": "code",
   "execution_count": 7,
   "metadata": {
    "colab": {
     "base_uri": "https://localhost:8080/"
    },
    "id": "I6C9XHyS2sq3",
    "outputId": "f1913928-3150-4ef1-d117-e26a43968a30"
   },
   "outputs": [
    {
     "name": "stdout",
     "output_type": "stream",
     "text": [
      "data becomes normalized\n"
     ]
    }
   ],
   "source": [
    "instance_disturbance = Kalhor_SeparationIndex(features, labels, normalize=True)"
   ]
  },
  {
   "cell_type": "code",
   "execution_count": 15,
   "metadata": {
    "colab": {
     "base_uri": "https://localhost:8080/"
    },
    "id": "OPWikHZL21q3",
    "outputId": "4481eb87-8b55-41c1-817a-4d9e3daca9f8"
   },
   "outputs": [
    {
     "name": "stdout",
     "output_type": "stream",
     "text": [
      "First order SI on Latent : 0.6441\n"
     ]
    }
   ],
   "source": [
    "# Calc SI\n",
    "si_data = instance_disturbance.si_data()\n",
    "\n",
    "num_ones = torch.sum(si_data == 1).item()\n",
    "total_elements = si_data.numel()\n",
    "ratio_ones = num_ones / total_elements\n",
    "\n",
    "print(\"First order SI on Latent :\", ratio_ones)"
   ]
  },
  {
   "cell_type": "code",
   "execution_count": 16,
   "metadata": {
    "colab": {
     "base_uri": "https://localhost:8080/"
    },
    "id": "jx8J4MBN3Es3",
    "outputId": "7d2c3c40-5d7e-4019-8847-a2a00681daf9"
   },
   "outputs": [
    {
     "name": "stdout",
     "output_type": "stream",
     "text": [
      "High order(2) SI on latent : 0.5055\n"
     ]
    }
   ],
   "source": [
    "# Calc SI order 2 on Latent :\n",
    "si_high_order_2_data = instance_disturbance.high_order_si_data(order=2)\n",
    "num_ones = torch.sum(si_high_order_2_data == 1).item()\n",
    "total_elements = si_high_order_2_data.numel()\n",
    "ratio_ones = num_ones / total_elements\n",
    "\n",
    "print(\"High order(2) SI on latent :\", ratio_ones)"
   ]
  },
  {
   "cell_type": "code",
   "execution_count": 17,
   "metadata": {
    "colab": {
     "base_uri": "https://localhost:8080/"
    },
    "id": "Z288kOoV3j42",
    "outputId": "64239942-30e2-4a28-c5c6-54e685c2a8d7"
   },
   "outputs": [
    {
     "name": "stdout",
     "output_type": "stream",
     "text": [
      "Soft Order(2) SI on Latent : 0.5055\n"
     ]
    }
   ],
   "source": [
    "# Calc Soft Order SI on Latent :\n",
    "si_soft_order_2_data = instance_disturbance.soft_order_si_data(order=2)\n",
    "\n",
    "num_ones = torch.sum(si_soft_order_2_data == 1).item()\n",
    "total_elements = si_soft_order_2_data.numel()\n",
    "ratio_ones = num_ones / total_elements\n",
    "\n",
    "print(\"Soft Order(2) SI on Latent :\", ratio_ones)"
   ]
  },
  {
   "cell_type": "code",
   "execution_count": 18,
   "metadata": {
    "colab": {
     "base_uri": "https://localhost:8080/"
    },
    "id": "CHz2Y_4B3ucE",
    "outputId": "ca333113-dd72-4c94-8824-c461cc99c59a"
   },
   "outputs": [
    {
     "name": "stdout",
     "output_type": "stream",
     "text": [
      "Anti SI on Latent : 0.2528\n"
     ]
    }
   ],
   "source": [
    "# Calc Anti SI on latent :\n",
    "anti_si_data = instance_disturbance.anti_si_data(order=2)\n",
    "\n",
    "num_ones = torch.sum(anti_si_data == 1).item()\n",
    "total_elements = anti_si_data.numel()\n",
    "ratio_ones = num_ones / total_elements\n",
    "\n",
    "print(\"Anti SI on Latent :\", ratio_ones)"
   ]
  },
  {
   "cell_type": "code",
   "execution_count": 8,
   "metadata": {
    "colab": {
     "base_uri": "https://localhost:8080/",
     "height": 418
    },
    "id": "-PCI7Jbk37Zf",
    "outputId": "e379381a-e7bf-40f5-a06c-0bfff6471ed5"
   },
   "outputs": [
    {
     "name": "stdout",
     "output_type": "stream",
     "text": [
      "Center SI on latent: 0.85\n"
     ]
    }
   ],
   "source": [
    "# Center SI on Latent\n",
    "center_si_data = instance_disturbance.center_si_data()\n",
    "\n",
    "num_ones = torch.sum(center_si_data == 1).item()\n",
    "total_elements = center_si_data.numel()\n",
    "ratio_ones = num_ones / total_elements\n",
    "\n",
    "print(\"Center SI on latent:\", ratio_ones)"
   ]
  },
  {
   "cell_type": "markdown",
   "metadata": {
    "id": "q6TfSoZ0hXPd"
   },
   "source": [
    "# Part 4 : Calc Cross SI"
   ]
  },
  {
   "cell_type": "code",
   "execution_count": 4,
   "metadata": {},
   "outputs": [],
   "source": [
    "seed = 42\n",
    "random.seed(seed)\n",
    "np.random.seed(seed)\n",
    "torch.manual_seed(seed)\n",
    "\n",
    "# Define a function to create a balanced subset of CIFAR-100\n",
    "def create_balanced_subset(data, labels, subset_size):\n",
    "    unique_labels = np.unique(labels)\n",
    "    num_classes = len(unique_labels)\n",
    "    samples_per_class = int(subset_size / num_classes)\n",
    "    selected_indices = []\n",
    "\n",
    "    for label in unique_labels:\n",
    "        label_indices = np.where(labels == label)[0]\n",
    "        random_indices = np.random.choice(label_indices, samples_per_class, replace=False)\n",
    "        selected_indices.extend(random_indices)\n",
    "\n",
    "    selected_data = data[selected_indices]\n",
    "    selected_labels = labels[selected_indices]\n",
    "\n",
    "    return selected_data, selected_labels"
   ]
  },
  {
   "cell_type": "code",
   "execution_count": 5,
   "metadata": {
    "colab": {
     "base_uri": "https://localhost:8080/"
    },
    "id": "pf4djRj6TrJ6",
    "outputId": "757e6911-e442-4bbe-b831-7fd9b55bf26d"
   },
   "outputs": [
    {
     "name": "stdout",
     "output_type": "stream",
     "text": [
      "Files already downloaded and verified\n",
      "Files already downloaded and verified\n"
     ]
    }
   ],
   "source": [
    "# Load the CIFAR-100 training dataset and create a balanced subset\n",
    "transform = transforms.Compose([transforms.ToTensor()])\n",
    "cifar100_train_dataset = datasets.CIFAR100(root='./data', train=True, download=True, transform=transform)\n",
    "\n",
    "# Define the subset size (20% of the entire dataset)\n",
    "subset_size = int(0.2 * len(cifar100_train_dataset))\n",
    "\n",
    "cifar100_train_data, cifar100_train_labels = create_balanced_subset(cifar100_train_dataset.data, np.array(cifar100_train_dataset.targets), subset_size)\n",
    "\n",
    "# Flatten the training data to shape (n_data, n_feature)\n",
    "cifar100_train_data = cifar100_train_data.reshape(subset_size, -1)\n",
    "\n",
    "# Load the CIFAR-100 test dataset and create a balanced subset\n",
    "cifar100_test_dataset = datasets.CIFAR100(root='./data', train=False, download=True, transform=transform)\n",
    "\n",
    "# Create a balanced subset for the test data with the same subset size\n",
    "cifar100_test_data, cifar100_test_labels = create_balanced_subset(cifar100_test_dataset.data, np.array(cifar100_test_dataset.targets), subset_size)\n",
    "\n",
    "# Flatten the test data to shape (n_data, n_feature)\n",
    "cifar100_test_data = cifar100_test_data.reshape(subset_size, -1)"
   ]
  },
  {
   "cell_type": "code",
   "execution_count": 6,
   "metadata": {
    "id": "qVfvudywUlIz"
   },
   "outputs": [],
   "source": [
    "# Create instances of the Kalhor_SeparationIndex class for both training and test data\n",
    "train_data_tensor = torch.Tensor(cifar100_train_data)\n",
    "train_label_tensor = torch.Tensor(cifar100_train_labels).unsqueeze(1)\n",
    "test_data_tensor = torch.Tensor(cifar100_test_data)\n",
    "test_label_tensor = torch.Tensor(cifar100_test_labels).unsqueeze(1)"
   ]
  },
  {
   "cell_type": "code",
   "execution_count": 7,
   "metadata": {
    "colab": {
     "base_uri": "https://localhost:8080/"
    },
    "id": "hSiNExA2UvMe",
    "outputId": "710b4570-b070-4ce1-f116-afcebdc6e8fc"
   },
   "outputs": [
    {
     "name": "stdout",
     "output_type": "stream",
     "text": [
      "data becomes normalized\n",
      "data becomes normalized\n"
     ]
    }
   ],
   "source": [
    "train_si_calculator = Kalhor_SeparationIndex(train_data_tensor, train_label_tensor, normalize=True)\n",
    "test_si_calculator = Kalhor_SeparationIndex(test_data_tensor, test_label_tensor, normalize=True)\n"
   ]
  },
  {
   "cell_type": "code",
   "execution_count": 8,
   "metadata": {
    "id": "zTlKi_DVUyjA"
   },
   "outputs": [
    {
     "name": "stdout",
     "output_type": "stream",
     "text": [
      "Cross SI: 0.1106\n"
     ]
    }
   ],
   "source": [
    "# Calculate cross_si_data for the test dataset\n",
    "cross_si_data = test_si_calculator.cross_si_data(train_data_tensor, train_label_tensor)\n",
    "num_ones = torch.sum(cross_si_data == True).item()\n",
    "total_elements = cross_si_data.numel()\n",
    "ratio_ones = num_ones / total_elements\n",
    "\n",
    "print(\"Cross SI:\", ratio_ones)\n"
   ]
  },
  {
   "cell_type": "markdown",
   "metadata": {
    "id": "Iw4ccsPV_Y8_"
   },
   "source": [
    "# Part 5 :  SMI"
   ]
  },
  {
   "cell_type": "code",
   "execution_count": null,
   "metadata": {},
   "outputs": [],
   "source": [
    "!git clone https://github.com/Arhosseini77/data_complexity_measures"
   ]
  },
  {
   "cell_type": "code",
   "execution_count": null,
   "metadata": {},
   "outputs": [],
   "source": [
    "import torch\n",
    "from sklearn.datasets import load_diabetes\n",
    "from sklearn.model_selection import train_test_split\n",
    "from torch.utils.data import TensorDataset, DataLoader"
   ]
  },
  {
   "cell_type": "code",
   "execution_count": null,
   "metadata": {},
   "outputs": [],
   "source": [
    "from torchvision import datasets, transforms\n",
    "import random\n",
    "import numpy as np\n",
    "import matplotlib.pyplot as plt\n",
    "\n",
    "from data_complexity_measures.models.SmoothnessIndex import Kalhor_SmoothnessIndex"
   ]
  },
  {
   "cell_type": "code",
   "execution_count": null,
   "metadata": {
    "id": "YFUi0jyh_aiR"
   },
   "outputs": [],
   "source": [
    "# Load the diabetes dataset\n",
    "diabetes = load_diabetes()\n",
    "\n",
    "# Split the data into features (X) and target (y)\n",
    "X = diabetes.data\n",
    "y = diabetes.target\n",
    "\n",
    "# Split data\n",
    "X_train, X_test, y_train, y_test = train_test_split(X, y, test_size=0.2, random_state=42)\n",
    "\n",
    "# Convert NumPy arrays to PyTorch tensors\n",
    "X_train = torch.tensor(X_train, dtype=torch.float32)\n",
    "y_train = torch.tensor(y_train, dtype=torch.float32).view(-1, 1)\n",
    "X_test = torch.tensor(X_test, dtype=torch.float32)\n",
    "y_test = torch.tensor(y_test, dtype=torch.float32).view(-1, 1)\n",
    "\n",
    "# Create DataLoader \n",
    "train_dataset = TensorDataset(X_train, y_train)\n",
    "test_dataset = TensorDataset(X_test, y_test)\n",
    "\n",
    "batch_size = 64\n",
    "\n",
    "train_loader = DataLoader(train_dataset, batch_size=batch_size, shuffle=True)\n",
    "test_loader = DataLoader(test_dataset, batch_size=batch_size, shuffle=False)\n"
   ]
  },
  {
   "cell_type": "code",
   "execution_count": null,
   "metadata": {
    "colab": {
     "base_uri": "https://localhost:8080/"
    },
    "id": "eavncfh4CrSi",
    "outputId": "374a63c9-2370-4f57-800c-f70e310cfc44"
   },
   "outputs": [
    {
     "name": "stdout",
     "output_type": "stream",
     "text": [
      "===== SmI========\n"
     ]
    }
   ],
   "source": [
    "instant = Kalhor_SmoothnessIndex(X_train, y_train)\n",
    "print('===== SmI========')"
   ]
  },
  {
   "cell_type": "code",
   "execution_count": null,
   "metadata": {
    "colab": {
     "base_uri": "https://localhost:8080/"
    },
    "id": "j3LcsV0pBbm5",
    "outputId": "87cc577e-f083-4e69-ef43-6542a98eb83c"
   },
   "outputs": [
    {
     "name": "stdout",
     "output_type": "stream",
     "text": [
      "Linear Smoothness Index is:  0.7286107\n",
      "Exponential Smoothness Index is:  0.56403697\n"
     ]
    }
   ],
   "source": [
    "smi = instant.smi_linear()\n",
    "print('Linear Smoothness Index is: ', smi.detach().cpu().numpy())\n",
    "gama = 1\n",
    "smi = instant.smi_exp(gama)\n",
    "print('Exponential Smoothness Index is: ', smi.detach().cpu().numpy())"
   ]
  },
  {
   "cell_type": "code",
   "execution_count": null,
   "metadata": {
    "colab": {
     "base_uri": "https://localhost:8080/"
    },
    "id": "Uf0ltatSDqZa",
    "outputId": "9736ba65-aeea-4e8a-b131-0f2fea804deb"
   },
   "outputs": [
    {
     "name": "stdout",
     "output_type": "stream",
     "text": [
      "=====high order SmI======== order= 2\n",
      "High Smoothness Index with order 2  is: 0.60883486\n",
      "High Smoothness exp Index with order 2  is: 0.42122817\n",
      "=====Anti SmI======== order= 1\n",
      "Anti Smoothness Index with order 1  is: 0.27138925\n",
      "Anti Smoothness exp Index with order 1  is: 0.43596306\n",
      "=====soft SmI======== order= 2\n",
      "Soft linear Smoothness Index with order 2  is: 0.71688646\n",
      "Soft Smoothness exp Index with order 2  is: 0.55304766\n",
      "=====cross SmI========\n",
      "Cross Smootheness Index is:  0.7635338\n",
      "=====Local SmI========\n",
      "Local Smootheness Index is:  0.48441926\n",
      "=====global SmI========\n",
      "Global Smootheness Index is:  0.59490085\n"
     ]
    }
   ],
   "source": [
    "order = 2\n",
    "print('=====high order SmI========', 'order=', order)\n",
    "smi = instant.high_order_smi_linear(order)\n",
    "print('High Smoothness Index with order', order, ' is:', smi.detach().cpu().numpy())\n",
    "gama = 1\n",
    "smi = instant.high_order_smi_exp(order, gama)\n",
    "print('High Smoothness exp Index with order', order, ' is:', smi.detach().cpu().numpy())\n",
    "\n",
    "# ================== Anti SmI\n",
    "order = 1\n",
    "print('=====Anti SmI========', 'order=', order)\n",
    "smi = instant.anti_smi_linear(order)\n",
    "print('Anti Smoothness Index with order', order, ' is:', smi.detach().cpu().numpy())\n",
    "gama = 1\n",
    "smi = instant.anti_smi_exp(order, gama)\n",
    "print('Anti Smoothness exp Index with order', order, ' is:', smi.detach().cpu().numpy())\n",
    "\n",
    "# ================== soft SmI\n",
    "\n",
    "order = 2\n",
    "print('=====soft SmI========', 'order=', order)\n",
    "smi = instant.soft_order_smi_linear(order)\n",
    "print('Soft linear Smoothness Index with order', order, ' is:', smi.detach().cpu().numpy())\n",
    "smi = instant.soft_order_smi_exp(order, gama)\n",
    "print('Soft Smoothness exp Index with order', order, ' is:', smi.detach().cpu().numpy())\n",
    "# ================== cross SmI\n",
    "print('=====cross SmI========')\n",
    "cr_smi = instant.cross_smi_linear(X_test, y_test)\n",
    "print('Cross Smootheness Index is: ', cr_smi.detach().cpu().numpy())\n",
    "\n",
    "# ================== local SmI\n",
    "print('=====Local SmI========')\n",
    "n_neighb=25\n",
    "l_smi, ancher, postitive, negative = instant.triplet_local_smi(n_neighb)\n",
    "print('Local Smootheness Index is: ', l_smi.detach().cpu().numpy())\n",
    "\n",
    "# ================== global SmI\n",
    "print('=====global SmI========')\n",
    "g_smi, ancher, postitive, negative = instant.triplet_global_smi()\n",
    "print('Global Smootheness Index is: ', g_smi.detach().cpu().numpy())\n"
   ]
  },
  {
   "cell_type": "code",
   "execution_count": null,
   "metadata": {
    "colab": {
     "base_uri": "https://localhost:8080/"
    },
    "id": "4uZ2QHbhEK6u",
    "outputId": "b18b9225-1f26-436c-8042-7fc7919d3577"
   },
   "outputs": [
    {
     "name": "stdout",
     "output_type": "stream",
     "text": [
      "=====signle_input_smi_linear========\n",
      "the smi score of each input is:  [0.6182637  0.57505035 0.6725336  0.6519855  0.6438811  0.62310547\n",
      " 0.66571856 0.67375255 0.6847556  0.67638546]\n",
      "=====forward_ranking_smi========\n",
      "Ranked  inputs form most important to least important  are:  tensor([[8., 2., 5., 0., 7., 4., 1., 6., 9., 3.]])\n",
      "smi for involving Inputs are:  [[0.6847557 ]\n",
      " [0.71575105]\n",
      " [0.7333702 ]\n",
      " [0.7302797 ]\n",
      " [0.7315917 ]\n",
      " [0.7447439 ]\n",
      " [0.7436048 ]\n",
      " [0.742936  ]\n",
      " [0.7356565 ]\n",
      " [0.7286107 ]]\n"
     ]
    }
   ],
   "source": [
    "# ================== signle_input_smi_linear\n",
    "print('=====signle_input_smi_linear========')\n",
    "signle_input_smi_linear = instant.signle_input_smi_linear()\n",
    "print('the smi score of each input is: ', signle_input_smi_linear.detach().cpu().numpy())\n",
    "\n",
    "# ================== forward_ranking_smi\n",
    "print('=====forward_ranking_smi========')\n",
    "\n",
    "smi_ranked_inputs, ranked_inputs = instant.forward_input_ranking_smi_linear()\n",
    "print('Ranked  inputs form most important to least important  are: ', ranked_inputs)\n",
    "print('smi for involving Inputs are: ', smi_ranked_inputs.detach().cpu().numpy())"
   ]
  },
  {
   "cell_type": "code",
   "execution_count": null,
   "metadata": {
    "colab": {
     "base_uri": "https://localhost:8080/",
     "height": 594
    },
    "id": "TpxJTSenEWZ-",
    "outputId": "40747a4a-48f5-4372-c846-d62611f30983"
   },
   "outputs": [
    {
     "name": "stdout",
     "output_type": "stream",
     "text": [
      "=====forward_input_ranking_by_smi========\n",
      "Ranked features are:  tensor([[8., 2., 5., 0., 7., 4., 1., 6., 9., 3.]])\n",
      "smi for the best chosen Inputs are:  [[0.6847557  0.71575105 0.7333702  0.7302797  0.7315917  0.7447439\n",
      "  0.7436048  0.742936   0.7356565  0.7286107 ]]\n",
      "=====ranked_features_best========\n",
      "Sepration Index for input_best_smi is:  0.7447439\n",
      "the best feachers are:  tensor([[8, 2, 5, 0, 7, 4]])\n"
     ]
    },
    {
     "data": {
      "image/png": "[encoded data removed]",
      "text/plain": [
       "<Figure size 640x480 with 1 Axes>"
      ]
     },
     "metadata": {},
     "output_type": "display_data"
    }
   ],
   "source": [
    "# ================== forward_selection_smi\n",
    "\n",
    "print('=====forward_input_ranking_by_smi========')\n",
    "\n",
    "instance_disturbance = Kalhor_SmoothnessIndex(X_train, y_train)\n",
    "\n",
    "smi_ranked_inputs, ranked_inputs = instant.forward_input_ranking_smi_linear()\n",
    "\n",
    "plt.plot(smi_ranked_inputs.cpu().detach().numpy(), 'b')\n",
    "plt.xlabel(\"Number of selected inputs\")\n",
    "plt.ylabel(\"SmI\")\n",
    "plt.title(\"Forward input ranking by SmI\")\n",
    "smi_ranked_inputs = torch.transpose(smi_ranked_inputs, 0, 1)\n",
    "\n",
    "print('Ranked features are: ', ranked_inputs)\n",
    "print('smi for the best chosen Inputs are: ', smi_ranked_inputs.detach().cpu().numpy())\n",
    "# (9)================== ranked_features_best\n",
    "\n",
    "print('=====ranked_features_best========')\n",
    "input_best_smi, ranked_inputs_best = instant.get_best_inputs_forward_smi_linear()\n",
    "\n",
    "instance_best = Kalhor_SmoothnessIndex(input_best_smi, y_train)\n",
    "\n",
    "print('Sepration Index for input_best_smi is: ', instance_best.smi_linear().detach().cpu().numpy())\n",
    "print('the best feachers are: ', ranked_inputs_best.t())"
   ]
  },
  {
   "cell_type": "markdown",
   "metadata": {
    "id": "I2oiroSJKEtV"
   },
   "source": [
    "# Part 6 : LDI"
   ]
  },
  {
   "cell_type": "code",
   "execution_count": 1,
   "metadata": {
    "colab": {
     "base_uri": "https://localhost:8080/"
    },
    "id": "eowYDk3lFZBh",
    "outputId": "b35cf99c-0f8a-40f0-f547-455a7de9216f"
   },
   "outputs": [
    {
     "name": "stdout",
     "output_type": "stream",
     "text": [
      "fatal: destination path 'data_complexity_measures' already exists and is not an empty directory.\n"
     ]
    }
   ],
   "source": [
    "!git clone https://github.com/Arhosseini77/data_complexity_measures"
   ]
  },
  {
   "cell_type": "code",
   "execution_count": 14,
   "metadata": {
    "id": "DTKgzrWKKuvu"
   },
   "outputs": [],
   "source": [
    "import torch\n",
    "from torchvision import datasets, transforms\n",
    "import random\n",
    "import numpy as np\n",
    "\n",
    "# from data_complexity_measures.relative_density.mmt_3clustering import Kalhor_Clustering\n",
    "from data_complexity_measures.relative_density.mmt_8data_domain_scoring import module_data_domain_scoring_unsupervised"
   ]
  },
  {
   "cell_type": "code",
   "execution_count": 15,
   "metadata": {
    "id": "i81le0v1KuzL"
   },
   "outputs": [],
   "source": [
    "# Set the random seed for reproducibility\n",
    "seed = 42\n",
    "random.seed(seed)\n",
    "np.random.seed(seed)\n",
    "torch.manual_seed(seed)\n",
    "\n",
    "# Define a function to create a balanced subset of CIFAR-100\n",
    "def create_balanced_subset(data, labels, subset_size):\n",
    "    unique_labels = np.unique(labels)\n",
    "    num_classes = len(unique_labels)\n",
    "    samples_per_class = int(subset_size / num_classes)\n",
    "    selected_indices = []\n",
    "\n",
    "    for label in unique_labels:\n",
    "        label_indices = np.where(labels == label)[0]\n",
    "        random_indices = np.random.choice(label_indices, samples_per_class, replace=False)\n",
    "        selected_indices.extend(random_indices)\n",
    "\n",
    "    selected_data = data[selected_indices]\n",
    "    selected_labels = labels[selected_indices]\n",
    "\n",
    "    return selected_data, selected_labels"
   ]
  },
  {
   "cell_type": "code",
   "execution_count": 16,
   "metadata": {},
   "outputs": [
    {
     "name": "stdout",
     "output_type": "stream",
     "text": [
      "Files already downloaded and verified\n",
      "Files already downloaded and verified\n"
     ]
    }
   ],
   "source": [
    "# Load the CIFAR-100 training dataset and create a balanced subset\n",
    "transform = transforms.Compose([transforms.ToTensor()])\n",
    "cifar100_train_dataset = datasets.CIFAR100(root='./data', train=True, download=True, transform=transform)\n",
    "\n",
    "# Define the subset size (10% of the entire dataset)\n",
    "subset_size = int(0.1 * len(cifar100_train_dataset))\n",
    "\n",
    "cifar100_train_data, cifar100_train_labels = create_balanced_subset(cifar100_train_dataset.data, np.array(cifar100_train_dataset.targets), subset_size)\n",
    "\n",
    "# Flatten the training data to shape (n_data, n_feature)\n",
    "cifar100_train_data = cifar100_train_data.reshape(subset_size, -1)\n",
    "\n",
    "# Load the CIFAR-100 test dataset and create a balanced subset\n",
    "cifar100_test_dataset = datasets.CIFAR100(root='./data', train=False, download=True, transform=transform)\n",
    "\n",
    "# Create a balanced subset for the test data with the same subset size\n",
    "cifar100_test_data, cifar100_test_labels = create_balanced_subset(cifar100_test_dataset.data, np.array(cifar100_test_dataset.targets), subset_size)\n",
    "\n",
    "# Flatten the test data to shape (n_data, n_feature)\n",
    "cifar100_test_data = cifar100_test_data.reshape(subset_size, -1)"
   ]
  },
  {
   "cell_type": "code",
   "execution_count": 17,
   "metadata": {},
   "outputs": [],
   "source": [
    "train_data_tensor = torch.Tensor(cifar100_train_data)\n",
    "test_data_tensor = torch.Tensor(cifar100_test_data)"
   ]
  },
  {
   "cell_type": "code",
   "execution_count": 18,
   "metadata": {},
   "outputs": [
    {
     "name": "stdout",
     "output_type": "stream",
     "text": [
      "data torch.Size([5000, 3072])\n",
      "n_max_clusters 100\n",
      "the predicted number of clusters is: 2\n",
      "Self Score Index is:  0.32775265\n",
      "Cross Score Index is:  0.32741174\n"
     ]
    },
    {
     "data": {
      "image/png": "[encoded data removed]",
      "text/plain": [
       "<Figure size 640x480 with 2 Axes>"
      ]
     },
     "metadata": {},
     "output_type": "display_data"
    }
   ],
   "source": [
    "rl , cross = module_data_domain_scoring_unsupervised(train_data_tensor , test_data_tensor)"
   ]
  },
  {
   "cell_type": "code",
   "execution_count": 19,
   "metadata": {},
   "outputs": [
    {
     "name": "stdout",
     "output_type": "stream",
     "text": [
      "relative Score : tensor(0.3278)\n",
      "Cross relative Score :  tensor(0.3274)\n"
     ]
    }
   ],
   "source": [
    "print(\"relative Score :\" , rl ) \n",
    "print(\"Cross relative Score : \" , cross )"
   ]
  }
 ],
 "metadata": {
  "accelerator": "GPU",
  "colab": {
   "gpuType": "T4",
   "provenance": []
  },
  "kernelspec": {
   "display_name": "deepgaze3",
   "language": "python",
   "name": "deepgaze3"
  },
  "language_info": {
   "codemirror_mode": {
    "name": "ipython",
    "version": 3
   },
   "file_extension": ".py",
   "mimetype": "text/x-python",
   "name": "python",
   "nbconvert_exporter": "python",
   "pygments_lexer": "ipython3",
   "version": "3.9.16"
  }
 },
 "nbformat": 4,
 "nbformat_minor": 4
}
