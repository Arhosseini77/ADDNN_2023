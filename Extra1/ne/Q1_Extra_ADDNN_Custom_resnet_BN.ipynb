{
 "cells": [
  {
   "cell_type": "markdown",
   "metadata": {
    "id": "D_FzYJ6kBPmA"
   },
   "source": [
    "# Import Libraries"
   ]
  },
  {
   "cell_type": "code",
   "execution_count": 1,
   "metadata": {
    "id": "QwVCQZDtBSOW",
    "tags": []
   },
   "outputs": [],
   "source": [
    "import torch\n",
    "import torch.nn as nn\n",
    "import torch.nn.functional as F\n",
    "\n",
    "import torch.optim as optim\n",
    "from torch.optim.lr_scheduler import StepLR\n",
    "from torchvision import datasets, transforms\n",
    "from torch.utils.data import DataLoader, random_split\n",
    "from sklearn.model_selection import train_test_split\n",
    "\n",
    "import matplotlib.pyplot as plt\n",
    "from tqdm import tqdm"
   ]
  },
  {
   "cell_type": "code",
   "execution_count": 2,
   "metadata": {
    "tags": []
   },
   "outputs": [
    {
     "name": "stdout",
     "output_type": "stream",
     "text": [
      "2\n",
      "NVIDIA GeForce RTX 3090\n"
     ]
    }
   ],
   "source": [
    "# Check GPU\n",
    "print(torch.cuda.device_count())\n",
    "print(torch.cuda.get_device_name(1))"
   ]
  },
  {
   "cell_type": "markdown",
   "metadata": {
    "id": "aNA78o8BBtC-",
    "tags": []
   },
   "source": [
    "# Part C "
   ]
  },
  {
   "cell_type": "markdown",
   "metadata": {
    "id": "quDe3fsABTNB"
   },
   "source": [
    "## Implement Custom Resnet + Batch Normalization"
   ]
  },
  {
   "cell_type": "code",
   "execution_count": 3,
   "metadata": {
    "colab": {
     "base_uri": "https://localhost:8080/",
     "height": 247
    },
    "id": "AqPnnPgaBSzd",
    "outputId": "0a9b901d-aa7f-4daa-af0f-486f012cb733",
    "tags": []
   },
   "outputs": [],
   "source": [
    "class CustomResNetBlock(nn.Module):\n",
    "    def __init__(self, in_channels, out_channels):\n",
    "        super(CustomResNetBlock, self).__init__()\n",
    "        self.conv1 = nn.Conv2d(in_channels, out_channels, kernel_size=3, padding=1)\n",
    "        self.bn1 = nn.BatchNorm2d(out_channels)  # Batch Normalization after Convolution\n",
    "        self.elu = nn.ELU()\n",
    "        self.conv2 = nn.Conv2d(out_channels, out_channels, kernel_size=3, padding=1)\n",
    "        self.bn2 = nn.BatchNorm2d(out_channels)  # Batch Normalization after Convolution\n",
    "\n",
    "    def forward(self, x):\n",
    "        shortcut = x\n",
    "        x = self.conv1(x)\n",
    "        x = self.bn1(x)  # Apply Batch Normalization\n",
    "        x = self.elu(x)\n",
    "        x = self.conv2(x)\n",
    "        x = self.bn2(x)  # Apply Batch Normalization\n",
    "        x += shortcut\n",
    "        x = self.elu(x)\n",
    "        return x\n",
    "\n",
    "class CustomResNet_BN(nn.Module):\n",
    "    def __init__(self):\n",
    "        super(CustomResNet_BN, self).__init__()\n",
    "        # Initial convolutional layers\n",
    "        self.conv1 = nn.Conv2d(3, 32, kernel_size=3, padding=1)\n",
    "        self.bn1 = nn.BatchNorm2d(32)  # Batch Normalization\n",
    "        self.elu1 = nn.ELU()\n",
    "        self.conv2 = nn.Conv2d(32, 64, kernel_size=3, padding=1)\n",
    "        self.bn2 = nn.BatchNorm2d(64)  # Batch Normalization\n",
    "        self.elu2 = nn.ELU()\n",
    "        self.maxpool1 = nn.MaxPool2d(kernel_size=2)\n",
    "        \n",
    "        # Residual blocks\n",
    "        self.resblock1 = CustomResNetBlock(64, 64)\n",
    "        self.maxpool2 = nn.MaxPool2d(kernel_size=2)\n",
    "        self.conv3 = nn.Conv2d(64, 128, kernel_size=3, padding=1)\n",
    "        self.bn3 = nn.BatchNorm2d(128)  # Batch Normalization\n",
    "        self.elu3 = nn.ELU()\n",
    "        self.maxpool3 = nn.MaxPool2d(kernel_size=2)\n",
    "        self.conv4 = nn.Conv2d(128, 256, kernel_size=3, padding=1)\n",
    "        self.bn4 = nn.BatchNorm2d(256)  # Batch Normalization\n",
    "        self.elu4 = nn.ELU()\n",
    "        self.resblock2 = CustomResNetBlock(256, 256)\n",
    "        \n",
    "        # Average pooling and fully connected layers\n",
    "        self.avgpool = nn.AvgPool2d(kernel_size=3, stride=2)\n",
    "        self.flatten = nn.Flatten()\n",
    "        self.fc1 = nn.Linear(256, 256)\n",
    "        self.fc2 = nn.Linear(256, 10)\n",
    "        self.softmax = nn.Softmax(dim=1)\n",
    "\n",
    "    def forward(self, x):\n",
    "        x = self.conv1(x)\n",
    "        x = self.bn1(x)  # Apply Batch Normalization\n",
    "        x = self.elu1(x)\n",
    "        x = self.conv2(x)\n",
    "        x = self.bn2(x)  # Apply Batch Normalization\n",
    "        x = self.elu2(x)\n",
    "        x = self.maxpool1(x)\n",
    "        \n",
    "        x = self.resblock1(x)\n",
    "        x = self.conv3(x)\n",
    "        x = self.bn3(x)  # Apply Batch Normalization\n",
    "        x = self.elu3(x)\n",
    "        x = self.maxpool2(x)\n",
    "        \n",
    "        x = self.conv4(x)\n",
    "        x = self.bn4(x)  # Apply Batch Normalization\n",
    "        x = self.elu4(x)\n",
    "        x = self.maxpool3(x)\n",
    "        x = self.resblock2(x)\n",
    "        x = self.avgpool(x)\n",
    "        x = self.flatten(x)\n",
    "        x = self.fc1(x)\n",
    "        x = self.fc2(x)\n",
    "        x = self.softmax(x)\n",
    "        return x"
   ]
  },
  {
   "cell_type": "markdown",
   "metadata": {
    "id": "JDIWaZO4BoJG"
   },
   "source": [
    "## Load Dataset"
   ]
  },
  {
   "cell_type": "code",
   "execution_count": 4,
   "metadata": {
    "id": "8V4gTK4PBihv"
   },
   "outputs": [],
   "source": [
    "# Data augmentation and normalization\n",
    "transform_train = transforms.Compose([\n",
    "    transforms.RandomHorizontalFlip(),\n",
    "    transforms.RandomRotation(10),\n",
    "    transforms.ToTensor(),\n",
    "    transforms.Normalize((0.5, 0.5, 0.5), (0.5, 0.5, 0.5))\n",
    "])\n",
    "\n",
    "# # Data augmentation and normalization for training\n",
    "# transform_train = transforms.Compose([\n",
    "#     transforms.RandomHorizontalFlip(),\n",
    "#     transforms.RandomRotation(15),\n",
    "#     transforms.RandomResizedCrop(32, scale=(0.8, 1.0)),\n",
    "#     transforms.ColorJitter(brightness=0.1, contrast=0.1, saturation=0.1, hue=0.1),\n",
    "#     transforms.RandomAffine(degrees=0, translate=(0.1, 0.1)),\n",
    "#     transforms.ToTensor(),\n",
    "#     transforms.Normalize((0.5, 0.5, 0.5), (0.5, 0.5, 0.5))\n",
    "# ])\n",
    "\n",
    "transform_test = transforms.Compose([\n",
    "    transforms.ToTensor(),\n",
    "    transforms.Normalize((0.5, 0.5, 0.5), (0.5, 0.5, 0.5))\n",
    "])"
   ]
  },
  {
   "cell_type": "code",
   "execution_count": 5,
   "metadata": {
    "colab": {
     "base_uri": "https://localhost:8080/"
    },
    "id": "pFEN5wDcBwwe",
    "outputId": "9c66fc00-2d4a-4d12-8a18-244b82583cad"
   },
   "outputs": [
    {
     "name": "stdout",
     "output_type": "stream",
     "text": [
      "Files already downloaded and verified\n",
      "Files already downloaded and verified\n"
     ]
    }
   ],
   "source": [
    "# Load CIFAR-10 dataset\n",
    "train_dataset = datasets.CIFAR10(root='./data', train=True, download=True, transform=transform_train)\n",
    "test_dataset = datasets.CIFAR10(root='./data', train=False, download=True, transform=transform_test)\n",
    "\n",
    "# Splitting train dataset into train and validation sets\n",
    "train_size = int(0.9 * len(train_dataset))\n",
    "val_size = len(train_dataset) - train_size\n",
    "train_dataset, val_dataset = random_split(train_dataset, [train_size, val_size])\n",
    "\n",
    "# Data loaders\n",
    "train_loader = DataLoader(train_dataset, batch_size=256, shuffle=True)\n",
    "val_loader = DataLoader(val_dataset, batch_size=256, shuffle=False)\n",
    "test_loader = DataLoader(test_dataset, batch_size=256, shuffle=False)"
   ]
  },
  {
   "cell_type": "markdown",
   "metadata": {
    "id": "nmhQIr54B2oW"
   },
   "source": [
    "## Optimizer and Train Setup"
   ]
  },
  {
   "cell_type": "code",
   "execution_count": 6,
   "metadata": {
    "id": "3CzuU7SMB1H9"
   },
   "outputs": [],
   "source": [
    "# Model, optimizer, and scheduler\n",
    "model = CustomResNet_BN()\n",
    "optimizer = optim.SGD(model.parameters(), lr=0.01, momentum=0.9)\n",
    "scheduler = StepLR(optimizer, step_size=40, gamma=0.1)\n",
    "criterion = nn.CrossEntropyLoss()"
   ]
  },
  {
   "cell_type": "code",
   "execution_count": 7,
   "metadata": {
    "colab": {
     "base_uri": "https://localhost:8080/"
    },
    "id": "Q5Ln_L7oIPAi",
    "outputId": "3ef9c660-f4a3-42bd-91d5-b018c8cedc23"
   },
   "outputs": [
    {
     "data": {
      "text/plain": [
       "CustomResNet_BN(\n",
       "  (conv1): Conv2d(3, 32, kernel_size=(3, 3), stride=(1, 1), padding=(1, 1))\n",
       "  (bn1): BatchNorm2d(32, eps=1e-05, momentum=0.1, affine=True, track_running_stats=True)\n",
       "  (elu1): ELU(alpha=1.0)\n",
       "  (conv2): Conv2d(32, 64, kernel_size=(3, 3), stride=(1, 1), padding=(1, 1))\n",
       "  (bn2): BatchNorm2d(64, eps=1e-05, momentum=0.1, affine=True, track_running_stats=True)\n",
       "  (elu2): ELU(alpha=1.0)\n",
       "  (maxpool1): MaxPool2d(kernel_size=2, stride=2, padding=0, dilation=1, ceil_mode=False)\n",
       "  (resblock1): CustomResNetBlock(\n",
       "    (conv1): Conv2d(64, 64, kernel_size=(3, 3), stride=(1, 1), padding=(1, 1))\n",
       "    (bn1): BatchNorm2d(64, eps=1e-05, momentum=0.1, affine=True, track_running_stats=True)\n",
       "    (elu): ELU(alpha=1.0)\n",
       "    (conv2): Conv2d(64, 64, kernel_size=(3, 3), stride=(1, 1), padding=(1, 1))\n",
       "    (bn2): BatchNorm2d(64, eps=1e-05, momentum=0.1, affine=True, track_running_stats=True)\n",
       "  )\n",
       "  (maxpool2): MaxPool2d(kernel_size=2, stride=2, padding=0, dilation=1, ceil_mode=False)\n",
       "  (conv3): Conv2d(64, 128, kernel_size=(3, 3), stride=(1, 1), padding=(1, 1))\n",
       "  (bn3): BatchNorm2d(128, eps=1e-05, momentum=0.1, affine=True, track_running_stats=True)\n",
       "  (elu3): ELU(alpha=1.0)\n",
       "  (maxpool3): MaxPool2d(kernel_size=2, stride=2, padding=0, dilation=1, ceil_mode=False)\n",
       "  (conv4): Conv2d(128, 256, kernel_size=(3, 3), stride=(1, 1), padding=(1, 1))\n",
       "  (bn4): BatchNorm2d(256, eps=1e-05, momentum=0.1, affine=True, track_running_stats=True)\n",
       "  (elu4): ELU(alpha=1.0)\n",
       "  (resblock2): CustomResNetBlock(\n",
       "    (conv1): Conv2d(256, 256, kernel_size=(3, 3), stride=(1, 1), padding=(1, 1))\n",
       "    (bn1): BatchNorm2d(256, eps=1e-05, momentum=0.1, affine=True, track_running_stats=True)\n",
       "    (elu): ELU(alpha=1.0)\n",
       "    (conv2): Conv2d(256, 256, kernel_size=(3, 3), stride=(1, 1), padding=(1, 1))\n",
       "    (bn2): BatchNorm2d(256, eps=1e-05, momentum=0.1, affine=True, track_running_stats=True)\n",
       "  )\n",
       "  (avgpool): AvgPool2d(kernel_size=3, stride=2, padding=0)\n",
       "  (flatten): Flatten(start_dim=1, end_dim=-1)\n",
       "  (fc1): Linear(in_features=256, out_features=256, bias=True)\n",
       "  (fc2): Linear(in_features=256, out_features=10, bias=True)\n",
       "  (softmax): Softmax(dim=1)\n",
       ")"
      ]
     },
     "execution_count": 7,
     "metadata": {},
     "output_type": "execute_result"
    }
   ],
   "source": [
    "# Determine if CUDA is available and set the device accordingly\n",
    "device = torch.device(\"cuda:1\" if torch.cuda.is_available() else \"cpu\")\n",
    "model.to(device)"
   ]
  },
  {
   "cell_type": "code",
   "execution_count": 8,
   "metadata": {
    "id": "8AjZNiXpHwDi"
   },
   "outputs": [],
   "source": [
    "def train(model, device, train_loader, optimizer, criterion):\n",
    "    model.train()\n",
    "    train_loss = 0\n",
    "    correct = 0\n",
    "    total = 0\n",
    "    for data, target in train_loader:\n",
    "        data, target = data.to(device), target.to(device)\n",
    "        optimizer.zero_grad()\n",
    "        output = model(data)\n",
    "        loss = criterion(output, target)\n",
    "        train_loss += loss.item()\n",
    "        loss.backward()\n",
    "        optimizer.step()\n",
    "\n",
    "        _, predicted = torch.max(output.data, 1)\n",
    "        total += target.size(0)\n",
    "        correct += (predicted == target).sum().item()\n",
    "\n",
    "    train_loss /= len(train_loader)\n",
    "    train_accuracy = 100 * correct / total\n",
    "    return train_loss, train_accuracy\n",
    "\n",
    "def test(model, device, test_loader, criterion):\n",
    "    model.eval()\n",
    "    test_loss = 0\n",
    "    correct = 0\n",
    "    with torch.no_grad():\n",
    "        for data, target in test_loader:\n",
    "            data, target = data.to(device), target.to(device)\n",
    "            output = model(data)\n",
    "            loss = criterion(output, target)\n",
    "            test_loss += loss.item()\n",
    "            _, predicted = output.max(1)\n",
    "            correct += predicted.eq(target).sum().item()\n",
    "\n",
    "    test_loss /= len(test_loader)\n",
    "    test_accuracy = 100. * correct / len(test_loader.dataset)\n",
    "    return test_loss, test_accuracy\n",
    "\n",
    "# Training loop with tracking of training and validation accuracies\n",
    "train_losses, train_accuracies, val_losses, val_accuracies = [], [], [], []\n",
    "best_val_accuracy = 0\n",
    "best_model_weights = None\n"
   ]
  },
  {
   "cell_type": "code",
   "execution_count": 9,
   "metadata": {
    "colab": {
     "base_uri": "https://localhost:8080/"
    },
    "id": "09-npVVjIP1z",
    "outputId": "3c14999d-945f-4031-d719-9b7e3085b0cf"
   },
   "outputs": [
    {
     "name": "stdout",
     "output_type": "stream",
     "text": [
      "Epoch: 1, Train Loss: 2.1024, Train Accuracy: 36.71%, Val Loss: 2.0392, Val Accuracy: 42.78%\n",
      "Epoch: 2, Train Loss: 1.9552, Train Accuracy: 51.36%, Val Loss: 1.9874, Val Accuracy: 47.34%\n",
      "Epoch: 3, Train Loss: 1.8800, Train Accuracy: 58.90%, Val Loss: 1.8805, Val Accuracy: 58.62%\n",
      "Epoch: 4, Train Loss: 1.8312, Train Accuracy: 63.76%, Val Loss: 1.8556, Val Accuracy: 61.10%\n",
      "Epoch: 5, Train Loss: 1.7974, Train Accuracy: 67.19%, Val Loss: 1.8317, Val Accuracy: 63.36%\n",
      "Epoch: 6, Train Loss: 1.7761, Train Accuracy: 69.17%, Val Loss: 1.7986, Val Accuracy: 66.46%\n",
      "Epoch: 7, Train Loss: 1.7582, Train Accuracy: 70.86%, Val Loss: 1.7959, Val Accuracy: 66.78%\n",
      "Epoch: 8, Train Loss: 1.7379, Train Accuracy: 72.83%, Val Loss: 1.7675, Val Accuracy: 69.58%\n",
      "Epoch: 9, Train Loss: 1.7257, Train Accuracy: 74.03%, Val Loss: 1.7642, Val Accuracy: 69.60%\n",
      "Epoch: 10, Train Loss: 1.7180, Train Accuracy: 74.68%, Val Loss: 1.7488, Val Accuracy: 71.70%\n",
      "Epoch: 11, Train Loss: 1.7075, Train Accuracy: 75.80%, Val Loss: 1.7517, Val Accuracy: 71.08%\n",
      "Epoch: 12, Train Loss: 1.6968, Train Accuracy: 76.78%, Val Loss: 1.7968, Val Accuracy: 66.40%\n",
      "Epoch: 13, Train Loss: 1.6898, Train Accuracy: 77.45%, Val Loss: 1.7516, Val Accuracy: 70.80%\n",
      "Epoch: 14, Train Loss: 1.6871, Train Accuracy: 77.74%, Val Loss: 1.7565, Val Accuracy: 70.58%\n",
      "Epoch: 15, Train Loss: 1.6788, Train Accuracy: 78.64%, Val Loss: 1.7496, Val Accuracy: 70.82%\n",
      "Epoch: 16, Train Loss: 1.6742, Train Accuracy: 78.93%, Val Loss: 1.7229, Val Accuracy: 74.00%\n",
      "Epoch: 17, Train Loss: 1.6651, Train Accuracy: 79.82%, Val Loss: 1.7431, Val Accuracy: 71.82%\n",
      "Epoch: 18, Train Loss: 1.6613, Train Accuracy: 80.24%, Val Loss: 1.7066, Val Accuracy: 75.56%\n",
      "Epoch: 19, Train Loss: 1.6529, Train Accuracy: 81.08%, Val Loss: 1.7227, Val Accuracy: 73.92%\n",
      "Epoch: 20, Train Loss: 1.6514, Train Accuracy: 81.22%, Val Loss: 1.7097, Val Accuracy: 75.16%\n",
      "Epoch: 21, Train Loss: 1.6487, Train Accuracy: 81.52%, Val Loss: 1.7121, Val Accuracy: 75.04%\n",
      "Epoch: 22, Train Loss: 1.6452, Train Accuracy: 81.86%, Val Loss: 1.7130, Val Accuracy: 74.68%\n",
      "Epoch: 23, Train Loss: 1.6413, Train Accuracy: 82.12%, Val Loss: 1.7136, Val Accuracy: 74.78%\n",
      "Epoch: 24, Train Loss: 1.6396, Train Accuracy: 82.50%, Val Loss: 1.6904, Val Accuracy: 77.16%\n",
      "Epoch: 25, Train Loss: 1.6347, Train Accuracy: 82.84%, Val Loss: 1.7003, Val Accuracy: 76.42%\n",
      "Epoch: 26, Train Loss: 1.6315, Train Accuracy: 83.22%, Val Loss: 1.7119, Val Accuracy: 74.74%\n",
      "Epoch: 27, Train Loss: 1.6271, Train Accuracy: 83.63%, Val Loss: 1.7178, Val Accuracy: 74.06%\n",
      "Epoch: 28, Train Loss: 1.6250, Train Accuracy: 83.77%, Val Loss: 1.7104, Val Accuracy: 74.96%\n",
      "Epoch: 29, Train Loss: 1.6214, Train Accuracy: 84.16%, Val Loss: 1.6903, Val Accuracy: 77.12%\n",
      "Epoch: 30, Train Loss: 1.6232, Train Accuracy: 84.02%, Val Loss: 1.7054, Val Accuracy: 75.34%\n",
      "Epoch: 31, Train Loss: 1.6177, Train Accuracy: 84.58%, Val Loss: 1.6608, Val Accuracy: 80.06%\n",
      "Epoch: 32, Train Loss: 1.6182, Train Accuracy: 84.46%, Val Loss: 1.6807, Val Accuracy: 78.04%\n",
      "Epoch: 33, Train Loss: 1.6152, Train Accuracy: 84.77%, Val Loss: 1.6784, Val Accuracy: 78.40%\n",
      "Epoch: 34, Train Loss: 1.6104, Train Accuracy: 85.26%, Val Loss: 1.6857, Val Accuracy: 77.62%\n",
      "Epoch: 35, Train Loss: 1.6067, Train Accuracy: 85.64%, Val Loss: 1.6683, Val Accuracy: 79.22%\n",
      "Epoch: 36, Train Loss: 1.6077, Train Accuracy: 85.57%, Val Loss: 1.6917, Val Accuracy: 76.88%\n",
      "Epoch: 37, Train Loss: 1.6051, Train Accuracy: 85.76%, Val Loss: 1.6735, Val Accuracy: 78.84%\n",
      "Epoch: 38, Train Loss: 1.6029, Train Accuracy: 85.97%, Val Loss: 1.6671, Val Accuracy: 79.58%\n",
      "Epoch: 39, Train Loss: 1.6006, Train Accuracy: 86.25%, Val Loss: 1.6822, Val Accuracy: 77.88%\n",
      "Epoch: 40, Train Loss: 1.5984, Train Accuracy: 86.42%, Val Loss: 1.6658, Val Accuracy: 79.64%\n",
      "Epoch: 41, Train Loss: 1.5779, Train Accuracy: 88.50%, Val Loss: 1.6403, Val Accuracy: 82.14%\n",
      "Epoch: 42, Train Loss: 1.5700, Train Accuracy: 89.33%, Val Loss: 1.6315, Val Accuracy: 83.20%\n",
      "Epoch: 43, Train Loss: 1.5685, Train Accuracy: 89.53%, Val Loss: 1.6310, Val Accuracy: 83.22%\n",
      "Epoch: 44, Train Loss: 1.5663, Train Accuracy: 89.69%, Val Loss: 1.6321, Val Accuracy: 83.06%\n",
      "Epoch: 45, Train Loss: 1.5655, Train Accuracy: 89.76%, Val Loss: 1.6295, Val Accuracy: 83.18%\n",
      "Epoch: 46, Train Loss: 1.5631, Train Accuracy: 90.08%, Val Loss: 1.6307, Val Accuracy: 82.90%\n",
      "Epoch: 47, Train Loss: 1.5619, Train Accuracy: 90.23%, Val Loss: 1.6298, Val Accuracy: 83.28%\n",
      "Epoch: 48, Train Loss: 1.5619, Train Accuracy: 90.21%, Val Loss: 1.6303, Val Accuracy: 83.14%\n",
      "Epoch: 49, Train Loss: 1.5606, Train Accuracy: 90.33%, Val Loss: 1.6276, Val Accuracy: 83.60%\n",
      "Epoch: 50, Train Loss: 1.5588, Train Accuracy: 90.57%, Val Loss: 1.6321, Val Accuracy: 82.86%\n",
      "Epoch: 51, Train Loss: 1.5589, Train Accuracy: 90.55%, Val Loss: 1.6271, Val Accuracy: 83.64%\n",
      "Epoch: 52, Train Loss: 1.5572, Train Accuracy: 90.72%, Val Loss: 1.6281, Val Accuracy: 83.20%\n",
      "Epoch: 53, Train Loss: 1.5584, Train Accuracy: 90.52%, Val Loss: 1.6284, Val Accuracy: 83.40%\n",
      "Epoch: 54, Train Loss: 1.5565, Train Accuracy: 90.79%, Val Loss: 1.6284, Val Accuracy: 83.38%\n",
      "Epoch: 55, Train Loss: 1.5559, Train Accuracy: 90.78%, Val Loss: 1.6235, Val Accuracy: 83.94%\n",
      "Epoch: 56, Train Loss: 1.5559, Train Accuracy: 90.78%, Val Loss: 1.6246, Val Accuracy: 83.74%\n",
      "Epoch: 57, Train Loss: 1.5558, Train Accuracy: 90.84%, Val Loss: 1.6272, Val Accuracy: 83.52%\n",
      "Epoch: 58, Train Loss: 1.5540, Train Accuracy: 91.05%, Val Loss: 1.6246, Val Accuracy: 83.82%\n",
      "Epoch: 59, Train Loss: 1.5535, Train Accuracy: 91.04%, Val Loss: 1.6267, Val Accuracy: 83.36%\n",
      "Epoch: 60, Train Loss: 1.5538, Train Accuracy: 91.01%, Val Loss: 1.6285, Val Accuracy: 83.24%\n",
      "Epoch: 61, Train Loss: 1.5522, Train Accuracy: 91.13%, Val Loss: 1.6279, Val Accuracy: 83.32%\n",
      "Epoch: 62, Train Loss: 1.5525, Train Accuracy: 91.15%, Val Loss: 1.6278, Val Accuracy: 83.54%\n",
      "Epoch: 63, Train Loss: 1.5513, Train Accuracy: 91.24%, Val Loss: 1.6259, Val Accuracy: 83.82%\n",
      "Epoch: 64, Train Loss: 1.5511, Train Accuracy: 91.34%, Val Loss: 1.6225, Val Accuracy: 84.24%\n",
      "Epoch: 65, Train Loss: 1.5501, Train Accuracy: 91.43%, Val Loss: 1.6226, Val Accuracy: 84.28%\n",
      "Epoch: 66, Train Loss: 1.5485, Train Accuracy: 91.58%, Val Loss: 1.6268, Val Accuracy: 83.42%\n",
      "Epoch: 67, Train Loss: 1.5475, Train Accuracy: 91.67%, Val Loss: 1.6279, Val Accuracy: 83.30%\n",
      "Epoch: 68, Train Loss: 1.5475, Train Accuracy: 91.65%, Val Loss: 1.6285, Val Accuracy: 83.28%\n",
      "Epoch: 69, Train Loss: 1.5485, Train Accuracy: 91.60%, Val Loss: 1.6278, Val Accuracy: 83.10%\n",
      "Epoch: 70, Train Loss: 1.5472, Train Accuracy: 91.75%, Val Loss: 1.6241, Val Accuracy: 83.90%\n",
      "Epoch: 71, Train Loss: 1.5471, Train Accuracy: 91.70%, Val Loss: 1.6267, Val Accuracy: 83.72%\n",
      "Epoch: 72, Train Loss: 1.5473, Train Accuracy: 91.68%, Val Loss: 1.6246, Val Accuracy: 83.86%\n",
      "Epoch: 73, Train Loss: 1.5458, Train Accuracy: 91.83%, Val Loss: 1.6212, Val Accuracy: 84.08%\n",
      "Epoch: 74, Train Loss: 1.5449, Train Accuracy: 91.96%, Val Loss: 1.6269, Val Accuracy: 83.24%\n",
      "Epoch: 75, Train Loss: 1.5453, Train Accuracy: 91.90%, Val Loss: 1.6262, Val Accuracy: 83.42%\n",
      "Epoch: 76, Train Loss: 1.5453, Train Accuracy: 91.91%, Val Loss: 1.6220, Val Accuracy: 83.90%\n",
      "Epoch: 77, Train Loss: 1.5435, Train Accuracy: 92.11%, Val Loss: 1.6282, Val Accuracy: 83.32%\n",
      "Epoch: 78, Train Loss: 1.5449, Train Accuracy: 91.96%, Val Loss: 1.6278, Val Accuracy: 83.26%\n",
      "Epoch: 79, Train Loss: 1.5439, Train Accuracy: 92.01%, Val Loss: 1.6222, Val Accuracy: 84.06%\n",
      "Epoch: 80, Train Loss: 1.5450, Train Accuracy: 91.93%, Val Loss: 1.6265, Val Accuracy: 83.40%\n",
      "Epoch: 81, Train Loss: 1.5414, Train Accuracy: 92.27%, Val Loss: 1.6210, Val Accuracy: 84.00%\n",
      "Epoch: 82, Train Loss: 1.5413, Train Accuracy: 92.32%, Val Loss: 1.6258, Val Accuracy: 83.68%\n",
      "Epoch: 83, Train Loss: 1.5401, Train Accuracy: 92.48%, Val Loss: 1.6187, Val Accuracy: 84.24%\n",
      "Epoch: 84, Train Loss: 1.5405, Train Accuracy: 92.36%, Val Loss: 1.6228, Val Accuracy: 83.98%\n",
      "Epoch: 85, Train Loss: 1.5409, Train Accuracy: 92.33%, Val Loss: 1.6240, Val Accuracy: 83.62%\n",
      "Epoch: 86, Train Loss: 1.5401, Train Accuracy: 92.39%, Val Loss: 1.6215, Val Accuracy: 83.80%\n",
      "Epoch: 87, Train Loss: 1.5395, Train Accuracy: 92.51%, Val Loss: 1.6220, Val Accuracy: 84.18%\n",
      "Epoch: 88, Train Loss: 1.5384, Train Accuracy: 92.65%, Val Loss: 1.6235, Val Accuracy: 83.86%\n",
      "Epoch: 89, Train Loss: 1.5394, Train Accuracy: 92.49%, Val Loss: 1.6251, Val Accuracy: 83.58%\n",
      "Epoch: 90, Train Loss: 1.5392, Train Accuracy: 92.49%, Val Loss: 1.6246, Val Accuracy: 83.78%\n",
      "Epoch: 91, Train Loss: 1.5399, Train Accuracy: 92.44%, Val Loss: 1.6222, Val Accuracy: 84.12%\n",
      "Epoch: 92, Train Loss: 1.5403, Train Accuracy: 92.44%, Val Loss: 1.6226, Val Accuracy: 83.92%\n",
      "Epoch: 93, Train Loss: 1.5399, Train Accuracy: 92.40%, Val Loss: 1.6214, Val Accuracy: 84.12%\n",
      "Epoch: 94, Train Loss: 1.5398, Train Accuracy: 92.50%, Val Loss: 1.6241, Val Accuracy: 83.74%\n",
      "Epoch: 95, Train Loss: 1.5389, Train Accuracy: 92.59%, Val Loss: 1.6213, Val Accuracy: 84.22%\n",
      "Epoch: 96, Train Loss: 1.5397, Train Accuracy: 92.49%, Val Loss: 1.6160, Val Accuracy: 84.64%\n",
      "Epoch: 97, Train Loss: 1.5391, Train Accuracy: 92.52%, Val Loss: 1.6232, Val Accuracy: 84.24%\n",
      "Epoch: 98, Train Loss: 1.5389, Train Accuracy: 92.55%, Val Loss: 1.6219, Val Accuracy: 84.04%\n",
      "Epoch: 99, Train Loss: 1.5384, Train Accuracy: 92.57%, Val Loss: 1.6234, Val Accuracy: 84.00%\n",
      "Epoch: 100, Train Loss: 1.5381, Train Accuracy: 92.66%, Val Loss: 1.6167, Val Accuracy: 84.56%\n"
     ]
    }
   ],
   "source": [
    "for epoch in range(1, 101):\n",
    "    train_loss, train_accuracy = train(model, device, train_loader, optimizer , criterion)\n",
    "    val_loss, val_accuracy = test(model, device, val_loader , criterion)\n",
    "\n",
    "    train_losses.append(train_loss)\n",
    "    train_accuracies.append(train_accuracy)\n",
    "    val_losses.append(val_loss)\n",
    "    val_accuracies.append(val_accuracy)\n",
    "\n",
    "    if val_accuracy > best_val_accuracy:\n",
    "        best_val_accuracy = val_accuracy\n",
    "        best_model_weights = model.state_dict()\n",
    "\n",
    "    print(f'Epoch: {epoch}, Train Loss: {train_loss:.4f}, Train Accuracy: {train_accuracy:.2f}%, Val Loss: {val_loss:.4f}, Val Accuracy: {val_accuracy:.2f}%')\n",
    "    scheduler.step()"
   ]
  },
  {
   "cell_type": "code",
   "execution_count": 10,
   "metadata": {
    "colab": {
     "base_uri": "https://localhost:8080/",
     "height": 522
    },
    "id": "Hj3juhQ1IYxO",
    "outputId": "64058bc6-eb0f-4da8-f120-765da7e9807d"
   },
   "outputs": [
    {
     "data": {
      "image/png": "[encoded data removed]",
      "text/plain": [
       "<Figure size 1200x500 with 2 Axes>"
      ]
     },
     "metadata": {},
     "output_type": "display_data"
    },
    {
     "name": "stdout",
     "output_type": "stream",
     "text": [
      "Best Validation Accuracy: 84.64%\n",
      "Test Accuracy of the final model: 85.67%\n"
     ]
    }
   ],
   "source": [
    "# Load best model weights and evaluate on test set\n",
    "model.load_state_dict(best_model_weights)\n",
    "test_loss, test_accuracy = test(model, device, test_loader , criterion)\n",
    "\n",
    "# Plotting training and validation loss and accuracy\n",
    "plt.figure(figsize=(12, 5))\n",
    "\n",
    "plt.subplot(1, 2, 1)\n",
    "plt.plot(train_losses, label='Train Loss')\n",
    "plt.plot(val_losses, label='Validation Loss')\n",
    "plt.title('Training and Validation Loss')\n",
    "plt.xlabel('Epochs')\n",
    "plt.ylabel('Loss')\n",
    "plt.legend()\n",
    "\n",
    "plt.subplot(1, 2, 2)\n",
    "plt.plot(train_accuracies, label='Train Accuracy')\n",
    "plt.plot(val_accuracies, label='Validation Accuracy')\n",
    "plt.title('Training and Validation Accuracy')\n",
    "plt.xlabel('Epochs')\n",
    "plt.ylabel('Accuracy (%)')\n",
    "plt.legend()\n",
    "\n",
    "plt.show()\n",
    "\n",
    "# Print best validation accuracy and test accuracy\n",
    "print(f'Best Validation Accuracy: {best_val_accuracy:.2f}%')\n",
    "print(f'Test Accuracy of the final model: {test_accuracy:.2f}%')\n",
    "\n",
    "# Save best model weights\n",
    "torch.save(best_model_weights, 'best_custom_resnet_weights_BN.pth')"
   ]
  },
  {
   "cell_type": "markdown",
   "metadata": {
    "id": "UO5dnC5YeJrh",
    "tags": []
   },
   "source": [
    "# Layer Wise analyse , Part A"
   ]
  },
  {
   "cell_type": "code",
   "execution_count": null,
   "metadata": {
    "colab": {
     "base_uri": "https://localhost:8080/"
    },
    "id": "pgoYCnwadXJV",
    "outputId": "4da311d0-2330-4cd8-84f2-cf71582117b0",
    "tags": []
   },
   "outputs": [],
   "source": [
    "# download Pretrained Weight of model\n",
    "import gdown\n",
    "id = \"1mj8hmMaKlgtabkbcj6LIhq7AbRxPiGVE\"\n",
    "gdown.download(id=id, quiet=False)"
   ]
  },
  {
   "cell_type": "code",
   "execution_count": null,
   "metadata": {
    "tags": []
   },
   "outputs": [],
   "source": [
    "!git clone https://github.com/Arhosseini77/data_complexity_measures"
   ]
  },
  {
   "cell_type": "code",
   "execution_count": 2,
   "metadata": {
    "tags": []
   },
   "outputs": [],
   "source": [
    "from data_complexity_measures.models.ARH_SeparationIndex import ARH_SeparationIndex"
   ]
  },
  {
   "cell_type": "code",
   "execution_count": 3,
   "metadata": {
    "id": "STuVWv9ghSOY",
    "tags": []
   },
   "outputs": [],
   "source": [
    "class CustomResNetBlock(nn.Module):\n",
    "    def __init__(self, in_channels, out_channels):\n",
    "        super(CustomResNetBlock, self).__init__()\n",
    "        self.conv1 = nn.Conv2d(in_channels, out_channels, kernel_size=3, padding=1)\n",
    "        self.bn1 = nn.BatchNorm2d(out_channels)  # Batch Normalization after Convolution\n",
    "        self.elu = nn.ELU()\n",
    "        self.conv2 = nn.Conv2d(out_channels, out_channels, kernel_size=3, padding=1)\n",
    "        self.bn2 = nn.BatchNorm2d(out_channels)  # Batch Normalization after Convolution\n",
    "\n",
    "    def forward(self, x):\n",
    "        shortcut = x\n",
    "        x = self.conv1(x)\n",
    "        x = self.bn1(x)  # Apply Batch Normalization\n",
    "        x = self.elu(x)\n",
    "        x = self.conv2(x)\n",
    "        x = self.bn2(x)  # Apply Batch Normalization\n",
    "        x += shortcut\n",
    "        x = self.elu(x)\n",
    "        return x\n",
    "\n",
    "class CustomResNet_BN(nn.Module):\n",
    "    def __init__(self):\n",
    "        super(CustomResNet_BN, self).__init__()\n",
    "        # Initial convolutional layers\n",
    "        self.conv1 = nn.Conv2d(3, 32, kernel_size=3, padding=1)\n",
    "        self.bn1 = nn.BatchNorm2d(32)  # Batch Normalization\n",
    "        self.elu1 = nn.ELU()\n",
    "        self.conv2 = nn.Conv2d(32, 64, kernel_size=3, padding=1)\n",
    "        self.bn2 = nn.BatchNorm2d(64)  # Batch Normalization\n",
    "        self.elu2 = nn.ELU()\n",
    "        self.maxpool1 = nn.MaxPool2d(kernel_size=2)\n",
    "        \n",
    "        # Residual blocks\n",
    "        self.resblock1 = CustomResNetBlock(64, 64)\n",
    "        self.maxpool2 = nn.MaxPool2d(kernel_size=2)\n",
    "        self.conv3 = nn.Conv2d(64, 128, kernel_size=3, padding=1)\n",
    "        self.bn3 = nn.BatchNorm2d(128)  # Batch Normalization\n",
    "        self.elu3 = nn.ELU()\n",
    "        self.maxpool3 = nn.MaxPool2d(kernel_size=2)\n",
    "        self.conv4 = nn.Conv2d(128, 256, kernel_size=3, padding=1)\n",
    "        self.bn4 = nn.BatchNorm2d(256)  # Batch Normalization\n",
    "        self.elu4 = nn.ELU()\n",
    "        self.resblock2 = CustomResNetBlock(256, 256)\n",
    "        \n",
    "        # Average pooling and fully connected layers\n",
    "        self.avgpool = nn.AvgPool2d(kernel_size=3, stride=2)\n",
    "        self.flatten = nn.Flatten()\n",
    "        self.fc1 = nn.Linear(256, 256)\n",
    "        self.fc2 = nn.Linear(256, 10)\n",
    "        self.softmax = nn.Softmax(dim=1)\n",
    "\n",
    "    def forward(self, x):\n",
    "        x = self.conv1(x)\n",
    "        x = self.bn1(x)  # Apply Batch Normalization\n",
    "        x = self.elu1(x)\n",
    "        x = self.conv2(x)\n",
    "        x = self.bn2(x)  # Apply Batch Normalization\n",
    "        x = self.elu2(x)\n",
    "        x = self.maxpool1(x)\n",
    "        \n",
    "        x = self.resblock1(x)\n",
    "        x = self.conv3(x)\n",
    "        x = self.bn3(x)  # Apply Batch Normalization\n",
    "        x = self.elu3(x)\n",
    "        x = self.maxpool2(x)\n",
    "        \n",
    "        x = self.conv4(x)\n",
    "        x = self.bn4(x)  # Apply Batch Normalization\n",
    "        x = self.elu4(x)\n",
    "        x = self.maxpool3(x)\n",
    "        x = self.resblock2(x)\n",
    "        x = self.avgpool(x)\n",
    "        x = self.flatten(x)\n",
    "        x = self.fc1(x)\n",
    "        x = self.fc2(x)\n",
    "        x = self.softmax(x)\n",
    "        return x"
   ]
  },
  {
   "cell_type": "code",
   "execution_count": 4,
   "metadata": {
    "id": "6kKwYvvhhhNQ",
    "tags": []
   },
   "outputs": [],
   "source": [
    "# Data augmentation and normalization\n",
    "transform_train = transforms.Compose([\n",
    "    transforms.ToTensor(),\n",
    "    transforms.Normalize((0.5, 0.5, 0.5), (0.5, 0.5, 0.5))\n",
    "])\n",
    "\n",
    "\n",
    "transform_test = transforms.Compose([\n",
    "    transforms.ToTensor(),\n",
    "    transforms.Normalize((0.5, 0.5, 0.5), (0.5, 0.5, 0.5))\n",
    "])"
   ]
  },
  {
   "cell_type": "code",
   "execution_count": 5,
   "metadata": {
    "colab": {
     "base_uri": "https://localhost:8080/"
    },
    "id": "lneeXtXehoLZ",
    "outputId": "4526402a-644d-4493-923e-830495c2adbb",
    "tags": []
   },
   "outputs": [
    {
     "name": "stdout",
     "output_type": "stream",
     "text": [
      "Files already downloaded and verified\n",
      "Files already downloaded and verified\n"
     ]
    }
   ],
   "source": [
    "# Load CIFAR-10 dataset\n",
    "train_dataset = datasets.CIFAR10(root='./data', train=True, download=True, transform=transform_train)\n",
    "test_dataset = datasets.CIFAR10(root='./data', train=False, download=True, transform=transform_test)\n",
    "\n",
    "# Splitting train dataset into train and validation sets\n",
    "train_size = int(0.9 * len(train_dataset))\n",
    "val_size = len(train_dataset) - train_size\n",
    "train_dataset, val_dataset = random_split(train_dataset, [train_size, val_size])\n",
    "\n",
    "\n",
    "# Further split train_dataset into train_loader_dataset and 20% balanced subset\n",
    "train_loader_dataset, _ = train_test_split(train_dataset.dataset, train_size=int(0.2 * len(train_dataset)),\n",
    "                                           test_size=None, shuffle=True, stratify=train_dataset.dataset.targets)\n",
    "\n",
    "# Data loaders\n",
    "train_loader = DataLoader(train_loader_dataset, batch_size=256, shuffle=True)\n",
    "val_loader = DataLoader(val_dataset, batch_size=256, shuffle=False)\n",
    "test_loader = DataLoader(test_dataset, batch_size=256, shuffle=False)"
   ]
  },
  {
   "cell_type": "code",
   "execution_count": 6,
   "metadata": {
    "colab": {
     "base_uri": "https://localhost:8080/"
    },
    "id": "WFG4opk2eWf5",
    "outputId": "d817a8a2-c740-40e3-d735-83623355e512",
    "tags": []
   },
   "outputs": [
    {
     "data": {
      "text/plain": [
       "CustomResNet_BN(\n",
       "  (conv1): Conv2d(3, 32, kernel_size=(3, 3), stride=(1, 1), padding=(1, 1))\n",
       "  (bn1): BatchNorm2d(32, eps=1e-05, momentum=0.1, affine=True, track_running_stats=True)\n",
       "  (elu1): ELU(alpha=1.0)\n",
       "  (conv2): Conv2d(32, 64, kernel_size=(3, 3), stride=(1, 1), padding=(1, 1))\n",
       "  (bn2): BatchNorm2d(64, eps=1e-05, momentum=0.1, affine=True, track_running_stats=True)\n",
       "  (elu2): ELU(alpha=1.0)\n",
       "  (maxpool1): MaxPool2d(kernel_size=2, stride=2, padding=0, dilation=1, ceil_mode=False)\n",
       "  (resblock1): CustomResNetBlock(\n",
       "    (conv1): Conv2d(64, 64, kernel_size=(3, 3), stride=(1, 1), padding=(1, 1))\n",
       "    (bn1): BatchNorm2d(64, eps=1e-05, momentum=0.1, affine=True, track_running_stats=True)\n",
       "    (elu): ELU(alpha=1.0)\n",
       "    (conv2): Conv2d(64, 64, kernel_size=(3, 3), stride=(1, 1), padding=(1, 1))\n",
       "    (bn2): BatchNorm2d(64, eps=1e-05, momentum=0.1, affine=True, track_running_stats=True)\n",
       "  )\n",
       "  (maxpool2): MaxPool2d(kernel_size=2, stride=2, padding=0, dilation=1, ceil_mode=False)\n",
       "  (conv3): Conv2d(64, 128, kernel_size=(3, 3), stride=(1, 1), padding=(1, 1))\n",
       "  (bn3): BatchNorm2d(128, eps=1e-05, momentum=0.1, affine=True, track_running_stats=True)\n",
       "  (elu3): ELU(alpha=1.0)\n",
       "  (maxpool3): MaxPool2d(kernel_size=2, stride=2, padding=0, dilation=1, ceil_mode=False)\n",
       "  (conv4): Conv2d(128, 256, kernel_size=(3, 3), stride=(1, 1), padding=(1, 1))\n",
       "  (bn4): BatchNorm2d(256, eps=1e-05, momentum=0.1, affine=True, track_running_stats=True)\n",
       "  (elu4): ELU(alpha=1.0)\n",
       "  (resblock2): CustomResNetBlock(\n",
       "    (conv1): Conv2d(256, 256, kernel_size=(3, 3), stride=(1, 1), padding=(1, 1))\n",
       "    (bn1): BatchNorm2d(256, eps=1e-05, momentum=0.1, affine=True, track_running_stats=True)\n",
       "    (elu): ELU(alpha=1.0)\n",
       "    (conv2): Conv2d(256, 256, kernel_size=(3, 3), stride=(1, 1), padding=(1, 1))\n",
       "    (bn2): BatchNorm2d(256, eps=1e-05, momentum=0.1, affine=True, track_running_stats=True)\n",
       "  )\n",
       "  (avgpool): AvgPool2d(kernel_size=3, stride=2, padding=0)\n",
       "  (flatten): Flatten(start_dim=1, end_dim=-1)\n",
       "  (fc1): Linear(in_features=256, out_features=256, bias=True)\n",
       "  (fc2): Linear(in_features=256, out_features=10, bias=True)\n",
       "  (softmax): Softmax(dim=1)\n",
       ")"
      ]
     },
     "execution_count": 6,
     "metadata": {},
     "output_type": "execute_result"
    }
   ],
   "source": [
    "# Instantiate and load the model\n",
    "model = CustomResNet_BN()  # Make sure CustomResNet is defined as earlier\n",
    "model.load_state_dict(torch.load('best_custom_resnet_weights_BN.pth'))\n",
    "model.to('cuda:1' if torch.cuda.is_available() else 'cpu')\n",
    "model.eval()"
   ]
  },
  {
   "cell_type": "code",
   "execution_count": 7,
   "metadata": {
    "id": "PA5qBhO5gJYQ",
    "tags": []
   },
   "outputs": [],
   "source": [
    "# Prepare storage for outputs and labels\n",
    "features_per_layer = {}\n",
    "labels_list = []\n",
    "\n",
    "# Define layers to exclude\n",
    "exclude_layers = {'match_conv1', 'match_conv2', 'match_conv3', 'fc1', 'fc2'}\n",
    "\n",
    "# Function to attach hooks\n",
    "def get_layer_outputs(layer_name):\n",
    "    def hook(module, input, output):\n",
    "        features_per_layer[layer_name].append(output.detach())\n",
    "    return hook\n",
    "\n",
    "# Attach hooks to each layer except the excluded ones\n",
    "for name, layer in model.named_children():\n",
    "    if name not in exclude_layers:\n",
    "        features_per_layer[name] = []\n",
    "        layer.register_forward_hook(get_layer_outputs(name))"
   ]
  },
  {
   "cell_type": "markdown",
   "metadata": {
    "jp-MarkdownHeadingCollapsed": true,
    "tags": []
   },
   "source": [
    "## SI and CenterSI layer for Train Loader"
   ]
  },
  {
   "cell_type": "code",
   "execution_count": 18,
   "metadata": {},
   "outputs": [
    {
     "name": "stderr",
     "output_type": "stream",
     "text": [
      "100%|██████████| 36/36 [00:00<00:00, 94.02it/s] \n"
     ]
    }
   ],
   "source": [
    "# Pass data through the model and collect layer outputs\n",
    "with torch.no_grad():\n",
    "    for inputs, targets in tqdm(train_loader): \n",
    "        inputs = inputs.to('cuda:1' if torch.cuda.is_available() else 'cpu')\n",
    "\n",
    "        # Trigger the hooks and collect layer outputs\n",
    "        model(inputs)\n",
    "        labels_list.append(targets.cpu())\n",
    "\n",
    "        # Clear CUDA cache after processing each batch\n",
    "        if torch.cuda.is_available():\n",
    "            torch.cuda.empty_cache()\n",
    "\n",
    "# Post-process the data: Flatten and concatenate\n",
    "for layer_name, layer_features in features_per_layer.items():\n",
    "    if layer_features:  # Check if layer_features is not empty\n",
    "        features_per_layer[layer_name] = torch.cat([f.view(f.size(0), -1) for f in layer_features])\n",
    "    else:\n",
    "        print(f\"No features captured for layer {layer_name}\")\n",
    "\n",
    "# Concatenate the labels\n",
    "labels = torch.cat(labels_list)"
   ]
  },
  {
   "cell_type": "markdown",
   "metadata": {},
   "source": [
    "### Calc SI"
   ]
  },
  {
   "cell_type": "code",
   "execution_count": 19,
   "metadata": {},
   "outputs": [
    {
     "name": "stdout",
     "output_type": "stream",
     "text": [
      "Data has been normalized\n"
     ]
    },
    {
     "name": "stderr",
     "output_type": "stream",
     "text": [
      "Calculating SI: 100%|██████████| 5/5 [00:00<00:00, 376.10it/s]\n"
     ]
    },
    {
     "name": "stdout",
     "output_type": "stream",
     "text": [
      "Data has been normalized\n"
     ]
    },
    {
     "name": "stderr",
     "output_type": "stream",
     "text": [
      "Calculating SI: 100%|██████████| 5/5 [00:00<00:00, 7342.97it/s]\n"
     ]
    },
    {
     "name": "stdout",
     "output_type": "stream",
     "text": [
      "Data has been normalized\n"
     ]
    },
    {
     "name": "stderr",
     "output_type": "stream",
     "text": [
      "Calculating SI: 100%|██████████| 5/5 [00:00<00:00, 7111.40it/s]\n"
     ]
    },
    {
     "name": "stdout",
     "output_type": "stream",
     "text": [
      "Data has been normalized\n"
     ]
    },
    {
     "name": "stderr",
     "output_type": "stream",
     "text": [
      "Calculating SI: 100%|██████████| 5/5 [00:00<00:00, 7279.25it/s]\n"
     ]
    },
    {
     "name": "stdout",
     "output_type": "stream",
     "text": [
      "Data has been normalized\n"
     ]
    },
    {
     "name": "stderr",
     "output_type": "stream",
     "text": [
      "Calculating SI: 100%|██████████| 5/5 [00:00<00:00, 7289.37it/s]\n"
     ]
    },
    {
     "name": "stdout",
     "output_type": "stream",
     "text": [
      "Data has been normalized\n"
     ]
    },
    {
     "name": "stderr",
     "output_type": "stream",
     "text": [
      "Calculating SI: 100%|██████████| 5/5 [00:00<00:00, 7651.05it/s]\n"
     ]
    },
    {
     "name": "stdout",
     "output_type": "stream",
     "text": [
      "Data has been normalized\n"
     ]
    },
    {
     "name": "stderr",
     "output_type": "stream",
     "text": [
      "Calculating SI: 100%|██████████| 5/5 [00:00<00:00, 7460.52it/s]\n"
     ]
    },
    {
     "name": "stdout",
     "output_type": "stream",
     "text": [
      "Data has been normalized\n"
     ]
    },
    {
     "name": "stderr",
     "output_type": "stream",
     "text": [
      "Calculating SI: 100%|██████████| 5/5 [00:00<00:00, 7219.11it/s]\n"
     ]
    },
    {
     "name": "stdout",
     "output_type": "stream",
     "text": [
      "Data has been normalized\n"
     ]
    },
    {
     "name": "stderr",
     "output_type": "stream",
     "text": [
      "Calculating SI: 100%|██████████| 5/5 [00:00<00:00, 7484.48it/s]\n"
     ]
    },
    {
     "name": "stdout",
     "output_type": "stream",
     "text": [
      "Data has been normalized\n"
     ]
    },
    {
     "name": "stderr",
     "output_type": "stream",
     "text": [
      "Calculating SI: 100%|██████████| 5/5 [00:00<00:00, 7609.40it/s]\n"
     ]
    },
    {
     "name": "stdout",
     "output_type": "stream",
     "text": [
      "Data has been normalized\n"
     ]
    },
    {
     "name": "stderr",
     "output_type": "stream",
     "text": [
      "Calculating SI: 100%|██████████| 5/5 [00:00<00:00, 7659.43it/s]\n"
     ]
    },
    {
     "name": "stdout",
     "output_type": "stream",
     "text": [
      "Data has been normalized\n"
     ]
    },
    {
     "name": "stderr",
     "output_type": "stream",
     "text": [
      "Calculating SI: 100%|██████████| 5/5 [00:00<00:00, 7505.91it/s]\n"
     ]
    },
    {
     "name": "stdout",
     "output_type": "stream",
     "text": [
      "Data has been normalized\n"
     ]
    },
    {
     "name": "stderr",
     "output_type": "stream",
     "text": [
      "Calculating SI: 100%|██████████| 5/5 [00:00<00:00, 7065.88it/s]\n"
     ]
    },
    {
     "name": "stdout",
     "output_type": "stream",
     "text": [
      "Data has been normalized\n"
     ]
    },
    {
     "name": "stderr",
     "output_type": "stream",
     "text": [
      "Calculating SI: 100%|██████████| 5/5 [00:00<00:00, 8022.77it/s]\n"
     ]
    },
    {
     "name": "stdout",
     "output_type": "stream",
     "text": [
      "Data has been normalized\n"
     ]
    },
    {
     "name": "stderr",
     "output_type": "stream",
     "text": [
      "Calculating SI: 100%|██████████| 5/5 [00:00<00:00, 7254.07it/s]\n"
     ]
    },
    {
     "name": "stdout",
     "output_type": "stream",
     "text": [
      "Data has been normalized\n"
     ]
    },
    {
     "name": "stderr",
     "output_type": "stream",
     "text": [
      "Calculating SI: 100%|██████████| 5/5 [00:00<00:00, 7051.62it/s]\n"
     ]
    },
    {
     "name": "stdout",
     "output_type": "stream",
     "text": [
      "Data has been normalized\n"
     ]
    },
    {
     "name": "stderr",
     "output_type": "stream",
     "text": [
      "Calculating SI: 100%|██████████| 5/5 [00:00<00:00, 7121.06it/s]\n"
     ]
    },
    {
     "name": "stdout",
     "output_type": "stream",
     "text": [
      "Data has been normalized\n"
     ]
    },
    {
     "name": "stderr",
     "output_type": "stream",
     "text": [
      "Calculating SI: 100%|██████████| 5/5 [00:00<00:00, 6468.70it/s]\n"
     ]
    },
    {
     "name": "stdout",
     "output_type": "stream",
     "text": [
      "Data has been normalized\n"
     ]
    },
    {
     "name": "stderr",
     "output_type": "stream",
     "text": [
      "Calculating SI: 100%|██████████| 5/5 [00:00<00:00, 6239.67it/s]\n"
     ]
    },
    {
     "name": "stdout",
     "output_type": "stream",
     "text": [
      "Data has been normalized\n"
     ]
    },
    {
     "name": "stderr",
     "output_type": "stream",
     "text": [
      "Calculating SI: 100%|██████████| 5/5 [00:00<00:00, 6967.28it/s]\n"
     ]
    }
   ],
   "source": [
    "si_layer_train = []\n",
    "\n",
    "# Iterate through each layer's features in the dictionary\n",
    "for layer_name, features in features_per_layer.items():\n",
    "    instance_disturbance = ARH_SeparationIndex(features, labels, normalize=True)\n",
    "    si = instance_disturbance.si_batch(batch_size=2000)\n",
    "    si_layer_train.append((layer_name, si))"
   ]
  },
  {
   "cell_type": "code",
   "execution_count": 20,
   "metadata": {},
   "outputs": [
    {
     "data": {
      "text/plain": [
       "[('conv1', 0.21122223138809204),\n",
       " ('bn1', 0.21122223138809204),\n",
       " ('elu1', 0.2118888944387436),\n",
       " ('conv2', 0.19733333587646484),\n",
       " ('bn2', 0.19733333587646484),\n",
       " ('elu2', 0.1940000057220459),\n",
       " ('maxpool1', 0.2935555577278137),\n",
       " ('resblock1', 0.38499999046325684),\n",
       " ('maxpool2', 0.4633333384990692),\n",
       " ('conv3', 0.4055555462837219),\n",
       " ('bn3', 0.4055555462837219),\n",
       " ('elu3', 0.4082222282886505),\n",
       " ('maxpool3', 0.6155555844306946),\n",
       " ('conv4', 0.5605555772781372),\n",
       " ('bn4', 0.5605555772781372),\n",
       " ('elu4', 0.5789999961853027),\n",
       " ('resblock2', 0.8117777705192566),\n",
       " ('avgpool', 0.8797777891159058),\n",
       " ('flatten', 0.8797777891159058),\n",
       " ('softmax', 0.9045555591583252)]"
      ]
     },
     "execution_count": 20,
     "metadata": {},
     "output_type": "execute_result"
    }
   ],
   "source": [
    "si_layer_train"
   ]
  },
  {
   "cell_type": "code",
   "execution_count": 21,
   "metadata": {},
   "outputs": [
    {
     "data": {
      "image/png": "[encoded data removed]",
      "text/plain": [
       "<Figure size 640x480 with 1 Axes>"
      ]
     },
     "metadata": {},
     "output_type": "display_data"
    }
   ],
   "source": [
    "# Plotting SI versus layer using a line plot\n",
    "plt.plot([layer for layer, _ in si_layer_train], [si for _, si in si_layer_train])\n",
    "plt.xlabel('Layer')\n",
    "plt.ylabel('SI')\n",
    "plt.title('Separation Index (SI) vs Layer - BN - Train')\n",
    "plt.xticks(rotation=45)\n",
    "plt.grid(True)\n",
    "plt.show()"
   ]
  },
  {
   "cell_type": "markdown",
   "metadata": {},
   "source": [
    "### Calc Center Si"
   ]
  },
  {
   "cell_type": "code",
   "execution_count": 22,
   "metadata": {},
   "outputs": [
    {
     "name": "stdout",
     "output_type": "stream",
     "text": [
      "Data has been normalized\n"
     ]
    },
    {
     "name": "stderr",
     "output_type": "stream",
     "text": [
      "Calculating CSI: 100%|██████████| 5/5 [00:00<00:00, 878.54it/s]\n"
     ]
    },
    {
     "name": "stdout",
     "output_type": "stream",
     "text": [
      "Data has been normalized\n"
     ]
    },
    {
     "name": "stderr",
     "output_type": "stream",
     "text": [
      "Calculating CSI: 100%|██████████| 5/5 [00:00<00:00, 4196.82it/s]\n"
     ]
    },
    {
     "name": "stdout",
     "output_type": "stream",
     "text": [
      "Data has been normalized\n"
     ]
    },
    {
     "name": "stderr",
     "output_type": "stream",
     "text": [
      "Calculating CSI: 100%|██████████| 5/5 [00:00<00:00, 4190.11it/s]\n"
     ]
    },
    {
     "name": "stdout",
     "output_type": "stream",
     "text": [
      "Data has been normalized\n"
     ]
    },
    {
     "name": "stderr",
     "output_type": "stream",
     "text": [
      "Calculating CSI: 100%|██████████| 5/5 [00:00<00:00, 4113.68it/s]\n"
     ]
    },
    {
     "name": "stdout",
     "output_type": "stream",
     "text": [
      "Data has been normalized\n"
     ]
    },
    {
     "name": "stderr",
     "output_type": "stream",
     "text": [
      "Calculating CSI: 100%|██████████| 5/5 [00:00<00:00, 4326.70it/s]\n"
     ]
    },
    {
     "name": "stdout",
     "output_type": "stream",
     "text": [
      "Data has been normalized\n"
     ]
    },
    {
     "name": "stderr",
     "output_type": "stream",
     "text": [
      "Calculating CSI: 100%|██████████| 5/5 [00:00<00:00, 4429.04it/s]\n"
     ]
    },
    {
     "name": "stdout",
     "output_type": "stream",
     "text": [
      "Data has been normalized\n"
     ]
    },
    {
     "name": "stderr",
     "output_type": "stream",
     "text": [
      "Calculating CSI: 100%|██████████| 5/5 [00:00<00:00, 3066.46it/s]\n"
     ]
    },
    {
     "name": "stdout",
     "output_type": "stream",
     "text": [
      "Data has been normalized\n"
     ]
    },
    {
     "name": "stderr",
     "output_type": "stream",
     "text": [
      "Calculating CSI: 100%|██████████| 5/5 [00:00<00:00, 3090.87it/s]\n"
     ]
    },
    {
     "name": "stdout",
     "output_type": "stream",
     "text": [
      "Data has been normalized\n"
     ]
    },
    {
     "name": "stderr",
     "output_type": "stream",
     "text": [
      "Calculating CSI: 100%|██████████| 5/5 [00:00<00:00, 3767.11it/s]\n"
     ]
    },
    {
     "name": "stdout",
     "output_type": "stream",
     "text": [
      "Data has been normalized\n"
     ]
    },
    {
     "name": "stderr",
     "output_type": "stream",
     "text": [
      "Calculating CSI: 100%|██████████| 5/5 [00:00<00:00, 4324.92it/s]\n"
     ]
    },
    {
     "name": "stdout",
     "output_type": "stream",
     "text": [
      "Data has been normalized\n"
     ]
    },
    {
     "name": "stderr",
     "output_type": "stream",
     "text": [
      "Calculating CSI: 100%|██████████| 5/5 [00:00<00:00, 4366.34it/s]\n"
     ]
    },
    {
     "name": "stdout",
     "output_type": "stream",
     "text": [
      "Data has been normalized\n"
     ]
    },
    {
     "name": "stderr",
     "output_type": "stream",
     "text": [
      "Calculating CSI: 100%|██████████| 5/5 [00:00<00:00, 4803.37it/s]\n"
     ]
    },
    {
     "name": "stdout",
     "output_type": "stream",
     "text": [
      "Data has been normalized\n"
     ]
    },
    {
     "name": "stderr",
     "output_type": "stream",
     "text": [
      "Calculating CSI: 100%|██████████| 5/5 [00:00<00:00, 4096.00it/s]\n"
     ]
    },
    {
     "name": "stdout",
     "output_type": "stream",
     "text": [
      "Data has been normalized\n"
     ]
    },
    {
     "name": "stderr",
     "output_type": "stream",
     "text": [
      "Calculating CSI: 100%|██████████| 5/5 [00:00<00:00, 3481.33it/s]\n"
     ]
    },
    {
     "name": "stdout",
     "output_type": "stream",
     "text": [
      "Data has been normalized\n"
     ]
    },
    {
     "name": "stderr",
     "output_type": "stream",
     "text": [
      "Calculating CSI: 100%|██████████| 5/5 [00:00<00:00, 3313.56it/s]\n"
     ]
    },
    {
     "name": "stdout",
     "output_type": "stream",
     "text": [
      "Data has been normalized\n"
     ]
    },
    {
     "name": "stderr",
     "output_type": "stream",
     "text": [
      "Calculating CSI: 100%|██████████| 5/5 [00:00<00:00, 3132.42it/s]\n"
     ]
    },
    {
     "name": "stdout",
     "output_type": "stream",
     "text": [
      "Data has been normalized\n"
     ]
    },
    {
     "name": "stderr",
     "output_type": "stream",
     "text": [
      "Calculating CSI: 100%|██████████| 5/5 [00:00<00:00, 4064.25it/s]\n"
     ]
    },
    {
     "name": "stdout",
     "output_type": "stream",
     "text": [
      "Data has been normalized\n"
     ]
    },
    {
     "name": "stderr",
     "output_type": "stream",
     "text": [
      "Calculating CSI: 100%|██████████| 5/5 [00:00<00:00, 2177.28it/s]\n"
     ]
    },
    {
     "name": "stdout",
     "output_type": "stream",
     "text": [
      "Data has been normalized\n"
     ]
    },
    {
     "name": "stderr",
     "output_type": "stream",
     "text": [
      "Calculating CSI: 100%|██████████| 5/5 [00:00<00:00, 2947.09it/s]\n"
     ]
    },
    {
     "name": "stdout",
     "output_type": "stream",
     "text": [
      "Data has been normalized\n"
     ]
    },
    {
     "name": "stderr",
     "output_type": "stream",
     "text": [
      "Calculating CSI: 100%|██████████| 5/5 [00:00<00:00, 4071.35it/s]\n"
     ]
    }
   ],
   "source": [
    "csi_layer_train = []\n",
    "\n",
    "# Iterate through each layer's features in the dictionary\n",
    "for layer_name, features in features_per_layer.items():\n",
    "    instance_disturbance = ARH_SeparationIndex(features, labels, normalize=True)\n",
    "    csi = instance_disturbance.center_si_batch(batch_size=2000)\n",
    "    csi_layer_train.append((layer_name, csi))"
   ]
  },
  {
   "cell_type": "code",
   "execution_count": 24,
   "metadata": {},
   "outputs": [
    {
     "name": "stdout",
     "output_type": "stream",
     "text": [
      "[('conv1', 0.34744444489479065), ('bn1', 0.34744444489479065), ('elu1', 0.362888902425766), ('conv2', 0.3723333477973938), ('bn2', 0.3723333477973938), ('elu2', 0.3807777762413025), ('maxpool1', 0.4485555589199066), ('resblock1', 0.5762222409248352), ('maxpool2', 0.6091111302375793), ('conv3', 0.5784444212913513), ('bn3', 0.5784444212913513), ('elu3', 0.5823333263397217), ('maxpool3', 0.6503333449363708), ('conv4', 0.6148889064788818), ('bn4', 0.6148889064788818), ('elu4', 0.6196666955947876), ('resblock2', 0.9001111388206482), ('avgpool', 0.9227777719497681), ('flatten', 0.9227777719497681), ('softmax', 0.9319999814033508)]\n"
     ]
    },
    {
     "data": {
      "image/png": "[encoded data removed]",
      "text/plain": [
       "<Figure size 640x480 with 1 Axes>"
      ]
     },
     "metadata": {},
     "output_type": "display_data"
    }
   ],
   "source": [
    "print(csi_layer_train)\n",
    "\n",
    "\n",
    "# Plotting SI versus layer using a line plot\n",
    "plt.plot([layer for layer, _ in csi_layer_train], [si for _, si in csi_layer_train])\n",
    "plt.xlabel('Layer')\n",
    "plt.ylabel('SI')\n",
    "plt.title('Center Separation Index (CSI) vs Layer - BN - Train')\n",
    "plt.xticks(rotation=45)\n",
    "plt.grid(True)\n",
    "plt.show()"
   ]
  },
  {
   "cell_type": "markdown",
   "metadata": {
    "id": "HhIUjcIHghek",
    "jp-MarkdownHeadingCollapsed": true,
    "tags": []
   },
   "source": [
    "## SI and CenterSI layer for Val Loader"
   ]
  },
  {
   "cell_type": "code",
   "execution_count": 8,
   "metadata": {
    "colab": {
     "base_uri": "https://localhost:8080/",
     "height": 462
    },
    "id": "1UOKD6TAgMzC",
    "outputId": "4cbf6701-ba3b-44d7-cd10-eb5253bf8f41",
    "tags": []
   },
   "outputs": [
    {
     "name": "stderr",
     "output_type": "stream",
     "text": [
      "100%|██████████| 20/20 [00:00<00:00, 22.98it/s]\n"
     ]
    }
   ],
   "source": [
    "# Pass data through the model and collect layer outputs\n",
    "with torch.no_grad():\n",
    "    for inputs, targets in tqdm(val_loader): \n",
    "        inputs = inputs.to('cuda:1' if torch.cuda.is_available() else 'cpu')\n",
    "\n",
    "        # Trigger the hooks and collect layer outputs\n",
    "        model(inputs)\n",
    "        labels_list.append(targets.cpu())\n",
    "\n",
    "        # Clear CUDA cache after processing each batch\n",
    "        if torch.cuda.is_available():\n",
    "            torch.cuda.empty_cache()\n",
    "\n",
    "# Post-process the data: Flatten and concatenate\n",
    "for layer_name, layer_features in features_per_layer.items():\n",
    "    if layer_features:  # Check if layer_features is not empty\n",
    "        # Flatten and concatenate the features for each layer\n",
    "        features_per_layer[layer_name] = torch.cat([f.view(f.size(0), -1) for f in layer_features])\n",
    "    else:\n",
    "        print(f\"No features captured for layer {layer_name}\")\n",
    "\n",
    "# Concatenate the labels\n",
    "labels = torch.cat(labels_list)"
   ]
  },
  {
   "cell_type": "markdown",
   "metadata": {},
   "source": [
    "### Calc SI"
   ]
  },
  {
   "cell_type": "code",
   "execution_count": 9,
   "metadata": {
    "id": "IvZxHioygQI6",
    "tags": []
   },
   "outputs": [
    {
     "name": "stdout",
     "output_type": "stream",
     "text": [
      "Data has been normalized\n"
     ]
    },
    {
     "name": "stderr",
     "output_type": "stream",
     "text": [
      "Calculating SI: 100%|██████████| 3/3 [00:00<00:00, 223.11it/s]\n"
     ]
    },
    {
     "name": "stdout",
     "output_type": "stream",
     "text": [
      "Data has been normalized\n"
     ]
    },
    {
     "name": "stderr",
     "output_type": "stream",
     "text": [
      "Calculating SI: 100%|██████████| 3/3 [00:00<00:00, 5256.02it/s]\n"
     ]
    },
    {
     "name": "stdout",
     "output_type": "stream",
     "text": [
      "Data has been normalized\n"
     ]
    },
    {
     "name": "stderr",
     "output_type": "stream",
     "text": [
      "Calculating SI: 100%|██████████| 3/3 [00:00<00:00, 5037.19it/s]\n"
     ]
    },
    {
     "name": "stdout",
     "output_type": "stream",
     "text": [
      "Data has been normalized\n"
     ]
    },
    {
     "name": "stderr",
     "output_type": "stream",
     "text": [
      "Calculating SI: 100%|██████████| 3/3 [00:00<00:00, 1393.15it/s]\n"
     ]
    },
    {
     "name": "stdout",
     "output_type": "stream",
     "text": [
      "Data has been normalized\n"
     ]
    },
    {
     "name": "stderr",
     "output_type": "stream",
     "text": [
      "Calculating SI: 100%|██████████| 3/3 [00:00<00:00, 4983.33it/s]\n"
     ]
    },
    {
     "name": "stdout",
     "output_type": "stream",
     "text": [
      "Data has been normalized\n"
     ]
    },
    {
     "name": "stderr",
     "output_type": "stream",
     "text": [
      "Calculating SI: 100%|██████████| 3/3 [00:00<00:00, 5069.67it/s]\n"
     ]
    },
    {
     "name": "stdout",
     "output_type": "stream",
     "text": [
      "Data has been normalized\n"
     ]
    },
    {
     "name": "stderr",
     "output_type": "stream",
     "text": [
      "Calculating SI: 100%|██████████| 3/3 [00:00<00:00, 5271.43it/s]"
     ]
    },
    {
     "name": "stdout",
     "output_type": "stream",
     "text": [
      "Data has been normalized\n"
     ]
    },
    {
     "name": "stderr",
     "output_type": "stream",
     "text": [
      "\n",
      "Calculating SI: 100%|██████████| 3/3 [00:00<00:00, 5619.88it/s]\n"
     ]
    },
    {
     "name": "stdout",
     "output_type": "stream",
     "text": [
      "Data has been normalized\n"
     ]
    },
    {
     "name": "stderr",
     "output_type": "stream",
     "text": [
      "Calculating SI: 100%|██████████| 3/3 [00:00<00:00, 5570.12it/s]\n"
     ]
    },
    {
     "name": "stdout",
     "output_type": "stream",
     "text": [
      "Data has been normalized\n"
     ]
    },
    {
     "name": "stderr",
     "output_type": "stream",
     "text": [
      "Calculating SI: 100%|██████████| 3/3 [00:00<00:00, 5269.23it/s]\n"
     ]
    },
    {
     "name": "stdout",
     "output_type": "stream",
     "text": [
      "Data has been normalized\n"
     ]
    },
    {
     "name": "stderr",
     "output_type": "stream",
     "text": [
      "Calculating SI: 100%|██████████| 3/3 [00:00<00:00, 4951.95it/s]\n"
     ]
    },
    {
     "name": "stdout",
     "output_type": "stream",
     "text": [
      "Data has been normalized\n"
     ]
    },
    {
     "name": "stderr",
     "output_type": "stream",
     "text": [
      "Calculating SI: 100%|██████████| 3/3 [00:00<00:00, 5245.07it/s]\n"
     ]
    },
    {
     "name": "stdout",
     "output_type": "stream",
     "text": [
      "Data has been normalized\n"
     ]
    },
    {
     "name": "stderr",
     "output_type": "stream",
     "text": [
      "Calculating SI: 100%|██████████| 3/3 [00:00<00:00, 4595.66it/s]\n"
     ]
    },
    {
     "name": "stdout",
     "output_type": "stream",
     "text": [
      "Data has been normalized\n"
     ]
    },
    {
     "name": "stderr",
     "output_type": "stream",
     "text": [
      "Calculating SI: 100%|██████████| 3/3 [00:00<00:00, 5154.82it/s]\n"
     ]
    },
    {
     "name": "stdout",
     "output_type": "stream",
     "text": [
      "Data has been normalized\n"
     ]
    },
    {
     "name": "stderr",
     "output_type": "stream",
     "text": [
      "Calculating SI: 100%|██████████| 3/3 [00:00<00:00, 4620.97it/s]\n"
     ]
    },
    {
     "name": "stdout",
     "output_type": "stream",
     "text": [
      "Data has been normalized\n"
     ]
    },
    {
     "name": "stderr",
     "output_type": "stream",
     "text": [
      "Calculating SI: 100%|██████████| 3/3 [00:00<00:00, 5169.64it/s]\n"
     ]
    },
    {
     "name": "stdout",
     "output_type": "stream",
     "text": [
      "Data has been normalized\n"
     ]
    },
    {
     "name": "stderr",
     "output_type": "stream",
     "text": [
      "Calculating SI: 100%|██████████| 3/3 [00:00<00:00, 5256.02it/s]\n"
     ]
    },
    {
     "name": "stdout",
     "output_type": "stream",
     "text": [
      "Data has been normalized\n"
     ]
    },
    {
     "name": "stderr",
     "output_type": "stream",
     "text": [
      "Calculating SI: 100%|██████████| 3/3 [00:00<00:00, 5027.13it/s]\n"
     ]
    },
    {
     "name": "stdout",
     "output_type": "stream",
     "text": [
      "Data has been normalized\n"
     ]
    },
    {
     "name": "stderr",
     "output_type": "stream",
     "text": [
      "Calculating SI: 100%|██████████| 3/3 [00:00<00:00, 4936.41it/s]\n"
     ]
    },
    {
     "name": "stdout",
     "output_type": "stream",
     "text": [
      "Data has been normalized\n"
     ]
    },
    {
     "name": "stderr",
     "output_type": "stream",
     "text": [
      "Calculating SI: 100%|██████████| 3/3 [00:00<00:00, 4993.22it/s]\n"
     ]
    }
   ],
   "source": [
    "si_layer_val = []\n",
    "\n",
    "# Iterate through each layer's features in the dictionary\n",
    "for layer_name, features in features_per_layer.items():\n",
    "    instance_disturbance = ARH_SeparationIndex(features, labels, normalize=True)\n",
    "    si = instance_disturbance.si_batch(batch_size=2000)\n",
    "    si_layer_val.append((layer_name, si))"
   ]
  },
  {
   "cell_type": "code",
   "execution_count": 10,
   "metadata": {
    "tags": []
   },
   "outputs": [
    {
     "data": {
      "text/plain": [
       "[('conv1', 0.20479999482631683),\n",
       " ('bn1', 0.20479999482631683),\n",
       " ('elu1', 0.2011999934911728),\n",
       " ('conv2', 0.19119998812675476),\n",
       " ('bn2', 0.19119998812675476),\n",
       " ('elu2', 0.1899999976158142),\n",
       " ('maxpool1', 0.2624000012874603),\n",
       " ('resblock1', 0.33739998936653137),\n",
       " ('maxpool2', 0.42419999837875366),\n",
       " ('conv3', 0.3619999885559082),\n",
       " ('bn3', 0.3619999885559082),\n",
       " ('elu3', 0.3675999939441681),\n",
       " ('maxpool3', 0.5727999806404114),\n",
       " ('conv4', 0.5187999606132507),\n",
       " ('bn4', 0.5187999606132507),\n",
       " ('elu4', 0.5363999605178833),\n",
       " ('resblock2', 0.793999969959259),\n",
       " ('avgpool', 0.870199978351593),\n",
       " ('flatten', 0.870199978351593),\n",
       " ('softmax', 0.9101999998092651)]"
      ]
     },
     "execution_count": 10,
     "metadata": {},
     "output_type": "execute_result"
    }
   ],
   "source": [
    "si_layer_val"
   ]
  },
  {
   "cell_type": "code",
   "execution_count": 11,
   "metadata": {
    "tags": []
   },
   "outputs": [
    {
     "data": {
      "image/png": "[encoded data removed]",
      "text/plain": [
       "<Figure size 640x480 with 1 Axes>"
      ]
     },
     "metadata": {},
     "output_type": "display_data"
    }
   ],
   "source": [
    "# Plotting SI versus layer using a line plot\n",
    "plt.plot([layer for layer, _ in si_layer_val], [si for _, si in si_layer_val])\n",
    "plt.xlabel('Layer')\n",
    "plt.ylabel('SI')\n",
    "plt.title('Separation Index (SI) vs Layer - val - BN ')\n",
    "plt.xticks(rotation=45)\n",
    "plt.grid(True)\n",
    "plt.show()"
   ]
  },
  {
   "cell_type": "markdown",
   "metadata": {},
   "source": [
    "### calc Center SI"
   ]
  },
  {
   "cell_type": "code",
   "execution_count": 12,
   "metadata": {
    "tags": []
   },
   "outputs": [
    {
     "name": "stdout",
     "output_type": "stream",
     "text": [
      "Data has been normalized\n"
     ]
    },
    {
     "name": "stderr",
     "output_type": "stream",
     "text": [
      "Calculating CSI: 100%|██████████| 3/3 [00:00<00:00, 436.24it/s]\n"
     ]
    },
    {
     "name": "stdout",
     "output_type": "stream",
     "text": [
      "Data has been normalized\n"
     ]
    },
    {
     "name": "stderr",
     "output_type": "stream",
     "text": [
      "Calculating CSI: 100%|██████████| 3/3 [00:00<00:00, 3283.64it/s]\n"
     ]
    },
    {
     "name": "stdout",
     "output_type": "stream",
     "text": [
      "Data has been normalized\n"
     ]
    },
    {
     "name": "stderr",
     "output_type": "stream",
     "text": [
      "Calculating CSI: 100%|██████████| 3/3 [00:00<00:00, 3175.10it/s]\n"
     ]
    },
    {
     "name": "stdout",
     "output_type": "stream",
     "text": [
      "Data has been normalized\n"
     ]
    },
    {
     "name": "stderr",
     "output_type": "stream",
     "text": [
      "Calculating CSI: 100%|██████████| 3/3 [00:00<00:00, 3292.23it/s]\n"
     ]
    },
    {
     "name": "stdout",
     "output_type": "stream",
     "text": [
      "Data has been normalized\n"
     ]
    },
    {
     "name": "stderr",
     "output_type": "stream",
     "text": [
      "Calculating CSI: 100%|██████████| 3/3 [00:00<00:00, 3370.72it/s]\n"
     ]
    },
    {
     "name": "stdout",
     "output_type": "stream",
     "text": [
      "Data has been normalized\n"
     ]
    },
    {
     "name": "stderr",
     "output_type": "stream",
     "text": [
      "Calculating CSI: 100%|██████████| 3/3 [00:00<00:00, 3209.11it/s]\n"
     ]
    },
    {
     "name": "stdout",
     "output_type": "stream",
     "text": [
      "Data has been normalized\n"
     ]
    },
    {
     "name": "stderr",
     "output_type": "stream",
     "text": [
      "Calculating CSI: 100%|██████████| 3/3 [00:00<00:00, 3123.86it/s]"
     ]
    },
    {
     "name": "stdout",
     "output_type": "stream",
     "text": [
      "Data has been normalized\n"
     ]
    },
    {
     "name": "stderr",
     "output_type": "stream",
     "text": [
      "\n",
      "Calculating CSI: 100%|██████████| 3/3 [00:00<00:00, 3181.52it/s]\n"
     ]
    },
    {
     "name": "stdout",
     "output_type": "stream",
     "text": [
      "Data has been normalized\n"
     ]
    },
    {
     "name": "stderr",
     "output_type": "stream",
     "text": [
      "Calculating CSI: 100%|██████████| 3/3 [00:00<00:00, 3024.01it/s]\n"
     ]
    },
    {
     "name": "stdout",
     "output_type": "stream",
     "text": [
      "Data has been normalized\n"
     ]
    },
    {
     "name": "stderr",
     "output_type": "stream",
     "text": [
      "Calculating CSI: 100%|██████████| 3/3 [00:00<00:00, 3520.68it/s]\n"
     ]
    },
    {
     "name": "stdout",
     "output_type": "stream",
     "text": [
      "Data has been normalized\n"
     ]
    },
    {
     "name": "stderr",
     "output_type": "stream",
     "text": [
      "Calculating CSI: 100%|██████████| 3/3 [00:00<00:00, 3152.82it/s]\n"
     ]
    },
    {
     "name": "stdout",
     "output_type": "stream",
     "text": [
      "Data has been normalized\n"
     ]
    },
    {
     "name": "stderr",
     "output_type": "stream",
     "text": [
      "Calculating CSI: 100%|██████████| 3/3 [00:00<00:00, 3137.88it/s]\n"
     ]
    },
    {
     "name": "stdout",
     "output_type": "stream",
     "text": [
      "Data has been normalized\n"
     ]
    },
    {
     "name": "stderr",
     "output_type": "stream",
     "text": [
      "Calculating CSI: 100%|██████████| 3/3 [00:00<00:00, 3048.92it/s]\n"
     ]
    },
    {
     "name": "stdout",
     "output_type": "stream",
     "text": [
      "Data has been normalized\n"
     ]
    },
    {
     "name": "stderr",
     "output_type": "stream",
     "text": [
      "Calculating CSI: 100%|██████████| 3/3 [00:00<00:00, 3193.63it/s]\n"
     ]
    },
    {
     "name": "stdout",
     "output_type": "stream",
     "text": [
      "Data has been normalized\n"
     ]
    },
    {
     "name": "stderr",
     "output_type": "stream",
     "text": [
      "Calculating CSI: 100%|██████████| 3/3 [00:00<00:00, 3066.76it/s]\n"
     ]
    },
    {
     "name": "stdout",
     "output_type": "stream",
     "text": [
      "Data has been normalized\n"
     ]
    },
    {
     "name": "stderr",
     "output_type": "stream",
     "text": [
      "Calculating CSI: 100%|██████████| 3/3 [00:00<00:00, 3490.41it/s]\n"
     ]
    },
    {
     "name": "stdout",
     "output_type": "stream",
     "text": [
      "Data has been normalized\n"
     ]
    },
    {
     "name": "stderr",
     "output_type": "stream",
     "text": [
      "Calculating CSI: 100%|██████████| 3/3 [00:00<00:00, 3214.85it/s]\n"
     ]
    },
    {
     "name": "stdout",
     "output_type": "stream",
     "text": [
      "Data has been normalized\n"
     ]
    },
    {
     "name": "stderr",
     "output_type": "stream",
     "text": [
      "Calculating CSI: 100%|██████████| 3/3 [00:00<00:00, 1170.83it/s]\n"
     ]
    },
    {
     "name": "stdout",
     "output_type": "stream",
     "text": [
      "Data has been normalized\n"
     ]
    },
    {
     "name": "stderr",
     "output_type": "stream",
     "text": [
      "Calculating CSI: 100%|██████████| 3/3 [00:00<00:00, 2323.29it/s]\n"
     ]
    },
    {
     "name": "stdout",
     "output_type": "stream",
     "text": [
      "Data has been normalized\n"
     ]
    },
    {
     "name": "stderr",
     "output_type": "stream",
     "text": [
      "Calculating CSI: 100%|██████████| 3/3 [00:00<00:00, 3314.78it/s]\n"
     ]
    }
   ],
   "source": [
    "csi_layer_val = []\n",
    "\n",
    "# Iterate through each layer's features in the dictionary\n",
    "for layer_name, features in features_per_layer.items():\n",
    "    instance_disturbance = ARH_SeparationIndex(features, labels, normalize=True)\n",
    "    csi = instance_disturbance.center_si_batch(batch_size=2000)\n",
    "    csi_layer_val.append((layer_name, csi))"
   ]
  },
  {
   "cell_type": "code",
   "execution_count": 13,
   "metadata": {
    "tags": []
   },
   "outputs": [
    {
     "name": "stdout",
     "output_type": "stream",
     "text": [
      "[('conv1', 0.3522000014781952), ('bn1', 0.3522000014781952), ('elu1', 0.36899998784065247), ('conv2', 0.3879999816417694), ('bn2', 0.3879999816417694), ('elu2', 0.3937999904155731), ('maxpool1', 0.4667999744415283), ('resblock1', 0.6011999845504761), ('maxpool2', 0.6258000135421753), ('conv3', 0.6028000116348267), ('bn3', 0.6028000116348267), ('elu3', 0.6037999987602234), ('maxpool3', 0.6621999740600586), ('conv4', 0.6233999729156494), ('bn4', 0.6233999729156494), ('elu4', 0.6319999694824219), ('resblock2', 0.8977999687194824), ('avgpool', 0.9257999658584595), ('flatten', 0.9257999658584595), ('softmax', 0.9389999508857727)]\n"
     ]
    },
    {
     "data": {
      "image/png": "[encoded data removed]",
      "text/plain": [
       "<Figure size 640x480 with 1 Axes>"
      ]
     },
     "metadata": {},
     "output_type": "display_data"
    }
   ],
   "source": [
    "print(csi_layer_val)\n",
    "\n",
    "\n",
    "# Plotting SI versus layer using a line plot\n",
    "plt.plot([layer for layer, _ in csi_layer_val], [si for _, si in csi_layer_val])\n",
    "plt.xlabel('Layer')\n",
    "plt.ylabel('SI')\n",
    "plt.title('Center Separation Index (CSI) vs Layer - val - BN')\n",
    "plt.xticks(rotation=45)\n",
    "plt.grid(True)\n",
    "plt.show()"
   ]
  },
  {
   "cell_type": "markdown",
   "metadata": {
    "tags": []
   },
   "source": [
    "## SI and CenterSI layer for Test Loader"
   ]
  },
  {
   "cell_type": "code",
   "execution_count": 8,
   "metadata": {
    "tags": []
   },
   "outputs": [
    {
     "name": "stderr",
     "output_type": "stream",
     "text": [
      "100%|██████████| 40/40 [00:01<00:00, 27.26it/s]\n"
     ]
    }
   ],
   "source": [
    "# Pass data through the model and collect layer outputs\n",
    "with torch.no_grad():\n",
    "    for inputs, targets in tqdm(test_loader):\n",
    "        inputs = inputs.to('cuda:1' if torch.cuda.is_available() else 'cpu')\n",
    "\n",
    "        # Trigger the hooks and collect layer outputs\n",
    "        model(inputs)\n",
    "        labels_list.append(targets.cpu())\n",
    "\n",
    "        # Clear CUDA cache after processing each batch\n",
    "        if torch.cuda.is_available():\n",
    "            torch.cuda.empty_cache()\n",
    "\n",
    "# Post-process the data: Flatten and concatenate\n",
    "for layer_name, layer_features in features_per_layer.items():\n",
    "    if layer_features:  # Check if layer_features is not empty\n",
    "        # Flatten and concatenate the features for each layer\n",
    "        features_per_layer[layer_name] = torch.cat([f.view(f.size(0), -1) for f in layer_features])\n",
    "    else:\n",
    "        print(f\"No features captured for layer {layer_name}\")\n",
    "\n",
    "# Concatenate the labels\n",
    "labels = torch.cat(labels_list)"
   ]
  },
  {
   "cell_type": "markdown",
   "metadata": {},
   "source": [
    "### Calc SI"
   ]
  },
  {
   "cell_type": "code",
   "execution_count": 9,
   "metadata": {
    "tags": []
   },
   "outputs": [
    {
     "name": "stdout",
     "output_type": "stream",
     "text": [
      "Data has been normalized\n"
     ]
    },
    {
     "name": "stderr",
     "output_type": "stream",
     "text": [
      "Calculating SI: 100%|██████████| 5/5 [00:00<00:00, 358.47it/s]\n"
     ]
    },
    {
     "name": "stdout",
     "output_type": "stream",
     "text": [
      "Data has been normalized\n"
     ]
    },
    {
     "name": "stderr",
     "output_type": "stream",
     "text": [
      "Calculating SI: 100%|██████████| 5/5 [00:00<00:00, 7546.43it/s]\n"
     ]
    },
    {
     "name": "stdout",
     "output_type": "stream",
     "text": [
      "Data has been normalized\n"
     ]
    },
    {
     "name": "stderr",
     "output_type": "stream",
     "text": [
      "Calculating SI: 100%|██████████| 5/5 [00:00<00:00, 7980.03it/s]\n"
     ]
    },
    {
     "name": "stdout",
     "output_type": "stream",
     "text": [
      "Data has been normalized\n"
     ]
    },
    {
     "name": "stderr",
     "output_type": "stream",
     "text": [
      "Calculating SI: 100%|██████████| 5/5 [00:00<00:00, 7801.90it/s]\n"
     ]
    },
    {
     "name": "stdout",
     "output_type": "stream",
     "text": [
      "Data has been normalized\n"
     ]
    },
    {
     "name": "stderr",
     "output_type": "stream",
     "text": [
      "Calculating SI: 100%|██████████| 5/5 [00:00<00:00, 7764.35it/s]\n"
     ]
    },
    {
     "name": "stdout",
     "output_type": "stream",
     "text": [
      "Data has been normalized\n"
     ]
    },
    {
     "name": "stderr",
     "output_type": "stream",
     "text": [
      "Calculating SI: 100%|██████████| 5/5 [00:00<00:00, 7892.93it/s]\n"
     ]
    },
    {
     "name": "stdout",
     "output_type": "stream",
     "text": [
      "Data has been normalized\n"
     ]
    },
    {
     "name": "stderr",
     "output_type": "stream",
     "text": [
      "Calculating SI: 100%|██████████| 5/5 [00:00<00:00, 7793.21it/s]\n"
     ]
    },
    {
     "name": "stdout",
     "output_type": "stream",
     "text": [
      "Data has been normalized\n"
     ]
    },
    {
     "name": "stderr",
     "output_type": "stream",
     "text": [
      "Calculating SI: 100%|██████████| 5/5 [00:00<00:00, 7848.62it/s]\n"
     ]
    },
    {
     "name": "stdout",
     "output_type": "stream",
     "text": [
      "Data has been normalized\n"
     ]
    },
    {
     "name": "stderr",
     "output_type": "stream",
     "text": [
      "Calculating SI: 100%|██████████| 5/5 [00:00<00:00, 8103.37it/s]\n"
     ]
    },
    {
     "name": "stdout",
     "output_type": "stream",
     "text": [
      "Data has been normalized\n"
     ]
    },
    {
     "name": "stderr",
     "output_type": "stream",
     "text": [
      "Calculating SI: 100%|██████████| 5/5 [00:00<00:00, 7787.42it/s]\n"
     ]
    },
    {
     "name": "stdout",
     "output_type": "stream",
     "text": [
      "Data has been normalized\n"
     ]
    },
    {
     "name": "stderr",
     "output_type": "stream",
     "text": [
      "Calculating SI: 100%|██████████| 5/5 [00:00<00:00, 7495.18it/s]\n"
     ]
    },
    {
     "name": "stdout",
     "output_type": "stream",
     "text": [
      "Data has been normalized\n"
     ]
    },
    {
     "name": "stderr",
     "output_type": "stream",
     "text": [
      "Calculating SI: 100%|██████████| 5/5 [00:00<00:00, 7884.03it/s]\n"
     ]
    },
    {
     "name": "stdout",
     "output_type": "stream",
     "text": [
      "Data has been normalized\n"
     ]
    },
    {
     "name": "stderr",
     "output_type": "stream",
     "text": [
      "Calculating SI: 100%|██████████| 5/5 [00:00<00:00, 7952.79it/s]\n"
     ]
    },
    {
     "name": "stdout",
     "output_type": "stream",
     "text": [
      "Data has been normalized\n"
     ]
    },
    {
     "name": "stderr",
     "output_type": "stream",
     "text": [
      "Calculating SI: 100%|██████████| 5/5 [00:00<00:00, 6962.66it/s]\n"
     ]
    },
    {
     "name": "stdout",
     "output_type": "stream",
     "text": [
      "Data has been normalized\n"
     ]
    },
    {
     "name": "stderr",
     "output_type": "stream",
     "text": [
      "Calculating SI: 100%|██████████| 5/5 [00:00<00:00, 8266.27it/s]\n"
     ]
    },
    {
     "name": "stdout",
     "output_type": "stream",
     "text": [
      "Data has been normalized\n"
     ]
    },
    {
     "name": "stderr",
     "output_type": "stream",
     "text": [
      "Calculating SI: 100%|██████████| 5/5 [00:00<00:00, 7973.96it/s]\n"
     ]
    },
    {
     "name": "stdout",
     "output_type": "stream",
     "text": [
      "Data has been normalized\n"
     ]
    },
    {
     "name": "stderr",
     "output_type": "stream",
     "text": [
      "Calculating SI: 100%|██████████| 5/5 [00:00<00:00, 7460.52it/s]\n"
     ]
    },
    {
     "name": "stdout",
     "output_type": "stream",
     "text": [
      "Data has been normalized\n"
     ]
    },
    {
     "name": "stderr",
     "output_type": "stream",
     "text": [
      "Calculating SI: 100%|██████████| 5/5 [00:00<00:00, 7199.29it/s]\n"
     ]
    },
    {
     "name": "stdout",
     "output_type": "stream",
     "text": [
      "Data has been normalized\n"
     ]
    },
    {
     "name": "stderr",
     "output_type": "stream",
     "text": [
      "Calculating SI: 100%|██████████| 5/5 [00:00<00:00, 7549.14it/s]\n"
     ]
    },
    {
     "name": "stdout",
     "output_type": "stream",
     "text": [
      "Data has been normalized\n"
     ]
    },
    {
     "name": "stderr",
     "output_type": "stream",
     "text": [
      "Calculating SI: 100%|██████████| 5/5 [00:00<00:00, 6795.70it/s]\n"
     ]
    }
   ],
   "source": [
    "si_layer_test = []\n",
    "\n",
    "# Iterate through each layer's features in the dictionary\n",
    "for layer_name, features in features_per_layer.items():\n",
    "    instance_disturbance = ARH_SeparationIndex(features, labels, normalize=True)\n",
    "    si = instance_disturbance.si_batch(batch_size=2000)\n",
    "    si_layer_test.append((layer_name, si))"
   ]
  },
  {
   "cell_type": "code",
   "execution_count": 10,
   "metadata": {
    "tags": []
   },
   "outputs": [
    {
     "data": {
      "text/plain": [
       "[('conv1', 0.2223999947309494),\n",
       " ('bn1', 0.2223999947309494),\n",
       " ('elu1', 0.22119998931884766),\n",
       " ('conv2', 0.21529999375343323),\n",
       " ('bn2', 0.21529999375343323),\n",
       " ('elu2', 0.2141999900341034),\n",
       " ('maxpool1', 0.2938999831676483),\n",
       " ('resblock1', 0.3933999836444855),\n",
       " ('maxpool2', 0.4730999767780304),\n",
       " ('conv3', 0.4220999777317047),\n",
       " ('bn3', 0.4220999777317047),\n",
       " ('elu3', 0.43359997868537903),\n",
       " ('maxpool3', 0.602899968624115),\n",
       " ('conv4', 0.5584999918937683),\n",
       " ('bn4', 0.5584999918937683),\n",
       " ('elu4', 0.5776999592781067),\n",
       " ('resblock2', 0.7633999586105347),\n",
       " ('avgpool', 0.7883999943733215),\n",
       " ('flatten', 0.7883999943733215),\n",
       " ('softmax', 0.8100000023841858)]"
      ]
     },
     "execution_count": 10,
     "metadata": {},
     "output_type": "execute_result"
    }
   ],
   "source": [
    "si_layer_test"
   ]
  },
  {
   "cell_type": "code",
   "execution_count": 11,
   "metadata": {
    "tags": []
   },
   "outputs": [
    {
     "data": {
      "image/png": "[encoded data removed]",
      "text/plain": [
       "<Figure size 640x480 with 1 Axes>"
      ]
     },
     "metadata": {},
     "output_type": "display_data"
    }
   ],
   "source": [
    "# Plotting SI versus layer using a line plot\n",
    "plt.plot([layer for layer, _ in si_layer_test], [si for _, si in si_layer_test])\n",
    "plt.xlabel('Layer')\n",
    "plt.ylabel('SI')\n",
    "plt.title('Separation Index (SI) vs Layer - Test - BN')\n",
    "plt.xticks(rotation=45)\n",
    "plt.grid(True)\n",
    "plt.show()"
   ]
  },
  {
   "cell_type": "markdown",
   "metadata": {},
   "source": [
    "### Calc Center SI"
   ]
  },
  {
   "cell_type": "code",
   "execution_count": 12,
   "metadata": {
    "tags": []
   },
   "outputs": [
    {
     "name": "stdout",
     "output_type": "stream",
     "text": [
      "Data has been normalized\n"
     ]
    },
    {
     "name": "stderr",
     "output_type": "stream",
     "text": [
      "Calculating CSI: 100%|██████████| 5/5 [00:00<00:00, 680.78it/s]\n"
     ]
    },
    {
     "name": "stdout",
     "output_type": "stream",
     "text": [
      "Data has been normalized\n"
     ]
    },
    {
     "name": "stderr",
     "output_type": "stream",
     "text": [
      "Calculating CSI: 100%|██████████| 5/5 [00:00<00:00, 4300.97it/s]\n"
     ]
    },
    {
     "name": "stdout",
     "output_type": "stream",
     "text": [
      "Data has been normalized\n"
     ]
    },
    {
     "name": "stderr",
     "output_type": "stream",
     "text": [
      "Calculating CSI: 100%|██████████| 5/5 [00:00<00:00, 4555.07it/s]\n"
     ]
    },
    {
     "name": "stdout",
     "output_type": "stream",
     "text": [
      "Data has been normalized\n"
     ]
    },
    {
     "name": "stderr",
     "output_type": "stream",
     "text": [
      "Calculating CSI: 100%|██████████| 5/5 [00:00<00:00, 4200.18it/s]\n"
     ]
    },
    {
     "name": "stdout",
     "output_type": "stream",
     "text": [
      "Data has been normalized\n"
     ]
    },
    {
     "name": "stderr",
     "output_type": "stream",
     "text": [
      "Calculating CSI: 100%|██████████| 5/5 [00:00<00:00, 4241.81it/s]\n"
     ]
    },
    {
     "name": "stdout",
     "output_type": "stream",
     "text": [
      "Data has been normalized\n"
     ]
    },
    {
     "name": "stderr",
     "output_type": "stream",
     "text": [
      "Calculating CSI: 100%|██████████| 5/5 [00:00<00:00, 4668.64it/s]\n"
     ]
    },
    {
     "name": "stdout",
     "output_type": "stream",
     "text": [
      "Data has been normalized\n"
     ]
    },
    {
     "name": "stderr",
     "output_type": "stream",
     "text": [
      "Calculating CSI: 100%|██████████| 5/5 [00:00<00:00, 3071.85it/s]\n"
     ]
    },
    {
     "name": "stdout",
     "output_type": "stream",
     "text": [
      "Data has been normalized\n"
     ]
    },
    {
     "name": "stderr",
     "output_type": "stream",
     "text": [
      "Calculating CSI: 100%|██████████| 5/5 [00:00<00:00, 3221.43it/s]\n"
     ]
    },
    {
     "name": "stdout",
     "output_type": "stream",
     "text": [
      "Data has been normalized\n"
     ]
    },
    {
     "name": "stderr",
     "output_type": "stream",
     "text": [
      "Calculating CSI: 100%|██████████| 5/5 [00:00<00:00, 4239.24it/s]\n"
     ]
    },
    {
     "name": "stdout",
     "output_type": "stream",
     "text": [
      "Data has been normalized\n"
     ]
    },
    {
     "name": "stderr",
     "output_type": "stream",
     "text": [
      "Calculating CSI: 100%|██████████| 5/5 [00:00<00:00, 4588.95it/s]\n"
     ]
    },
    {
     "name": "stdout",
     "output_type": "stream",
     "text": [
      "Data has been normalized\n"
     ]
    },
    {
     "name": "stderr",
     "output_type": "stream",
     "text": [
      "Calculating CSI: 100%|██████████| 5/5 [00:00<00:00, 4842.19it/s]\n"
     ]
    },
    {
     "name": "stdout",
     "output_type": "stream",
     "text": [
      "Data has been normalized\n"
     ]
    },
    {
     "name": "stderr",
     "output_type": "stream",
     "text": [
      "Calculating CSI: 100%|██████████| 5/5 [00:00<00:00, 5063.14it/s]\n"
     ]
    },
    {
     "name": "stdout",
     "output_type": "stream",
     "text": [
      "Data has been normalized\n"
     ]
    },
    {
     "name": "stderr",
     "output_type": "stream",
     "text": [
      "Calculating CSI: 100%|██████████| 5/5 [00:00<00:00, 4104.82it/s]\n"
     ]
    },
    {
     "name": "stdout",
     "output_type": "stream",
     "text": [
      "Data has been normalized\n"
     ]
    },
    {
     "name": "stderr",
     "output_type": "stream",
     "text": [
      "Calculating CSI: 100%|██████████| 5/5 [00:00<00:00, 3122.62it/s]\n"
     ]
    },
    {
     "name": "stdout",
     "output_type": "stream",
     "text": [
      "Data has been normalized\n"
     ]
    },
    {
     "name": "stderr",
     "output_type": "stream",
     "text": [
      "Calculating CSI: 100%|██████████| 5/5 [00:00<00:00, 3265.07it/s]\n"
     ]
    },
    {
     "name": "stdout",
     "output_type": "stream",
     "text": [
      "Data has been normalized\n"
     ]
    },
    {
     "name": "stderr",
     "output_type": "stream",
     "text": [
      "Calculating CSI: 100%|██████████| 5/5 [00:00<00:00, 3212.55it/s]\n"
     ]
    },
    {
     "name": "stdout",
     "output_type": "stream",
     "text": [
      "Data has been normalized\n"
     ]
    },
    {
     "name": "stderr",
     "output_type": "stream",
     "text": [
      "Calculating CSI: 100%|██████████| 5/5 [00:00<00:00, 4325.81it/s]\n"
     ]
    },
    {
     "name": "stdout",
     "output_type": "stream",
     "text": [
      "Data has been normalized\n"
     ]
    },
    {
     "name": "stderr",
     "output_type": "stream",
     "text": [
      "Calculating CSI: 100%|██████████| 5/5 [00:00<00:00, 4246.97it/s]\n"
     ]
    },
    {
     "name": "stdout",
     "output_type": "stream",
     "text": [
      "Data has been normalized\n"
     ]
    },
    {
     "name": "stderr",
     "output_type": "stream",
     "text": [
      "Calculating CSI: 100%|██████████| 5/5 [00:00<00:00, 4380.93it/s]\n"
     ]
    },
    {
     "name": "stdout",
     "output_type": "stream",
     "text": [
      "Data has been normalized\n"
     ]
    },
    {
     "name": "stderr",
     "output_type": "stream",
     "text": [
      "Calculating CSI: 100%|██████████| 5/5 [00:00<00:00, 4417.85it/s]\n"
     ]
    }
   ],
   "source": [
    "csi_layer_test = []\n",
    "\n",
    "# Iterate through each layer's features in the dictionary\n",
    "for layer_name, features in features_per_layer.items():\n",
    "    instance_disturbance = ARH_SeparationIndex(features, labels, normalize=True)\n",
    "    csi = instance_disturbance.center_si_batch(batch_size=2000)\n",
    "    csi_layer_test.append((layer_name, csi))"
   ]
  },
  {
   "cell_type": "code",
   "execution_count": 13,
   "metadata": {
    "tags": []
   },
   "outputs": [
    {
     "name": "stdout",
     "output_type": "stream",
     "text": [
      "[('conv1', 0.3554999828338623), ('bn1', 0.3554999828338623), ('elu1', 0.36980000138282776), ('conv2', 0.3804999887943268), ('bn2', 0.3804999887943268), ('elu2', 0.3862999975681305), ('maxpool1', 0.45319998264312744), ('resblock1', 0.5644999742507935), ('maxpool2', 0.6032999753952026), ('conv3', 0.5697999596595764), ('bn3', 0.5697999596595764), ('elu3', 0.5742999911308289), ('maxpool3', 0.6448000073432922), ('conv4', 0.612500011920929), ('bn4', 0.612500011920929), ('elu4', 0.6197999715805054), ('resblock2', 0.8276999592781067), ('avgpool', 0.8454999923706055), ('flatten', 0.8454999923706055), ('softmax', 0.8567999601364136)]\n"
     ]
    },
    {
     "data": {
      "image/png": "[encoded data removed]",
      "text/plain": [
       "<Figure size 640x480 with 1 Axes>"
      ]
     },
     "metadata": {},
     "output_type": "display_data"
    }
   ],
   "source": [
    "print(csi_layer_test)\n",
    "\n",
    "\n",
    "# Plotting SI versus layer using a line plot\n",
    "plt.plot([layer for layer, _ in csi_layer_test], [si for _, si in csi_layer_test])\n",
    "plt.xlabel('Layer')\n",
    "plt.ylabel('SI')\n",
    "plt.title('Center Separation Index (CSI) vs Layer - Test - BN')\n",
    "plt.xticks(rotation=45)\n",
    "plt.grid(True)\n",
    "plt.show()"
   ]
  },
  {
   "cell_type": "code",
   "execution_count": null,
   "metadata": {},
   "outputs": [],
   "source": []
  }
 ],
 "metadata": {
  "accelerator": "GPU",
  "colab": {
   "gpuType": "T4",
   "provenance": []
  },
  "kernelspec": {
   "display_name": "torch2",
   "language": "python",
   "name": "torch2"
  },
  "language_info": {
   "codemirror_mode": {
    "name": "ipython",
    "version": 3
   },
   "file_extension": ".py",
   "mimetype": "text/x-python",
   "name": "python",
   "nbconvert_exporter": "python",
   "pygments_lexer": "ipython3",
   "version": "3.11.6"
  }
 },
 "nbformat": 4,
 "nbformat_minor": 4
}
