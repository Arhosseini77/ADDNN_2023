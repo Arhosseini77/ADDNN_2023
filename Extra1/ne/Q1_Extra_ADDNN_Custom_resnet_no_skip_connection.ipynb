{
 "cells": [
  {
   "cell_type": "markdown",
   "metadata": {
    "id": "D_FzYJ6kBPmA"
   },
   "source": [
    "# Import Libraries"
   ]
  },
  {
   "cell_type": "code",
   "execution_count": 1,
   "metadata": {
    "id": "QwVCQZDtBSOW",
    "tags": []
   },
   "outputs": [],
   "source": [
    "import torch\n",
    "import torch.nn as nn\n",
    "import torch.nn.functional as F\n",
    "\n",
    "import torch.optim as optim\n",
    "from torch.optim.lr_scheduler import StepLR\n",
    "from torchvision import datasets, transforms\n",
    "from torch.utils.data import DataLoader, random_split\n",
    "from sklearn.model_selection import train_test_split\n",
    "\n",
    "import matplotlib.pyplot as plt\n",
    "from tqdm import tqdm"
   ]
  },
  {
   "cell_type": "code",
   "execution_count": 2,
   "metadata": {
    "tags": []
   },
   "outputs": [
    {
     "name": "stdout",
     "output_type": "stream",
     "text": [
      "2\n",
      "NVIDIA GeForce RTX 3090\n"
     ]
    }
   ],
   "source": [
    "# Check GPU\n",
    "print(torch.cuda.device_count())\n",
    "print(torch.cuda.get_device_name(1))"
   ]
  },
  {
   "cell_type": "markdown",
   "metadata": {
    "id": "aNA78o8BBtC-",
    "tags": []
   },
   "source": [
    "# Part D"
   ]
  },
  {
   "cell_type": "markdown",
   "metadata": {
    "id": "quDe3fsABTNB"
   },
   "source": [
    "## Implement Custom Resnet  - Skip Connection "
   ]
  },
  {
   "cell_type": "code",
   "execution_count": 6,
   "metadata": {
    "colab": {
     "base_uri": "https://localhost:8080/",
     "height": 247
    },
    "id": "AqPnnPgaBSzd",
    "outputId": "0a9b901d-aa7f-4daa-af0f-486f012cb733",
    "tags": []
   },
   "outputs": [],
   "source": [
    "class CustomResNetBlock(nn.Module):\n",
    "    def __init__(self, in_channels, out_channels):\n",
    "        super(CustomResNetBlock, self).__init__()\n",
    "        self.conv1 = nn.Conv2d(in_channels, out_channels, kernel_size=3, padding=1)\n",
    "        self.elu = nn.ELU()\n",
    "        self.conv2 = nn.Conv2d(out_channels, out_channels, kernel_size=3, padding=1)\n",
    "\n",
    "    def forward(self, x):\n",
    "        x = self.conv1(x)\n",
    "        x = self.elu(x)\n",
    "        x = self.conv2(x)\n",
    "        x = self.elu(x)\n",
    "        return x\n",
    "   \n",
    "class CustomResNet_NSC(nn.Module):\n",
    "    def __init__(self):\n",
    "        super(CustomResNet_NSC, self).__init__()\n",
    "        # Initial convolutional layers\n",
    "        self.conv1 = nn.Conv2d(3, 32, kernel_size=3, padding=1)\n",
    "        self.elu1 = nn.ELU()\n",
    "        self.conv2 = nn.Conv2d(32, 64, kernel_size=3, padding=1)\n",
    "        self.elu2 = nn.ELU()\n",
    "        self.maxpool1 = nn.MaxPool2d(kernel_size=2)\n",
    "        \n",
    "        # Residual blocks\n",
    "        self.resblock1 = CustomResNetBlock(64, 64)\n",
    "        self.maxpool2 = nn.MaxPool2d(kernel_size=2)\n",
    "        self.conv3 = nn.Conv2d(64, 128, kernel_size=3, padding=1)\n",
    "        self.elu3 = nn.ELU()\n",
    "        self.maxpool3 = nn.MaxPool2d(kernel_size=2)\n",
    "        self.conv4 = nn.Conv2d(128, 256, kernel_size=3, padding=1)\n",
    "        self.elu4 = nn.ELU()\n",
    "        self.resblock2 = CustomResNetBlock(256, 256)\n",
    "        \n",
    "        # Average pooling and fully connected layers\n",
    "        self.avgpool = nn.AvgPool2d(kernel_size=3, stride=2)\n",
    "        self.flatten = nn.Flatten()\n",
    "        self.fc1 = nn.Linear(256, 256)\n",
    "        self.fc2 = nn.Linear(256, 10)\n",
    "        self.softmax = nn.Softmax(dim=1)\n",
    "\n",
    "    def forward(self, x):\n",
    "        x = self.conv1(x)\n",
    "        x = self.elu1(x)\n",
    "        x = self.conv2(x)\n",
    "        x = self.elu2(x)\n",
    "        x = self.maxpool1(x)\n",
    "        \n",
    "        x = self.resblock1(x)\n",
    "        x = self.conv3(x)\n",
    "        x = self.elu3(x)\n",
    "        x = self.maxpool2(x)\n",
    "        \n",
    "        x = self.conv4(x)\n",
    "        x = self.elu4(x)\n",
    "        x = self.maxpool3(x)\n",
    "        x = self.resblock2(x)\n",
    "        x = self.avgpool(x)\n",
    "        x = self.flatten(x)\n",
    "        x = self.fc1(x)\n",
    "        x = self.fc2(x)\n",
    "        x = self.softmax(x)\n",
    "        return x\n"
   ]
  },
  {
   "cell_type": "markdown",
   "metadata": {
    "id": "JDIWaZO4BoJG"
   },
   "source": [
    "## Load Dataset"
   ]
  },
  {
   "cell_type": "code",
   "execution_count": 7,
   "metadata": {
    "id": "8V4gTK4PBihv"
   },
   "outputs": [],
   "source": [
    "# Data augmentation and normalization\n",
    "transform_train = transforms.Compose([\n",
    "    transforms.RandomHorizontalFlip(),\n",
    "    transforms.RandomRotation(10),\n",
    "    transforms.ToTensor(),\n",
    "    transforms.Normalize((0.5, 0.5, 0.5), (0.5, 0.5, 0.5))\n",
    "])\n",
    "\n",
    "# # Data augmentation and normalization for training\n",
    "# transform_train = transforms.Compose([\n",
    "#     transforms.RandomHorizontalFlip(),\n",
    "#     transforms.RandomRotation(15),\n",
    "#     transforms.RandomResizedCrop(32, scale=(0.8, 1.0)),\n",
    "#     transforms.ColorJitter(brightness=0.1, contrast=0.1, saturation=0.1, hue=0.1),\n",
    "#     transforms.RandomAffine(degrees=0, translate=(0.1, 0.1)),\n",
    "#     transforms.ToTensor(),\n",
    "#     transforms.Normalize((0.5, 0.5, 0.5), (0.5, 0.5, 0.5))\n",
    "# ])\n",
    "\n",
    "transform_test = transforms.Compose([\n",
    "    transforms.ToTensor(),\n",
    "    transforms.Normalize((0.5, 0.5, 0.5), (0.5, 0.5, 0.5))\n",
    "])"
   ]
  },
  {
   "cell_type": "code",
   "execution_count": 8,
   "metadata": {
    "colab": {
     "base_uri": "https://localhost:8080/"
    },
    "id": "pFEN5wDcBwwe",
    "outputId": "9c66fc00-2d4a-4d12-8a18-244b82583cad"
   },
   "outputs": [
    {
     "name": "stdout",
     "output_type": "stream",
     "text": [
      "Files already downloaded and verified\n",
      "Files already downloaded and verified\n"
     ]
    }
   ],
   "source": [
    "# Load CIFAR-10 dataset\n",
    "train_dataset = datasets.CIFAR10(root='./data', train=True, download=True, transform=transform_train)\n",
    "test_dataset = datasets.CIFAR10(root='./data', train=False, download=True, transform=transform_test)\n",
    "\n",
    "# Splitting train dataset into train and validation sets\n",
    "train_size = int(0.9 * len(train_dataset))\n",
    "val_size = len(train_dataset) - train_size\n",
    "train_dataset, val_dataset = random_split(train_dataset, [train_size, val_size])\n",
    "\n",
    "# Data loaders\n",
    "train_loader = DataLoader(train_dataset, batch_size=256, shuffle=True)\n",
    "val_loader = DataLoader(val_dataset, batch_size=256, shuffle=False)\n",
    "test_loader = DataLoader(test_dataset, batch_size=256, shuffle=False)"
   ]
  },
  {
   "cell_type": "markdown",
   "metadata": {
    "id": "nmhQIr54B2oW"
   },
   "source": [
    "## Optimizer and Train Setup"
   ]
  },
  {
   "cell_type": "code",
   "execution_count": 9,
   "metadata": {
    "id": "3CzuU7SMB1H9"
   },
   "outputs": [],
   "source": [
    "# Model, optimizer, and scheduler\n",
    "model = CustomResNet_NSC()\n",
    "optimizer = optim.SGD(model.parameters(), lr=0.01, momentum=0.9)\n",
    "scheduler = StepLR(optimizer, step_size=40, gamma=0.1)\n",
    "criterion = nn.CrossEntropyLoss()"
   ]
  },
  {
   "cell_type": "code",
   "execution_count": 10,
   "metadata": {
    "colab": {
     "base_uri": "https://localhost:8080/"
    },
    "id": "Q5Ln_L7oIPAi",
    "outputId": "3ef9c660-f4a3-42bd-91d5-b018c8cedc23"
   },
   "outputs": [
    {
     "data": {
      "text/plain": [
       "CustomResNet_NSC(\n",
       "  (conv1): Conv2d(3, 32, kernel_size=(3, 3), stride=(1, 1), padding=(1, 1))\n",
       "  (elu1): ELU(alpha=1.0)\n",
       "  (conv2): Conv2d(32, 64, kernel_size=(3, 3), stride=(1, 1), padding=(1, 1))\n",
       "  (elu2): ELU(alpha=1.0)\n",
       "  (maxpool1): MaxPool2d(kernel_size=2, stride=2, padding=0, dilation=1, ceil_mode=False)\n",
       "  (resblock1): CustomResNetBlock(\n",
       "    (conv1): Conv2d(64, 64, kernel_size=(3, 3), stride=(1, 1), padding=(1, 1))\n",
       "    (elu): ELU(alpha=1.0)\n",
       "    (conv2): Conv2d(64, 64, kernel_size=(3, 3), stride=(1, 1), padding=(1, 1))\n",
       "  )\n",
       "  (maxpool2): MaxPool2d(kernel_size=2, stride=2, padding=0, dilation=1, ceil_mode=False)\n",
       "  (conv3): Conv2d(64, 128, kernel_size=(3, 3), stride=(1, 1), padding=(1, 1))\n",
       "  (elu3): ELU(alpha=1.0)\n",
       "  (maxpool3): MaxPool2d(kernel_size=2, stride=2, padding=0, dilation=1, ceil_mode=False)\n",
       "  (conv4): Conv2d(128, 256, kernel_size=(3, 3), stride=(1, 1), padding=(1, 1))\n",
       "  (elu4): ELU(alpha=1.0)\n",
       "  (resblock2): CustomResNetBlock(\n",
       "    (conv1): Conv2d(256, 256, kernel_size=(3, 3), stride=(1, 1), padding=(1, 1))\n",
       "    (elu): ELU(alpha=1.0)\n",
       "    (conv2): Conv2d(256, 256, kernel_size=(3, 3), stride=(1, 1), padding=(1, 1))\n",
       "  )\n",
       "  (avgpool): AvgPool2d(kernel_size=3, stride=2, padding=0)\n",
       "  (flatten): Flatten(start_dim=1, end_dim=-1)\n",
       "  (fc1): Linear(in_features=256, out_features=256, bias=True)\n",
       "  (fc2): Linear(in_features=256, out_features=10, bias=True)\n",
       "  (softmax): Softmax(dim=1)\n",
       ")"
      ]
     },
     "execution_count": 10,
     "metadata": {},
     "output_type": "execute_result"
    }
   ],
   "source": [
    "# Determine if CUDA is available and set the device accordingly\n",
    "device = torch.device(\"cuda:1\" if torch.cuda.is_available() else \"cpu\")\n",
    "model.to(device)"
   ]
  },
  {
   "cell_type": "code",
   "execution_count": 11,
   "metadata": {
    "id": "8AjZNiXpHwDi"
   },
   "outputs": [],
   "source": [
    "def train(model, device, train_loader, optimizer, criterion):\n",
    "    model.train()\n",
    "    train_loss = 0\n",
    "    correct = 0\n",
    "    total = 0\n",
    "    for data, target in train_loader:\n",
    "        data, target = data.to(device), target.to(device)\n",
    "        optimizer.zero_grad()\n",
    "        output = model(data)\n",
    "        loss = criterion(output, target)\n",
    "        train_loss += loss.item()\n",
    "        loss.backward()\n",
    "        optimizer.step()\n",
    "\n",
    "        _, predicted = torch.max(output.data, 1)\n",
    "        total += target.size(0)\n",
    "        correct += (predicted == target).sum().item()\n",
    "\n",
    "    train_loss /= len(train_loader)\n",
    "    train_accuracy = 100 * correct / total\n",
    "    return train_loss, train_accuracy\n",
    "\n",
    "def test(model, device, test_loader, criterion):\n",
    "    model.eval()\n",
    "    test_loss = 0\n",
    "    correct = 0\n",
    "    with torch.no_grad():\n",
    "        for data, target in test_loader:\n",
    "            data, target = data.to(device), target.to(device)\n",
    "            output = model(data)\n",
    "            loss = criterion(output, target)\n",
    "            test_loss += loss.item()\n",
    "            _, predicted = output.max(1)\n",
    "            correct += predicted.eq(target).sum().item()\n",
    "\n",
    "    test_loss /= len(test_loader)\n",
    "    test_accuracy = 100. * correct / len(test_loader.dataset)\n",
    "    return test_loss, test_accuracy\n",
    "\n",
    "# Training loop with tracking of training and validation accuracies\n",
    "train_losses, train_accuracies, val_losses, val_accuracies = [], [], [], []\n",
    "best_val_accuracy = 0\n",
    "best_model_weights = None\n"
   ]
  },
  {
   "cell_type": "code",
   "execution_count": 13,
   "metadata": {
    "colab": {
     "base_uri": "https://localhost:8080/"
    },
    "id": "09-npVVjIP1z",
    "outputId": "3c14999d-945f-4031-d719-9b7e3085b0cf"
   },
   "outputs": [
    {
     "name": "stdout",
     "output_type": "stream",
     "text": [
      "Epoch: 1, Train Loss: 2.3026, Train Accuracy: 9.95%, Val Loss: 2.3026, Val Accuracy: 10.44%\n",
      "Epoch: 2, Train Loss: 2.3026, Train Accuracy: 10.02%, Val Loss: 2.3026, Val Accuracy: 10.70%\n",
      "Epoch: 3, Train Loss: 2.3025, Train Accuracy: 11.42%, Val Loss: 2.3025, Val Accuracy: 15.08%\n",
      "Epoch: 4, Train Loss: 2.3025, Train Accuracy: 14.62%, Val Loss: 2.3025, Val Accuracy: 15.22%\n",
      "Epoch: 5, Train Loss: 2.3025, Train Accuracy: 12.77%, Val Loss: 2.3024, Val Accuracy: 14.68%\n",
      "Epoch: 6, Train Loss: 2.3024, Train Accuracy: 13.60%, Val Loss: 2.3023, Val Accuracy: 14.86%\n",
      "Epoch: 7, Train Loss: 2.3021, Train Accuracy: 14.88%, Val Loss: 2.3018, Val Accuracy: 14.92%\n",
      "Epoch: 8, Train Loss: 2.3006, Train Accuracy: 17.05%, Val Loss: 2.2969, Val Accuracy: 17.60%\n",
      "Epoch: 9, Train Loss: 2.2609, Train Accuracy: 17.36%, Val Loss: 2.2349, Val Accuracy: 18.50%\n",
      "Epoch: 10, Train Loss: 2.2285, Train Accuracy: 20.16%, Val Loss: 2.2163, Val Accuracy: 22.60%\n",
      "Epoch: 11, Train Loss: 2.2131, Train Accuracy: 22.33%, Val Loss: 2.2024, Val Accuracy: 23.94%\n",
      "Epoch: 12, Train Loss: 2.1939, Train Accuracy: 24.86%, Val Loss: 2.1836, Val Accuracy: 26.28%\n",
      "Epoch: 13, Train Loss: 2.1756, Train Accuracy: 26.83%, Val Loss: 2.1674, Val Accuracy: 28.10%\n",
      "Epoch: 14, Train Loss: 2.1655, Train Accuracy: 28.04%, Val Loss: 2.1595, Val Accuracy: 28.58%\n",
      "Epoch: 15, Train Loss: 2.1564, Train Accuracy: 28.89%, Val Loss: 2.1403, Val Accuracy: 30.88%\n",
      "Epoch: 16, Train Loss: 2.1468, Train Accuracy: 30.15%, Val Loss: 2.1316, Val Accuracy: 31.64%\n",
      "Epoch: 17, Train Loss: 2.1348, Train Accuracy: 31.43%, Val Loss: 2.1257, Val Accuracy: 32.40%\n",
      "Epoch: 18, Train Loss: 2.1267, Train Accuracy: 32.44%, Val Loss: 2.1281, Val Accuracy: 32.68%\n",
      "Epoch: 19, Train Loss: 2.1183, Train Accuracy: 33.45%, Val Loss: 2.1177, Val Accuracy: 33.86%\n",
      "Epoch: 20, Train Loss: 2.1077, Train Accuracy: 34.62%, Val Loss: 2.1117, Val Accuracy: 33.90%\n",
      "Epoch: 21, Train Loss: 2.0964, Train Accuracy: 35.76%, Val Loss: 2.0917, Val Accuracy: 36.12%\n",
      "Epoch: 22, Train Loss: 2.0903, Train Accuracy: 36.38%, Val Loss: 2.0886, Val Accuracy: 36.48%\n",
      "Epoch: 23, Train Loss: 2.0796, Train Accuracy: 37.47%, Val Loss: 2.0804, Val Accuracy: 37.76%\n",
      "Epoch: 24, Train Loss: 2.0723, Train Accuracy: 38.28%, Val Loss: 2.0675, Val Accuracy: 38.58%\n",
      "Epoch: 25, Train Loss: 2.0646, Train Accuracy: 39.05%, Val Loss: 2.0616, Val Accuracy: 39.48%\n",
      "Epoch: 26, Train Loss: 2.0484, Train Accuracy: 40.66%, Val Loss: 2.0573, Val Accuracy: 39.98%\n",
      "Epoch: 27, Train Loss: 2.0407, Train Accuracy: 41.58%, Val Loss: 2.0352, Val Accuracy: 42.10%\n",
      "Epoch: 28, Train Loss: 2.0307, Train Accuracy: 42.55%, Val Loss: 2.0287, Val Accuracy: 42.74%\n",
      "Epoch: 29, Train Loss: 2.0205, Train Accuracy: 43.60%, Val Loss: 2.0294, Val Accuracy: 42.86%\n",
      "Epoch: 30, Train Loss: 2.0107, Train Accuracy: 44.58%, Val Loss: 2.0098, Val Accuracy: 44.52%\n",
      "Epoch: 31, Train Loss: 2.0018, Train Accuracy: 45.54%, Val Loss: 1.9971, Val Accuracy: 46.18%\n",
      "Epoch: 32, Train Loss: 1.9924, Train Accuracy: 46.49%, Val Loss: 2.0051, Val Accuracy: 44.92%\n",
      "Epoch: 33, Train Loss: 1.9825, Train Accuracy: 47.50%, Val Loss: 1.9908, Val Accuracy: 46.52%\n",
      "Epoch: 34, Train Loss: 1.9742, Train Accuracy: 48.24%, Val Loss: 1.9792, Val Accuracy: 47.50%\n",
      "Epoch: 35, Train Loss: 1.9668, Train Accuracy: 49.08%, Val Loss: 1.9725, Val Accuracy: 48.78%\n",
      "Epoch: 36, Train Loss: 1.9582, Train Accuracy: 50.05%, Val Loss: 1.9607, Val Accuracy: 49.74%\n",
      "Epoch: 37, Train Loss: 1.9504, Train Accuracy: 50.71%, Val Loss: 1.9484, Val Accuracy: 51.10%\n",
      "Epoch: 38, Train Loss: 1.9439, Train Accuracy: 51.44%, Val Loss: 1.9418, Val Accuracy: 51.58%\n",
      "Epoch: 39, Train Loss: 1.9367, Train Accuracy: 52.16%, Val Loss: 1.9316, Val Accuracy: 52.80%\n",
      "Epoch: 40, Train Loss: 1.9267, Train Accuracy: 53.16%, Val Loss: 1.9321, Val Accuracy: 52.68%\n",
      "Epoch: 41, Train Loss: 1.9078, Train Accuracy: 55.15%, Val Loss: 1.9132, Val Accuracy: 54.60%\n",
      "Epoch: 42, Train Loss: 1.9039, Train Accuracy: 55.54%, Val Loss: 1.9085, Val Accuracy: 54.94%\n",
      "Epoch: 43, Train Loss: 1.9016, Train Accuracy: 55.84%, Val Loss: 1.9097, Val Accuracy: 54.98%\n",
      "Epoch: 44, Train Loss: 1.9007, Train Accuracy: 55.94%, Val Loss: 1.9095, Val Accuracy: 55.26%\n",
      "Epoch: 45, Train Loss: 1.8994, Train Accuracy: 56.22%, Val Loss: 1.9089, Val Accuracy: 55.10%\n",
      "Epoch: 46, Train Loss: 1.8983, Train Accuracy: 56.22%, Val Loss: 1.9099, Val Accuracy: 54.94%\n",
      "Epoch: 47, Train Loss: 1.8963, Train Accuracy: 56.35%, Val Loss: 1.9027, Val Accuracy: 55.72%\n",
      "Epoch: 48, Train Loss: 1.8961, Train Accuracy: 56.39%, Val Loss: 1.9058, Val Accuracy: 55.14%\n",
      "Epoch: 49, Train Loss: 1.8944, Train Accuracy: 56.59%, Val Loss: 1.9040, Val Accuracy: 55.46%\n",
      "Epoch: 50, Train Loss: 1.8932, Train Accuracy: 56.79%, Val Loss: 1.9010, Val Accuracy: 56.08%\n",
      "Epoch: 51, Train Loss: 1.8929, Train Accuracy: 56.74%, Val Loss: 1.9004, Val Accuracy: 56.10%\n",
      "Epoch: 52, Train Loss: 1.8905, Train Accuracy: 57.12%, Val Loss: 1.8987, Val Accuracy: 56.48%\n",
      "Epoch: 53, Train Loss: 1.8901, Train Accuracy: 57.17%, Val Loss: 1.8966, Val Accuracy: 56.32%\n",
      "Epoch: 54, Train Loss: 1.8888, Train Accuracy: 57.16%, Val Loss: 1.8940, Val Accuracy: 56.78%\n",
      "Epoch: 55, Train Loss: 1.8878, Train Accuracy: 57.35%, Val Loss: 1.9003, Val Accuracy: 55.98%\n",
      "Epoch: 56, Train Loss: 1.8868, Train Accuracy: 57.46%, Val Loss: 1.8949, Val Accuracy: 56.70%\n",
      "Epoch: 57, Train Loss: 1.8856, Train Accuracy: 57.55%, Val Loss: 1.8938, Val Accuracy: 56.90%\n",
      "Epoch: 58, Train Loss: 1.8850, Train Accuracy: 57.68%, Val Loss: 1.8918, Val Accuracy: 56.96%\n",
      "Epoch: 59, Train Loss: 1.8817, Train Accuracy: 57.99%, Val Loss: 1.8938, Val Accuracy: 56.60%\n",
      "Epoch: 60, Train Loss: 1.8823, Train Accuracy: 57.93%, Val Loss: 1.8921, Val Accuracy: 56.80%\n",
      "Epoch: 61, Train Loss: 1.8818, Train Accuracy: 57.88%, Val Loss: 1.8901, Val Accuracy: 57.02%\n",
      "Epoch: 62, Train Loss: 1.8808, Train Accuracy: 58.06%, Val Loss: 1.8956, Val Accuracy: 56.22%\n",
      "Epoch: 63, Train Loss: 1.8795, Train Accuracy: 58.22%, Val Loss: 1.8881, Val Accuracy: 57.16%\n",
      "Epoch: 64, Train Loss: 1.8784, Train Accuracy: 58.34%, Val Loss: 1.8882, Val Accuracy: 57.40%\n",
      "Epoch: 65, Train Loss: 1.8775, Train Accuracy: 58.29%, Val Loss: 1.8880, Val Accuracy: 56.96%\n",
      "Epoch: 66, Train Loss: 1.8751, Train Accuracy: 58.64%, Val Loss: 1.8887, Val Accuracy: 57.06%\n",
      "Epoch: 67, Train Loss: 1.8750, Train Accuracy: 58.57%, Val Loss: 1.8920, Val Accuracy: 56.70%\n",
      "Epoch: 68, Train Loss: 1.8747, Train Accuracy: 58.63%, Val Loss: 1.8883, Val Accuracy: 57.46%\n",
      "Epoch: 69, Train Loss: 1.8735, Train Accuracy: 58.85%, Val Loss: 1.8853, Val Accuracy: 57.52%\n",
      "Epoch: 70, Train Loss: 1.8718, Train Accuracy: 59.00%, Val Loss: 1.8885, Val Accuracy: 56.78%\n",
      "Epoch: 71, Train Loss: 1.8708, Train Accuracy: 59.06%, Val Loss: 1.8817, Val Accuracy: 58.02%\n",
      "Epoch: 72, Train Loss: 1.8713, Train Accuracy: 59.01%, Val Loss: 1.8859, Val Accuracy: 57.18%\n",
      "Epoch: 73, Train Loss: 1.8698, Train Accuracy: 59.12%, Val Loss: 1.8833, Val Accuracy: 57.60%\n",
      "Epoch: 74, Train Loss: 1.8692, Train Accuracy: 59.24%, Val Loss: 1.8770, Val Accuracy: 58.10%\n",
      "Epoch: 75, Train Loss: 1.8679, Train Accuracy: 59.40%, Val Loss: 1.8807, Val Accuracy: 57.82%\n",
      "Epoch: 76, Train Loss: 1.8681, Train Accuracy: 59.38%, Val Loss: 1.8836, Val Accuracy: 57.52%\n",
      "Epoch: 77, Train Loss: 1.8663, Train Accuracy: 59.49%, Val Loss: 1.8783, Val Accuracy: 58.18%\n",
      "Epoch: 78, Train Loss: 1.8643, Train Accuracy: 59.70%, Val Loss: 1.8794, Val Accuracy: 57.98%\n",
      "Epoch: 79, Train Loss: 1.8633, Train Accuracy: 59.84%, Val Loss: 1.8814, Val Accuracy: 57.78%\n",
      "Epoch: 80, Train Loss: 1.8631, Train Accuracy: 59.86%, Val Loss: 1.8786, Val Accuracy: 58.20%\n",
      "Epoch: 81, Train Loss: 1.8604, Train Accuracy: 60.06%, Val Loss: 1.8747, Val Accuracy: 58.66%\n",
      "Epoch: 82, Train Loss: 1.8594, Train Accuracy: 60.23%, Val Loss: 1.8734, Val Accuracy: 58.68%\n",
      "Epoch: 83, Train Loss: 1.8587, Train Accuracy: 60.34%, Val Loss: 1.8750, Val Accuracy: 58.40%\n",
      "Epoch: 84, Train Loss: 1.8591, Train Accuracy: 60.24%, Val Loss: 1.8740, Val Accuracy: 58.74%\n",
      "Epoch: 85, Train Loss: 1.8588, Train Accuracy: 60.32%, Val Loss: 1.8751, Val Accuracy: 58.64%\n",
      "Epoch: 86, Train Loss: 1.8585, Train Accuracy: 60.24%, Val Loss: 1.8708, Val Accuracy: 59.10%\n",
      "Epoch: 87, Train Loss: 1.8600, Train Accuracy: 60.14%, Val Loss: 1.8716, Val Accuracy: 59.12%\n",
      "Epoch: 88, Train Loss: 1.8579, Train Accuracy: 60.39%, Val Loss: 1.8741, Val Accuracy: 58.92%\n",
      "Epoch: 89, Train Loss: 1.8580, Train Accuracy: 60.36%, Val Loss: 1.8709, Val Accuracy: 59.14%\n",
      "Epoch: 90, Train Loss: 1.8586, Train Accuracy: 60.31%, Val Loss: 1.8765, Val Accuracy: 58.20%\n",
      "Epoch: 91, Train Loss: 1.8576, Train Accuracy: 60.45%, Val Loss: 1.8721, Val Accuracy: 58.84%\n",
      "Epoch: 92, Train Loss: 1.8588, Train Accuracy: 60.35%, Val Loss: 1.8759, Val Accuracy: 58.14%\n",
      "Epoch: 93, Train Loss: 1.8571, Train Accuracy: 60.52%, Val Loss: 1.8690, Val Accuracy: 59.42%\n",
      "Epoch: 94, Train Loss: 1.8570, Train Accuracy: 60.50%, Val Loss: 1.8739, Val Accuracy: 58.32%\n",
      "Epoch: 95, Train Loss: 1.8571, Train Accuracy: 60.44%, Val Loss: 1.8726, Val Accuracy: 58.86%\n",
      "Epoch: 96, Train Loss: 1.8561, Train Accuracy: 60.62%, Val Loss: 1.8736, Val Accuracy: 58.60%\n",
      "Epoch: 97, Train Loss: 1.8561, Train Accuracy: 60.60%, Val Loss: 1.8705, Val Accuracy: 59.22%\n",
      "Epoch: 98, Train Loss: 1.8576, Train Accuracy: 60.33%, Val Loss: 1.8756, Val Accuracy: 58.20%\n",
      "Epoch: 99, Train Loss: 1.8574, Train Accuracy: 60.48%, Val Loss: 1.8713, Val Accuracy: 58.76%\n",
      "Epoch: 100, Train Loss: 1.8576, Train Accuracy: 60.37%, Val Loss: 1.8749, Val Accuracy: 58.30%\n"
     ]
    }
   ],
   "source": [
    "for epoch in range(1, 101):\n",
    "    train_loss, train_accuracy = train(model, device, train_loader, optimizer , criterion)\n",
    "    val_loss, val_accuracy = test(model, device, val_loader , criterion)\n",
    "\n",
    "    train_losses.append(train_loss)\n",
    "    train_accuracies.append(train_accuracy)\n",
    "    val_losses.append(val_loss)\n",
    "    val_accuracies.append(val_accuracy)\n",
    "\n",
    "    if val_accuracy > best_val_accuracy:\n",
    "        best_val_accuracy = val_accuracy\n",
    "        best_model_weights = model.state_dict()\n",
    "\n",
    "    print(f'Epoch: {epoch}, Train Loss: {train_loss:.4f}, Train Accuracy: {train_accuracy:.2f}%, Val Loss: {val_loss:.4f}, Val Accuracy: {val_accuracy:.2f}%')\n",
    "    scheduler.step()"
   ]
  },
  {
   "cell_type": "code",
   "execution_count": 14,
   "metadata": {
    "colab": {
     "base_uri": "https://localhost:8080/",
     "height": 522
    },
    "id": "Hj3juhQ1IYxO",
    "outputId": "64058bc6-eb0f-4da8-f120-765da7e9807d"
   },
   "outputs": [
    {
     "data": {
      "image/png": "[encoded data removed]",
      "text/plain": [
       "<Figure size 1200x500 with 2 Axes>"
      ]
     },
     "metadata": {},
     "output_type": "display_data"
    },
    {
     "name": "stdout",
     "output_type": "stream",
     "text": [
      "Best Validation Accuracy: 59.42%\n",
      "Test Accuracy of the final model: 59.75%\n"
     ]
    }
   ],
   "source": [
    "# Load best model weights and evaluate on test set\n",
    "model.load_state_dict(best_model_weights)\n",
    "test_loss, test_accuracy = test(model, device, test_loader , criterion)\n",
    "\n",
    "# Plotting training and validation loss and accuracy\n",
    "plt.figure(figsize=(12, 5))\n",
    "\n",
    "plt.subplot(1, 2, 1)\n",
    "plt.plot(train_losses, label='Train Loss')\n",
    "plt.plot(val_losses, label='Validation Loss')\n",
    "plt.title('Training and Validation Loss')\n",
    "plt.xlabel('Epochs')\n",
    "plt.ylabel('Loss')\n",
    "plt.legend()\n",
    "\n",
    "plt.subplot(1, 2, 2)\n",
    "plt.plot(train_accuracies, label='Train Accuracy')\n",
    "plt.plot(val_accuracies, label='Validation Accuracy')\n",
    "plt.title('Training and Validation Accuracy')\n",
    "plt.xlabel('Epochs')\n",
    "plt.ylabel('Accuracy (%)')\n",
    "plt.legend()\n",
    "\n",
    "plt.show()\n",
    "\n",
    "# Print best validation accuracy and test accuracy\n",
    "print(f'Best Validation Accuracy: {best_val_accuracy:.2f}%')\n",
    "print(f'Test Accuracy of the final model: {test_accuracy:.2f}%')\n",
    "\n",
    "# Save best model weights\n",
    "torch.save(best_model_weights, 'best_custom_resnet_weights_NSC.pth')"
   ]
  },
  {
   "cell_type": "markdown",
   "metadata": {
    "id": "UO5dnC5YeJrh",
    "tags": []
   },
   "source": [
    "# Layer Wise analyse"
   ]
  },
  {
   "cell_type": "code",
   "execution_count": null,
   "metadata": {
    "colab": {
     "base_uri": "https://localhost:8080/"
    },
    "id": "pgoYCnwadXJV",
    "outputId": "4da311d0-2330-4cd8-84f2-cf71582117b0",
    "tags": []
   },
   "outputs": [],
   "source": [
    "# download Pretrained Weight of model\n",
    "import gdown\n",
    "id = \"1-SqLxoXC70RJXNOLvRlEu9D65qRNE0D\"\n",
    "gdown.download(id=id, quiet=False)"
   ]
  },
  {
   "cell_type": "code",
   "execution_count": null,
   "metadata": {
    "tags": []
   },
   "outputs": [],
   "source": [
    "!git clone https://github.com/Arhosseini77/data_complexity_measures"
   ]
  },
  {
   "cell_type": "code",
   "execution_count": 2,
   "metadata": {
    "tags": []
   },
   "outputs": [],
   "source": [
    "from data_complexity_measures.models.ARH_SeparationIndex import ARH_SeparationIndex"
   ]
  },
  {
   "cell_type": "code",
   "execution_count": 3,
   "metadata": {
    "id": "STuVWv9ghSOY",
    "tags": []
   },
   "outputs": [],
   "source": [
    "class CustomResNetBlock(nn.Module):\n",
    "    def __init__(self, in_channels, out_channels):\n",
    "        super(CustomResNetBlock, self).__init__()\n",
    "        self.conv1 = nn.Conv2d(in_channels, out_channels, kernel_size=3, padding=1)\n",
    "        self.elu = nn.ELU()\n",
    "        self.conv2 = nn.Conv2d(out_channels, out_channels, kernel_size=3, padding=1)\n",
    "\n",
    "    def forward(self, x):\n",
    "        x = self.conv1(x)\n",
    "        x = self.elu(x)\n",
    "        x = self.conv2(x)\n",
    "        x = self.elu(x)\n",
    "        return x\n",
    "   \n",
    "class CustomResNet_NSC(nn.Module):\n",
    "    def __init__(self):\n",
    "        super(CustomResNet_NSC, self).__init__()\n",
    "        # Initial convolutional layers\n",
    "        self.conv1 = nn.Conv2d(3, 32, kernel_size=3, padding=1)\n",
    "        self.elu1 = nn.ELU()\n",
    "        self.conv2 = nn.Conv2d(32, 64, kernel_size=3, padding=1)\n",
    "        self.elu2 = nn.ELU()\n",
    "        self.maxpool1 = nn.MaxPool2d(kernel_size=2)\n",
    "        \n",
    "        # Residual blocks\n",
    "        self.resblock1 = CustomResNetBlock(64, 64)\n",
    "        self.maxpool2 = nn.MaxPool2d(kernel_size=2)\n",
    "        self.conv3 = nn.Conv2d(64, 128, kernel_size=3, padding=1)\n",
    "        self.elu3 = nn.ELU()\n",
    "        self.maxpool3 = nn.MaxPool2d(kernel_size=2)\n",
    "        self.conv4 = nn.Conv2d(128, 256, kernel_size=3, padding=1)\n",
    "        self.elu4 = nn.ELU()\n",
    "        self.resblock2 = CustomResNetBlock(256, 256)\n",
    "        \n",
    "        # Average pooling and fully connected layers\n",
    "        self.avgpool = nn.AvgPool2d(kernel_size=3, stride=2)\n",
    "        self.flatten = nn.Flatten()\n",
    "        self.fc1 = nn.Linear(256, 256)\n",
    "        self.fc2 = nn.Linear(256, 10)\n",
    "        self.softmax = nn.Softmax(dim=1)\n",
    "\n",
    "    def forward(self, x):\n",
    "        x = self.conv1(x)\n",
    "        x = self.elu1(x)\n",
    "        x = self.conv2(x)\n",
    "        x = self.elu2(x)\n",
    "        x = self.maxpool1(x)\n",
    "        \n",
    "        x = self.resblock1(x)\n",
    "        x = self.conv3(x)\n",
    "        x = self.elu3(x)\n",
    "        x = self.maxpool2(x)\n",
    "        \n",
    "        x = self.conv4(x)\n",
    "        x = self.elu4(x)\n",
    "        x = self.maxpool3(x)\n",
    "        x = self.resblock2(x)\n",
    "        x = self.avgpool(x)\n",
    "        x = self.flatten(x)\n",
    "        x = self.fc1(x)\n",
    "        x = self.fc2(x)\n",
    "        x = self.softmax(x)\n",
    "        return x\n"
   ]
  },
  {
   "cell_type": "code",
   "execution_count": 4,
   "metadata": {
    "id": "6kKwYvvhhhNQ",
    "tags": []
   },
   "outputs": [],
   "source": [
    "# Data augmentation and normalization\n",
    "transform_train = transforms.Compose([\n",
    "    transforms.ToTensor(),\n",
    "    transforms.Normalize((0.5, 0.5, 0.5), (0.5, 0.5, 0.5))\n",
    "])\n",
    "\n",
    "\n",
    "transform_test = transforms.Compose([\n",
    "    transforms.ToTensor(),\n",
    "    transforms.Normalize((0.5, 0.5, 0.5), (0.5, 0.5, 0.5))\n",
    "])"
   ]
  },
  {
   "cell_type": "code",
   "execution_count": 5,
   "metadata": {
    "colab": {
     "base_uri": "https://localhost:8080/"
    },
    "id": "lneeXtXehoLZ",
    "outputId": "4526402a-644d-4493-923e-830495c2adbb",
    "tags": []
   },
   "outputs": [
    {
     "name": "stdout",
     "output_type": "stream",
     "text": [
      "Files already downloaded and verified\n",
      "Files already downloaded and verified\n"
     ]
    }
   ],
   "source": [
    "# Load CIFAR-10 dataset\n",
    "train_dataset = datasets.CIFAR10(root='./data', train=True, download=True, transform=transform_train)\n",
    "test_dataset = datasets.CIFAR10(root='./data', train=False, download=True, transform=transform_test)\n",
    "\n",
    "# Splitting train dataset into train and validation sets\n",
    "train_size = int(0.9 * len(train_dataset))\n",
    "val_size = len(train_dataset) - train_size\n",
    "train_dataset, val_dataset = random_split(train_dataset, [train_size, val_size])\n",
    "\n",
    "\n",
    "# Further split train_dataset into train_loader_dataset and 20% balanced subset\n",
    "train_loader_dataset, _ = train_test_split(train_dataset.dataset, train_size=int(0.2 * len(train_dataset)),\n",
    "                                           test_size=None, shuffle=True, stratify=train_dataset.dataset.targets)\n",
    "\n",
    "# Data loaders\n",
    "train_loader = DataLoader(train_loader_dataset, batch_size=256, shuffle=True)\n",
    "val_loader = DataLoader(val_dataset, batch_size=256, shuffle=False)\n",
    "test_loader = DataLoader(test_dataset, batch_size=256, shuffle=False)"
   ]
  },
  {
   "cell_type": "code",
   "execution_count": 6,
   "metadata": {
    "colab": {
     "base_uri": "https://localhost:8080/"
    },
    "id": "WFG4opk2eWf5",
    "outputId": "d817a8a2-c740-40e3-d735-83623355e512",
    "tags": []
   },
   "outputs": [
    {
     "data": {
      "text/plain": [
       "CustomResNet_NSC(\n",
       "  (conv1): Conv2d(3, 32, kernel_size=(3, 3), stride=(1, 1), padding=(1, 1))\n",
       "  (elu1): ELU(alpha=1.0)\n",
       "  (conv2): Conv2d(32, 64, kernel_size=(3, 3), stride=(1, 1), padding=(1, 1))\n",
       "  (elu2): ELU(alpha=1.0)\n",
       "  (maxpool1): MaxPool2d(kernel_size=2, stride=2, padding=0, dilation=1, ceil_mode=False)\n",
       "  (resblock1): CustomResNetBlock(\n",
       "    (conv1): Conv2d(64, 64, kernel_size=(3, 3), stride=(1, 1), padding=(1, 1))\n",
       "    (elu): ELU(alpha=1.0)\n",
       "    (conv2): Conv2d(64, 64, kernel_size=(3, 3), stride=(1, 1), padding=(1, 1))\n",
       "  )\n",
       "  (maxpool2): MaxPool2d(kernel_size=2, stride=2, padding=0, dilation=1, ceil_mode=False)\n",
       "  (conv3): Conv2d(64, 128, kernel_size=(3, 3), stride=(1, 1), padding=(1, 1))\n",
       "  (elu3): ELU(alpha=1.0)\n",
       "  (maxpool3): MaxPool2d(kernel_size=2, stride=2, padding=0, dilation=1, ceil_mode=False)\n",
       "  (conv4): Conv2d(128, 256, kernel_size=(3, 3), stride=(1, 1), padding=(1, 1))\n",
       "  (elu4): ELU(alpha=1.0)\n",
       "  (resblock2): CustomResNetBlock(\n",
       "    (conv1): Conv2d(256, 256, kernel_size=(3, 3), stride=(1, 1), padding=(1, 1))\n",
       "    (elu): ELU(alpha=1.0)\n",
       "    (conv2): Conv2d(256, 256, kernel_size=(3, 3), stride=(1, 1), padding=(1, 1))\n",
       "  )\n",
       "  (avgpool): AvgPool2d(kernel_size=3, stride=2, padding=0)\n",
       "  (flatten): Flatten(start_dim=1, end_dim=-1)\n",
       "  (fc1): Linear(in_features=256, out_features=256, bias=True)\n",
       "  (fc2): Linear(in_features=256, out_features=10, bias=True)\n",
       "  (softmax): Softmax(dim=1)\n",
       ")"
      ]
     },
     "execution_count": 6,
     "metadata": {},
     "output_type": "execute_result"
    }
   ],
   "source": [
    "# Instantiate and load the model\n",
    "model = CustomResNet_NSC()  # Make sure CustomResNet is defined as earlier\n",
    "model.load_state_dict(torch.load('best_custom_resnet_weights_NSC.pth'))\n",
    "model.to('cuda:1' if torch.cuda.is_available() else 'cpu')\n",
    "model.eval()"
   ]
  },
  {
   "cell_type": "code",
   "execution_count": 7,
   "metadata": {
    "id": "PA5qBhO5gJYQ",
    "tags": []
   },
   "outputs": [],
   "source": [
    "# Prepare storage for outputs and labels\n",
    "features_per_layer = {}\n",
    "labels_list = []\n",
    "\n",
    "# Define layers to exclude\n",
    "exclude_layers = {'flatten', 'softmax', 'fc1', 'fc2'}\n",
    "\n",
    "# Function to attach hooks\n",
    "def get_layer_outputs(layer_name):\n",
    "    def hook(module, input, output):\n",
    "        features_per_layer[layer_name].append(output.detach())\n",
    "    return hook\n",
    "\n",
    "# Attach hooks to each layer except the excluded ones\n",
    "for name, layer in model.named_children():\n",
    "    if name not in exclude_layers:\n",
    "        features_per_layer[name] = []\n",
    "        layer.register_forward_hook(get_layer_outputs(name))"
   ]
  },
  {
   "cell_type": "markdown",
   "metadata": {
    "jp-MarkdownHeadingCollapsed": true,
    "tags": []
   },
   "source": [
    "## SI and CenterSI layer for Train Loader"
   ]
  },
  {
   "cell_type": "code",
   "execution_count": 21,
   "metadata": {},
   "outputs": [
    {
     "name": "stderr",
     "output_type": "stream",
     "text": [
      "100%|██████████| 36/36 [00:00<00:00, 99.42it/s] \n"
     ]
    }
   ],
   "source": [
    "# Pass data through the model and collect layer outputs\n",
    "with torch.no_grad():\n",
    "    for inputs, targets in tqdm(train_loader): \n",
    "        inputs = inputs.to('cuda:1' if torch.cuda.is_available() else 'cpu')\n",
    "\n",
    "        # Trigger the hooks and collect layer outputs\n",
    "        model(inputs)\n",
    "        labels_list.append(targets.cpu())\n",
    "\n",
    "        # Clear CUDA cache after processing each batch\n",
    "        if torch.cuda.is_available():\n",
    "            torch.cuda.empty_cache()\n",
    "\n",
    "# Post-process the data: Flatten and concatenate\n",
    "for layer_name, layer_features in features_per_layer.items():\n",
    "    if layer_features:  # Check if layer_features is not empty\n",
    "        features_per_layer[layer_name] = torch.cat([f.view(f.size(0), -1) for f in layer_features])\n",
    "    else:\n",
    "        print(f\"No features captured for layer {layer_name}\")\n",
    "\n",
    "# Concatenate the labels\n",
    "labels = torch.cat(labels_list)"
   ]
  },
  {
   "cell_type": "markdown",
   "metadata": {},
   "source": [
    "### Calc SI"
   ]
  },
  {
   "cell_type": "code",
   "execution_count": 22,
   "metadata": {},
   "outputs": [
    {
     "name": "stdout",
     "output_type": "stream",
     "text": [
      "Data has been normalized\n"
     ]
    },
    {
     "name": "stderr",
     "output_type": "stream",
     "text": [
      "Calculating SI: 100%|██████████| 5/5 [00:00<00:00, 226.98it/s]\n"
     ]
    },
    {
     "name": "stdout",
     "output_type": "stream",
     "text": [
      "Data has been normalized\n"
     ]
    },
    {
     "name": "stderr",
     "output_type": "stream",
     "text": [
      "Calculating SI: 100%|██████████| 5/5 [00:00<00:00, 7522.07it/s]\n"
     ]
    },
    {
     "name": "stdout",
     "output_type": "stream",
     "text": [
      "Data has been normalized\n"
     ]
    },
    {
     "name": "stderr",
     "output_type": "stream",
     "text": [
      "Calculating SI: 100%|██████████| 5/5 [00:00<00:00, 6758.47it/s]\n"
     ]
    },
    {
     "name": "stdout",
     "output_type": "stream",
     "text": [
      "Data has been normalized\n"
     ]
    },
    {
     "name": "stderr",
     "output_type": "stream",
     "text": [
      "Calculating SI: 100%|██████████| 5/5 [00:00<00:00, 7551.86it/s]\n"
     ]
    },
    {
     "name": "stdout",
     "output_type": "stream",
     "text": [
      "Data has been normalized\n"
     ]
    },
    {
     "name": "stderr",
     "output_type": "stream",
     "text": [
      "Calculating SI: 100%|██████████| 5/5 [00:00<00:00, 7500.54it/s]\n"
     ]
    },
    {
     "name": "stdout",
     "output_type": "stream",
     "text": [
      "Data has been normalized\n"
     ]
    },
    {
     "name": "stderr",
     "output_type": "stream",
     "text": [
      "Calculating SI: 100%|██████████| 5/5 [00:00<00:00, 7698.80it/s]\n"
     ]
    },
    {
     "name": "stdout",
     "output_type": "stream",
     "text": [
      "Data has been normalized\n"
     ]
    },
    {
     "name": "stderr",
     "output_type": "stream",
     "text": [
      "Calculating SI: 100%|██████████| 5/5 [00:00<00:00, 7044.51it/s]\n"
     ]
    },
    {
     "name": "stdout",
     "output_type": "stream",
     "text": [
      "Data has been normalized\n"
     ]
    },
    {
     "name": "stderr",
     "output_type": "stream",
     "text": [
      "Calculating SI: 100%|██████████| 5/5 [00:00<00:00, 7741.42it/s]\n"
     ]
    },
    {
     "name": "stdout",
     "output_type": "stream",
     "text": [
      "Data has been normalized\n"
     ]
    },
    {
     "name": "stderr",
     "output_type": "stream",
     "text": [
      "Calculating SI: 100%|██████████| 5/5 [00:00<00:00, 7455.22it/s]\n"
     ]
    },
    {
     "name": "stdout",
     "output_type": "stream",
     "text": [
      "Data has been normalized\n"
     ]
    },
    {
     "name": "stderr",
     "output_type": "stream",
     "text": [
      "Calculating SI: 100%|██████████| 5/5 [00:00<00:00, 7353.27it/s]\n"
     ]
    },
    {
     "name": "stdout",
     "output_type": "stream",
     "text": [
      "Data has been normalized\n"
     ]
    },
    {
     "name": "stderr",
     "output_type": "stream",
     "text": [
      "Calculating SI: 100%|██████████| 5/5 [00:00<00:00, 7573.68it/s]\n"
     ]
    },
    {
     "name": "stdout",
     "output_type": "stream",
     "text": [
      "Data has been normalized\n"
     ]
    },
    {
     "name": "stderr",
     "output_type": "stream",
     "text": [
      "Calculating SI: 100%|██████████| 5/5 [00:00<00:00, 8233.81it/s]\n"
     ]
    },
    {
     "name": "stdout",
     "output_type": "stream",
     "text": [
      "Data has been normalized\n"
     ]
    },
    {
     "name": "stderr",
     "output_type": "stream",
     "text": [
      "Calculating SI: 100%|██████████| 5/5 [00:00<00:00, 8391.96it/s]\n"
     ]
    },
    {
     "name": "stdout",
     "output_type": "stream",
     "text": [
      "Data has been normalized\n"
     ]
    },
    {
     "name": "stderr",
     "output_type": "stream",
     "text": [
      "Calculating SI: 100%|██████████| 5/5 [00:00<00:00, 7690.33it/s]\n"
     ]
    }
   ],
   "source": [
    "si_layer_train = []\n",
    "\n",
    "# Iterate through each layer's features in the dictionary\n",
    "for layer_name, features in features_per_layer.items():\n",
    "    instance_disturbance = ARH_SeparationIndex(features, labels, normalize=True)\n",
    "    si = instance_disturbance.si_batch(batch_size=2000)\n",
    "    si_layer_train.append((layer_name, si))"
   ]
  },
  {
   "cell_type": "code",
   "execution_count": 23,
   "metadata": {},
   "outputs": [
    {
     "data": {
      "text/plain": [
       "[('conv1', 0.23311111330986023),\n",
       " ('elu1', 0.23200000822544098),\n",
       " ('conv2', 0.2195555567741394),\n",
       " ('elu2', 0.22066666185855865),\n",
       " ('maxpool1', 0.30300000309944153),\n",
       " ('resblock1', 0.42500001192092896),\n",
       " ('maxpool2', 0.4698888957500458),\n",
       " ('conv3', 0.43400001525878906),\n",
       " ('elu3', 0.4390000104904175),\n",
       " ('maxpool3', 0.4974444508552551),\n",
       " ('conv4', 0.4745555520057678),\n",
       " ('elu4', 0.4887777864933014),\n",
       " ('resblock2', 0.5067777633666992),\n",
       " ('avgpool', 0.500333309173584)]"
      ]
     },
     "execution_count": 23,
     "metadata": {},
     "output_type": "execute_result"
    }
   ],
   "source": [
    "si_layer_train"
   ]
  },
  {
   "cell_type": "code",
   "execution_count": 24,
   "metadata": {},
   "outputs": [
    {
     "data": {
      "image/png": "[encoded data removed]",
      "text/plain": [
       "<Figure size 640x480 with 1 Axes>"
      ]
     },
     "metadata": {},
     "output_type": "display_data"
    }
   ],
   "source": [
    "# Plotting SI versus layer using a line plot\n",
    "plt.plot([layer for layer, _ in si_layer_train], [si for _, si in si_layer_train])\n",
    "plt.xlabel('Layer')\n",
    "plt.ylabel('SI')\n",
    "plt.title('Separation Index (SI) vs Layer - Train - NSC')\n",
    "plt.xticks(rotation=45)\n",
    "plt.grid(True)\n",
    "plt.show()"
   ]
  },
  {
   "cell_type": "markdown",
   "metadata": {},
   "source": [
    "### Calc Center Si"
   ]
  },
  {
   "cell_type": "code",
   "execution_count": 25,
   "metadata": {},
   "outputs": [
    {
     "name": "stdout",
     "output_type": "stream",
     "text": [
      "Data has been normalized\n"
     ]
    },
    {
     "name": "stderr",
     "output_type": "stream",
     "text": [
      "Calculating CSI: 100%|██████████| 5/5 [00:00<00:00, 919.00it/s]\n"
     ]
    },
    {
     "name": "stdout",
     "output_type": "stream",
     "text": [
      "Data has been normalized\n"
     ]
    },
    {
     "name": "stderr",
     "output_type": "stream",
     "text": [
      "Calculating CSI: 100%|██████████| 5/5 [00:00<00:00, 4289.53it/s]\n"
     ]
    },
    {
     "name": "stdout",
     "output_type": "stream",
     "text": [
      "Data has been normalized\n"
     ]
    },
    {
     "name": "stderr",
     "output_type": "stream",
     "text": [
      "Calculating CSI: 100%|██████████| 5/5 [00:00<00:00, 4075.31it/s]\n"
     ]
    },
    {
     "name": "stdout",
     "output_type": "stream",
     "text": [
      "Data has been normalized\n"
     ]
    },
    {
     "name": "stderr",
     "output_type": "stream",
     "text": [
      "Calculating CSI: 100%|██████████| 5/5 [00:00<00:00, 4224.72it/s]\n"
     ]
    },
    {
     "name": "stdout",
     "output_type": "stream",
     "text": [
      "Data has been normalized\n"
     ]
    },
    {
     "name": "stderr",
     "output_type": "stream",
     "text": [
      "Calculating CSI: 100%|██████████| 5/5 [00:00<00:00, 3086.77it/s]\n"
     ]
    },
    {
     "name": "stdout",
     "output_type": "stream",
     "text": [
      "Data has been normalized\n"
     ]
    },
    {
     "name": "stderr",
     "output_type": "stream",
     "text": [
      "Calculating CSI: 100%|██████████| 5/5 [00:00<00:00, 3175.58it/s]\n"
     ]
    },
    {
     "name": "stdout",
     "output_type": "stream",
     "text": [
      "Data has been normalized\n"
     ]
    },
    {
     "name": "stderr",
     "output_type": "stream",
     "text": [
      "Calculating CSI: 100%|██████████| 5/5 [00:00<00:00, 3875.00it/s]\n"
     ]
    },
    {
     "name": "stdout",
     "output_type": "stream",
     "text": [
      "Data has been normalized\n"
     ]
    },
    {
     "name": "stderr",
     "output_type": "stream",
     "text": [
      "Calculating CSI: 100%|██████████| 5/5 [00:00<00:00, 4180.09it/s]\n"
     ]
    },
    {
     "name": "stdout",
     "output_type": "stream",
     "text": [
      "Data has been normalized\n"
     ]
    },
    {
     "name": "stderr",
     "output_type": "stream",
     "text": [
      "Calculating CSI: 100%|██████████| 5/5 [00:00<00:00, 4557.04it/s]\n"
     ]
    },
    {
     "name": "stdout",
     "output_type": "stream",
     "text": [
      "Data has been normalized\n"
     ]
    },
    {
     "name": "stderr",
     "output_type": "stream",
     "text": [
      "Calculating CSI: 100%|██████████| 5/5 [00:00<00:00, 3981.68it/s]\n"
     ]
    },
    {
     "name": "stdout",
     "output_type": "stream",
     "text": [
      "Data has been normalized\n"
     ]
    },
    {
     "name": "stderr",
     "output_type": "stream",
     "text": [
      "Calculating CSI: 100%|██████████| 5/5 [00:00<00:00, 3328.28it/s]\n"
     ]
    },
    {
     "name": "stdout",
     "output_type": "stream",
     "text": [
      "Data has been normalized\n"
     ]
    },
    {
     "name": "stderr",
     "output_type": "stream",
     "text": [
      "Calculating CSI: 100%|██████████| 5/5 [00:00<00:00, 3368.92it/s]\n"
     ]
    },
    {
     "name": "stdout",
     "output_type": "stream",
     "text": [
      "Data has been normalized\n"
     ]
    },
    {
     "name": "stderr",
     "output_type": "stream",
     "text": [
      "Calculating CSI: 100%|██████████| 5/5 [00:00<00:00, 3952.42it/s]\n"
     ]
    },
    {
     "name": "stdout",
     "output_type": "stream",
     "text": [
      "Data has been normalized\n"
     ]
    },
    {
     "name": "stderr",
     "output_type": "stream",
     "text": [
      "Calculating CSI: 100%|██████████| 5/5 [00:00<00:00, 1970.64it/s]\n"
     ]
    }
   ],
   "source": [
    "csi_layer_train = []\n",
    "\n",
    "# Iterate through each layer's features in the dictionary\n",
    "for layer_name, features in features_per_layer.items():\n",
    "    instance_disturbance = ARH_SeparationIndex(features, labels, normalize=True)\n",
    "    csi = instance_disturbance.center_si_batch(batch_size=2000)\n",
    "    csi_layer_train.append((layer_name, csi))"
   ]
  },
  {
   "cell_type": "code",
   "execution_count": 26,
   "metadata": {},
   "outputs": [
    {
     "name": "stdout",
     "output_type": "stream",
     "text": [
      "[('conv1', 0.33444443345069885), ('elu1', 0.33755555748939514), ('conv2', 0.3283333480358124), ('elu2', 0.3364444375038147), ('maxpool1', 0.38188889622688293), ('resblock1', 0.4546666741371155), ('maxpool2', 0.4561111032962799), ('conv3', 0.4421111047267914), ('elu3', 0.44699999690055847), ('maxpool3', 0.49166667461395264), ('conv4', 0.4577777683734894), ('elu4', 0.47699999809265137), ('resblock2', 0.5473333597183228), ('avgpool', 0.5659999847412109)]\n"
     ]
    },
    {
     "data": {
      "image/png": "[encoded data removed]",
      "text/plain": [
       "<Figure size 640x480 with 1 Axes>"
      ]
     },
     "metadata": {},
     "output_type": "display_data"
    }
   ],
   "source": [
    "print(csi_layer_train)\n",
    "\n",
    "\n",
    "# Plotting SI versus layer using a line plot\n",
    "plt.plot([layer for layer, _ in csi_layer_train], [si for _, si in csi_layer_train])\n",
    "plt.xlabel('Layer')\n",
    "plt.ylabel('SI')\n",
    "plt.title('Separation Index (CSI) vs Layer - Train - NSC')\n",
    "plt.xticks(rotation=45)\n",
    "plt.grid(True)\n",
    "plt.show()"
   ]
  },
  {
   "cell_type": "markdown",
   "metadata": {
    "id": "HhIUjcIHghek",
    "jp-MarkdownHeadingCollapsed": true,
    "tags": []
   },
   "source": [
    "## SI and CenterSI layer for Val Loader"
   ]
  },
  {
   "cell_type": "code",
   "execution_count": 8,
   "metadata": {
    "colab": {
     "base_uri": "https://localhost:8080/",
     "height": 462
    },
    "id": "1UOKD6TAgMzC",
    "outputId": "4cbf6701-ba3b-44d7-cd10-eb5253bf8f41",
    "tags": []
   },
   "outputs": [
    {
     "name": "stderr",
     "output_type": "stream",
     "text": [
      "100%|██████████| 20/20 [00:00<00:00, 23.28it/s]\n"
     ]
    }
   ],
   "source": [
    "# Pass data through the model and collect layer outputs\n",
    "with torch.no_grad():\n",
    "    for inputs, targets in tqdm(val_loader): \n",
    "        inputs = inputs.to('cuda:1' if torch.cuda.is_available() else 'cpu')\n",
    "\n",
    "        # Trigger the hooks and collect layer outputs\n",
    "        model(inputs)\n",
    "        labels_list.append(targets.cpu())\n",
    "\n",
    "        # Clear CUDA cache after processing each batch\n",
    "        if torch.cuda.is_available():\n",
    "            torch.cuda.empty_cache()\n",
    "\n",
    "# Post-process the data: Flatten and concatenate\n",
    "for layer_name, layer_features in features_per_layer.items():\n",
    "    if layer_features:  # Check if layer_features is not empty\n",
    "        # Flatten and concatenate the features for each layer\n",
    "        features_per_layer[layer_name] = torch.cat([f.view(f.size(0), -1) for f in layer_features])\n",
    "    else:\n",
    "        print(f\"No features captured for layer {layer_name}\")\n",
    "\n",
    "# Concatenate the labels\n",
    "labels = torch.cat(labels_list)"
   ]
  },
  {
   "cell_type": "markdown",
   "metadata": {},
   "source": [
    "### Calc SI"
   ]
  },
  {
   "cell_type": "code",
   "execution_count": 9,
   "metadata": {
    "id": "IvZxHioygQI6",
    "tags": []
   },
   "outputs": [
    {
     "name": "stdout",
     "output_type": "stream",
     "text": [
      "Data has been normalized\n"
     ]
    },
    {
     "name": "stderr",
     "output_type": "stream",
     "text": [
      "Calculating SI: 100%|██████████| 3/3 [00:00<00:00, 217.29it/s]\n"
     ]
    },
    {
     "name": "stdout",
     "output_type": "stream",
     "text": [
      "Data has been normalized\n"
     ]
    },
    {
     "name": "stderr",
     "output_type": "stream",
     "text": [
      "Calculating SI: 100%|██████████| 3/3 [00:00<00:00, 4983.33it/s]\n"
     ]
    },
    {
     "name": "stdout",
     "output_type": "stream",
     "text": [
      "Data has been normalized\n"
     ]
    },
    {
     "name": "stderr",
     "output_type": "stream",
     "text": [
      "Calculating SI: 100%|██████████| 3/3 [00:00<00:00, 5125.42it/s]\n"
     ]
    },
    {
     "name": "stdout",
     "output_type": "stream",
     "text": [
      "Data has been normalized\n"
     ]
    },
    {
     "name": "stderr",
     "output_type": "stream",
     "text": [
      "Calculating SI: 100%|██████████| 3/3 [00:00<00:00, 5322.72it/s]\n"
     ]
    },
    {
     "name": "stdout",
     "output_type": "stream",
     "text": [
      "Data has been normalized\n"
     ]
    },
    {
     "name": "stderr",
     "output_type": "stream",
     "text": [
      "Calculating SI: 100%|██████████| 3/3 [00:00<00:00, 5019.11it/s]"
     ]
    },
    {
     "name": "stdout",
     "output_type": "stream",
     "text": [
      "Data has been normalized\n"
     ]
    },
    {
     "name": "stderr",
     "output_type": "stream",
     "text": [
      "\n",
      "Calculating SI: 100%|██████████| 3/3 [00:00<00:00, 5273.64it/s]\n"
     ]
    },
    {
     "name": "stdout",
     "output_type": "stream",
     "text": [
      "Data has been normalized\n"
     ]
    },
    {
     "name": "stderr",
     "output_type": "stream",
     "text": [
      "Calculating SI: 100%|██████████| 3/3 [00:00<00:00, 4979.39it/s]\n"
     ]
    },
    {
     "name": "stdout",
     "output_type": "stream",
     "text": [
      "Data has been normalized\n"
     ]
    },
    {
     "name": "stderr",
     "output_type": "stream",
     "text": [
      "Calculating SI: 100%|██████████| 3/3 [00:00<00:00, 5275.85it/s]\n"
     ]
    },
    {
     "name": "stdout",
     "output_type": "stream",
     "text": [
      "Data has been normalized\n"
     ]
    },
    {
     "name": "stderr",
     "output_type": "stream",
     "text": [
      "Calculating SI: 100%|██████████| 3/3 [00:00<00:00, 5212.47it/s]\n"
     ]
    },
    {
     "name": "stdout",
     "output_type": "stream",
     "text": [
      "Data has been normalized\n"
     ]
    },
    {
     "name": "stderr",
     "output_type": "stream",
     "text": [
      "Calculating SI: 100%|██████████| 3/3 [00:00<00:00, 4465.19it/s]\n"
     ]
    },
    {
     "name": "stdout",
     "output_type": "stream",
     "text": [
      "Data has been normalized\n"
     ]
    },
    {
     "name": "stderr",
     "output_type": "stream",
     "text": [
      "Calculating SI: 100%|██████████| 3/3 [00:00<00:00, 5092.23it/s]\n"
     ]
    },
    {
     "name": "stdout",
     "output_type": "stream",
     "text": [
      "Data has been normalized\n"
     ]
    },
    {
     "name": "stderr",
     "output_type": "stream",
     "text": [
      "Calculating SI: 100%|██████████| 3/3 [00:00<00:00, 5412.01it/s]\n"
     ]
    },
    {
     "name": "stdout",
     "output_type": "stream",
     "text": [
      "Data has been normalized\n"
     ]
    },
    {
     "name": "stderr",
     "output_type": "stream",
     "text": [
      "Calculating SI: 100%|██████████| 3/3 [00:00<00:00, 5081.95it/s]\n"
     ]
    },
    {
     "name": "stdout",
     "output_type": "stream",
     "text": [
      "Data has been normalized\n"
     ]
    },
    {
     "name": "stderr",
     "output_type": "stream",
     "text": [
      "Calculating SI: 100%|██████████| 3/3 [00:00<00:00, 4728.64it/s]\n"
     ]
    }
   ],
   "source": [
    "si_layer_val = []\n",
    "\n",
    "# Iterate through each layer's features in the dictionary\n",
    "for layer_name, features in features_per_layer.items():\n",
    "    instance_disturbance = ARH_SeparationIndex(features, labels, normalize=True)\n",
    "    si = instance_disturbance.si_batch(batch_size=2000)\n",
    "    si_layer_val.append((layer_name, si))"
   ]
  },
  {
   "cell_type": "code",
   "execution_count": 10,
   "metadata": {
    "tags": []
   },
   "outputs": [
    {
     "data": {
      "text/plain": [
       "[('conv1', 0.20799998939037323),\n",
       " ('elu1', 0.20839999616146088),\n",
       " ('conv2', 0.1979999989271164),\n",
       " ('elu2', 0.19839999079704285),\n",
       " ('maxpool1', 0.27699998021125793),\n",
       " ('resblock1', 0.42399999499320984),\n",
       " ('maxpool2', 0.45899999141693115),\n",
       " ('conv3', 0.4355999827384949),\n",
       " ('elu3', 0.44099998474121094),\n",
       " ('maxpool3', 0.49239999055862427),\n",
       " ('conv4', 0.46379998326301575),\n",
       " ('elu4', 0.47759997844696045),\n",
       " ('resblock2', 0.49879997968673706),\n",
       " ('avgpool', 0.5085999965667725)]"
      ]
     },
     "execution_count": 10,
     "metadata": {},
     "output_type": "execute_result"
    }
   ],
   "source": [
    "si_layer_val"
   ]
  },
  {
   "cell_type": "code",
   "execution_count": 11,
   "metadata": {
    "tags": []
   },
   "outputs": [
    {
     "data": {
      "image/png": "[encoded data removed]",
      "text/plain": [
       "<Figure size 640x480 with 1 Axes>"
      ]
     },
     "metadata": {},
     "output_type": "display_data"
    }
   ],
   "source": [
    "# Plotting SI versus layer using a line plot\n",
    "plt.plot([layer for layer, _ in si_layer_val], [si for _, si in si_layer_val])\n",
    "plt.xlabel('Layer')\n",
    "plt.ylabel('SI')\n",
    "plt.title('Separation Index (SI) vs Layer - Val - NSC')\n",
    "plt.xticks(rotation=45)\n",
    "plt.grid(True)\n",
    "plt.show()"
   ]
  },
  {
   "cell_type": "markdown",
   "metadata": {},
   "source": [
    "### calc Center SI"
   ]
  },
  {
   "cell_type": "code",
   "execution_count": 12,
   "metadata": {
    "tags": []
   },
   "outputs": [
    {
     "name": "stdout",
     "output_type": "stream",
     "text": [
      "Data has been normalized\n"
     ]
    },
    {
     "name": "stderr",
     "output_type": "stream",
     "text": [
      "Calculating CSI: 100%|██████████| 3/3 [00:00<00:00, 426.84it/s]\n"
     ]
    },
    {
     "name": "stdout",
     "output_type": "stream",
     "text": [
      "Data has been normalized\n"
     ]
    },
    {
     "name": "stderr",
     "output_type": "stream",
     "text": [
      "Calculating CSI: 100%|██████████| 3/3 [00:00<00:00, 3018.93it/s]\n"
     ]
    },
    {
     "name": "stdout",
     "output_type": "stream",
     "text": [
      "Data has been normalized\n"
     ]
    },
    {
     "name": "stderr",
     "output_type": "stream",
     "text": [
      "Calculating CSI: 100%|██████████| 3/3 [00:00<00:00, 2956.51it/s]\n"
     ]
    },
    {
     "name": "stdout",
     "output_type": "stream",
     "text": [
      "Data has been normalized\n"
     ]
    },
    {
     "name": "stderr",
     "output_type": "stream",
     "text": [
      "Calculating CSI: 100%|██████████| 3/3 [00:00<00:00, 3361.72it/s]\n"
     ]
    },
    {
     "name": "stdout",
     "output_type": "stream",
     "text": [
      "Data has been normalized\n"
     ]
    },
    {
     "name": "stderr",
     "output_type": "stream",
     "text": [
      "Calculating CSI: 100%|██████████| 3/3 [00:00<00:00, 3023.28it/s]"
     ]
    },
    {
     "name": "stdout",
     "output_type": "stream",
     "text": [
      "Data has been normalized\n"
     ]
    },
    {
     "name": "stderr",
     "output_type": "stream",
     "text": [
      "\n",
      "Calculating CSI: 100%|██████████| 3/3 [00:00<00:00, 3167.90it/s]\n"
     ]
    },
    {
     "name": "stdout",
     "output_type": "stream",
     "text": [
      "Data has been normalized\n"
     ]
    },
    {
     "name": "stderr",
     "output_type": "stream",
     "text": [
      "Calculating CSI: 100%|██████████| 3/3 [00:00<00:00, 3156.78it/s]\n"
     ]
    },
    {
     "name": "stdout",
     "output_type": "stream",
     "text": [
      "Data has been normalized\n"
     ]
    },
    {
     "name": "stderr",
     "output_type": "stream",
     "text": [
      "Calculating CSI: 100%|██████████| 3/3 [00:00<00:00, 3332.34it/s]\n"
     ]
    },
    {
     "name": "stdout",
     "output_type": "stream",
     "text": [
      "Data has been normalized\n"
     ]
    },
    {
     "name": "stderr",
     "output_type": "stream",
     "text": [
      "Calculating CSI: 100%|██████████| 3/3 [00:00<00:00, 3113.04it/s]\n"
     ]
    },
    {
     "name": "stdout",
     "output_type": "stream",
     "text": [
      "Data has been normalized\n"
     ]
    },
    {
     "name": "stderr",
     "output_type": "stream",
     "text": [
      "Calculating CSI: 100%|██████████| 3/3 [00:00<00:00, 2828.26it/s]\n"
     ]
    },
    {
     "name": "stdout",
     "output_type": "stream",
     "text": [
      "Data has been normalized\n"
     ]
    },
    {
     "name": "stderr",
     "output_type": "stream",
     "text": [
      "Calculating CSI: 100%|██████████| 3/3 [00:00<00:00, 3075.00it/s]\n"
     ]
    },
    {
     "name": "stdout",
     "output_type": "stream",
     "text": [
      "Data has been normalized\n"
     ]
    },
    {
     "name": "stderr",
     "output_type": "stream",
     "text": [
      "Calculating CSI: 100%|██████████| 3/3 [00:00<00:00, 3214.85it/s]\n"
     ]
    },
    {
     "name": "stdout",
     "output_type": "stream",
     "text": [
      "Data has been normalized\n"
     ]
    },
    {
     "name": "stderr",
     "output_type": "stream",
     "text": [
      "Calculating CSI: 100%|██████████| 3/3 [00:00<00:00, 3202.57it/s]\n"
     ]
    },
    {
     "name": "stdout",
     "output_type": "stream",
     "text": [
      "Data has been normalized\n"
     ]
    },
    {
     "name": "stderr",
     "output_type": "stream",
     "text": [
      "Calculating CSI: 100%|██████████| 3/3 [00:00<00:00, 1491.93it/s]\n"
     ]
    }
   ],
   "source": [
    "csi_layer_val = []\n",
    "\n",
    "# Iterate through each layer's features in the dictionary\n",
    "for layer_name, features in features_per_layer.items():\n",
    "    instance_disturbance = ARH_SeparationIndex(features, labels, normalize=True)\n",
    "    csi = instance_disturbance.center_si_batch(batch_size=2000)\n",
    "    csi_layer_val.append((layer_name, csi))"
   ]
  },
  {
   "cell_type": "code",
   "execution_count": 13,
   "metadata": {
    "tags": []
   },
   "outputs": [
    {
     "name": "stdout",
     "output_type": "stream",
     "text": [
      "[('conv1', 0.35679998993873596), ('elu1', 0.36159998178482056), ('conv2', 0.34880000352859497), ('elu2', 0.3579999804496765), ('maxpool1', 0.4027999937534332), ('resblock1', 0.4649999737739563), ('maxpool2', 0.4699999988079071), ('conv3', 0.4578000009059906), ('elu3', 0.46140000224113464), ('maxpool3', 0.501800000667572), ('conv4', 0.4733999967575073), ('elu4', 0.4927999973297119), ('resblock2', 0.5601999759674072), ('avgpool', 0.579800009727478)]\n"
     ]
    },
    {
     "data": {
      "image/png": "[encoded data removed]",
      "text/plain": [
       "<Figure size 640x480 with 1 Axes>"
      ]
     },
     "metadata": {},
     "output_type": "display_data"
    }
   ],
   "source": [
    "print(csi_layer_val)\n",
    "\n",
    "\n",
    "# Plotting SI versus layer using a line plot\n",
    "plt.plot([layer for layer, _ in csi_layer_val], [si for _, si in csi_layer_val])\n",
    "plt.xlabel('Layer')\n",
    "plt.ylabel('SI')\n",
    "plt.title('Separation Index (CSI) vs Layer - Val - NSC')\n",
    "plt.xticks(rotation=45)\n",
    "plt.grid(True)\n",
    "plt.show()"
   ]
  },
  {
   "cell_type": "markdown",
   "metadata": {
    "tags": []
   },
   "source": [
    "## SI and CenterSI layer for Test Loader"
   ]
  },
  {
   "cell_type": "code",
   "execution_count": 8,
   "metadata": {
    "tags": []
   },
   "outputs": [
    {
     "name": "stderr",
     "output_type": "stream",
     "text": [
      "100%|██████████| 40/40 [00:01<00:00, 26.47it/s]\n"
     ]
    }
   ],
   "source": [
    "# Pass data through the model and collect layer outputs\n",
    "with torch.no_grad():\n",
    "    for inputs, targets in tqdm(test_loader):\n",
    "        inputs = inputs.to('cuda:1' if torch.cuda.is_available() else 'cpu')\n",
    "\n",
    "        # Trigger the hooks and collect layer outputs\n",
    "        model(inputs)\n",
    "        labels_list.append(targets.cpu())\n",
    "\n",
    "        # Clear CUDA cache after processing each batch\n",
    "        if torch.cuda.is_available():\n",
    "            torch.cuda.empty_cache()\n",
    "\n",
    "# Post-process the data: Flatten and concatenate\n",
    "for layer_name, layer_features in features_per_layer.items():\n",
    "    if layer_features:  # Check if layer_features is not empty\n",
    "        # Flatten and concatenate the features for each layer\n",
    "        features_per_layer[layer_name] = torch.cat([f.view(f.size(0), -1) for f in layer_features])\n",
    "    else:\n",
    "        print(f\"No features captured for layer {layer_name}\")\n",
    "\n",
    "# Concatenate the labels\n",
    "labels = torch.cat(labels_list)"
   ]
  },
  {
   "cell_type": "markdown",
   "metadata": {},
   "source": [
    "### Calc SI"
   ]
  },
  {
   "cell_type": "code",
   "execution_count": 9,
   "metadata": {
    "tags": []
   },
   "outputs": [
    {
     "name": "stdout",
     "output_type": "stream",
     "text": [
      "Data has been normalized\n"
     ]
    },
    {
     "name": "stderr",
     "output_type": "stream",
     "text": [
      "Calculating SI: 100%|██████████| 5/5 [00:00<00:00, 373.28it/s]\n"
     ]
    },
    {
     "name": "stdout",
     "output_type": "stream",
     "text": [
      "Data has been normalized\n"
     ]
    },
    {
     "name": "stderr",
     "output_type": "stream",
     "text": [
      "Calculating SI: 100%|██████████| 5/5 [00:00<00:00, 7304.60it/s]\n"
     ]
    },
    {
     "name": "stdout",
     "output_type": "stream",
     "text": [
      "Data has been normalized\n"
     ]
    },
    {
     "name": "stderr",
     "output_type": "stream",
     "text": [
      "Calculating SI: 100%|██████████| 5/5 [00:00<00:00, 7721.47it/s]\n"
     ]
    },
    {
     "name": "stdout",
     "output_type": "stream",
     "text": [
      "Data has been normalized\n"
     ]
    },
    {
     "name": "stderr",
     "output_type": "stream",
     "text": [
      "Calculating SI: 100%|██████████| 5/5 [00:00<00:00, 7226.57it/s]\n"
     ]
    },
    {
     "name": "stdout",
     "output_type": "stream",
     "text": [
      "Data has been normalized\n"
     ]
    },
    {
     "name": "stderr",
     "output_type": "stream",
     "text": [
      "Calculating SI: 100%|██████████| 5/5 [00:00<00:00, 7796.10it/s]\n"
     ]
    },
    {
     "name": "stdout",
     "output_type": "stream",
     "text": [
      "Data has been normalized\n"
     ]
    },
    {
     "name": "stderr",
     "output_type": "stream",
     "text": [
      "Calculating SI: 100%|██████████| 5/5 [00:00<00:00, 7551.86it/s]\n"
     ]
    },
    {
     "name": "stdout",
     "output_type": "stream",
     "text": [
      "Data has been normalized\n"
     ]
    },
    {
     "name": "stderr",
     "output_type": "stream",
     "text": [
      "Calculating SI: 100%|██████████| 5/5 [00:00<00:00, 7807.71it/s]\n"
     ]
    },
    {
     "name": "stdout",
     "output_type": "stream",
     "text": [
      "Data has been normalized\n"
     ]
    },
    {
     "name": "stderr",
     "output_type": "stream",
     "text": [
      "Calculating SI: 100%|██████████| 5/5 [00:00<00:00, 7133.17it/s]\n"
     ]
    },
    {
     "name": "stdout",
     "output_type": "stream",
     "text": [
      "Data has been normalized\n"
     ]
    },
    {
     "name": "stderr",
     "output_type": "stream",
     "text": [
      "Calculating SI: 100%|██████████| 5/5 [00:00<00:00, 7825.19it/s]\n"
     ]
    },
    {
     "name": "stdout",
     "output_type": "stream",
     "text": [
      "Data has been normalized\n"
     ]
    },
    {
     "name": "stderr",
     "output_type": "stream",
     "text": [
      "Calculating SI: 100%|██████████| 5/5 [00:00<00:00, 7307.15it/s]\n"
     ]
    },
    {
     "name": "stdout",
     "output_type": "stream",
     "text": [
      "Data has been normalized\n"
     ]
    },
    {
     "name": "stderr",
     "output_type": "stream",
     "text": [
      "Calculating SI: 100%|██████████| 5/5 [00:00<00:00, 7732.86it/s]\n"
     ]
    },
    {
     "name": "stdout",
     "output_type": "stream",
     "text": [
      "Data has been normalized\n"
     ]
    },
    {
     "name": "stderr",
     "output_type": "stream",
     "text": [
      "Calculating SI: 100%|██████████| 5/5 [00:00<00:00, 7576.42it/s]\n"
     ]
    },
    {
     "name": "stdout",
     "output_type": "stream",
     "text": [
      "Data has been normalized\n"
     ]
    },
    {
     "name": "stderr",
     "output_type": "stream",
     "text": [
      "Calculating SI: 100%|██████████| 5/5 [00:00<00:00, 7361.01it/s]\n"
     ]
    },
    {
     "name": "stdout",
     "output_type": "stream",
     "text": [
      "Data has been normalized\n"
     ]
    },
    {
     "name": "stderr",
     "output_type": "stream",
     "text": [
      "Calculating SI: 100%|██████████| 5/5 [00:00<00:00, 7065.88it/s]\n"
     ]
    }
   ],
   "source": [
    "si_layer_test = []\n",
    "\n",
    "# Iterate through each layer's features in the dictionary\n",
    "for layer_name, features in features_per_layer.items():\n",
    "    instance_disturbance = ARH_SeparationIndex(features, labels, normalize=True)\n",
    "    si = instance_disturbance.si_batch(batch_size=2000)\n",
    "    si_layer_test.append((layer_name, si))"
   ]
  },
  {
   "cell_type": "code",
   "execution_count": 10,
   "metadata": {
    "tags": []
   },
   "outputs": [
    {
     "data": {
      "text/plain": [
       "[('conv1', 0.23469999432563782),\n",
       " ('elu1', 0.23510000109672546),\n",
       " ('conv2', 0.22709999978542328),\n",
       " ('elu2', 0.22749999165534973),\n",
       " ('maxpool1', 0.3005000054836273),\n",
       " ('resblock1', 0.43369999527931213),\n",
       " ('maxpool2', 0.4781000018119812),\n",
       " ('conv3', 0.44579997658729553),\n",
       " ('elu3', 0.4493999779224396),\n",
       " ('maxpool3', 0.5011000037193298),\n",
       " ('conv4', 0.4778999984264374),\n",
       " ('elu4', 0.49149999022483826),\n",
       " ('resblock2', 0.5022000074386597),\n",
       " ('avgpool', 0.49939998984336853)]"
      ]
     },
     "execution_count": 10,
     "metadata": {},
     "output_type": "execute_result"
    }
   ],
   "source": [
    "si_layer_test"
   ]
  },
  {
   "cell_type": "code",
   "execution_count": 11,
   "metadata": {
    "tags": []
   },
   "outputs": [
    {
     "data": {
      "image/png": "[encoded data removed]",
      "text/plain": [
       "<Figure size 640x480 with 1 Axes>"
      ]
     },
     "metadata": {},
     "output_type": "display_data"
    }
   ],
   "source": [
    "# Plotting SI versus layer using a line plot\n",
    "plt.plot([layer for layer, _ in si_layer_test], [si for _, si in si_layer_test])\n",
    "plt.xlabel('Layer')\n",
    "plt.ylabel('SI')\n",
    "plt.title('Separation Index (SI) vs Layer - Test - NSC')\n",
    "plt.xticks(rotation=45)\n",
    "plt.grid(True)\n",
    "plt.show()"
   ]
  },
  {
   "cell_type": "markdown",
   "metadata": {},
   "source": [
    "### Calc Center SI"
   ]
  },
  {
   "cell_type": "code",
   "execution_count": 12,
   "metadata": {
    "tags": []
   },
   "outputs": [
    {
     "name": "stdout",
     "output_type": "stream",
     "text": [
      "Data has been normalized\n"
     ]
    },
    {
     "name": "stderr",
     "output_type": "stream",
     "text": [
      "Calculating CSI: 100%|██████████| 5/5 [00:00<00:00, 934.93it/s]\n"
     ]
    },
    {
     "name": "stdout",
     "output_type": "stream",
     "text": [
      "Data has been normalized\n"
     ]
    },
    {
     "name": "stderr",
     "output_type": "stream",
     "text": [
      "Calculating CSI: 100%|██████████| 5/5 [00:00<00:00, 4712.70it/s]\n"
     ]
    },
    {
     "name": "stdout",
     "output_type": "stream",
     "text": [
      "Data has been normalized\n"
     ]
    },
    {
     "name": "stderr",
     "output_type": "stream",
     "text": [
      "Calculating CSI: 100%|██████████| 5/5 [00:00<00:00, 4461.08it/s]\n"
     ]
    },
    {
     "name": "stdout",
     "output_type": "stream",
     "text": [
      "Data has been normalized\n"
     ]
    },
    {
     "name": "stderr",
     "output_type": "stream",
     "text": [
      "Calculating CSI: 100%|██████████| 5/5 [00:00<00:00, 4896.46it/s]\n"
     ]
    },
    {
     "name": "stdout",
     "output_type": "stream",
     "text": [
      "Data has been normalized\n"
     ]
    },
    {
     "name": "stderr",
     "output_type": "stream",
     "text": [
      "Calculating CSI: 100%|██████████| 5/5 [00:00<00:00, 3220.44it/s]\n"
     ]
    },
    {
     "name": "stdout",
     "output_type": "stream",
     "text": [
      "Data has been normalized\n"
     ]
    },
    {
     "name": "stderr",
     "output_type": "stream",
     "text": [
      "Calculating CSI: 100%|██████████| 5/5 [00:00<00:00, 3228.37it/s]\n"
     ]
    },
    {
     "name": "stdout",
     "output_type": "stream",
     "text": [
      "Data has been normalized\n"
     ]
    },
    {
     "name": "stderr",
     "output_type": "stream",
     "text": [
      "Calculating CSI: 100%|██████████| 5/5 [00:00<00:00, 3919.91it/s]\n"
     ]
    },
    {
     "name": "stdout",
     "output_type": "stream",
     "text": [
      "Data has been normalized\n"
     ]
    },
    {
     "name": "stderr",
     "output_type": "stream",
     "text": [
      "Calculating CSI: 100%|██████████| 5/5 [00:00<00:00, 4313.35it/s]\n"
     ]
    },
    {
     "name": "stdout",
     "output_type": "stream",
     "text": [
      "Data has been normalized\n"
     ]
    },
    {
     "name": "stderr",
     "output_type": "stream",
     "text": [
      "Calculating CSI: 100%|██████████| 5/5 [00:00<00:00, 4480.14it/s]\n"
     ]
    },
    {
     "name": "stdout",
     "output_type": "stream",
     "text": [
      "Data has been normalized\n"
     ]
    },
    {
     "name": "stderr",
     "output_type": "stream",
     "text": [
      "Calculating CSI: 100%|██████████| 5/5 [00:00<00:00, 4045.43it/s]\n"
     ]
    },
    {
     "name": "stdout",
     "output_type": "stream",
     "text": [
      "Data has been normalized\n"
     ]
    },
    {
     "name": "stderr",
     "output_type": "stream",
     "text": [
      "Calculating CSI: 100%|██████████| 5/5 [00:00<00:00, 3259.48it/s]\n"
     ]
    },
    {
     "name": "stdout",
     "output_type": "stream",
     "text": [
      "Data has been normalized\n"
     ]
    },
    {
     "name": "stderr",
     "output_type": "stream",
     "text": [
      "Calculating CSI: 100%|██████████| 5/5 [00:00<00:00, 3300.00it/s]\n"
     ]
    },
    {
     "name": "stdout",
     "output_type": "stream",
     "text": [
      "Data has been normalized\n"
     ]
    },
    {
     "name": "stderr",
     "output_type": "stream",
     "text": [
      "Calculating CSI: 100%|██████████| 5/5 [00:00<00:00, 4329.38it/s]\n"
     ]
    },
    {
     "name": "stdout",
     "output_type": "stream",
     "text": [
      "Data has been normalized\n"
     ]
    },
    {
     "name": "stderr",
     "output_type": "stream",
     "text": [
      "Calculating CSI: 100%|██████████| 5/5 [00:00<00:00, 4397.47it/s]\n"
     ]
    }
   ],
   "source": [
    "csi_layer_test = []\n",
    "\n",
    "# Iterate through each layer's features in the dictionary\n",
    "for layer_name, features in features_per_layer.items():\n",
    "    instance_disturbance = ARH_SeparationIndex(features, labels, normalize=True)\n",
    "    csi = instance_disturbance.center_si_batch(batch_size=2000)\n",
    "    csi_layer_test.append((layer_name, csi))"
   ]
  },
  {
   "cell_type": "code",
   "execution_count": 14,
   "metadata": {
    "tags": []
   },
   "outputs": [
    {
     "name": "stdout",
     "output_type": "stream",
     "text": [
      "[('conv1', 0.3382999897003174), ('elu1', 0.34129998087882996), ('conv2', 0.3310999870300293), ('elu2', 0.3393999934196472), ('maxpool1', 0.3862999975681305), ('resblock1', 0.45409998297691345), ('maxpool2', 0.45979997515678406), ('conv3', 0.44599997997283936), ('elu3', 0.45260000228881836), ('maxpool3', 0.48909997940063477), ('conv4', 0.4602999985218048), ('elu4', 0.47929999232292175), ('resblock2', 0.5397999882698059), ('avgpool', 0.5618000030517578)]\n"
     ]
    },
    {
     "data": {
      "image/png": "[encoded data removed]",
      "text/plain": [
       "<Figure size 640x480 with 1 Axes>"
      ]
     },
     "metadata": {},
     "output_type": "display_data"
    }
   ],
   "source": [
    "print(csi_layer_test)\n",
    "\n",
    "\n",
    "# Plotting SI versus layer using a line plot\n",
    "plt.plot([layer for layer, _ in csi_layer_test], [si for _, si in csi_layer_test])\n",
    "plt.xlabel('Layer')\n",
    "plt.ylabel('SI')\n",
    "plt.title('Center Separation Index (CSI) vs Layer - Test - NSC')\n",
    "plt.xticks(rotation=45)\n",
    "plt.grid(True)\n",
    "plt.show()"
   ]
  },
  {
   "cell_type": "code",
   "execution_count": null,
   "metadata": {},
   "outputs": [],
   "source": []
  }
 ],
 "metadata": {
  "accelerator": "GPU",
  "colab": {
   "gpuType": "T4",
   "provenance": []
  },
  "kernelspec": {
   "display_name": "torch2",
   "language": "python",
   "name": "torch2"
  },
  "language_info": {
   "codemirror_mode": {
    "name": "ipython",
    "version": 3
   },
   "file_extension": ".py",
   "mimetype": "text/x-python",
   "name": "python",
   "nbconvert_exporter": "python",
   "pygments_lexer": "ipython3",
   "version": "3.11.6"
  }
 },
 "nbformat": 4,
 "nbformat_minor": 4
}
