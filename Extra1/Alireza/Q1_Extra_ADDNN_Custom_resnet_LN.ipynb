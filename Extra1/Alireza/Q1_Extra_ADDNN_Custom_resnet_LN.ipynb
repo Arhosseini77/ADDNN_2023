{
 "cells": [
  {
   "cell_type": "markdown",
   "metadata": {
    "id": "D_FzYJ6kBPmA"
   },
   "source": [
    "# Import Libraries"
   ]
  },
  {
   "cell_type": "code",
   "execution_count": 1,
   "metadata": {
    "id": "QwVCQZDtBSOW",
    "tags": []
   },
   "outputs": [],
   "source": [
    "import torch\n",
    "import torch.nn as nn\n",
    "import torch.nn.functional as F\n",
    "\n",
    "import torch.optim as optim\n",
    "from torch.optim.lr_scheduler import StepLR\n",
    "from torchvision import datasets, transforms\n",
    "from torch.utils.data import DataLoader, random_split\n",
    "from sklearn.model_selection import train_test_split\n",
    "\n",
    "import matplotlib.pyplot as plt\n",
    "from tqdm import tqdm"
   ]
  },
  {
   "cell_type": "code",
   "execution_count": 2,
   "metadata": {
    "tags": []
   },
   "outputs": [
    {
     "name": "stdout",
     "output_type": "stream",
     "text": [
      "2\n",
      "NVIDIA GeForce RTX 3090\n"
     ]
    }
   ],
   "source": [
    "# Check GPU\n",
    "print(torch.cuda.device_count())\n",
    "print(torch.cuda.get_device_name(1))"
   ]
  },
  {
   "cell_type": "markdown",
   "metadata": {
    "id": "aNA78o8BBtC-",
    "tags": []
   },
   "source": [
    "# Part C "
   ]
  },
  {
   "cell_type": "markdown",
   "metadata": {
    "id": "quDe3fsABTNB"
   },
   "source": [
    "## Implement Custom Resnet + Layer Normalization"
   ]
  },
  {
   "cell_type": "code",
   "execution_count": 3,
   "metadata": {
    "colab": {
     "base_uri": "https://localhost:8080/",
     "height": 247
    },
    "id": "AqPnnPgaBSzd",
    "outputId": "0a9b901d-aa7f-4daa-af0f-486f012cb733",
    "tags": []
   },
   "outputs": [],
   "source": [
    "class CustomResNetBlock(nn.Module):\n",
    "    def __init__(self, in_channels, out_channels, size):\n",
    "        super(CustomResNetBlock, self).__init__()\n",
    "        self.conv1 = nn.Conv2d(in_channels, out_channels, kernel_size=3, padding=1)\n",
    "        self.ln1 = nn.LayerNorm([out_channels, size, size])\n",
    "        self.elu = nn.ELU()\n",
    "        self.conv2 = nn.Conv2d(out_channels, out_channels, kernel_size=3, padding=1)\n",
    "        self.ln2 = nn.LayerNorm([out_channels, size, size])\n",
    "\n",
    "    def forward(self, x):\n",
    "        shortcut = x\n",
    "        x = self.conv1(x)\n",
    "        x = self.ln1(x)\n",
    "        x = self.elu(x)\n",
    "        x = self.conv2(x)\n",
    "        x = self.ln2(x)\n",
    "        x += shortcut\n",
    "        x = self.elu(x)\n",
    "        return x\n",
    "\n",
    "class CustomResNet_LN(nn.Module):\n",
    "    def __init__(self):\n",
    "        super(CustomResNet_LN, self).__init__()\n",
    "        # Initial convolutional layers\n",
    "        self.conv1 = nn.Conv2d(3, 32, kernel_size=3, padding=1)\n",
    "        self.ln1 = nn.LayerNorm([32, 32, 32])\n",
    "        self.elu1 = nn.ELU()\n",
    "        self.conv2 = nn.Conv2d(32, 64, kernel_size=3, padding=1)\n",
    "        self.ln2 = nn.LayerNorm([64, 32, 32])\n",
    "        self.elu2 = nn.ELU()\n",
    "        self.maxpool1 = nn.MaxPool2d(kernel_size=2)\n",
    "        \n",
    "        # Residual blocks\n",
    "        self.resblock1 = CustomResNetBlock(64, 64, 16)\n",
    "        self.conv3 = nn.Conv2d(64, 128, kernel_size=3, padding=1)\n",
    "        self.ln3 = nn.LayerNorm([128, 16, 16])\n",
    "        self.elu3 = nn.ELU()\n",
    "        self.maxpool2 = nn.MaxPool2d(kernel_size=2)\n",
    "        self.conv4 = nn.Conv2d(128, 256, kernel_size=3, padding=1)\n",
    "        self.maxpool3 = nn.MaxPool2d(kernel_size=2)\n",
    "        self.ln4 = nn.LayerNorm([256, 8, 8])\n",
    "        self.elu4 = nn.ELU()\n",
    "        self.resblock2 = CustomResNetBlock(256, 256, 4)\n",
    "        \n",
    "        # Average pooling and fully connected layers\n",
    "        self.avgpool = nn.AvgPool2d(kernel_size=3, stride=2)\n",
    "        self.flatten = nn.Flatten()\n",
    "        self.fc1 = nn.Linear(256, 256)\n",
    "        self.ln5 = nn.LayerNorm(256)\n",
    "        self.fc2 = nn.Linear(256, 10)\n",
    "        self.softmax = nn.Softmax(dim=1)\n",
    "\n",
    "    def forward(self, x):\n",
    "        x = self.conv1(x)\n",
    "        x = self.ln1(x)\n",
    "        x = self.elu1(x)\n",
    "        x = self.conv2(x)\n",
    "        x = self.ln2(x)\n",
    "        x = self.elu2(x)\n",
    "        x = self.maxpool1(x)\n",
    "        \n",
    "        x = self.resblock1(x)\n",
    "        x = self.conv3(x)\n",
    "        x = self.ln3(x)\n",
    "        x = self.elu3(x)\n",
    "        x = self.maxpool2(x)\n",
    "        \n",
    "        x = self.conv4(x)\n",
    "        x = self.ln4(x)\n",
    "        x = self.elu4(x)\n",
    "        x = self.maxpool3(x)\n",
    "        x = self.resblock2(x)\n",
    "        x = self.avgpool(x)\n",
    "        x = self.flatten(x)\n",
    "        x = self.fc1(x)\n",
    "        x = self.ln5(x)\n",
    "        x = self.fc2(x)\n",
    "        x = self.softmax(x)\n",
    "        return x"
   ]
  },
  {
   "cell_type": "markdown",
   "metadata": {
    "id": "JDIWaZO4BoJG"
   },
   "source": [
    "## Load Dataset"
   ]
  },
  {
   "cell_type": "code",
   "execution_count": 4,
   "metadata": {
    "id": "8V4gTK4PBihv"
   },
   "outputs": [],
   "source": [
    "# Data augmentation and normalization\n",
    "transform_train = transforms.Compose([\n",
    "    transforms.RandomHorizontalFlip(),\n",
    "    transforms.RandomRotation(10),\n",
    "    transforms.ToTensor(),\n",
    "    transforms.Normalize((0.5, 0.5, 0.5), (0.5, 0.5, 0.5))\n",
    "])\n",
    "\n",
    "# # Data augmentation and normalization for training\n",
    "# transform_train = transforms.Compose([\n",
    "#     transforms.RandomHorizontalFlip(),\n",
    "#     transforms.RandomRotation(15),\n",
    "#     transforms.RandomResizedCrop(32, scale=(0.8, 1.0)),\n",
    "#     transforms.ColorJitter(brightness=0.1, contrast=0.1, saturation=0.1, hue=0.1),\n",
    "#     transforms.RandomAffine(degrees=0, translate=(0.1, 0.1)),\n",
    "#     transforms.ToTensor(),\n",
    "#     transforms.Normalize((0.5, 0.5, 0.5), (0.5, 0.5, 0.5))\n",
    "# ])\n",
    "\n",
    "transform_test = transforms.Compose([\n",
    "    transforms.ToTensor(),\n",
    "    transforms.Normalize((0.5, 0.5, 0.5), (0.5, 0.5, 0.5))\n",
    "])"
   ]
  },
  {
   "cell_type": "code",
   "execution_count": 5,
   "metadata": {
    "colab": {
     "base_uri": "https://localhost:8080/"
    },
    "id": "pFEN5wDcBwwe",
    "outputId": "9c66fc00-2d4a-4d12-8a18-244b82583cad"
   },
   "outputs": [
    {
     "name": "stdout",
     "output_type": "stream",
     "text": [
      "Files already downloaded and verified\n",
      "Files already downloaded and verified\n"
     ]
    }
   ],
   "source": [
    "# Load CIFAR-10 dataset\n",
    "train_dataset = datasets.CIFAR10(root='./data', train=True, download=True, transform=transform_train)\n",
    "test_dataset = datasets.CIFAR10(root='./data', train=False, download=True, transform=transform_test)\n",
    "\n",
    "# Splitting train dataset into train and validation sets\n",
    "train_size = int(0.9 * len(train_dataset))\n",
    "val_size = len(train_dataset) - train_size\n",
    "train_dataset, val_dataset = random_split(train_dataset, [train_size, val_size])\n",
    "\n",
    "# Data loaders\n",
    "train_loader = DataLoader(train_dataset, batch_size=256, shuffle=True)\n",
    "val_loader = DataLoader(val_dataset, batch_size=256, shuffle=False)\n",
    "test_loader = DataLoader(test_dataset, batch_size=256, shuffle=False)"
   ]
  },
  {
   "cell_type": "markdown",
   "metadata": {
    "id": "nmhQIr54B2oW"
   },
   "source": [
    "## Optimizer and Train Setup"
   ]
  },
  {
   "cell_type": "code",
   "execution_count": 6,
   "metadata": {
    "id": "3CzuU7SMB1H9"
   },
   "outputs": [],
   "source": [
    "# Model, optimizer, and scheduler\n",
    "model = CustomResNet_LN()\n",
    "optimizer = optim.SGD(model.parameters(), lr=0.01, momentum=0.9)\n",
    "scheduler = StepLR(optimizer, step_size=40, gamma=0.1)\n",
    "criterion = nn.CrossEntropyLoss()"
   ]
  },
  {
   "cell_type": "code",
   "execution_count": 7,
   "metadata": {
    "colab": {
     "base_uri": "https://localhost:8080/"
    },
    "id": "Q5Ln_L7oIPAi",
    "outputId": "3ef9c660-f4a3-42bd-91d5-b018c8cedc23"
   },
   "outputs": [
    {
     "data": {
      "text/plain": [
       "CustomResNet_LN(\n",
       "  (conv1): Conv2d(3, 32, kernel_size=(3, 3), stride=(1, 1), padding=(1, 1))\n",
       "  (ln1): LayerNorm((32, 32, 32), eps=1e-05, elementwise_affine=True)\n",
       "  (elu1): ELU(alpha=1.0)\n",
       "  (conv2): Conv2d(32, 64, kernel_size=(3, 3), stride=(1, 1), padding=(1, 1))\n",
       "  (ln2): LayerNorm((64, 32, 32), eps=1e-05, elementwise_affine=True)\n",
       "  (elu2): ELU(alpha=1.0)\n",
       "  (maxpool1): MaxPool2d(kernel_size=2, stride=2, padding=0, dilation=1, ceil_mode=False)\n",
       "  (resblock1): CustomResNetBlock(\n",
       "    (conv1): Conv2d(64, 64, kernel_size=(3, 3), stride=(1, 1), padding=(1, 1))\n",
       "    (ln1): LayerNorm((64, 16, 16), eps=1e-05, elementwise_affine=True)\n",
       "    (elu): ELU(alpha=1.0)\n",
       "    (conv2): Conv2d(64, 64, kernel_size=(3, 3), stride=(1, 1), padding=(1, 1))\n",
       "    (ln2): LayerNorm((64, 16, 16), eps=1e-05, elementwise_affine=True)\n",
       "  )\n",
       "  (conv3): Conv2d(64, 128, kernel_size=(3, 3), stride=(1, 1), padding=(1, 1))\n",
       "  (ln3): LayerNorm((128, 16, 16), eps=1e-05, elementwise_affine=True)\n",
       "  (elu3): ELU(alpha=1.0)\n",
       "  (maxpool2): MaxPool2d(kernel_size=2, stride=2, padding=0, dilation=1, ceil_mode=False)\n",
       "  (conv4): Conv2d(128, 256, kernel_size=(3, 3), stride=(1, 1), padding=(1, 1))\n",
       "  (maxpool3): MaxPool2d(kernel_size=2, stride=2, padding=0, dilation=1, ceil_mode=False)\n",
       "  (ln4): LayerNorm((256, 8, 8), eps=1e-05, elementwise_affine=True)\n",
       "  (elu4): ELU(alpha=1.0)\n",
       "  (resblock2): CustomResNetBlock(\n",
       "    (conv1): Conv2d(256, 256, kernel_size=(3, 3), stride=(1, 1), padding=(1, 1))\n",
       "    (ln1): LayerNorm((256, 4, 4), eps=1e-05, elementwise_affine=True)\n",
       "    (elu): ELU(alpha=1.0)\n",
       "    (conv2): Conv2d(256, 256, kernel_size=(3, 3), stride=(1, 1), padding=(1, 1))\n",
       "    (ln2): LayerNorm((256, 4, 4), eps=1e-05, elementwise_affine=True)\n",
       "  )\n",
       "  (avgpool): AvgPool2d(kernel_size=3, stride=2, padding=0)\n",
       "  (flatten): Flatten(start_dim=1, end_dim=-1)\n",
       "  (fc1): Linear(in_features=256, out_features=256, bias=True)\n",
       "  (ln5): LayerNorm((256,), eps=1e-05, elementwise_affine=True)\n",
       "  (fc2): Linear(in_features=256, out_features=10, bias=True)\n",
       "  (softmax): Softmax(dim=1)\n",
       ")"
      ]
     },
     "execution_count": 7,
     "metadata": {},
     "output_type": "execute_result"
    }
   ],
   "source": [
    "# Determine if CUDA is available and set the device accordingly\n",
    "device = torch.device(\"cuda:1\" if torch.cuda.is_available() else \"cpu\")\n",
    "model.to(device)"
   ]
  },
  {
   "cell_type": "code",
   "execution_count": 8,
   "metadata": {
    "id": "8AjZNiXpHwDi"
   },
   "outputs": [],
   "source": [
    "def train(model, device, train_loader, optimizer, criterion):\n",
    "    model.train()\n",
    "    train_loss = 0\n",
    "    correct = 0\n",
    "    total = 0\n",
    "    for data, target in train_loader:\n",
    "        data, target = data.to(device), target.to(device)\n",
    "        optimizer.zero_grad()\n",
    "        output = model(data)\n",
    "        loss = criterion(output, target)\n",
    "        train_loss += loss.item()\n",
    "        loss.backward()\n",
    "        optimizer.step()\n",
    "\n",
    "        _, predicted = torch.max(output.data, 1)\n",
    "        total += target.size(0)\n",
    "        correct += (predicted == target).sum().item()\n",
    "\n",
    "    train_loss /= len(train_loader)\n",
    "    train_accuracy = 100 * correct / total\n",
    "    return train_loss, train_accuracy\n",
    "\n",
    "def test(model, device, test_loader, criterion):\n",
    "    model.eval()\n",
    "    test_loss = 0\n",
    "    correct = 0\n",
    "    with torch.no_grad():\n",
    "        for data, target in test_loader:\n",
    "            data, target = data.to(device), target.to(device)\n",
    "            output = model(data)\n",
    "            loss = criterion(output, target)\n",
    "            test_loss += loss.item()\n",
    "            _, predicted = output.max(1)\n",
    "            correct += predicted.eq(target).sum().item()\n",
    "\n",
    "    test_loss /= len(test_loader)\n",
    "    test_accuracy = 100. * correct / len(test_loader.dataset)\n",
    "    return test_loss, test_accuracy\n",
    "\n",
    "# Training loop with tracking of training and validation accuracies\n",
    "train_losses, train_accuracies, val_losses, val_accuracies = [], [], [], []\n",
    "best_val_accuracy = 0\n",
    "best_model_weights = None\n"
   ]
  },
  {
   "cell_type": "code",
   "execution_count": 9,
   "metadata": {
    "colab": {
     "base_uri": "https://localhost:8080/"
    },
    "id": "09-npVVjIP1z",
    "outputId": "3c14999d-945f-4031-d719-9b7e3085b0cf"
   },
   "outputs": [
    {
     "name": "stdout",
     "output_type": "stream",
     "text": [
      "Epoch: 1, Train Loss: 2.1351, Train Accuracy: 32.42%, Val Loss: 2.0535, Val Accuracy: 40.42%\n",
      "Epoch: 2, Train Loss: 2.0061, Train Accuracy: 45.93%, Val Loss: 1.9830, Val Accuracy: 48.78%\n",
      "Epoch: 3, Train Loss: 1.9429, Train Accuracy: 52.48%, Val Loss: 1.9273, Val Accuracy: 54.14%\n",
      "Epoch: 4, Train Loss: 1.8892, Train Accuracy: 57.91%, Val Loss: 1.9091, Val Accuracy: 55.28%\n",
      "Epoch: 5, Train Loss: 1.8546, Train Accuracy: 61.21%, Val Loss: 1.8197, Val Accuracy: 64.90%\n",
      "Epoch: 6, Train Loss: 1.8185, Train Accuracy: 65.03%, Val Loss: 1.8550, Val Accuracy: 61.22%\n",
      "Epoch: 7, Train Loss: 1.8065, Train Accuracy: 66.08%, Val Loss: 1.8081, Val Accuracy: 65.46%\n",
      "Epoch: 8, Train Loss: 1.7778, Train Accuracy: 68.92%, Val Loss: 1.7751, Val Accuracy: 68.92%\n",
      "Epoch: 9, Train Loss: 1.7716, Train Accuracy: 69.47%, Val Loss: 1.7752, Val Accuracy: 68.70%\n",
      "Epoch: 10, Train Loss: 1.7548, Train Accuracy: 71.11%, Val Loss: 1.7550, Val Accuracy: 71.00%\n",
      "Epoch: 11, Train Loss: 1.7495, Train Accuracy: 71.62%, Val Loss: 1.7699, Val Accuracy: 69.46%\n",
      "Epoch: 12, Train Loss: 1.7387, Train Accuracy: 72.72%, Val Loss: 1.7308, Val Accuracy: 73.30%\n",
      "Epoch: 13, Train Loss: 1.7253, Train Accuracy: 74.09%, Val Loss: 1.7173, Val Accuracy: 75.04%\n",
      "Epoch: 14, Train Loss: 1.7149, Train Accuracy: 74.96%, Val Loss: 1.7298, Val Accuracy: 73.70%\n",
      "Epoch: 15, Train Loss: 1.7191, Train Accuracy: 74.61%, Val Loss: 1.7046, Val Accuracy: 76.16%\n",
      "Epoch: 16, Train Loss: 1.7043, Train Accuracy: 76.06%, Val Loss: 1.7137, Val Accuracy: 75.12%\n",
      "Epoch: 17, Train Loss: 1.6986, Train Accuracy: 76.57%, Val Loss: 1.6842, Val Accuracy: 77.98%\n",
      "Epoch: 18, Train Loss: 1.6942, Train Accuracy: 76.98%, Val Loss: 1.6942, Val Accuracy: 77.12%\n",
      "Epoch: 19, Train Loss: 1.6886, Train Accuracy: 77.55%, Val Loss: 1.7008, Val Accuracy: 76.28%\n",
      "Epoch: 20, Train Loss: 1.6836, Train Accuracy: 78.15%, Val Loss: 1.7071, Val Accuracy: 75.38%\n",
      "Epoch: 21, Train Loss: 1.6764, Train Accuracy: 78.81%, Val Loss: 1.6807, Val Accuracy: 78.36%\n",
      "Epoch: 22, Train Loss: 1.6738, Train Accuracy: 78.99%, Val Loss: 1.6959, Val Accuracy: 76.92%\n",
      "Epoch: 23, Train Loss: 1.6711, Train Accuracy: 79.28%, Val Loss: 1.6793, Val Accuracy: 78.32%\n",
      "Epoch: 24, Train Loss: 1.6653, Train Accuracy: 79.83%, Val Loss: 1.6776, Val Accuracy: 78.50%\n",
      "Epoch: 25, Train Loss: 1.6610, Train Accuracy: 80.24%, Val Loss: 1.6928, Val Accuracy: 77.12%\n",
      "Epoch: 26, Train Loss: 1.6614, Train Accuracy: 80.22%, Val Loss: 1.6786, Val Accuracy: 78.30%\n",
      "Epoch: 27, Train Loss: 1.6572, Train Accuracy: 80.65%, Val Loss: 1.6652, Val Accuracy: 79.86%\n",
      "Epoch: 28, Train Loss: 1.6510, Train Accuracy: 81.33%, Val Loss: 1.6835, Val Accuracy: 78.12%\n",
      "Epoch: 29, Train Loss: 1.6447, Train Accuracy: 81.79%, Val Loss: 1.6709, Val Accuracy: 79.38%\n",
      "Epoch: 30, Train Loss: 1.6476, Train Accuracy: 81.54%, Val Loss: 1.6741, Val Accuracy: 78.78%\n",
      "Epoch: 31, Train Loss: 1.6418, Train Accuracy: 82.25%, Val Loss: 1.6708, Val Accuracy: 79.18%\n",
      "Epoch: 32, Train Loss: 1.6409, Train Accuracy: 82.25%, Val Loss: 1.6698, Val Accuracy: 79.26%\n",
      "Epoch: 33, Train Loss: 1.6374, Train Accuracy: 82.55%, Val Loss: 1.6673, Val Accuracy: 79.64%\n",
      "Epoch: 34, Train Loss: 1.6359, Train Accuracy: 82.82%, Val Loss: 1.6541, Val Accuracy: 80.96%\n",
      "Epoch: 35, Train Loss: 1.6308, Train Accuracy: 83.30%, Val Loss: 1.6603, Val Accuracy: 80.42%\n",
      "Epoch: 36, Train Loss: 1.6306, Train Accuracy: 83.27%, Val Loss: 1.6508, Val Accuracy: 81.22%\n",
      "Epoch: 37, Train Loss: 1.6275, Train Accuracy: 83.64%, Val Loss: 1.6613, Val Accuracy: 80.12%\n",
      "Epoch: 38, Train Loss: 1.6277, Train Accuracy: 83.54%, Val Loss: 1.6583, Val Accuracy: 80.52%\n",
      "Epoch: 39, Train Loss: 1.6232, Train Accuracy: 84.03%, Val Loss: 1.6507, Val Accuracy: 80.84%\n",
      "Epoch: 40, Train Loss: 1.6199, Train Accuracy: 84.38%, Val Loss: 1.6467, Val Accuracy: 81.70%\n",
      "Epoch: 41, Train Loss: 1.5919, Train Accuracy: 87.25%, Val Loss: 1.6276, Val Accuracy: 83.52%\n",
      "Epoch: 42, Train Loss: 1.5839, Train Accuracy: 88.08%, Val Loss: 1.6244, Val Accuracy: 83.74%\n",
      "Epoch: 43, Train Loss: 1.5818, Train Accuracy: 88.25%, Val Loss: 1.6248, Val Accuracy: 83.96%\n",
      "Epoch: 44, Train Loss: 1.5805, Train Accuracy: 88.37%, Val Loss: 1.6258, Val Accuracy: 83.78%\n",
      "Epoch: 45, Train Loss: 1.5784, Train Accuracy: 88.61%, Val Loss: 1.6242, Val Accuracy: 84.04%\n",
      "Epoch: 46, Train Loss: 1.5763, Train Accuracy: 88.81%, Val Loss: 1.6237, Val Accuracy: 84.02%\n",
      "Epoch: 47, Train Loss: 1.5763, Train Accuracy: 88.81%, Val Loss: 1.6215, Val Accuracy: 84.02%\n",
      "Epoch: 48, Train Loss: 1.5746, Train Accuracy: 88.93%, Val Loss: 1.6213, Val Accuracy: 84.40%\n",
      "Epoch: 49, Train Loss: 1.5734, Train Accuracy: 89.07%, Val Loss: 1.6225, Val Accuracy: 83.84%\n",
      "Epoch: 50, Train Loss: 1.5742, Train Accuracy: 88.98%, Val Loss: 1.6227, Val Accuracy: 84.16%\n",
      "Epoch: 51, Train Loss: 1.5727, Train Accuracy: 89.15%, Val Loss: 1.6223, Val Accuracy: 84.14%\n",
      "Epoch: 52, Train Loss: 1.5713, Train Accuracy: 89.29%, Val Loss: 1.6139, Val Accuracy: 85.18%\n",
      "Epoch: 53, Train Loss: 1.5706, Train Accuracy: 89.44%, Val Loss: 1.6253, Val Accuracy: 84.02%\n",
      "Epoch: 54, Train Loss: 1.5695, Train Accuracy: 89.52%, Val Loss: 1.6196, Val Accuracy: 84.30%\n",
      "Epoch: 55, Train Loss: 1.5689, Train Accuracy: 89.57%, Val Loss: 1.6217, Val Accuracy: 84.10%\n",
      "Epoch: 56, Train Loss: 1.5683, Train Accuracy: 89.68%, Val Loss: 1.6222, Val Accuracy: 84.16%\n",
      "Epoch: 57, Train Loss: 1.5687, Train Accuracy: 89.58%, Val Loss: 1.6238, Val Accuracy: 83.68%\n",
      "Epoch: 58, Train Loss: 1.5678, Train Accuracy: 89.70%, Val Loss: 1.6205, Val Accuracy: 84.22%\n",
      "Epoch: 59, Train Loss: 1.5671, Train Accuracy: 89.77%, Val Loss: 1.6196, Val Accuracy: 84.46%\n",
      "Epoch: 60, Train Loss: 1.5664, Train Accuracy: 89.92%, Val Loss: 1.6164, Val Accuracy: 84.66%\n",
      "Epoch: 61, Train Loss: 1.5662, Train Accuracy: 89.84%, Val Loss: 1.6217, Val Accuracy: 83.94%\n",
      "Epoch: 62, Train Loss: 1.5647, Train Accuracy: 90.06%, Val Loss: 1.6202, Val Accuracy: 84.38%\n",
      "Epoch: 63, Train Loss: 1.5645, Train Accuracy: 90.06%, Val Loss: 1.6191, Val Accuracy: 84.28%\n",
      "Epoch: 64, Train Loss: 1.5654, Train Accuracy: 89.91%, Val Loss: 1.6150, Val Accuracy: 85.06%\n",
      "Epoch: 65, Train Loss: 1.5622, Train Accuracy: 90.24%, Val Loss: 1.6202, Val Accuracy: 83.90%\n",
      "Epoch: 66, Train Loss: 1.5619, Train Accuracy: 90.38%, Val Loss: 1.6203, Val Accuracy: 84.32%\n",
      "Epoch: 67, Train Loss: 1.5613, Train Accuracy: 90.41%, Val Loss: 1.6155, Val Accuracy: 84.82%\n",
      "Epoch: 68, Train Loss: 1.5610, Train Accuracy: 90.38%, Val Loss: 1.6152, Val Accuracy: 84.72%\n",
      "Epoch: 69, Train Loss: 1.5607, Train Accuracy: 90.44%, Val Loss: 1.6163, Val Accuracy: 84.72%\n",
      "Epoch: 70, Train Loss: 1.5604, Train Accuracy: 90.54%, Val Loss: 1.6111, Val Accuracy: 85.26%\n",
      "Epoch: 71, Train Loss: 1.5604, Train Accuracy: 90.50%, Val Loss: 1.6195, Val Accuracy: 84.22%\n",
      "Epoch: 72, Train Loss: 1.5595, Train Accuracy: 90.58%, Val Loss: 1.6214, Val Accuracy: 83.80%\n",
      "Epoch: 73, Train Loss: 1.5582, Train Accuracy: 90.72%, Val Loss: 1.6135, Val Accuracy: 84.84%\n",
      "Epoch: 74, Train Loss: 1.5589, Train Accuracy: 90.63%, Val Loss: 1.6196, Val Accuracy: 84.22%\n",
      "Epoch: 75, Train Loss: 1.5566, Train Accuracy: 90.85%, Val Loss: 1.6170, Val Accuracy: 84.48%\n",
      "Epoch: 76, Train Loss: 1.5561, Train Accuracy: 90.96%, Val Loss: 1.6173, Val Accuracy: 84.84%\n",
      "Epoch: 77, Train Loss: 1.5557, Train Accuracy: 90.98%, Val Loss: 1.6171, Val Accuracy: 84.88%\n",
      "Epoch: 78, Train Loss: 1.5553, Train Accuracy: 91.06%, Val Loss: 1.6192, Val Accuracy: 84.28%\n",
      "Epoch: 79, Train Loss: 1.5558, Train Accuracy: 90.98%, Val Loss: 1.6164, Val Accuracy: 84.60%\n",
      "Epoch: 80, Train Loss: 1.5545, Train Accuracy: 91.09%, Val Loss: 1.6181, Val Accuracy: 84.70%\n",
      "Epoch: 81, Train Loss: 1.5530, Train Accuracy: 91.17%, Val Loss: 1.6126, Val Accuracy: 85.02%\n",
      "Epoch: 82, Train Loss: 1.5519, Train Accuracy: 91.31%, Val Loss: 1.6158, Val Accuracy: 84.66%\n",
      "Epoch: 83, Train Loss: 1.5499, Train Accuracy: 91.58%, Val Loss: 1.6196, Val Accuracy: 84.04%\n",
      "Epoch: 84, Train Loss: 1.5508, Train Accuracy: 91.45%, Val Loss: 1.6143, Val Accuracy: 85.04%\n",
      "Epoch: 85, Train Loss: 1.5504, Train Accuracy: 91.53%, Val Loss: 1.6155, Val Accuracy: 84.70%\n",
      "Epoch: 86, Train Loss: 1.5506, Train Accuracy: 91.49%, Val Loss: 1.6128, Val Accuracy: 85.28%\n",
      "Epoch: 87, Train Loss: 1.5496, Train Accuracy: 91.58%, Val Loss: 1.6147, Val Accuracy: 84.64%\n",
      "Epoch: 88, Train Loss: 1.5494, Train Accuracy: 91.60%, Val Loss: 1.6139, Val Accuracy: 84.68%\n",
      "Epoch: 89, Train Loss: 1.5492, Train Accuracy: 91.63%, Val Loss: 1.6151, Val Accuracy: 84.84%\n",
      "Epoch: 90, Train Loss: 1.5493, Train Accuracy: 91.64%, Val Loss: 1.6104, Val Accuracy: 85.06%\n",
      "Epoch: 91, Train Loss: 1.5500, Train Accuracy: 91.56%, Val Loss: 1.6138, Val Accuracy: 85.00%\n",
      "Epoch: 92, Train Loss: 1.5487, Train Accuracy: 91.73%, Val Loss: 1.6156, Val Accuracy: 84.96%\n",
      "Epoch: 93, Train Loss: 1.5482, Train Accuracy: 91.76%, Val Loss: 1.6186, Val Accuracy: 84.48%\n",
      "Epoch: 94, Train Loss: 1.5497, Train Accuracy: 91.54%, Val Loss: 1.6058, Val Accuracy: 85.62%\n",
      "Epoch: 95, Train Loss: 1.5508, Train Accuracy: 91.47%, Val Loss: 1.6127, Val Accuracy: 85.06%\n",
      "Epoch: 96, Train Loss: 1.5489, Train Accuracy: 91.62%, Val Loss: 1.6110, Val Accuracy: 85.28%\n",
      "Epoch: 97, Train Loss: 1.5488, Train Accuracy: 91.68%, Val Loss: 1.6161, Val Accuracy: 84.56%\n",
      "Epoch: 98, Train Loss: 1.5484, Train Accuracy: 91.71%, Val Loss: 1.6145, Val Accuracy: 84.64%\n",
      "Epoch: 99, Train Loss: 1.5497, Train Accuracy: 91.64%, Val Loss: 1.6144, Val Accuracy: 84.68%\n",
      "Epoch: 100, Train Loss: 1.5489, Train Accuracy: 91.71%, Val Loss: 1.6132, Val Accuracy: 84.92%\n"
     ]
    }
   ],
   "source": [
    "for epoch in range(1, 101):\n",
    "    train_loss, train_accuracy = train(model, device, train_loader, optimizer , criterion)\n",
    "    val_loss, val_accuracy = test(model, device, val_loader , criterion)\n",
    "\n",
    "    train_losses.append(train_loss)\n",
    "    train_accuracies.append(train_accuracy)\n",
    "    val_losses.append(val_loss)\n",
    "    val_accuracies.append(val_accuracy)\n",
    "\n",
    "    if val_accuracy > best_val_accuracy:\n",
    "        best_val_accuracy = val_accuracy\n",
    "        best_model_weights = model.state_dict()\n",
    "\n",
    "    print(f'Epoch: {epoch}, Train Loss: {train_loss:.4f}, Train Accuracy: {train_accuracy:.2f}%, Val Loss: {val_loss:.4f}, Val Accuracy: {val_accuracy:.2f}%')\n",
    "    scheduler.step()"
   ]
  },
  {
   "cell_type": "code",
   "execution_count": 10,
   "metadata": {
    "colab": {
     "base_uri": "https://localhost:8080/",
     "height": 522
    },
    "id": "Hj3juhQ1IYxO",
    "outputId": "64058bc6-eb0f-4da8-f120-765da7e9807d"
   },
   "outputs": [
    {
     "data": {
      "image/png": "[encoded data removed]",
      "text/plain": [
       "<Figure size 1200x500 with 2 Axes>"
      ]
     },
     "metadata": {},
     "output_type": "display_data"
    },
    {
     "name": "stdout",
     "output_type": "stream",
     "text": [
      "Best Validation Accuracy: 85.62%\n",
      "Test Accuracy of the final model: 85.24%\n"
     ]
    }
   ],
   "source": [
    "# Load best model weights and evaluate on test set\n",
    "model.load_state_dict(best_model_weights)\n",
    "test_loss, test_accuracy = test(model, device, test_loader , criterion)\n",
    "\n",
    "# Plotting training and validation loss and accuracy\n",
    "plt.figure(figsize=(12, 5))\n",
    "\n",
    "plt.subplot(1, 2, 1)\n",
    "plt.plot(train_losses, label='Train Loss')\n",
    "plt.plot(val_losses, label='Validation Loss')\n",
    "plt.title('Training and Validation Loss')\n",
    "plt.xlabel('Epochs')\n",
    "plt.ylabel('Loss')\n",
    "plt.legend()\n",
    "\n",
    "plt.subplot(1, 2, 2)\n",
    "plt.plot(train_accuracies, label='Train Accuracy')\n",
    "plt.plot(val_accuracies, label='Validation Accuracy')\n",
    "plt.title('Training and Validation Accuracy')\n",
    "plt.xlabel('Epochs')\n",
    "plt.ylabel('Accuracy (%)')\n",
    "plt.legend()\n",
    "\n",
    "plt.show()\n",
    "\n",
    "# Print best validation accuracy and test accuracy\n",
    "print(f'Best Validation Accuracy: {best_val_accuracy:.2f}%')\n",
    "print(f'Test Accuracy of the final model: {test_accuracy:.2f}%')\n",
    "\n",
    "# Save best model weights\n",
    "torch.save(best_model_weights, 'best_custom_resnet_weights_LN.pth')"
   ]
  },
  {
   "cell_type": "markdown",
   "metadata": {
    "id": "UO5dnC5YeJrh",
    "tags": []
   },
   "source": [
    "# Layer Wise analyse , Part A"
   ]
  },
  {
   "cell_type": "code",
   "execution_count": null,
   "metadata": {
    "colab": {
     "base_uri": "https://localhost:8080/"
    },
    "id": "pgoYCnwadXJV",
    "outputId": "4da311d0-2330-4cd8-84f2-cf71582117b0",
    "tags": []
   },
   "outputs": [],
   "source": [
    "# download Pretrained Weight of model\n",
    "import gdown\n",
    "id = \"1DMolTIP0BuQAD0xzegt31_VojQLQ5SZq\"\n",
    "gdown.download(id=id, quiet=False)"
   ]
  },
  {
   "cell_type": "code",
   "execution_count": null,
   "metadata": {
    "tags": []
   },
   "outputs": [],
   "source": [
    "!git clone https://github.com/Arhosseini77/data_complexity_measures"
   ]
  },
  {
   "cell_type": "code",
   "execution_count": 2,
   "metadata": {
    "tags": []
   },
   "outputs": [],
   "source": [
    "from data_complexity_measures.models.ARH_SeparationIndex import ARH_SeparationIndex"
   ]
  },
  {
   "cell_type": "code",
   "execution_count": 3,
   "metadata": {
    "id": "STuVWv9ghSOY",
    "tags": []
   },
   "outputs": [],
   "source": [
    "class CustomResNetBlock(nn.Module):\n",
    "    def __init__(self, in_channels, out_channels, size):\n",
    "        super(CustomResNetBlock, self).__init__()\n",
    "        self.conv1 = nn.Conv2d(in_channels, out_channels, kernel_size=3, padding=1)\n",
    "        self.ln1 = nn.LayerNorm([out_channels, size, size])\n",
    "        self.elu = nn.ELU()\n",
    "        self.conv2 = nn.Conv2d(out_channels, out_channels, kernel_size=3, padding=1)\n",
    "        self.ln2 = nn.LayerNorm([out_channels, size, size])\n",
    "\n",
    "    def forward(self, x):\n",
    "        shortcut = x\n",
    "        x = self.conv1(x)\n",
    "        x = self.ln1(x)\n",
    "        x = self.elu(x)\n",
    "        x = self.conv2(x)\n",
    "        x = self.ln2(x)\n",
    "        x += shortcut\n",
    "        x = self.elu(x)\n",
    "        return x\n",
    "\n",
    "class CustomResNet_LN(nn.Module):\n",
    "    def __init__(self):\n",
    "        super(CustomResNet_LN, self).__init__()\n",
    "        # Initial convolutional layers\n",
    "        self.conv1 = nn.Conv2d(3, 32, kernel_size=3, padding=1)\n",
    "        self.ln1 = nn.LayerNorm([32, 32, 32])\n",
    "        self.elu1 = nn.ELU()\n",
    "        self.conv2 = nn.Conv2d(32, 64, kernel_size=3, padding=1)\n",
    "        self.ln2 = nn.LayerNorm([64, 32, 32])\n",
    "        self.elu2 = nn.ELU()\n",
    "        self.maxpool1 = nn.MaxPool2d(kernel_size=2)\n",
    "        \n",
    "        # Residual blocks\n",
    "        self.resblock1 = CustomResNetBlock(64, 64, 16)\n",
    "        self.conv3 = nn.Conv2d(64, 128, kernel_size=3, padding=1)\n",
    "        self.ln3 = nn.LayerNorm([128, 16, 16])\n",
    "        self.elu3 = nn.ELU()\n",
    "        self.maxpool2 = nn.MaxPool2d(kernel_size=2)\n",
    "        self.conv4 = nn.Conv2d(128, 256, kernel_size=3, padding=1)\n",
    "        self.maxpool3 = nn.MaxPool2d(kernel_size=2)\n",
    "        self.ln4 = nn.LayerNorm([256, 8, 8])\n",
    "        self.elu4 = nn.ELU()\n",
    "        self.resblock2 = CustomResNetBlock(256, 256, 4)\n",
    "        \n",
    "        # Average pooling and fully connected layers\n",
    "        self.avgpool = nn.AvgPool2d(kernel_size=3, stride=2)\n",
    "        self.flatten = nn.Flatten()\n",
    "        self.fc1 = nn.Linear(256, 256)\n",
    "        self.ln5 = nn.LayerNorm(256)\n",
    "        self.fc2 = nn.Linear(256, 10)\n",
    "        self.softmax = nn.Softmax(dim=1)\n",
    "\n",
    "    def forward(self, x):\n",
    "        x = self.conv1(x)\n",
    "        x = self.ln1(x)\n",
    "        x = self.elu1(x)\n",
    "        x = self.conv2(x)\n",
    "        x = self.ln2(x)\n",
    "        x = self.elu2(x)\n",
    "        x = self.maxpool1(x)\n",
    "        \n",
    "        x = self.resblock1(x)\n",
    "        x = self.conv3(x)\n",
    "        x = self.ln3(x)\n",
    "        x = self.elu3(x)\n",
    "        x = self.maxpool2(x)\n",
    "        \n",
    "        x = self.conv4(x)\n",
    "        x = self.ln4(x)\n",
    "        x = self.elu4(x)\n",
    "        x = self.maxpool3(x)\n",
    "        x = self.resblock2(x)\n",
    "        x = self.avgpool(x)\n",
    "        x = self.flatten(x)\n",
    "        x = self.fc1(x)\n",
    "        x = self.ln5(x)\n",
    "        x = self.fc2(x)\n",
    "        x = self.softmax(x)\n",
    "        return x"
   ]
  },
  {
   "cell_type": "code",
   "execution_count": 4,
   "metadata": {
    "id": "6kKwYvvhhhNQ",
    "tags": []
   },
   "outputs": [],
   "source": [
    "# Data augmentation and normalization\n",
    "transform_train = transforms.Compose([\n",
    "    transforms.ToTensor(),\n",
    "    transforms.Normalize((0.5, 0.5, 0.5), (0.5, 0.5, 0.5))\n",
    "])\n",
    "\n",
    "\n",
    "transform_test = transforms.Compose([\n",
    "    transforms.ToTensor(),\n",
    "    transforms.Normalize((0.5, 0.5, 0.5), (0.5, 0.5, 0.5))\n",
    "])"
   ]
  },
  {
   "cell_type": "code",
   "execution_count": 5,
   "metadata": {
    "colab": {
     "base_uri": "https://localhost:8080/"
    },
    "id": "lneeXtXehoLZ",
    "outputId": "4526402a-644d-4493-923e-830495c2adbb",
    "tags": []
   },
   "outputs": [
    {
     "name": "stdout",
     "output_type": "stream",
     "text": [
      "Files already downloaded and verified\n",
      "Files already downloaded and verified\n"
     ]
    }
   ],
   "source": [
    "# Load CIFAR-10 dataset\n",
    "train_dataset = datasets.CIFAR10(root='./data', train=True, download=True, transform=transform_train)\n",
    "test_dataset = datasets.CIFAR10(root='./data', train=False, download=True, transform=transform_test)\n",
    "\n",
    "# Splitting train dataset into train and validation sets\n",
    "train_size = int(0.9 * len(train_dataset))\n",
    "val_size = len(train_dataset) - train_size\n",
    "train_dataset, val_dataset = random_split(train_dataset, [train_size, val_size])\n",
    "\n",
    "\n",
    "# Further split train_dataset into train_loader_dataset and 20% balanced subset\n",
    "train_loader_dataset, _ = train_test_split(train_dataset.dataset, train_size=int(0.2 * len(train_dataset)),\n",
    "                                           test_size=None, shuffle=True, stratify=train_dataset.dataset.targets)\n",
    "\n",
    "# Data loaders\n",
    "train_loader = DataLoader(train_loader_dataset, batch_size=256, shuffle=True)\n",
    "val_loader = DataLoader(val_dataset, batch_size=256, shuffle=False)\n",
    "test_loader = DataLoader(test_dataset, batch_size=256, shuffle=False)"
   ]
  },
  {
   "cell_type": "code",
   "execution_count": 6,
   "metadata": {
    "colab": {
     "base_uri": "https://localhost:8080/"
    },
    "id": "WFG4opk2eWf5",
    "outputId": "d817a8a2-c740-40e3-d735-83623355e512",
    "tags": []
   },
   "outputs": [
    {
     "data": {
      "text/plain": [
       "CustomResNet_LN(\n",
       "  (conv1): Conv2d(3, 32, kernel_size=(3, 3), stride=(1, 1), padding=(1, 1))\n",
       "  (ln1): LayerNorm((32, 32, 32), eps=1e-05, elementwise_affine=True)\n",
       "  (elu1): ELU(alpha=1.0)\n",
       "  (conv2): Conv2d(32, 64, kernel_size=(3, 3), stride=(1, 1), padding=(1, 1))\n",
       "  (ln2): LayerNorm((64, 32, 32), eps=1e-05, elementwise_affine=True)\n",
       "  (elu2): ELU(alpha=1.0)\n",
       "  (maxpool1): MaxPool2d(kernel_size=2, stride=2, padding=0, dilation=1, ceil_mode=False)\n",
       "  (resblock1): CustomResNetBlock(\n",
       "    (conv1): Conv2d(64, 64, kernel_size=(3, 3), stride=(1, 1), padding=(1, 1))\n",
       "    (ln1): LayerNorm((64, 16, 16), eps=1e-05, elementwise_affine=True)\n",
       "    (elu): ELU(alpha=1.0)\n",
       "    (conv2): Conv2d(64, 64, kernel_size=(3, 3), stride=(1, 1), padding=(1, 1))\n",
       "    (ln2): LayerNorm((64, 16, 16), eps=1e-05, elementwise_affine=True)\n",
       "  )\n",
       "  (conv3): Conv2d(64, 128, kernel_size=(3, 3), stride=(1, 1), padding=(1, 1))\n",
       "  (ln3): LayerNorm((128, 16, 16), eps=1e-05, elementwise_affine=True)\n",
       "  (elu3): ELU(alpha=1.0)\n",
       "  (maxpool2): MaxPool2d(kernel_size=2, stride=2, padding=0, dilation=1, ceil_mode=False)\n",
       "  (conv4): Conv2d(128, 256, kernel_size=(3, 3), stride=(1, 1), padding=(1, 1))\n",
       "  (maxpool3): MaxPool2d(kernel_size=2, stride=2, padding=0, dilation=1, ceil_mode=False)\n",
       "  (ln4): LayerNorm((256, 8, 8), eps=1e-05, elementwise_affine=True)\n",
       "  (elu4): ELU(alpha=1.0)\n",
       "  (resblock2): CustomResNetBlock(\n",
       "    (conv1): Conv2d(256, 256, kernel_size=(3, 3), stride=(1, 1), padding=(1, 1))\n",
       "    (ln1): LayerNorm((256, 4, 4), eps=1e-05, elementwise_affine=True)\n",
       "    (elu): ELU(alpha=1.0)\n",
       "    (conv2): Conv2d(256, 256, kernel_size=(3, 3), stride=(1, 1), padding=(1, 1))\n",
       "    (ln2): LayerNorm((256, 4, 4), eps=1e-05, elementwise_affine=True)\n",
       "  )\n",
       "  (avgpool): AvgPool2d(kernel_size=3, stride=2, padding=0)\n",
       "  (flatten): Flatten(start_dim=1, end_dim=-1)\n",
       "  (fc1): Linear(in_features=256, out_features=256, bias=True)\n",
       "  (ln5): LayerNorm((256,), eps=1e-05, elementwise_affine=True)\n",
       "  (fc2): Linear(in_features=256, out_features=10, bias=True)\n",
       "  (softmax): Softmax(dim=1)\n",
       ")"
      ]
     },
     "execution_count": 6,
     "metadata": {},
     "output_type": "execute_result"
    }
   ],
   "source": [
    "# Instantiate and load the model\n",
    "model = CustomResNet_LN()  # Make sure CustomResNet is defined as earlier\n",
    "model.load_state_dict(torch.load('best_custom_resnet_weights_LN.pth'))\n",
    "model.to('cuda:1' if torch.cuda.is_available() else 'cpu')\n",
    "model.eval()"
   ]
  },
  {
   "cell_type": "code",
   "execution_count": 7,
   "metadata": {
    "id": "PA5qBhO5gJYQ",
    "tags": []
   },
   "outputs": [],
   "source": [
    "# Prepare storage for outputs and labels\n",
    "features_per_layer = {}\n",
    "labels_list = []\n",
    "\n",
    "# Define layers to exclude\n",
    "exclude_layers = {''}\n",
    "\n",
    "# Function to attach hooks\n",
    "def get_layer_outputs(layer_name):\n",
    "    def hook(module, input, output):\n",
    "        features_per_layer[layer_name].append(output.detach())\n",
    "    return hook\n",
    "\n",
    "# Attach hooks to each layer except the excluded ones\n",
    "for name, layer in model.named_children():\n",
    "    if name not in exclude_layers:\n",
    "        features_per_layer[name] = []\n",
    "        layer.register_forward_hook(get_layer_outputs(name))"
   ]
  },
  {
   "cell_type": "markdown",
   "metadata": {
    "jp-MarkdownHeadingCollapsed": true,
    "tags": []
   },
   "source": [
    "## SI and CenterSI layer for Train Loader"
   ]
  },
  {
   "cell_type": "code",
   "execution_count": 9,
   "metadata": {},
   "outputs": [
    {
     "name": "stderr",
     "output_type": "stream",
     "text": [
      "100%|██████████| 36/36 [00:00<00:00, 68.14it/s]\n"
     ]
    }
   ],
   "source": [
    "# Pass data through the model and collect layer outputs\n",
    "with torch.no_grad():\n",
    "    for inputs, targets in tqdm(train_loader): \n",
    "        inputs = inputs.to('cuda:1' if torch.cuda.is_available() else 'cpu')\n",
    "\n",
    "        # Trigger the hooks and collect layer outputs\n",
    "        model(inputs)\n",
    "        labels_list.append(targets.cpu())\n",
    "\n",
    "        # Clear CUDA cache after processing each batch\n",
    "        if torch.cuda.is_available():\n",
    "            torch.cuda.empty_cache()\n",
    "\n",
    "# Post-process the data: Flatten and concatenate\n",
    "for layer_name, layer_features in features_per_layer.items():\n",
    "    if layer_features:  # Check if layer_features is not empty\n",
    "        features_per_layer[layer_name] = torch.cat([f.view(f.size(0), -1) for f in layer_features])\n",
    "    else:\n",
    "        print(f\"No features captured for layer {layer_name}\")\n",
    "\n",
    "# Concatenate the labels\n",
    "labels = torch.cat(labels_list)"
   ]
  },
  {
   "cell_type": "markdown",
   "metadata": {},
   "source": [
    "### Calc SI"
   ]
  },
  {
   "cell_type": "code",
   "execution_count": 10,
   "metadata": {},
   "outputs": [
    {
     "name": "stdout",
     "output_type": "stream",
     "text": [
      "Data has been normalized\n"
     ]
    },
    {
     "name": "stderr",
     "output_type": "stream",
     "text": [
      "Calculating SI: 100%|██████████| 5/5 [00:00<00:00, 368.02it/s]\n"
     ]
    },
    {
     "name": "stdout",
     "output_type": "stream",
     "text": [
      "Data has been normalized\n"
     ]
    },
    {
     "name": "stderr",
     "output_type": "stream",
     "text": [
      "Calculating SI: 100%|██████████| 5/5 [00:00<00:00, 7381.74it/s]\n"
     ]
    },
    {
     "name": "stdout",
     "output_type": "stream",
     "text": [
      "Data has been normalized\n"
     ]
    },
    {
     "name": "stderr",
     "output_type": "stream",
     "text": [
      "Calculating SI: 100%|██████████| 5/5 [00:00<00:00, 7241.55it/s]\n"
     ]
    },
    {
     "name": "stdout",
     "output_type": "stream",
     "text": [
      "Data has been normalized\n"
     ]
    },
    {
     "name": "stderr",
     "output_type": "stream",
     "text": [
      "Calculating SI: 100%|██████████| 5/5 [00:00<00:00, 7519.37it/s]\n"
     ]
    },
    {
     "name": "stdout",
     "output_type": "stream",
     "text": [
      "Data has been normalized\n"
     ]
    },
    {
     "name": "stderr",
     "output_type": "stream",
     "text": [
      "Calculating SI: 100%|██████████| 5/5 [00:00<00:00, 8044.31it/s]\n"
     ]
    },
    {
     "name": "stdout",
     "output_type": "stream",
     "text": [
      "Data has been normalized\n"
     ]
    },
    {
     "name": "stderr",
     "output_type": "stream",
     "text": [
      "Calculating SI: 100%|██████████| 5/5 [00:00<00:00, 7637.12it/s]\n"
     ]
    },
    {
     "name": "stdout",
     "output_type": "stream",
     "text": [
      "Data has been normalized\n"
     ]
    },
    {
     "name": "stderr",
     "output_type": "stream",
     "text": [
      "Calculating SI: 100%|██████████| 5/5 [00:00<00:00, 7704.45it/s]\n"
     ]
    },
    {
     "name": "stdout",
     "output_type": "stream",
     "text": [
      "Data has been normalized\n"
     ]
    },
    {
     "name": "stderr",
     "output_type": "stream",
     "text": [
      "Calculating SI: 100%|██████████| 5/5 [00:00<00:00, 7592.87it/s]\n"
     ]
    },
    {
     "name": "stdout",
     "output_type": "stream",
     "text": [
      "Data has been normalized\n"
     ]
    },
    {
     "name": "stderr",
     "output_type": "stream",
     "text": [
      "Calculating SI: 100%|██████████| 5/5 [00:00<00:00, 7426.18it/s]\n"
     ]
    },
    {
     "name": "stdout",
     "output_type": "stream",
     "text": [
      "Data has been normalized\n"
     ]
    },
    {
     "name": "stderr",
     "output_type": "stream",
     "text": [
      "Calculating SI: 100%|██████████| 5/5 [00:00<00:00, 7410.43it/s]\n"
     ]
    },
    {
     "name": "stdout",
     "output_type": "stream",
     "text": [
      "Data has been normalized\n"
     ]
    },
    {
     "name": "stderr",
     "output_type": "stream",
     "text": [
      "Calculating SI: 100%|██████████| 5/5 [00:00<00:00, 8022.77it/s]\n"
     ]
    },
    {
     "name": "stdout",
     "output_type": "stream",
     "text": [
      "Data has been normalized\n"
     ]
    },
    {
     "name": "stderr",
     "output_type": "stream",
     "text": [
      "Calculating SI: 100%|██████████| 5/5 [00:00<00:00, 7016.23it/s]\n"
     ]
    },
    {
     "name": "stdout",
     "output_type": "stream",
     "text": [
      "Data has been normalized\n"
     ]
    },
    {
     "name": "stderr",
     "output_type": "stream",
     "text": [
      "Calculating SI: 100%|██████████| 5/5 [00:00<00:00, 7503.23it/s]\n"
     ]
    },
    {
     "name": "stdout",
     "output_type": "stream",
     "text": [
      "Data has been normalized\n"
     ]
    },
    {
     "name": "stderr",
     "output_type": "stream",
     "text": [
      "Calculating SI: 100%|██████████| 5/5 [00:00<00:00, 6815.57it/s]\n"
     ]
    },
    {
     "name": "stdout",
     "output_type": "stream",
     "text": [
      "Data has been normalized\n"
     ]
    },
    {
     "name": "stderr",
     "output_type": "stream",
     "text": [
      "Calculating SI: 100%|██████████| 5/5 [00:00<00:00, 7371.36it/s]\n"
     ]
    },
    {
     "name": "stdout",
     "output_type": "stream",
     "text": [
      "Data has been normalized\n"
     ]
    },
    {
     "name": "stderr",
     "output_type": "stream",
     "text": [
      "Calculating SI: 100%|██████████| 5/5 [00:00<00:00, 7952.79it/s]\n"
     ]
    },
    {
     "name": "stdout",
     "output_type": "stream",
     "text": [
      "Data has been normalized\n"
     ]
    },
    {
     "name": "stderr",
     "output_type": "stream",
     "text": [
      "Calculating SI: 100%|██████████| 5/5 [00:00<00:00, 6935.03it/s]\n"
     ]
    },
    {
     "name": "stdout",
     "output_type": "stream",
     "text": [
      "Data has been normalized\n"
     ]
    },
    {
     "name": "stderr",
     "output_type": "stream",
     "text": [
      "Calculating SI: 100%|██████████| 5/5 [00:00<00:00, 7592.87it/s]\n"
     ]
    },
    {
     "name": "stdout",
     "output_type": "stream",
     "text": [
      "Data has been normalized\n"
     ]
    },
    {
     "name": "stderr",
     "output_type": "stream",
     "text": [
      "Calculating SI: 100%|██████████| 5/5 [00:00<00:00, 7901.85it/s]\n"
     ]
    },
    {
     "name": "stdout",
     "output_type": "stream",
     "text": [
      "Data has been normalized\n"
     ]
    },
    {
     "name": "stderr",
     "output_type": "stream",
     "text": [
      "Calculating SI: 100%|██████████| 5/5 [00:00<00:00, 6824.45it/s]\n"
     ]
    },
    {
     "name": "stdout",
     "output_type": "stream",
     "text": [
      "Data has been normalized\n"
     ]
    },
    {
     "name": "stderr",
     "output_type": "stream",
     "text": [
      "Calculating SI: 100%|██████████| 5/5 [00:00<00:00, 7524.76it/s]\n"
     ]
    },
    {
     "name": "stdout",
     "output_type": "stream",
     "text": [
      "Data has been normalized\n"
     ]
    },
    {
     "name": "stderr",
     "output_type": "stream",
     "text": [
      "Calculating SI: 100%|██████████| 5/5 [00:00<00:00, 7434.07it/s]\n"
     ]
    },
    {
     "name": "stdout",
     "output_type": "stream",
     "text": [
      "Data has been normalized\n"
     ]
    },
    {
     "name": "stderr",
     "output_type": "stream",
     "text": [
      "Calculating SI: 100%|██████████| 5/5 [00:00<00:00, 7587.38it/s]\n"
     ]
    }
   ],
   "source": [
    "si_layer_train = []\n",
    "\n",
    "# Iterate through each layer's features in the dictionary\n",
    "for layer_name, features in features_per_layer.items():\n",
    "    instance_disturbance = ARH_SeparationIndex(features, labels, normalize=True)\n",
    "    si = instance_disturbance.si_batch(batch_size=2000)\n",
    "    si_layer_train.append((layer_name, si))"
   ]
  },
  {
   "cell_type": "code",
   "execution_count": 11,
   "metadata": {},
   "outputs": [
    {
     "data": {
      "text/plain": [
       "[('conv1', 0.23288889229297638),\n",
       " ('ln1', 0.28566667437553406),\n",
       " ('elu1', 0.2814444601535797),\n",
       " ('conv2', 0.2516666650772095),\n",
       " ('ln2', 0.34333333373069763),\n",
       " ('elu2', 0.3512222170829773),\n",
       " ('maxpool1', 0.4519999921321869),\n",
       " ('resblock1', 0.5446666479110718),\n",
       " ('conv3', 0.5715555548667908),\n",
       " ('ln3', 0.5964444279670715),\n",
       " ('elu3', 0.5905555486679077),\n",
       " ('maxpool2', 0.6180000305175781),\n",
       " ('conv4', 0.6485555768013),\n",
       " ('maxpool3', 0.6707777976989746),\n",
       " ('ln4', 0.6471111178398132),\n",
       " ('elu4', 0.6500000357627869),\n",
       " ('resblock2', 0.7488889098167419),\n",
       " ('avgpool', 0.8009999990463257),\n",
       " ('flatten', 0.8009999990463257),\n",
       " ('fc1', 0.8604444265365601),\n",
       " ('ln5', 0.8885555863380432),\n",
       " ('fc2', 0.8718888759613037),\n",
       " ('softmax', 0.8825555443763733)]"
      ]
     },
     "execution_count": 11,
     "metadata": {},
     "output_type": "execute_result"
    }
   ],
   "source": [
    "si_layer_train"
   ]
  },
  {
   "cell_type": "code",
   "execution_count": 12,
   "metadata": {},
   "outputs": [
    {
     "data": {
      "image/png": "[encoded data removed]",
      "text/plain": [
       "<Figure size 640x480 with 1 Axes>"
      ]
     },
     "metadata": {},
     "output_type": "display_data"
    }
   ],
   "source": [
    "# Plotting SI versus layer using a line plot\n",
    "plt.plot([layer for layer, _ in si_layer_train], [si for _, si in si_layer_train])\n",
    "plt.xlabel('Layer')\n",
    "plt.ylabel('SI')\n",
    "plt.title('Separation Index (SI) vs Layer - train - LN')\n",
    "plt.xticks(rotation=45)\n",
    "plt.grid(True)\n",
    "plt.show()"
   ]
  },
  {
   "cell_type": "markdown",
   "metadata": {},
   "source": [
    "### Calc Center Si"
   ]
  },
  {
   "cell_type": "code",
   "execution_count": 13,
   "metadata": {},
   "outputs": [
    {
     "name": "stdout",
     "output_type": "stream",
     "text": [
      "Data has been normalized\n"
     ]
    },
    {
     "name": "stderr",
     "output_type": "stream",
     "text": [
      "Calculating CSI: 100%|██████████| 5/5 [00:00<00:00, 752.26it/s]\n"
     ]
    },
    {
     "name": "stdout",
     "output_type": "stream",
     "text": [
      "Data has been normalized\n"
     ]
    },
    {
     "name": "stderr",
     "output_type": "stream",
     "text": [
      "Calculating CSI: 100%|██████████| 5/5 [00:00<00:00, 4919.43it/s]\n"
     ]
    },
    {
     "name": "stdout",
     "output_type": "stream",
     "text": [
      "Data has been normalized\n"
     ]
    },
    {
     "name": "stderr",
     "output_type": "stream",
     "text": [
      "Calculating CSI: 100%|██████████| 5/5 [00:00<00:00, 4567.96it/s]\n"
     ]
    },
    {
     "name": "stdout",
     "output_type": "stream",
     "text": [
      "Data has been normalized\n"
     ]
    },
    {
     "name": "stderr",
     "output_type": "stream",
     "text": [
      "Calculating CSI: 100%|██████████| 5/5 [00:00<00:00, 4133.13it/s]\n"
     ]
    },
    {
     "name": "stdout",
     "output_type": "stream",
     "text": [
      "Data has been normalized\n"
     ]
    },
    {
     "name": "stderr",
     "output_type": "stream",
     "text": [
      "Calculating CSI: 100%|██████████| 5/5 [00:00<00:00, 4151.13it/s]\n"
     ]
    },
    {
     "name": "stdout",
     "output_type": "stream",
     "text": [
      "Data has been normalized\n"
     ]
    },
    {
     "name": "stderr",
     "output_type": "stream",
     "text": [
      "Calculating CSI: 100%|██████████| 5/5 [00:00<00:00, 4287.78it/s]\n"
     ]
    },
    {
     "name": "stdout",
     "output_type": "stream",
     "text": [
      "Data has been normalized\n"
     ]
    },
    {
     "name": "stderr",
     "output_type": "stream",
     "text": [
      "Calculating CSI: 100%|██████████| 5/5 [00:00<00:00, 3219.95it/s]\n"
     ]
    },
    {
     "name": "stdout",
     "output_type": "stream",
     "text": [
      "Data has been normalized\n"
     ]
    },
    {
     "name": "stderr",
     "output_type": "stream",
     "text": [
      "Calculating CSI: 100%|██████████| 5/5 [00:00<00:00, 3287.07it/s]\n"
     ]
    },
    {
     "name": "stdout",
     "output_type": "stream",
     "text": [
      "Data has been normalized\n"
     ]
    },
    {
     "name": "stderr",
     "output_type": "stream",
     "text": [
      "Calculating CSI: 100%|██████████| 5/5 [00:00<00:00, 4960.15it/s]\n"
     ]
    },
    {
     "name": "stdout",
     "output_type": "stream",
     "text": [
      "Data has been normalized\n"
     ]
    },
    {
     "name": "stderr",
     "output_type": "stream",
     "text": [
      "Calculating CSI: 100%|██████████| 5/5 [00:00<00:00, 4551.11it/s]\n"
     ]
    },
    {
     "name": "stdout",
     "output_type": "stream",
     "text": [
      "Data has been normalized\n"
     ]
    },
    {
     "name": "stderr",
     "output_type": "stream",
     "text": [
      "Calculating CSI: 100%|██████████| 5/5 [00:00<00:00, 4657.23it/s]\n"
     ]
    },
    {
     "name": "stdout",
     "output_type": "stream",
     "text": [
      "Data has been normalized\n"
     ]
    },
    {
     "name": "stderr",
     "output_type": "stream",
     "text": [
      "Calculating CSI: 100%|██████████| 5/5 [00:00<00:00, 4095.20it/s]\n"
     ]
    },
    {
     "name": "stdout",
     "output_type": "stream",
     "text": [
      "Data has been normalized\n"
     ]
    },
    {
     "name": "stderr",
     "output_type": "stream",
     "text": [
      "Calculating CSI: 100%|██████████| 5/5 [00:00<00:00, 3201.27it/s]\n"
     ]
    },
    {
     "name": "stdout",
     "output_type": "stream",
     "text": [
      "Data has been normalized\n"
     ]
    },
    {
     "name": "stderr",
     "output_type": "stream",
     "text": [
      "Calculating CSI: 100%|██████████| 5/5 [00:00<00:00, 4143.75it/s]\n"
     ]
    },
    {
     "name": "stdout",
     "output_type": "stream",
     "text": [
      "Data has been normalized\n"
     ]
    },
    {
     "name": "stderr",
     "output_type": "stream",
     "text": [
      "Calculating CSI: 100%|██████████| 5/5 [00:00<00:00, 3381.41it/s]\n"
     ]
    },
    {
     "name": "stdout",
     "output_type": "stream",
     "text": [
      "Data has been normalized\n"
     ]
    },
    {
     "name": "stderr",
     "output_type": "stream",
     "text": [
      "Calculating CSI: 100%|██████████| 5/5 [00:00<00:00, 3250.39it/s]\n"
     ]
    },
    {
     "name": "stdout",
     "output_type": "stream",
     "text": [
      "Data has been normalized\n"
     ]
    },
    {
     "name": "stderr",
     "output_type": "stream",
     "text": [
      "Calculating CSI: 100%|██████████| 5/5 [00:00<00:00, 4264.24it/s]\n"
     ]
    },
    {
     "name": "stdout",
     "output_type": "stream",
     "text": [
      "Data has been normalized\n"
     ]
    },
    {
     "name": "stderr",
     "output_type": "stream",
     "text": [
      "Calculating CSI: 100%|██████████| 5/5 [00:00<00:00, 1791.37it/s]\n"
     ]
    },
    {
     "name": "stdout",
     "output_type": "stream",
     "text": [
      "Data has been normalized\n"
     ]
    },
    {
     "name": "stderr",
     "output_type": "stream",
     "text": [
      "Calculating CSI: 100%|██████████| 5/5 [00:00<00:00, 3003.22it/s]\n"
     ]
    },
    {
     "name": "stdout",
     "output_type": "stream",
     "text": [
      "Data has been normalized\n"
     ]
    },
    {
     "name": "stderr",
     "output_type": "stream",
     "text": [
      "Calculating CSI: 100%|██████████| 5/5 [00:00<00:00, 3416.67it/s]\n"
     ]
    },
    {
     "name": "stdout",
     "output_type": "stream",
     "text": [
      "Data has been normalized\n"
     ]
    },
    {
     "name": "stderr",
     "output_type": "stream",
     "text": [
      "Calculating CSI: 100%|██████████| 5/5 [00:00<00:00, 3381.96it/s]\n"
     ]
    },
    {
     "name": "stdout",
     "output_type": "stream",
     "text": [
      "Data has been normalized\n"
     ]
    },
    {
     "name": "stderr",
     "output_type": "stream",
     "text": [
      "Calculating CSI: 100%|██████████| 5/5 [00:00<00:00, 4229.83it/s]\n"
     ]
    },
    {
     "name": "stdout",
     "output_type": "stream",
     "text": [
      "Data has been normalized\n"
     ]
    },
    {
     "name": "stderr",
     "output_type": "stream",
     "text": [
      "Calculating CSI: 100%|██████████| 5/5 [00:00<00:00, 4431.85it/s]\n"
     ]
    }
   ],
   "source": [
    "csi_layer_train = []\n",
    "\n",
    "# Iterate through each layer's features in the dictionary\n",
    "for layer_name, features in features_per_layer.items():\n",
    "    instance_disturbance = ARH_SeparationIndex(features, labels, normalize=True)\n",
    "    csi = instance_disturbance.center_si_batch(batch_size=2000)\n",
    "    csi_layer_train.append((layer_name, csi))"
   ]
  },
  {
   "cell_type": "code",
   "execution_count": 14,
   "metadata": {},
   "outputs": [
    {
     "name": "stdout",
     "output_type": "stream",
     "text": [
      "[('conv1', 0.3491111099720001), ('ln1', 0.3575555682182312), ('elu1', 0.3607777953147888), ('conv2', 0.37888890504837036), ('ln2', 0.38288888335227966), ('elu2', 0.3968888819217682), ('maxpool1', 0.44966667890548706), ('resblock1', 0.5547778010368347), ('conv3', 0.5753333568572998), ('ln3', 0.5740000009536743), ('elu3', 0.5825555324554443), ('maxpool2', 0.5983333587646484), ('conv4', 0.6256666779518127), ('maxpool3', 0.6557778120040894), ('ln4', 0.6261110901832581), ('elu4', 0.636555552482605), ('resblock2', 0.7725555896759033), ('avgpool', 0.8455555438995361), ('flatten', 0.8455555438995361), ('fc1', 0.91311115026474), ('ln5', 0.9184444546699524), ('fc2', 0.9034444689750671), ('softmax', 0.9236666560173035)]\n"
     ]
    },
    {
     "data": {
      "image/png": "[encoded data removed]",
      "text/plain": [
       "<Figure size 640x480 with 1 Axes>"
      ]
     },
     "metadata": {},
     "output_type": "display_data"
    }
   ],
   "source": [
    "print(csi_layer_train)\n",
    "\n",
    "\n",
    "# Plotting SI versus layer using a line plot\n",
    "plt.plot([layer for layer, _ in csi_layer_train], [si for _, si in csi_layer_train])\n",
    "plt.xlabel('Layer')\n",
    "plt.ylabel('SI')\n",
    "plt.title('Center Separation Index (CSI) vs Layer - Train - LN')\n",
    "plt.xticks(rotation=45)\n",
    "plt.grid(True)\n",
    "plt.show()"
   ]
  },
  {
   "cell_type": "markdown",
   "metadata": {
    "id": "HhIUjcIHghek",
    "jp-MarkdownHeadingCollapsed": true,
    "tags": []
   },
   "source": [
    "## SI and CenterSI layer for Val Loader"
   ]
  },
  {
   "cell_type": "code",
   "execution_count": 8,
   "metadata": {
    "colab": {
     "base_uri": "https://localhost:8080/",
     "height": 462
    },
    "id": "1UOKD6TAgMzC",
    "outputId": "4cbf6701-ba3b-44d7-cd10-eb5253bf8f41",
    "tags": []
   },
   "outputs": [
    {
     "name": "stderr",
     "output_type": "stream",
     "text": [
      "100%|██████████| 20/20 [00:00<00:00, 23.08it/s]\n"
     ]
    }
   ],
   "source": [
    "# Pass data through the model and collect layer outputs\n",
    "with torch.no_grad():\n",
    "    for inputs, targets in tqdm(val_loader): \n",
    "        inputs = inputs.to('cuda:1' if torch.cuda.is_available() else 'cpu')\n",
    "\n",
    "        # Trigger the hooks and collect layer outputs\n",
    "        model(inputs)\n",
    "        labels_list.append(targets.cpu())\n",
    "\n",
    "        # Clear CUDA cache after processing each batch\n",
    "        if torch.cuda.is_available():\n",
    "            torch.cuda.empty_cache()\n",
    "\n",
    "# Post-process the data: Flatten and concatenate\n",
    "for layer_name, layer_features in features_per_layer.items():\n",
    "    if layer_features:  # Check if layer_features is not empty\n",
    "        # Flatten and concatenate the features for each layer\n",
    "        features_per_layer[layer_name] = torch.cat([f.view(f.size(0), -1) for f in layer_features])\n",
    "    else:\n",
    "        print(f\"No features captured for layer {layer_name}\")\n",
    "\n",
    "# Concatenate the labels\n",
    "labels = torch.cat(labels_list)"
   ]
  },
  {
   "cell_type": "markdown",
   "metadata": {},
   "source": [
    "### Calc SI"
   ]
  },
  {
   "cell_type": "code",
   "execution_count": 9,
   "metadata": {
    "id": "IvZxHioygQI6",
    "tags": []
   },
   "outputs": [
    {
     "name": "stdout",
     "output_type": "stream",
     "text": [
      "Data has been normalized\n"
     ]
    },
    {
     "name": "stderr",
     "output_type": "stream",
     "text": [
      "Calculating SI: 100%|██████████| 3/3 [00:00<00:00, 216.05it/s]\n"
     ]
    },
    {
     "name": "stdout",
     "output_type": "stream",
     "text": [
      "Data has been normalized\n"
     ]
    },
    {
     "name": "stderr",
     "output_type": "stream",
     "text": [
      "Calculating SI: 100%|██████████| 3/3 [00:00<00:00, 4789.84it/s]\n"
     ]
    },
    {
     "name": "stdout",
     "output_type": "stream",
     "text": [
      "Data has been normalized\n"
     ]
    },
    {
     "name": "stderr",
     "output_type": "stream",
     "text": [
      "Calculating SI: 100%|██████████| 3/3 [00:00<00:00, 4532.75it/s]\n"
     ]
    },
    {
     "name": "stdout",
     "output_type": "stream",
     "text": [
      "Data has been normalized\n"
     ]
    },
    {
     "name": "stderr",
     "output_type": "stream",
     "text": [
      "Calculating SI: 100%|██████████| 3/3 [00:00<00:00, 4826.59it/s]\n"
     ]
    },
    {
     "name": "stdout",
     "output_type": "stream",
     "text": [
      "Data has been normalized\n"
     ]
    },
    {
     "name": "stderr",
     "output_type": "stream",
     "text": [
      "Calculating SI: 100%|██████████| 3/3 [00:00<00:00, 5289.16it/s]\n"
     ]
    },
    {
     "name": "stdout",
     "output_type": "stream",
     "text": [
      "Data has been normalized\n"
     ]
    },
    {
     "name": "stderr",
     "output_type": "stream",
     "text": [
      "Calculating SI: 100%|██████████| 3/3 [00:00<00:00, 5518.82it/s]\n"
     ]
    },
    {
     "name": "stdout",
     "output_type": "stream",
     "text": [
      "Data has been normalized\n"
     ]
    },
    {
     "name": "stderr",
     "output_type": "stream",
     "text": [
      "Calculating SI: 100%|██████████| 3/3 [00:00<00:00, 5049.32it/s]"
     ]
    },
    {
     "name": "stdout",
     "output_type": "stream",
     "text": [
      "Data has been normalized\n"
     ]
    },
    {
     "name": "stderr",
     "output_type": "stream",
     "text": [
      "\n",
      "Calculating SI: 100%|██████████| 3/3 [00:00<00:00, 5180.28it/s]\n"
     ]
    },
    {
     "name": "stdout",
     "output_type": "stream",
     "text": [
      "Data has been normalized\n"
     ]
    },
    {
     "name": "stderr",
     "output_type": "stream",
     "text": [
      "Calculating SI: 100%|██████████| 3/3 [00:00<00:00, 5102.56it/s]\n"
     ]
    },
    {
     "name": "stdout",
     "output_type": "stream",
     "text": [
      "Data has been normalized\n"
     ]
    },
    {
     "name": "stderr",
     "output_type": "stream",
     "text": [
      "Calculating SI: 100%|██████████| 3/3 [00:00<00:00, 5264.82it/s]\n"
     ]
    },
    {
     "name": "stdout",
     "output_type": "stream",
     "text": [
      "Data has been normalized\n"
     ]
    },
    {
     "name": "stderr",
     "output_type": "stream",
     "text": [
      "Calculating SI: 100%|██████████| 3/3 [00:00<00:00, 5365.85it/s]"
     ]
    },
    {
     "name": "stdout",
     "output_type": "stream",
     "text": [
      "Data has been normalized\n"
     ]
    },
    {
     "name": "stderr",
     "output_type": "stream",
     "text": [
      "\n",
      "Calculating SI: 100%|██████████| 3/3 [00:00<00:00, 5384.22it/s]\n"
     ]
    },
    {
     "name": "stdout",
     "output_type": "stream",
     "text": [
      "Data has been normalized\n"
     ]
    },
    {
     "name": "stderr",
     "output_type": "stream",
     "text": [
      "Calculating SI: 100%|██████████| 3/3 [00:00<00:00, 5253.83it/s]\n"
     ]
    },
    {
     "name": "stdout",
     "output_type": "stream",
     "text": [
      "Data has been normalized\n"
     ]
    },
    {
     "name": "stderr",
     "output_type": "stream",
     "text": [
      "Calculating SI: 100%|██████████| 3/3 [00:00<00:00, 4871.43it/s]"
     ]
    },
    {
     "name": "stdout",
     "output_type": "stream",
     "text": [
      "Data has been normalized\n"
     ]
    },
    {
     "name": "stderr",
     "output_type": "stream",
     "text": [
      "\n",
      "Calculating SI: 100%|██████████| 3/3 [00:00<00:00, 5152.71it/s]\n"
     ]
    },
    {
     "name": "stdout",
     "output_type": "stream",
     "text": [
      "Data has been normalized\n"
     ]
    },
    {
     "name": "stderr",
     "output_type": "stream",
     "text": [
      "Calculating SI: 100%|██████████| 3/3 [00:00<00:00, 5051.35it/s]\n"
     ]
    },
    {
     "name": "stdout",
     "output_type": "stream",
     "text": [
      "Data has been normalized\n"
     ]
    },
    {
     "name": "stderr",
     "output_type": "stream",
     "text": [
      "Calculating SI: 100%|██████████| 3/3 [00:00<00:00, 5877.12it/s]\n"
     ]
    },
    {
     "name": "stdout",
     "output_type": "stream",
     "text": [
      "Data has been normalized\n"
     ]
    },
    {
     "name": "stderr",
     "output_type": "stream",
     "text": [
      "Calculating SI: 100%|██████████| 3/3 [00:00<00:00, 6034.97it/s]\n"
     ]
    },
    {
     "name": "stdout",
     "output_type": "stream",
     "text": [
      "Data has been normalized\n"
     ]
    },
    {
     "name": "stderr",
     "output_type": "stream",
     "text": [
      "Calculating SI: 100%|██████████| 3/3 [00:00<00:00, 5466.08it/s]\n"
     ]
    },
    {
     "name": "stdout",
     "output_type": "stream",
     "text": [
      "Data has been normalized\n"
     ]
    },
    {
     "name": "stderr",
     "output_type": "stream",
     "text": [
      "Calculating SI: 100%|██████████| 3/3 [00:00<00:00, 1548.67it/s]\n"
     ]
    },
    {
     "name": "stdout",
     "output_type": "stream",
     "text": [
      "Data has been normalized\n"
     ]
    },
    {
     "name": "stderr",
     "output_type": "stream",
     "text": [
      "Calculating SI: 100%|██████████| 3/3 [00:00<00:00, 2455.68it/s]\n"
     ]
    },
    {
     "name": "stdout",
     "output_type": "stream",
     "text": [
      "Data has been normalized\n"
     ]
    },
    {
     "name": "stderr",
     "output_type": "stream",
     "text": [
      "Calculating SI: 100%|██████████| 3/3 [00:00<00:00, 1596.82it/s]\n"
     ]
    },
    {
     "name": "stdout",
     "output_type": "stream",
     "text": [
      "Data has been normalized\n"
     ]
    },
    {
     "name": "stderr",
     "output_type": "stream",
     "text": [
      "Calculating SI: 100%|██████████| 3/3 [00:00<00:00, 1580.17it/s]\n"
     ]
    }
   ],
   "source": [
    "si_layer_val = []\n",
    "\n",
    "# Iterate through each layer's features in the dictionary\n",
    "for layer_name, features in features_per_layer.items():\n",
    "    instance_disturbance = ARH_SeparationIndex(features, labels, normalize=True)\n",
    "    si = instance_disturbance.si_batch(batch_size=2000)\n",
    "    si_layer_val.append((layer_name, si))"
   ]
  },
  {
   "cell_type": "code",
   "execution_count": 10,
   "metadata": {
    "tags": []
   },
   "outputs": [
    {
     "data": {
      "text/plain": [
       "[('conv1', 0.21879999339580536),\n",
       " ('ln1', 0.27699998021125793),\n",
       " ('elu1', 0.2669999897480011),\n",
       " ('conv2', 0.23479999601840973),\n",
       " ('ln2', 0.3107999861240387),\n",
       " ('elu2', 0.3181999921798706),\n",
       " ('maxpool1', 0.4105999767780304),\n",
       " ('resblock1', 0.4973999857902527),\n",
       " ('conv3', 0.5263999700546265),\n",
       " ('ln3', 0.5551999807357788),\n",
       " ('elu3', 0.5483999848365784),\n",
       " ('maxpool2', 0.5879999995231628),\n",
       " ('conv4', 0.6157999634742737),\n",
       " ('maxpool3', 0.6421999931335449),\n",
       " ('ln4', 0.6110000014305115),\n",
       " ('elu4', 0.6129999756813049),\n",
       " ('resblock2', 0.7235999703407288),\n",
       " ('avgpool', 0.7906000018119812),\n",
       " ('flatten', 0.7906000018119812),\n",
       " ('fc1', 0.8571999669075012),\n",
       " ('ln5', 0.8841999769210815),\n",
       " ('fc2', 0.8693999648094177),\n",
       " ('softmax', 0.7853999733924866)]"
      ]
     },
     "execution_count": 10,
     "metadata": {},
     "output_type": "execute_result"
    }
   ],
   "source": [
    "si_layer_val"
   ]
  },
  {
   "cell_type": "code",
   "execution_count": 11,
   "metadata": {
    "tags": []
   },
   "outputs": [
    {
     "data": {
      "image/png": "[encoded data removed]",
      "text/plain": [
       "<Figure size 640x480 with 1 Axes>"
      ]
     },
     "metadata": {},
     "output_type": "display_data"
    }
   ],
   "source": [
    "# Plotting SI versus layer using a line plot\n",
    "plt.plot([layer for layer, _ in si_layer_val], [si for _, si in si_layer_val])\n",
    "plt.xlabel('Layer')\n",
    "plt.ylabel('SI')\n",
    "plt.title('Separation Index (SI) vs Layer - val - LN ')\n",
    "plt.xticks(rotation=45)\n",
    "plt.grid(True)\n",
    "plt.show()"
   ]
  },
  {
   "cell_type": "markdown",
   "metadata": {},
   "source": [
    "### calc Center SI"
   ]
  },
  {
   "cell_type": "code",
   "execution_count": 12,
   "metadata": {
    "tags": []
   },
   "outputs": [
    {
     "name": "stdout",
     "output_type": "stream",
     "text": [
      "Data has been normalized\n"
     ]
    },
    {
     "name": "stderr",
     "output_type": "stream",
     "text": [
      "Calculating CSI: 100%|██████████| 3/3 [00:00<00:00, 429.04it/s]\n"
     ]
    },
    {
     "name": "stdout",
     "output_type": "stream",
     "text": [
      "Data has been normalized\n"
     ]
    },
    {
     "name": "stderr",
     "output_type": "stream",
     "text": [
      "Calculating CSI: 100%|██████████| 3/3 [00:00<00:00, 3382.50it/s]\n"
     ]
    },
    {
     "name": "stdout",
     "output_type": "stream",
     "text": [
      "Data has been normalized\n"
     ]
    },
    {
     "name": "stderr",
     "output_type": "stream",
     "text": [
      "Calculating CSI: 100%|██████████| 3/3 [00:00<00:00, 3113.81it/s]\n"
     ]
    },
    {
     "name": "stdout",
     "output_type": "stream",
     "text": [
      "Data has been normalized\n"
     ]
    },
    {
     "name": "stderr",
     "output_type": "stream",
     "text": [
      "Calculating CSI: 100%|██████████| 3/3 [00:00<00:00, 2971.17it/s]\n"
     ]
    },
    {
     "name": "stdout",
     "output_type": "stream",
     "text": [
      "Data has been normalized\n"
     ]
    },
    {
     "name": "stderr",
     "output_type": "stream",
     "text": [
      "Calculating CSI: 100%|██████████| 3/3 [00:00<00:00, 3376.15it/s]\n"
     ]
    },
    {
     "name": "stdout",
     "output_type": "stream",
     "text": [
      "Data has been normalized\n"
     ]
    },
    {
     "name": "stderr",
     "output_type": "stream",
     "text": [
      "Calculating CSI: 100%|██████████| 3/3 [00:00<00:00, 3321.78it/s]\n"
     ]
    },
    {
     "name": "stdout",
     "output_type": "stream",
     "text": [
      "Data has been normalized\n"
     ]
    },
    {
     "name": "stderr",
     "output_type": "stream",
     "text": [
      "Calculating CSI: 100%|██████████| 3/3 [00:00<00:00, 3069.75it/s]"
     ]
    },
    {
     "name": "stdout",
     "output_type": "stream",
     "text": [
      "Data has been normalized\n"
     ]
    },
    {
     "name": "stderr",
     "output_type": "stream",
     "text": [
      "\n",
      "Calculating CSI: 100%|██████████| 3/3 [00:00<00:00, 3337.64it/s]\n"
     ]
    },
    {
     "name": "stdout",
     "output_type": "stream",
     "text": [
      "Data has been normalized\n"
     ]
    },
    {
     "name": "stderr",
     "output_type": "stream",
     "text": [
      "Calculating CSI: 100%|██████████| 3/3 [00:00<00:00, 3494.28it/s]\n"
     ]
    },
    {
     "name": "stdout",
     "output_type": "stream",
     "text": [
      "Data has been normalized\n"
     ]
    },
    {
     "name": "stderr",
     "output_type": "stream",
     "text": [
      "Calculating CSI: 100%|██████████| 3/3 [00:00<00:00, 3253.92it/s]\n"
     ]
    },
    {
     "name": "stdout",
     "output_type": "stream",
     "text": [
      "Data has been normalized\n"
     ]
    },
    {
     "name": "stderr",
     "output_type": "stream",
     "text": [
      "Calculating CSI: 100%|██████████| 3/3 [00:00<00:00, 3320.03it/s]\n"
     ]
    },
    {
     "name": "stdout",
     "output_type": "stream",
     "text": [
      "Data has been normalized\n"
     ]
    },
    {
     "name": "stderr",
     "output_type": "stream",
     "text": [
      "Calculating CSI: 100%|██████████| 3/3 [00:00<00:00, 2983.15it/s]\n"
     ]
    },
    {
     "name": "stdout",
     "output_type": "stream",
     "text": [
      "Data has been normalized\n"
     ]
    },
    {
     "name": "stderr",
     "output_type": "stream",
     "text": [
      "Calculating CSI: 100%|██████████| 3/3 [00:00<00:00, 3184.74it/s]\n"
     ]
    },
    {
     "name": "stdout",
     "output_type": "stream",
     "text": [
      "Data has been normalized\n"
     ]
    },
    {
     "name": "stderr",
     "output_type": "stream",
     "text": [
      "Calculating CSI: 100%|██████████| 3/3 [00:00<00:00, 3024.01it/s]"
     ]
    },
    {
     "name": "stdout",
     "output_type": "stream",
     "text": [
      "Data has been normalized\n"
     ]
    },
    {
     "name": "stderr",
     "output_type": "stream",
     "text": [
      "\n",
      "Calculating CSI: 100%|██████████| 3/3 [00:00<00:00, 2742.57it/s]\n"
     ]
    },
    {
     "name": "stdout",
     "output_type": "stream",
     "text": [
      "Data has been normalized\n"
     ]
    },
    {
     "name": "stderr",
     "output_type": "stream",
     "text": [
      "Calculating CSI: 100%|██████████| 3/3 [00:00<00:00, 3246.37it/s]\n"
     ]
    },
    {
     "name": "stdout",
     "output_type": "stream",
     "text": [
      "Data has been normalized\n"
     ]
    },
    {
     "name": "stderr",
     "output_type": "stream",
     "text": [
      "Calculating CSI: 100%|██████████| 3/3 [00:00<00:00, 3101.53it/s]\n"
     ]
    },
    {
     "name": "stdout",
     "output_type": "stream",
     "text": [
      "Data has been normalized\n"
     ]
    },
    {
     "name": "stderr",
     "output_type": "stream",
     "text": [
      "Calculating CSI: 100%|██████████| 3/3 [00:00<00:00, 1796.02it/s]\n"
     ]
    },
    {
     "name": "stdout",
     "output_type": "stream",
     "text": [
      "Data has been normalized\n"
     ]
    },
    {
     "name": "stderr",
     "output_type": "stream",
     "text": [
      "Calculating CSI: 100%|██████████| 3/3 [00:00<00:00, 2454.72it/s]\n"
     ]
    },
    {
     "name": "stdout",
     "output_type": "stream",
     "text": [
      "Data has been normalized\n"
     ]
    },
    {
     "name": "stderr",
     "output_type": "stream",
     "text": [
      "Calculating CSI: 100%|██████████| 3/3 [00:00<00:00, 2353.71it/s]\n"
     ]
    },
    {
     "name": "stdout",
     "output_type": "stream",
     "text": [
      "Data has been normalized\n"
     ]
    },
    {
     "name": "stderr",
     "output_type": "stream",
     "text": [
      "Calculating CSI: 100%|██████████| 3/3 [00:00<00:00, 2362.54it/s]\n"
     ]
    },
    {
     "name": "stdout",
     "output_type": "stream",
     "text": [
      "Data has been normalized\n"
     ]
    },
    {
     "name": "stderr",
     "output_type": "stream",
     "text": [
      "Calculating CSI: 100%|██████████| 3/3 [00:00<00:00, 2828.26it/s]\n"
     ]
    },
    {
     "name": "stdout",
     "output_type": "stream",
     "text": [
      "Data has been normalized\n"
     ]
    },
    {
     "name": "stderr",
     "output_type": "stream",
     "text": [
      "Calculating CSI: 100%|██████████| 3/3 [00:00<00:00, 3284.50it/s]\n"
     ]
    }
   ],
   "source": [
    "csi_layer_val = []\n",
    "\n",
    "# Iterate through each layer's features in the dictionary\n",
    "for layer_name, features in features_per_layer.items():\n",
    "    instance_disturbance = ARH_SeparationIndex(features, labels, normalize=True)\n",
    "    csi = instance_disturbance.center_si_batch(batch_size=2000)\n",
    "    csi_layer_val.append((layer_name, csi))"
   ]
  },
  {
   "cell_type": "code",
   "execution_count": 13,
   "metadata": {
    "tags": []
   },
   "outputs": [
    {
     "name": "stdout",
     "output_type": "stream",
     "text": [
      "[('conv1', 0.35359999537467957), ('ln1', 0.36820000410079956), ('elu1', 0.3755999803543091), ('conv2', 0.3921999931335449), ('ln2', 0.39479997754096985), ('elu2', 0.4039999842643738), ('maxpool1', 0.4575999975204468), ('resblock1', 0.5687999725341797), ('conv3', 0.5839999914169312), ('ln3', 0.5857999920845032), ('elu3', 0.5929999947547913), ('maxpool2', 0.6115999817848206), ('conv4', 0.6349999904632568), ('maxpool3', 0.6643999814987183), ('ln4', 0.6380000114440918), ('elu4', 0.642799973487854), ('resblock2', 0.7777999639511108), ('avgpool', 0.8333999514579773), ('flatten', 0.8333999514579773), ('fc1', 0.9111999869346619), ('ln5', 0.9138000011444092), ('fc2', 0.9016000032424927), ('softmax', 0.9210000038146973)]\n"
     ]
    },
    {
     "data": {
      "image/png": "[encoded data removed]",
      "text/plain": [
       "<Figure size 640x480 with 1 Axes>"
      ]
     },
     "metadata": {},
     "output_type": "display_data"
    }
   ],
   "source": [
    "print(csi_layer_val)\n",
    "\n",
    "\n",
    "# Plotting SI versus layer using a line plot\n",
    "plt.plot([layer for layer, _ in csi_layer_val], [si for _, si in csi_layer_val])\n",
    "plt.xlabel('Layer')\n",
    "plt.ylabel('SI')\n",
    "plt.title('Center Separation Index (CSI) vs Layer - val - LN')\n",
    "plt.xticks(rotation=45)\n",
    "plt.grid(True)\n",
    "plt.show()"
   ]
  },
  {
   "cell_type": "markdown",
   "metadata": {
    "tags": []
   },
   "source": [
    "## SI and CenterSI layer for Test Loader"
   ]
  },
  {
   "cell_type": "code",
   "execution_count": 8,
   "metadata": {
    "tags": []
   },
   "outputs": [
    {
     "name": "stderr",
     "output_type": "stream",
     "text": [
      "100%|██████████| 40/40 [00:01<00:00, 27.29it/s]\n"
     ]
    }
   ],
   "source": [
    "# Pass data through the model and collect layer outputs\n",
    "with torch.no_grad():\n",
    "    for inputs, targets in tqdm(test_loader):\n",
    "        inputs = inputs.to('cuda:1' if torch.cuda.is_available() else 'cpu')\n",
    "\n",
    "        # Trigger the hooks and collect layer outputs\n",
    "        model(inputs)\n",
    "        labels_list.append(targets.cpu())\n",
    "\n",
    "        # Clear CUDA cache after processing each batch\n",
    "        if torch.cuda.is_available():\n",
    "            torch.cuda.empty_cache()\n",
    "\n",
    "# Post-process the data: Flatten and concatenate\n",
    "for layer_name, layer_features in features_per_layer.items():\n",
    "    if layer_features:  # Check if layer_features is not empty\n",
    "        # Flatten and concatenate the features for each layer\n",
    "        features_per_layer[layer_name] = torch.cat([f.view(f.size(0), -1) for f in layer_features])\n",
    "    else:\n",
    "        print(f\"No features captured for layer {layer_name}\")\n",
    "\n",
    "# Concatenate the labels\n",
    "labels = torch.cat(labels_list)"
   ]
  },
  {
   "cell_type": "markdown",
   "metadata": {},
   "source": [
    "### Calc SI"
   ]
  },
  {
   "cell_type": "code",
   "execution_count": 9,
   "metadata": {
    "tags": []
   },
   "outputs": [
    {
     "name": "stdout",
     "output_type": "stream",
     "text": [
      "Data has been normalized\n"
     ]
    },
    {
     "name": "stderr",
     "output_type": "stream",
     "text": [
      "Calculating SI: 100%|██████████| 5/5 [00:00<00:00, 362.01it/s]\n"
     ]
    },
    {
     "name": "stdout",
     "output_type": "stream",
     "text": [
      "Data has been normalized\n"
     ]
    },
    {
     "name": "stderr",
     "output_type": "stream",
     "text": [
      "Calculating SI: 100%|██████████| 5/5 [00:00<00:00, 7261.61it/s]\n"
     ]
    },
    {
     "name": "stdout",
     "output_type": "stream",
     "text": [
      "Data has been normalized\n"
     ]
    },
    {
     "name": "stderr",
     "output_type": "stream",
     "text": [
      "Calculating SI: 100%|██████████| 5/5 [00:00<00:00, 7468.49it/s]\n"
     ]
    },
    {
     "name": "stdout",
     "output_type": "stream",
     "text": [
      "Data has been normalized\n"
     ]
    },
    {
     "name": "stderr",
     "output_type": "stream",
     "text": [
      "Calculating SI: 100%|██████████| 5/5 [00:00<00:00, 8050.49it/s]\n"
     ]
    },
    {
     "name": "stdout",
     "output_type": "stream",
     "text": [
      "Data has been normalized\n"
     ]
    },
    {
     "name": "stderr",
     "output_type": "stream",
     "text": [
      "Calculating SI: 100%|██████████| 5/5 [00:00<00:00, 7394.75it/s]\n"
     ]
    },
    {
     "name": "stdout",
     "output_type": "stream",
     "text": [
      "Data has been normalized\n"
     ]
    },
    {
     "name": "stderr",
     "output_type": "stream",
     "text": [
      "Calculating SI: 100%|██████████| 5/5 [00:00<00:00, 7744.28it/s]\n"
     ]
    },
    {
     "name": "stdout",
     "output_type": "stream",
     "text": [
      "Data has been normalized\n"
     ]
    },
    {
     "name": "stderr",
     "output_type": "stream",
     "text": [
      "Calculating SI: 100%|██████████| 5/5 [00:00<00:00, 7645.47it/s]\n"
     ]
    },
    {
     "name": "stdout",
     "output_type": "stream",
     "text": [
      "Data has been normalized\n"
     ]
    },
    {
     "name": "stderr",
     "output_type": "stream",
     "text": [
      "Calculating SI: 100%|██████████| 5/5 [00:00<00:00, 7423.55it/s]\n"
     ]
    },
    {
     "name": "stdout",
     "output_type": "stream",
     "text": [
      "Data has been normalized\n"
     ]
    },
    {
     "name": "stderr",
     "output_type": "stream",
     "text": [
      "Calculating SI: 100%|██████████| 5/5 [00:00<00:00, 7755.74it/s]\n"
     ]
    },
    {
     "name": "stdout",
     "output_type": "stream",
     "text": [
      "Data has been normalized\n"
     ]
    },
    {
     "name": "stderr",
     "output_type": "stream",
     "text": [
      "Calculating SI: 100%|██████████| 5/5 [00:00<00:00, 7928.74it/s]\n"
     ]
    },
    {
     "name": "stdout",
     "output_type": "stream",
     "text": [
      "Data has been normalized\n"
     ]
    },
    {
     "name": "stderr",
     "output_type": "stream",
     "text": [
      "Calculating SI: 100%|██████████| 5/5 [00:00<00:00, 7735.71it/s]\n"
     ]
    },
    {
     "name": "stdout",
     "output_type": "stream",
     "text": [
      "Data has been normalized\n"
     ]
    },
    {
     "name": "stderr",
     "output_type": "stream",
     "text": [
      "Calculating SI: 100%|██████████| 5/5 [00:00<00:00, 7415.67it/s]\n"
     ]
    },
    {
     "name": "stdout",
     "output_type": "stream",
     "text": [
      "Data has been normalized\n"
     ]
    },
    {
     "name": "stderr",
     "output_type": "stream",
     "text": [
      "Calculating SI: 100%|██████████| 5/5 [00:00<00:00, 7617.70it/s]\n"
     ]
    },
    {
     "name": "stdout",
     "output_type": "stream",
     "text": [
      "Data has been normalized\n"
     ]
    },
    {
     "name": "stderr",
     "output_type": "stream",
     "text": [
      "Calculating SI: 100%|██████████| 5/5 [00:00<00:00, 7023.28it/s]\n"
     ]
    },
    {
     "name": "stdout",
     "output_type": "stream",
     "text": [
      "Data has been normalized\n"
     ]
    },
    {
     "name": "stderr",
     "output_type": "stream",
     "text": [
      "Calculating SI: 100%|██████████| 5/5 [00:00<00:00, 6992.84it/s]\n"
     ]
    },
    {
     "name": "stdout",
     "output_type": "stream",
     "text": [
      "Data has been normalized\n"
     ]
    },
    {
     "name": "stderr",
     "output_type": "stream",
     "text": [
      "Calculating SI: 100%|██████████| 5/5 [00:00<00:00, 7772.99it/s]\n"
     ]
    },
    {
     "name": "stdout",
     "output_type": "stream",
     "text": [
      "Data has been normalized\n"
     ]
    },
    {
     "name": "stderr",
     "output_type": "stream",
     "text": [
      "Calculating SI: 100%|██████████| 5/5 [00:00<00:00, 7335.26it/s]\n"
     ]
    },
    {
     "name": "stdout",
     "output_type": "stream",
     "text": [
      "Data has been normalized\n"
     ]
    },
    {
     "name": "stderr",
     "output_type": "stream",
     "text": [
      "Calculating SI: 100%|██████████| 5/5 [00:00<00:00, 7712.95it/s]\n"
     ]
    },
    {
     "name": "stdout",
     "output_type": "stream",
     "text": [
      "Data has been normalized\n"
     ]
    },
    {
     "name": "stderr",
     "output_type": "stream",
     "text": [
      "Calculating SI: 100%|██████████| 5/5 [00:00<00:00, 7513.98it/s]\n"
     ]
    },
    {
     "name": "stdout",
     "output_type": "stream",
     "text": [
      "Data has been normalized\n"
     ]
    },
    {
     "name": "stderr",
     "output_type": "stream",
     "text": [
      "Calculating SI: 100%|██████████| 5/5 [00:00<00:00, 8134.80it/s]\n"
     ]
    },
    {
     "name": "stdout",
     "output_type": "stream",
     "text": [
      "Data has been normalized\n"
     ]
    },
    {
     "name": "stderr",
     "output_type": "stream",
     "text": [
      "Calculating SI: 100%|██████████| 5/5 [00:00<00:00, 7264.12it/s]\n"
     ]
    },
    {
     "name": "stdout",
     "output_type": "stream",
     "text": [
      "Data has been normalized\n"
     ]
    },
    {
     "name": "stderr",
     "output_type": "stream",
     "text": [
      "Calculating SI: 100%|██████████| 5/5 [00:00<00:00, 7484.48it/s]\n"
     ]
    },
    {
     "name": "stdout",
     "output_type": "stream",
     "text": [
      "Data has been normalized\n"
     ]
    },
    {
     "name": "stderr",
     "output_type": "stream",
     "text": [
      "Calculating SI: 100%|██████████| 5/5 [00:00<00:00, 7684.69it/s]\n"
     ]
    }
   ],
   "source": [
    "si_layer_test = []\n",
    "\n",
    "# Iterate through each layer's features in the dictionary\n",
    "for layer_name, features in features_per_layer.items():\n",
    "    instance_disturbance = ARH_SeparationIndex(features, labels, normalize=True)\n",
    "    si = instance_disturbance.si_batch(batch_size=2000)\n",
    "    si_layer_test.append((layer_name, si))"
   ]
  },
  {
   "cell_type": "code",
   "execution_count": 10,
   "metadata": {
    "tags": []
   },
   "outputs": [
    {
     "data": {
      "text/plain": [
       "[('conv1', 0.23099999129772186),\n",
       " ('ln1', 0.299699991941452),\n",
       " ('elu1', 0.29350000619888306),\n",
       " ('conv2', 0.2685000002384186),\n",
       " ('ln2', 0.36739999055862427),\n",
       " ('elu2', 0.36579999327659607),\n",
       " ('maxpool1', 0.4578000009059906),\n",
       " ('resblock1', 0.554099977016449),\n",
       " ('conv3', 0.5766000151634216),\n",
       " ('ln3', 0.5928999781608582),\n",
       " ('elu3', 0.590399980545044),\n",
       " ('maxpool2', 0.618399977684021),\n",
       " ('conv4', 0.6495999693870544),\n",
       " ('maxpool3', 0.6740999817848206),\n",
       " ('ln4', 0.6500999927520752),\n",
       " ('elu4', 0.6513999700546265),\n",
       " ('resblock2', 0.7339999675750732),\n",
       " ('avgpool', 0.7622999548912048),\n",
       " ('flatten', 0.7622999548912048),\n",
       " ('fc1', 0.7806999683380127),\n",
       " ('ln5', 0.8167999982833862),\n",
       " ('fc2', 0.7879999876022339),\n",
       " ('softmax', 0.7595999836921692)]"
      ]
     },
     "execution_count": 10,
     "metadata": {},
     "output_type": "execute_result"
    }
   ],
   "source": [
    "si_layer_test"
   ]
  },
  {
   "cell_type": "code",
   "execution_count": 11,
   "metadata": {
    "tags": []
   },
   "outputs": [
    {
     "data": {
      "image/png": "[encoded data removed]",
      "text/plain": [
       "<Figure size 640x480 with 1 Axes>"
      ]
     },
     "metadata": {},
     "output_type": "display_data"
    }
   ],
   "source": [
    "# Plotting SI versus layer using a line plot\n",
    "plt.plot([layer for layer, _ in si_layer_test], [si for _, si in si_layer_test])\n",
    "plt.xlabel('Layer')\n",
    "plt.ylabel('SI')\n",
    "plt.title('Separation Index (SI) vs Layer - Test - LN')\n",
    "plt.xticks(rotation=45)\n",
    "plt.grid(True)\n",
    "plt.show()"
   ]
  },
  {
   "cell_type": "markdown",
   "metadata": {},
   "source": [
    "### Calc Center SI"
   ]
  },
  {
   "cell_type": "code",
   "execution_count": 12,
   "metadata": {
    "tags": []
   },
   "outputs": [
    {
     "name": "stdout",
     "output_type": "stream",
     "text": [
      "Data has been normalized\n"
     ]
    },
    {
     "name": "stderr",
     "output_type": "stream",
     "text": [
      "Calculating CSI: 100%|██████████| 5/5 [00:00<00:00, 730.79it/s]\n"
     ]
    },
    {
     "name": "stdout",
     "output_type": "stream",
     "text": [
      "Data has been normalized\n"
     ]
    },
    {
     "name": "stderr",
     "output_type": "stream",
     "text": [
      "Calculating CSI: 100%|██████████| 5/5 [00:00<00:00, 4395.62it/s]\n"
     ]
    },
    {
     "name": "stdout",
     "output_type": "stream",
     "text": [
      "Data has been normalized\n"
     ]
    },
    {
     "name": "stderr",
     "output_type": "stream",
     "text": [
      "Calculating CSI: 100%|██████████| 5/5 [00:00<00:00, 4279.03it/s]\n"
     ]
    },
    {
     "name": "stdout",
     "output_type": "stream",
     "text": [
      "Data has been normalized\n"
     ]
    },
    {
     "name": "stderr",
     "output_type": "stream",
     "text": [
      "Calculating CSI: 100%|██████████| 5/5 [00:00<00:00, 4201.87it/s]\n"
     ]
    },
    {
     "name": "stdout",
     "output_type": "stream",
     "text": [
      "Data has been normalized\n"
     ]
    },
    {
     "name": "stderr",
     "output_type": "stream",
     "text": [
      "Calculating CSI: 100%|██████████| 5/5 [00:00<00:00, 4479.18it/s]\n"
     ]
    },
    {
     "name": "stdout",
     "output_type": "stream",
     "text": [
      "Data has been normalized\n"
     ]
    },
    {
     "name": "stderr",
     "output_type": "stream",
     "text": [
      "Calculating CSI: 100%|██████████| 5/5 [00:00<00:00, 4433.73it/s]\n"
     ]
    },
    {
     "name": "stdout",
     "output_type": "stream",
     "text": [
      "Data has been normalized\n"
     ]
    },
    {
     "name": "stderr",
     "output_type": "stream",
     "text": [
      "Calculating CSI: 100%|██████████| 5/5 [00:00<00:00, 3256.95it/s]\n"
     ]
    },
    {
     "name": "stdout",
     "output_type": "stream",
     "text": [
      "Data has been normalized\n"
     ]
    },
    {
     "name": "stderr",
     "output_type": "stream",
     "text": [
      "Calculating CSI: 100%|██████████| 5/5 [00:00<00:00, 3264.05it/s]\n"
     ]
    },
    {
     "name": "stdout",
     "output_type": "stream",
     "text": [
      "Data has been normalized\n"
     ]
    },
    {
     "name": "stderr",
     "output_type": "stream",
     "text": [
      "Calculating CSI: 100%|██████████| 5/5 [00:00<00:00, 4610.14it/s]\n"
     ]
    },
    {
     "name": "stdout",
     "output_type": "stream",
     "text": [
      "Data has been normalized\n"
     ]
    },
    {
     "name": "stderr",
     "output_type": "stream",
     "text": [
      "Calculating CSI: 100%|██████████| 5/5 [00:00<00:00, 4561.01it/s]\n"
     ]
    },
    {
     "name": "stdout",
     "output_type": "stream",
     "text": [
      "Data has been normalized\n"
     ]
    },
    {
     "name": "stderr",
     "output_type": "stream",
     "text": [
      "Calculating CSI: 100%|██████████| 5/5 [00:00<00:00, 4538.31it/s]\n"
     ]
    },
    {
     "name": "stdout",
     "output_type": "stream",
     "text": [
      "Data has been normalized\n"
     ]
    },
    {
     "name": "stderr",
     "output_type": "stream",
     "text": [
      "Calculating CSI: 100%|██████████| 5/5 [00:00<00:00, 4283.40it/s]\n"
     ]
    },
    {
     "name": "stdout",
     "output_type": "stream",
     "text": [
      "Data has been normalized\n"
     ]
    },
    {
     "name": "stderr",
     "output_type": "stream",
     "text": [
      "Calculating CSI: 100%|██████████| 5/5 [00:00<00:00, 3267.61it/s]\n"
     ]
    },
    {
     "name": "stdout",
     "output_type": "stream",
     "text": [
      "Data has been normalized\n"
     ]
    },
    {
     "name": "stderr",
     "output_type": "stream",
     "text": [
      "Calculating CSI: 100%|██████████| 5/5 [00:00<00:00, 4149.49it/s]\n"
     ]
    },
    {
     "name": "stdout",
     "output_type": "stream",
     "text": [
      "Data has been normalized\n"
     ]
    },
    {
     "name": "stderr",
     "output_type": "stream",
     "text": [
      "Calculating CSI: 100%|██████████| 5/5 [00:00<00:00, 3345.27it/s]\n"
     ]
    },
    {
     "name": "stdout",
     "output_type": "stream",
     "text": [
      "Data has been normalized\n"
     ]
    },
    {
     "name": "stderr",
     "output_type": "stream",
     "text": [
      "Calculating CSI: 100%|██████████| 5/5 [00:00<00:00, 4075.31it/s]\n"
     ]
    },
    {
     "name": "stdout",
     "output_type": "stream",
     "text": [
      "Data has been normalized\n"
     ]
    },
    {
     "name": "stderr",
     "output_type": "stream",
     "text": [
      "Calculating CSI: 100%|██████████| 5/5 [00:00<00:00, 4384.60it/s]\n"
     ]
    },
    {
     "name": "stdout",
     "output_type": "stream",
     "text": [
      "Data has been normalized\n"
     ]
    },
    {
     "name": "stderr",
     "output_type": "stream",
     "text": [
      "Calculating CSI: 100%|██████████| 5/5 [00:00<00:00, 4165.98it/s]\n"
     ]
    },
    {
     "name": "stdout",
     "output_type": "stream",
     "text": [
      "Data has been normalized\n"
     ]
    },
    {
     "name": "stderr",
     "output_type": "stream",
     "text": [
      "Calculating CSI: 100%|██████████| 5/5 [00:00<00:00, 4422.51it/s]\n"
     ]
    },
    {
     "name": "stdout",
     "output_type": "stream",
     "text": [
      "Data has been normalized\n"
     ]
    },
    {
     "name": "stderr",
     "output_type": "stream",
     "text": [
      "Calculating CSI: 100%|██████████| 5/5 [00:00<00:00, 4522.65it/s]\n"
     ]
    },
    {
     "name": "stdout",
     "output_type": "stream",
     "text": [
      "Data has been normalized\n"
     ]
    },
    {
     "name": "stderr",
     "output_type": "stream",
     "text": [
      "Calculating CSI: 100%|██████████| 5/5 [00:00<00:00, 4180.93it/s]\n"
     ]
    },
    {
     "name": "stdout",
     "output_type": "stream",
     "text": [
      "Data has been normalized\n"
     ]
    },
    {
     "name": "stderr",
     "output_type": "stream",
     "text": [
      "Calculating CSI: 100%|██████████| 5/5 [00:00<00:00, 4689.52it/s]\n"
     ]
    },
    {
     "name": "stdout",
     "output_type": "stream",
     "text": [
      "Data has been normalized\n"
     ]
    },
    {
     "name": "stderr",
     "output_type": "stream",
     "text": [
      "Calculating CSI: 100%|██████████| 5/5 [00:00<00:00, 4012.15it/s]\n"
     ]
    }
   ],
   "source": [
    "csi_layer_test = []\n",
    "\n",
    "# Iterate through each layer's features in the dictionary\n",
    "for layer_name, features in features_per_layer.items():\n",
    "    instance_disturbance = ARH_SeparationIndex(features, labels, normalize=True)\n",
    "    csi = instance_disturbance.center_si_batch(batch_size=2000)\n",
    "    csi_layer_test.append((layer_name, csi))"
   ]
  },
  {
   "cell_type": "code",
   "execution_count": 13,
   "metadata": {
    "tags": []
   },
   "outputs": [
    {
     "name": "stdout",
     "output_type": "stream",
     "text": [
      "[('conv1', 0.3447999954223633), ('ln1', 0.3572999835014343), ('elu1', 0.3594000041484833), ('conv2', 0.38169997930526733), ('ln2', 0.3868999779224396), ('elu2', 0.3983999788761139), ('maxpool1', 0.4486999809741974), ('resblock1', 0.5444999933242798), ('conv3', 0.5670999884605408), ('ln3', 0.5669999718666077), ('elu3', 0.5748000144958496), ('maxpool2', 0.5911999940872192), ('conv4', 0.614300012588501), ('maxpool3', 0.6432999968528748), ('ln4', 0.6191999912261963), ('elu4', 0.6251999735832214), ('resblock2', 0.7429999709129333), ('avgpool', 0.7907999753952026), ('flatten', 0.7907999753952026), ('fc1', 0.8460999727249146), ('ln5', 0.8504999876022339), ('fc2', 0.8353999853134155), ('softmax', 0.8522999882698059)]\n"
     ]
    },
    {
     "data": {
      "image/png": "[encoded data removed]",
      "text/plain": [
       "<Figure size 640x480 with 1 Axes>"
      ]
     },
     "metadata": {},
     "output_type": "display_data"
    }
   ],
   "source": [
    "print(csi_layer_test)\n",
    "\n",
    "\n",
    "# Plotting SI versus layer using a line plot\n",
    "plt.plot([layer for layer, _ in csi_layer_test], [si for _, si in csi_layer_test])\n",
    "plt.xlabel('Layer')\n",
    "plt.ylabel('SI')\n",
    "plt.title('Center Separation Index (CSI) vs Layer - Test - LN')\n",
    "plt.xticks(rotation=45)\n",
    "plt.grid(True)\n",
    "plt.show()"
   ]
  },
  {
   "cell_type": "code",
   "execution_count": null,
   "metadata": {},
   "outputs": [],
   "source": []
  }
 ],
 "metadata": {
  "accelerator": "GPU",
  "colab": {
   "gpuType": "T4",
   "provenance": []
  },
  "kernelspec": {
   "display_name": "torch2",
   "language": "python",
   "name": "torch2"
  },
  "language_info": {
   "codemirror_mode": {
    "name": "ipython",
    "version": 3
   },
   "file_extension": ".py",
   "mimetype": "text/x-python",
   "name": "python",
   "nbconvert_exporter": "python",
   "pygments_lexer": "ipython3",
   "version": "3.11.6"
  }
 },
 "nbformat": 4,
 "nbformat_minor": 4
}
