{
 "cells": [
  {
   "cell_type": "markdown",
   "metadata": {
    "id": "D_FzYJ6kBPmA"
   },
   "source": [
    "# Import Libraries"
   ]
  },
  {
   "cell_type": "code",
   "execution_count": 1,
   "metadata": {
    "id": "QwVCQZDtBSOW",
    "tags": []
   },
   "outputs": [],
   "source": [
    "import torch\n",
    "import torch.nn as nn\n",
    "import torch.nn.functional as F\n",
    "\n",
    "import torch.optim as optim\n",
    "from torch.optim.lr_scheduler import StepLR\n",
    "from torchvision import datasets, transforms\n",
    "from torch.utils.data import DataLoader, random_split\n",
    "from sklearn.model_selection import train_test_split\n",
    "\n",
    "import matplotlib.pyplot as plt\n",
    "from tqdm import tqdm"
   ]
  },
  {
   "cell_type": "code",
   "execution_count": 2,
   "metadata": {
    "tags": []
   },
   "outputs": [
    {
     "name": "stdout",
     "output_type": "stream",
     "text": [
      "2\n",
      "NVIDIA GeForce RTX 3090\n"
     ]
    }
   ],
   "source": [
    "# Check GPU\n",
    "print(torch.cuda.device_count())\n",
    "print(torch.cuda.get_device_name(1))"
   ]
  },
  {
   "cell_type": "markdown",
   "metadata": {
    "id": "aNA78o8BBtC-",
    "tags": []
   },
   "source": [
    "# Part C "
   ]
  },
  {
   "cell_type": "markdown",
   "metadata": {
    "id": "quDe3fsABTNB"
   },
   "source": [
    "## Implement Custom Resnet + Group Normalization"
   ]
  },
  {
   "cell_type": "code",
   "execution_count": 2,
   "metadata": {
    "colab": {
     "base_uri": "https://localhost:8080/",
     "height": 247
    },
    "id": "AqPnnPgaBSzd",
    "outputId": "0a9b901d-aa7f-4daa-af0f-486f012cb733",
    "tags": []
   },
   "outputs": [],
   "source": [
    "class CustomResNet_GN(nn.Module):\n",
    "    def __init__(self, groups=32):\n",
    "        super(CustomResNet_GN, self).__init__()\n",
    "\n",
    "        # Initial layers\n",
    "        self.conv1 = nn.Conv2d(3, 32, kernel_size=3, padding=1)\n",
    "        self.norm1 = nn.GroupNorm(groups, 32)\n",
    "        self.conv2 = nn.Conv2d(32, 64, kernel_size=3, padding=1)\n",
    "        self.norm2 = nn.GroupNorm(groups, 64)\n",
    "        self.pool1 = nn.MaxPool2d(kernel_size=2, stride=2)\n",
    "\n",
    "        # Residual block 1\n",
    "        self.conv3 = nn.Conv2d(64, 64, kernel_size=3, padding=1)\n",
    "        self.norm3 = nn.GroupNorm(groups, 64)\n",
    "        self.conv4 = nn.Conv2d(64, 64, kernel_size=3, padding=1)\n",
    "        self.norm4 = nn.GroupNorm(groups, 64)\n",
    "        self.match_conv1 = nn.Conv2d(64, 64, kernel_size=1, stride=1, padding=0)\n",
    "\n",
    "        # Residual block 2\n",
    "        self.conv5 = nn.Conv2d(64, 128, kernel_size=3, padding=1)\n",
    "        self.norm5 = nn.GroupNorm(groups, 128)\n",
    "        self.match_conv2 = nn.Conv2d(64, 128, kernel_size=1, stride=2, padding=0)\n",
    "\n",
    "        # Residual block 3\n",
    "        self.conv6 = nn.Conv2d(128, 256, kernel_size=3, padding=1)\n",
    "        self.norm6 = nn.GroupNorm(groups, 256)\n",
    "        self.conv7 = nn.Conv2d(256, 256, kernel_size=3, padding=1)\n",
    "        self.norm7 = nn.GroupNorm(groups, 256)\n",
    "        self.match_conv3 = nn.Conv2d(128, 256, kernel_size=1, stride=2, padding=0)\n",
    "\n",
    "        # Final layers\n",
    "        self.avg_pool = nn.AvgPool2d(kernel_size=3)\n",
    "        self.fc1 = nn.Linear(256, 256)\n",
    "        self.norm8 = nn.GroupNorm(groups, 256)\n",
    "        self.fc2 = nn.Linear(256, 10)\n",
    "\n",
    "    def forward(self, x):\n",
    "        x = F.elu(self.norm1(self.conv1(x)))\n",
    "        x = F.elu(self.norm2(self.conv2(x)))\n",
    "        x = self.pool1(x)\n",
    "\n",
    "        # Residual block 1\n",
    "        identity = x\n",
    "        x = F.elu(self.norm3(self.conv3(x)))\n",
    "        x = F.elu(self.norm4(self.conv4(x)))\n",
    "        x += identity\n",
    "        x = F.elu(x)\n",
    "\n",
    "        # Residual block 2\n",
    "        identity = self.match_conv2(x)  \n",
    "        x = F.elu(self.norm5(self.conv5(x)))\n",
    "        x = self.pool1(x)  # Use pool1 instead of pool2\n",
    "        x += identity\n",
    "        x = F.elu(x)\n",
    "\n",
    "        # Residual block 3\n",
    "        identity = self.match_conv3(x)  \n",
    "        x = F.elu(self.norm6(self.conv6(x)))\n",
    "        x = self.pool1(x)  # Use pool1 instead of pool3\n",
    "        x = F.elu(self.norm7(self.conv7(x)))\n",
    "        x += identity\n",
    "        x = F.elu(x)\n",
    "\n",
    "        # Final layers\n",
    "        x = self.avg_pool(x)\n",
    "        x = torch.flatten(x, 1)\n",
    "        x = F.elu(self.norm8(self.fc1(x)))\n",
    "        x = self.fc2(x)\n",
    "\n",
    "        return x\n"
   ]
  },
  {
   "cell_type": "markdown",
   "metadata": {
    "id": "JDIWaZO4BoJG"
   },
   "source": [
    "## Load Dataset"
   ]
  },
  {
   "cell_type": "code",
   "execution_count": 3,
   "metadata": {
    "id": "8V4gTK4PBihv"
   },
   "outputs": [],
   "source": [
    "# Data augmentation and normalization\n",
    "transform_train = transforms.Compose([\n",
    "    transforms.RandomHorizontalFlip(),\n",
    "    transforms.RandomRotation(10),\n",
    "    transforms.ToTensor(),\n",
    "    transforms.Normalize((0.5, 0.5, 0.5), (0.5, 0.5, 0.5))\n",
    "])\n",
    "\n",
    "# # Data augmentation and normalization for training\n",
    "# transform_train = transforms.Compose([\n",
    "#     transforms.RandomHorizontalFlip(),\n",
    "#     transforms.RandomRotation(15),\n",
    "#     transforms.RandomResizedCrop(32, scale=(0.8, 1.0)),\n",
    "#     transforms.ColorJitter(brightness=0.1, contrast=0.1, saturation=0.1, hue=0.1),\n",
    "#     transforms.RandomAffine(degrees=0, translate=(0.1, 0.1)),\n",
    "#     transforms.ToTensor(),\n",
    "#     transforms.Normalize((0.5, 0.5, 0.5), (0.5, 0.5, 0.5))\n",
    "# ])\n",
    "\n",
    "transform_test = transforms.Compose([\n",
    "    transforms.ToTensor(),\n",
    "    transforms.Normalize((0.5, 0.5, 0.5), (0.5, 0.5, 0.5))\n",
    "])"
   ]
  },
  {
   "cell_type": "code",
   "execution_count": 4,
   "metadata": {
    "colab": {
     "base_uri": "https://localhost:8080/"
    },
    "id": "pFEN5wDcBwwe",
    "outputId": "9c66fc00-2d4a-4d12-8a18-244b82583cad"
   },
   "outputs": [
    {
     "name": "stdout",
     "output_type": "stream",
     "text": [
      "Files already downloaded and verified\n",
      "Files already downloaded and verified\n"
     ]
    }
   ],
   "source": [
    "# Load CIFAR-10 dataset\n",
    "train_dataset = datasets.CIFAR10(root='./data', train=True, download=True, transform=transform_train)\n",
    "test_dataset = datasets.CIFAR10(root='./data', train=False, download=True, transform=transform_test)\n",
    "\n",
    "# Splitting train dataset into train and validation sets\n",
    "train_size = int(0.9 * len(train_dataset))\n",
    "val_size = len(train_dataset) - train_size\n",
    "train_dataset, val_dataset = random_split(train_dataset, [train_size, val_size])\n",
    "\n",
    "# Data loaders\n",
    "train_loader = DataLoader(train_dataset, batch_size=256, shuffle=True)\n",
    "val_loader = DataLoader(val_dataset, batch_size=256, shuffle=False)\n",
    "test_loader = DataLoader(test_dataset, batch_size=256, shuffle=False)"
   ]
  },
  {
   "cell_type": "markdown",
   "metadata": {
    "id": "nmhQIr54B2oW"
   },
   "source": [
    "## Optimizer and Train Setup"
   ]
  },
  {
   "cell_type": "code",
   "execution_count": 5,
   "metadata": {
    "id": "3CzuU7SMB1H9"
   },
   "outputs": [],
   "source": [
    "# Model, optimizer, and scheduler\n",
    "model = CustomResNet_GN()\n",
    "optimizer = optim.SGD(model.parameters(), lr=0.01, momentum=0.9)\n",
    "scheduler = StepLR(optimizer, step_size=40, gamma=0.1)\n",
    "criterion = nn.CrossEntropyLoss()"
   ]
  },
  {
   "cell_type": "code",
   "execution_count": 6,
   "metadata": {
    "colab": {
     "base_uri": "https://localhost:8080/"
    },
    "id": "Q5Ln_L7oIPAi",
    "outputId": "3ef9c660-f4a3-42bd-91d5-b018c8cedc23"
   },
   "outputs": [
    {
     "data": {
      "text/plain": [
       "CustomResNet_GN(\n",
       "  (conv1): Conv2d(3, 32, kernel_size=(3, 3), stride=(1, 1), padding=(1, 1))\n",
       "  (norm1): GroupNorm(32, 32, eps=1e-05, affine=True)\n",
       "  (conv2): Conv2d(32, 64, kernel_size=(3, 3), stride=(1, 1), padding=(1, 1))\n",
       "  (norm2): GroupNorm(32, 64, eps=1e-05, affine=True)\n",
       "  (pool1): MaxPool2d(kernel_size=2, stride=2, padding=0, dilation=1, ceil_mode=False)\n",
       "  (conv3): Conv2d(64, 64, kernel_size=(3, 3), stride=(1, 1), padding=(1, 1))\n",
       "  (norm3): GroupNorm(32, 64, eps=1e-05, affine=True)\n",
       "  (conv4): Conv2d(64, 64, kernel_size=(3, 3), stride=(1, 1), padding=(1, 1))\n",
       "  (norm4): GroupNorm(32, 64, eps=1e-05, affine=True)\n",
       "  (match_conv1): Conv2d(64, 64, kernel_size=(1, 1), stride=(1, 1))\n",
       "  (conv5): Conv2d(64, 128, kernel_size=(3, 3), stride=(1, 1), padding=(1, 1))\n",
       "  (norm5): GroupNorm(32, 128, eps=1e-05, affine=True)\n",
       "  (match_conv2): Conv2d(64, 128, kernel_size=(1, 1), stride=(2, 2))\n",
       "  (conv6): Conv2d(128, 256, kernel_size=(3, 3), stride=(1, 1), padding=(1, 1))\n",
       "  (norm6): GroupNorm(32, 256, eps=1e-05, affine=True)\n",
       "  (conv7): Conv2d(256, 256, kernel_size=(3, 3), stride=(1, 1), padding=(1, 1))\n",
       "  (norm7): GroupNorm(32, 256, eps=1e-05, affine=True)\n",
       "  (match_conv3): Conv2d(128, 256, kernel_size=(1, 1), stride=(2, 2))\n",
       "  (avg_pool): AvgPool2d(kernel_size=3, stride=3, padding=0)\n",
       "  (fc1): Linear(in_features=256, out_features=256, bias=True)\n",
       "  (norm8): GroupNorm(32, 256, eps=1e-05, affine=True)\n",
       "  (fc2): Linear(in_features=256, out_features=10, bias=True)\n",
       ")"
      ]
     },
     "execution_count": 6,
     "metadata": {},
     "output_type": "execute_result"
    }
   ],
   "source": [
    "# Determine if CUDA is available and set the device accordingly\n",
    "device = torch.device(\"cuda:1\" if torch.cuda.is_available() else \"cpu\")\n",
    "model.to(device)"
   ]
  },
  {
   "cell_type": "code",
   "execution_count": 7,
   "metadata": {
    "id": "8AjZNiXpHwDi"
   },
   "outputs": [],
   "source": [
    "def train(model, device, train_loader, optimizer, criterion):\n",
    "    model.train()\n",
    "    train_loss = 0\n",
    "    correct = 0\n",
    "    total = 0\n",
    "    for data, target in train_loader:\n",
    "        data, target = data.to(device), target.to(device)\n",
    "        optimizer.zero_grad()\n",
    "        output = model(data)\n",
    "        loss = criterion(output, target)\n",
    "        train_loss += loss.item()\n",
    "        loss.backward()\n",
    "        optimizer.step()\n",
    "\n",
    "        _, predicted = torch.max(output.data, 1)\n",
    "        total += target.size(0)\n",
    "        correct += (predicted == target).sum().item()\n",
    "\n",
    "    train_loss /= len(train_loader)\n",
    "    train_accuracy = 100 * correct / total\n",
    "    return train_loss, train_accuracy\n",
    "\n",
    "def test(model, device, test_loader, criterion):\n",
    "    model.eval()\n",
    "    test_loss = 0\n",
    "    correct = 0\n",
    "    with torch.no_grad():\n",
    "        for data, target in test_loader:\n",
    "            data, target = data.to(device), target.to(device)\n",
    "            output = model(data)\n",
    "            loss = criterion(output, target)\n",
    "            test_loss += loss.item()\n",
    "            _, predicted = output.max(1)\n",
    "            correct += predicted.eq(target).sum().item()\n",
    "\n",
    "    test_loss /= len(test_loader)\n",
    "    test_accuracy = 100. * correct / len(test_loader.dataset)\n",
    "    return test_loss, test_accuracy\n",
    "\n",
    "# Training loop with tracking of training and validation accuracies\n",
    "train_losses, train_accuracies, val_losses, val_accuracies = [], [], [], []\n",
    "best_val_accuracy = 0\n",
    "best_model_weights = None\n"
   ]
  },
  {
   "cell_type": "code",
   "execution_count": 8,
   "metadata": {
    "colab": {
     "base_uri": "https://localhost:8080/"
    },
    "id": "09-npVVjIP1z",
    "outputId": "3c14999d-945f-4031-d719-9b7e3085b0cf"
   },
   "outputs": [
    {
     "name": "stdout",
     "output_type": "stream",
     "text": [
      "Epoch: 1, Train Loss: 1.7443, Train Accuracy: 36.58%, Val Loss: 1.4263, Val Accuracy: 48.58%\n",
      "Epoch: 2, Train Loss: 1.2404, Train Accuracy: 55.66%, Val Loss: 1.1197, Val Accuracy: 59.48%\n",
      "Epoch: 3, Train Loss: 1.0226, Train Accuracy: 64.02%, Val Loss: 0.9931, Val Accuracy: 63.48%\n",
      "Epoch: 4, Train Loss: 0.8879, Train Accuracy: 68.62%, Val Loss: 0.8629, Val Accuracy: 69.66%\n",
      "Epoch: 5, Train Loss: 0.7969, Train Accuracy: 72.16%, Val Loss: 0.7592, Val Accuracy: 73.62%\n",
      "Epoch: 6, Train Loss: 0.7269, Train Accuracy: 74.69%, Val Loss: 0.7361, Val Accuracy: 73.94%\n",
      "Epoch: 7, Train Loss: 0.6727, Train Accuracy: 76.35%, Val Loss: 0.6974, Val Accuracy: 76.30%\n",
      "Epoch: 8, Train Loss: 0.6249, Train Accuracy: 78.21%, Val Loss: 0.6528, Val Accuracy: 77.66%\n",
      "Epoch: 9, Train Loss: 0.5916, Train Accuracy: 79.31%, Val Loss: 0.6293, Val Accuracy: 77.94%\n",
      "Epoch: 10, Train Loss: 0.5582, Train Accuracy: 80.49%, Val Loss: 0.6247, Val Accuracy: 78.58%\n",
      "Epoch: 11, Train Loss: 0.5275, Train Accuracy: 81.55%, Val Loss: 0.6505, Val Accuracy: 77.34%\n",
      "Epoch: 12, Train Loss: 0.4996, Train Accuracy: 82.42%, Val Loss: 0.6070, Val Accuracy: 78.90%\n",
      "Epoch: 13, Train Loss: 0.4745, Train Accuracy: 83.40%, Val Loss: 0.5938, Val Accuracy: 79.44%\n",
      "Epoch: 14, Train Loss: 0.4540, Train Accuracy: 84.23%, Val Loss: 0.5495, Val Accuracy: 80.92%\n",
      "Epoch: 15, Train Loss: 0.4366, Train Accuracy: 84.52%, Val Loss: 0.5503, Val Accuracy: 81.08%\n",
      "Epoch: 16, Train Loss: 0.4162, Train Accuracy: 85.40%, Val Loss: 0.5464, Val Accuracy: 81.60%\n",
      "Epoch: 17, Train Loss: 0.3900, Train Accuracy: 86.39%, Val Loss: 0.5526, Val Accuracy: 81.14%\n",
      "Epoch: 18, Train Loss: 0.3794, Train Accuracy: 86.78%, Val Loss: 0.5565, Val Accuracy: 80.66%\n",
      "Epoch: 19, Train Loss: 0.3636, Train Accuracy: 87.24%, Val Loss: 0.5446, Val Accuracy: 81.70%\n",
      "Epoch: 20, Train Loss: 0.3605, Train Accuracy: 87.41%, Val Loss: 0.5398, Val Accuracy: 82.18%\n",
      "Epoch: 21, Train Loss: 0.3346, Train Accuracy: 88.32%, Val Loss: 0.5125, Val Accuracy: 82.98%\n",
      "Epoch: 22, Train Loss: 0.3194, Train Accuracy: 88.80%, Val Loss: 0.5806, Val Accuracy: 81.68%\n",
      "Epoch: 23, Train Loss: 0.3026, Train Accuracy: 89.32%, Val Loss: 0.5222, Val Accuracy: 82.42%\n",
      "Epoch: 24, Train Loss: 0.2942, Train Accuracy: 89.65%, Val Loss: 0.5882, Val Accuracy: 81.42%\n",
      "Epoch: 25, Train Loss: 0.2895, Train Accuracy: 89.92%, Val Loss: 0.5344, Val Accuracy: 82.48%\n",
      "Epoch: 26, Train Loss: 0.2816, Train Accuracy: 90.02%, Val Loss: 0.5180, Val Accuracy: 83.46%\n",
      "Epoch: 27, Train Loss: 0.2594, Train Accuracy: 90.80%, Val Loss: 0.5213, Val Accuracy: 83.10%\n",
      "Epoch: 28, Train Loss: 0.2566, Train Accuracy: 90.82%, Val Loss: 0.5432, Val Accuracy: 83.08%\n",
      "Epoch: 29, Train Loss: 0.2427, Train Accuracy: 91.48%, Val Loss: 0.5516, Val Accuracy: 82.20%\n",
      "Epoch: 30, Train Loss: 0.2286, Train Accuracy: 91.85%, Val Loss: 0.5016, Val Accuracy: 83.62%\n",
      "Epoch: 31, Train Loss: 0.2106, Train Accuracy: 92.62%, Val Loss: 0.5185, Val Accuracy: 83.26%\n",
      "Epoch: 32, Train Loss: 0.2072, Train Accuracy: 92.70%, Val Loss: 0.5601, Val Accuracy: 83.30%\n",
      "Epoch: 33, Train Loss: 0.2105, Train Accuracy: 92.47%, Val Loss: 0.5507, Val Accuracy: 82.98%\n",
      "Epoch: 34, Train Loss: 0.2095, Train Accuracy: 92.52%, Val Loss: 0.5391, Val Accuracy: 83.14%\n",
      "Epoch: 35, Train Loss: 0.1904, Train Accuracy: 93.31%, Val Loss: 0.6057, Val Accuracy: 82.64%\n",
      "Epoch: 36, Train Loss: 0.1832, Train Accuracy: 93.46%, Val Loss: 0.5273, Val Accuracy: 83.90%\n",
      "Epoch: 37, Train Loss: 0.1738, Train Accuracy: 93.90%, Val Loss: 0.5380, Val Accuracy: 83.96%\n",
      "Epoch: 38, Train Loss: 0.1713, Train Accuracy: 94.02%, Val Loss: 0.5425, Val Accuracy: 83.54%\n",
      "Epoch: 39, Train Loss: 0.1560, Train Accuracy: 94.44%, Val Loss: 0.5863, Val Accuracy: 83.22%\n",
      "Epoch: 40, Train Loss: 0.1491, Train Accuracy: 94.78%, Val Loss: 0.5858, Val Accuracy: 83.56%\n",
      "Epoch: 41, Train Loss: 0.0921, Train Accuracy: 96.93%, Val Loss: 0.4921, Val Accuracy: 85.98%\n",
      "Epoch: 42, Train Loss: 0.0738, Train Accuracy: 97.81%, Val Loss: 0.4857, Val Accuracy: 85.54%\n",
      "Epoch: 43, Train Loss: 0.0718, Train Accuracy: 97.78%, Val Loss: 0.4885, Val Accuracy: 85.80%\n",
      "Epoch: 44, Train Loss: 0.0668, Train Accuracy: 98.04%, Val Loss: 0.4913, Val Accuracy: 85.48%\n",
      "Epoch: 45, Train Loss: 0.0637, Train Accuracy: 98.15%, Val Loss: 0.4929, Val Accuracy: 86.00%\n",
      "Epoch: 46, Train Loss: 0.0608, Train Accuracy: 98.33%, Val Loss: 0.4813, Val Accuracy: 85.80%\n",
      "Epoch: 47, Train Loss: 0.0605, Train Accuracy: 98.27%, Val Loss: 0.4983, Val Accuracy: 85.48%\n",
      "Epoch: 48, Train Loss: 0.0581, Train Accuracy: 98.31%, Val Loss: 0.5017, Val Accuracy: 86.42%\n",
      "Epoch: 49, Train Loss: 0.0567, Train Accuracy: 98.38%, Val Loss: 0.4883, Val Accuracy: 85.88%\n",
      "Epoch: 50, Train Loss: 0.0544, Train Accuracy: 98.38%, Val Loss: 0.4966, Val Accuracy: 85.68%\n",
      "Epoch: 51, Train Loss: 0.0520, Train Accuracy: 98.48%, Val Loss: 0.5020, Val Accuracy: 86.00%\n",
      "Epoch: 52, Train Loss: 0.0520, Train Accuracy: 98.52%, Val Loss: 0.5112, Val Accuracy: 86.14%\n",
      "Epoch: 53, Train Loss: 0.0502, Train Accuracy: 98.58%, Val Loss: 0.4996, Val Accuracy: 86.14%\n",
      "Epoch: 54, Train Loss: 0.0495, Train Accuracy: 98.62%, Val Loss: 0.5006, Val Accuracy: 85.74%\n",
      "Epoch: 55, Train Loss: 0.0491, Train Accuracy: 98.54%, Val Loss: 0.5028, Val Accuracy: 86.02%\n",
      "Epoch: 56, Train Loss: 0.0463, Train Accuracy: 98.73%, Val Loss: 0.5117, Val Accuracy: 85.72%\n",
      "Epoch: 57, Train Loss: 0.0465, Train Accuracy: 98.69%, Val Loss: 0.5213, Val Accuracy: 85.68%\n",
      "Epoch: 58, Train Loss: 0.0462, Train Accuracy: 98.70%, Val Loss: 0.5303, Val Accuracy: 85.90%\n",
      "Epoch: 59, Train Loss: 0.0454, Train Accuracy: 98.74%, Val Loss: 0.5268, Val Accuracy: 85.58%\n",
      "Epoch: 60, Train Loss: 0.0436, Train Accuracy: 98.79%, Val Loss: 0.5116, Val Accuracy: 85.80%\n"
     ]
    }
   ],
   "source": [
    "for epoch in range(1, 61):\n",
    "    train_loss, train_accuracy = train(model, device, train_loader, optimizer , criterion)\n",
    "    val_loss, val_accuracy = test(model, device, val_loader , criterion)\n",
    "\n",
    "    train_losses.append(train_loss)\n",
    "    train_accuracies.append(train_accuracy)\n",
    "    val_losses.append(val_loss)\n",
    "    val_accuracies.append(val_accuracy)\n",
    "\n",
    "    if val_accuracy > best_val_accuracy:\n",
    "        best_val_accuracy = val_accuracy\n",
    "        best_model_weights = model.state_dict()\n",
    "\n",
    "    print(f'Epoch: {epoch}, Train Loss: {train_loss:.4f}, Train Accuracy: {train_accuracy:.2f}%, Val Loss: {val_loss:.4f}, Val Accuracy: {val_accuracy:.2f}%')\n",
    "    scheduler.step()"
   ]
  },
  {
   "cell_type": "code",
   "execution_count": 9,
   "metadata": {
    "colab": {
     "base_uri": "https://localhost:8080/",
     "height": 522
    },
    "id": "Hj3juhQ1IYxO",
    "outputId": "64058bc6-eb0f-4da8-f120-765da7e9807d"
   },
   "outputs": [
    {
     "data": {
      "image/png": "[encoded data removed]",
      "text/plain": [
       "<Figure size 1200x500 with 2 Axes>"
      ]
     },
     "metadata": {},
     "output_type": "display_data"
    },
    {
     "name": "stdout",
     "output_type": "stream",
     "text": [
      "Best Validation Accuracy: 86.42%\n",
      "Test Accuracy of the final model: 87.37%\n"
     ]
    }
   ],
   "source": [
    "# Load best model weights and evaluate on test set\n",
    "model.load_state_dict(best_model_weights)\n",
    "test_loss, test_accuracy = test(model, device, test_loader , criterion)\n",
    "\n",
    "# Plotting training and validation loss and accuracy\n",
    "plt.figure(figsize=(12, 5))\n",
    "\n",
    "plt.subplot(1, 2, 1)\n",
    "plt.plot(train_losses, label='Train Loss')\n",
    "plt.plot(val_losses, label='Validation Loss')\n",
    "plt.title('Training and Validation Loss')\n",
    "plt.xlabel('Epochs')\n",
    "plt.ylabel('Loss')\n",
    "plt.legend()\n",
    "\n",
    "plt.subplot(1, 2, 2)\n",
    "plt.plot(train_accuracies, label='Train Accuracy')\n",
    "plt.plot(val_accuracies, label='Validation Accuracy')\n",
    "plt.title('Training and Validation Accuracy')\n",
    "plt.xlabel('Epochs')\n",
    "plt.ylabel('Accuracy (%)')\n",
    "plt.legend()\n",
    "\n",
    "plt.show()\n",
    "\n",
    "# Print best validation accuracy and test accuracy\n",
    "print(f'Best Validation Accuracy: {best_val_accuracy:.2f}%')\n",
    "print(f'Test Accuracy of the final model: {test_accuracy:.2f}%')\n",
    "\n",
    "# Save best model weights\n",
    "torch.save(best_model_weights, 'best_custom_resnet_weights_GN.pth')"
   ]
  },
  {
   "cell_type": "markdown",
   "metadata": {
    "id": "UO5dnC5YeJrh",
    "tags": []
   },
   "source": [
    "# Layer Wise analyse , Part A"
   ]
  },
  {
   "cell_type": "code",
   "execution_count": null,
   "metadata": {
    "colab": {
     "base_uri": "https://localhost:8080/"
    },
    "id": "pgoYCnwadXJV",
    "outputId": "4da311d0-2330-4cd8-84f2-cf71582117b0",
    "tags": []
   },
   "outputs": [],
   "source": [
    "# download Pretrained Weight of model\n",
    "import gdown\n",
    "id = \"1Du8QY70d90wIPvrLip_Q3trsyeLvdE9L\"\n",
    "gdown.download(id=id, quiet=False)"
   ]
  },
  {
   "cell_type": "code",
   "execution_count": null,
   "metadata": {
    "tags": []
   },
   "outputs": [],
   "source": [
    "!git clone https://github.com/Arhosseini77/data_complexity_measures"
   ]
  },
  {
   "cell_type": "code",
   "execution_count": 2,
   "metadata": {
    "tags": []
   },
   "outputs": [],
   "source": [
    "from data_complexity_measures.models.ARH_SeparationIndex import ARH_SeparationIndex"
   ]
  },
  {
   "cell_type": "code",
   "execution_count": 3,
   "metadata": {
    "id": "STuVWv9ghSOY",
    "tags": []
   },
   "outputs": [],
   "source": [
    "class CustomResNet_GN(nn.Module):\n",
    "    def __init__(self, groups=32):\n",
    "        super(CustomResNet_GN, self).__init__()\n",
    "\n",
    "        # Initial layers\n",
    "        self.conv1 = nn.Conv2d(3, 32, kernel_size=3, padding=1)\n",
    "        self.norm1 = nn.GroupNorm(groups, 32)\n",
    "        self.conv2 = nn.Conv2d(32, 64, kernel_size=3, padding=1)\n",
    "        self.norm2 = nn.GroupNorm(groups, 64)\n",
    "        self.pool1 = nn.MaxPool2d(kernel_size=2, stride=2)\n",
    "\n",
    "        # Residual block 1\n",
    "        self.conv3 = nn.Conv2d(64, 64, kernel_size=3, padding=1)\n",
    "        self.norm3 = nn.GroupNorm(groups, 64)\n",
    "        self.conv4 = nn.Conv2d(64, 64, kernel_size=3, padding=1)\n",
    "        self.norm4 = nn.GroupNorm(groups, 64)\n",
    "        self.match_conv1 = nn.Conv2d(64, 64, kernel_size=1, stride=1, padding=0)\n",
    "\n",
    "        # Residual block 2\n",
    "        self.conv5 = nn.Conv2d(64, 128, kernel_size=3, padding=1)\n",
    "        self.norm5 = nn.GroupNorm(groups, 128)\n",
    "        self.match_conv2 = nn.Conv2d(64, 128, kernel_size=1, stride=2, padding=0)\n",
    "\n",
    "        # Residual block 3\n",
    "        self.conv6 = nn.Conv2d(128, 256, kernel_size=3, padding=1)\n",
    "        self.norm6 = nn.GroupNorm(groups, 256)\n",
    "        self.conv7 = nn.Conv2d(256, 256, kernel_size=3, padding=1)\n",
    "        self.norm7 = nn.GroupNorm(groups, 256)\n",
    "        self.match_conv3 = nn.Conv2d(128, 256, kernel_size=1, stride=2, padding=0)\n",
    "\n",
    "        # Final layers\n",
    "        self.avg_pool = nn.AvgPool2d(kernel_size=3)\n",
    "        self.fc1 = nn.Linear(256, 256)\n",
    "        self.norm8 = nn.GroupNorm(groups, 256)\n",
    "        self.fc2 = nn.Linear(256, 10)\n",
    "\n",
    "    def forward(self, x):\n",
    "        x = F.elu(self.norm1(self.conv1(x)))\n",
    "        x = F.elu(self.norm2(self.conv2(x)))\n",
    "        x = self.pool1(x)\n",
    "\n",
    "        # Residual block 1\n",
    "        identity = x\n",
    "        x = F.elu(self.norm3(self.conv3(x)))\n",
    "        x = F.elu(self.norm4(self.conv4(x)))\n",
    "        x += identity\n",
    "        x = F.elu(x)\n",
    "\n",
    "        # Residual block 2\n",
    "        identity = self.match_conv2(x)  \n",
    "        x = F.elu(self.norm5(self.conv5(x)))\n",
    "        x = self.pool1(x)  # Use pool1 instead of pool2\n",
    "        x += identity\n",
    "        x = F.elu(x)\n",
    "\n",
    "        # Residual block 3\n",
    "        identity = self.match_conv3(x)  \n",
    "        x = F.elu(self.norm6(self.conv6(x)))\n",
    "        x = self.pool1(x)  # Use pool1 instead of pool3\n",
    "        x = F.elu(self.norm7(self.conv7(x)))\n",
    "        x += identity\n",
    "        x = F.elu(x)\n",
    "\n",
    "        # Final layers\n",
    "        x = self.avg_pool(x)\n",
    "        x = torch.flatten(x, 1)\n",
    "        x = F.elu(self.norm8(self.fc1(x)))\n",
    "        x = self.fc2(x)\n",
    "\n",
    "        return x\n"
   ]
  },
  {
   "cell_type": "code",
   "execution_count": 4,
   "metadata": {
    "id": "6kKwYvvhhhNQ",
    "tags": []
   },
   "outputs": [],
   "source": [
    "# Data augmentation and normalization\n",
    "transform_train = transforms.Compose([\n",
    "    transforms.ToTensor(),\n",
    "    transforms.Normalize((0.5, 0.5, 0.5), (0.5, 0.5, 0.5))\n",
    "])\n",
    "\n",
    "\n",
    "transform_test = transforms.Compose([\n",
    "    transforms.ToTensor(),\n",
    "    transforms.Normalize((0.5, 0.5, 0.5), (0.5, 0.5, 0.5))\n",
    "])"
   ]
  },
  {
   "cell_type": "code",
   "execution_count": 5,
   "metadata": {
    "colab": {
     "base_uri": "https://localhost:8080/"
    },
    "id": "lneeXtXehoLZ",
    "outputId": "4526402a-644d-4493-923e-830495c2adbb",
    "tags": []
   },
   "outputs": [
    {
     "name": "stdout",
     "output_type": "stream",
     "text": [
      "Files already downloaded and verified\n",
      "Files already downloaded and verified\n"
     ]
    }
   ],
   "source": [
    "# Load CIFAR-10 dataset\n",
    "train_dataset = datasets.CIFAR10(root='./data', train=True, download=True, transform=transform_train)\n",
    "test_dataset = datasets.CIFAR10(root='./data', train=False, download=True, transform=transform_test)\n",
    "\n",
    "# Splitting train dataset into train and validation sets\n",
    "train_size = int(0.9 * len(train_dataset))\n",
    "val_size = len(train_dataset) - train_size\n",
    "train_dataset, val_dataset = random_split(train_dataset, [train_size, val_size])\n",
    "\n",
    "\n",
    "# Further split train_dataset into train_loader_dataset and 20% balanced subset\n",
    "train_loader_dataset, _ = train_test_split(train_dataset.dataset, train_size=int(0.2 * len(train_dataset)),\n",
    "                                           test_size=None, shuffle=True, stratify=train_dataset.dataset.targets)\n",
    "\n",
    "# Data loaders\n",
    "train_loader = DataLoader(train_loader_dataset, batch_size=256, shuffle=True)\n",
    "val_loader = DataLoader(val_dataset, batch_size=256, shuffle=False)\n",
    "test_loader = DataLoader(test_dataset, batch_size=256, shuffle=False)"
   ]
  },
  {
   "cell_type": "code",
   "execution_count": 6,
   "metadata": {
    "colab": {
     "base_uri": "https://localhost:8080/"
    },
    "id": "WFG4opk2eWf5",
    "outputId": "d817a8a2-c740-40e3-d735-83623355e512",
    "tags": []
   },
   "outputs": [
    {
     "data": {
      "text/plain": [
       "CustomResNet_GN(\n",
       "  (conv1): Conv2d(3, 32, kernel_size=(3, 3), stride=(1, 1), padding=(1, 1))\n",
       "  (norm1): GroupNorm(32, 32, eps=1e-05, affine=True)\n",
       "  (conv2): Conv2d(32, 64, kernel_size=(3, 3), stride=(1, 1), padding=(1, 1))\n",
       "  (norm2): GroupNorm(32, 64, eps=1e-05, affine=True)\n",
       "  (pool1): MaxPool2d(kernel_size=2, stride=2, padding=0, dilation=1, ceil_mode=False)\n",
       "  (conv3): Conv2d(64, 64, kernel_size=(3, 3), stride=(1, 1), padding=(1, 1))\n",
       "  (norm3): GroupNorm(32, 64, eps=1e-05, affine=True)\n",
       "  (conv4): Conv2d(64, 64, kernel_size=(3, 3), stride=(1, 1), padding=(1, 1))\n",
       "  (norm4): GroupNorm(32, 64, eps=1e-05, affine=True)\n",
       "  (match_conv1): Conv2d(64, 64, kernel_size=(1, 1), stride=(1, 1))\n",
       "  (conv5): Conv2d(64, 128, kernel_size=(3, 3), stride=(1, 1), padding=(1, 1))\n",
       "  (norm5): GroupNorm(32, 128, eps=1e-05, affine=True)\n",
       "  (match_conv2): Conv2d(64, 128, kernel_size=(1, 1), stride=(2, 2))\n",
       "  (conv6): Conv2d(128, 256, kernel_size=(3, 3), stride=(1, 1), padding=(1, 1))\n",
       "  (norm6): GroupNorm(32, 256, eps=1e-05, affine=True)\n",
       "  (conv7): Conv2d(256, 256, kernel_size=(3, 3), stride=(1, 1), padding=(1, 1))\n",
       "  (norm7): GroupNorm(32, 256, eps=1e-05, affine=True)\n",
       "  (match_conv3): Conv2d(128, 256, kernel_size=(1, 1), stride=(2, 2))\n",
       "  (avg_pool): AvgPool2d(kernel_size=3, stride=3, padding=0)\n",
       "  (fc1): Linear(in_features=256, out_features=256, bias=True)\n",
       "  (norm8): GroupNorm(32, 256, eps=1e-05, affine=True)\n",
       "  (fc2): Linear(in_features=256, out_features=10, bias=True)\n",
       ")"
      ]
     },
     "execution_count": 6,
     "metadata": {},
     "output_type": "execute_result"
    }
   ],
   "source": [
    "# Instantiate and load the model\n",
    "model = CustomResNet_GN()  # Make sure CustomResNet is defined as earlier\n",
    "model.load_state_dict(torch.load('best_custom_resnet_weights_GN.pth'))\n",
    "model.to('cuda:1' if torch.cuda.is_available() else 'cpu')\n",
    "model.eval()"
   ]
  },
  {
   "cell_type": "code",
   "execution_count": 7,
   "metadata": {
    "id": "PA5qBhO5gJYQ",
    "tags": []
   },
   "outputs": [],
   "source": [
    "# Prepare storage for outputs and labels\n",
    "features_per_layer = {}\n",
    "labels_list = []\n",
    "\n",
    "# Define layers to exclude\n",
    "exclude_layers = {'match_conv1', 'match_conv2', 'match_conv3', 'fc1', 'fc2'}\n",
    "\n",
    "# Function to attach hooks\n",
    "def get_layer_outputs(layer_name):\n",
    "    def hook(module, input, output):\n",
    "        features_per_layer[layer_name].append(output.detach())\n",
    "    return hook\n",
    "\n",
    "# Attach hooks to each layer except the excluded ones\n",
    "for name, layer in model.named_children():\n",
    "    if name not in exclude_layers:\n",
    "        features_per_layer[name] = []\n",
    "        layer.register_forward_hook(get_layer_outputs(name))"
   ]
  },
  {
   "cell_type": "markdown",
   "metadata": {
    "tags": []
   },
   "source": [
    "## SI and CenterSI layer for Train Loader"
   ]
  },
  {
   "cell_type": "code",
   "execution_count": 8,
   "metadata": {},
   "outputs": [
    {
     "name": "stderr",
     "output_type": "stream",
     "text": [
      "100%|██████████| 36/36 [00:00<00:00, 64.48it/s]\n"
     ]
    },
    {
     "name": "stdout",
     "output_type": "stream",
     "text": [
      "conv1\n",
      "36\n",
      "norm1\n",
      "36\n",
      "conv2\n",
      "36\n",
      "norm2\n",
      "36\n",
      "pool1\n",
      "108\n"
     ]
    },
    {
     "ename": "RuntimeError",
     "evalue": "Sizes of tensors must match except in dimension 1. Expected size 256 but got size 40 for tensor number 105 in the list.",
     "output_type": "error",
     "traceback": [
      "\u001b[0;31m---------------------------------------------------------------------------\u001b[0m",
      "\u001b[0;31mRuntimeError\u001b[0m                              Traceback (most recent call last)",
      "Cell \u001b[0;32mIn[8], line 24\u001b[0m\n\u001b[1;32m     21\u001b[0m \u001b[38;5;28;01mif\u001b[39;00m \u001b[38;5;124m'\u001b[39m\u001b[38;5;124mpool\u001b[39m\u001b[38;5;124m'\u001b[39m \u001b[38;5;129;01min\u001b[39;00m layer_name:\n\u001b[1;32m     22\u001b[0m     \u001b[38;5;66;03m# Calculate the expected size based on the pooling operation\u001b[39;00m\n\u001b[1;32m     23\u001b[0m     pool_size \u001b[38;5;241m=\u001b[39m layer_features[\u001b[38;5;241m0\u001b[39m]\u001b[38;5;241m.\u001b[39msize(\u001b[38;5;241m2\u001b[39m) \u001b[38;5;241m/\u001b[39m\u001b[38;5;241m/\u001b[39m layer_features[\u001b[38;5;241m1\u001b[39m]\u001b[38;5;241m.\u001b[39msize(\u001b[38;5;241m2\u001b[39m)\n\u001b[0;32m---> 24\u001b[0m     features_per_layer[layer_name] \u001b[38;5;241m=\u001b[39m torch\u001b[38;5;241m.\u001b[39mcat([f\u001b[38;5;241m.\u001b[39mview(f\u001b[38;5;241m.\u001b[39msize(\u001b[38;5;241m0\u001b[39m), \u001b[38;5;241m-\u001b[39m\u001b[38;5;241m1\u001b[39m)[:,:\u001b[38;5;241m256\u001b[39m] \u001b[38;5;28;01mfor\u001b[39;00m f \u001b[38;5;129;01min\u001b[39;00m layer_features], dim\u001b[38;5;241m=\u001b[39m\u001b[38;5;241m1\u001b[39m)\n\u001b[1;32m     25\u001b[0m \u001b[38;5;28;01melse\u001b[39;00m:\n\u001b[1;32m     26\u001b[0m     features_per_layer[layer_name] \u001b[38;5;241m=\u001b[39m torch\u001b[38;5;241m.\u001b[39mcat([f\u001b[38;5;241m.\u001b[39mview(f\u001b[38;5;241m.\u001b[39msize(\u001b[38;5;241m0\u001b[39m), \u001b[38;5;241m-\u001b[39m\u001b[38;5;241m1\u001b[39m) \u001b[38;5;28;01mfor\u001b[39;00m f \u001b[38;5;129;01min\u001b[39;00m layer_features])\n",
      "\u001b[0;31mRuntimeError\u001b[0m: Sizes of tensors must match except in dimension 1. Expected size 256 but got size 40 for tensor number 105 in the list."
     ]
    }
   ],
   "source": [
    "# Pass data through the model and collect layer outputs\n",
    "with torch.no_grad():\n",
    "    for inputs, targets in tqdm(train_loader): \n",
    "        inputs = inputs.to('cuda:1' if torch.cuda.is_available() else 'cpu')\n",
    "\n",
    "        # Trigger the hooks and collect layer outputs\n",
    "        model(inputs)\n",
    "        labels_list.append(targets.cpu())\n",
    "\n",
    "        # Clear CUDA cache after processing each batch\n",
    "        if torch.cuda.is_available():\n",
    "            torch.cuda.empty_cache()\n",
    "\n",
    "# Post-process the data: Flatten and concatenate\n",
    "for layer_name, layer_features in features_per_layer.items():\n",
    "    if layer_features:  # Check if layer_features is not empty\n",
    "        print(layer_name)\n",
    "        print(len(features_per_layer[layer_name]))\n",
    "\n",
    "        # Flatten and concatenate, handling pooling layers\n",
    "        if 'pool' in layer_name:\n",
    "            # Calculate the expected size based on the pooling operation\n",
    "            pool_size = layer_features[0].size(2) // layer_features[1].size(2)\n",
    "            features_per_layer[layer_name] = torch.cat([f.view(f.size(0), -1)[:,:256] for f in layer_features], dim=1)\n",
    "        else:\n",
    "            features_per_layer[layer_name] = torch.cat([f.view(f.size(0), -1) for f in layer_features])\n",
    "\n",
    "    else:\n",
    "        print(f\"No features captured for layer {layer_name}\")\n",
    "\n",
    "# Concatenate the labels\n",
    "labels = torch.cat(labels_list)"
   ]
  },
  {
   "cell_type": "markdown",
   "metadata": {},
   "source": [
    "### Calc SI"
   ]
  },
  {
   "cell_type": "code",
   "execution_count": 19,
   "metadata": {},
   "outputs": [
    {
     "name": "stdout",
     "output_type": "stream",
     "text": [
      "Data has been normalized\n"
     ]
    },
    {
     "name": "stderr",
     "output_type": "stream",
     "text": [
      "Calculating SI: 100%|██████████| 5/5 [00:00<00:00, 369.36it/s]\n"
     ]
    },
    {
     "name": "stdout",
     "output_type": "stream",
     "text": [
      "Data has been normalized\n"
     ]
    },
    {
     "name": "stderr",
     "output_type": "stream",
     "text": [
      "Calculating SI: 100%|██████████| 5/5 [00:00<00:00, 7264.12it/s]\n"
     ]
    },
    {
     "name": "stdout",
     "output_type": "stream",
     "text": [
      "Data has been normalized\n"
     ]
    },
    {
     "name": "stderr",
     "output_type": "stream",
     "text": [
      "Calculating SI: 100%|██████████| 5/5 [00:00<00:00, 6964.97it/s]\n"
     ]
    },
    {
     "name": "stdout",
     "output_type": "stream",
     "text": [
      "Data has been normalized\n"
     ]
    },
    {
     "name": "stderr",
     "output_type": "stream",
     "text": [
      "Calculating SI: 100%|██████████| 5/5 [00:00<00:00, 6452.78it/s]\n"
     ]
    },
    {
     "name": "stdout",
     "output_type": "stream",
     "text": [
      "Data has been normalized\n"
     ]
    },
    {
     "name": "stderr",
     "output_type": "stream",
     "text": [
      "Calculating SI: 100%|██████████| 5/5 [00:00<00:00, 7413.05it/s]\n"
     ]
    },
    {
     "name": "stdout",
     "output_type": "stream",
     "text": [
      "Data has been normalized\n"
     ]
    },
    {
     "name": "stderr",
     "output_type": "stream",
     "text": [
      "Calculating SI: 100%|██████████| 5/5 [00:00<00:00, 7325.02it/s]\n"
     ]
    },
    {
     "name": "stdout",
     "output_type": "stream",
     "text": [
      "Data has been normalized\n"
     ]
    },
    {
     "name": "stderr",
     "output_type": "stream",
     "text": [
      "Calculating SI: 100%|██████████| 5/5 [00:00<00:00, 6914.45it/s]\n"
     ]
    },
    {
     "name": "stdout",
     "output_type": "stream",
     "text": [
      "Data has been normalized\n"
     ]
    },
    {
     "name": "stderr",
     "output_type": "stream",
     "text": [
      "Calculating SI: 100%|██████████| 5/5 [00:00<00:00, 7639.90it/s]\n"
     ]
    },
    {
     "name": "stdout",
     "output_type": "stream",
     "text": [
      "Data has been normalized\n"
     ]
    },
    {
     "name": "stderr",
     "output_type": "stream",
     "text": [
      "Calculating SI: 100%|██████████| 5/5 [00:00<00:00, 7348.11it/s]\n"
     ]
    },
    {
     "name": "stdout",
     "output_type": "stream",
     "text": [
      "Data has been normalized\n"
     ]
    },
    {
     "name": "stderr",
     "output_type": "stream",
     "text": [
      "Calculating SI: 100%|██████████| 5/5 [00:00<00:00, 6944.21it/s]\n"
     ]
    },
    {
     "name": "stdout",
     "output_type": "stream",
     "text": [
      "Data has been normalized\n"
     ]
    },
    {
     "name": "stderr",
     "output_type": "stream",
     "text": [
      "Calculating SI: 100%|██████████| 5/5 [00:00<00:00, 7570.95it/s]\n"
     ]
    },
    {
     "name": "stdout",
     "output_type": "stream",
     "text": [
      "Data has been normalized\n"
     ]
    },
    {
     "name": "stderr",
     "output_type": "stream",
     "text": [
      "Calculating SI: 100%|██████████| 5/5 [00:00<00:00, 7169.75it/s]\n"
     ]
    },
    {
     "name": "stdout",
     "output_type": "stream",
     "text": [
      "Data has been normalized\n"
     ]
    },
    {
     "name": "stderr",
     "output_type": "stream",
     "text": [
      "Calculating SI: 100%|██████████| 5/5 [00:00<00:00, 7322.46it/s]\n"
     ]
    },
    {
     "name": "stdout",
     "output_type": "stream",
     "text": [
      "Data has been normalized\n"
     ]
    },
    {
     "name": "stderr",
     "output_type": "stream",
     "text": [
      "Calculating SI: 100%|██████████| 5/5 [00:00<00:00, 7169.75it/s]\n"
     ]
    },
    {
     "name": "stdout",
     "output_type": "stream",
     "text": [
      "Data has been normalized\n"
     ]
    },
    {
     "name": "stderr",
     "output_type": "stream",
     "text": [
      "Calculating SI: 100%|██████████| 5/5 [00:00<00:00, 6680.96it/s]\n"
     ]
    },
    {
     "name": "stdout",
     "output_type": "stream",
     "text": [
      "Data has been normalized\n"
     ]
    },
    {
     "name": "stderr",
     "output_type": "stream",
     "text": [
      "Calculating SI: 100%|██████████| 5/5 [00:00<00:00, 7264.12it/s]"
     ]
    },
    {
     "name": "stdout",
     "output_type": "stream",
     "text": [
      "Data has been normalized\n"
     ]
    },
    {
     "name": "stderr",
     "output_type": "stream",
     "text": [
      "\n",
      "Calculating SI: 100%|██████████| 5/5 [00:00<00:00, 7698.80it/s]\n"
     ]
    },
    {
     "name": "stdout",
     "output_type": "stream",
     "text": [
      "Data has been normalized\n"
     ]
    },
    {
     "name": "stderr",
     "output_type": "stream",
     "text": [
      "Calculating SI: 100%|██████████| 5/5 [00:00<00:00, 7244.05it/s]\n"
     ]
    },
    {
     "name": "stdout",
     "output_type": "stream",
     "text": [
      "Data has been normalized\n"
     ]
    },
    {
     "name": "stderr",
     "output_type": "stream",
     "text": [
      "Calculating SI: 100%|██████████| 5/5 [00:00<00:00, 7056.37it/s]\n"
     ]
    }
   ],
   "source": [
    "si_layer_train = []\n",
    "\n",
    "# Iterate through each layer's features in the dictionary\n",
    "for layer_name, features in features_per_layer.items():\n",
    "    instance_disturbance = ARH_SeparationIndex(features, labels, normalize=True)\n",
    "    si = instance_disturbance.si_batch(batch_size=2000)\n",
    "    si_layer_train.append((layer_name, si))"
   ]
  },
  {
   "cell_type": "code",
   "execution_count": 20,
   "metadata": {},
   "outputs": [
    {
     "data": {
      "text/plain": [
       "[('conv1', 0.2504444420337677),\n",
       " ('bn1', 0.2504444420337677),\n",
       " ('conv2', 0.24211111664772034),\n",
       " ('bn2', 0.24211111664772034),\n",
       " ('pool1', 0.31700000166893005),\n",
       " ('conv3', 0.4112222194671631),\n",
       " ('bn3', 0.4112222194671631),\n",
       " ('conv4', 0.4717777967453003),\n",
       " ('bn4', 0.4717777967453003),\n",
       " ('conv5', 0.39988890290260315),\n",
       " ('bn5', 0.39988890290260315),\n",
       " ('pool2', 0.41233333945274353),\n",
       " ('conv6', 0.5109999775886536),\n",
       " ('bn6', 0.5109999775886536),\n",
       " ('pool3', 0.5292222499847412),\n",
       " ('conv7', 0.6710000038146973),\n",
       " ('bn7', 0.6710000038146973),\n",
       " ('avg_pool', 0.8182222247123718),\n",
       " ('bn8', 0.9514444470405579)]"
      ]
     },
     "execution_count": 20,
     "metadata": {},
     "output_type": "execute_result"
    }
   ],
   "source": [
    "si_layer_train"
   ]
  },
  {
   "cell_type": "code",
   "execution_count": 21,
   "metadata": {},
   "outputs": [
    {
     "data": {
      "image/png": "[encoded data removed]",
      "text/plain": [
       "<Figure size 640x480 with 1 Axes>"
      ]
     },
     "metadata": {},
     "output_type": "display_data"
    }
   ],
   "source": [
    "# Plotting SI versus layer using a line plot\n",
    "plt.plot([layer for layer, _ in si_layer_train], [si for _, si in si_layer_train])\n",
    "plt.xlabel('Layer')\n",
    "plt.ylabel('SI')\n",
    "plt.title('Separation Index (SI) vs Layer')\n",
    "plt.xticks(rotation=45)\n",
    "plt.grid(True)\n",
    "plt.show()"
   ]
  },
  {
   "cell_type": "markdown",
   "metadata": {},
   "source": [
    "### Calc Center Si"
   ]
  },
  {
   "cell_type": "code",
   "execution_count": 22,
   "metadata": {},
   "outputs": [
    {
     "name": "stdout",
     "output_type": "stream",
     "text": [
      "Data has been normalized\n"
     ]
    },
    {
     "name": "stderr",
     "output_type": "stream",
     "text": [
      "Calculating CSI: 100%|██████████| 5/5 [00:00<00:00, 917.71it/s]\n"
     ]
    },
    {
     "name": "stdout",
     "output_type": "stream",
     "text": [
      "Data has been normalized\n"
     ]
    },
    {
     "name": "stderr",
     "output_type": "stream",
     "text": [
      "Calculating CSI: 100%|██████████| 5/5 [00:00<00:00, 4327.59it/s]\n"
     ]
    },
    {
     "name": "stdout",
     "output_type": "stream",
     "text": [
      "Data has been normalized\n"
     ]
    },
    {
     "name": "stderr",
     "output_type": "stream",
     "text": [
      "Calculating CSI: 100%|██████████| 5/5 [00:00<00:00, 3948.70it/s]\n"
     ]
    },
    {
     "name": "stdout",
     "output_type": "stream",
     "text": [
      "Data has been normalized\n"
     ]
    },
    {
     "name": "stderr",
     "output_type": "stream",
     "text": [
      "Calculating CSI: 100%|██████████| 5/5 [00:00<00:00, 4669.68it/s]\n"
     ]
    },
    {
     "name": "stdout",
     "output_type": "stream",
     "text": [
      "Data has been normalized\n"
     ]
    },
    {
     "name": "stderr",
     "output_type": "stream",
     "text": [
      "Calculating CSI: 100%|██████████| 5/5 [00:00<00:00, 3087.23it/s]\n"
     ]
    },
    {
     "name": "stdout",
     "output_type": "stream",
     "text": [
      "Data has been normalized\n"
     ]
    },
    {
     "name": "stderr",
     "output_type": "stream",
     "text": [
      "Calculating CSI: 100%|██████████| 5/5 [00:00<00:00, 3302.60it/s]\n"
     ]
    },
    {
     "name": "stdout",
     "output_type": "stream",
     "text": [
      "Data has been normalized\n"
     ]
    },
    {
     "name": "stderr",
     "output_type": "stream",
     "text": [
      "Calculating CSI: 100%|██████████| 5/5 [00:00<00:00, 3166.95it/s]\n"
     ]
    },
    {
     "name": "stdout",
     "output_type": "stream",
     "text": [
      "Data has been normalized\n"
     ]
    },
    {
     "name": "stderr",
     "output_type": "stream",
     "text": [
      "Calculating CSI: 100%|██████████| 5/5 [00:00<00:00, 2821.03it/s]\n"
     ]
    },
    {
     "name": "stdout",
     "output_type": "stream",
     "text": [
      "Data has been normalized\n"
     ]
    },
    {
     "name": "stderr",
     "output_type": "stream",
     "text": [
      "Calculating CSI: 100%|██████████| 5/5 [00:00<00:00, 3172.70it/s]\n"
     ]
    },
    {
     "name": "stdout",
     "output_type": "stream",
     "text": [
      "Data has been normalized\n"
     ]
    },
    {
     "name": "stderr",
     "output_type": "stream",
     "text": [
      "Calculating CSI: 100%|██████████| 5/5 [00:00<00:00, 4249.55it/s]\n"
     ]
    },
    {
     "name": "stdout",
     "output_type": "stream",
     "text": [
      "Data has been normalized\n"
     ]
    },
    {
     "name": "stderr",
     "output_type": "stream",
     "text": [
      "Calculating CSI: 100%|██████████| 5/5 [00:00<00:00, 4337.44it/s]\n"
     ]
    },
    {
     "name": "stdout",
     "output_type": "stream",
     "text": [
      "Data has been normalized\n"
     ]
    },
    {
     "name": "stderr",
     "output_type": "stream",
     "text": [
      "Calculating CSI: 100%|██████████| 5/5 [00:00<00:00, 4034.54it/s]\n"
     ]
    },
    {
     "name": "stdout",
     "output_type": "stream",
     "text": [
      "Data has been normalized\n"
     ]
    },
    {
     "name": "stderr",
     "output_type": "stream",
     "text": [
      "Calculating CSI: 100%|██████████| 5/5 [00:00<00:00, 3252.91it/s]\n"
     ]
    },
    {
     "name": "stdout",
     "output_type": "stream",
     "text": [
      "Data has been normalized\n"
     ]
    },
    {
     "name": "stderr",
     "output_type": "stream",
     "text": [
      "Calculating CSI: 100%|██████████| 5/5 [00:00<00:00, 3146.04it/s]\n"
     ]
    },
    {
     "name": "stdout",
     "output_type": "stream",
     "text": [
      "Data has been normalized\n"
     ]
    },
    {
     "name": "stderr",
     "output_type": "stream",
     "text": [
      "Calculating CSI: 100%|██████████| 5/5 [00:00<00:00, 3980.17it/s]\n"
     ]
    },
    {
     "name": "stdout",
     "output_type": "stream",
     "text": [
      "Data has been normalized\n"
     ]
    },
    {
     "name": "stderr",
     "output_type": "stream",
     "text": [
      "Calculating CSI: 100%|██████████| 5/5 [00:00<00:00, 4358.17it/s]"
     ]
    },
    {
     "name": "stdout",
     "output_type": "stream",
     "text": [
      "Data has been normalized\n"
     ]
    },
    {
     "name": "stderr",
     "output_type": "stream",
     "text": [
      "\n",
      "Calculating CSI: 100%|██████████| 5/5 [00:00<00:00, 4226.42it/s]\n"
     ]
    },
    {
     "name": "stdout",
     "output_type": "stream",
     "text": [
      "Data has been normalized\n"
     ]
    },
    {
     "name": "stderr",
     "output_type": "stream",
     "text": [
      "Calculating CSI: 100%|██████████| 5/5 [00:00<00:00, 2707.05it/s]\n"
     ]
    },
    {
     "name": "stdout",
     "output_type": "stream",
     "text": [
      "Data has been normalized\n"
     ]
    },
    {
     "name": "stderr",
     "output_type": "stream",
     "text": [
      "Calculating CSI: 100%|██████████| 5/5 [00:00<00:00, 3354.37it/s]\n"
     ]
    }
   ],
   "source": [
    "csi_layer_train = []\n",
    "\n",
    "# Iterate through each layer's features in the dictionary\n",
    "for layer_name, features in features_per_layer.items():\n",
    "    instance_disturbance = ARH_SeparationIndex(features, labels, normalize=True)\n",
    "    csi = instance_disturbance.center_si_batch(batch_size=2000)\n",
    "    csi_layer_train.append((layer_name, csi))"
   ]
  },
  {
   "cell_type": "code",
   "execution_count": 23,
   "metadata": {},
   "outputs": [
    {
     "name": "stdout",
     "output_type": "stream",
     "text": [
      "[('conv1', 0.35011112689971924), ('bn1', 0.35011112689971924), ('conv2', 0.37522223591804504), ('bn2', 0.37522223591804504), ('pool1', 0.4441111087799072), ('conv3', 0.5175555348396301), ('bn3', 0.5175555348396301), ('conv4', 0.5108888745307922), ('bn4', 0.5108888745307922), ('conv5', 0.5517777800559998), ('bn5', 0.5517777800559998), ('pool2', 0.6019999980926514), ('conv6', 0.6213333606719971), ('bn6', 0.6213333606719971), ('pool3', 0.6778888702392578), ('conv7', 0.7039999961853027), ('bn7', 0.7039999961853027), ('avg_pool', 0.8676666617393494), ('bn8', 0.9779999852180481)]\n"
     ]
    },
    {
     "data": {
      "image/png": "[encoded data removed]",
      "text/plain": [
       "<Figure size 640x480 with 1 Axes>"
      ]
     },
     "metadata": {},
     "output_type": "display_data"
    }
   ],
   "source": [
    "print(csi_layer_train)\n",
    "\n",
    "\n",
    "# Plotting SI versus layer using a line plot\n",
    "plt.plot([layer for layer, _ in csi_layer_train], [si for _, si in csi_layer_train])\n",
    "plt.xlabel('Layer')\n",
    "plt.ylabel('SI')\n",
    "plt.title('Center Separation Index (CSI) vs Layer - Train')\n",
    "plt.xticks(rotation=45)\n",
    "plt.grid(True)\n",
    "plt.show()"
   ]
  },
  {
   "cell_type": "markdown",
   "metadata": {
    "id": "HhIUjcIHghek",
    "tags": []
   },
   "source": [
    "## SI and CenterSI layer for Val Loader"
   ]
  },
  {
   "cell_type": "code",
   "execution_count": 8,
   "metadata": {
    "colab": {
     "base_uri": "https://localhost:8080/",
     "height": 462
    },
    "id": "1UOKD6TAgMzC",
    "outputId": "4cbf6701-ba3b-44d7-cd10-eb5253bf8f41",
    "tags": []
   },
   "outputs": [
    {
     "name": "stderr",
     "output_type": "stream",
     "text": [
      "100%|██████████| 20/20 [00:00<00:00, 22.72it/s]\n"
     ]
    }
   ],
   "source": [
    "# Pass data through the model and collect layer outputs\n",
    "with torch.no_grad():\n",
    "    for inputs, targets in tqdm(val_loader): \n",
    "        inputs = inputs.to('cuda:1' if torch.cuda.is_available() else 'cpu')\n",
    "\n",
    "        # Trigger the hooks and collect layer outputs\n",
    "        model(inputs)\n",
    "        labels_list.append(targets.cpu())\n",
    "\n",
    "        # Clear CUDA cache after processing each batch\n",
    "        if torch.cuda.is_available():\n",
    "            torch.cuda.empty_cache()\n",
    "\n",
    "# Post-process the data: Flatten and concatenate\n",
    "for layer_name, layer_features in features_per_layer.items():\n",
    "    if layer_features:  # Check if layer_features is not empty\n",
    "        # Flatten and concatenate the features for each layer\n",
    "        features_per_layer[layer_name] = torch.cat([f.view(f.size(0), -1) for f in layer_features])\n",
    "    else:\n",
    "        print(f\"No features captured for layer {layer_name}\")\n",
    "\n",
    "# Concatenate the labels\n",
    "labels = torch.cat(labels_list)"
   ]
  },
  {
   "cell_type": "markdown",
   "metadata": {},
   "source": [
    "### Calc SI"
   ]
  },
  {
   "cell_type": "code",
   "execution_count": 9,
   "metadata": {
    "id": "IvZxHioygQI6",
    "tags": []
   },
   "outputs": [
    {
     "name": "stdout",
     "output_type": "stream",
     "text": [
      "Data has been normalized\n"
     ]
    },
    {
     "name": "stderr",
     "output_type": "stream",
     "text": [
      "Calculating SI: 100%|██████████| 3/3 [00:00<00:00, 230.43it/s]\n"
     ]
    },
    {
     "name": "stdout",
     "output_type": "stream",
     "text": [
      "Data has been normalized\n"
     ]
    },
    {
     "name": "stderr",
     "output_type": "stream",
     "text": [
      "Calculating SI: 100%|██████████| 3/3 [00:00<00:00, 4691.62it/s]\n"
     ]
    },
    {
     "name": "stdout",
     "output_type": "stream",
     "text": [
      "Data has been normalized\n"
     ]
    },
    {
     "name": "stderr",
     "output_type": "stream",
     "text": [
      "Calculating SI: 100%|██████████| 3/3 [00:00<00:00, 1463.13it/s]\n"
     ]
    },
    {
     "name": "stdout",
     "output_type": "stream",
     "text": [
      "Data has been normalized\n"
     ]
    },
    {
     "name": "stderr",
     "output_type": "stream",
     "text": [
      "Calculating SI: 100%|██████████| 3/3 [00:00<00:00, 5156.93it/s]\n"
     ]
    },
    {
     "name": "stdout",
     "output_type": "stream",
     "text": [
      "Data has been normalized\n"
     ]
    },
    {
     "name": "stderr",
     "output_type": "stream",
     "text": [
      "Calculating SI: 100%|██████████| 3/3 [00:00<00:00, 4656.89it/s]"
     ]
    },
    {
     "name": "stdout",
     "output_type": "stream",
     "text": [
      "Data has been normalized\n"
     ]
    },
    {
     "name": "stderr",
     "output_type": "stream",
     "text": [
      "\n",
      "Calculating SI: 100%|██████████| 3/3 [00:00<00:00, 5104.63it/s]\n"
     ]
    },
    {
     "name": "stdout",
     "output_type": "stream",
     "text": [
      "Data has been normalized\n"
     ]
    },
    {
     "name": "stderr",
     "output_type": "stream",
     "text": [
      "Calculating SI: 100%|██████████| 3/3 [00:00<00:00, 4955.85it/s]\n"
     ]
    },
    {
     "name": "stdout",
     "output_type": "stream",
     "text": [
      "Data has been normalized\n"
     ]
    },
    {
     "name": "stderr",
     "output_type": "stream",
     "text": [
      "Calculating SI: 100%|██████████| 3/3 [00:00<00:00, 5017.11it/s]\n"
     ]
    },
    {
     "name": "stdout",
     "output_type": "stream",
     "text": [
      "Data has been normalized\n"
     ]
    },
    {
     "name": "stderr",
     "output_type": "stream",
     "text": [
      "Calculating SI: 100%|██████████| 3/3 [00:00<00:00, 4944.17it/s]\n"
     ]
    },
    {
     "name": "stdout",
     "output_type": "stream",
     "text": [
      "Data has been normalized\n"
     ]
    },
    {
     "name": "stderr",
     "output_type": "stream",
     "text": [
      "Calculating SI: 100%|██████████| 3/3 [00:00<00:00, 5197.40it/s]\n"
     ]
    },
    {
     "name": "stdout",
     "output_type": "stream",
     "text": [
      "Data has been normalized\n"
     ]
    },
    {
     "name": "stderr",
     "output_type": "stream",
     "text": [
      "Calculating SI: 100%|██████████| 3/3 [00:00<00:00, 4817.35it/s]"
     ]
    },
    {
     "name": "stdout",
     "output_type": "stream",
     "text": [
      "Data has been normalized\n"
     ]
    },
    {
     "name": "stderr",
     "output_type": "stream",
     "text": [
      "\n",
      "Calculating SI: 100%|██████████| 3/3 [00:00<00:00, 4932.54it/s]\n"
     ]
    },
    {
     "name": "stdout",
     "output_type": "stream",
     "text": [
      "Data has been normalized\n"
     ]
    },
    {
     "name": "stderr",
     "output_type": "stream",
     "text": [
      "Calculating SI: 100%|██████████| 3/3 [00:00<00:00, 4764.45it/s]\n"
     ]
    },
    {
     "name": "stdout",
     "output_type": "stream",
     "text": [
      "Data has been normalized\n"
     ]
    },
    {
     "name": "stderr",
     "output_type": "stream",
     "text": [
      "Calculating SI: 100%|██████████| 3/3 [00:00<00:00, 5286.94it/s]\n"
     ]
    },
    {
     "name": "stdout",
     "output_type": "stream",
     "text": [
      "Data has been normalized\n"
     ]
    },
    {
     "name": "stderr",
     "output_type": "stream",
     "text": [
      "Calculating SI: 100%|██████████| 3/3 [00:00<00:00, 4878.99it/s]\n"
     ]
    },
    {
     "name": "stdout",
     "output_type": "stream",
     "text": [
      "Data has been normalized\n"
     ]
    },
    {
     "name": "stderr",
     "output_type": "stream",
     "text": [
      "Calculating SI: 100%|██████████| 3/3 [00:00<00:00, 4665.52it/s]\n"
     ]
    },
    {
     "name": "stdout",
     "output_type": "stream",
     "text": [
      "Data has been normalized\n"
     ]
    },
    {
     "name": "stderr",
     "output_type": "stream",
     "text": [
      "Calculating SI: 100%|██████████| 3/3 [00:00<00:00, 5440.08it/s]\n"
     ]
    },
    {
     "name": "stdout",
     "output_type": "stream",
     "text": [
      "Data has been normalized\n"
     ]
    },
    {
     "name": "stderr",
     "output_type": "stream",
     "text": [
      "Calculating SI: 100%|██████████| 3/3 [00:00<00:00, 4848.91it/s]\n"
     ]
    },
    {
     "name": "stdout",
     "output_type": "stream",
     "text": [
      "Data has been normalized\n"
     ]
    },
    {
     "name": "stderr",
     "output_type": "stream",
     "text": [
      "Calculating SI: 100%|██████████| 3/3 [00:00<00:00, 5100.49it/s]\n"
     ]
    }
   ],
   "source": [
    "si_layer_val = []\n",
    "\n",
    "# Iterate through each layer's features in the dictionary\n",
    "for layer_name, features in features_per_layer.items():\n",
    "    instance_disturbance = ARH_SeparationIndex(features, labels, normalize=True)\n",
    "    si = instance_disturbance.si_batch(batch_size=2000)\n",
    "    si_layer_val.append((layer_name, si))"
   ]
  },
  {
   "cell_type": "code",
   "execution_count": 10,
   "metadata": {
    "tags": []
   },
   "outputs": [
    {
     "data": {
      "text/plain": [
       "[('conv1', 0.2149999886751175),\n",
       " ('bn1', 0.2149999886751175),\n",
       " ('conv2', 0.21679998934268951),\n",
       " ('bn2', 0.21679998934268951),\n",
       " ('pool1', 0.28439998626708984),\n",
       " ('conv3', 0.3885999917984009),\n",
       " ('bn3', 0.3885999917984009),\n",
       " ('conv4', 0.44179999828338623),\n",
       " ('bn4', 0.44179999828338623),\n",
       " ('conv5', 0.3755999803543091),\n",
       " ('bn5', 0.3755999803543091),\n",
       " ('pool2', 0.397599995136261),\n",
       " ('conv6', 0.47259998321533203),\n",
       " ('bn6', 0.47259998321533203),\n",
       " ('pool3', 0.4973999857902527),\n",
       " ('conv7', 0.6455999612808228),\n",
       " ('bn7', 0.6455999612808228),\n",
       " ('avg_pool', 0.8046000003814697),\n",
       " ('bn8', 0.9391999840736389)]"
      ]
     },
     "execution_count": 10,
     "metadata": {},
     "output_type": "execute_result"
    }
   ],
   "source": [
    "si_layer_val"
   ]
  },
  {
   "cell_type": "code",
   "execution_count": 11,
   "metadata": {
    "tags": []
   },
   "outputs": [
    {
     "data": {
      "image/png": "[encoded data removed]",
      "text/plain": [
       "<Figure size 640x480 with 1 Axes>"
      ]
     },
     "metadata": {},
     "output_type": "display_data"
    }
   ],
   "source": [
    "# Plotting SI versus layer using a line plot\n",
    "plt.plot([layer for layer, _ in si_layer_val], [si for _, si in si_layer_val])\n",
    "plt.xlabel('Layer')\n",
    "plt.ylabel('SI')\n",
    "plt.title('Separation Index (SI) vs Layer - val - BN ')\n",
    "plt.xticks(rotation=45)\n",
    "plt.grid(True)\n",
    "plt.show()"
   ]
  },
  {
   "cell_type": "markdown",
   "metadata": {},
   "source": [
    "### calc Center SI"
   ]
  },
  {
   "cell_type": "code",
   "execution_count": 12,
   "metadata": {
    "tags": []
   },
   "outputs": [
    {
     "name": "stdout",
     "output_type": "stream",
     "text": [
      "Data has been normalized\n"
     ]
    },
    {
     "name": "stderr",
     "output_type": "stream",
     "text": [
      "Calculating CSI: 100%|██████████| 3/3 [00:00<00:00, 455.79it/s]\n"
     ]
    },
    {
     "name": "stdout",
     "output_type": "stream",
     "text": [
      "Data has been normalized\n"
     ]
    },
    {
     "name": "stderr",
     "output_type": "stream",
     "text": [
      "Calculating CSI: 100%|██████████| 3/3 [00:00<00:00, 3111.50it/s]\n"
     ]
    },
    {
     "name": "stdout",
     "output_type": "stream",
     "text": [
      "Data has been normalized\n"
     ]
    },
    {
     "name": "stderr",
     "output_type": "stream",
     "text": [
      "Calculating CSI: 100%|██████████| 3/3 [00:00<00:00, 3069.00it/s]\n"
     ]
    },
    {
     "name": "stdout",
     "output_type": "stream",
     "text": [
      "Data has been normalized\n"
     ]
    },
    {
     "name": "stderr",
     "output_type": "stream",
     "text": [
      "Calculating CSI: 100%|██████████| 3/3 [00:00<00:00, 3331.46it/s]\n"
     ]
    },
    {
     "name": "stdout",
     "output_type": "stream",
     "text": [
      "Data has been normalized\n"
     ]
    },
    {
     "name": "stderr",
     "output_type": "stream",
     "text": [
      "Calculating CSI: 100%|██████████| 3/3 [00:00<00:00, 2829.53it/s]"
     ]
    },
    {
     "name": "stdout",
     "output_type": "stream",
     "text": [
      "Data has been normalized\n"
     ]
    },
    {
     "name": "stderr",
     "output_type": "stream",
     "text": [
      "\n",
      "Calculating CSI: 100%|██████████| 3/3 [00:00<00:00, 3275.95it/s]\n"
     ]
    },
    {
     "name": "stdout",
     "output_type": "stream",
     "text": [
      "Data has been normalized\n"
     ]
    },
    {
     "name": "stderr",
     "output_type": "stream",
     "text": [
      "Calculating CSI: 100%|██████████| 3/3 [00:00<00:00, 3549.48it/s]\n"
     ]
    },
    {
     "name": "stdout",
     "output_type": "stream",
     "text": [
      "Data has been normalized\n"
     ]
    },
    {
     "name": "stderr",
     "output_type": "stream",
     "text": [
      "Calculating CSI: 100%|██████████| 3/3 [00:00<00:00, 2866.92it/s]\n"
     ]
    },
    {
     "name": "stdout",
     "output_type": "stream",
     "text": [
      "Data has been normalized\n"
     ]
    },
    {
     "name": "stderr",
     "output_type": "stream",
     "text": [
      "Calculating CSI: 100%|██████████| 3/3 [00:00<00:00, 3368.02it/s]\n"
     ]
    },
    {
     "name": "stdout",
     "output_type": "stream",
     "text": [
      "Data has been normalized\n"
     ]
    },
    {
     "name": "stderr",
     "output_type": "stream",
     "text": [
      "Calculating CSI: 100%|██████████| 3/3 [00:00<00:00, 3063.03it/s]\n"
     ]
    },
    {
     "name": "stdout",
     "output_type": "stream",
     "text": [
      "Data has been normalized\n"
     ]
    },
    {
     "name": "stderr",
     "output_type": "stream",
     "text": [
      "Calculating CSI: 100%|██████████| 3/3 [00:00<00:00, 3174.30it/s]"
     ]
    },
    {
     "name": "stdout",
     "output_type": "stream",
     "text": [
      "Data has been normalized\n"
     ]
    },
    {
     "name": "stderr",
     "output_type": "stream",
     "text": [
      "\n",
      "Calculating CSI: 100%|██████████| 3/3 [00:00<00:00, 2922.86it/s]\n"
     ]
    },
    {
     "name": "stdout",
     "output_type": "stream",
     "text": [
      "Data has been normalized\n"
     ]
    },
    {
     "name": "stderr",
     "output_type": "stream",
     "text": [
      "Calculating CSI: 100%|██████████| 3/3 [00:00<00:00, 3268.29it/s]\n"
     ]
    },
    {
     "name": "stdout",
     "output_type": "stream",
     "text": [
      "Data has been normalized\n"
     ]
    },
    {
     "name": "stderr",
     "output_type": "stream",
     "text": [
      "Calculating CSI: 100%|██████████| 3/3 [00:00<00:00, 3282.78it/s]\n"
     ]
    },
    {
     "name": "stdout",
     "output_type": "stream",
     "text": [
      "Data has been normalized\n"
     ]
    },
    {
     "name": "stderr",
     "output_type": "stream",
     "text": [
      "Calculating CSI: 100%|██████████| 3/3 [00:00<00:00, 3038.62it/s]\n"
     ]
    },
    {
     "name": "stdout",
     "output_type": "stream",
     "text": [
      "Data has been normalized\n"
     ]
    },
    {
     "name": "stderr",
     "output_type": "stream",
     "text": [
      "Calculating CSI: 100%|██████████| 3/3 [00:00<00:00, 3119.21it/s]"
     ]
    },
    {
     "name": "stdout",
     "output_type": "stream",
     "text": [
      "Data has been normalized\n"
     ]
    },
    {
     "name": "stderr",
     "output_type": "stream",
     "text": [
      "\n",
      "Calculating CSI: 100%|██████████| 3/3 [00:00<00:00, 3191.20it/s]\n"
     ]
    },
    {
     "name": "stdout",
     "output_type": "stream",
     "text": [
      "Data has been normalized\n"
     ]
    },
    {
     "name": "stderr",
     "output_type": "stream",
     "text": [
      "Calculating CSI: 100%|██████████| 3/3 [00:00<00:00, 1731.75it/s]\n"
     ]
    },
    {
     "name": "stdout",
     "output_type": "stream",
     "text": [
      "Data has been normalized\n"
     ]
    },
    {
     "name": "stderr",
     "output_type": "stream",
     "text": [
      "Calculating CSI: 100%|██████████| 3/3 [00:00<00:00, 2360.77it/s]\n"
     ]
    }
   ],
   "source": [
    "csi_layer_val = []\n",
    "\n",
    "# Iterate through each layer's features in the dictionary\n",
    "for layer_name, features in features_per_layer.items():\n",
    "    instance_disturbance = ARH_SeparationIndex(features, labels, normalize=True)\n",
    "    csi = instance_disturbance.center_si_batch(batch_size=2000)\n",
    "    csi_layer_val.append((layer_name, csi))"
   ]
  },
  {
   "cell_type": "code",
   "execution_count": 13,
   "metadata": {
    "tags": []
   },
   "outputs": [
    {
     "name": "stdout",
     "output_type": "stream",
     "text": [
      "[('conv1', 0.3540000021457672), ('bn1', 0.3540000021457672), ('conv2', 0.38279998302459717), ('bn2', 0.38279998302459717), ('pool1', 0.4585999846458435), ('conv3', 0.5297999978065491), ('bn3', 0.5297999978065491), ('conv4', 0.517799973487854), ('bn4', 0.517799973487854), ('conv5', 0.5577999949455261), ('bn5', 0.5577999949455261), ('pool2', 0.604200005531311), ('conv6', 0.6189999580383301), ('bn6', 0.6189999580383301), ('pool3', 0.6797999739646912), ('conv7', 0.7019999623298645), ('bn7', 0.7019999623298645), ('avg_pool', 0.8711999654769897), ('bn8', 0.9745999574661255)]\n"
     ]
    },
    {
     "data": {
      "image/png": "[encoded data removed]",
      "text/plain": [
       "<Figure size 640x480 with 1 Axes>"
      ]
     },
     "metadata": {},
     "output_type": "display_data"
    }
   ],
   "source": [
    "print(csi_layer_val)\n",
    "\n",
    "\n",
    "# Plotting SI versus layer using a line plot\n",
    "plt.plot([layer for layer, _ in csi_layer_val], [si for _, si in csi_layer_val])\n",
    "plt.xlabel('Layer')\n",
    "plt.ylabel('SI')\n",
    "plt.title('Center Separation Index (CSI) vs Layer - val - BN')\n",
    "plt.xticks(rotation=45)\n",
    "plt.grid(True)\n",
    "plt.show()"
   ]
  },
  {
   "cell_type": "markdown",
   "metadata": {
    "tags": []
   },
   "source": [
    "## SI and CenterSI layer for Test Loader"
   ]
  },
  {
   "cell_type": "code",
   "execution_count": 8,
   "metadata": {
    "tags": []
   },
   "outputs": [
    {
     "name": "stderr",
     "output_type": "stream",
     "text": [
      "100%|██████████| 40/40 [00:01<00:00, 26.92it/s]\n"
     ]
    }
   ],
   "source": [
    "# Pass data through the model and collect layer outputs\n",
    "with torch.no_grad():\n",
    "    for inputs, targets in tqdm(test_loader):\n",
    "        inputs = inputs.to('cuda:1' if torch.cuda.is_available() else 'cpu')\n",
    "\n",
    "        # Trigger the hooks and collect layer outputs\n",
    "        model(inputs)\n",
    "        labels_list.append(targets.cpu())\n",
    "\n",
    "        # Clear CUDA cache after processing each batch\n",
    "        if torch.cuda.is_available():\n",
    "            torch.cuda.empty_cache()\n",
    "\n",
    "# Post-process the data: Flatten and concatenate\n",
    "for layer_name, layer_features in features_per_layer.items():\n",
    "    if layer_features:  # Check if layer_features is not empty\n",
    "        # Flatten and concatenate the features for each layer\n",
    "        features_per_layer[layer_name] = torch.cat([f.view(f.size(0), -1) for f in layer_features])\n",
    "    else:\n",
    "        print(f\"No features captured for layer {layer_name}\")\n",
    "\n",
    "# Concatenate the labels\n",
    "labels = torch.cat(labels_list)"
   ]
  },
  {
   "cell_type": "markdown",
   "metadata": {},
   "source": [
    "### Calc SI"
   ]
  },
  {
   "cell_type": "code",
   "execution_count": 9,
   "metadata": {
    "tags": []
   },
   "outputs": [
    {
     "name": "stdout",
     "output_type": "stream",
     "text": [
      "Data has been normalized\n"
     ]
    },
    {
     "name": "stderr",
     "output_type": "stream",
     "text": [
      "Calculating SI: 100%|██████████| 5/5 [00:00<00:00, 365.45it/s]\n"
     ]
    },
    {
     "name": "stdout",
     "output_type": "stream",
     "text": [
      "Data has been normalized\n"
     ]
    },
    {
     "name": "stderr",
     "output_type": "stream",
     "text": [
      "Calculating SI: 100%|██████████| 5/5 [00:00<00:00, 7030.35it/s]\n"
     ]
    },
    {
     "name": "stdout",
     "output_type": "stream",
     "text": [
      "Data has been normalized\n"
     ]
    },
    {
     "name": "stderr",
     "output_type": "stream",
     "text": [
      "Calculating SI: 100%|██████████| 5/5 [00:00<00:00, 7998.29it/s]\n"
     ]
    },
    {
     "name": "stdout",
     "output_type": "stream",
     "text": [
      "Data has been normalized\n"
     ]
    },
    {
     "name": "stderr",
     "output_type": "stream",
     "text": [
      "Calculating SI: 100%|██████████| 5/5 [00:00<00:00, 7463.17it/s]\n"
     ]
    },
    {
     "name": "stdout",
     "output_type": "stream",
     "text": [
      "Data has been normalized\n"
     ]
    },
    {
     "name": "stderr",
     "output_type": "stream",
     "text": [
      "Calculating SI: 100%|██████████| 5/5 [00:00<00:00, 7662.23it/s]\n"
     ]
    },
    {
     "name": "stdout",
     "output_type": "stream",
     "text": [
      "Data has been normalized\n"
     ]
    },
    {
     "name": "stderr",
     "output_type": "stream",
     "text": [
      "Calculating SI: 100%|██████████| 5/5 [00:00<00:00, 7249.06it/s]\n"
     ]
    },
    {
     "name": "stdout",
     "output_type": "stream",
     "text": [
      "Data has been normalized\n"
     ]
    },
    {
     "name": "stderr",
     "output_type": "stream",
     "text": [
      "Calculating SI: 100%|██████████| 5/5 [00:00<00:00, 7077.80it/s]\n"
     ]
    },
    {
     "name": "stdout",
     "output_type": "stream",
     "text": [
      "Data has been normalized\n"
     ]
    },
    {
     "name": "stderr",
     "output_type": "stream",
     "text": [
      "Calculating SI: 100%|██████████| 5/5 [00:00<00:00, 7738.57it/s]\n"
     ]
    },
    {
     "name": "stdout",
     "output_type": "stream",
     "text": [
      "Data has been normalized\n"
     ]
    },
    {
     "name": "stderr",
     "output_type": "stream",
     "text": [
      "Calculating SI: 100%|██████████| 5/5 [00:00<00:00, 7928.74it/s]\n"
     ]
    },
    {
     "name": "stdout",
     "output_type": "stream",
     "text": [
      "Data has been normalized\n"
     ]
    },
    {
     "name": "stderr",
     "output_type": "stream",
     "text": [
      "Calculating SI: 100%|██████████| 5/5 [00:00<00:00, 7851.56it/s]\n"
     ]
    },
    {
     "name": "stdout",
     "output_type": "stream",
     "text": [
      "Data has been normalized\n"
     ]
    },
    {
     "name": "stderr",
     "output_type": "stream",
     "text": [
      "Calculating SI: 100%|██████████| 5/5 [00:00<00:00, 7013.89it/s]\n"
     ]
    },
    {
     "name": "stdout",
     "output_type": "stream",
     "text": [
      "Data has been normalized\n"
     ]
    },
    {
     "name": "stderr",
     "output_type": "stream",
     "text": [
      "Calculating SI: 100%|██████████| 5/5 [00:00<00:00, 6882.68it/s]\n"
     ]
    },
    {
     "name": "stdout",
     "output_type": "stream",
     "text": [
      "Data has been normalized\n"
     ]
    },
    {
     "name": "stderr",
     "output_type": "stream",
     "text": [
      "Calculating SI: 100%|██████████| 5/5 [00:00<00:00, 7715.79it/s]\n"
     ]
    },
    {
     "name": "stdout",
     "output_type": "stream",
     "text": [
      "Data has been normalized\n"
     ]
    },
    {
     "name": "stderr",
     "output_type": "stream",
     "text": [
      "Calculating SI: 100%|██████████| 5/5 [00:00<00:00, 7775.87it/s]\n"
     ]
    },
    {
     "name": "stdout",
     "output_type": "stream",
     "text": [
      "Data has been normalized\n"
     ]
    },
    {
     "name": "stderr",
     "output_type": "stream",
     "text": [
      "Calculating SI: 100%|██████████| 5/5 [00:00<00:00, 2774.01it/s]\n"
     ]
    },
    {
     "name": "stdout",
     "output_type": "stream",
     "text": [
      "Data has been normalized\n"
     ]
    },
    {
     "name": "stderr",
     "output_type": "stream",
     "text": [
      "Calculating SI: 100%|██████████| 5/5 [00:00<00:00, 7581.89it/s]\n"
     ]
    },
    {
     "name": "stdout",
     "output_type": "stream",
     "text": [
      "Data has been normalized\n"
     ]
    },
    {
     "name": "stderr",
     "output_type": "stream",
     "text": [
      "Calculating SI: 100%|██████████| 5/5 [00:00<00:00, 7967.90it/s]\n"
     ]
    },
    {
     "name": "stdout",
     "output_type": "stream",
     "text": [
      "Data has been normalized\n"
     ]
    },
    {
     "name": "stderr",
     "output_type": "stream",
     "text": [
      "Calculating SI: 100%|██████████| 5/5 [00:00<00:00, 6014.20it/s]\n"
     ]
    },
    {
     "name": "stdout",
     "output_type": "stream",
     "text": [
      "Data has been normalized\n"
     ]
    },
    {
     "name": "stderr",
     "output_type": "stream",
     "text": [
      "Calculating SI: 100%|██████████| 5/5 [00:00<00:00, 7441.99it/s]\n"
     ]
    }
   ],
   "source": [
    "si_layer_test = []\n",
    "\n",
    "# Iterate through each layer's features in the dictionary\n",
    "for layer_name, features in features_per_layer.items():\n",
    "    instance_disturbance = ARH_SeparationIndex(features, labels, normalize=True)\n",
    "    si = instance_disturbance.si_batch(batch_size=2000)\n",
    "    si_layer_test.append((layer_name, si))"
   ]
  },
  {
   "cell_type": "code",
   "execution_count": 10,
   "metadata": {
    "tags": []
   },
   "outputs": [
    {
     "data": {
      "text/plain": [
       "[('conv1', 0.23349998891353607),\n",
       " ('bn1', 0.23349998891353607),\n",
       " ('conv2', 0.22179999947547913),\n",
       " ('bn2', 0.22179999947547913),\n",
       " ('pool1', 0.29889997839927673),\n",
       " ('conv3', 0.41259998083114624),\n",
       " ('bn3', 0.41259998083114624),\n",
       " ('conv4', 0.4887999892234802),\n",
       " ('bn4', 0.4887999892234802),\n",
       " ('conv5', 0.3929999768733978),\n",
       " ('bn5', 0.3929999768733978),\n",
       " ('pool2', 0.4106999933719635),\n",
       " ('conv6', 0.5157999992370605),\n",
       " ('bn6', 0.5157999992370605),\n",
       " ('pool3', 0.5342000126838684),\n",
       " ('conv7', 0.6650999784469604),\n",
       " ('bn7', 0.6650999784469604),\n",
       " ('avg_pool', 0.7333999872207642),\n",
       " ('bn8', 0.7930999994277954)]"
      ]
     },
     "execution_count": 10,
     "metadata": {},
     "output_type": "execute_result"
    }
   ],
   "source": [
    "si_layer_test"
   ]
  },
  {
   "cell_type": "code",
   "execution_count": 11,
   "metadata": {
    "tags": []
   },
   "outputs": [
    {
     "data": {
      "image/png": "[encoded data removed]",
      "text/plain": [
       "<Figure size 640x480 with 1 Axes>"
      ]
     },
     "metadata": {},
     "output_type": "display_data"
    }
   ],
   "source": [
    "# Plotting SI versus layer using a line plot\n",
    "plt.plot([layer for layer, _ in si_layer_test], [si for _, si in si_layer_test])\n",
    "plt.xlabel('Layer')\n",
    "plt.ylabel('SI')\n",
    "plt.title('Separation Index (SI) vs Layer - Test - BN')\n",
    "plt.xticks(rotation=45)\n",
    "plt.grid(True)\n",
    "plt.show()"
   ]
  },
  {
   "cell_type": "markdown",
   "metadata": {},
   "source": [
    "### Calc Center SI"
   ]
  },
  {
   "cell_type": "code",
   "execution_count": 12,
   "metadata": {
    "tags": []
   },
   "outputs": [
    {
     "name": "stdout",
     "output_type": "stream",
     "text": [
      "Data has been normalized\n"
     ]
    },
    {
     "name": "stderr",
     "output_type": "stream",
     "text": [
      "Calculating CSI: 100%|██████████| 5/5 [00:00<00:00, 939.46it/s]\n"
     ]
    },
    {
     "name": "stdout",
     "output_type": "stream",
     "text": [
      "Data has been normalized\n"
     ]
    },
    {
     "name": "stderr",
     "output_type": "stream",
     "text": [
      "Calculating CSI: 100%|██████████| 5/5 [00:00<00:00, 4580.93it/s]\n"
     ]
    },
    {
     "name": "stdout",
     "output_type": "stream",
     "text": [
      "Data has been normalized\n"
     ]
    },
    {
     "name": "stderr",
     "output_type": "stream",
     "text": [
      "Calculating CSI: 100%|██████████| 5/5 [00:00<00:00, 4184.26it/s]\n"
     ]
    },
    {
     "name": "stdout",
     "output_type": "stream",
     "text": [
      "Data has been normalized\n"
     ]
    },
    {
     "name": "stderr",
     "output_type": "stream",
     "text": [
      "Calculating CSI: 100%|██████████| 5/5 [00:00<00:00, 4456.34it/s]\n"
     ]
    },
    {
     "name": "stdout",
     "output_type": "stream",
     "text": [
      "Data has been normalized\n"
     ]
    },
    {
     "name": "stderr",
     "output_type": "stream",
     "text": [
      "Calculating CSI: 100%|██████████| 5/5 [00:00<00:00, 3111.96it/s]\n"
     ]
    },
    {
     "name": "stdout",
     "output_type": "stream",
     "text": [
      "Data has been normalized\n"
     ]
    },
    {
     "name": "stderr",
     "output_type": "stream",
     "text": [
      "Calculating CSI: 100%|██████████| 5/5 [00:00<00:00, 3470.96it/s]\n"
     ]
    },
    {
     "name": "stdout",
     "output_type": "stream",
     "text": [
      "Data has been normalized\n"
     ]
    },
    {
     "name": "stderr",
     "output_type": "stream",
     "text": [
      "Calculating CSI: 100%|██████████| 5/5 [00:00<00:00, 3379.78it/s]\n"
     ]
    },
    {
     "name": "stdout",
     "output_type": "stream",
     "text": [
      "Data has been normalized\n"
     ]
    },
    {
     "name": "stderr",
     "output_type": "stream",
     "text": [
      "Calculating CSI: 100%|██████████| 5/5 [00:00<00:00, 1665.46it/s]\n"
     ]
    },
    {
     "name": "stdout",
     "output_type": "stream",
     "text": [
      "Data has been normalized\n"
     ]
    },
    {
     "name": "stderr",
     "output_type": "stream",
     "text": [
      "Calculating CSI: 100%|██████████| 5/5 [00:00<00:00, 3139.45it/s]\n"
     ]
    },
    {
     "name": "stdout",
     "output_type": "stream",
     "text": [
      "Data has been normalized\n"
     ]
    },
    {
     "name": "stderr",
     "output_type": "stream",
     "text": [
      "Calculating CSI: 100%|██████████| 5/5 [00:00<00:00, 4435.60it/s]\n"
     ]
    },
    {
     "name": "stdout",
     "output_type": "stream",
     "text": [
      "Data has been normalized\n"
     ]
    },
    {
     "name": "stderr",
     "output_type": "stream",
     "text": [
      "Calculating CSI: 100%|██████████| 5/5 [00:00<00:00, 4466.78it/s]\n"
     ]
    },
    {
     "name": "stdout",
     "output_type": "stream",
     "text": [
      "Data has been normalized\n"
     ]
    },
    {
     "name": "stderr",
     "output_type": "stream",
     "text": [
      "Calculating CSI: 100%|██████████| 5/5 [00:00<00:00, 4156.07it/s]\n"
     ]
    },
    {
     "name": "stdout",
     "output_type": "stream",
     "text": [
      "Data has been normalized\n"
     ]
    },
    {
     "name": "stderr",
     "output_type": "stream",
     "text": [
      "Calculating CSI: 100%|██████████| 5/5 [00:00<00:00, 3260.50it/s]\n"
     ]
    },
    {
     "name": "stdout",
     "output_type": "stream",
     "text": [
      "Data has been normalized\n"
     ]
    },
    {
     "name": "stderr",
     "output_type": "stream",
     "text": [
      "Calculating CSI: 100%|██████████| 5/5 [00:00<00:00, 3152.19it/s]\n"
     ]
    },
    {
     "name": "stdout",
     "output_type": "stream",
     "text": [
      "Data has been normalized\n"
     ]
    },
    {
     "name": "stderr",
     "output_type": "stream",
     "text": [
      "Calculating CSI: 100%|██████████| 5/5 [00:00<00:00, 4198.50it/s]\n"
     ]
    },
    {
     "name": "stdout",
     "output_type": "stream",
     "text": [
      "Data has been normalized\n"
     ]
    },
    {
     "name": "stderr",
     "output_type": "stream",
     "text": [
      "Calculating CSI: 100%|██████████| 5/5 [00:00<00:00, 4451.61it/s]\n"
     ]
    },
    {
     "name": "stdout",
     "output_type": "stream",
     "text": [
      "Data has been normalized\n"
     ]
    },
    {
     "name": "stderr",
     "output_type": "stream",
     "text": [
      "Calculating CSI: 100%|██████████| 5/5 [00:00<00:00, 4445.00it/s]\n"
     ]
    },
    {
     "name": "stdout",
     "output_type": "stream",
     "text": [
      "Data has been normalized\n"
     ]
    },
    {
     "name": "stderr",
     "output_type": "stream",
     "text": [
      "Calculating CSI: 100%|██████████| 5/5 [00:00<00:00, 4343.73it/s]\n"
     ]
    },
    {
     "name": "stdout",
     "output_type": "stream",
     "text": [
      "Data has been normalized\n"
     ]
    },
    {
     "name": "stderr",
     "output_type": "stream",
     "text": [
      "Calculating CSI: 100%|██████████| 5/5 [00:00<00:00, 4570.95it/s]\n"
     ]
    }
   ],
   "source": [
    "csi_layer_test = []\n",
    "\n",
    "# Iterate through each layer's features in the dictionary\n",
    "for layer_name, features in features_per_layer.items():\n",
    "    instance_disturbance = ARH_SeparationIndex(features, labels, normalize=True)\n",
    "    csi = instance_disturbance.center_si_batch(batch_size=2000)\n",
    "    csi_layer_test.append((layer_name, csi))"
   ]
  },
  {
   "cell_type": "code",
   "execution_count": 13,
   "metadata": {
    "tags": []
   },
   "outputs": [
    {
     "name": "stdout",
     "output_type": "stream",
     "text": [
      "[('conv1', 0.3529999852180481), ('bn1', 0.3529999852180481), ('conv2', 0.37529999017715454), ('bn2', 0.37529999017715454), ('pool1', 0.44439998269081116), ('conv3', 0.5123000144958496), ('bn3', 0.5123000144958496), ('conv4', 0.5044999718666077), ('bn4', 0.5044999718666077), ('conv5', 0.539900004863739), ('bn5', 0.539900004863739), ('pool2', 0.5845000147819519), ('conv6', 0.6121999621391296), ('bn6', 0.6121999621391296), ('pool3', 0.6599000096321106), ('conv7', 0.6830999851226807), ('bn7', 0.6830999851226807), ('avg_pool', 0.7893999814987183), ('bn8', 0.8560000061988831)]\n"
     ]
    },
    {
     "data": {
      "image/png": "[encoded data removed]",
      "text/plain": [
       "<Figure size 640x480 with 1 Axes>"
      ]
     },
     "metadata": {},
     "output_type": "display_data"
    }
   ],
   "source": [
    "print(csi_layer_test)\n",
    "\n",
    "\n",
    "# Plotting SI versus layer using a line plot\n",
    "plt.plot([layer for layer, _ in csi_layer_test], [si for _, si in csi_layer_test])\n",
    "plt.xlabel('Layer')\n",
    "plt.ylabel('SI')\n",
    "plt.title('Center Separation Index (CSI) vs Layer - Test - BN')\n",
    "plt.xticks(rotation=45)\n",
    "plt.grid(True)\n",
    "plt.show()"
   ]
  },
  {
   "cell_type": "code",
   "execution_count": null,
   "metadata": {},
   "outputs": [],
   "source": []
  }
 ],
 "metadata": {
  "accelerator": "GPU",
  "colab": {
   "gpuType": "T4",
   "provenance": []
  },
  "kernelspec": {
   "display_name": "torch2",
   "language": "python",
   "name": "torch2"
  },
  "language_info": {
   "codemirror_mode": {
    "name": "ipython",
    "version": 3
   },
   "file_extension": ".py",
   "mimetype": "text/x-python",
   "name": "python",
   "nbconvert_exporter": "python",
   "pygments_lexer": "ipython3",
   "version": "3.11.6"
  }
 },
 "nbformat": 4,
 "nbformat_minor": 4
}
