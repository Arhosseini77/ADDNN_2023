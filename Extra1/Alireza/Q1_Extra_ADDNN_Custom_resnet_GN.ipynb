{
 "cells": [
  {
   "cell_type": "markdown",
   "metadata": {
    "id": "D_FzYJ6kBPmA"
   },
   "source": [
    "# Import Libraries"
   ]
  },
  {
   "cell_type": "code",
   "execution_count": 1,
   "metadata": {
    "id": "QwVCQZDtBSOW",
    "tags": []
   },
   "outputs": [],
   "source": [
    "import torch\n",
    "import torch.nn as nn\n",
    "import torch.nn.functional as F\n",
    "\n",
    "import torch.optim as optim\n",
    "from torch.optim.lr_scheduler import StepLR\n",
    "from torchvision import datasets, transforms\n",
    "from torch.utils.data import DataLoader, random_split\n",
    "from sklearn.model_selection import train_test_split\n",
    "\n",
    "import matplotlib.pyplot as plt\n",
    "from tqdm import tqdm"
   ]
  },
  {
   "cell_type": "code",
   "execution_count": 2,
   "metadata": {
    "tags": []
   },
   "outputs": [
    {
     "name": "stdout",
     "output_type": "stream",
     "text": [
      "2\n",
      "NVIDIA GeForce RTX 3090\n"
     ]
    }
   ],
   "source": [
    "# Check GPU\n",
    "print(torch.cuda.device_count())\n",
    "print(torch.cuda.get_device_name(1))"
   ]
  },
  {
   "cell_type": "markdown",
   "metadata": {
    "id": "aNA78o8BBtC-",
    "tags": []
   },
   "source": [
    "# Part C "
   ]
  },
  {
   "cell_type": "markdown",
   "metadata": {
    "id": "quDe3fsABTNB"
   },
   "source": [
    "## Implement Custom Resnet + Group Normalization"
   ]
  },
  {
   "cell_type": "code",
   "execution_count": 13,
   "metadata": {
    "colab": {
     "base_uri": "https://localhost:8080/",
     "height": 247
    },
    "id": "AqPnnPgaBSzd",
    "outputId": "0a9b901d-aa7f-4daa-af0f-486f012cb733",
    "tags": []
   },
   "outputs": [],
   "source": [
    "class CustomResNetBlock(nn.Module):\n",
    "    def __init__(self, in_channels, out_channels, num_groups=32):\n",
    "        super(CustomResNetBlock, self).__init__()\n",
    "        self.conv1 = nn.Conv2d(in_channels, out_channels, kernel_size=3, padding=1)\n",
    "        self.gn1 = nn.GroupNorm(num_groups, out_channels)\n",
    "        self.elu = nn.ELU()\n",
    "        self.conv2 = nn.Conv2d(out_channels, out_channels, kernel_size=3, padding=1)\n",
    "        self.gn2 = nn.GroupNorm(num_groups, out_channels)\n",
    "\n",
    "    def forward(self, x):\n",
    "        shortcut = x\n",
    "        x = self.conv1(x)\n",
    "        x = self.gn1(x)\n",
    "        x = self.elu(x)\n",
    "        x = self.conv2(x)\n",
    "        x = self.gn2(x)\n",
    "        x += shortcut\n",
    "        x = self.elu(x)\n",
    "        return x\n",
    "    \n",
    "class CustomResNet_GN(nn.Module):\n",
    "    def __init__(self, num_groups=32):\n",
    "        super(CustomResNet_GN, self).__init__()\n",
    "        # Initial convolutional layers\n",
    "        self.conv1 = nn.Conv2d(3, 32, kernel_size=3, padding=1)\n",
    "        self.gn1 = nn.GroupNorm(num_groups, 32)\n",
    "        self.elu1 = nn.ELU()\n",
    "        self.conv2 = nn.Conv2d(32, 64, kernel_size=3, padding=1)\n",
    "        self.gn2 = nn.GroupNorm(num_groups, 64)\n",
    "        self.elu2 = nn.ELU()\n",
    "        self.maxpool1 = nn.MaxPool2d(kernel_size=2)\n",
    "        \n",
    "        # Residual blocks\n",
    "        self.resblock1 = CustomResNetBlock(64, 64, num_groups)\n",
    "        self.conv3 = nn.Conv2d(64, 128, kernel_size=3, padding=1)\n",
    "        self.gn3 = nn.GroupNorm(num_groups, 128)\n",
    "        self.elu3 = nn.ELU()\n",
    "        self.maxpool2 = nn.MaxPool2d(kernel_size=2)\n",
    "        self.conv4 = nn.Conv2d(128, 256, kernel_size=3, padding=1)\n",
    "        self.maxpool3 = nn.MaxPool2d(kernel_size=2)\n",
    "        self.gn4 = nn.GroupNorm(num_groups, 256)\n",
    "        self.elu4 = nn.ELU()\n",
    "        self.resblock2 = CustomResNetBlock(256, 256, num_groups)\n",
    "        \n",
    "        # Average pooling and fully connected layers\n",
    "        self.avgpool = nn.AvgPool2d(kernel_size=3, stride=2)\n",
    "        self.flatten = nn.Flatten()\n",
    "        self.fc1 = nn.Linear(256, 256)\n",
    "        self.fc2 = nn.Linear(256, 10)\n",
    "        self.softmax = nn.Softmax(dim=1)\n",
    "\n",
    "    def forward(self, x):\n",
    "        x = self.conv1(x)\n",
    "        x = self.gn1(x)\n",
    "        x = self.elu1(x)\n",
    "        x = self.conv2(x)\n",
    "        x = self.gn2(x)\n",
    "        x = self.elu2(x)\n",
    "        x = self.maxpool1(x)\n",
    "        \n",
    "        x = self.resblock1(x)\n",
    "        x = self.conv3(x)\n",
    "        x = self.gn3(x)\n",
    "        x = self.elu3(x)\n",
    "        x = self.maxpool2(x)\n",
    "        \n",
    "        x = self.conv4(x)\n",
    "        x = self.gn4(x)\n",
    "        x = self.elu4(x)\n",
    "        x = self.maxpool3(x)\n",
    "        x = self.resblock2(x)\n",
    "        x = self.avgpool(x)\n",
    "        x = self.flatten(x)\n",
    "        x = self.fc1(x)\n",
    "        x = self.fc2(x)\n",
    "        x = self.softmax(x)\n",
    "        return x\n",
    "    "
   ]
  },
  {
   "cell_type": "markdown",
   "metadata": {
    "id": "JDIWaZO4BoJG"
   },
   "source": [
    "## Load Dataset"
   ]
  },
  {
   "cell_type": "code",
   "execution_count": 14,
   "metadata": {
    "id": "8V4gTK4PBihv"
   },
   "outputs": [],
   "source": [
    "# Data augmentation and normalization\n",
    "transform_train = transforms.Compose([\n",
    "    transforms.RandomHorizontalFlip(),\n",
    "    transforms.RandomRotation(10),\n",
    "    transforms.ToTensor(),\n",
    "    transforms.Normalize((0.5, 0.5, 0.5), (0.5, 0.5, 0.5))\n",
    "])\n",
    "\n",
    "# # Data augmentation and normalization for training\n",
    "# transform_train = transforms.Compose([\n",
    "#     transforms.RandomHorizontalFlip(),\n",
    "#     transforms.RandomRotation(15),\n",
    "#     transforms.RandomResizedCrop(32, scale=(0.8, 1.0)),\n",
    "#     transforms.ColorJitter(brightness=0.1, contrast=0.1, saturation=0.1, hue=0.1),\n",
    "#     transforms.RandomAffine(degrees=0, translate=(0.1, 0.1)),\n",
    "#     transforms.ToTensor(),\n",
    "#     transforms.Normalize((0.5, 0.5, 0.5), (0.5, 0.5, 0.5))\n",
    "# ])\n",
    "\n",
    "transform_test = transforms.Compose([\n",
    "    transforms.ToTensor(),\n",
    "    transforms.Normalize((0.5, 0.5, 0.5), (0.5, 0.5, 0.5))\n",
    "])"
   ]
  },
  {
   "cell_type": "code",
   "execution_count": 15,
   "metadata": {
    "colab": {
     "base_uri": "https://localhost:8080/"
    },
    "id": "pFEN5wDcBwwe",
    "outputId": "9c66fc00-2d4a-4d12-8a18-244b82583cad"
   },
   "outputs": [
    {
     "name": "stdout",
     "output_type": "stream",
     "text": [
      "Files already downloaded and verified\n",
      "Files already downloaded and verified\n"
     ]
    }
   ],
   "source": [
    "# Load CIFAR-10 dataset\n",
    "train_dataset = datasets.CIFAR10(root='./data', train=True, download=True, transform=transform_train)\n",
    "test_dataset = datasets.CIFAR10(root='./data', train=False, download=True, transform=transform_test)\n",
    "\n",
    "# Splitting train dataset into train and validation sets\n",
    "train_size = int(0.9 * len(train_dataset))\n",
    "val_size = len(train_dataset) - train_size\n",
    "train_dataset, val_dataset = random_split(train_dataset, [train_size, val_size])\n",
    "\n",
    "# Data loaders\n",
    "train_loader = DataLoader(train_dataset, batch_size=256, shuffle=True)\n",
    "val_loader = DataLoader(val_dataset, batch_size=256, shuffle=False)\n",
    "test_loader = DataLoader(test_dataset, batch_size=256, shuffle=False)"
   ]
  },
  {
   "cell_type": "markdown",
   "metadata": {
    "id": "nmhQIr54B2oW"
   },
   "source": [
    "## Optimizer and Train Setup"
   ]
  },
  {
   "cell_type": "code",
   "execution_count": 16,
   "metadata": {
    "id": "3CzuU7SMB1H9"
   },
   "outputs": [],
   "source": [
    "# Model, optimizer, and scheduler\n",
    "model = CustomResNet_GN()\n",
    "optimizer = optim.SGD(model.parameters(), lr=0.01, momentum=0.9)\n",
    "scheduler = StepLR(optimizer, step_size=40, gamma=0.1)\n",
    "criterion = nn.CrossEntropyLoss()"
   ]
  },
  {
   "cell_type": "code",
   "execution_count": 17,
   "metadata": {
    "colab": {
     "base_uri": "https://localhost:8080/"
    },
    "id": "Q5Ln_L7oIPAi",
    "outputId": "3ef9c660-f4a3-42bd-91d5-b018c8cedc23"
   },
   "outputs": [
    {
     "data": {
      "text/plain": [
       "CustomResNet_GN(\n",
       "  (conv1): Conv2d(3, 32, kernel_size=(3, 3), stride=(1, 1), padding=(1, 1))\n",
       "  (gn1): GroupNorm(32, 32, eps=1e-05, affine=True)\n",
       "  (elu1): ELU(alpha=1.0)\n",
       "  (conv2): Conv2d(32, 64, kernel_size=(3, 3), stride=(1, 1), padding=(1, 1))\n",
       "  (gn2): GroupNorm(32, 64, eps=1e-05, affine=True)\n",
       "  (elu2): ELU(alpha=1.0)\n",
       "  (maxpool1): MaxPool2d(kernel_size=2, stride=2, padding=0, dilation=1, ceil_mode=False)\n",
       "  (resblock1): CustomResNetBlock(\n",
       "    (conv1): Conv2d(64, 64, kernel_size=(3, 3), stride=(1, 1), padding=(1, 1))\n",
       "    (gn1): GroupNorm(32, 64, eps=1e-05, affine=True)\n",
       "    (elu): ELU(alpha=1.0)\n",
       "    (conv2): Conv2d(64, 64, kernel_size=(3, 3), stride=(1, 1), padding=(1, 1))\n",
       "    (gn2): GroupNorm(32, 64, eps=1e-05, affine=True)\n",
       "  )\n",
       "  (conv3): Conv2d(64, 128, kernel_size=(3, 3), stride=(1, 1), padding=(1, 1))\n",
       "  (gn3): GroupNorm(32, 128, eps=1e-05, affine=True)\n",
       "  (elu3): ELU(alpha=1.0)\n",
       "  (maxpool2): MaxPool2d(kernel_size=2, stride=2, padding=0, dilation=1, ceil_mode=False)\n",
       "  (conv4): Conv2d(128, 256, kernel_size=(3, 3), stride=(1, 1), padding=(1, 1))\n",
       "  (maxpool3): MaxPool2d(kernel_size=2, stride=2, padding=0, dilation=1, ceil_mode=False)\n",
       "  (gn4): GroupNorm(32, 256, eps=1e-05, affine=True)\n",
       "  (elu4): ELU(alpha=1.0)\n",
       "  (resblock2): CustomResNetBlock(\n",
       "    (conv1): Conv2d(256, 256, kernel_size=(3, 3), stride=(1, 1), padding=(1, 1))\n",
       "    (gn1): GroupNorm(32, 256, eps=1e-05, affine=True)\n",
       "    (elu): ELU(alpha=1.0)\n",
       "    (conv2): Conv2d(256, 256, kernel_size=(3, 3), stride=(1, 1), padding=(1, 1))\n",
       "    (gn2): GroupNorm(32, 256, eps=1e-05, affine=True)\n",
       "  )\n",
       "  (avgpool): AvgPool2d(kernel_size=3, stride=2, padding=0)\n",
       "  (flatten): Flatten(start_dim=1, end_dim=-1)\n",
       "  (fc1): Linear(in_features=256, out_features=256, bias=True)\n",
       "  (fc2): Linear(in_features=256, out_features=10, bias=True)\n",
       "  (softmax): Softmax(dim=1)\n",
       ")"
      ]
     },
     "execution_count": 17,
     "metadata": {},
     "output_type": "execute_result"
    }
   ],
   "source": [
    "# Determine if CUDA is available and set the device accordingly\n",
    "device = torch.device(\"cuda:1\" if torch.cuda.is_available() else \"cpu\")\n",
    "model.to(device)"
   ]
  },
  {
   "cell_type": "code",
   "execution_count": 18,
   "metadata": {
    "id": "8AjZNiXpHwDi"
   },
   "outputs": [],
   "source": [
    "def train(model, device, train_loader, optimizer, criterion):\n",
    "    model.train()\n",
    "    train_loss = 0\n",
    "    correct = 0\n",
    "    total = 0\n",
    "    for data, target in train_loader:\n",
    "        data, target = data.to(device), target.to(device)\n",
    "        optimizer.zero_grad()\n",
    "        output = model(data)\n",
    "        loss = criterion(output, target)\n",
    "        train_loss += loss.item()\n",
    "        loss.backward()\n",
    "        optimizer.step()\n",
    "\n",
    "        _, predicted = torch.max(output.data, 1)\n",
    "        total += target.size(0)\n",
    "        correct += (predicted == target).sum().item()\n",
    "\n",
    "    train_loss /= len(train_loader)\n",
    "    train_accuracy = 100 * correct / total\n",
    "    return train_loss, train_accuracy\n",
    "\n",
    "def test(model, device, test_loader, criterion):\n",
    "    model.eval()\n",
    "    test_loss = 0\n",
    "    correct = 0\n",
    "    with torch.no_grad():\n",
    "        for data, target in test_loader:\n",
    "            data, target = data.to(device), target.to(device)\n",
    "            output = model(data)\n",
    "            loss = criterion(output, target)\n",
    "            test_loss += loss.item()\n",
    "            _, predicted = output.max(1)\n",
    "            correct += predicted.eq(target).sum().item()\n",
    "\n",
    "    test_loss /= len(test_loader)\n",
    "    test_accuracy = 100. * correct / len(test_loader.dataset)\n",
    "    return test_loss, test_accuracy\n",
    "\n",
    "# Training loop with tracking of training and validation accuracies\n",
    "train_losses, train_accuracies, val_losses, val_accuracies = [], [], [], []\n",
    "best_val_accuracy = 0\n",
    "best_model_weights = None\n"
   ]
  },
  {
   "cell_type": "code",
   "execution_count": 20,
   "metadata": {
    "colab": {
     "base_uri": "https://localhost:8080/"
    },
    "id": "09-npVVjIP1z",
    "outputId": "3c14999d-945f-4031-d719-9b7e3085b0cf"
   },
   "outputs": [
    {
     "name": "stdout",
     "output_type": "stream",
     "text": [
      "Epoch: 1, Train Loss: 1.9472, Train Accuracy: 51.78%, Val Loss: 1.9243, Val Accuracy: 53.90%\n",
      "Epoch: 2, Train Loss: 1.8998, Train Accuracy: 56.56%, Val Loss: 1.8620, Val Accuracy: 60.54%\n",
      "Epoch: 3, Train Loss: 1.8708, Train Accuracy: 59.39%, Val Loss: 1.8694, Val Accuracy: 59.30%\n",
      "Epoch: 4, Train Loss: 1.8438, Train Accuracy: 62.12%, Val Loss: 1.8379, Val Accuracy: 62.46%\n",
      "Epoch: 5, Train Loss: 1.8294, Train Accuracy: 63.39%, Val Loss: 1.8350, Val Accuracy: 62.52%\n",
      "Epoch: 6, Train Loss: 1.8084, Train Accuracy: 65.54%, Val Loss: 1.7998, Val Accuracy: 66.34%\n",
      "Epoch: 7, Train Loss: 1.8013, Train Accuracy: 66.29%, Val Loss: 1.7960, Val Accuracy: 66.54%\n",
      "Epoch: 8, Train Loss: 1.7942, Train Accuracy: 66.95%, Val Loss: 1.7920, Val Accuracy: 66.96%\n",
      "Epoch: 9, Train Loss: 1.7803, Train Accuracy: 68.30%, Val Loss: 1.7867, Val Accuracy: 67.50%\n",
      "Epoch: 10, Train Loss: 1.7783, Train Accuracy: 68.36%, Val Loss: 1.7883, Val Accuracy: 67.38%\n",
      "Epoch: 11, Train Loss: 1.7725, Train Accuracy: 68.96%, Val Loss: 1.7700, Val Accuracy: 68.98%\n",
      "Epoch: 12, Train Loss: 1.7607, Train Accuracy: 70.18%, Val Loss: 1.7661, Val Accuracy: 69.34%\n",
      "Epoch: 13, Train Loss: 1.7661, Train Accuracy: 69.56%, Val Loss: 1.7682, Val Accuracy: 69.02%\n",
      "Epoch: 14, Train Loss: 1.7543, Train Accuracy: 70.81%, Val Loss: 1.7694, Val Accuracy: 69.16%\n",
      "Epoch: 15, Train Loss: 1.7513, Train Accuracy: 71.13%, Val Loss: 1.7532, Val Accuracy: 70.84%\n",
      "Epoch: 16, Train Loss: 1.7384, Train Accuracy: 72.48%, Val Loss: 1.7506, Val Accuracy: 70.82%\n",
      "Epoch: 17, Train Loss: 1.7365, Train Accuracy: 72.53%, Val Loss: 1.7476, Val Accuracy: 71.12%\n",
      "Epoch: 18, Train Loss: 1.7363, Train Accuracy: 72.64%, Val Loss: 1.7512, Val Accuracy: 70.90%\n",
      "Epoch: 19, Train Loss: 1.7344, Train Accuracy: 72.82%, Val Loss: 1.7507, Val Accuracy: 71.00%\n",
      "Epoch: 20, Train Loss: 1.7242, Train Accuracy: 73.80%, Val Loss: 1.7413, Val Accuracy: 71.98%\n",
      "Epoch: 21, Train Loss: 1.7241, Train Accuracy: 73.82%, Val Loss: 1.7379, Val Accuracy: 72.30%\n",
      "Epoch: 22, Train Loss: 1.7199, Train Accuracy: 74.22%, Val Loss: 1.7576, Val Accuracy: 70.32%\n",
      "Epoch: 23, Train Loss: 1.7002, Train Accuracy: 76.50%, Val Loss: 1.7046, Val Accuracy: 76.04%\n",
      "Epoch: 24, Train Loss: 1.6830, Train Accuracy: 78.13%, Val Loss: 1.7010, Val Accuracy: 76.02%\n",
      "Epoch: 25, Train Loss: 1.6816, Train Accuracy: 78.20%, Val Loss: 1.6927, Val Accuracy: 77.06%\n",
      "Epoch: 26, Train Loss: 1.6685, Train Accuracy: 79.70%, Val Loss: 1.7016, Val Accuracy: 76.08%\n",
      "Epoch: 27, Train Loss: 1.6643, Train Accuracy: 79.88%, Val Loss: 1.6748, Val Accuracy: 78.72%\n",
      "Epoch: 28, Train Loss: 1.6611, Train Accuracy: 80.23%, Val Loss: 1.6928, Val Accuracy: 76.90%\n",
      "Epoch: 29, Train Loss: 1.6600, Train Accuracy: 80.38%, Val Loss: 1.6810, Val Accuracy: 78.12%\n",
      "Epoch: 30, Train Loss: 1.6539, Train Accuracy: 80.94%, Val Loss: 1.6729, Val Accuracy: 79.12%\n",
      "Epoch: 31, Train Loss: 1.6478, Train Accuracy: 81.58%, Val Loss: 1.6794, Val Accuracy: 78.08%\n",
      "Epoch: 32, Train Loss: 1.6471, Train Accuracy: 81.65%, Val Loss: 1.6658, Val Accuracy: 79.76%\n",
      "Epoch: 33, Train Loss: 1.6443, Train Accuracy: 81.94%, Val Loss: 1.6740, Val Accuracy: 78.64%\n",
      "Epoch: 34, Train Loss: 1.6390, Train Accuracy: 82.46%, Val Loss: 1.6579, Val Accuracy: 80.52%\n",
      "Epoch: 35, Train Loss: 1.6347, Train Accuracy: 82.90%, Val Loss: 1.6617, Val Accuracy: 80.06%\n",
      "Epoch: 36, Train Loss: 1.6340, Train Accuracy: 82.88%, Val Loss: 1.6609, Val Accuracy: 80.12%\n",
      "Epoch: 37, Train Loss: 1.6340, Train Accuracy: 83.00%, Val Loss: 1.6709, Val Accuracy: 78.72%\n",
      "Epoch: 38, Train Loss: 1.6275, Train Accuracy: 83.57%, Val Loss: 1.6667, Val Accuracy: 79.18%\n",
      "Epoch: 39, Train Loss: 1.6006, Train Accuracy: 86.27%, Val Loss: 1.6387, Val Accuracy: 82.28%\n",
      "Epoch: 40, Train Loss: 1.5930, Train Accuracy: 87.09%, Val Loss: 1.6358, Val Accuracy: 82.32%\n",
      "Epoch: 41, Train Loss: 1.5900, Train Accuracy: 87.41%, Val Loss: 1.6355, Val Accuracy: 82.76%\n",
      "Epoch: 42, Train Loss: 1.5885, Train Accuracy: 87.57%, Val Loss: 1.6358, Val Accuracy: 82.54%\n",
      "Epoch: 43, Train Loss: 1.5872, Train Accuracy: 87.68%, Val Loss: 1.6355, Val Accuracy: 82.72%\n",
      "Epoch: 44, Train Loss: 1.5857, Train Accuracy: 87.90%, Val Loss: 1.6273, Val Accuracy: 83.46%\n",
      "Epoch: 45, Train Loss: 1.5851, Train Accuracy: 87.88%, Val Loss: 1.6322, Val Accuracy: 82.90%\n",
      "Epoch: 46, Train Loss: 1.5834, Train Accuracy: 88.11%, Val Loss: 1.6318, Val Accuracy: 82.86%\n",
      "Epoch: 47, Train Loss: 1.5846, Train Accuracy: 88.02%, Val Loss: 1.6326, Val Accuracy: 82.76%\n",
      "Epoch: 48, Train Loss: 1.5825, Train Accuracy: 88.20%, Val Loss: 1.6308, Val Accuracy: 82.96%\n",
      "Epoch: 49, Train Loss: 1.5816, Train Accuracy: 88.31%, Val Loss: 1.6282, Val Accuracy: 83.48%\n",
      "Epoch: 50, Train Loss: 1.5812, Train Accuracy: 88.28%, Val Loss: 1.6267, Val Accuracy: 83.64%\n",
      "Epoch: 51, Train Loss: 1.5801, Train Accuracy: 88.50%, Val Loss: 1.6270, Val Accuracy: 83.44%\n",
      "Epoch: 52, Train Loss: 1.5785, Train Accuracy: 88.62%, Val Loss: 1.6318, Val Accuracy: 82.90%\n",
      "Epoch: 53, Train Loss: 1.5790, Train Accuracy: 88.59%, Val Loss: 1.6243, Val Accuracy: 83.82%\n",
      "Epoch: 54, Train Loss: 1.5782, Train Accuracy: 88.71%, Val Loss: 1.6326, Val Accuracy: 83.12%\n",
      "Epoch: 55, Train Loss: 1.5762, Train Accuracy: 88.93%, Val Loss: 1.6320, Val Accuracy: 82.80%\n",
      "Epoch: 56, Train Loss: 1.5758, Train Accuracy: 88.95%, Val Loss: 1.6250, Val Accuracy: 83.64%\n",
      "Epoch: 57, Train Loss: 1.5750, Train Accuracy: 88.96%, Val Loss: 1.6263, Val Accuracy: 83.60%\n",
      "Epoch: 58, Train Loss: 1.5745, Train Accuracy: 89.06%, Val Loss: 1.6333, Val Accuracy: 82.74%\n",
      "Epoch: 59, Train Loss: 1.5751, Train Accuracy: 89.03%, Val Loss: 1.6256, Val Accuracy: 83.54%\n",
      "Epoch: 60, Train Loss: 1.5733, Train Accuracy: 89.20%, Val Loss: 1.6246, Val Accuracy: 83.74%\n",
      "Epoch: 61, Train Loss: 1.5725, Train Accuracy: 89.28%, Val Loss: 1.6279, Val Accuracy: 83.26%\n",
      "Epoch: 62, Train Loss: 1.5721, Train Accuracy: 89.31%, Val Loss: 1.6269, Val Accuracy: 83.62%\n",
      "Epoch: 63, Train Loss: 1.5722, Train Accuracy: 89.24%, Val Loss: 1.6230, Val Accuracy: 83.74%\n",
      "Epoch: 64, Train Loss: 1.5710, Train Accuracy: 89.42%, Val Loss: 1.6253, Val Accuracy: 83.70%\n",
      "Epoch: 65, Train Loss: 1.5710, Train Accuracy: 89.42%, Val Loss: 1.6297, Val Accuracy: 83.16%\n",
      "Epoch: 66, Train Loss: 1.5700, Train Accuracy: 89.48%, Val Loss: 1.6198, Val Accuracy: 84.18%\n",
      "Epoch: 67, Train Loss: 1.5706, Train Accuracy: 89.51%, Val Loss: 1.6262, Val Accuracy: 83.42%\n",
      "Epoch: 68, Train Loss: 1.5697, Train Accuracy: 89.54%, Val Loss: 1.6254, Val Accuracy: 83.72%\n",
      "Epoch: 69, Train Loss: 1.5671, Train Accuracy: 89.81%, Val Loss: 1.6257, Val Accuracy: 83.32%\n",
      "Epoch: 70, Train Loss: 1.5681, Train Accuracy: 89.74%, Val Loss: 1.6271, Val Accuracy: 83.72%\n",
      "Epoch: 71, Train Loss: 1.5681, Train Accuracy: 89.79%, Val Loss: 1.6268, Val Accuracy: 83.42%\n",
      "Epoch: 72, Train Loss: 1.5671, Train Accuracy: 89.78%, Val Loss: 1.6211, Val Accuracy: 84.34%\n",
      "Epoch: 73, Train Loss: 1.5649, Train Accuracy: 90.16%, Val Loss: 1.6229, Val Accuracy: 83.82%\n",
      "Epoch: 74, Train Loss: 1.5654, Train Accuracy: 89.98%, Val Loss: 1.6227, Val Accuracy: 83.58%\n",
      "Epoch: 75, Train Loss: 1.5650, Train Accuracy: 90.05%, Val Loss: 1.6237, Val Accuracy: 83.84%\n",
      "Epoch: 76, Train Loss: 1.5652, Train Accuracy: 90.00%, Val Loss: 1.6261, Val Accuracy: 83.64%\n",
      "Epoch: 77, Train Loss: 1.5626, Train Accuracy: 90.22%, Val Loss: 1.6299, Val Accuracy: 83.16%\n",
      "Epoch: 78, Train Loss: 1.5632, Train Accuracy: 90.28%, Val Loss: 1.6246, Val Accuracy: 83.72%\n",
      "Epoch: 79, Train Loss: 1.5592, Train Accuracy: 90.64%, Val Loss: 1.6244, Val Accuracy: 83.42%\n",
      "Epoch: 80, Train Loss: 1.5595, Train Accuracy: 90.60%, Val Loss: 1.6239, Val Accuracy: 83.78%\n",
      "Epoch: 81, Train Loss: 1.5595, Train Accuracy: 90.69%, Val Loss: 1.6201, Val Accuracy: 84.20%\n",
      "Epoch: 82, Train Loss: 1.5599, Train Accuracy: 90.55%, Val Loss: 1.6237, Val Accuracy: 83.50%\n",
      "Epoch: 83, Train Loss: 1.5584, Train Accuracy: 90.78%, Val Loss: 1.6237, Val Accuracy: 83.82%\n",
      "Epoch: 84, Train Loss: 1.5585, Train Accuracy: 90.78%, Val Loss: 1.6234, Val Accuracy: 83.72%\n",
      "Epoch: 85, Train Loss: 1.5588, Train Accuracy: 90.71%, Val Loss: 1.6215, Val Accuracy: 84.06%\n",
      "Epoch: 86, Train Loss: 1.5591, Train Accuracy: 90.63%, Val Loss: 1.6241, Val Accuracy: 83.90%\n",
      "Epoch: 87, Train Loss: 1.5590, Train Accuracy: 90.65%, Val Loss: 1.6178, Val Accuracy: 84.62%\n",
      "Epoch: 88, Train Loss: 1.5572, Train Accuracy: 90.85%, Val Loss: 1.6226, Val Accuracy: 83.96%\n",
      "Epoch: 89, Train Loss: 1.5580, Train Accuracy: 90.76%, Val Loss: 1.6216, Val Accuracy: 83.84%\n",
      "Epoch: 90, Train Loss: 1.5581, Train Accuracy: 90.80%, Val Loss: 1.6232, Val Accuracy: 83.66%\n",
      "Epoch: 91, Train Loss: 1.5575, Train Accuracy: 90.77%, Val Loss: 1.6169, Val Accuracy: 84.32%\n",
      "Epoch: 92, Train Loss: 1.5578, Train Accuracy: 90.82%, Val Loss: 1.6201, Val Accuracy: 84.20%\n",
      "Epoch: 93, Train Loss: 1.5582, Train Accuracy: 90.72%, Val Loss: 1.6250, Val Accuracy: 83.68%\n",
      "Epoch: 94, Train Loss: 1.5581, Train Accuracy: 90.75%, Val Loss: 1.6236, Val Accuracy: 83.72%\n",
      "Epoch: 95, Train Loss: 1.5574, Train Accuracy: 90.83%, Val Loss: 1.6206, Val Accuracy: 83.98%\n",
      "Epoch: 96, Train Loss: 1.5579, Train Accuracy: 90.77%, Val Loss: 1.6189, Val Accuracy: 84.20%\n",
      "Epoch: 97, Train Loss: 1.5578, Train Accuracy: 90.86%, Val Loss: 1.6229, Val Accuracy: 83.90%\n",
      "Epoch: 98, Train Loss: 1.5576, Train Accuracy: 90.82%, Val Loss: 1.6229, Val Accuracy: 83.88%\n",
      "Epoch: 99, Train Loss: 1.5578, Train Accuracy: 90.83%, Val Loss: 1.6170, Val Accuracy: 84.52%\n",
      "Epoch: 100, Train Loss: 1.5559, Train Accuracy: 91.01%, Val Loss: 1.6199, Val Accuracy: 84.30%\n"
     ]
    }
   ],
   "source": [
    "for epoch in range(1, 101):\n",
    "    train_loss, train_accuracy = train(model, device, train_loader, optimizer , criterion)\n",
    "    val_loss, val_accuracy = test(model, device, val_loader , criterion)\n",
    "\n",
    "    train_losses.append(train_loss)\n",
    "    train_accuracies.append(train_accuracy)\n",
    "    val_losses.append(val_loss)\n",
    "    val_accuracies.append(val_accuracy)\n",
    "\n",
    "    if val_accuracy > best_val_accuracy:\n",
    "        best_val_accuracy = val_accuracy\n",
    "        best_model_weights = model.state_dict()\n",
    "\n",
    "    print(f'Epoch: {epoch}, Train Loss: {train_loss:.4f}, Train Accuracy: {train_accuracy:.2f}%, Val Loss: {val_loss:.4f}, Val Accuracy: {val_accuracy:.2f}%')\n",
    "    scheduler.step()"
   ]
  },
  {
   "cell_type": "code",
   "execution_count": 21,
   "metadata": {
    "colab": {
     "base_uri": "https://localhost:8080/",
     "height": 522
    },
    "id": "Hj3juhQ1IYxO",
    "outputId": "64058bc6-eb0f-4da8-f120-765da7e9807d"
   },
   "outputs": [
    {
     "data": {
      "image/png": "[encoded data removed]",
      "text/plain": [
       "<Figure size 1200x500 with 2 Axes>"
      ]
     },
     "metadata": {},
     "output_type": "display_data"
    },
    {
     "name": "stdout",
     "output_type": "stream",
     "text": [
      "Best Validation Accuracy: 84.62%\n",
      "Test Accuracy of the final model: 84.86%\n"
     ]
    }
   ],
   "source": [
    "# Load best model weights and evaluate on test set\n",
    "model.load_state_dict(best_model_weights)\n",
    "test_loss, test_accuracy = test(model, device, test_loader , criterion)\n",
    "\n",
    "# Plotting training and validation loss and accuracy\n",
    "plt.figure(figsize=(12, 5))\n",
    "\n",
    "plt.subplot(1, 2, 1)\n",
    "plt.plot(train_losses, label='Train Loss')\n",
    "plt.plot(val_losses, label='Validation Loss')\n",
    "plt.title('Training and Validation Loss')\n",
    "plt.xlabel('Epochs')\n",
    "plt.ylabel('Loss')\n",
    "plt.legend()\n",
    "\n",
    "plt.subplot(1, 2, 2)\n",
    "plt.plot(train_accuracies, label='Train Accuracy')\n",
    "plt.plot(val_accuracies, label='Validation Accuracy')\n",
    "plt.title('Training and Validation Accuracy')\n",
    "plt.xlabel('Epochs')\n",
    "plt.ylabel('Accuracy (%)')\n",
    "plt.legend()\n",
    "\n",
    "plt.show()\n",
    "\n",
    "# Print best validation accuracy and test accuracy\n",
    "print(f'Best Validation Accuracy: {best_val_accuracy:.2f}%')\n",
    "print(f'Test Accuracy of the final model: {test_accuracy:.2f}%')\n",
    "\n",
    "# Save best model weights\n",
    "torch.save(best_model_weights, 'best_custom_resnet_weights_GN.pth')"
   ]
  },
  {
   "cell_type": "markdown",
   "metadata": {
    "id": "UO5dnC5YeJrh",
    "tags": []
   },
   "source": [
    "# Layer Wise analyse , Part C"
   ]
  },
  {
   "cell_type": "code",
   "execution_count": null,
   "metadata": {
    "colab": {
     "base_uri": "https://localhost:8080/"
    },
    "id": "pgoYCnwadXJV",
    "outputId": "4da311d0-2330-4cd8-84f2-cf71582117b0",
    "tags": []
   },
   "outputs": [],
   "source": [
    "# download Pretrained Weight of model\n",
    "import gdown\n",
    "id = \"1_ky8zlEMZSIw-Hbf_sS6-FeBPtpiwfDd\"\n",
    "gdown.download(id=id, quiet=False)"
   ]
  },
  {
   "cell_type": "code",
   "execution_count": null,
   "metadata": {
    "tags": []
   },
   "outputs": [],
   "source": [
    "!git clone https://github.com/Arhosseini77/data_complexity_measures"
   ]
  },
  {
   "cell_type": "code",
   "execution_count": 3,
   "metadata": {
    "tags": []
   },
   "outputs": [],
   "source": [
    "from data_complexity_measures.models.ARH_SeparationIndex import ARH_SeparationIndex"
   ]
  },
  {
   "cell_type": "code",
   "execution_count": 4,
   "metadata": {
    "id": "STuVWv9ghSOY",
    "tags": []
   },
   "outputs": [],
   "source": [
    "class CustomResNetBlock(nn.Module):\n",
    "    def __init__(self, in_channels, out_channels, num_groups=32):\n",
    "        super(CustomResNetBlock, self).__init__()\n",
    "        self.conv1 = nn.Conv2d(in_channels, out_channels, kernel_size=3, padding=1)\n",
    "        self.gn1 = nn.GroupNorm(num_groups, out_channels)\n",
    "        self.elu = nn.ELU()\n",
    "        self.conv2 = nn.Conv2d(out_channels, out_channels, kernel_size=3, padding=1)\n",
    "        self.gn2 = nn.GroupNorm(num_groups, out_channels)\n",
    "\n",
    "    def forward(self, x):\n",
    "        shortcut = x\n",
    "        x = self.conv1(x)\n",
    "        x = self.gn1(x)\n",
    "        x = self.elu(x)\n",
    "        x = self.conv2(x)\n",
    "        x = self.gn2(x)\n",
    "        x += shortcut\n",
    "        x = self.elu(x)\n",
    "        return x\n",
    "    \n",
    "class CustomResNet_GN(nn.Module):\n",
    "    def __init__(self, num_groups=32):\n",
    "        super(CustomResNet_GN, self).__init__()\n",
    "        # Initial convolutional layers\n",
    "        self.conv1 = nn.Conv2d(3, 32, kernel_size=3, padding=1)\n",
    "        self.gn1 = nn.GroupNorm(num_groups, 32)\n",
    "        self.elu1 = nn.ELU()\n",
    "        self.conv2 = nn.Conv2d(32, 64, kernel_size=3, padding=1)\n",
    "        self.gn2 = nn.GroupNorm(num_groups, 64)\n",
    "        self.elu2 = nn.ELU()\n",
    "        self.maxpool1 = nn.MaxPool2d(kernel_size=2)\n",
    "        \n",
    "        # Residual blocks\n",
    "        self.resblock1 = CustomResNetBlock(64, 64, num_groups)\n",
    "        self.conv3 = nn.Conv2d(64, 128, kernel_size=3, padding=1)\n",
    "        self.gn3 = nn.GroupNorm(num_groups, 128)\n",
    "        self.elu3 = nn.ELU()\n",
    "        self.maxpool2 = nn.MaxPool2d(kernel_size=2)\n",
    "        self.conv4 = nn.Conv2d(128, 256, kernel_size=3, padding=1)\n",
    "        self.maxpool3 = nn.MaxPool2d(kernel_size=2)\n",
    "        self.gn4 = nn.GroupNorm(num_groups, 256)\n",
    "        self.elu4 = nn.ELU()\n",
    "        self.resblock2 = CustomResNetBlock(256, 256, num_groups)\n",
    "        \n",
    "        # Average pooling and fully connected layers\n",
    "        self.avgpool = nn.AvgPool2d(kernel_size=3, stride=2)\n",
    "        self.flatten = nn.Flatten()\n",
    "        self.fc1 = nn.Linear(256, 256)\n",
    "        self.fc2 = nn.Linear(256, 10)\n",
    "        self.softmax = nn.Softmax(dim=1)\n",
    "\n",
    "    def forward(self, x):\n",
    "        x = self.conv1(x)\n",
    "        x = self.gn1(x)\n",
    "        x = self.elu1(x)\n",
    "        x = self.conv2(x)\n",
    "        x = self.gn2(x)\n",
    "        x = self.elu2(x)\n",
    "        x = self.maxpool1(x)\n",
    "        \n",
    "        x = self.resblock1(x)\n",
    "        x = self.conv3(x)\n",
    "        x = self.gn3(x)\n",
    "        x = self.elu3(x)\n",
    "        x = self.maxpool2(x)\n",
    "        \n",
    "        x = self.conv4(x)\n",
    "        x = self.gn4(x)\n",
    "        x = self.elu4(x)\n",
    "        x = self.maxpool3(x)\n",
    "        x = self.resblock2(x)\n",
    "        x = self.avgpool(x)\n",
    "        x = self.flatten(x)\n",
    "        x = self.fc1(x)\n",
    "        x = self.fc2(x)\n",
    "        x = self.softmax(x)\n",
    "        return x\n",
    "    "
   ]
  },
  {
   "cell_type": "code",
   "execution_count": 5,
   "metadata": {
    "id": "6kKwYvvhhhNQ",
    "tags": []
   },
   "outputs": [],
   "source": [
    "# Data augmentation and normalization\n",
    "transform_train = transforms.Compose([\n",
    "    transforms.ToTensor(),\n",
    "    transforms.Normalize((0.5, 0.5, 0.5), (0.5, 0.5, 0.5))\n",
    "])\n",
    "\n",
    "\n",
    "transform_test = transforms.Compose([\n",
    "    transforms.ToTensor(),\n",
    "    transforms.Normalize((0.5, 0.5, 0.5), (0.5, 0.5, 0.5))\n",
    "])"
   ]
  },
  {
   "cell_type": "code",
   "execution_count": 6,
   "metadata": {
    "colab": {
     "base_uri": "https://localhost:8080/"
    },
    "id": "lneeXtXehoLZ",
    "outputId": "4526402a-644d-4493-923e-830495c2adbb",
    "tags": []
   },
   "outputs": [
    {
     "name": "stdout",
     "output_type": "stream",
     "text": [
      "Files already downloaded and verified\n",
      "Files already downloaded and verified\n"
     ]
    }
   ],
   "source": [
    "# Load CIFAR-10 dataset\n",
    "train_dataset = datasets.CIFAR10(root='./data', train=True, download=True, transform=transform_train)\n",
    "test_dataset = datasets.CIFAR10(root='./data', train=False, download=True, transform=transform_test)\n",
    "\n",
    "# Splitting train dataset into train and validation sets\n",
    "train_size = int(0.9 * len(train_dataset))\n",
    "val_size = len(train_dataset) - train_size\n",
    "train_dataset, val_dataset = random_split(train_dataset, [train_size, val_size])\n",
    "\n",
    "\n",
    "# Further split train_dataset into train_loader_dataset and 20% balanced subset\n",
    "train_loader_dataset, _ = train_test_split(train_dataset.dataset, train_size=int(0.15 * len(train_dataset)),\n",
    "                                           test_size=None, shuffle=True, stratify=train_dataset.dataset.targets)\n",
    "\n",
    "# Data loaders\n",
    "train_loader = DataLoader(train_loader_dataset, batch_size=256, shuffle=True)\n",
    "val_loader = DataLoader(val_dataset, batch_size=256, shuffle=False)\n",
    "test_loader = DataLoader(test_dataset, batch_size=256, shuffle=False)"
   ]
  },
  {
   "cell_type": "code",
   "execution_count": 7,
   "metadata": {
    "colab": {
     "base_uri": "https://localhost:8080/"
    },
    "id": "WFG4opk2eWf5",
    "outputId": "d817a8a2-c740-40e3-d735-83623355e512",
    "tags": []
   },
   "outputs": [
    {
     "data": {
      "text/plain": [
       "CustomResNet_GN(\n",
       "  (conv1): Conv2d(3, 32, kernel_size=(3, 3), stride=(1, 1), padding=(1, 1))\n",
       "  (gn1): GroupNorm(32, 32, eps=1e-05, affine=True)\n",
       "  (elu1): ELU(alpha=1.0)\n",
       "  (conv2): Conv2d(32, 64, kernel_size=(3, 3), stride=(1, 1), padding=(1, 1))\n",
       "  (gn2): GroupNorm(32, 64, eps=1e-05, affine=True)\n",
       "  (elu2): ELU(alpha=1.0)\n",
       "  (maxpool1): MaxPool2d(kernel_size=2, stride=2, padding=0, dilation=1, ceil_mode=False)\n",
       "  (resblock1): CustomResNetBlock(\n",
       "    (conv1): Conv2d(64, 64, kernel_size=(3, 3), stride=(1, 1), padding=(1, 1))\n",
       "    (gn1): GroupNorm(32, 64, eps=1e-05, affine=True)\n",
       "    (elu): ELU(alpha=1.0)\n",
       "    (conv2): Conv2d(64, 64, kernel_size=(3, 3), stride=(1, 1), padding=(1, 1))\n",
       "    (gn2): GroupNorm(32, 64, eps=1e-05, affine=True)\n",
       "  )\n",
       "  (conv3): Conv2d(64, 128, kernel_size=(3, 3), stride=(1, 1), padding=(1, 1))\n",
       "  (gn3): GroupNorm(32, 128, eps=1e-05, affine=True)\n",
       "  (elu3): ELU(alpha=1.0)\n",
       "  (maxpool2): MaxPool2d(kernel_size=2, stride=2, padding=0, dilation=1, ceil_mode=False)\n",
       "  (conv4): Conv2d(128, 256, kernel_size=(3, 3), stride=(1, 1), padding=(1, 1))\n",
       "  (maxpool3): MaxPool2d(kernel_size=2, stride=2, padding=0, dilation=1, ceil_mode=False)\n",
       "  (gn4): GroupNorm(32, 256, eps=1e-05, affine=True)\n",
       "  (elu4): ELU(alpha=1.0)\n",
       "  (resblock2): CustomResNetBlock(\n",
       "    (conv1): Conv2d(256, 256, kernel_size=(3, 3), stride=(1, 1), padding=(1, 1))\n",
       "    (gn1): GroupNorm(32, 256, eps=1e-05, affine=True)\n",
       "    (elu): ELU(alpha=1.0)\n",
       "    (conv2): Conv2d(256, 256, kernel_size=(3, 3), stride=(1, 1), padding=(1, 1))\n",
       "    (gn2): GroupNorm(32, 256, eps=1e-05, affine=True)\n",
       "  )\n",
       "  (avgpool): AvgPool2d(kernel_size=3, stride=2, padding=0)\n",
       "  (flatten): Flatten(start_dim=1, end_dim=-1)\n",
       "  (fc1): Linear(in_features=256, out_features=256, bias=True)\n",
       "  (fc2): Linear(in_features=256, out_features=10, bias=True)\n",
       "  (softmax): Softmax(dim=1)\n",
       ")"
      ]
     },
     "execution_count": 7,
     "metadata": {},
     "output_type": "execute_result"
    }
   ],
   "source": [
    "# Instantiate and load the model\n",
    "model = CustomResNet_GN()  # Make sure CustomResNet is defined as earlier\n",
    "model.load_state_dict(torch.load('best_custom_resnet_weights_GN.pth'))\n",
    "model.to('cuda:1' if torch.cuda.is_available() else 'cpu')\n",
    "model.eval()"
   ]
  },
  {
   "cell_type": "code",
   "execution_count": 8,
   "metadata": {
    "id": "PA5qBhO5gJYQ",
    "tags": []
   },
   "outputs": [],
   "source": [
    "# Prepare storage for outputs and labels\n",
    "features_per_layer = {}\n",
    "labels_list = []\n",
    "\n",
    "# Define layers to exclude\n",
    "exclude_layers = {''}\n",
    "\n",
    "# Function to attach hooks\n",
    "def get_layer_outputs(layer_name):\n",
    "    def hook(module, input, output):\n",
    "        features_per_layer[layer_name].append(output.detach())\n",
    "    return hook\n",
    "\n",
    "# Attach hooks to each layer except the excluded ones\n",
    "for name, layer in model.named_children():\n",
    "    if name not in exclude_layers:\n",
    "        features_per_layer[name] = []\n",
    "        layer.register_forward_hook(get_layer_outputs(name))"
   ]
  },
  {
   "cell_type": "markdown",
   "metadata": {
    "jp-MarkdownHeadingCollapsed": true,
    "tags": []
   },
   "source": [
    "## SI and CenterSI layer for Train Loader"
   ]
  },
  {
   "cell_type": "code",
   "execution_count": 10,
   "metadata": {},
   "outputs": [
    {
     "name": "stderr",
     "output_type": "stream",
     "text": [
      "100%|██████████| 40/40 [00:01<00:00, 26.07it/s]\n"
     ]
    }
   ],
   "source": [
    "# Pass data through the model and collect layer outputs\n",
    "with torch.no_grad():\n",
    "    for inputs, targets in tqdm(test_loader):\n",
    "        inputs = inputs.to('cuda:1' if torch.cuda.is_available() else 'cpu')\n",
    "\n",
    "        # Trigger the hooks and collect layer outputs\n",
    "        model(inputs)\n",
    "        labels_list.append(targets.cpu())\n",
    "\n",
    "        # Clear CUDA cache after processing each batch\n",
    "        if torch.cuda.is_available():\n",
    "            torch.cuda.empty_cache()\n",
    "\n",
    "# Post-process the data: Flatten and concatenate\n",
    "for layer_name, layer_features in features_per_layer.items():\n",
    "    if layer_features:  # Check if layer_features is not empty\n",
    "        # Flatten and concatenate the features for each layer\n",
    "        features_per_layer[layer_name] = torch.cat([f.view(f.size(0), -1) for f in layer_features])\n",
    "    else:\n",
    "        print(f\"No features captured for layer {layer_name}\")\n",
    "\n",
    "# Concatenate the labels\n",
    "labels = torch.cat(labels_list)"
   ]
  },
  {
   "cell_type": "markdown",
   "metadata": {},
   "source": [
    "### Calc SI"
   ]
  },
  {
   "cell_type": "code",
   "execution_count": 11,
   "metadata": {},
   "outputs": [
    {
     "name": "stdout",
     "output_type": "stream",
     "text": [
      "Data has been normalized\n"
     ]
    },
    {
     "name": "stderr",
     "output_type": "stream",
     "text": [
      "Calculating SI: 100%|██████████| 5/5 [00:00<00:00, 365.58it/s]\n"
     ]
    },
    {
     "name": "stdout",
     "output_type": "stream",
     "text": [
      "Data has been normalized\n"
     ]
    },
    {
     "name": "stderr",
     "output_type": "stream",
     "text": [
      "Calculating SI: 100%|██████████| 5/5 [00:00<00:00, 7468.49it/s]\n"
     ]
    },
    {
     "name": "stdout",
     "output_type": "stream",
     "text": [
      "Data has been normalized\n"
     ]
    },
    {
     "name": "stderr",
     "output_type": "stream",
     "text": [
      "Calculating SI: 100%|██████████| 5/5 [00:00<00:00, 7113.81it/s]\n"
     ]
    },
    {
     "name": "stdout",
     "output_type": "stream",
     "text": [
      "Data has been normalized\n"
     ]
    },
    {
     "name": "stderr",
     "output_type": "stream",
     "text": [
      "Calculating SI: 100%|██████████| 5/5 [00:00<00:00, 7620.47it/s]\n"
     ]
    },
    {
     "name": "stdout",
     "output_type": "stream",
     "text": [
      "Data has been normalized\n"
     ]
    },
    {
     "name": "stderr",
     "output_type": "stream",
     "text": [
      "Calculating SI: 100%|██████████| 5/5 [00:00<00:00, 7901.85it/s]\n"
     ]
    },
    {
     "name": "stdout",
     "output_type": "stream",
     "text": [
      "Data has been normalized\n"
     ]
    },
    {
     "name": "stderr",
     "output_type": "stream",
     "text": [
      "Calculating SI: 100%|██████████| 5/5 [00:00<00:00, 7961.85it/s]\n"
     ]
    },
    {
     "name": "stdout",
     "output_type": "stream",
     "text": [
      "Data has been normalized\n"
     ]
    },
    {
     "name": "stderr",
     "output_type": "stream",
     "text": [
      "Calculating SI: 100%|██████████| 5/5 [00:00<00:00, 6848.96it/s]\n"
     ]
    },
    {
     "name": "stdout",
     "output_type": "stream",
     "text": [
      "Data has been normalized\n"
     ]
    },
    {
     "name": "stderr",
     "output_type": "stream",
     "text": [
      "Calculating SI: 100%|██████████| 5/5 [00:00<00:00, 7551.86it/s]\n"
     ]
    },
    {
     "name": "stdout",
     "output_type": "stream",
     "text": [
      "Data has been normalized\n"
     ]
    },
    {
     "name": "stderr",
     "output_type": "stream",
     "text": [
      "Calculating SI: 100%|██████████| 5/5 [00:00<00:00, 7573.68it/s]\n"
     ]
    },
    {
     "name": "stdout",
     "output_type": "stream",
     "text": [
      "Data has been normalized\n"
     ]
    },
    {
     "name": "stderr",
     "output_type": "stream",
     "text": [
      "Calculating SI: 100%|██████████| 5/5 [00:00<00:00, 7796.10it/s]\n"
     ]
    },
    {
     "name": "stdout",
     "output_type": "stream",
     "text": [
      "Data has been normalized\n"
     ]
    },
    {
     "name": "stderr",
     "output_type": "stream",
     "text": [
      "Calculating SI: 100%|██████████| 5/5 [00:00<00:00, 8172.84it/s]\n"
     ]
    },
    {
     "name": "stdout",
     "output_type": "stream",
     "text": [
      "Data has been normalized\n"
     ]
    },
    {
     "name": "stderr",
     "output_type": "stream",
     "text": [
      "Calculating SI: 100%|██████████| 5/5 [00:00<00:00, 7967.90it/s]\n"
     ]
    },
    {
     "name": "stdout",
     "output_type": "stream",
     "text": [
      "Data has been normalized\n"
     ]
    },
    {
     "name": "stderr",
     "output_type": "stream",
     "text": [
      "Calculating SI: 100%|██████████| 5/5 [00:00<00:00, 7468.49it/s]\n"
     ]
    },
    {
     "name": "stdout",
     "output_type": "stream",
     "text": [
      "Data has been normalized\n"
     ]
    },
    {
     "name": "stderr",
     "output_type": "stream",
     "text": [
      "Calculating SI: 100%|██████████| 5/5 [00:00<00:00, 6760.64it/s]\n"
     ]
    },
    {
     "name": "stdout",
     "output_type": "stream",
     "text": [
      "Data has been normalized\n"
     ]
    },
    {
     "name": "stderr",
     "output_type": "stream",
     "text": [
      "Calculating SI: 100%|██████████| 5/5 [00:00<00:00, 7441.99it/s]\n"
     ]
    },
    {
     "name": "stdout",
     "output_type": "stream",
     "text": [
      "Data has been normalized\n"
     ]
    },
    {
     "name": "stderr",
     "output_type": "stream",
     "text": [
      "Calculating SI: 100%|██████████| 5/5 [00:00<00:00, 7259.09it/s]\n"
     ]
    },
    {
     "name": "stdout",
     "output_type": "stream",
     "text": [
      "Data has been normalized\n"
     ]
    },
    {
     "name": "stderr",
     "output_type": "stream",
     "text": [
      "Calculating SI: 100%|██████████| 5/5 [00:00<00:00, 7259.09it/s]\n"
     ]
    },
    {
     "name": "stdout",
     "output_type": "stream",
     "text": [
      "Data has been normalized\n"
     ]
    },
    {
     "name": "stderr",
     "output_type": "stream",
     "text": [
      "Calculating SI: 100%|██████████| 5/5 [00:00<00:00, 7135.60it/s]\n"
     ]
    },
    {
     "name": "stdout",
     "output_type": "stream",
     "text": [
      "Data has been normalized\n"
     ]
    },
    {
     "name": "stderr",
     "output_type": "stream",
     "text": [
      "Calculating SI: 100%|██████████| 5/5 [00:00<00:00, 6200.92it/s]\n"
     ]
    },
    {
     "name": "stdout",
     "output_type": "stream",
     "text": [
      "Data has been normalized\n"
     ]
    },
    {
     "name": "stderr",
     "output_type": "stream",
     "text": [
      "Calculating SI: 100%|██████████| 5/5 [00:00<00:00, 7304.60it/s]\n"
     ]
    },
    {
     "name": "stdout",
     "output_type": "stream",
     "text": [
      "Data has been normalized\n"
     ]
    },
    {
     "name": "stderr",
     "output_type": "stream",
     "text": [
      "Calculating SI: 100%|██████████| 5/5 [00:00<00:00, 8019.70it/s]\n"
     ]
    },
    {
     "name": "stdout",
     "output_type": "stream",
     "text": [
      "Data has been normalized\n"
     ]
    },
    {
     "name": "stderr",
     "output_type": "stream",
     "text": [
      "Calculating SI: 100%|██████████| 5/5 [00:00<00:00, 7568.21it/s]\n"
     ]
    }
   ],
   "source": [
    "si_layer_train = []\n",
    "\n",
    "# Iterate through each layer's features in the dictionary\n",
    "for layer_name, features in features_per_layer.items():\n",
    "    instance_disturbance = ARH_SeparationIndex(features, labels, normalize=True)\n",
    "    si = instance_disturbance.si_batch(batch_size=2000)\n",
    "    si_layer_train.append((layer_name, si))"
   ]
  },
  {
   "cell_type": "code",
   "execution_count": 12,
   "metadata": {},
   "outputs": [
    {
     "data": {
      "text/plain": [
       "[('conv1', 0.24329999089241028),\n",
       " ('gn1', 0.36629998683929443),\n",
       " ('elu1', 0.3723999857902527),\n",
       " ('conv2', 0.34109997749328613),\n",
       " ('gn2', 0.40849998593330383),\n",
       " ('elu2', 0.4075999855995178),\n",
       " ('maxpool1', 0.49939998984336853),\n",
       " ('resblock1', 0.5845999717712402),\n",
       " ('conv3', 0.6193000078201294),\n",
       " ('gn3', 0.6291999816894531),\n",
       " ('elu3', 0.6287999749183655),\n",
       " ('maxpool2', 0.6484999656677246),\n",
       " ('conv4', 0.6733999848365784),\n",
       " ('maxpool3', 0.6931999921798706),\n",
       " ('gn4', 0.6759999990463257),\n",
       " ('elu4', 0.6782000064849854),\n",
       " ('resblock2', 0.7906999588012695),\n",
       " ('avgpool', 0.7879999876022339),\n",
       " ('flatten', 0.7879999876022339),\n",
       " ('fc1', 0.7797999978065491),\n",
       " ('fc2', 0.7760999798774719),\n",
       " ('softmax', 0.7576000094413757)]"
      ]
     },
     "execution_count": 12,
     "metadata": {},
     "output_type": "execute_result"
    }
   ],
   "source": [
    "si_layer_train"
   ]
  },
  {
   "cell_type": "code",
   "execution_count": 13,
   "metadata": {},
   "outputs": [
    {
     "data": {
      "image/png": "[encoded data removed]",
      "text/plain": [
       "<Figure size 640x480 with 1 Axes>"
      ]
     },
     "metadata": {},
     "output_type": "display_data"
    }
   ],
   "source": [
    "# Plotting SI versus layer using a line plot\n",
    "plt.plot([layer for layer, _ in si_layer_train], [si for _, si in si_layer_train])\n",
    "plt.xlabel('Layer')\n",
    "plt.ylabel('SI')\n",
    "plt.title('Separation Index (SI) vs Layer - Train - GN')\n",
    "plt.xticks(rotation=45)\n",
    "plt.grid(True)\n",
    "plt.show()"
   ]
  },
  {
   "cell_type": "markdown",
   "metadata": {},
   "source": [
    "### Calc Center Si"
   ]
  },
  {
   "cell_type": "code",
   "execution_count": 14,
   "metadata": {},
   "outputs": [
    {
     "name": "stdout",
     "output_type": "stream",
     "text": [
      "Data has been normalized\n"
     ]
    },
    {
     "name": "stderr",
     "output_type": "stream",
     "text": [
      "Calculating CSI: 100%|██████████| 5/5 [00:00<00:00, 919.52it/s]\n"
     ]
    },
    {
     "name": "stdout",
     "output_type": "stream",
     "text": [
      "Data has been normalized\n"
     ]
    },
    {
     "name": "stderr",
     "output_type": "stream",
     "text": [
      "Calculating CSI: 100%|██████████| 5/5 [00:00<00:00, 4585.94it/s]\n"
     ]
    },
    {
     "name": "stdout",
     "output_type": "stream",
     "text": [
      "Data has been normalized\n"
     ]
    },
    {
     "name": "stderr",
     "output_type": "stream",
     "text": [
      "Calculating CSI: 100%|██████████| 5/5 [00:00<00:00, 4709.53it/s]\n"
     ]
    },
    {
     "name": "stdout",
     "output_type": "stream",
     "text": [
      "Data has been normalized\n"
     ]
    },
    {
     "name": "stderr",
     "output_type": "stream",
     "text": [
      "Calculating CSI: 100%|██████████| 5/5 [00:00<00:00, 4186.77it/s]\n"
     ]
    },
    {
     "name": "stdout",
     "output_type": "stream",
     "text": [
      "Data has been normalized\n"
     ]
    },
    {
     "name": "stderr",
     "output_type": "stream",
     "text": [
      "Calculating CSI: 100%|██████████| 5/5 [00:00<00:00, 4458.23it/s]\n"
     ]
    },
    {
     "name": "stdout",
     "output_type": "stream",
     "text": [
      "Data has been normalized\n"
     ]
    },
    {
     "name": "stderr",
     "output_type": "stream",
     "text": [
      "Calculating CSI: 100%|██████████| 5/5 [00:00<00:00, 4330.27it/s]\n"
     ]
    },
    {
     "name": "stdout",
     "output_type": "stream",
     "text": [
      "Data has been normalized\n"
     ]
    },
    {
     "name": "stderr",
     "output_type": "stream",
     "text": [
      "Calculating CSI: 100%|██████████| 5/5 [00:00<00:00, 3080.88it/s]\n"
     ]
    },
    {
     "name": "stdout",
     "output_type": "stream",
     "text": [
      "Data has been normalized\n"
     ]
    },
    {
     "name": "stderr",
     "output_type": "stream",
     "text": [
      "Calculating CSI: 100%|██████████| 5/5 [00:00<00:00, 3448.70it/s]\n"
     ]
    },
    {
     "name": "stdout",
     "output_type": "stream",
     "text": [
      "Data has been normalized\n"
     ]
    },
    {
     "name": "stderr",
     "output_type": "stream",
     "text": [
      "Calculating CSI: 100%|██████████| 5/5 [00:00<00:00, 4423.44it/s]\n"
     ]
    },
    {
     "name": "stdout",
     "output_type": "stream",
     "text": [
      "Data has been normalized\n"
     ]
    },
    {
     "name": "stderr",
     "output_type": "stream",
     "text": [
      "Calculating CSI: 100%|██████████| 5/5 [00:00<00:00, 4411.34it/s]\n"
     ]
    },
    {
     "name": "stdout",
     "output_type": "stream",
     "text": [
      "Data has been normalized\n"
     ]
    },
    {
     "name": "stderr",
     "output_type": "stream",
     "text": [
      "Calculating CSI: 100%|██████████| 5/5 [00:00<00:00, 4614.20it/s]\n"
     ]
    },
    {
     "name": "stdout",
     "output_type": "stream",
     "text": [
      "Data has been normalized\n"
     ]
    },
    {
     "name": "stderr",
     "output_type": "stream",
     "text": [
      "Calculating CSI: 100%|██████████| 5/5 [00:00<00:00, 4278.16it/s]\n"
     ]
    },
    {
     "name": "stdout",
     "output_type": "stream",
     "text": [
      "Data has been normalized\n"
     ]
    },
    {
     "name": "stderr",
     "output_type": "stream",
     "text": [
      "Calculating CSI: 100%|██████████| 5/5 [00:00<00:00, 3620.77it/s]\n"
     ]
    },
    {
     "name": "stdout",
     "output_type": "stream",
     "text": [
      "Data has been normalized\n"
     ]
    },
    {
     "name": "stderr",
     "output_type": "stream",
     "text": [
      "Calculating CSI: 100%|██████████| 5/5 [00:00<00:00, 4068.98it/s]\n"
     ]
    },
    {
     "name": "stdout",
     "output_type": "stream",
     "text": [
      "Data has been normalized\n"
     ]
    },
    {
     "name": "stderr",
     "output_type": "stream",
     "text": [
      "Calculating CSI: 100%|██████████| 5/5 [00:00<00:00, 3315.13it/s]\n"
     ]
    },
    {
     "name": "stdout",
     "output_type": "stream",
     "text": [
      "Data has been normalized\n"
     ]
    },
    {
     "name": "stderr",
     "output_type": "stream",
     "text": [
      "Calculating CSI: 100%|██████████| 5/5 [00:00<00:00, 3304.68it/s]\n"
     ]
    },
    {
     "name": "stdout",
     "output_type": "stream",
     "text": [
      "Data has been normalized\n"
     ]
    },
    {
     "name": "stderr",
     "output_type": "stream",
     "text": [
      "Calculating CSI: 100%|██████████| 5/5 [00:00<00:00, 4497.43it/s]\n"
     ]
    },
    {
     "name": "stdout",
     "output_type": "stream",
     "text": [
      "Data has been normalized\n"
     ]
    },
    {
     "name": "stderr",
     "output_type": "stream",
     "text": [
      "Calculating CSI: 100%|██████████| 5/5 [00:00<00:00, 4304.50it/s]\n"
     ]
    },
    {
     "name": "stdout",
     "output_type": "stream",
     "text": [
      "Data has been normalized\n"
     ]
    },
    {
     "name": "stderr",
     "output_type": "stream",
     "text": [
      "Calculating CSI: 100%|██████████| 5/5 [00:00<00:00, 4372.71it/s]\n"
     ]
    },
    {
     "name": "stdout",
     "output_type": "stream",
     "text": [
      "Data has been normalized\n"
     ]
    },
    {
     "name": "stderr",
     "output_type": "stream",
     "text": [
      "Calculating CSI: 100%|██████████| 5/5 [00:00<00:00, 4563.99it/s]\n"
     ]
    },
    {
     "name": "stdout",
     "output_type": "stream",
     "text": [
      "Data has been normalized\n"
     ]
    },
    {
     "name": "stderr",
     "output_type": "stream",
     "text": [
      "Calculating CSI: 100%|██████████| 5/5 [00:00<00:00, 4737.19it/s]\n"
     ]
    },
    {
     "name": "stdout",
     "output_type": "stream",
     "text": [
      "Data has been normalized\n"
     ]
    },
    {
     "name": "stderr",
     "output_type": "stream",
     "text": [
      "Calculating CSI: 100%|██████████| 5/5 [00:00<00:00, 4470.59it/s]\n"
     ]
    }
   ],
   "source": [
    "csi_layer_train = []\n",
    "\n",
    "# Iterate through each layer's features in the dictionary\n",
    "for layer_name, features in features_per_layer.items():\n",
    "    instance_disturbance = ARH_SeparationIndex(features, labels, normalize=True)\n",
    "    csi = instance_disturbance.center_si_batch(batch_size=2000)\n",
    "    csi_layer_train.append((layer_name, csi))"
   ]
  },
  {
   "cell_type": "code",
   "execution_count": 15,
   "metadata": {},
   "outputs": [
    {
     "name": "stdout",
     "output_type": "stream",
     "text": [
      "[('conv1', 0.34279999136924744), ('gn1', 0.3698999881744385), ('elu1', 0.3790999948978424), ('conv2', 0.4074999988079071), ('gn2', 0.41269999742507935), ('elu2', 0.4274999797344208), ('maxpool1', 0.4908999800682068), ('resblock1', 0.5773000121116638), ('conv3', 0.6024999618530273), ('gn3', 0.6060000061988831), ('elu3', 0.6133999824523926), ('maxpool2', 0.6263999938964844), ('conv4', 0.6448000073432922), ('maxpool3', 0.6796000003814697), ('gn4', 0.6468999981880188), ('elu4', 0.6556999683380127), ('resblock2', 0.814799964427948), ('avgpool', 0.8394999504089355), ('flatten', 0.8394999504089355), ('fc1', 0.8425999879837036), ('fc2', 0.8246999979019165), ('softmax', 0.848800003528595)]\n"
     ]
    },
    {
     "data": {
      "image/png": "[encoded data removed]",
      "text/plain": [
       "<Figure size 640x480 with 1 Axes>"
      ]
     },
     "metadata": {},
     "output_type": "display_data"
    }
   ],
   "source": [
    "print(csi_layer_train)\n",
    "\n",
    "\n",
    "# Plotting SI versus layer using a line plot\n",
    "plt.plot([layer for layer, _ in csi_layer_train], [si for _, si in csi_layer_train])\n",
    "plt.xlabel('Layer')\n",
    "plt.ylabel('SI')\n",
    "plt.title('Center Separation Index (CSI) vs Layer - Train - GN')\n",
    "plt.xticks(rotation=45)\n",
    "plt.grid(True)\n",
    "plt.show()"
   ]
  },
  {
   "cell_type": "markdown",
   "metadata": {
    "id": "HhIUjcIHghek",
    "jp-MarkdownHeadingCollapsed": true,
    "tags": []
   },
   "source": [
    "## SI and CenterSI layer for Val Loader"
   ]
  },
  {
   "cell_type": "code",
   "execution_count": 8,
   "metadata": {
    "colab": {
     "base_uri": "https://localhost:8080/",
     "height": 462
    },
    "id": "1UOKD6TAgMzC",
    "outputId": "4cbf6701-ba3b-44d7-cd10-eb5253bf8f41",
    "tags": []
   },
   "outputs": [
    {
     "name": "stderr",
     "output_type": "stream",
     "text": [
      "100%|██████████| 20/20 [00:00<00:00, 20.76it/s]\n"
     ]
    }
   ],
   "source": [
    "# Pass data through the model and collect layer outputs\n",
    "with torch.no_grad():\n",
    "    for inputs, targets in tqdm(val_loader): \n",
    "        inputs = inputs.to('cuda:1' if torch.cuda.is_available() else 'cpu')\n",
    "\n",
    "        # Trigger the hooks and collect layer outputs\n",
    "        model(inputs)\n",
    "        labels_list.append(targets.cpu())\n",
    "\n",
    "        # Clear CUDA cache after processing each batch\n",
    "        if torch.cuda.is_available():\n",
    "            torch.cuda.empty_cache()\n",
    "\n",
    "# Post-process the data: Flatten and concatenate\n",
    "for layer_name, layer_features in features_per_layer.items():\n",
    "    if layer_features:  # Check if layer_features is not empty\n",
    "        # Flatten and concatenate the features for each layer\n",
    "        features_per_layer[layer_name] = torch.cat([f.view(f.size(0), -1) for f in layer_features])\n",
    "    else:\n",
    "        print(f\"No features captured for layer {layer_name}\")\n",
    "\n",
    "# Concatenate the labels\n",
    "labels = torch.cat(labels_list)"
   ]
  },
  {
   "cell_type": "markdown",
   "metadata": {},
   "source": [
    "### Calc SI"
   ]
  },
  {
   "cell_type": "code",
   "execution_count": 9,
   "metadata": {
    "id": "IvZxHioygQI6",
    "tags": []
   },
   "outputs": [
    {
     "name": "stdout",
     "output_type": "stream",
     "text": [
      "Data has been normalized\n"
     ]
    },
    {
     "name": "stderr",
     "output_type": "stream",
     "text": [
      "Calculating SI: 100%|██████████| 3/3 [00:00<00:00, 218.19it/s]\n"
     ]
    },
    {
     "name": "stdout",
     "output_type": "stream",
     "text": [
      "Data has been normalized\n"
     ]
    },
    {
     "name": "stderr",
     "output_type": "stream",
     "text": [
      "Calculating SI: 100%|██████████| 3/3 [00:00<00:00, 4852.65it/s]\n"
     ]
    },
    {
     "name": "stdout",
     "output_type": "stream",
     "text": [
      "Data has been normalized\n"
     ]
    },
    {
     "name": "stderr",
     "output_type": "stream",
     "text": [
      "Calculating SI: 100%|██████████| 3/3 [00:00<00:00, 5084.00it/s]\n"
     ]
    },
    {
     "name": "stdout",
     "output_type": "stream",
     "text": [
      "Data has been normalized\n"
     ]
    },
    {
     "name": "stderr",
     "output_type": "stream",
     "text": [
      "Calculating SI: 100%|██████████| 3/3 [00:00<00:00, 5236.33it/s]\n"
     ]
    },
    {
     "name": "stdout",
     "output_type": "stream",
     "text": [
      "Data has been normalized\n"
     ]
    },
    {
     "name": "stderr",
     "output_type": "stream",
     "text": [
      "Calculating SI: 100%|██████████| 3/3 [00:00<00:00, 5049.32it/s]\n"
     ]
    },
    {
     "name": "stdout",
     "output_type": "stream",
     "text": [
      "Data has been normalized\n"
     ]
    },
    {
     "name": "stderr",
     "output_type": "stream",
     "text": [
      "Calculating SI: 100%|██████████| 3/3 [00:00<00:00, 5047.30it/s]\n"
     ]
    },
    {
     "name": "stdout",
     "output_type": "stream",
     "text": [
      "Data has been normalized\n"
     ]
    },
    {
     "name": "stderr",
     "output_type": "stream",
     "text": [
      "Calculating SI: 100%|██████████| 3/3 [00:00<00:00, 5021.11it/s]"
     ]
    },
    {
     "name": "stdout",
     "output_type": "stream",
     "text": [
      "Data has been normalized\n"
     ]
    },
    {
     "name": "stderr",
     "output_type": "stream",
     "text": [
      "\n",
      "Calculating SI: 100%|██████████| 3/3 [00:00<00:00, 5280.28it/s]\n"
     ]
    },
    {
     "name": "stdout",
     "output_type": "stream",
     "text": [
      "Data has been normalized\n"
     ]
    },
    {
     "name": "stderr",
     "output_type": "stream",
     "text": [
      "Calculating SI: 100%|██████████| 3/3 [00:00<00:00, 5497.12it/s]\n"
     ]
    },
    {
     "name": "stdout",
     "output_type": "stream",
     "text": [
      "Data has been normalized\n"
     ]
    },
    {
     "name": "stderr",
     "output_type": "stream",
     "text": [
      "Calculating SI: 100%|██████████| 3/3 [00:00<00:00, 4999.17it/s]\n"
     ]
    },
    {
     "name": "stdout",
     "output_type": "stream",
     "text": [
      "Data has been normalized\n"
     ]
    },
    {
     "name": "stderr",
     "output_type": "stream",
     "text": [
      "Calculating SI: 100%|██████████| 3/3 [00:00<00:00, 5102.56it/s]"
     ]
    },
    {
     "name": "stdout",
     "output_type": "stream",
     "text": [
      "Data has been normalized\n"
     ]
    },
    {
     "name": "stderr",
     "output_type": "stream",
     "text": [
      "\n",
      "Calculating SI: 100%|██████████| 3/3 [00:00<00:00, 4309.22it/s]\n"
     ]
    },
    {
     "name": "stdout",
     "output_type": "stream",
     "text": [
      "Data has been normalized\n"
     ]
    },
    {
     "name": "stderr",
     "output_type": "stream",
     "text": [
      "Calculating SI: 100%|██████████| 3/3 [00:00<00:00, 5182.42it/s]\n"
     ]
    },
    {
     "name": "stdout",
     "output_type": "stream",
     "text": [
      "Data has been normalized\n"
     ]
    },
    {
     "name": "stderr",
     "output_type": "stream",
     "text": [
      "Calculating SI: 100%|██████████| 3/3 [00:00<00:00, 4926.75it/s]"
     ]
    },
    {
     "name": "stdout",
     "output_type": "stream",
     "text": [
      "Data has been normalized\n"
     ]
    },
    {
     "name": "stderr",
     "output_type": "stream",
     "text": [
      "\n",
      "Calculating SI: 100%|██████████| 3/3 [00:00<00:00, 5291.38it/s]\n"
     ]
    },
    {
     "name": "stdout",
     "output_type": "stream",
     "text": [
      "Data has been normalized\n"
     ]
    },
    {
     "name": "stderr",
     "output_type": "stream",
     "text": [
      "Calculating SI: 100%|██████████| 3/3 [00:00<00:00, 5110.85it/s]\n"
     ]
    },
    {
     "name": "stdout",
     "output_type": "stream",
     "text": [
      "Data has been normalized\n"
     ]
    },
    {
     "name": "stderr",
     "output_type": "stream",
     "text": [
      "Calculating SI: 100%|██████████| 3/3 [00:00<00:00, 5216.80it/s]\n"
     ]
    },
    {
     "name": "stdout",
     "output_type": "stream",
     "text": [
      "Data has been normalized\n"
     ]
    },
    {
     "name": "stderr",
     "output_type": "stream",
     "text": [
      "Calculating SI: 100%|██████████| 3/3 [00:00<00:00, 4979.39it/s]\n"
     ]
    },
    {
     "name": "stdout",
     "output_type": "stream",
     "text": [
      "Data has been normalized\n"
     ]
    },
    {
     "name": "stderr",
     "output_type": "stream",
     "text": [
      "Calculating SI: 100%|██████████| 3/3 [00:00<00:00, 4946.11it/s]\n"
     ]
    },
    {
     "name": "stdout",
     "output_type": "stream",
     "text": [
      "Data has been normalized\n"
     ]
    },
    {
     "name": "stderr",
     "output_type": "stream",
     "text": [
      "Calculating SI: 100%|██████████| 3/3 [00:00<00:00, 5345.33it/s]\n"
     ]
    },
    {
     "name": "stdout",
     "output_type": "stream",
     "text": [
      "Data has been normalized\n"
     ]
    },
    {
     "name": "stderr",
     "output_type": "stream",
     "text": [
      "Calculating SI: 100%|██████████| 3/3 [00:00<00:00, 5214.63it/s]\n"
     ]
    },
    {
     "name": "stdout",
     "output_type": "stream",
     "text": [
      "Data has been normalized\n"
     ]
    },
    {
     "name": "stderr",
     "output_type": "stream",
     "text": [
      "Calculating SI: 100%|██████████| 3/3 [00:00<00:00, 4852.65it/s]\n"
     ]
    }
   ],
   "source": [
    "si_layer_val = []\n",
    "\n",
    "# Iterate through each layer's features in the dictionary\n",
    "for layer_name, features in features_per_layer.items():\n",
    "    instance_disturbance = ARH_SeparationIndex(features, labels, normalize=True)\n",
    "    si = instance_disturbance.si_batch(batch_size=2000)\n",
    "    si_layer_val.append((layer_name, si))"
   ]
  },
  {
   "cell_type": "code",
   "execution_count": 10,
   "metadata": {
    "tags": []
   },
   "outputs": [
    {
     "data": {
      "text/plain": [
       "[('conv1', 0.2425999939441681),\n",
       " ('gn1', 0.32999998331069946),\n",
       " ('elu1', 0.33820000290870667),\n",
       " ('conv2', 0.3190000057220459),\n",
       " ('gn2', 0.3707999885082245),\n",
       " ('elu2', 0.37439998984336853),\n",
       " ('maxpool1', 0.462799996137619),\n",
       " ('resblock1', 0.5491999983787537),\n",
       " ('conv3', 0.5881999731063843),\n",
       " ('gn3', 0.5931999683380127),\n",
       " ('elu3', 0.5924000144004822),\n",
       " ('maxpool2', 0.6237999796867371),\n",
       " ('conv4', 0.6545999646186829),\n",
       " ('maxpool3', 0.6805999875068665),\n",
       " ('gn4', 0.6599999666213989),\n",
       " ('elu4', 0.6631999611854553),\n",
       " ('resblock2', 0.8169999718666077),\n",
       " ('avgpool', 0.8473999500274658),\n",
       " ('flatten', 0.8473999500274658),\n",
       " ('fc1', 0.8473999500274658),\n",
       " ('fc2', 0.8499999642372131),\n",
       " ('softmax', 0.839199960231781)]"
      ]
     },
     "execution_count": 10,
     "metadata": {},
     "output_type": "execute_result"
    }
   ],
   "source": [
    "si_layer_val"
   ]
  },
  {
   "cell_type": "code",
   "execution_count": 11,
   "metadata": {
    "tags": []
   },
   "outputs": [
    {
     "data": {
      "image/png": "[encoded data removed]",
      "text/plain": [
       "<Figure size 640x480 with 1 Axes>"
      ]
     },
     "metadata": {},
     "output_type": "display_data"
    }
   ],
   "source": [
    "# Plotting SI versus layer using a line plot\n",
    "plt.plot([layer for layer, _ in si_layer_val], [si for _, si in si_layer_val])\n",
    "plt.xlabel('Layer')\n",
    "plt.ylabel('SI')\n",
    "plt.title('Separation Index (SI) vs Layer - val - GN ')\n",
    "plt.xticks(rotation=45)\n",
    "plt.grid(True)\n",
    "plt.show()"
   ]
  },
  {
   "cell_type": "markdown",
   "metadata": {},
   "source": [
    "### calc Center SI"
   ]
  },
  {
   "cell_type": "code",
   "execution_count": 12,
   "metadata": {
    "tags": []
   },
   "outputs": [
    {
     "name": "stdout",
     "output_type": "stream",
     "text": [
      "Data has been normalized\n"
     ]
    },
    {
     "name": "stderr",
     "output_type": "stream",
     "text": [
      "Calculating CSI: 100%|██████████| 3/3 [00:00<00:00, 454.42it/s]\n"
     ]
    },
    {
     "name": "stdout",
     "output_type": "stream",
     "text": [
      "Data has been normalized\n"
     ]
    },
    {
     "name": "stderr",
     "output_type": "stream",
     "text": [
      "Calculating CSI: 100%|██████████| 3/3 [00:00<00:00, 3366.22it/s]\n"
     ]
    },
    {
     "name": "stdout",
     "output_type": "stream",
     "text": [
      "Data has been normalized\n"
     ]
    },
    {
     "name": "stderr",
     "output_type": "stream",
     "text": [
      "Calculating CSI: 100%|██████████| 3/3 [00:00<00:00, 3002.37it/s]\n"
     ]
    },
    {
     "name": "stdout",
     "output_type": "stream",
     "text": [
      "Data has been normalized\n"
     ]
    },
    {
     "name": "stderr",
     "output_type": "stream",
     "text": [
      "Calculating CSI: 100%|██████████| 3/3 [00:00<00:00, 3321.78it/s]\n"
     ]
    },
    {
     "name": "stdout",
     "output_type": "stream",
     "text": [
      "Data has been normalized\n"
     ]
    },
    {
     "name": "stderr",
     "output_type": "stream",
     "text": [
      "Calculating CSI: 100%|██████████| 3/3 [00:00<00:00, 3504.01it/s]\n"
     ]
    },
    {
     "name": "stdout",
     "output_type": "stream",
     "text": [
      "Data has been normalized\n"
     ]
    },
    {
     "name": "stderr",
     "output_type": "stream",
     "text": [
      "Calculating CSI: 100%|██████████| 3/3 [00:00<00:00, 3225.56it/s]\n"
     ]
    },
    {
     "name": "stdout",
     "output_type": "stream",
     "text": [
      "Data has been normalized\n"
     ]
    },
    {
     "name": "stderr",
     "output_type": "stream",
     "text": [
      "Calculating CSI: 100%|██████████| 3/3 [00:00<00:00, 2872.81it/s]"
     ]
    },
    {
     "name": "stdout",
     "output_type": "stream",
     "text": [
      "Data has been normalized\n"
     ]
    },
    {
     "name": "stderr",
     "output_type": "stream",
     "text": [
      "\n",
      "Calculating CSI: 100%|██████████| 3/3 [00:00<00:00, 3109.19it/s]\n"
     ]
    },
    {
     "name": "stdout",
     "output_type": "stream",
     "text": [
      "Data has been normalized\n"
     ]
    },
    {
     "name": "stderr",
     "output_type": "stream",
     "text": [
      "Calculating CSI: 100%|██████████| 3/3 [00:00<00:00, 2946.82it/s]\n"
     ]
    },
    {
     "name": "stdout",
     "output_type": "stream",
     "text": [
      "Data has been normalized\n"
     ]
    },
    {
     "name": "stderr",
     "output_type": "stream",
     "text": [
      "Calculating CSI: 100%|██████████| 3/3 [00:00<00:00, 3126.97it/s]\n"
     ]
    },
    {
     "name": "stdout",
     "output_type": "stream",
     "text": [
      "Data has been normalized\n"
     ]
    },
    {
     "name": "stderr",
     "output_type": "stream",
     "text": [
      "Calculating CSI: 100%|██████████| 3/3 [00:00<00:00, 3185.55it/s]\n"
     ]
    },
    {
     "name": "stdout",
     "output_type": "stream",
     "text": [
      "Data has been normalized\n"
     ]
    },
    {
     "name": "stderr",
     "output_type": "stream",
     "text": [
      "Calculating CSI: 100%|██████████| 3/3 [00:00<00:00, 2925.58it/s]\n"
     ]
    },
    {
     "name": "stdout",
     "output_type": "stream",
     "text": [
      "Data has been normalized\n"
     ]
    },
    {
     "name": "stderr",
     "output_type": "stream",
     "text": [
      "Calculating CSI: 100%|██████████| 3/3 [00:00<00:00, 3207.47it/s]\n"
     ]
    },
    {
     "name": "stdout",
     "output_type": "stream",
     "text": [
      "Data has been normalized\n"
     ]
    },
    {
     "name": "stderr",
     "output_type": "stream",
     "text": [
      "Calculating CSI: 100%|██████████| 3/3 [00:00<00:00, 3100.00it/s]"
     ]
    },
    {
     "name": "stdout",
     "output_type": "stream",
     "text": [
      "Data has been normalized\n"
     ]
    },
    {
     "name": "stderr",
     "output_type": "stream",
     "text": [
      "\n",
      "Calculating CSI: 100%|██████████| 3/3 [00:00<00:00, 2791.24it/s]\n"
     ]
    },
    {
     "name": "stdout",
     "output_type": "stream",
     "text": [
      "Data has been normalized\n"
     ]
    },
    {
     "name": "stderr",
     "output_type": "stream",
     "text": [
      "Calculating CSI: 100%|██████████| 3/3 [00:00<00:00, 3326.17it/s]\n"
     ]
    },
    {
     "name": "stdout",
     "output_type": "stream",
     "text": [
      "Data has been normalized\n"
     ]
    },
    {
     "name": "stderr",
     "output_type": "stream",
     "text": [
      "Calculating CSI: 100%|██████████| 3/3 [00:00<00:00, 3284.50it/s]\n"
     ]
    },
    {
     "name": "stdout",
     "output_type": "stream",
     "text": [
      "Data has been normalized\n"
     ]
    },
    {
     "name": "stderr",
     "output_type": "stream",
     "text": [
      "Calculating CSI: 100%|██████████| 3/3 [00:00<00:00, 1147.87it/s]\n"
     ]
    },
    {
     "name": "stdout",
     "output_type": "stream",
     "text": [
      "Data has been normalized\n"
     ]
    },
    {
     "name": "stderr",
     "output_type": "stream",
     "text": [
      "Calculating CSI: 100%|██████████| 3/3 [00:00<00:00, 2305.83it/s]\n"
     ]
    },
    {
     "name": "stdout",
     "output_type": "stream",
     "text": [
      "Data has been normalized\n"
     ]
    },
    {
     "name": "stderr",
     "output_type": "stream",
     "text": [
      "Calculating CSI: 100%|██████████| 3/3 [00:00<00:00, 2240.15it/s]\n"
     ]
    },
    {
     "name": "stdout",
     "output_type": "stream",
     "text": [
      "Data has been normalized\n"
     ]
    },
    {
     "name": "stderr",
     "output_type": "stream",
     "text": [
      "Calculating CSI: 100%|██████████| 3/3 [00:00<00:00, 3369.82it/s]\n"
     ]
    },
    {
     "name": "stdout",
     "output_type": "stream",
     "text": [
      "Data has been normalized\n"
     ]
    },
    {
     "name": "stderr",
     "output_type": "stream",
     "text": [
      "Calculating CSI: 100%|██████████| 3/3 [00:00<00:00, 3426.72it/s]\n"
     ]
    }
   ],
   "source": [
    "csi_layer_val = []\n",
    "\n",
    "# Iterate through each layer's features in the dictionary\n",
    "for layer_name, features in features_per_layer.items():\n",
    "    instance_disturbance = ARH_SeparationIndex(features, labels, normalize=True)\n",
    "    csi = instance_disturbance.center_si_batch(batch_size=2000)\n",
    "    csi_layer_val.append((layer_name, csi))"
   ]
  },
  {
   "cell_type": "code",
   "execution_count": 13,
   "metadata": {
    "tags": []
   },
   "outputs": [
    {
     "name": "stdout",
     "output_type": "stream",
     "text": [
      "[('conv1', 0.3330000042915344), ('gn1', 0.3718000054359436), ('elu1', 0.3813999891281128), ('conv2', 0.4147999882698059), ('gn2', 0.4205999970436096), ('elu2', 0.4355999827384949), ('maxpool1', 0.49939998984336853), ('resblock1', 0.5895999670028687), ('conv3', 0.6143999695777893), ('gn3', 0.6229999661445618), ('elu3', 0.6304000020027161), ('maxpool2', 0.6430000066757202), ('conv4', 0.6570000052452087), ('maxpool3', 0.6955999732017517), ('gn4', 0.6583999991416931), ('elu4', 0.6675999760627747), ('resblock2', 0.875), ('avgpool', 0.8999999761581421), ('flatten', 0.8999999761581421), ('fc1', 0.9071999788284302), ('fc2', 0.8885999917984009), ('softmax', 0.9157999753952026)]\n"
     ]
    },
    {
     "data": {
      "image/png": "[encoded data removed]",
      "text/plain": [
       "<Figure size 640x480 with 1 Axes>"
      ]
     },
     "metadata": {},
     "output_type": "display_data"
    }
   ],
   "source": [
    "print(csi_layer_val)\n",
    "\n",
    "\n",
    "# Plotting SI versus layer using a line plot\n",
    "plt.plot([layer for layer, _ in csi_layer_val], [si for _, si in csi_layer_val])\n",
    "plt.xlabel('Layer')\n",
    "plt.ylabel('SI')\n",
    "plt.title('Center Separation Index (CSI) vs Layer - val - GN')\n",
    "plt.xticks(rotation=45)\n",
    "plt.grid(True)\n",
    "plt.show()"
   ]
  },
  {
   "cell_type": "markdown",
   "metadata": {
    "tags": []
   },
   "source": [
    "## SI and CenterSI layer for Test Loader"
   ]
  },
  {
   "cell_type": "code",
   "execution_count": 9,
   "metadata": {
    "tags": []
   },
   "outputs": [
    {
     "name": "stderr",
     "output_type": "stream",
     "text": [
      "100%|██████████| 40/40 [00:01<00:00, 26.21it/s]\n"
     ]
    }
   ],
   "source": [
    "# Pass data through the model and collect layer outputs\n",
    "with torch.no_grad():\n",
    "    for inputs, targets in tqdm(test_loader):\n",
    "        inputs = inputs.to('cuda:1' if torch.cuda.is_available() else 'cpu')\n",
    "\n",
    "        # Trigger the hooks and collect layer outputs\n",
    "        model(inputs)\n",
    "        labels_list.append(targets.cpu())\n",
    "\n",
    "        # Clear CUDA cache after processing each batch\n",
    "        if torch.cuda.is_available():\n",
    "            torch.cuda.empty_cache()\n",
    "\n",
    "# Post-process the data: Flatten and concatenate\n",
    "for layer_name, layer_features in features_per_layer.items():\n",
    "    if layer_features:  # Check if layer_features is not empty\n",
    "        # Flatten and concatenate the features for each layer\n",
    "        features_per_layer[layer_name] = torch.cat([f.view(f.size(0), -1) for f in layer_features])\n",
    "    else:\n",
    "        print(f\"No features captured for layer {layer_name}\")\n",
    "\n",
    "# Concatenate the labels\n",
    "labels = torch.cat(labels_list)"
   ]
  },
  {
   "cell_type": "markdown",
   "metadata": {},
   "source": [
    "### Calc SI"
   ]
  },
  {
   "cell_type": "code",
   "execution_count": 10,
   "metadata": {
    "tags": []
   },
   "outputs": [
    {
     "name": "stdout",
     "output_type": "stream",
     "text": [
      "Data has been normalized\n"
     ]
    },
    {
     "name": "stderr",
     "output_type": "stream",
     "text": [
      "Calculating SI: 100%|██████████| 5/5 [00:00<00:00, 362.25it/s]\n"
     ]
    },
    {
     "name": "stdout",
     "output_type": "stream",
     "text": [
      "Data has been normalized\n"
     ]
    },
    {
     "name": "stderr",
     "output_type": "stream",
     "text": [
      "Calculating SI: 100%|██████████| 5/5 [00:00<00:00, 7543.71it/s]\n"
     ]
    },
    {
     "name": "stdout",
     "output_type": "stream",
     "text": [
      "Data has been normalized\n"
     ]
    },
    {
     "name": "stderr",
     "output_type": "stream",
     "text": [
      "Calculating SI: 100%|██████████| 5/5 [00:00<00:00, 7206.71it/s]\n"
     ]
    },
    {
     "name": "stdout",
     "output_type": "stream",
     "text": [
      "Data has been normalized\n"
     ]
    },
    {
     "name": "stderr",
     "output_type": "stream",
     "text": [
      "Calculating SI: 100%|██████████| 5/5 [00:00<00:00, 7562.76it/s]\n"
     ]
    },
    {
     "name": "stdout",
     "output_type": "stream",
     "text": [
      "Data has been normalized\n"
     ]
    },
    {
     "name": "stderr",
     "output_type": "stream",
     "text": [
      "Calculating SI: 100%|██████████| 5/5 [00:00<00:00, 8004.40it/s]\n"
     ]
    },
    {
     "name": "stdout",
     "output_type": "stream",
     "text": [
      "Data has been normalized\n"
     ]
    },
    {
     "name": "stderr",
     "output_type": "stream",
     "text": [
      "Calculating SI: 100%|██████████| 5/5 [00:00<00:00, 8013.57it/s]\n"
     ]
    },
    {
     "name": "stdout",
     "output_type": "stream",
     "text": [
      "Data has been normalized\n"
     ]
    },
    {
     "name": "stderr",
     "output_type": "stream",
     "text": [
      "Calculating SI: 100%|██████████| 5/5 [00:00<00:00, 7140.46it/s]\n"
     ]
    },
    {
     "name": "stdout",
     "output_type": "stream",
     "text": [
      "Data has been normalized\n"
     ]
    },
    {
     "name": "stderr",
     "output_type": "stream",
     "text": [
      "Calculating SI: 100%|██████████| 5/5 [00:00<00:00, 7500.54it/s]\n"
     ]
    },
    {
     "name": "stdout",
     "output_type": "stream",
     "text": [
      "Data has been normalized\n"
     ]
    },
    {
     "name": "stderr",
     "output_type": "stream",
     "text": [
      "Calculating SI: 100%|██████████| 5/5 [00:00<00:00, 7676.25it/s]\n"
     ]
    },
    {
     "name": "stdout",
     "output_type": "stream",
     "text": [
      "Data has been normalized\n"
     ]
    },
    {
     "name": "stderr",
     "output_type": "stream",
     "text": [
      "Calculating SI: 100%|██████████| 5/5 [00:00<00:00, 8050.49it/s]\n"
     ]
    },
    {
     "name": "stdout",
     "output_type": "stream",
     "text": [
      "Data has been normalized\n"
     ]
    },
    {
     "name": "stderr",
     "output_type": "stream",
     "text": [
      "Calculating SI: 100%|██████████| 5/5 [00:00<00:00, 7355.85it/s]\n"
     ]
    },
    {
     "name": "stdout",
     "output_type": "stream",
     "text": [
      "Data has been normalized\n"
     ]
    },
    {
     "name": "stderr",
     "output_type": "stream",
     "text": [
      "Calculating SI: 100%|██████████| 5/5 [00:00<00:00, 7796.10it/s]\n"
     ]
    },
    {
     "name": "stdout",
     "output_type": "stream",
     "text": [
      "Data has been normalized\n"
     ]
    },
    {
     "name": "stderr",
     "output_type": "stream",
     "text": [
      "Calculating SI: 100%|██████████| 5/5 [00:00<00:00, 7541.00it/s]\n"
     ]
    },
    {
     "name": "stdout",
     "output_type": "stream",
     "text": [
      "Data has been normalized\n"
     ]
    },
    {
     "name": "stderr",
     "output_type": "stream",
     "text": [
      "Calculating SI: 100%|██████████| 5/5 [00:00<00:00, 7130.74it/s]\n"
     ]
    },
    {
     "name": "stdout",
     "output_type": "stream",
     "text": [
      "Data has been normalized\n"
     ]
    },
    {
     "name": "stderr",
     "output_type": "stream",
     "text": [
      "Calculating SI: 100%|██████████| 5/5 [00:00<00:00, 8059.77it/s]\n"
     ]
    },
    {
     "name": "stdout",
     "output_type": "stream",
     "text": [
      "Data has been normalized\n"
     ]
    },
    {
     "name": "stderr",
     "output_type": "stream",
     "text": [
      "Calculating SI: 100%|██████████| 5/5 [00:00<00:00, 7614.93it/s]\n"
     ]
    },
    {
     "name": "stdout",
     "output_type": "stream",
     "text": [
      "Data has been normalized\n"
     ]
    },
    {
     "name": "stderr",
     "output_type": "stream",
     "text": [
      "Calculating SI: 100%|██████████| 5/5 [00:00<00:00, 8179.22it/s]\n"
     ]
    },
    {
     "name": "stdout",
     "output_type": "stream",
     "text": [
      "Data has been normalized\n"
     ]
    },
    {
     "name": "stderr",
     "output_type": "stream",
     "text": [
      "Calculating SI: 100%|██████████| 5/5 [00:00<00:00, 7276.72it/s]\n"
     ]
    },
    {
     "name": "stdout",
     "output_type": "stream",
     "text": [
      "Data has been normalized\n"
     ]
    },
    {
     "name": "stderr",
     "output_type": "stream",
     "text": [
      "Calculating SI: 100%|██████████| 5/5 [00:00<00:00, 8112.77it/s]\n"
     ]
    },
    {
     "name": "stdout",
     "output_type": "stream",
     "text": [
      "Data has been normalized\n"
     ]
    },
    {
     "name": "stderr",
     "output_type": "stream",
     "text": [
      "Calculating SI: 100%|██████████| 5/5 [00:00<00:00, 8587.85it/s]\n"
     ]
    },
    {
     "name": "stdout",
     "output_type": "stream",
     "text": [
      "Data has been normalized\n"
     ]
    },
    {
     "name": "stderr",
     "output_type": "stream",
     "text": [
      "Calculating SI: 100%|██████████| 5/5 [00:00<00:00, 9098.27it/s]\n"
     ]
    },
    {
     "name": "stdout",
     "output_type": "stream",
     "text": [
      "Data has been normalized\n"
     ]
    },
    {
     "name": "stderr",
     "output_type": "stream",
     "text": [
      "Calculating SI: 100%|██████████| 5/5 [00:00<00:00, 8075.29it/s]\n"
     ]
    }
   ],
   "source": [
    "si_layer_test = []\n",
    "\n",
    "# Iterate through each layer's features in the dictionary\n",
    "for layer_name, features in features_per_layer.items():\n",
    "    instance_disturbance = ARH_SeparationIndex(features, labels, normalize=True)\n",
    "    si = instance_disturbance.si_batch(batch_size=2000)\n",
    "    si_layer_test.append((layer_name, si))"
   ]
  },
  {
   "cell_type": "code",
   "execution_count": 11,
   "metadata": {
    "tags": []
   },
   "outputs": [
    {
     "data": {
      "text/plain": [
       "[('conv1', 0.24329999089241028),\n",
       " ('gn1', 0.36629998683929443),\n",
       " ('elu1', 0.3723999857902527),\n",
       " ('conv2', 0.34109997749328613),\n",
       " ('gn2', 0.40849998593330383),\n",
       " ('elu2', 0.4075999855995178),\n",
       " ('maxpool1', 0.49939998984336853),\n",
       " ('resblock1', 0.5845999717712402),\n",
       " ('conv3', 0.6193000078201294),\n",
       " ('gn3', 0.6291999816894531),\n",
       " ('elu3', 0.6287999749183655),\n",
       " ('maxpool2', 0.6484999656677246),\n",
       " ('conv4', 0.6733999848365784),\n",
       " ('maxpool3', 0.6931999921798706),\n",
       " ('gn4', 0.6759999990463257),\n",
       " ('elu4', 0.6782000064849854),\n",
       " ('resblock2', 0.7906999588012695),\n",
       " ('avgpool', 0.7879999876022339),\n",
       " ('flatten', 0.7879999876022339),\n",
       " ('fc1', 0.7797999978065491),\n",
       " ('fc2', 0.7760999798774719),\n",
       " ('softmax', 0.7576000094413757)]"
      ]
     },
     "execution_count": 11,
     "metadata": {},
     "output_type": "execute_result"
    }
   ],
   "source": [
    "si_layer_test"
   ]
  },
  {
   "cell_type": "code",
   "execution_count": 12,
   "metadata": {
    "tags": []
   },
   "outputs": [
    {
     "data": {
      "image/png": "[encoded data removed]",
      "text/plain": [
       "<Figure size 640x480 with 1 Axes>"
      ]
     },
     "metadata": {},
     "output_type": "display_data"
    }
   ],
   "source": [
    "# Plotting SI versus layer using a line plot\n",
    "plt.plot([layer for layer, _ in si_layer_test], [si for _, si in si_layer_test])\n",
    "plt.xlabel('Layer')\n",
    "plt.ylabel('SI')\n",
    "plt.title('Separation Index (SI) vs Layer - Test - GN')\n",
    "plt.xticks(rotation=45)\n",
    "plt.grid(True)\n",
    "plt.show()"
   ]
  },
  {
   "cell_type": "markdown",
   "metadata": {},
   "source": [
    "### Calc Center SI"
   ]
  },
  {
   "cell_type": "code",
   "execution_count": 13,
   "metadata": {
    "tags": []
   },
   "outputs": [
    {
     "name": "stdout",
     "output_type": "stream",
     "text": [
      "Data has been normalized\n"
     ]
    },
    {
     "name": "stderr",
     "output_type": "stream",
     "text": [
      "Calculating CSI: 100%|██████████| 5/5 [00:00<00:00, 720.57it/s]\n"
     ]
    },
    {
     "name": "stdout",
     "output_type": "stream",
     "text": [
      "Data has been normalized\n"
     ]
    },
    {
     "name": "stderr",
     "output_type": "stream",
     "text": [
      "Calculating CSI: 100%|██████████| 5/5 [00:00<00:00, 4412.27it/s]\n"
     ]
    },
    {
     "name": "stdout",
     "output_type": "stream",
     "text": [
      "Data has been normalized\n"
     ]
    },
    {
     "name": "stderr",
     "output_type": "stream",
     "text": [
      "Calculating CSI: 100%|██████████| 5/5 [00:00<00:00, 4604.07it/s]\n"
     ]
    },
    {
     "name": "stdout",
     "output_type": "stream",
     "text": [
      "Data has been normalized\n"
     ]
    },
    {
     "name": "stderr",
     "output_type": "stream",
     "text": [
      "Calculating CSI: 100%|██████████| 5/5 [00:00<00:00, 4103.21it/s]\n"
     ]
    },
    {
     "name": "stdout",
     "output_type": "stream",
     "text": [
      "Data has been normalized\n"
     ]
    },
    {
     "name": "stderr",
     "output_type": "stream",
     "text": [
      "Calculating CSI: 100%|██████████| 5/5 [00:00<00:00, 4314.24it/s]\n"
     ]
    },
    {
     "name": "stdout",
     "output_type": "stream",
     "text": [
      "Data has been normalized\n"
     ]
    },
    {
     "name": "stderr",
     "output_type": "stream",
     "text": [
      "Calculating CSI: 100%|██████████| 5/5 [00:00<00:00, 4890.75it/s]\n"
     ]
    },
    {
     "name": "stdout",
     "output_type": "stream",
     "text": [
      "Data has been normalized\n"
     ]
    },
    {
     "name": "stderr",
     "output_type": "stream",
     "text": [
      "Calculating CSI: 100%|██████████| 5/5 [00:00<00:00, 3221.93it/s]\n"
     ]
    },
    {
     "name": "stdout",
     "output_type": "stream",
     "text": [
      "Data has been normalized\n"
     ]
    },
    {
     "name": "stderr",
     "output_type": "stream",
     "text": [
      "Calculating CSI: 100%|██████████| 5/5 [00:00<00:00, 3351.15it/s]\n"
     ]
    },
    {
     "name": "stdout",
     "output_type": "stream",
     "text": [
      "Data has been normalized\n"
     ]
    },
    {
     "name": "stderr",
     "output_type": "stream",
     "text": [
      "Calculating CSI: 100%|██████████| 5/5 [00:00<00:00, 4332.06it/s]\n"
     ]
    },
    {
     "name": "stdout",
     "output_type": "stream",
     "text": [
      "Data has been normalized\n"
     ]
    },
    {
     "name": "stderr",
     "output_type": "stream",
     "text": [
      "Calculating CSI: 100%|██████████| 5/5 [00:00<00:00, 4413.20it/s]\n"
     ]
    },
    {
     "name": "stdout",
     "output_type": "stream",
     "text": [
      "Data has been normalized\n"
     ]
    },
    {
     "name": "stderr",
     "output_type": "stream",
     "text": [
      "Calculating CSI: 100%|██████████| 5/5 [00:00<00:00, 4275.54it/s]\n"
     ]
    },
    {
     "name": "stdout",
     "output_type": "stream",
     "text": [
      "Data has been normalized\n"
     ]
    },
    {
     "name": "stderr",
     "output_type": "stream",
     "text": [
      "Calculating CSI: 100%|██████████| 5/5 [00:00<00:00, 4325.81it/s]\n"
     ]
    },
    {
     "name": "stdout",
     "output_type": "stream",
     "text": [
      "Data has been normalized\n"
     ]
    },
    {
     "name": "stderr",
     "output_type": "stream",
     "text": [
      "Calculating CSI: 100%|██████████| 5/5 [00:00<00:00, 3341.01it/s]\n"
     ]
    },
    {
     "name": "stdout",
     "output_type": "stream",
     "text": [
      "Data has been normalized\n"
     ]
    },
    {
     "name": "stderr",
     "output_type": "stream",
     "text": [
      "Calculating CSI: 100%|██████████| 5/5 [00:00<00:00, 4271.19it/s]\n"
     ]
    },
    {
     "name": "stdout",
     "output_type": "stream",
     "text": [
      "Data has been normalized\n"
     ]
    },
    {
     "name": "stderr",
     "output_type": "stream",
     "text": [
      "Calculating CSI: 100%|██████████| 5/5 [00:00<00:00, 3109.66it/s]\n"
     ]
    },
    {
     "name": "stdout",
     "output_type": "stream",
     "text": [
      "Data has been normalized\n"
     ]
    },
    {
     "name": "stderr",
     "output_type": "stream",
     "text": [
      "Calculating CSI: 100%|██████████| 5/5 [00:00<00:00, 3244.36it/s]\n"
     ]
    },
    {
     "name": "stdout",
     "output_type": "stream",
     "text": [
      "Data has been normalized\n"
     ]
    },
    {
     "name": "stderr",
     "output_type": "stream",
     "text": [
      "Calculating CSI: 100%|██████████| 5/5 [00:00<00:00, 4100.00it/s]\n"
     ]
    },
    {
     "name": "stdout",
     "output_type": "stream",
     "text": [
      "Data has been normalized\n"
     ]
    },
    {
     "name": "stderr",
     "output_type": "stream",
     "text": [
      "Calculating CSI: 100%|██████████| 5/5 [00:00<00:00, 4312.47it/s]\n"
     ]
    },
    {
     "name": "stdout",
     "output_type": "stream",
     "text": [
      "Data has been normalized\n"
     ]
    },
    {
     "name": "stderr",
     "output_type": "stream",
     "text": [
      "Calculating CSI: 100%|██████████| 5/5 [00:00<00:00, 4466.78it/s]\n"
     ]
    },
    {
     "name": "stdout",
     "output_type": "stream",
     "text": [
      "Data has been normalized\n"
     ]
    },
    {
     "name": "stderr",
     "output_type": "stream",
     "text": [
      "Calculating CSI: 100%|██████████| 5/5 [00:00<00:00, 4391.94it/s]\n"
     ]
    },
    {
     "name": "stdout",
     "output_type": "stream",
     "text": [
      "Data has been normalized\n"
     ]
    },
    {
     "name": "stderr",
     "output_type": "stream",
     "text": [
      "Calculating CSI: 100%|██████████| 5/5 [00:00<00:00, 4229.83it/s]\n"
     ]
    },
    {
     "name": "stdout",
     "output_type": "stream",
     "text": [
      "Data has been normalized\n"
     ]
    },
    {
     "name": "stderr",
     "output_type": "stream",
     "text": [
      "Calculating CSI: 100%|██████████| 5/5 [00:00<00:00, 4322.24it/s]\n"
     ]
    }
   ],
   "source": [
    "csi_layer_test = []\n",
    "\n",
    "# Iterate through each layer's features in the dictionary\n",
    "for layer_name, features in features_per_layer.items():\n",
    "    instance_disturbance = ARH_SeparationIndex(features, labels, normalize=True)\n",
    "    csi = instance_disturbance.center_si_batch(batch_size=2000)\n",
    "    csi_layer_test.append((layer_name, csi))"
   ]
  },
  {
   "cell_type": "code",
   "execution_count": 14,
   "metadata": {
    "tags": []
   },
   "outputs": [
    {
     "name": "stdout",
     "output_type": "stream",
     "text": [
      "[('conv1', 0.34279999136924744), ('gn1', 0.3698999881744385), ('elu1', 0.3790999948978424), ('conv2', 0.4074999988079071), ('gn2', 0.41269999742507935), ('elu2', 0.4274999797344208), ('maxpool1', 0.4908999800682068), ('resblock1', 0.5773000121116638), ('conv3', 0.6024999618530273), ('gn3', 0.6060000061988831), ('elu3', 0.6133999824523926), ('maxpool2', 0.6263999938964844), ('conv4', 0.6448000073432922), ('maxpool3', 0.6796000003814697), ('gn4', 0.6468999981880188), ('elu4', 0.6556999683380127), ('resblock2', 0.814799964427948), ('avgpool', 0.8394999504089355), ('flatten', 0.8394999504089355), ('fc1', 0.8425999879837036), ('fc2', 0.8246999979019165), ('softmax', 0.848800003528595)]\n"
     ]
    },
    {
     "data": {
      "image/png": "[encoded data removed]",
      "text/plain": [
       "<Figure size 640x480 with 1 Axes>"
      ]
     },
     "metadata": {},
     "output_type": "display_data"
    }
   ],
   "source": [
    "print(csi_layer_test)\n",
    "\n",
    "\n",
    "# Plotting SI versus layer using a line plot\n",
    "plt.plot([layer for layer, _ in csi_layer_test], [si for _, si in csi_layer_test])\n",
    "plt.xlabel('Layer')\n",
    "plt.ylabel('SI')\n",
    "plt.title('Center Separation Index (CSI) vs Layer - Test - GN')\n",
    "plt.xticks(rotation=45)\n",
    "plt.grid(True)\n",
    "plt.show()"
   ]
  },
  {
   "cell_type": "code",
   "execution_count": null,
   "metadata": {},
   "outputs": [],
   "source": []
  }
 ],
 "metadata": {
  "accelerator": "GPU",
  "colab": {
   "gpuType": "T4",
   "provenance": []
  },
  "kernelspec": {
   "display_name": "torch2",
   "language": "python",
   "name": "torch2"
  },
  "language_info": {
   "codemirror_mode": {
    "name": "ipython",
    "version": 3
   },
   "file_extension": ".py",
   "mimetype": "text/x-python",
   "name": "python",
   "nbconvert_exporter": "python",
   "pygments_lexer": "ipython3",
   "version": "3.11.6"
  }
 },
 "nbformat": 4,
 "nbformat_minor": 4
}
