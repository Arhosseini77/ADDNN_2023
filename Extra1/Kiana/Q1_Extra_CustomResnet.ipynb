{
  "cells": [
    {
      "cell_type": "markdown",
      "metadata": {
        "id": "cFiBdE9kbmP0"
      },
      "source": [
        "# Libraries"
      ]
    },
    {
      "cell_type": "code",
      "execution_count": 1,
      "metadata": {
        "id": "HmLU6ur8bN_F"
      },
      "outputs": [],
      "source": [
        "import torch\n",
        "import torch.nn as nn\n",
        "import torch.nn.functional as F\n",
        "from torchvision import datasets, transforms\n",
        "import torch.optim as optim\n",
        "from torch.optim.lr_scheduler import StepLR\n",
        "from sklearn.model_selection import train_test_split\n",
        "from torch.utils.data import DataLoader, random_split\n",
        "import matplotlib.pyplot as plt\n",
        "from tqdm import tqdm"
      ]
    },
    {
      "cell_type": "code",
      "execution_count": 2,
      "metadata": {
        "id": "WDxC0i79c8Aq"
      },
      "outputs": [],
      "source": [
        "!pip install --q torchsummary"
      ]
    },
    {
      "cell_type": "markdown",
      "metadata": {
        "id": "8UhIWGejbp5O"
      },
      "source": [
        "# Custom_Resnet"
      ]
    },
    {
      "cell_type": "code",
      "execution_count": 3,
      "metadata": {
        "id": "Z3jmT-_dbl1i"
      },
      "outputs": [],
      "source": [
        "# Define a ResNet block\n",
        "class MyResNetBlock(nn.Module):\n",
        "    # Constructor with input and output channel parameters\n",
        "    def __init__(self, in_channels, out_channels):\n",
        "        super(MyResNetBlock, self).__init__()\n",
        "        # First convolutional layer\n",
        "        self.conv1 = nn.Conv2d(in_channels, out_channels, kernel_size=3, padding=1)\n",
        "        # ELU activation function\n",
        "        self.activation1 = nn.ELU()\n",
        "        # Second convolutional layer\n",
        "        self.conv2 = nn.Conv2d(out_channels, out_channels, kernel_size=3, padding=1)\n",
        "\n",
        "    # Forward method for the block\n",
        "    def forward(self, x):\n",
        "        shortcut = x  # Preserve the input for the shortcut connection\n",
        "        x = self.conv1(x)\n",
        "        x = self.activation1(x)\n",
        "        x = self.conv2(x)\n",
        "        x += shortcut  # Add the input to the output (residual connection)\n",
        "        x = self.activation1(x)\n",
        "        return x\n",
        "\n",
        "# Define the main ResNet model\n",
        "class MyResNet(nn.Module):\n",
        "    # Constructor\n",
        "    def __init__(self):\n",
        "        super(MyResNet, self).__init__()\n",
        "        # Initial convolutional layers\n",
        "        self.conv1 = nn.Conv2d(3, 32, kernel_size=3, padding=1)\n",
        "        self.activation1 = nn.ELU()\n",
        "        self.conv2 = nn.Conv2d(32, 64, kernel_size=3, padding=1)\n",
        "        self.activation2 = nn.ELU()\n",
        "        self.maxpool1 = nn.MaxPool2d(kernel_size=2)\n",
        "\n",
        "        # Residual blocks\n",
        "        self.resblock1 = MyResNetBlock(64, 64)\n",
        "        self.maxpool2 = nn.MaxPool2d(kernel_size=2)\n",
        "        self.conv3 = nn.Conv2d(64, 128, kernel_size=3, padding=1)\n",
        "        self.activation3 = nn.ELU()\n",
        "        self.maxpool3 = nn.MaxPool2d(kernel_size=2)\n",
        "        self.conv4 = nn.Conv2d(128, 256, kernel_size=3, padding=1)\n",
        "        self.activation4 = nn.ELU()\n",
        "        self.resblock2 = MyResNetBlock(256, 256)\n",
        "\n",
        "        # Average pooling and fully connected layers\n",
        "        self.avgpool = nn.AvgPool2d(kernel_size=3, stride=2)\n",
        "        self.flatten = nn.Flatten()\n",
        "        self.dense1 = nn.Linear(256, 256)\n",
        "        self.dense2 = nn.Linear(256, 10)\n",
        "        self.softmax = nn.Softmax(dim=1)\n",
        "\n",
        "    # Forward method for the model\n",
        "    def forward(self, x):\n",
        "        x = self.conv1(x)\n",
        "        x = self.activation1(x)\n",
        "        x = self.conv2(x)\n",
        "        x = self.activation2(x)\n",
        "        x = self.maxpool1(x)\n",
        "\n",
        "        x = self.resblock1(x)\n",
        "        x = self.conv3(x)\n",
        "        x = self.activation3(x)\n",
        "        x = self.maxpool2(x)\n",
        "\n",
        "        x = self.conv4(x)\n",
        "        x = self.activation4(x)\n",
        "        x = self.maxpool3(x)\n",
        "        x = self.resblock2(x)\n",
        "        x = self.avgpool(x)\n",
        "        x = self.flatten(x)\n",
        "        x = self.dense1(x)\n",
        "        x = self.dense2(x)\n",
        "        x = self.softmax(x)\n",
        "        return x\n"
      ]
    },
    {
      "cell_type": "code",
      "execution_count": null,
      "metadata": {
        "colab": {
          "base_uri": "https://localhost:8080/"
        },
        "id": "BM4FsQ1UdM70",
        "outputId": "e6f30d03-cb65-4fec-d051-e96592351009"
      },
      "outputs": [
        {
          "name": "stdout",
          "output_type": "stream",
          "text": [
            "----------------------------------------------------------------\n",
            "        Layer (type)               Output Shape         Param #\n",
            "================================================================\n",
            "            Conv2d-1           [-1, 32, 32, 32]             896\n",
            "               ELU-2           [-1, 32, 32, 32]               0\n",
            "            Conv2d-3           [-1, 64, 32, 32]          18,496\n",
            "               ELU-4           [-1, 64, 32, 32]               0\n",
            "         MaxPool2d-5           [-1, 64, 16, 16]               0\n",
            "            Conv2d-6           [-1, 64, 16, 16]          36,928\n",
            "               ELU-7           [-1, 64, 16, 16]               0\n",
            "            Conv2d-8           [-1, 64, 16, 16]          36,928\n",
            "               ELU-9           [-1, 64, 16, 16]               0\n",
            "    MyResNetBlock-10           [-1, 64, 16, 16]               0\n",
            "           Conv2d-11          [-1, 128, 16, 16]          73,856\n",
            "              ELU-12          [-1, 128, 16, 16]               0\n",
            "        MaxPool2d-13            [-1, 128, 8, 8]               0\n",
            "           Conv2d-14            [-1, 256, 8, 8]         295,168\n",
            "              ELU-15            [-1, 256, 8, 8]               0\n",
            "        MaxPool2d-16            [-1, 256, 4, 4]               0\n",
            "           Conv2d-17            [-1, 256, 4, 4]         590,080\n",
            "              ELU-18            [-1, 256, 4, 4]               0\n",
            "           Conv2d-19            [-1, 256, 4, 4]         590,080\n",
            "              ELU-20            [-1, 256, 4, 4]               0\n",
            "    MyResNetBlock-21            [-1, 256, 4, 4]               0\n",
            "        AvgPool2d-22            [-1, 256, 1, 1]               0\n",
            "          Flatten-23                  [-1, 256]               0\n",
            "           Linear-24                  [-1, 256]          65,792\n",
            "           Linear-25                   [-1, 10]           2,570\n",
            "          Softmax-26                   [-1, 10]               0\n",
            "================================================================\n",
            "Total params: 1,710,794\n",
            "Trainable params: 1,710,794\n",
            "Non-trainable params: 0\n",
            "----------------------------------------------------------------\n",
            "Input size (MB): 0.01\n",
            "Forward/backward pass size (MB): 3.26\n",
            "Params size (MB): 6.53\n",
            "Estimated Total Size (MB): 9.79\n",
            "----------------------------------------------------------------\n"
          ]
        }
      ],
      "source": [
        "from torchsummary import summary\n",
        "\n",
        "# Instantiate the model\n",
        "model = MyResNet()\n",
        "\n",
        "# Move the model to GPU if available\n",
        "device = torch.device(\"cuda\" if torch.cuda.is_available() else \"cpu\")\n",
        "model.to(device)\n",
        "\n",
        "# Print the model summary\n",
        "summary(model, (3, 32, 32))"
      ]
    },
    {
      "cell_type": "markdown",
      "metadata": {
        "id": "A4UOPNbKpb4d"
      },
      "source": [
        "# Dataset"
      ]
    },
    {
      "cell_type": "code",
      "execution_count": 4,
      "metadata": {
        "colab": {
          "base_uri": "https://localhost:8080/"
        },
        "id": "aJswG75zdvVO",
        "outputId": "8b2afcd8-7f0d-4d7e-c13a-07e498fecd3a"
      },
      "outputs": [
        {
          "name": "stdout",
          "output_type": "stream",
          "text": [
            "Downloading https://www.cs.toronto.edu/~kriz/cifar-10-python.tar.gz to ./data/cifar-10-python.tar.gz\n"
          ]
        },
        {
          "name": "stderr",
          "output_type": "stream",
          "text": [
            "100%|██████████| 170498071/170498071 [00:03<00:00, 43671604.99it/s]\n"
          ]
        },
        {
          "name": "stdout",
          "output_type": "stream",
          "text": [
            "Extracting ./data/cifar-10-python.tar.gz to ./data\n",
            "Files already downloaded and verified\n"
          ]
        }
      ],
      "source": [
        "# Data augmentation transformations for training data\n",
        "data_augmentation_train = transforms.Compose([\n",
        "    transforms.RandomHorizontalFlip(),  # Randomly flip the image horizontally\n",
        "    transforms.RandomRotation(15),  # Randomly rotate the image by 15 degrees\n",
        "    transforms.RandomVerticalFlip(),  # Randomly flip the image vertically\n",
        "    transforms.ToTensor(),  # Convert the image to a PyTorch tensor\n",
        "    transforms.Normalize((0.5, 0.5, 0.5), (0.5, 0.5, 0.5))  # Normalize the tensor values\n",
        "])\n",
        "\n",
        "# Data preprocessing transformations for test/validation data\n",
        "data_preprocessing_test = transforms.Compose([\n",
        "    transforms.ToTensor(),  # Convert the image to a PyTorch tensor\n",
        "    transforms.Normalize((0.5, 0.5, 0.5), (0.5, 0.5, 0.5)) # Normalize the tensor values\n",
        "])\n",
        "\n",
        "\n",
        "# Load CIFAR-10 dataset\n",
        "# Training set with data augmentation\n",
        "train_dataset = datasets.CIFAR10(root='./data', train=True, download=True, transform=data_augmentation_train)\n",
        "# Test set with data preprocessing\n",
        "test_dataset = datasets.CIFAR10(root='./data', train=False, download=True, transform=data_preprocessing_test)\n",
        "\n",
        "# Splitting the training dataset into training and validation sets\n",
        "train_size = int(0.9 * len(train_dataset))\n",
        "val_size = len(train_dataset) - train_size\n",
        "train_dataset, val_dataset = random_split(train_dataset, [train_size, val_size])\n",
        "\n",
        "# Data loaders\n",
        "batch_size = 128\n",
        "# Training data loader\n",
        "train_loader = DataLoader(train_dataset, batch_size=batch_size, shuffle=True)\n",
        "# Validation data loader\n",
        "val_loader = DataLoader(val_dataset, batch_size=batch_size, shuffle=False)\n",
        "# Test data loader\n",
        "test_loader = DataLoader(test_dataset, batch_size=batch_size, shuffle=False)"
      ]
    },
    {
      "cell_type": "markdown",
      "metadata": {
        "id": "7k6iYibtxM9u"
      },
      "source": [
        "# Training"
      ]
    },
    {
      "cell_type": "code",
      "execution_count": null,
      "metadata": {
        "id": "V5bcG78BxMGr"
      },
      "outputs": [],
      "source": [
        "device = torch.device(\"cuda:0\" if torch.cuda.is_available() else \"cpu\")\n",
        "model = MyResNet().to(device)"
      ]
    },
    {
      "cell_type": "code",
      "execution_count": null,
      "metadata": {
        "id": "5Za_1JXzxVHE"
      },
      "outputs": [],
      "source": [
        "# Optimizer, Learning Rate Scheduler, and Loss Criterion\n",
        "# Stochastic Gradient Descent (SGD) optimizer\n",
        "optimizer = optim.SGD(model.parameters(), lr=0.01, momentum=0.9)\n",
        "# Learning rate scheduler with step decay\n",
        "scheduler = StepLR(optimizer, step_size=50, gamma=0.1)\n",
        "# CrossEntropyLoss criterion for classification tasks\n",
        "criterion = nn.CrossEntropyLoss()"
      ]
    },
    {
      "cell_type": "code",
      "execution_count": null,
      "metadata": {
        "colab": {
          "base_uri": "https://localhost:8080/"
        },
        "id": "mJGZ6bVSxnYo",
        "outputId": "9acf1c9f-1db2-411c-aab4-318200482c45"
      },
      "outputs": [
        {
          "name": "stderr",
          "output_type": "stream",
          "text": [
            "100%|██████████| 352/352 [00:38<00:00,  9.12it/s]\n"
          ]
        },
        {
          "name": "stdout",
          "output_type": "stream",
          "text": [
            "Train Epoch: 1, Average Loss: 0.0180, Accuracy: 0.15\n",
            "Validation set: Average loss: 0.0183, Accuracy: 0.17\n"
          ]
        },
        {
          "name": "stderr",
          "output_type": "stream",
          "text": [
            "100%|██████████| 352/352 [00:32<00:00, 10.98it/s]\n"
          ]
        },
        {
          "name": "stdout",
          "output_type": "stream",
          "text": [
            "Train Epoch: 2, Average Loss: 0.0175, Accuracy: 0.18\n",
            "Validation set: Average loss: 0.0178, Accuracy: 0.22\n"
          ]
        },
        {
          "name": "stderr",
          "output_type": "stream",
          "text": [
            "100%|██████████| 352/352 [00:30<00:00, 11.59it/s]\n"
          ]
        },
        {
          "name": "stdout",
          "output_type": "stream",
          "text": [
            "Train Epoch: 3, Average Loss: 0.0173, Accuracy: 0.23\n",
            "Validation set: Average loss: 0.0176, Accuracy: 0.26\n"
          ]
        },
        {
          "name": "stderr",
          "output_type": "stream",
          "text": [
            "100%|██████████| 352/352 [00:29<00:00, 11.91it/s]\n"
          ]
        },
        {
          "name": "stdout",
          "output_type": "stream",
          "text": [
            "Train Epoch: 4, Average Loss: 0.0170, Accuracy: 0.28\n",
            "Validation set: Average loss: 0.0173, Accuracy: 0.29\n"
          ]
        },
        {
          "name": "stderr",
          "output_type": "stream",
          "text": [
            "100%|██████████| 352/352 [00:29<00:00, 11.86it/s]\n"
          ]
        },
        {
          "name": "stdout",
          "output_type": "stream",
          "text": [
            "Train Epoch: 5, Average Loss: 0.0168, Accuracy: 0.3\n",
            "Validation set: Average loss: 0.0171, Accuracy: 0.31\n"
          ]
        },
        {
          "name": "stderr",
          "output_type": "stream",
          "text": [
            "100%|██████████| 352/352 [00:29<00:00, 12.08it/s]\n"
          ]
        },
        {
          "name": "stdout",
          "output_type": "stream",
          "text": [
            "Train Epoch: 6, Average Loss: 0.0166, Accuracy: 0.33\n",
            "Validation set: Average loss: 0.0169, Accuracy: 0.34\n"
          ]
        },
        {
          "name": "stderr",
          "output_type": "stream",
          "text": [
            "100%|██████████| 352/352 [00:28<00:00, 12.23it/s]\n"
          ]
        },
        {
          "name": "stdout",
          "output_type": "stream",
          "text": [
            "Train Epoch: 7, Average Loss: 0.0164, Accuracy: 0.35\n",
            "Validation set: Average loss: 0.0168, Accuracy: 0.35\n"
          ]
        },
        {
          "name": "stderr",
          "output_type": "stream",
          "text": [
            "100%|██████████| 352/352 [00:29<00:00, 12.05it/s]\n"
          ]
        },
        {
          "name": "stdout",
          "output_type": "stream",
          "text": [
            "Train Epoch: 8, Average Loss: 0.0163, Accuracy: 0.38\n",
            "Validation set: Average loss: 0.0165, Accuracy: 0.38\n"
          ]
        },
        {
          "name": "stderr",
          "output_type": "stream",
          "text": [
            "100%|██████████| 352/352 [00:29<00:00, 12.06it/s]\n"
          ]
        },
        {
          "name": "stdout",
          "output_type": "stream",
          "text": [
            "Train Epoch: 9, Average Loss: 0.0161, Accuracy: 0.4\n",
            "Validation set: Average loss: 0.0163, Accuracy: 0.42\n"
          ]
        },
        {
          "name": "stderr",
          "output_type": "stream",
          "text": [
            "100%|██████████| 352/352 [00:28<00:00, 12.16it/s]\n"
          ]
        },
        {
          "name": "stdout",
          "output_type": "stream",
          "text": [
            "Train Epoch: 10, Average Loss: 0.0160, Accuracy: 0.41\n",
            "Validation set: Average loss: 0.0162, Accuracy: 0.43\n"
          ]
        },
        {
          "name": "stderr",
          "output_type": "stream",
          "text": [
            "100%|██████████| 352/352 [00:29<00:00, 12.12it/s]\n"
          ]
        },
        {
          "name": "stdout",
          "output_type": "stream",
          "text": [
            "Train Epoch: 11, Average Loss: 0.0159, Accuracy: 0.43\n",
            "Validation set: Average loss: 0.0162, Accuracy: 0.43\n"
          ]
        },
        {
          "name": "stderr",
          "output_type": "stream",
          "text": [
            "100%|██████████| 352/352 [00:28<00:00, 12.26it/s]\n"
          ]
        },
        {
          "name": "stdout",
          "output_type": "stream",
          "text": [
            "Train Epoch: 12, Average Loss: 0.0158, Accuracy: 0.44\n",
            "Validation set: Average loss: 0.0164, Accuracy: 0.41\n"
          ]
        },
        {
          "name": "stderr",
          "output_type": "stream",
          "text": [
            "100%|██████████| 352/352 [00:29<00:00, 12.08it/s]\n"
          ]
        },
        {
          "name": "stdout",
          "output_type": "stream",
          "text": [
            "Train Epoch: 13, Average Loss: 0.0157, Accuracy: 0.45\n",
            "Validation set: Average loss: 0.0159, Accuracy: 0.48\n"
          ]
        },
        {
          "name": "stderr",
          "output_type": "stream",
          "text": [
            "100%|██████████| 352/352 [00:28<00:00, 12.27it/s]\n"
          ]
        },
        {
          "name": "stdout",
          "output_type": "stream",
          "text": [
            "Train Epoch: 14, Average Loss: 0.0156, Accuracy: 0.47\n",
            "Validation set: Average loss: 0.0159, Accuracy: 0.47\n"
          ]
        },
        {
          "name": "stderr",
          "output_type": "stream",
          "text": [
            "100%|██████████| 352/352 [00:29<00:00, 12.07it/s]\n"
          ]
        },
        {
          "name": "stdout",
          "output_type": "stream",
          "text": [
            "Train Epoch: 15, Average Loss: 0.0155, Accuracy: 0.48\n",
            "Validation set: Average loss: 0.0160, Accuracy: 0.46\n"
          ]
        },
        {
          "name": "stderr",
          "output_type": "stream",
          "text": [
            "100%|██████████| 352/352 [00:28<00:00, 12.24it/s]\n"
          ]
        },
        {
          "name": "stdout",
          "output_type": "stream",
          "text": [
            "Train Epoch: 16, Average Loss: 0.0154, Accuracy: 0.49\n",
            "Validation set: Average loss: 0.0156, Accuracy: 0.51\n"
          ]
        },
        {
          "name": "stderr",
          "output_type": "stream",
          "text": [
            "100%|██████████| 352/352 [00:28<00:00, 12.19it/s]\n"
          ]
        },
        {
          "name": "stdout",
          "output_type": "stream",
          "text": [
            "Train Epoch: 17, Average Loss: 0.0153, Accuracy: 0.5\n",
            "Validation set: Average loss: 0.0156, Accuracy: 0.51\n"
          ]
        },
        {
          "name": "stderr",
          "output_type": "stream",
          "text": [
            "100%|██████████| 352/352 [00:29<00:00, 11.96it/s]\n"
          ]
        },
        {
          "name": "stdout",
          "output_type": "stream",
          "text": [
            "Train Epoch: 18, Average Loss: 0.0152, Accuracy: 0.51\n",
            "Validation set: Average loss: 0.0157, Accuracy: 0.50\n"
          ]
        },
        {
          "name": "stderr",
          "output_type": "stream",
          "text": [
            "100%|██████████| 352/352 [00:29<00:00, 12.13it/s]\n"
          ]
        },
        {
          "name": "stdout",
          "output_type": "stream",
          "text": [
            "Train Epoch: 19, Average Loss: 0.0151, Accuracy: 0.53\n",
            "Validation set: Average loss: 0.0153, Accuracy: 0.54\n"
          ]
        },
        {
          "name": "stderr",
          "output_type": "stream",
          "text": [
            "100%|██████████| 352/352 [00:28<00:00, 12.16it/s]\n"
          ]
        },
        {
          "name": "stdout",
          "output_type": "stream",
          "text": [
            "Train Epoch: 20, Average Loss: 0.0149, Accuracy: 0.55\n",
            "Validation set: Average loss: 0.0153, Accuracy: 0.55\n"
          ]
        },
        {
          "name": "stderr",
          "output_type": "stream",
          "text": [
            "100%|██████████| 352/352 [00:29<00:00, 12.05it/s]\n"
          ]
        },
        {
          "name": "stdout",
          "output_type": "stream",
          "text": [
            "Train Epoch: 21, Average Loss: 0.0148, Accuracy: 0.56\n",
            "Validation set: Average loss: 0.0154, Accuracy: 0.53\n"
          ]
        },
        {
          "name": "stderr",
          "output_type": "stream",
          "text": [
            "100%|██████████| 352/352 [00:28<00:00, 12.42it/s]\n"
          ]
        },
        {
          "name": "stdout",
          "output_type": "stream",
          "text": [
            "Train Epoch: 22, Average Loss: 0.0147, Accuracy: 0.58\n",
            "Validation set: Average loss: 0.0151, Accuracy: 0.57\n"
          ]
        },
        {
          "name": "stderr",
          "output_type": "stream",
          "text": [
            "100%|██████████| 352/352 [00:28<00:00, 12.16it/s]\n"
          ]
        },
        {
          "name": "stdout",
          "output_type": "stream",
          "text": [
            "Train Epoch: 23, Average Loss: 0.0146, Accuracy: 0.59\n",
            "Validation set: Average loss: 0.0151, Accuracy: 0.57\n"
          ]
        },
        {
          "name": "stderr",
          "output_type": "stream",
          "text": [
            "100%|██████████| 352/352 [00:28<00:00, 12.24it/s]\n"
          ]
        },
        {
          "name": "stdout",
          "output_type": "stream",
          "text": [
            "Train Epoch: 24, Average Loss: 0.0145, Accuracy: 0.6\n",
            "Validation set: Average loss: 0.0148, Accuracy: 0.60\n"
          ]
        },
        {
          "name": "stderr",
          "output_type": "stream",
          "text": [
            "100%|██████████| 352/352 [00:28<00:00, 12.33it/s]\n"
          ]
        },
        {
          "name": "stdout",
          "output_type": "stream",
          "text": [
            "Train Epoch: 25, Average Loss: 0.0145, Accuracy: 0.61\n",
            "Validation set: Average loss: 0.0148, Accuracy: 0.61\n"
          ]
        },
        {
          "name": "stderr",
          "output_type": "stream",
          "text": [
            "100%|██████████| 352/352 [00:28<00:00, 12.37it/s]\n"
          ]
        },
        {
          "name": "stdout",
          "output_type": "stream",
          "text": [
            "Train Epoch: 26, Average Loss: 0.0144, Accuracy: 0.62\n",
            "Validation set: Average loss: 0.0148, Accuracy: 0.61\n"
          ]
        },
        {
          "name": "stderr",
          "output_type": "stream",
          "text": [
            "100%|██████████| 352/352 [00:28<00:00, 12.22it/s]\n"
          ]
        },
        {
          "name": "stdout",
          "output_type": "stream",
          "text": [
            "Train Epoch: 27, Average Loss: 0.0144, Accuracy: 0.62\n",
            "Validation set: Average loss: 0.0147, Accuracy: 0.61\n"
          ]
        },
        {
          "name": "stderr",
          "output_type": "stream",
          "text": [
            "100%|██████████| 352/352 [00:28<00:00, 12.35it/s]\n"
          ]
        },
        {
          "name": "stdout",
          "output_type": "stream",
          "text": [
            "Train Epoch: 28, Average Loss: 0.0143, Accuracy: 0.63\n",
            "Validation set: Average loss: 0.0147, Accuracy: 0.62\n"
          ]
        },
        {
          "name": "stderr",
          "output_type": "stream",
          "text": [
            "100%|██████████| 352/352 [00:29<00:00, 12.08it/s]\n"
          ]
        },
        {
          "name": "stdout",
          "output_type": "stream",
          "text": [
            "Train Epoch: 29, Average Loss: 0.0142, Accuracy: 0.64\n",
            "Validation set: Average loss: 0.0147, Accuracy: 0.63\n"
          ]
        },
        {
          "name": "stderr",
          "output_type": "stream",
          "text": [
            "100%|██████████| 352/352 [00:28<00:00, 12.26it/s]\n"
          ]
        },
        {
          "name": "stdout",
          "output_type": "stream",
          "text": [
            "Train Epoch: 30, Average Loss: 0.0142, Accuracy: 0.64\n",
            "Validation set: Average loss: 0.0146, Accuracy: 0.63\n"
          ]
        },
        {
          "name": "stderr",
          "output_type": "stream",
          "text": [
            "100%|██████████| 352/352 [00:28<00:00, 12.25it/s]\n"
          ]
        },
        {
          "name": "stdout",
          "output_type": "stream",
          "text": [
            "Train Epoch: 31, Average Loss: 0.0141, Accuracy: 0.65\n",
            "Validation set: Average loss: 0.0146, Accuracy: 0.64\n"
          ]
        },
        {
          "name": "stderr",
          "output_type": "stream",
          "text": [
            "100%|██████████| 352/352 [00:28<00:00, 12.20it/s]\n"
          ]
        },
        {
          "name": "stdout",
          "output_type": "stream",
          "text": [
            "Train Epoch: 32, Average Loss: 0.0141, Accuracy: 0.65\n",
            "Validation set: Average loss: 0.0145, Accuracy: 0.65\n"
          ]
        },
        {
          "name": "stderr",
          "output_type": "stream",
          "text": [
            "100%|██████████| 352/352 [00:28<00:00, 12.37it/s]\n"
          ]
        },
        {
          "name": "stdout",
          "output_type": "stream",
          "text": [
            "Train Epoch: 33, Average Loss: 0.0141, Accuracy: 0.66\n",
            "Validation set: Average loss: 0.0146, Accuracy: 0.63\n"
          ]
        },
        {
          "name": "stderr",
          "output_type": "stream",
          "text": [
            "100%|██████████| 352/352 [00:28<00:00, 12.15it/s]\n"
          ]
        },
        {
          "name": "stdout",
          "output_type": "stream",
          "text": [
            "Train Epoch: 34, Average Loss: 0.0141, Accuracy: 0.66\n",
            "Validation set: Average loss: 0.0144, Accuracy: 0.65\n"
          ]
        },
        {
          "name": "stderr",
          "output_type": "stream",
          "text": [
            "100%|██████████| 352/352 [00:28<00:00, 12.37it/s]\n"
          ]
        },
        {
          "name": "stdout",
          "output_type": "stream",
          "text": [
            "Train Epoch: 35, Average Loss: 0.0140, Accuracy: 0.67\n",
            "Validation set: Average loss: 0.0144, Accuracy: 0.66\n"
          ]
        },
        {
          "name": "stderr",
          "output_type": "stream",
          "text": [
            "100%|██████████| 352/352 [00:29<00:00, 12.11it/s]\n"
          ]
        },
        {
          "name": "stdout",
          "output_type": "stream",
          "text": [
            "Train Epoch: 36, Average Loss: 0.0140, Accuracy: 0.68\n",
            "Validation set: Average loss: 0.0144, Accuracy: 0.65\n"
          ]
        },
        {
          "name": "stderr",
          "output_type": "stream",
          "text": [
            "100%|██████████| 352/352 [00:28<00:00, 12.27it/s]\n"
          ]
        },
        {
          "name": "stdout",
          "output_type": "stream",
          "text": [
            "Train Epoch: 37, Average Loss: 0.0139, Accuracy: 0.68\n",
            "Validation set: Average loss: 0.0143, Accuracy: 0.67\n"
          ]
        },
        {
          "name": "stderr",
          "output_type": "stream",
          "text": [
            "100%|██████████| 352/352 [00:29<00:00, 12.13it/s]\n"
          ]
        },
        {
          "name": "stdout",
          "output_type": "stream",
          "text": [
            "Train Epoch: 38, Average Loss: 0.0139, Accuracy: 0.68\n",
            "Validation set: Average loss: 0.0142, Accuracy: 0.68\n"
          ]
        },
        {
          "name": "stderr",
          "output_type": "stream",
          "text": [
            "100%|██████████| 352/352 [00:28<00:00, 12.22it/s]\n"
          ]
        },
        {
          "name": "stdout",
          "output_type": "stream",
          "text": [
            "Train Epoch: 39, Average Loss: 0.0139, Accuracy: 0.69\n",
            "Validation set: Average loss: 0.0143, Accuracy: 0.67\n"
          ]
        },
        {
          "name": "stderr",
          "output_type": "stream",
          "text": [
            "100%|██████████| 352/352 [00:28<00:00, 12.32it/s]\n"
          ]
        },
        {
          "name": "stdout",
          "output_type": "stream",
          "text": [
            "Train Epoch: 40, Average Loss: 0.0138, Accuracy: 0.69\n",
            "Validation set: Average loss: 0.0142, Accuracy: 0.69\n"
          ]
        },
        {
          "name": "stderr",
          "output_type": "stream",
          "text": [
            "100%|██████████| 352/352 [00:28<00:00, 12.43it/s]\n"
          ]
        },
        {
          "name": "stdout",
          "output_type": "stream",
          "text": [
            "Train Epoch: 41, Average Loss: 0.0138, Accuracy: 0.7\n",
            "Validation set: Average loss: 0.0143, Accuracy: 0.68\n"
          ]
        },
        {
          "name": "stderr",
          "output_type": "stream",
          "text": [
            "100%|██████████| 352/352 [00:28<00:00, 12.28it/s]\n"
          ]
        },
        {
          "name": "stdout",
          "output_type": "stream",
          "text": [
            "Train Epoch: 42, Average Loss: 0.0138, Accuracy: 0.7\n",
            "Validation set: Average loss: 0.0141, Accuracy: 0.69\n"
          ]
        },
        {
          "name": "stderr",
          "output_type": "stream",
          "text": [
            "100%|██████████| 352/352 [00:28<00:00, 12.35it/s]\n"
          ]
        },
        {
          "name": "stdout",
          "output_type": "stream",
          "text": [
            "Train Epoch: 43, Average Loss: 0.0137, Accuracy: 0.71\n",
            "Validation set: Average loss: 0.0140, Accuracy: 0.70\n"
          ]
        },
        {
          "name": "stderr",
          "output_type": "stream",
          "text": [
            "100%|██████████| 352/352 [00:28<00:00, 12.41it/s]\n"
          ]
        },
        {
          "name": "stdout",
          "output_type": "stream",
          "text": [
            "Train Epoch: 44, Average Loss: 0.0137, Accuracy: 0.71\n",
            "Validation set: Average loss: 0.0141, Accuracy: 0.69\n"
          ]
        },
        {
          "name": "stderr",
          "output_type": "stream",
          "text": [
            "100%|██████████| 352/352 [00:28<00:00, 12.28it/s]\n"
          ]
        },
        {
          "name": "stdout",
          "output_type": "stream",
          "text": [
            "Train Epoch: 45, Average Loss: 0.0136, Accuracy: 0.72\n",
            "Validation set: Average loss: 0.0141, Accuracy: 0.69\n"
          ]
        },
        {
          "name": "stderr",
          "output_type": "stream",
          "text": [
            "100%|██████████| 352/352 [00:28<00:00, 12.37it/s]\n"
          ]
        },
        {
          "name": "stdout",
          "output_type": "stream",
          "text": [
            "Train Epoch: 46, Average Loss: 0.0136, Accuracy: 0.72\n",
            "Validation set: Average loss: 0.0141, Accuracy: 0.70\n"
          ]
        },
        {
          "name": "stderr",
          "output_type": "stream",
          "text": [
            "100%|██████████| 352/352 [00:28<00:00, 12.16it/s]\n"
          ]
        },
        {
          "name": "stdout",
          "output_type": "stream",
          "text": [
            "Train Epoch: 47, Average Loss: 0.0136, Accuracy: 0.72\n",
            "Validation set: Average loss: 0.0142, Accuracy: 0.69\n"
          ]
        },
        {
          "name": "stderr",
          "output_type": "stream",
          "text": [
            "100%|██████████| 352/352 [00:28<00:00, 12.39it/s]\n"
          ]
        },
        {
          "name": "stdout",
          "output_type": "stream",
          "text": [
            "Train Epoch: 48, Average Loss: 0.0136, Accuracy: 0.73\n",
            "Validation set: Average loss: 0.0140, Accuracy: 0.71\n"
          ]
        },
        {
          "name": "stderr",
          "output_type": "stream",
          "text": [
            "100%|██████████| 352/352 [00:28<00:00, 12.23it/s]\n"
          ]
        },
        {
          "name": "stdout",
          "output_type": "stream",
          "text": [
            "Train Epoch: 49, Average Loss: 0.0136, Accuracy: 0.73\n",
            "Validation set: Average loss: 0.0142, Accuracy: 0.69\n"
          ]
        },
        {
          "name": "stderr",
          "output_type": "stream",
          "text": [
            "100%|██████████| 352/352 [00:28<00:00, 12.29it/s]\n"
          ]
        },
        {
          "name": "stdout",
          "output_type": "stream",
          "text": [
            "Train Epoch: 50, Average Loss: 0.0136, Accuracy: 0.73\n",
            "Validation set: Average loss: 0.0139, Accuracy: 0.72\n"
          ]
        },
        {
          "name": "stderr",
          "output_type": "stream",
          "text": [
            "100%|██████████| 352/352 [00:29<00:00, 12.07it/s]\n"
          ]
        },
        {
          "name": "stdout",
          "output_type": "stream",
          "text": [
            "Train Epoch: 51, Average Loss: 0.0133, Accuracy: 0.76\n",
            "Validation set: Average loss: 0.0138, Accuracy: 0.74\n"
          ]
        },
        {
          "name": "stderr",
          "output_type": "stream",
          "text": [
            "100%|██████████| 352/352 [00:28<00:00, 12.31it/s]\n"
          ]
        },
        {
          "name": "stdout",
          "output_type": "stream",
          "text": [
            "Train Epoch: 52, Average Loss: 0.0132, Accuracy: 0.77\n",
            "Validation set: Average loss: 0.0138, Accuracy: 0.74\n"
          ]
        },
        {
          "name": "stderr",
          "output_type": "stream",
          "text": [
            "100%|██████████| 352/352 [00:28<00:00, 12.19it/s]\n"
          ]
        },
        {
          "name": "stdout",
          "output_type": "stream",
          "text": [
            "Train Epoch: 53, Average Loss: 0.0132, Accuracy: 0.77\n",
            "Validation set: Average loss: 0.0138, Accuracy: 0.73\n"
          ]
        },
        {
          "name": "stderr",
          "output_type": "stream",
          "text": [
            "100%|██████████| 352/352 [00:28<00:00, 12.29it/s]\n"
          ]
        },
        {
          "name": "stdout",
          "output_type": "stream",
          "text": [
            "Train Epoch: 54, Average Loss: 0.0132, Accuracy: 0.77\n",
            "Validation set: Average loss: 0.0137, Accuracy: 0.74\n"
          ]
        },
        {
          "name": "stderr",
          "output_type": "stream",
          "text": [
            "100%|██████████| 352/352 [00:29<00:00, 12.11it/s]\n"
          ]
        },
        {
          "name": "stdout",
          "output_type": "stream",
          "text": [
            "Train Epoch: 55, Average Loss: 0.0132, Accuracy: 0.78\n",
            "Validation set: Average loss: 0.0137, Accuracy: 0.74\n"
          ]
        },
        {
          "name": "stderr",
          "output_type": "stream",
          "text": [
            "100%|██████████| 352/352 [00:28<00:00, 12.50it/s]\n"
          ]
        },
        {
          "name": "stdout",
          "output_type": "stream",
          "text": [
            "Train Epoch: 56, Average Loss: 0.0132, Accuracy: 0.78\n",
            "Validation set: Average loss: 0.0137, Accuracy: 0.74\n"
          ]
        },
        {
          "name": "stderr",
          "output_type": "stream",
          "text": [
            "100%|██████████| 352/352 [00:29<00:00, 12.10it/s]\n"
          ]
        },
        {
          "name": "stdout",
          "output_type": "stream",
          "text": [
            "Train Epoch: 57, Average Loss: 0.0132, Accuracy: 0.78\n",
            "Validation set: Average loss: 0.0137, Accuracy: 0.74\n"
          ]
        },
        {
          "name": "stderr",
          "output_type": "stream",
          "text": [
            "100%|██████████| 352/352 [00:28<00:00, 12.35it/s]\n"
          ]
        },
        {
          "name": "stdout",
          "output_type": "stream",
          "text": [
            "Train Epoch: 58, Average Loss: 0.0132, Accuracy: 0.78\n",
            "Validation set: Average loss: 0.0137, Accuracy: 0.75\n"
          ]
        },
        {
          "name": "stderr",
          "output_type": "stream",
          "text": [
            "100%|██████████| 352/352 [00:28<00:00, 12.32it/s]\n"
          ]
        },
        {
          "name": "stdout",
          "output_type": "stream",
          "text": [
            "Train Epoch: 59, Average Loss: 0.0132, Accuracy: 0.78\n",
            "Validation set: Average loss: 0.0137, Accuracy: 0.74\n"
          ]
        },
        {
          "name": "stderr",
          "output_type": "stream",
          "text": [
            "100%|██████████| 352/352 [00:28<00:00, 12.32it/s]\n"
          ]
        },
        {
          "name": "stdout",
          "output_type": "stream",
          "text": [
            "Train Epoch: 60, Average Loss: 0.0132, Accuracy: 0.78\n",
            "Validation set: Average loss: 0.0137, Accuracy: 0.75\n"
          ]
        },
        {
          "name": "stderr",
          "output_type": "stream",
          "text": [
            "100%|██████████| 352/352 [00:28<00:00, 12.35it/s]\n"
          ]
        },
        {
          "name": "stdout",
          "output_type": "stream",
          "text": [
            "Train Epoch: 61, Average Loss: 0.0132, Accuracy: 0.78\n",
            "Validation set: Average loss: 0.0137, Accuracy: 0.74\n"
          ]
        },
        {
          "name": "stderr",
          "output_type": "stream",
          "text": [
            "100%|██████████| 352/352 [00:28<00:00, 12.35it/s]\n"
          ]
        },
        {
          "name": "stdout",
          "output_type": "stream",
          "text": [
            "Train Epoch: 62, Average Loss: 0.0131, Accuracy: 0.78\n",
            "Validation set: Average loss: 0.0137, Accuracy: 0.74\n"
          ]
        },
        {
          "name": "stderr",
          "output_type": "stream",
          "text": [
            "100%|██████████| 352/352 [00:28<00:00, 12.39it/s]\n"
          ]
        },
        {
          "name": "stdout",
          "output_type": "stream",
          "text": [
            "Train Epoch: 63, Average Loss: 0.0131, Accuracy: 0.78\n",
            "Validation set: Average loss: 0.0137, Accuracy: 0.75\n"
          ]
        },
        {
          "name": "stderr",
          "output_type": "stream",
          "text": [
            "100%|██████████| 352/352 [00:28<00:00, 12.37it/s]\n"
          ]
        },
        {
          "name": "stdout",
          "output_type": "stream",
          "text": [
            "Train Epoch: 64, Average Loss: 0.0131, Accuracy: 0.78\n",
            "Validation set: Average loss: 0.0137, Accuracy: 0.75\n"
          ]
        },
        {
          "name": "stderr",
          "output_type": "stream",
          "text": [
            "100%|██████████| 352/352 [00:28<00:00, 12.40it/s]\n"
          ]
        },
        {
          "name": "stdout",
          "output_type": "stream",
          "text": [
            "Train Epoch: 65, Average Loss: 0.0131, Accuracy: 0.78\n",
            "Validation set: Average loss: 0.0137, Accuracy: 0.75\n"
          ]
        },
        {
          "name": "stderr",
          "output_type": "stream",
          "text": [
            "100%|██████████| 352/352 [00:28<00:00, 12.15it/s]\n"
          ]
        },
        {
          "name": "stdout",
          "output_type": "stream",
          "text": [
            "Train Epoch: 66, Average Loss: 0.0131, Accuracy: 0.79\n",
            "Validation set: Average loss: 0.0137, Accuracy: 0.75\n"
          ]
        },
        {
          "name": "stderr",
          "output_type": "stream",
          "text": [
            "100%|██████████| 352/352 [00:28<00:00, 12.26it/s]\n"
          ]
        },
        {
          "name": "stdout",
          "output_type": "stream",
          "text": [
            "Train Epoch: 67, Average Loss: 0.0131, Accuracy: 0.79\n",
            "Validation set: Average loss: 0.0137, Accuracy: 0.75\n"
          ]
        },
        {
          "name": "stderr",
          "output_type": "stream",
          "text": [
            "100%|██████████| 352/352 [00:28<00:00, 12.21it/s]\n"
          ]
        },
        {
          "name": "stdout",
          "output_type": "stream",
          "text": [
            "Train Epoch: 68, Average Loss: 0.0131, Accuracy: 0.79\n",
            "Validation set: Average loss: 0.0136, Accuracy: 0.75\n"
          ]
        },
        {
          "name": "stderr",
          "output_type": "stream",
          "text": [
            "100%|██████████| 352/352 [00:28<00:00, 12.51it/s]\n"
          ]
        },
        {
          "name": "stdout",
          "output_type": "stream",
          "text": [
            "Train Epoch: 69, Average Loss: 0.0131, Accuracy: 0.79\n",
            "Validation set: Average loss: 0.0136, Accuracy: 0.75\n"
          ]
        },
        {
          "name": "stderr",
          "output_type": "stream",
          "text": [
            "100%|██████████| 352/352 [00:28<00:00, 12.22it/s]\n"
          ]
        },
        {
          "name": "stdout",
          "output_type": "stream",
          "text": [
            "Train Epoch: 70, Average Loss: 0.0131, Accuracy: 0.79\n",
            "Validation set: Average loss: 0.0137, Accuracy: 0.75\n"
          ]
        },
        {
          "name": "stderr",
          "output_type": "stream",
          "text": [
            "100%|██████████| 352/352 [00:28<00:00, 12.26it/s]\n"
          ]
        },
        {
          "name": "stdout",
          "output_type": "stream",
          "text": [
            "Train Epoch: 71, Average Loss: 0.0131, Accuracy: 0.79\n",
            "Validation set: Average loss: 0.0136, Accuracy: 0.75\n"
          ]
        },
        {
          "name": "stderr",
          "output_type": "stream",
          "text": [
            "100%|██████████| 352/352 [00:28<00:00, 12.23it/s]\n"
          ]
        },
        {
          "name": "stdout",
          "output_type": "stream",
          "text": [
            "Train Epoch: 72, Average Loss: 0.0131, Accuracy: 0.79\n",
            "Validation set: Average loss: 0.0137, Accuracy: 0.75\n"
          ]
        },
        {
          "name": "stderr",
          "output_type": "stream",
          "text": [
            "100%|██████████| 352/352 [00:28<00:00, 12.15it/s]\n"
          ]
        },
        {
          "name": "stdout",
          "output_type": "stream",
          "text": [
            "Train Epoch: 73, Average Loss: 0.0131, Accuracy: 0.79\n",
            "Validation set: Average loss: 0.0136, Accuracy: 0.76\n"
          ]
        },
        {
          "name": "stderr",
          "output_type": "stream",
          "text": [
            "100%|██████████| 352/352 [00:28<00:00, 12.19it/s]\n"
          ]
        },
        {
          "name": "stdout",
          "output_type": "stream",
          "text": [
            "Train Epoch: 74, Average Loss: 0.0131, Accuracy: 0.79\n",
            "Validation set: Average loss: 0.0136, Accuracy: 0.76\n"
          ]
        },
        {
          "name": "stderr",
          "output_type": "stream",
          "text": [
            "100%|██████████| 352/352 [00:28<00:00, 12.40it/s]\n"
          ]
        },
        {
          "name": "stdout",
          "output_type": "stream",
          "text": [
            "Train Epoch: 75, Average Loss: 0.0131, Accuracy: 0.79\n",
            "Validation set: Average loss: 0.0136, Accuracy: 0.76\n"
          ]
        },
        {
          "name": "stderr",
          "output_type": "stream",
          "text": [
            "100%|██████████| 352/352 [00:28<00:00, 12.32it/s]\n"
          ]
        },
        {
          "name": "stdout",
          "output_type": "stream",
          "text": [
            "Train Epoch: 76, Average Loss: 0.0131, Accuracy: 0.79\n",
            "Validation set: Average loss: 0.0136, Accuracy: 0.76\n"
          ]
        },
        {
          "name": "stderr",
          "output_type": "stream",
          "text": [
            "100%|██████████| 352/352 [00:28<00:00, 12.34it/s]\n"
          ]
        },
        {
          "name": "stdout",
          "output_type": "stream",
          "text": [
            "Train Epoch: 77, Average Loss: 0.0131, Accuracy: 0.79\n",
            "Validation set: Average loss: 0.0136, Accuracy: 0.75\n"
          ]
        },
        {
          "name": "stderr",
          "output_type": "stream",
          "text": [
            "100%|██████████| 352/352 [00:29<00:00, 11.96it/s]\n"
          ]
        },
        {
          "name": "stdout",
          "output_type": "stream",
          "text": [
            "Train Epoch: 78, Average Loss: 0.0130, Accuracy: 0.79\n",
            "Validation set: Average loss: 0.0136, Accuracy: 0.76\n"
          ]
        },
        {
          "name": "stderr",
          "output_type": "stream",
          "text": [
            "100%|██████████| 352/352 [00:29<00:00, 11.77it/s]\n"
          ]
        },
        {
          "name": "stdout",
          "output_type": "stream",
          "text": [
            "Train Epoch: 79, Average Loss: 0.0130, Accuracy: 0.8\n",
            "Validation set: Average loss: 0.0136, Accuracy: 0.76\n"
          ]
        },
        {
          "name": "stderr",
          "output_type": "stream",
          "text": [
            "100%|██████████| 352/352 [00:28<00:00, 12.18it/s]\n"
          ]
        },
        {
          "name": "stdout",
          "output_type": "stream",
          "text": [
            "Train Epoch: 80, Average Loss: 0.0130, Accuracy: 0.8\n",
            "Validation set: Average loss: 0.0136, Accuracy: 0.76\n"
          ]
        },
        {
          "name": "stderr",
          "output_type": "stream",
          "text": [
            "100%|██████████| 352/352 [00:29<00:00, 11.91it/s]\n"
          ]
        },
        {
          "name": "stdout",
          "output_type": "stream",
          "text": [
            "Train Epoch: 81, Average Loss: 0.0130, Accuracy: 0.8\n",
            "Validation set: Average loss: 0.0136, Accuracy: 0.76\n"
          ]
        },
        {
          "name": "stderr",
          "output_type": "stream",
          "text": [
            "100%|██████████| 352/352 [00:28<00:00, 12.15it/s]\n"
          ]
        },
        {
          "name": "stdout",
          "output_type": "stream",
          "text": [
            "Train Epoch: 82, Average Loss: 0.0130, Accuracy: 0.8\n",
            "Validation set: Average loss: 0.0137, Accuracy: 0.75\n"
          ]
        },
        {
          "name": "stderr",
          "output_type": "stream",
          "text": [
            "100%|██████████| 352/352 [00:29<00:00, 11.96it/s]\n"
          ]
        },
        {
          "name": "stdout",
          "output_type": "stream",
          "text": [
            "Train Epoch: 83, Average Loss: 0.0130, Accuracy: 0.8\n",
            "Validation set: Average loss: 0.0136, Accuracy: 0.76\n"
          ]
        },
        {
          "name": "stderr",
          "output_type": "stream",
          "text": [
            "100%|██████████| 352/352 [00:28<00:00, 12.30it/s]\n"
          ]
        },
        {
          "name": "stdout",
          "output_type": "stream",
          "text": [
            "Train Epoch: 84, Average Loss: 0.0130, Accuracy: 0.8\n",
            "Validation set: Average loss: 0.0136, Accuracy: 0.76\n"
          ]
        },
        {
          "name": "stderr",
          "output_type": "stream",
          "text": [
            "100%|██████████| 352/352 [00:28<00:00, 12.23it/s]\n"
          ]
        },
        {
          "name": "stdout",
          "output_type": "stream",
          "text": [
            "Train Epoch: 85, Average Loss: 0.0130, Accuracy: 0.8\n",
            "Validation set: Average loss: 0.0136, Accuracy: 0.76\n"
          ]
        },
        {
          "name": "stderr",
          "output_type": "stream",
          "text": [
            "100%|██████████| 352/352 [00:28<00:00, 12.15it/s]\n"
          ]
        },
        {
          "name": "stdout",
          "output_type": "stream",
          "text": [
            "Train Epoch: 86, Average Loss: 0.0130, Accuracy: 0.8\n",
            "Validation set: Average loss: 0.0136, Accuracy: 0.76\n"
          ]
        },
        {
          "name": "stderr",
          "output_type": "stream",
          "text": [
            "100%|██████████| 352/352 [00:28<00:00, 12.34it/s]\n"
          ]
        },
        {
          "name": "stdout",
          "output_type": "stream",
          "text": [
            "Train Epoch: 87, Average Loss: 0.0130, Accuracy: 0.8\n",
            "Validation set: Average loss: 0.0136, Accuracy: 0.76\n"
          ]
        },
        {
          "name": "stderr",
          "output_type": "stream",
          "text": [
            "100%|██████████| 352/352 [00:28<00:00, 12.27it/s]\n"
          ]
        },
        {
          "name": "stdout",
          "output_type": "stream",
          "text": [
            "Train Epoch: 88, Average Loss: 0.0130, Accuracy: 0.8\n",
            "Validation set: Average loss: 0.0136, Accuracy: 0.76\n"
          ]
        },
        {
          "name": "stderr",
          "output_type": "stream",
          "text": [
            "100%|██████████| 352/352 [00:28<00:00, 12.19it/s]\n"
          ]
        },
        {
          "name": "stdout",
          "output_type": "stream",
          "text": [
            "Train Epoch: 89, Average Loss: 0.0130, Accuracy: 0.8\n",
            "Validation set: Average loss: 0.0136, Accuracy: 0.76\n"
          ]
        },
        {
          "name": "stderr",
          "output_type": "stream",
          "text": [
            "100%|██████████| 352/352 [00:29<00:00, 12.04it/s]\n"
          ]
        },
        {
          "name": "stdout",
          "output_type": "stream",
          "text": [
            "Train Epoch: 90, Average Loss: 0.0130, Accuracy: 0.8\n",
            "Validation set: Average loss: 0.0136, Accuracy: 0.76\n"
          ]
        },
        {
          "name": "stderr",
          "output_type": "stream",
          "text": [
            "100%|██████████| 352/352 [00:28<00:00, 12.29it/s]\n"
          ]
        },
        {
          "name": "stdout",
          "output_type": "stream",
          "text": [
            "Train Epoch: 91, Average Loss: 0.0130, Accuracy: 0.8\n",
            "Validation set: Average loss: 0.0136, Accuracy: 0.76\n"
          ]
        },
        {
          "name": "stderr",
          "output_type": "stream",
          "text": [
            "100%|██████████| 352/352 [00:29<00:00, 12.13it/s]\n"
          ]
        },
        {
          "name": "stdout",
          "output_type": "stream",
          "text": [
            "Train Epoch: 92, Average Loss: 0.0130, Accuracy: 0.81\n",
            "Validation set: Average loss: 0.0136, Accuracy: 0.77\n"
          ]
        },
        {
          "name": "stderr",
          "output_type": "stream",
          "text": [
            "100%|██████████| 352/352 [00:28<00:00, 12.44it/s]\n"
          ]
        },
        {
          "name": "stdout",
          "output_type": "stream",
          "text": [
            "Train Epoch: 93, Average Loss: 0.0130, Accuracy: 0.81\n",
            "Validation set: Average loss: 0.0135, Accuracy: 0.77\n"
          ]
        },
        {
          "name": "stderr",
          "output_type": "stream",
          "text": [
            "100%|██████████| 352/352 [00:29<00:00, 12.11it/s]\n"
          ]
        },
        {
          "name": "stdout",
          "output_type": "stream",
          "text": [
            "Train Epoch: 94, Average Loss: 0.0130, Accuracy: 0.81\n",
            "Validation set: Average loss: 0.0136, Accuracy: 0.76\n"
          ]
        },
        {
          "name": "stderr",
          "output_type": "stream",
          "text": [
            "100%|██████████| 352/352 [00:28<00:00, 12.41it/s]\n"
          ]
        },
        {
          "name": "stdout",
          "output_type": "stream",
          "text": [
            "Train Epoch: 95, Average Loss: 0.0130, Accuracy: 0.81\n",
            "Validation set: Average loss: 0.0135, Accuracy: 0.77\n"
          ]
        },
        {
          "name": "stderr",
          "output_type": "stream",
          "text": [
            "100%|██████████| 352/352 [00:29<00:00, 12.02it/s]\n"
          ]
        },
        {
          "name": "stdout",
          "output_type": "stream",
          "text": [
            "Train Epoch: 96, Average Loss: 0.0130, Accuracy: 0.81\n",
            "Validation set: Average loss: 0.0136, Accuracy: 0.76\n"
          ]
        },
        {
          "name": "stderr",
          "output_type": "stream",
          "text": [
            "100%|██████████| 352/352 [00:28<00:00, 12.33it/s]\n"
          ]
        },
        {
          "name": "stdout",
          "output_type": "stream",
          "text": [
            "Train Epoch: 97, Average Loss: 0.0129, Accuracy: 0.81\n",
            "Validation set: Average loss: 0.0135, Accuracy: 0.77\n"
          ]
        },
        {
          "name": "stderr",
          "output_type": "stream",
          "text": [
            "100%|██████████| 352/352 [00:29<00:00, 12.13it/s]\n"
          ]
        },
        {
          "name": "stdout",
          "output_type": "stream",
          "text": [
            "Train Epoch: 98, Average Loss: 0.0129, Accuracy: 0.81\n",
            "Validation set: Average loss: 0.0136, Accuracy: 0.76\n"
          ]
        },
        {
          "name": "stderr",
          "output_type": "stream",
          "text": [
            "100%|██████████| 352/352 [00:28<00:00, 12.26it/s]\n"
          ]
        },
        {
          "name": "stdout",
          "output_type": "stream",
          "text": [
            "Train Epoch: 99, Average Loss: 0.0129, Accuracy: 0.81\n",
            "Validation set: Average loss: 0.0135, Accuracy: 0.77\n"
          ]
        },
        {
          "name": "stderr",
          "output_type": "stream",
          "text": [
            "100%|██████████| 352/352 [00:28<00:00, 12.27it/s]\n"
          ]
        },
        {
          "name": "stdout",
          "output_type": "stream",
          "text": [
            "Train Epoch: 100, Average Loss: 0.0129, Accuracy: 0.81\n",
            "Validation set: Average loss: 0.0136, Accuracy: 0.76\n"
          ]
        }
      ],
      "source": [
        "from tqdm import tqdm\n",
        "\n",
        "train_losses = []\n",
        "train_accuracies = []\n",
        "val_losses = []\n",
        "val_accuracies = []\n",
        "best_val_accuracy = 0\n",
        "best_model_weights = None\n",
        "\n",
        "# Number of epochs\n",
        "epochs = 100\n",
        "\n",
        "# Training loop\n",
        "for epoch in range(1, epochs + 1):\n",
        "    # Training\n",
        "    model.train()\n",
        "    total_loss = 0\n",
        "    correct = 0\n",
        "    total_samples = 0\n",
        "    for data, target in tqdm(train_loader):\n",
        "        data, target = data.to(device), target.to(device)\n",
        "        optimizer.zero_grad()\n",
        "        output = model(data)\n",
        "        loss = criterion(output, target)\n",
        "        loss.backward()\n",
        "        optimizer.step()\n",
        "\n",
        "        # Compute training accuracy\n",
        "        pred = output.argmax(dim=1, keepdim=True)\n",
        "        correct += pred.eq(target.view_as(pred)).sum().item()\n",
        "        total_samples += data.size(0)\n",
        "\n",
        "        total_loss += loss.item()\n",
        "\n",
        "    # Calculate average training loss and accuracy\n",
        "    average_loss = total_loss / len(train_loader.dataset)\n",
        "    accuracy_train = correct / total_samples\n",
        "\n",
        "    print(f'Train Epoch: {epoch}, Average Loss: {average_loss:.4f}, Accuracy: {accuracy_train:.2}')\n",
        "\n",
        "    # Validation\n",
        "    model.eval()\n",
        "    val_loss = 0\n",
        "    correct = 0\n",
        "    with torch.no_grad():\n",
        "        for data, target in val_loader:\n",
        "            data, target = data.to(device), target.to(device)\n",
        "            output = model(data)\n",
        "            val_loss += criterion(output, target).item()\n",
        "            pred = output.argmax(dim=1, keepdim=True)\n",
        "            correct += pred.eq(target.view_as(pred)).sum().item()\n",
        "\n",
        "    val_loss /= len(val_loader.dataset)\n",
        "    accuracy_val = correct / len(val_loader.dataset)\n",
        "    print(f'Validation set: Average loss: {val_loss:.4f}, Accuracy: {accuracy_val:.2f}')\n",
        "\n",
        "    # Append values for plotting\n",
        "    train_losses.append(average_loss)\n",
        "    train_accuracies.append(accuracy_train)\n",
        "\n",
        "    # Append values for plotting\n",
        "    val_losses.append(val_loss)\n",
        "    val_accuracies.append(accuracy_val)\n",
        "\n",
        "    if accuracy_val > best_val_accuracy:\n",
        "       best_val_accuracy = accuracy_val\n",
        "       best_model_weights = model.state_dict()\n",
        "\n",
        "    scheduler.step()"
      ]
    },
    {
      "cell_type": "code",
      "execution_count": null,
      "metadata": {
        "colab": {
          "base_uri": "https://localhost:8080/"
        },
        "id": "WuwqZ-QO0wjL",
        "outputId": "eb8b6f5c-eb17-4d17-b248-c51a16514480"
      },
      "outputs": [
        {
          "name": "stdout",
          "output_type": "stream",
          "text": [
            "Test set: Average loss: 0.0133, Accuracy: 0.77\n"
          ]
        }
      ],
      "source": [
        "# Test the model\n",
        "model.eval()\n",
        "test_loss = 0\n",
        "correct = 0\n",
        "with torch.no_grad():\n",
        "    for data, target in test_loader:\n",
        "        data, target = data.to(device), target.to(device)\n",
        "        output = model(data)\n",
        "        test_loss += criterion(output, target).item()\n",
        "        pred = output.argmax(dim=1, keepdim=True)\n",
        "        correct += pred.eq(target.view_as(pred)).sum().item()\n",
        "\n",
        "test_loss /= len(test_loader.dataset)\n",
        "accuracy = correct / len(test_loader.dataset)\n",
        "print(f'Test set: Average loss: {test_loss:.4f}, Accuracy: {accuracy:.2f}')"
      ]
    },
    {
      "cell_type": "code",
      "execution_count": null,
      "metadata": {
        "colab": {
          "base_uri": "https://localhost:8080/",
          "height": 487
        },
        "id": "nIDeTmzE2VsD",
        "outputId": "1bfecb85-14f6-4aa1-d54b-2070636a8d57"
      },
      "outputs": [
        {
          "data": {
            "image/png": "[encoded data removed]",
            "text/plain": [
              "<Figure size 1200x500 with 2 Axes>"
            ]
          },
          "metadata": {},
          "output_type": "display_data"
        }
      ],
      "source": [
        "# Plotting\n",
        "epochs_range = range(1, epochs + 1)\n",
        "\n",
        "# Plotting Loss\n",
        "plt.figure(figsize=(12, 5))\n",
        "plt.subplot(1, 2, 1)\n",
        "plt.plot(epochs_range, train_losses, label='Training Loss')\n",
        "plt.plot(epochs_range, val_losses, label='Validation Loss')\n",
        "plt.xlabel('Epochs')\n",
        "plt.ylabel('Loss')\n",
        "plt.title('Training and Validation Loss')\n",
        "plt.legend()\n",
        "\n",
        "# Plotting Accuracy\n",
        "plt.subplot(1, 2, 2)\n",
        "plt.plot(epochs_range, train_accuracies, label='Training Accuracy')\n",
        "plt.plot(epochs_range, val_accuracies, label='Validation Accuracy')\n",
        "plt.xlabel('Epochs')\n",
        "plt.ylabel('Accuracy')\n",
        "plt.title('Training and Validation Accuracy')\n",
        "plt.legend()\n",
        "\n",
        "plt.show()"
      ]
    },
    {
      "cell_type": "code",
      "execution_count": null,
      "metadata": {
        "id": "3Oti3DwZ8yKr"
      },
      "outputs": [],
      "source": [
        "torch.save(model.state_dict(), 'trained_MyResNet.pth')"
      ]
    },
    {
      "cell_type": "markdown",
      "metadata": {
        "id": "OfqHgCXG8626"
      },
      "source": [
        "# Metrics"
      ]
    },
    {
      "cell_type": "code",
      "execution_count": 4,
      "metadata": {
        "colab": {
          "base_uri": "https://localhost:8080/"
        },
        "id": "nh-RF16rylap",
        "outputId": "4eb955fe-0d19-450d-ebf8-d2c9c69cda5f"
      },
      "outputs": [
        {
          "name": "stdout",
          "output_type": "stream",
          "text": [
            "Cloning into 'data_complexity_measures'...\n",
            "remote: Enumerating objects: 143, done.\u001b[K\n",
            "remote: Counting objects: 100% (143/143), done.\u001b[K\n",
            "remote: Compressing objects: 100% (130/130), done.\u001b[K\n",
            "remote: Total 143 (delta 82), reused 33 (delta 9), pack-reused 0\u001b[K\n",
            "Receiving objects: 100% (143/143), 144.63 KiB | 16.07 MiB/s, done.\n",
            "Resolving deltas: 100% (82/82), done.\n"
          ]
        }
      ],
      "source": [
        "!git clone https://github.com/K-Hooshanfar/data_complexity_measures"
      ]
    },
    {
      "cell_type": "code",
      "execution_count": 4,
      "metadata": {
        "id": "ualFz4VNyldg"
      },
      "outputs": [],
      "source": [
        "from data_complexity_measures.models.ARH_SeparationIndex import ARH_SeparationIndex"
      ]
    },
    {
      "cell_type": "code",
      "execution_count": 5,
      "metadata": {
        "id": "YjZkdFOH82Y2"
      },
      "outputs": [],
      "source": [
        "import torch\n",
        "from tqdm import tqdm"
      ]
    },
    {
      "cell_type": "code",
      "execution_count": 6,
      "metadata": {
        "colab": {
          "base_uri": "https://localhost:8080/"
        },
        "id": "--zmThYyw1Fm",
        "outputId": "d6f8d458-5abe-46fe-b420-6c0c0b3ae3e8"
      },
      "outputs": [
        {
          "data": {
            "text/plain": [
              "<All keys matched successfully>"
            ]
          },
          "execution_count": 6,
          "metadata": {},
          "output_type": "execute_result"
        }
      ],
      "source": [
        "# Load the pre-trained model\n",
        "state_dict = torch.load('/content/trained_MyResNet.pth')\n",
        "\n",
        "model = MyResNet()\n",
        "model.load_state_dict(state_dict)"
      ]
    },
    {
      "cell_type": "markdown",
      "metadata": {
        "id": "ZF2DYxO_A9U6"
      },
      "source": [
        "# Metrics of Train Loader"
      ]
    },
    {
      "cell_type": "code",
      "execution_count": 7,
      "metadata": {
        "id": "6_540O7x5IfH"
      },
      "outputs": [],
      "source": [
        "transform_train = transforms.Compose([\n",
        "    transforms.ToTensor(),\n",
        "    transforms.Normalize((0.5, 0.5, 0.5), (0.5, 0.5, 0.5))\n",
        "])\n",
        "\n",
        "\n",
        "transform_test = transforms.Compose([\n",
        "    transforms.ToTensor(),\n",
        "    transforms.Normalize((0.5, 0.5, 0.5), (0.5, 0.5, 0.5))\n",
        "])"
      ]
    },
    {
      "cell_type": "code",
      "execution_count": 8,
      "metadata": {
        "colab": {
          "base_uri": "https://localhost:8080/"
        },
        "id": "29YmcYjx5Gmb",
        "outputId": "330ce2fc-2e5a-4388-b136-03f8c53bfa21"
      },
      "outputs": [
        {
          "name": "stdout",
          "output_type": "stream",
          "text": [
            "Files already downloaded and verified\n",
            "Files already downloaded and verified\n"
          ]
        }
      ],
      "source": [
        "from sklearn.model_selection import train_test_split\n",
        "\n",
        "# Load CIFAR-10 dataset\n",
        "train_dataset = datasets.CIFAR10(root='./data', train=True, download=True, transform=transform_train)\n",
        "test_dataset = datasets.CIFAR10(root='./data', train=False, download=True, transform=transform_test)\n",
        "\n",
        "# Splitting train dataset into train and validation sets\n",
        "train_size = int(0.9 * len(train_dataset))\n",
        "val_size = len(train_dataset) - train_size\n",
        "train_dataset, val_dataset = random_split(train_dataset, [train_size, val_size])\n",
        "\n",
        "# Convert test_dataset to a list or NumPy array\n",
        "test_data_list = [(img, label) for img, label in test_dataset]\n",
        "\n",
        "# Further split train_dataset into train_loader_dataset and 10% balanced subset\n",
        "train_loader_dataset, _ = train_test_split(train_dataset.dataset, train_size=int(0.1 * len(train_dataset)),\n",
        "                                           test_size=None, shuffle=True, stratify=train_dataset.dataset.targets)\n",
        "\n",
        "# Similarly, for the test_loader\n",
        "test_loader_dataset, _ = train_test_split(test_data_list, train_size=int(0.1 * len(test_dataset)),\n",
        "                                          test_size=None, shuffle=True, stratify=test_dataset.targets)\n",
        "\n",
        "# Data loaders\n",
        "train_loader = DataLoader(train_loader_dataset, batch_size=128, shuffle=True)\n",
        "val_loader = DataLoader(val_dataset, batch_size=128, shuffle=False)\n",
        "test_loader = DataLoader(test_loader_dataset, batch_size=128, shuffle=False)\n"
      ]
    },
    {
      "cell_type": "code",
      "execution_count": 10,
      "metadata": {
        "id": "HDgRcZ1K4DHJ"
      },
      "outputs": [],
      "source": [
        "features_per_layer = {}\n",
        "labels = []\n",
        "\n",
        "# Get the total number of layers in the model\n",
        "total_layers = len(list(model.children()))\n",
        "\n",
        "# Exclude the last four layers\n",
        "layers_to_be_deleted = set(list(model.children())[-4:])\n",
        "\n",
        "# Attach hooks to each layer except the excluded ones\n",
        "features_per_layer = {}\n",
        "for name, layer in model.named_children():\n",
        "    if layer not in layers_to_be_deleted:\n",
        "        features_per_layer[name] = []\n",
        "        def hook(module, input, output, name=name):\n",
        "            features_per_layer[name].append(output.detach())\n",
        "        layer.register_forward_hook(hook)"
      ]
    },
    {
      "cell_type": "code",
      "execution_count": 11,
      "metadata": {
        "colab": {
          "base_uri": "https://localhost:8080/"
        },
        "id": "9r8DaqOE4DJV",
        "outputId": "cffcb7a2-86fc-41b4-8dfa-8c1ba645c718"
      },
      "outputs": [
        {
          "name": "stderr",
          "output_type": "stream",
          "text": [
            "100%|██████████| 36/36 [00:07<00:00,  4.83it/s]\n"
          ]
        }
      ],
      "source": [
        "model.to('cuda:0' if torch.cuda.is_available() else 'cpu')\n",
        "model.eval()\n",
        "device = torch.device(\"cuda\" if torch.cuda.is_available() else \"cpu\")\n",
        "\n",
        "with torch.no_grad():\n",
        "    for inputs, targets in tqdm(train_loader):\n",
        "        inputs = inputs.to(device)\n",
        "        model(inputs)\n",
        "        labels.append(targets.cpu())\n",
        "\n",
        "# Flatten and concatenate\n",
        "for layer_name, layer_features in features_per_layer.items():\n",
        "    if layer_features:\n",
        "        features_per_layer[layer_name] = torch.cat([f.view(f.size(0), -1) for f in layer_features])\n",
        "\n",
        "labels = torch.cat(labels)"
      ]
    },
    {
      "cell_type": "markdown",
      "metadata": {
        "id": "ncZaSI3M7fAx"
      },
      "source": [
        "# SI"
      ]
    },
    {
      "cell_type": "code",
      "execution_count": 12,
      "metadata": {
        "colab": {
          "base_uri": "https://localhost:8080/"
        },
        "id": "ajgWSG9ny4lX",
        "outputId": "6e4a103f-725d-4286-d958-46cf3fef6516"
      },
      "outputs": [
        {
          "name": "stdout",
          "output_type": "stream",
          "text": [
            "Data has been normalized\n"
          ]
        },
        {
          "name": "stderr",
          "output_type": "stream",
          "text": [
            "Calculating SI: 100%|██████████| 5/5 [00:00<00:00, 498.61it/s]\n"
          ]
        },
        {
          "name": "stdout",
          "output_type": "stream",
          "text": [
            "Data has been normalized\n"
          ]
        },
        {
          "name": "stderr",
          "output_type": "stream",
          "text": [
            "Calculating SI: 100%|██████████| 5/5 [00:00<00:00, 4324.02it/s]\n"
          ]
        },
        {
          "name": "stdout",
          "output_type": "stream",
          "text": [
            "Data has been normalized\n"
          ]
        },
        {
          "name": "stderr",
          "output_type": "stream",
          "text": [
            "Calculating SI: 100%|██████████| 5/5 [00:00<00:00, 1722.79it/s]\n"
          ]
        },
        {
          "name": "stdout",
          "output_type": "stream",
          "text": [
            "Data has been normalized\n"
          ]
        },
        {
          "name": "stderr",
          "output_type": "stream",
          "text": [
            "Calculating SI: 100%|██████████| 5/5 [00:00<00:00, 1713.92it/s]\n"
          ]
        },
        {
          "name": "stdout",
          "output_type": "stream",
          "text": [
            "Data has been normalized\n"
          ]
        },
        {
          "name": "stderr",
          "output_type": "stream",
          "text": [
            "Calculating SI: 100%|██████████| 5/5 [00:00<00:00, 4141.30it/s]\n"
          ]
        },
        {
          "name": "stdout",
          "output_type": "stream",
          "text": [
            "Data has been normalized\n"
          ]
        },
        {
          "name": "stderr",
          "output_type": "stream",
          "text": [
            "Calculating SI: 100%|██████████| 5/5 [00:00<00:00, 3597.79it/s]\n"
          ]
        },
        {
          "name": "stdout",
          "output_type": "stream",
          "text": [
            "Data has been normalized\n"
          ]
        },
        {
          "name": "stderr",
          "output_type": "stream",
          "text": [
            "Calculating SI: 100%|██████████| 5/5 [00:00<00:00, 3998.38it/s]\n"
          ]
        },
        {
          "name": "stdout",
          "output_type": "stream",
          "text": [
            "Data has been normalized\n"
          ]
        },
        {
          "name": "stderr",
          "output_type": "stream",
          "text": [
            "Calculating SI: 100%|██████████| 5/5 [00:00<00:00, 2023.30it/s]\n"
          ]
        },
        {
          "name": "stdout",
          "output_type": "stream",
          "text": [
            "Data has been normalized\n"
          ]
        },
        {
          "name": "stderr",
          "output_type": "stream",
          "text": [
            "Calculating SI: 100%|██████████| 5/5 [00:00<00:00, 4286.02it/s]\n"
          ]
        },
        {
          "name": "stdout",
          "output_type": "stream",
          "text": [
            "Data has been normalized\n"
          ]
        },
        {
          "name": "stderr",
          "output_type": "stream",
          "text": [
            "Calculating SI: 100%|██████████| 5/5 [00:00<00:00, 1781.47it/s]\n"
          ]
        },
        {
          "name": "stdout",
          "output_type": "stream",
          "text": [
            "Data has been normalized\n"
          ]
        },
        {
          "name": "stderr",
          "output_type": "stream",
          "text": [
            "Calculating SI: 100%|██████████| 5/5 [00:00<00:00, 4404.86it/s]\n"
          ]
        },
        {
          "name": "stdout",
          "output_type": "stream",
          "text": [
            "Data has been normalized\n"
          ]
        },
        {
          "name": "stderr",
          "output_type": "stream",
          "text": [
            "Calculating SI: 100%|██████████| 5/5 [00:00<00:00, 3350.08it/s]\n"
          ]
        },
        {
          "name": "stdout",
          "output_type": "stream",
          "text": [
            "Data has been normalized\n"
          ]
        },
        {
          "name": "stderr",
          "output_type": "stream",
          "text": [
            "Calculating SI: 100%|██████████| 5/5 [00:00<00:00, 4759.76it/s]\n"
          ]
        },
        {
          "name": "stdout",
          "output_type": "stream",
          "text": [
            "Data has been normalized\n"
          ]
        },
        {
          "name": "stderr",
          "output_type": "stream",
          "text": [
            "Calculating SI: 100%|██████████| 5/5 [00:00<00:00, 4460.13it/s]\n"
          ]
        }
      ],
      "source": [
        "si_train = []\n",
        "\n",
        "for layer_name, features in features_per_layer.items():\n",
        "    instance_disturbance = ARH_SeparationIndex(features, labels, normalize=True)\n",
        "    si = instance_disturbance.si_batch(batch_size=1000)\n",
        "    si_train.append((layer_name, si))"
      ]
    },
    {
      "cell_type": "code",
      "execution_count": 13,
      "metadata": {
        "colab": {
          "base_uri": "https://localhost:8080/"
        },
        "id": "ZIArBAD9LNuh",
        "outputId": "faf95d6b-78da-4710-ac90-dc56cf2edab7"
      },
      "outputs": [
        {
          "data": {
            "text/plain": [
              "[('conv1', 0.21088889241218567),\n",
              " ('activation1', 0.21222221851348877),\n",
              " ('conv2', 0.20222222805023193),\n",
              " ('activation2', 0.19866666197776794),\n",
              " ('maxpool1', 0.28022223711013794),\n",
              " ('resblock1', 0.34066668152809143),\n",
              " ('maxpool2', 0.44022223353385925),\n",
              " ('conv3', 0.39399999380111694),\n",
              " ('activation3', 0.36622223258018494),\n",
              " ('maxpool3', 0.526888906955719),\n",
              " ('conv4', 0.5180000066757202),\n",
              " ('activation4', 0.48222222924232483),\n",
              " ('resblock2', 0.608222246170044),\n",
              " ('avgpool', 0.6777777671813965)]"
            ]
          },
          "execution_count": 13,
          "metadata": {},
          "output_type": "execute_result"
        }
      ],
      "source": [
        "si_train"
      ]
    },
    {
      "cell_type": "code",
      "execution_count": 17,
      "metadata": {
        "colab": {
          "base_uri": "https://localhost:8080/",
          "height": 536
        },
        "id": "Vtk6nON12MqT",
        "outputId": "4d201fb7-1325-4d1d-8669-9e38dd2b4304"
      },
      "outputs": [
        {
          "data": {
            "image/png": "[encoded data removed]",
            "text/plain": [
              "<Figure size 640x480 with 1 Axes>"
            ]
          },
          "metadata": {},
          "output_type": "display_data"
        }
      ],
      "source": [
        "plt.plot([layer for layer, _ in si_train], [si for _, si in si_train])\n",
        "plt.xlabel('Layer')\n",
        "plt.ylabel('SI')\n",
        "plt.title('SI vs Layer number')\n",
        "plt.xticks(rotation=90)\n",
        "plt.show()"
      ]
    },
    {
      "cell_type": "markdown",
      "metadata": {
        "id": "ZSqP6ebE-5hk"
      },
      "source": [
        "# Center Si"
      ]
    },
    {
      "cell_type": "code",
      "execution_count": 14,
      "metadata": {
        "colab": {
          "base_uri": "https://localhost:8080/"
        },
        "id": "wfAWSjx47mZp",
        "outputId": "6af16137-eda1-462e-c13a-2af25d0c14d0"
      },
      "outputs": [
        {
          "name": "stdout",
          "output_type": "stream",
          "text": [
            "Data has been normalized\n"
          ]
        },
        {
          "name": "stderr",
          "output_type": "stream",
          "text": [
            "Calculating CSI: 100%|██████████| 5/5 [00:00<00:00, 1988.95it/s]\n"
          ]
        },
        {
          "name": "stdout",
          "output_type": "stream",
          "text": [
            "Data has been normalized\n"
          ]
        },
        {
          "name": "stderr",
          "output_type": "stream",
          "text": [
            "Calculating CSI: 100%|██████████| 5/5 [00:00<00:00, 2002.44it/s]\n"
          ]
        },
        {
          "name": "stdout",
          "output_type": "stream",
          "text": [
            "Data has been normalized\n"
          ]
        },
        {
          "name": "stderr",
          "output_type": "stream",
          "text": [
            "Calculating CSI: 100%|██████████| 5/5 [00:00<00:00, 1569.14it/s]\n"
          ]
        },
        {
          "name": "stdout",
          "output_type": "stream",
          "text": [
            "Data has been normalized\n"
          ]
        },
        {
          "name": "stderr",
          "output_type": "stream",
          "text": [
            "Calculating CSI: 100%|██████████| 5/5 [00:00<00:00, 1547.49it/s]\n"
          ]
        },
        {
          "name": "stdout",
          "output_type": "stream",
          "text": [
            "Data has been normalized\n"
          ]
        },
        {
          "name": "stderr",
          "output_type": "stream",
          "text": [
            "Calculating CSI: 100%|██████████| 5/5 [00:00<00:00, 1023.55it/s]\n"
          ]
        },
        {
          "name": "stdout",
          "output_type": "stream",
          "text": [
            "Data has been normalized\n"
          ]
        },
        {
          "name": "stderr",
          "output_type": "stream",
          "text": [
            "Calculating CSI: 100%|██████████| 5/5 [00:00<00:00, 1823.29it/s]\n"
          ]
        },
        {
          "name": "stdout",
          "output_type": "stream",
          "text": [
            "Data has been normalized\n"
          ]
        },
        {
          "name": "stderr",
          "output_type": "stream",
          "text": [
            "Calculating CSI: 100%|██████████| 5/5 [00:00<00:00, 1753.62it/s]\n"
          ]
        },
        {
          "name": "stdout",
          "output_type": "stream",
          "text": [
            "Data has been normalized\n"
          ]
        },
        {
          "name": "stderr",
          "output_type": "stream",
          "text": [
            "Calculating CSI: 100%|██████████| 5/5 [00:00<00:00, 1628.98it/s]\n"
          ]
        },
        {
          "name": "stdout",
          "output_type": "stream",
          "text": [
            "Data has been normalized\n"
          ]
        },
        {
          "name": "stderr",
          "output_type": "stream",
          "text": [
            "Calculating CSI: 100%|██████████| 5/5 [00:00<00:00, 2237.92it/s]\n"
          ]
        },
        {
          "name": "stdout",
          "output_type": "stream",
          "text": [
            "Data has been normalized\n"
          ]
        },
        {
          "name": "stderr",
          "output_type": "stream",
          "text": [
            "Calculating CSI: 100%|██████████| 5/5 [00:00<00:00, 1999.00it/s]\n"
          ]
        },
        {
          "name": "stdout",
          "output_type": "stream",
          "text": [
            "Data has been normalized\n"
          ]
        },
        {
          "name": "stderr",
          "output_type": "stream",
          "text": [
            "Calculating CSI: 100%|██████████| 5/5 [00:00<00:00, 974.83it/s]\n"
          ]
        },
        {
          "name": "stdout",
          "output_type": "stream",
          "text": [
            "Data has been normalized\n"
          ]
        },
        {
          "name": "stderr",
          "output_type": "stream",
          "text": [
            "Calculating CSI: 100%|██████████| 5/5 [00:00<00:00, 1137.90it/s]\n"
          ]
        },
        {
          "name": "stdout",
          "output_type": "stream",
          "text": [
            "Data has been normalized\n"
          ]
        },
        {
          "name": "stderr",
          "output_type": "stream",
          "text": [
            "Calculating CSI: 100%|██████████| 5/5 [00:00<00:00, 1905.12it/s]\n"
          ]
        },
        {
          "name": "stdout",
          "output_type": "stream",
          "text": [
            "Data has been normalized\n"
          ]
        },
        {
          "name": "stderr",
          "output_type": "stream",
          "text": [
            "Calculating CSI: 100%|██████████| 5/5 [00:00<00:00, 1341.49it/s]\n"
          ]
        }
      ],
      "source": [
        "csi_train = []\n",
        "\n",
        "for layer_name, features in features_per_layer.items():\n",
        "    instance_disturbance = ARH_SeparationIndex(features, labels, normalize=True)\n",
        "    csi = instance_disturbance.center_si_batch(batch_size=1000)\n",
        "    csi_train.append((layer_name, csi))"
      ]
    },
    {
      "cell_type": "code",
      "execution_count": 15,
      "metadata": {
        "colab": {
          "base_uri": "https://localhost:8080/"
        },
        "id": "rpEl_VF0Lxp6",
        "outputId": "cae0d84a-cda9-41c2-93ec-1c4d4b842543"
      },
      "outputs": [
        {
          "data": {
            "text/plain": [
              "[('conv1', 0.36133334040641785),\n",
              " ('activation1', 0.36533334851264954),\n",
              " ('conv2', 0.3633333444595337),\n",
              " ('activation2', 0.39044445753097534),\n",
              " ('maxpool1', 0.44244444370269775),\n",
              " ('resblock1', 0.5460000038146973),\n",
              " ('maxpool2', 0.5695555806159973),\n",
              " ('conv3', 0.5291110873222351),\n",
              " ('activation3', 0.5635555386543274),\n",
              " ('maxpool3', 0.6286666989326477),\n",
              " ('conv4', 0.565333366394043),\n",
              " ('activation4', 0.6217777729034424),\n",
              " ('resblock2', 0.7084444761276245),\n",
              " ('avgpool', 0.7468888759613037)]"
            ]
          },
          "execution_count": 15,
          "metadata": {},
          "output_type": "execute_result"
        }
      ],
      "source": [
        "csi_train"
      ]
    },
    {
      "cell_type": "code",
      "execution_count": 19,
      "metadata": {
        "colab": {
          "base_uri": "https://localhost:8080/",
          "height": 536
        },
        "id": "Krikd3Ip_ARk",
        "outputId": "12d69340-1e17-4043-e61a-0c7c37e9a1af"
      },
      "outputs": [
        {
          "data": {
            "image/png": "[encoded data removed]",
            "text/plain": [
              "<Figure size 640x480 with 1 Axes>"
            ]
          },
          "metadata": {},
          "output_type": "display_data"
        }
      ],
      "source": [
        "plt.plot([layer for layer, _ in csi_train], [si for _, si in csi_train])\n",
        "plt.xlabel('Layer')\n",
        "plt.ylabel('SI')\n",
        "plt.title('CSI vs Layer number')\n",
        "plt.xticks(rotation=90)\n",
        "plt.show()"
      ]
    },
    {
      "cell_type": "markdown",
      "metadata": {
        "id": "YK-lTpXG_bfv"
      },
      "source": [
        "# Metrics of Test Loader"
      ]
    },
    {
      "cell_type": "code",
      "execution_count": 11,
      "metadata": {
        "colab": {
          "base_uri": "https://localhost:8080/"
        },
        "id": "HFSKRMLW_JHV",
        "outputId": "2e90d73e-8178-44d2-e23e-9730cbbd829a"
      },
      "outputs": [
        {
          "name": "stderr",
          "output_type": "stream",
          "text": [
            "100%|██████████| 8/8 [00:00<00:00, 112.71it/s]\n"
          ]
        }
      ],
      "source": [
        "model.to('cuda:0' if torch.cuda.is_available() else 'cpu')\n",
        "model.eval()\n",
        "device = torch.device(\"cuda\" if torch.cuda.is_available() else \"cpu\")\n",
        "\n",
        "with torch.no_grad():\n",
        "    for inputs, targets in tqdm(test_loader):\n",
        "        inputs = inputs.to(device)\n",
        "        model(inputs)\n",
        "        labels.append(targets.cpu())\n",
        "\n",
        "# Flatten and concatenate\n",
        "for layer_name, layer_features in features_per_layer.items():\n",
        "    if layer_features:\n",
        "        features_per_layer[layer_name] = torch.cat([f.view(f.size(0), -1) for f in layer_features])\n",
        "\n",
        "labels = torch.cat(labels)"
      ]
    },
    {
      "cell_type": "markdown",
      "metadata": {
        "id": "0V9329n-ACAU"
      },
      "source": [
        "# SI"
      ]
    },
    {
      "cell_type": "code",
      "execution_count": 12,
      "metadata": {
        "colab": {
          "base_uri": "https://localhost:8080/"
        },
        "id": "dLKb0QjB_1Zs",
        "outputId": "d0a185da-676c-4d33-e692-c51b6aa767bf"
      },
      "outputs": [
        {
          "name": "stdout",
          "output_type": "stream",
          "text": [
            "Data has been normalized\n"
          ]
        },
        {
          "name": "stderr",
          "output_type": "stream",
          "text": [
            "Calculating SI: 100%|██████████| 1/1 [00:00<00:00, 428.73it/s]\n"
          ]
        },
        {
          "name": "stdout",
          "output_type": "stream",
          "text": [
            "Data has been normalized\n"
          ]
        },
        {
          "name": "stderr",
          "output_type": "stream",
          "text": [
            "Calculating SI: 100%|██████████| 1/1 [00:00<00:00, 2122.62it/s]\n"
          ]
        },
        {
          "name": "stdout",
          "output_type": "stream",
          "text": [
            "Data has been normalized\n"
          ]
        },
        {
          "name": "stderr",
          "output_type": "stream",
          "text": [
            "Calculating SI: 100%|██████████| 1/1 [00:00<00:00, 315.27it/s]\n"
          ]
        },
        {
          "name": "stdout",
          "output_type": "stream",
          "text": [
            "Data has been normalized\n"
          ]
        },
        {
          "name": "stderr",
          "output_type": "stream",
          "text": [
            "Calculating SI: 100%|██████████| 1/1 [00:00<00:00, 1221.76it/s]\n"
          ]
        },
        {
          "name": "stdout",
          "output_type": "stream",
          "text": [
            "Data has been normalized\n"
          ]
        },
        {
          "name": "stderr",
          "output_type": "stream",
          "text": [
            "Calculating SI: 100%|██████████| 1/1 [00:00<00:00, 1311.54it/s]\n"
          ]
        },
        {
          "name": "stdout",
          "output_type": "stream",
          "text": [
            "Data has been normalized\n"
          ]
        },
        {
          "name": "stderr",
          "output_type": "stream",
          "text": [
            "Calculating SI: 100%|██████████| 1/1 [00:00<00:00, 1268.31it/s]\n"
          ]
        },
        {
          "name": "stdout",
          "output_type": "stream",
          "text": [
            "Data has been normalized\n"
          ]
        },
        {
          "name": "stderr",
          "output_type": "stream",
          "text": [
            "Calculating SI: 100%|██████████| 1/1 [00:00<00:00, 1375.18it/s]\n"
          ]
        },
        {
          "name": "stdout",
          "output_type": "stream",
          "text": [
            "Data has been normalized\n"
          ]
        },
        {
          "name": "stderr",
          "output_type": "stream",
          "text": [
            "Calculating SI: 100%|██████████| 1/1 [00:00<00:00, 1037.94it/s]\n"
          ]
        },
        {
          "name": "stdout",
          "output_type": "stream",
          "text": [
            "Data has been normalized\n"
          ]
        },
        {
          "name": "stderr",
          "output_type": "stream",
          "text": [
            "Calculating SI: 100%|██████████| 1/1 [00:00<00:00, 3125.41it/s]\n"
          ]
        },
        {
          "name": "stdout",
          "output_type": "stream",
          "text": [
            "Data has been normalized\n"
          ]
        },
        {
          "name": "stderr",
          "output_type": "stream",
          "text": [
            "Calculating SI: 100%|██████████| 1/1 [00:00<00:00, 3527.59it/s]\n"
          ]
        },
        {
          "name": "stdout",
          "output_type": "stream",
          "text": [
            "Data has been normalized\n"
          ]
        },
        {
          "name": "stderr",
          "output_type": "stream",
          "text": [
            "Calculating SI: 100%|██████████| 1/1 [00:00<00:00, 1269.08it/s]\n"
          ]
        },
        {
          "name": "stdout",
          "output_type": "stream",
          "text": [
            "Data has been normalized\n"
          ]
        },
        {
          "name": "stderr",
          "output_type": "stream",
          "text": [
            "Calculating SI: 100%|██████████| 1/1 [00:00<00:00, 1272.16it/s]"
          ]
        },
        {
          "name": "stdout",
          "output_type": "stream",
          "text": [
            "Data has been normalized"
          ]
        },
        {
          "name": "stderr",
          "output_type": "stream",
          "text": [
            "\n"
          ]
        },
        {
          "name": "stdout",
          "output_type": "stream",
          "text": [
            "\n"
          ]
        },
        {
          "name": "stderr",
          "output_type": "stream",
          "text": [
            "Calculating SI: 100%|██████████| 1/1 [00:00<00:00, 1870.79it/s]\n"
          ]
        },
        {
          "name": "stdout",
          "output_type": "stream",
          "text": [
            "Data has been normalized\n"
          ]
        },
        {
          "name": "stderr",
          "output_type": "stream",
          "text": [
            "Calculating SI: 100%|██████████| 1/1 [00:00<00:00, 2785.06it/s]\n"
          ]
        }
      ],
      "source": [
        "si_test = []\n",
        "\n",
        "for layer_name, features in features_per_layer.items():\n",
        "    instance_disturbance = ARH_SeparationIndex(features, labels, normalize=True)\n",
        "    si = instance_disturbance.si_batch(batch_size=1000)\n",
        "    si_test.append((layer_name, si))"
      ]
    },
    {
      "cell_type": "code",
      "execution_count": 13,
      "metadata": {
        "colab": {
          "base_uri": "https://localhost:8080/"
        },
        "id": "7RCVVgauMSKy",
        "outputId": "02e6d651-7195-4b45-ba4e-3400b6837822"
      },
      "outputs": [
        {
          "data": {
            "text/plain": [
              "[('conv1', 0.20200000703334808),\n",
              " ('activation1', 0.20000000298023224),\n",
              " ('conv2', 0.19700001180171967),\n",
              " ('activation2', 0.1940000057220459),\n",
              " ('maxpool1', 0.242000013589859),\n",
              " ('resblock1', 0.2800000011920929),\n",
              " ('maxpool2', 0.3750000298023224),\n",
              " ('conv3', 0.3290000259876251),\n",
              " ('activation3', 0.31700000166893005),\n",
              " ('maxpool3', 0.45100003480911255),\n",
              " ('conv4', 0.4610000252723694),\n",
              " ('activation4', 0.4140000343322754),\n",
              " ('resblock2', 0.5360000133514404),\n",
              " ('avgpool', 0.6030000448226929)]"
            ]
          },
          "execution_count": 13,
          "metadata": {},
          "output_type": "execute_result"
        }
      ],
      "source": [
        "si_test"
      ]
    },
    {
      "cell_type": "code",
      "execution_count": null,
      "metadata": {
        "id": "UBx-VKmJMHUZ"
      },
      "outputs": [],
      "source": [
        "si_test"
      ]
    },
    {
      "cell_type": "code",
      "execution_count": 12,
      "metadata": {
        "colab": {
          "base_uri": "https://localhost:8080/",
          "height": 536
        },
        "id": "RwtPNfg8AFtU",
        "outputId": "d4219b03-e9dc-4cda-d89d-3f98d8811ad4"
      },
      "outputs": [
        {
          "data": {
            "image/png": "[encoded data removed]",
            "text/plain": [
              "<Figure size 640x480 with 1 Axes>"
            ]
          },
          "metadata": {},
          "output_type": "display_data"
        }
      ],
      "source": [
        "plt.plot([layer for layer, _ in si_test], [si for _, si in si_test])\n",
        "plt.xlabel('Layer')\n",
        "plt.ylabel('SI')\n",
        "plt.title('SI vs Layer number')\n",
        "plt.xticks(rotation=90)\n",
        "plt.show()"
      ]
    },
    {
      "cell_type": "markdown",
      "metadata": {
        "id": "vmMFRlAOAXB0"
      },
      "source": [
        "# Center Si"
      ]
    },
    {
      "cell_type": "code",
      "execution_count": 14,
      "metadata": {
        "colab": {
          "base_uri": "https://localhost:8080/"
        },
        "id": "ozqG6qb2AQ2S",
        "outputId": "e11d353d-cda6-4525-b376-8ffba6d289a2"
      },
      "outputs": [
        {
          "name": "stdout",
          "output_type": "stream",
          "text": [
            "Data has been normalized\n"
          ]
        },
        {
          "name": "stderr",
          "output_type": "stream",
          "text": [
            "Calculating CSI: 100%|██████████| 1/1 [00:00<00:00, 1333.22it/s]\n"
          ]
        },
        {
          "name": "stdout",
          "output_type": "stream",
          "text": [
            "Data has been normalized\n"
          ]
        },
        {
          "name": "stderr",
          "output_type": "stream",
          "text": [
            "Calculating CSI: 100%|██████████| 1/1 [00:00<00:00, 1255.78it/s]\n"
          ]
        },
        {
          "name": "stdout",
          "output_type": "stream",
          "text": [
            "Data has been normalized\n"
          ]
        },
        {
          "name": "stderr",
          "output_type": "stream",
          "text": [
            "Calculating CSI: 100%|██████████| 1/1 [00:00<00:00, 742.88it/s]"
          ]
        },
        {
          "name": "stdout",
          "output_type": "stream",
          "text": [
            "Data has been normalized\n"
          ]
        },
        {
          "name": "stderr",
          "output_type": "stream",
          "text": [
            "\n",
            "Calculating CSI: 100%|██████████| 1/1 [00:00<00:00, 1552.30it/s]\n"
          ]
        },
        {
          "name": "stdout",
          "output_type": "stream",
          "text": [
            "Data has been normalized\n"
          ]
        },
        {
          "name": "stderr",
          "output_type": "stream",
          "text": [
            "Calculating CSI: 100%|██████████| 1/1 [00:00<00:00, 1484.71it/s]"
          ]
        },
        {
          "name": "stdout",
          "output_type": "stream",
          "text": [
            "Data has been normalized\n"
          ]
        },
        {
          "name": "stderr",
          "output_type": "stream",
          "text": [
            "\n",
            "Calculating CSI: 100%|██████████| 1/1 [00:00<00:00, 1437.39it/s]\n"
          ]
        },
        {
          "name": "stdout",
          "output_type": "stream",
          "text": [
            "Data has been normalized\n"
          ]
        },
        {
          "name": "stderr",
          "output_type": "stream",
          "text": [
            "Calculating CSI: 100%|██████████| 1/1 [00:00<00:00, 1476.87it/s]\n"
          ]
        },
        {
          "name": "stdout",
          "output_type": "stream",
          "text": [
            "Data has been normalized\n"
          ]
        },
        {
          "name": "stderr",
          "output_type": "stream",
          "text": [
            "Calculating CSI: 100%|██████████| 1/1 [00:00<00:00, 469.74it/s]"
          ]
        },
        {
          "name": "stdout",
          "output_type": "stream",
          "text": [
            "Data has been normalized\n"
          ]
        },
        {
          "name": "stderr",
          "output_type": "stream",
          "text": [
            "\n",
            "Calculating CSI: 100%|██████████| 1/1 [00:00<00:00, 1747.63it/s]\n"
          ]
        },
        {
          "name": "stdout",
          "output_type": "stream",
          "text": [
            "Data has been normalized\n"
          ]
        },
        {
          "name": "stderr",
          "output_type": "stream",
          "text": [
            "Calculating CSI: 100%|██████████| 1/1 [00:00<00:00, 1561.54it/s]\n"
          ]
        },
        {
          "name": "stdout",
          "output_type": "stream",
          "text": [
            "Data has been normalized\n"
          ]
        },
        {
          "name": "stderr",
          "output_type": "stream",
          "text": [
            "Calculating CSI: 100%|██████████| 1/1 [00:00<00:00, 1749.81it/s]\n"
          ]
        },
        {
          "name": "stdout",
          "output_type": "stream",
          "text": [
            "Data has been normalized\n"
          ]
        },
        {
          "name": "stderr",
          "output_type": "stream",
          "text": [
            "Calculating CSI: 100%|██████████| 1/1 [00:00<00:00, 1046.74it/s]\n"
          ]
        },
        {
          "name": "stdout",
          "output_type": "stream",
          "text": [
            "Data has been normalized\n"
          ]
        },
        {
          "name": "stderr",
          "output_type": "stream",
          "text": [
            "Calculating CSI: 100%|██████████| 1/1 [00:00<00:00, 1649.35it/s]\n"
          ]
        },
        {
          "name": "stdout",
          "output_type": "stream",
          "text": [
            "Data has been normalized\n"
          ]
        },
        {
          "name": "stderr",
          "output_type": "stream",
          "text": [
            "Calculating CSI: 100%|██████████| 1/1 [00:00<00:00, 1286.60it/s]\n"
          ]
        }
      ],
      "source": [
        "csi_test = []\n",
        "\n",
        "for layer_name, features in features_per_layer.items():\n",
        "    instance_disturbance = ARH_SeparationIndex(features, labels, normalize=True)\n",
        "    csi = instance_disturbance.center_si_batch(batch_size=1000)\n",
        "    csi_test.append((layer_name, csi))"
      ]
    },
    {
      "cell_type": "code",
      "execution_count": 15,
      "metadata": {
        "colab": {
          "base_uri": "https://localhost:8080/"
        },
        "id": "UrlXlliUMTep",
        "outputId": "ae3452fc-a1ae-4da9-81d4-c79c90f36284"
      },
      "outputs": [
        {
          "data": {
            "text/plain": [
              "[('conv1', 0.44200003147125244),\n",
              " ('activation1', 0.4390000104904175),\n",
              " ('conv2', 0.453000009059906),\n",
              " ('activation2', 0.48900002241134644),\n",
              " ('maxpool1', 0.5160000324249268),\n",
              " ('resblock1', 0.64000004529953),\n",
              " ('maxpool2', 0.6500000357627869),\n",
              " ('conv3', 0.6140000224113464),\n",
              " ('activation3', 0.6720000505447388),\n",
              " ('maxpool3', 0.6810000538825989),\n",
              " ('conv4', 0.6160000562667847),\n",
              " ('activation4', 0.6960000395774841),\n",
              " ('resblock2', 0.7190000414848328),\n",
              " ('avgpool', 0.706000030040741)]"
            ]
          },
          "execution_count": 15,
          "metadata": {},
          "output_type": "execute_result"
        }
      ],
      "source": [
        "csi_test"
      ]
    },
    {
      "cell_type": "code",
      "execution_count": 15,
      "metadata": {
        "colab": {
          "base_uri": "https://localhost:8080/",
          "height": 536
        },
        "id": "-VKHN7coAfsk",
        "outputId": "cadd5358-3d59-4086-96b5-2093e374b054"
      },
      "outputs": [
        {
          "data": {
            "image/png": "[encoded data removed]",
            "text/plain": [
              "<Figure size 640x480 with 1 Axes>"
            ]
          },
          "metadata": {},
          "output_type": "display_data"
        }
      ],
      "source": [
        "plt.plot([layer for layer, _ in csi_test], [si for _, si in csi_test])\n",
        "plt.xlabel('Layer')\n",
        "plt.ylabel('SI')\n",
        "plt.title('CSI vs Layer number')\n",
        "plt.xticks(rotation=90)\n",
        "plt.show()"
      ]
    }
  ],
  "metadata": {
    "accelerator": "GPU",
    "colab": {
      "gpuType": "T4",
      "provenance": []
    },
    "kernelspec": {
      "display_name": "Python 3",
      "name": "python3"
    },
    "language_info": {
      "name": "python"
    }
  },
  "nbformat": 4,
  "nbformat_minor": 0
}
