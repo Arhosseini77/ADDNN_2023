{
  "nbformat": 4,
  "nbformat_minor": 0,
  "metadata": {
    "colab": {
      "provenance": [],
      "gpuType": "T4"
    },
    "kernelspec": {
      "name": "python3",
      "display_name": "Python 3"
    },
    "language_info": {
      "name": "python"
    },
    "accelerator": "GPU"
  },
  "cells": [
    {
      "cell_type": "markdown",
      "source": [
        "# Libraries"
      ],
      "metadata": {
        "id": "iUFE4fb7FCmJ"
      }
    },
    {
      "cell_type": "code",
      "execution_count": 1,
      "metadata": {
        "id": "Qe7XJJioStwT"
      },
      "outputs": [],
      "source": [
        "import torch\n",
        "import torch.nn as nn\n",
        "import torch.nn.functional as F\n",
        "from torchvision import datasets, transforms\n",
        "import torch.optim as optim\n",
        "from torch.optim.lr_scheduler import StepLR\n",
        "from sklearn.model_selection import train_test_split\n",
        "from torch.utils.data import DataLoader, random_split\n",
        "import matplotlib.pyplot as plt\n",
        "from tqdm import tqdm"
      ]
    },
    {
      "cell_type": "code",
      "source": [
        "!pip install --q torchsummary"
      ],
      "metadata": {
        "id": "GLsUxzHWS9rX"
      },
      "execution_count": 2,
      "outputs": []
    },
    {
      "cell_type": "markdown",
      "source": [
        "# Resnext - path 4"
      ],
      "metadata": {
        "id": "x3Sbp9AIFEyj"
      }
    },
    {
      "cell_type": "code",
      "source": [
        "import torch.nn as nn\n",
        "\n",
        "class GP_Block(nn.Module):\n",
        "    def __init__(self, in_channels, out_channels):\n",
        "        super(GP_Block, self).__init__()\n",
        "\n",
        "        # Path 1\n",
        "        self.conv1_path1 = nn.Conv2d(in_channels, out_channels, kernel_size=3, padding=1)\n",
        "        self.activation = nn.ELU()\n",
        "        self.conv2_path1 = nn.Conv2d(out_channels, out_channels, kernel_size=3, padding=1)\n",
        "\n",
        "        # Path 2\n",
        "        self.conv1_path2 = nn.Conv2d(in_channels, out_channels, kernel_size=3, padding=1)\n",
        "        self.conv2_path2 = nn.Conv2d(out_channels, out_channels, kernel_size=3, padding=1)\n",
        "\n",
        "        # Path 3\n",
        "        self.conv1_path3 = nn.Conv2d(in_channels, out_channels, kernel_size=3, padding=1)\n",
        "        self.conv2_path3 = nn.Conv2d(out_channels, out_channels, kernel_size=3, padding=1)\n",
        "\n",
        "        # Path 4\n",
        "        self.conv1_path4 = nn.Conv2d(in_channels, out_channels, kernel_size=3, padding=1)\n",
        "        self.conv2_path4 = nn.Conv2d(out_channels, out_channels, kernel_size=3, padding=1)\n",
        "\n",
        "    def forward(self, x):\n",
        "        shortcut = x  # Save the input as a shortcut for the residual connection\n",
        "\n",
        "        # Path 1\n",
        "        x1 = self.conv1_path1(x)\n",
        "        x1 = self.activation(x1)\n",
        "        x1 = self.conv2_path1(x1)\n",
        "\n",
        "        # Path 2\n",
        "        x2 = self.conv1_path2(x)\n",
        "        x2 = self.activation(x2)\n",
        "        x2 = self.conv2_path2(x2)\n",
        "\n",
        "        # Path 3\n",
        "        x3 = self.conv1_path3(x)\n",
        "        x3 = self.activation(x3)\n",
        "        x3 = self.conv2_path3(x3)\n",
        "\n",
        "        # Path 4\n",
        "        x4 = self.conv1_path4(x)\n",
        "        x4 = self.activation(x4)\n",
        "        x4 = self.conv2_path4(x4)\n",
        "\n",
        "        # Combine paths (element-wise addition)\n",
        "        x = x1 + x2 + x3 + x4\n",
        "\n",
        "        # Final combination with the shortcut (residual connection)\n",
        "        x += shortcut\n",
        "        x = self.activation(x)  # Apply activation function to the final output\n",
        "\n",
        "        return x\n",
        "\n",
        "# Define the main ResNet model\n",
        "class MyResNext(nn.Module):\n",
        "    # Constructor\n",
        "    def __init__(self):\n",
        "        super(MyResNext, self).__init__()\n",
        "        # Initial convolutional layers\n",
        "        self.conv1 = nn.Conv2d(3, 32, kernel_size=3, padding=1)\n",
        "        self.activation1 = nn.ELU()\n",
        "        self.conv2 = nn.Conv2d(32, 64, kernel_size=3, padding=1)\n",
        "        self.activation2 = nn.ELU()\n",
        "        self.maxpool1 = nn.MaxPool2d(kernel_size=2)\n",
        "\n",
        "        # Residual blocks\n",
        "        self.resblock1 = GP_Block(64, 64)\n",
        "        self.maxpool2 = nn.MaxPool2d(kernel_size=2)\n",
        "        self.conv3 = nn.Conv2d(64, 128, kernel_size=3, padding=1)\n",
        "        self.activation3 = nn.ELU()\n",
        "        self.maxpool3 = nn.MaxPool2d(kernel_size=2)\n",
        "        self.conv4 = nn.Conv2d(128, 256, kernel_size=3, padding=1)\n",
        "        self.activation4 = nn.ELU()\n",
        "        self.resblock2 = GP_Block(256, 256)\n",
        "\n",
        "        # Average pooling and fully connected layers\n",
        "        self.avgpool = nn.AvgPool2d(kernel_size=3, stride=2)\n",
        "        self.flatten = nn.Flatten()\n",
        "        self.dense1 = nn.Linear(256, 256)\n",
        "        self.dense2 = nn.Linear(256, 10)\n",
        "        self.softmax = nn.Softmax(dim=1)\n",
        "\n",
        "    # Forward method for the model\n",
        "    def forward(self, x):\n",
        "        x = self.conv1(x)\n",
        "        x = self.activation1(x)\n",
        "        x = self.conv2(x)\n",
        "        x = self.activation2(x)\n",
        "        x = self.maxpool1(x)\n",
        "\n",
        "        x = self.resblock1(x)\n",
        "        x = self.conv3(x)\n",
        "        x = self.activation3(x)\n",
        "        x = self.maxpool2(x)\n",
        "\n",
        "        x = self.conv4(x)\n",
        "        x = self.activation4(x)\n",
        "        x = self.maxpool3(x)\n",
        "        x = self.resblock2(x)\n",
        "        x = self.avgpool(x)\n",
        "        x = self.flatten(x)\n",
        "        x = self.dense1(x)\n",
        "        x = self.dense2(x)\n",
        "        x = self.softmax(x)\n",
        "        return x\n"
      ],
      "metadata": {
        "id": "IUbFqmgSS-jJ"
      },
      "execution_count": 3,
      "outputs": []
    },
    {
      "cell_type": "code",
      "source": [
        "from torchsummary import summary\n",
        "\n",
        "# Instantiate the model\n",
        "model = MyResNext()\n",
        "\n",
        "# Move the model to GPU if available\n",
        "device = torch.device(\"cuda\" if torch.cuda.is_available() else \"cpu\")\n",
        "model.to(device)\n",
        "\n",
        "# Print the model summary\n",
        "summary(model, (3, 32, 32))"
      ],
      "metadata": {
        "colab": {
          "base_uri": "https://localhost:8080/"
        },
        "id": "7xxqQoGHTulx",
        "outputId": "4931474e-4215-41ef-af15-d9564b2bbfbe"
      },
      "execution_count": 5,
      "outputs": [
        {
          "output_type": "stream",
          "name": "stdout",
          "text": [
            "----------------------------------------------------------------\n",
            "        Layer (type)               Output Shape         Param #\n",
            "================================================================\n",
            "            Conv2d-1           [-1, 32, 32, 32]             896\n",
            "               ELU-2           [-1, 32, 32, 32]               0\n",
            "            Conv2d-3           [-1, 64, 32, 32]          18,496\n",
            "               ELU-4           [-1, 64, 32, 32]               0\n",
            "         MaxPool2d-5           [-1, 64, 16, 16]               0\n",
            "            Conv2d-6           [-1, 64, 16, 16]          36,928\n",
            "               ELU-7           [-1, 64, 16, 16]               0\n",
            "            Conv2d-8           [-1, 64, 16, 16]          36,928\n",
            "            Conv2d-9           [-1, 64, 16, 16]          36,928\n",
            "              ELU-10           [-1, 64, 16, 16]               0\n",
            "           Conv2d-11           [-1, 64, 16, 16]          36,928\n",
            "           Conv2d-12           [-1, 64, 16, 16]          36,928\n",
            "              ELU-13           [-1, 64, 16, 16]               0\n",
            "           Conv2d-14           [-1, 64, 16, 16]          36,928\n",
            "           Conv2d-15           [-1, 64, 16, 16]          36,928\n",
            "              ELU-16           [-1, 64, 16, 16]               0\n",
            "           Conv2d-17           [-1, 64, 16, 16]          36,928\n",
            "              ELU-18           [-1, 64, 16, 16]               0\n",
            "         GP_Block-19           [-1, 64, 16, 16]               0\n",
            "           Conv2d-20          [-1, 128, 16, 16]          73,856\n",
            "              ELU-21          [-1, 128, 16, 16]               0\n",
            "        MaxPool2d-22            [-1, 128, 8, 8]               0\n",
            "           Conv2d-23            [-1, 256, 8, 8]         295,168\n",
            "              ELU-24            [-1, 256, 8, 8]               0\n",
            "        MaxPool2d-25            [-1, 256, 4, 4]               0\n",
            "           Conv2d-26            [-1, 256, 4, 4]         590,080\n",
            "              ELU-27            [-1, 256, 4, 4]               0\n",
            "           Conv2d-28            [-1, 256, 4, 4]         590,080\n",
            "           Conv2d-29            [-1, 256, 4, 4]         590,080\n",
            "              ELU-30            [-1, 256, 4, 4]               0\n",
            "           Conv2d-31            [-1, 256, 4, 4]         590,080\n",
            "           Conv2d-32            [-1, 256, 4, 4]         590,080\n",
            "              ELU-33            [-1, 256, 4, 4]               0\n",
            "           Conv2d-34            [-1, 256, 4, 4]         590,080\n",
            "           Conv2d-35            [-1, 256, 4, 4]         590,080\n",
            "              ELU-36            [-1, 256, 4, 4]               0\n",
            "           Conv2d-37            [-1, 256, 4, 4]         590,080\n",
            "              ELU-38            [-1, 256, 4, 4]               0\n",
            "         GP_Block-39            [-1, 256, 4, 4]               0\n",
            "        AvgPool2d-40            [-1, 256, 1, 1]               0\n",
            "          Flatten-41                  [-1, 256]               0\n",
            "           Linear-42                  [-1, 256]          65,792\n",
            "           Linear-43                   [-1, 10]           2,570\n",
            "          Softmax-44                   [-1, 10]               0\n",
            "================================================================\n",
            "Total params: 5,472,842\n",
            "Trainable params: 5,472,842\n",
            "Non-trainable params: 0\n",
            "----------------------------------------------------------------\n",
            "Input size (MB): 0.01\n",
            "Forward/backward pass size (MB): 4.66\n",
            "Params size (MB): 20.88\n",
            "Estimated Total Size (MB): 25.55\n",
            "----------------------------------------------------------------\n"
          ]
        }
      ]
    },
    {
      "cell_type": "markdown",
      "source": [
        "# Dataset"
      ],
      "metadata": {
        "id": "hv4dwbmvFMjc"
      }
    },
    {
      "cell_type": "code",
      "source": [
        "# Data augmentation transformations for training data\n",
        "data_augmentation_train = transforms.Compose([\n",
        "    transforms.RandomHorizontalFlip(),  # Randomly flip the image horizontally\n",
        "    transforms.RandomRotation(15),  # Randomly rotate the image by 15 degrees\n",
        "    transforms.RandomVerticalFlip(),  # Randomly flip the image vertically\n",
        "    transforms.ToTensor(),  # Convert the image to a PyTorch tensor\n",
        "    transforms.Normalize((0.5, 0.5, 0.5), (0.5, 0.5, 0.5))  # Normalize the tensor values\n",
        "])\n",
        "\n",
        "# Data preprocessing transformations for test/validation data\n",
        "data_preprocessing_test = transforms.Compose([\n",
        "    transforms.ToTensor(),  # Convert the image to a PyTorch tensor\n",
        "    transforms.Normalize((0.5, 0.5, 0.5), (0.5, 0.5, 0.5)) # Normalize the tensor values\n",
        "])\n",
        "\n",
        "\n",
        "# Load CIFAR-10 dataset\n",
        "# Training set with data augmentation\n",
        "train_dataset = datasets.CIFAR10(root='./data', train=True, download=True, transform=data_augmentation_train)\n",
        "# Test set with data preprocessing\n",
        "test_dataset = datasets.CIFAR10(root='./data', train=False, download=True, transform=data_preprocessing_test)\n",
        "\n",
        "# Splitting the training dataset into training and validation sets\n",
        "train_size = int(0.9 * len(train_dataset))\n",
        "val_size = len(train_dataset) - train_size\n",
        "train_dataset, val_dataset = random_split(train_dataset, [train_size, val_size])\n",
        "\n",
        "# Data loaders\n",
        "batch_size = 128\n",
        "# Training data loader\n",
        "train_loader = DataLoader(train_dataset, batch_size=batch_size, shuffle=True)\n",
        "# Validation data loader\n",
        "val_loader = DataLoader(val_dataset, batch_size=batch_size, shuffle=False)\n",
        "# Test data loader\n",
        "test_loader = DataLoader(test_dataset, batch_size=batch_size, shuffle=False)"
      ],
      "metadata": {
        "colab": {
          "base_uri": "https://localhost:8080/"
        },
        "id": "Q_qqznwcTy1s",
        "outputId": "8ae9991d-0166-42ec-84c8-308c36d1b75b"
      },
      "execution_count": 6,
      "outputs": [
        {
          "output_type": "stream",
          "name": "stdout",
          "text": [
            "Downloading https://www.cs.toronto.edu/~kriz/cifar-10-python.tar.gz to ./data/cifar-10-python.tar.gz\n"
          ]
        },
        {
          "output_type": "stream",
          "name": "stderr",
          "text": [
            "100%|██████████| 170498071/170498071 [00:05<00:00, 30953093.52it/s]\n"
          ]
        },
        {
          "output_type": "stream",
          "name": "stdout",
          "text": [
            "Extracting ./data/cifar-10-python.tar.gz to ./data\n",
            "Files already downloaded and verified\n"
          ]
        }
      ]
    },
    {
      "cell_type": "markdown",
      "source": [
        "# Training"
      ],
      "metadata": {
        "id": "lntl824GFOhO"
      }
    },
    {
      "cell_type": "code",
      "source": [
        "device = torch.device(\"cuda:0\" if torch.cuda.is_available() else \"cpu\")\n",
        "model = MyResNext().to(device)"
      ],
      "metadata": {
        "id": "CRFQqM4BTzzu"
      },
      "execution_count": 7,
      "outputs": []
    },
    {
      "cell_type": "code",
      "source": [
        "# Optimizer, Learning Rate Scheduler, and Loss Criterion\n",
        "# Stochastic Gradient Descent (SGD) optimizer\n",
        "optimizer = optim.SGD(model.parameters(), lr=0.01, momentum=0.9)\n",
        "# Learning rate scheduler with step decay\n",
        "scheduler = StepLR(optimizer, step_size=50, gamma=0.1)\n",
        "# CrossEntropyLoss criterion for classification tasks\n",
        "criterion = nn.CrossEntropyLoss()"
      ],
      "metadata": {
        "id": "zB_ct4MHT1M4"
      },
      "execution_count": 8,
      "outputs": []
    },
    {
      "cell_type": "code",
      "source": [
        "from tqdm import tqdm\n",
        "\n",
        "train_losses = []\n",
        "train_accuracies = []\n",
        "val_losses = []\n",
        "val_accuracies = []\n",
        "best_val_accuracy = 0\n",
        "best_model_weights = None\n",
        "\n",
        "# Number of epochs\n",
        "epochs = 100\n",
        "\n",
        "# Training loop\n",
        "for epoch in range(1, epochs + 1):\n",
        "    # Training\n",
        "    model.train()\n",
        "    total_loss = 0\n",
        "    correct = 0\n",
        "    total_samples = 0\n",
        "    for data, target in tqdm(train_loader):\n",
        "        data, target = data.to(device), target.to(device)\n",
        "        optimizer.zero_grad()\n",
        "        output = model(data)\n",
        "        loss = criterion(output, target)\n",
        "        loss.backward()\n",
        "        optimizer.step()\n",
        "\n",
        "        # Compute training accuracy\n",
        "        pred = output.argmax(dim=1, keepdim=True)\n",
        "        correct += pred.eq(target.view_as(pred)).sum().item()\n",
        "        total_samples += data.size(0)\n",
        "\n",
        "        total_loss += loss.item()\n",
        "\n",
        "    # Calculate average training loss and accuracy\n",
        "    average_loss = total_loss / len(train_loader.dataset)\n",
        "    accuracy_train = correct / total_samples\n",
        "\n",
        "    print(f'Train Epoch: {epoch}, Average Loss: {average_loss:.4f}, Accuracy: {accuracy_train:.2}')\n",
        "\n",
        "    # Validation\n",
        "    model.eval()\n",
        "    val_loss = 0\n",
        "    correct = 0\n",
        "    with torch.no_grad():\n",
        "        for data, target in val_loader:\n",
        "            data, target = data.to(device), target.to(device)\n",
        "            output = model(data)\n",
        "            val_loss += criterion(output, target).item()\n",
        "            pred = output.argmax(dim=1, keepdim=True)\n",
        "            correct += pred.eq(target.view_as(pred)).sum().item()\n",
        "\n",
        "    val_loss /= len(val_loader.dataset)\n",
        "    accuracy_val = correct / len(val_loader.dataset)\n",
        "    print(f'Validation set: Average loss: {val_loss:.4f}, Accuracy: {accuracy_val:.2f}')\n",
        "\n",
        "    # Append values for plotting\n",
        "    train_losses.append(average_loss)\n",
        "    train_accuracies.append(accuracy_train)\n",
        "\n",
        "    # Append values for plotting\n",
        "    val_losses.append(val_loss)\n",
        "    val_accuracies.append(accuracy_val)\n",
        "\n",
        "    if accuracy_val > best_val_accuracy:\n",
        "       best_val_accuracy = accuracy_val\n",
        "       best_model_weights = model.state_dict()\n",
        "\n",
        "    scheduler.step()"
      ],
      "metadata": {
        "colab": {
          "base_uri": "https://localhost:8080/"
        },
        "id": "j5rR203tT2Bu",
        "outputId": "eaff6eb1-826d-4a95-d384-54cffbfee1eb"
      },
      "execution_count": 9,
      "outputs": [
        {
          "output_type": "stream",
          "name": "stderr",
          "text": [
            "100%|██████████| 352/352 [00:47<00:00,  7.35it/s]\n"
          ]
        },
        {
          "output_type": "stream",
          "name": "stdout",
          "text": [
            "Train Epoch: 1, Average Loss: 0.0179, Accuracy: 0.15\n",
            "Validation set: Average loss: 0.0178, Accuracy: 0.19\n"
          ]
        },
        {
          "output_type": "stream",
          "name": "stderr",
          "text": [
            "100%|██████████| 352/352 [00:33<00:00, 10.41it/s]\n"
          ]
        },
        {
          "output_type": "stream",
          "name": "stdout",
          "text": [
            "Train Epoch: 2, Average Loss: 0.0174, Accuracy: 0.21\n",
            "Validation set: Average loss: 0.0176, Accuracy: 0.25\n"
          ]
        },
        {
          "output_type": "stream",
          "name": "stderr",
          "text": [
            "100%|██████████| 352/352 [00:35<00:00,  9.94it/s]\n"
          ]
        },
        {
          "output_type": "stream",
          "name": "stdout",
          "text": [
            "Train Epoch: 3, Average Loss: 0.0171, Accuracy: 0.27\n",
            "Validation set: Average loss: 0.0173, Accuracy: 0.30\n"
          ]
        },
        {
          "output_type": "stream",
          "name": "stderr",
          "text": [
            "100%|██████████| 352/352 [00:33<00:00, 10.51it/s]\n"
          ]
        },
        {
          "output_type": "stream",
          "name": "stdout",
          "text": [
            "Train Epoch: 4, Average Loss: 0.0167, Accuracy: 0.31\n",
            "Validation set: Average loss: 0.0170, Accuracy: 0.32\n"
          ]
        },
        {
          "output_type": "stream",
          "name": "stderr",
          "text": [
            "100%|██████████| 352/352 [00:33<00:00, 10.40it/s]\n"
          ]
        },
        {
          "output_type": "stream",
          "name": "stdout",
          "text": [
            "Train Epoch: 5, Average Loss: 0.0165, Accuracy: 0.34\n",
            "Validation set: Average loss: 0.0168, Accuracy: 0.35\n"
          ]
        },
        {
          "output_type": "stream",
          "name": "stderr",
          "text": [
            "100%|██████████| 352/352 [00:34<00:00, 10.17it/s]\n"
          ]
        },
        {
          "output_type": "stream",
          "name": "stdout",
          "text": [
            "Train Epoch: 6, Average Loss: 0.0163, Accuracy: 0.37\n",
            "Validation set: Average loss: 0.0166, Accuracy: 0.38\n"
          ]
        },
        {
          "output_type": "stream",
          "name": "stderr",
          "text": [
            "100%|██████████| 352/352 [00:33<00:00, 10.47it/s]\n"
          ]
        },
        {
          "output_type": "stream",
          "name": "stdout",
          "text": [
            "Train Epoch: 7, Average Loss: 0.0162, Accuracy: 0.39\n",
            "Validation set: Average loss: 0.0163, Accuracy: 0.41\n"
          ]
        },
        {
          "output_type": "stream",
          "name": "stderr",
          "text": [
            "100%|██████████| 352/352 [00:34<00:00, 10.21it/s]\n"
          ]
        },
        {
          "output_type": "stream",
          "name": "stdout",
          "text": [
            "Train Epoch: 8, Average Loss: 0.0160, Accuracy: 0.41\n",
            "Validation set: Average loss: 0.0163, Accuracy: 0.42\n"
          ]
        },
        {
          "output_type": "stream",
          "name": "stderr",
          "text": [
            "100%|██████████| 352/352 [00:34<00:00, 10.15it/s]\n"
          ]
        },
        {
          "output_type": "stream",
          "name": "stdout",
          "text": [
            "Train Epoch: 9, Average Loss: 0.0159, Accuracy: 0.43\n",
            "Validation set: Average loss: 0.0161, Accuracy: 0.45\n"
          ]
        },
        {
          "output_type": "stream",
          "name": "stderr",
          "text": [
            "100%|██████████| 352/352 [00:33<00:00, 10.40it/s]\n"
          ]
        },
        {
          "output_type": "stream",
          "name": "stdout",
          "text": [
            "Train Epoch: 10, Average Loss: 0.0157, Accuracy: 0.45\n",
            "Validation set: Average loss: 0.0161, Accuracy: 0.45\n"
          ]
        },
        {
          "output_type": "stream",
          "name": "stderr",
          "text": [
            "100%|██████████| 352/352 [00:34<00:00, 10.15it/s]\n"
          ]
        },
        {
          "output_type": "stream",
          "name": "stdout",
          "text": [
            "Train Epoch: 11, Average Loss: 0.0156, Accuracy: 0.46\n",
            "Validation set: Average loss: 0.0158, Accuracy: 0.48\n"
          ]
        },
        {
          "output_type": "stream",
          "name": "stderr",
          "text": [
            "100%|██████████| 352/352 [00:33<00:00, 10.39it/s]\n"
          ]
        },
        {
          "output_type": "stream",
          "name": "stdout",
          "text": [
            "Train Epoch: 12, Average Loss: 0.0155, Accuracy: 0.48\n",
            "Validation set: Average loss: 0.0156, Accuracy: 0.50\n"
          ]
        },
        {
          "output_type": "stream",
          "name": "stderr",
          "text": [
            "100%|██████████| 352/352 [00:34<00:00, 10.21it/s]\n"
          ]
        },
        {
          "output_type": "stream",
          "name": "stdout",
          "text": [
            "Train Epoch: 13, Average Loss: 0.0153, Accuracy: 0.51\n",
            "Validation set: Average loss: 0.0154, Accuracy: 0.53\n"
          ]
        },
        {
          "output_type": "stream",
          "name": "stderr",
          "text": [
            "100%|██████████| 352/352 [00:33<00:00, 10.51it/s]\n"
          ]
        },
        {
          "output_type": "stream",
          "name": "stdout",
          "text": [
            "Train Epoch: 14, Average Loss: 0.0152, Accuracy: 0.52\n",
            "Validation set: Average loss: 0.0154, Accuracy: 0.53\n"
          ]
        },
        {
          "output_type": "stream",
          "name": "stderr",
          "text": [
            "100%|██████████| 352/352 [00:33<00:00, 10.40it/s]\n"
          ]
        },
        {
          "output_type": "stream",
          "name": "stdout",
          "text": [
            "Train Epoch: 15, Average Loss: 0.0150, Accuracy: 0.54\n",
            "Validation set: Average loss: 0.0152, Accuracy: 0.56\n"
          ]
        },
        {
          "output_type": "stream",
          "name": "stderr",
          "text": [
            "100%|██████████| 352/352 [00:34<00:00, 10.19it/s]\n"
          ]
        },
        {
          "output_type": "stream",
          "name": "stdout",
          "text": [
            "Train Epoch: 16, Average Loss: 0.0149, Accuracy: 0.55\n",
            "Validation set: Average loss: 0.0151, Accuracy: 0.58\n"
          ]
        },
        {
          "output_type": "stream",
          "name": "stderr",
          "text": [
            "100%|██████████| 352/352 [00:33<00:00, 10.47it/s]\n"
          ]
        },
        {
          "output_type": "stream",
          "name": "stdout",
          "text": [
            "Train Epoch: 17, Average Loss: 0.0148, Accuracy: 0.57\n",
            "Validation set: Average loss: 0.0151, Accuracy: 0.57\n"
          ]
        },
        {
          "output_type": "stream",
          "name": "stderr",
          "text": [
            "100%|██████████| 352/352 [00:33<00:00, 10.39it/s]\n"
          ]
        },
        {
          "output_type": "stream",
          "name": "stdout",
          "text": [
            "Train Epoch: 18, Average Loss: 0.0147, Accuracy: 0.58\n",
            "Validation set: Average loss: 0.0151, Accuracy: 0.57\n"
          ]
        },
        {
          "output_type": "stream",
          "name": "stderr",
          "text": [
            "100%|██████████| 352/352 [00:34<00:00, 10.27it/s]\n"
          ]
        },
        {
          "output_type": "stream",
          "name": "stdout",
          "text": [
            "Train Epoch: 19, Average Loss: 0.0146, Accuracy: 0.6\n",
            "Validation set: Average loss: 0.0149, Accuracy: 0.60\n"
          ]
        },
        {
          "output_type": "stream",
          "name": "stderr",
          "text": [
            "100%|██████████| 352/352 [00:33<00:00, 10.52it/s]\n"
          ]
        },
        {
          "output_type": "stream",
          "name": "stdout",
          "text": [
            "Train Epoch: 20, Average Loss: 0.0145, Accuracy: 0.61\n",
            "Validation set: Average loss: 0.0149, Accuracy: 0.60\n"
          ]
        },
        {
          "output_type": "stream",
          "name": "stderr",
          "text": [
            "100%|██████████| 352/352 [00:35<00:00, 10.05it/s]\n"
          ]
        },
        {
          "output_type": "stream",
          "name": "stdout",
          "text": [
            "Train Epoch: 21, Average Loss: 0.0144, Accuracy: 0.61\n",
            "Validation set: Average loss: 0.0148, Accuracy: 0.61\n"
          ]
        },
        {
          "output_type": "stream",
          "name": "stderr",
          "text": [
            "100%|██████████| 352/352 [00:34<00:00, 10.20it/s]\n"
          ]
        },
        {
          "output_type": "stream",
          "name": "stdout",
          "text": [
            "Train Epoch: 22, Average Loss: 0.0144, Accuracy: 0.62\n",
            "Validation set: Average loss: 0.0147, Accuracy: 0.61\n"
          ]
        },
        {
          "output_type": "stream",
          "name": "stderr",
          "text": [
            "100%|██████████| 352/352 [00:33<00:00, 10.39it/s]\n"
          ]
        },
        {
          "output_type": "stream",
          "name": "stdout",
          "text": [
            "Train Epoch: 23, Average Loss: 0.0143, Accuracy: 0.64\n",
            "Validation set: Average loss: 0.0146, Accuracy: 0.64\n"
          ]
        },
        {
          "output_type": "stream",
          "name": "stderr",
          "text": [
            "100%|██████████| 352/352 [00:34<00:00, 10.31it/s]\n"
          ]
        },
        {
          "output_type": "stream",
          "name": "stdout",
          "text": [
            "Train Epoch: 24, Average Loss: 0.0142, Accuracy: 0.64\n",
            "Validation set: Average loss: 0.0147, Accuracy: 0.63\n"
          ]
        },
        {
          "output_type": "stream",
          "name": "stderr",
          "text": [
            "100%|██████████| 352/352 [00:35<00:00, 10.02it/s]\n"
          ]
        },
        {
          "output_type": "stream",
          "name": "stdout",
          "text": [
            "Train Epoch: 25, Average Loss: 0.0141, Accuracy: 0.65\n",
            "Validation set: Average loss: 0.0145, Accuracy: 0.65\n"
          ]
        },
        {
          "output_type": "stream",
          "name": "stderr",
          "text": [
            "100%|██████████| 352/352 [00:34<00:00, 10.24it/s]\n"
          ]
        },
        {
          "output_type": "stream",
          "name": "stdout",
          "text": [
            "Train Epoch: 26, Average Loss: 0.0141, Accuracy: 0.66\n",
            "Validation set: Average loss: 0.0145, Accuracy: 0.65\n"
          ]
        },
        {
          "output_type": "stream",
          "name": "stderr",
          "text": [
            "100%|██████████| 352/352 [00:33<00:00, 10.47it/s]\n"
          ]
        },
        {
          "output_type": "stream",
          "name": "stdout",
          "text": [
            "Train Epoch: 27, Average Loss: 0.0141, Accuracy: 0.66\n",
            "Validation set: Average loss: 0.0145, Accuracy: 0.65\n"
          ]
        },
        {
          "output_type": "stream",
          "name": "stderr",
          "text": [
            "100%|██████████| 352/352 [00:34<00:00, 10.30it/s]\n"
          ]
        },
        {
          "output_type": "stream",
          "name": "stdout",
          "text": [
            "Train Epoch: 28, Average Loss: 0.0140, Accuracy: 0.67\n",
            "Validation set: Average loss: 0.0144, Accuracy: 0.66\n"
          ]
        },
        {
          "output_type": "stream",
          "name": "stderr",
          "text": [
            "100%|██████████| 352/352 [00:35<00:00, 10.02it/s]\n"
          ]
        },
        {
          "output_type": "stream",
          "name": "stdout",
          "text": [
            "Train Epoch: 29, Average Loss: 0.0140, Accuracy: 0.67\n",
            "Validation set: Average loss: 0.0145, Accuracy: 0.66\n"
          ]
        },
        {
          "output_type": "stream",
          "name": "stderr",
          "text": [
            "100%|██████████| 352/352 [00:33<00:00, 10.42it/s]\n"
          ]
        },
        {
          "output_type": "stream",
          "name": "stdout",
          "text": [
            "Train Epoch: 30, Average Loss: 0.0139, Accuracy: 0.68\n",
            "Validation set: Average loss: 0.0143, Accuracy: 0.68\n"
          ]
        },
        {
          "output_type": "stream",
          "name": "stderr",
          "text": [
            "100%|██████████| 352/352 [00:35<00:00, 10.02it/s]\n"
          ]
        },
        {
          "output_type": "stream",
          "name": "stdout",
          "text": [
            "Train Epoch: 31, Average Loss: 0.0139, Accuracy: 0.69\n",
            "Validation set: Average loss: 0.0144, Accuracy: 0.66\n"
          ]
        },
        {
          "output_type": "stream",
          "name": "stderr",
          "text": [
            "100%|██████████| 352/352 [00:34<00:00, 10.23it/s]\n"
          ]
        },
        {
          "output_type": "stream",
          "name": "stdout",
          "text": [
            "Train Epoch: 32, Average Loss: 0.0138, Accuracy: 0.69\n",
            "Validation set: Average loss: 0.0143, Accuracy: 0.68\n"
          ]
        },
        {
          "output_type": "stream",
          "name": "stderr",
          "text": [
            "100%|██████████| 352/352 [00:33<00:00, 10.46it/s]\n"
          ]
        },
        {
          "output_type": "stream",
          "name": "stdout",
          "text": [
            "Train Epoch: 33, Average Loss: 0.0138, Accuracy: 0.7\n",
            "Validation set: Average loss: 0.0142, Accuracy: 0.69\n"
          ]
        },
        {
          "output_type": "stream",
          "name": "stderr",
          "text": [
            "100%|██████████| 352/352 [00:36<00:00,  9.58it/s]\n"
          ]
        },
        {
          "output_type": "stream",
          "name": "stdout",
          "text": [
            "Train Epoch: 34, Average Loss: 0.0138, Accuracy: 0.7\n",
            "Validation set: Average loss: 0.0143, Accuracy: 0.68\n"
          ]
        },
        {
          "output_type": "stream",
          "name": "stderr",
          "text": [
            "100%|██████████| 352/352 [00:34<00:00, 10.17it/s]\n"
          ]
        },
        {
          "output_type": "stream",
          "name": "stdout",
          "text": [
            "Train Epoch: 35, Average Loss: 0.0137, Accuracy: 0.7\n",
            "Validation set: Average loss: 0.0141, Accuracy: 0.69\n"
          ]
        },
        {
          "output_type": "stream",
          "name": "stderr",
          "text": [
            "100%|██████████| 352/352 [00:34<00:00, 10.20it/s]\n"
          ]
        },
        {
          "output_type": "stream",
          "name": "stdout",
          "text": [
            "Train Epoch: 36, Average Loss: 0.0137, Accuracy: 0.71\n",
            "Validation set: Average loss: 0.0141, Accuracy: 0.70\n"
          ]
        },
        {
          "output_type": "stream",
          "name": "stderr",
          "text": [
            "100%|██████████| 352/352 [00:33<00:00, 10.47it/s]\n"
          ]
        },
        {
          "output_type": "stream",
          "name": "stdout",
          "text": [
            "Train Epoch: 37, Average Loss: 0.0137, Accuracy: 0.71\n",
            "Validation set: Average loss: 0.0141, Accuracy: 0.70\n"
          ]
        },
        {
          "output_type": "stream",
          "name": "stderr",
          "text": [
            "100%|██████████| 352/352 [00:34<00:00, 10.26it/s]\n"
          ]
        },
        {
          "output_type": "stream",
          "name": "stdout",
          "text": [
            "Train Epoch: 38, Average Loss: 0.0136, Accuracy: 0.72\n",
            "Validation set: Average loss: 0.0141, Accuracy: 0.69\n"
          ]
        },
        {
          "output_type": "stream",
          "name": "stderr",
          "text": [
            "100%|██████████| 352/352 [00:34<00:00, 10.15it/s]\n"
          ]
        },
        {
          "output_type": "stream",
          "name": "stdout",
          "text": [
            "Train Epoch: 39, Average Loss: 0.0136, Accuracy: 0.72\n",
            "Validation set: Average loss: 0.0140, Accuracy: 0.71\n"
          ]
        },
        {
          "output_type": "stream",
          "name": "stderr",
          "text": [
            "100%|██████████| 352/352 [00:33<00:00, 10.39it/s]\n"
          ]
        },
        {
          "output_type": "stream",
          "name": "stdout",
          "text": [
            "Train Epoch: 40, Average Loss: 0.0135, Accuracy: 0.73\n",
            "Validation set: Average loss: 0.0140, Accuracy: 0.71\n"
          ]
        },
        {
          "output_type": "stream",
          "name": "stderr",
          "text": [
            "100%|██████████| 352/352 [00:34<00:00, 10.12it/s]\n"
          ]
        },
        {
          "output_type": "stream",
          "name": "stdout",
          "text": [
            "Train Epoch: 41, Average Loss: 0.0135, Accuracy: 0.73\n",
            "Validation set: Average loss: 0.0140, Accuracy: 0.71\n"
          ]
        },
        {
          "output_type": "stream",
          "name": "stderr",
          "text": [
            "100%|██████████| 352/352 [00:34<00:00, 10.16it/s]\n"
          ]
        },
        {
          "output_type": "stream",
          "name": "stdout",
          "text": [
            "Train Epoch: 42, Average Loss: 0.0135, Accuracy: 0.74\n",
            "Validation set: Average loss: 0.0139, Accuracy: 0.72\n"
          ]
        },
        {
          "output_type": "stream",
          "name": "stderr",
          "text": [
            "100%|██████████| 352/352 [00:33<00:00, 10.41it/s]\n"
          ]
        },
        {
          "output_type": "stream",
          "name": "stdout",
          "text": [
            "Train Epoch: 43, Average Loss: 0.0135, Accuracy: 0.74\n",
            "Validation set: Average loss: 0.0140, Accuracy: 0.71\n"
          ]
        },
        {
          "output_type": "stream",
          "name": "stderr",
          "text": [
            "100%|██████████| 352/352 [00:33<00:00, 10.46it/s]\n"
          ]
        },
        {
          "output_type": "stream",
          "name": "stdout",
          "text": [
            "Train Epoch: 44, Average Loss: 0.0134, Accuracy: 0.75\n",
            "Validation set: Average loss: 0.0139, Accuracy: 0.73\n"
          ]
        },
        {
          "output_type": "stream",
          "name": "stderr",
          "text": [
            "100%|██████████| 352/352 [00:34<00:00, 10.20it/s]\n"
          ]
        },
        {
          "output_type": "stream",
          "name": "stdout",
          "text": [
            "Train Epoch: 45, Average Loss: 0.0134, Accuracy: 0.75\n",
            "Validation set: Average loss: 0.0138, Accuracy: 0.73\n"
          ]
        },
        {
          "output_type": "stream",
          "name": "stderr",
          "text": [
            "100%|██████████| 352/352 [00:34<00:00, 10.27it/s]\n"
          ]
        },
        {
          "output_type": "stream",
          "name": "stdout",
          "text": [
            "Train Epoch: 46, Average Loss: 0.0134, Accuracy: 0.75\n",
            "Validation set: Average loss: 0.0139, Accuracy: 0.72\n"
          ]
        },
        {
          "output_type": "stream",
          "name": "stderr",
          "text": [
            "100%|██████████| 352/352 [00:33<00:00, 10.44it/s]\n"
          ]
        },
        {
          "output_type": "stream",
          "name": "stdout",
          "text": [
            "Train Epoch: 47, Average Loss: 0.0133, Accuracy: 0.75\n",
            "Validation set: Average loss: 0.0138, Accuracy: 0.73\n"
          ]
        },
        {
          "output_type": "stream",
          "name": "stderr",
          "text": [
            "100%|██████████| 352/352 [00:34<00:00, 10.12it/s]\n"
          ]
        },
        {
          "output_type": "stream",
          "name": "stdout",
          "text": [
            "Train Epoch: 48, Average Loss: 0.0134, Accuracy: 0.75\n",
            "Validation set: Average loss: 0.0138, Accuracy: 0.73\n"
          ]
        },
        {
          "output_type": "stream",
          "name": "stderr",
          "text": [
            "100%|██████████| 352/352 [00:34<00:00, 10.15it/s]\n"
          ]
        },
        {
          "output_type": "stream",
          "name": "stdout",
          "text": [
            "Train Epoch: 49, Average Loss: 0.0133, Accuracy: 0.76\n",
            "Validation set: Average loss: 0.0139, Accuracy: 0.73\n"
          ]
        },
        {
          "output_type": "stream",
          "name": "stderr",
          "text": [
            "100%|██████████| 352/352 [00:33<00:00, 10.46it/s]\n"
          ]
        },
        {
          "output_type": "stream",
          "name": "stdout",
          "text": [
            "Train Epoch: 50, Average Loss: 0.0133, Accuracy: 0.76\n",
            "Validation set: Average loss: 0.0138, Accuracy: 0.74\n"
          ]
        },
        {
          "output_type": "stream",
          "name": "stderr",
          "text": [
            "100%|██████████| 352/352 [00:35<00:00,  9.83it/s]\n"
          ]
        },
        {
          "output_type": "stream",
          "name": "stdout",
          "text": [
            "Train Epoch: 51, Average Loss: 0.0131, Accuracy: 0.79\n",
            "Validation set: Average loss: 0.0137, Accuracy: 0.75\n"
          ]
        },
        {
          "output_type": "stream",
          "name": "stderr",
          "text": [
            "100%|██████████| 352/352 [00:34<00:00, 10.30it/s]\n"
          ]
        },
        {
          "output_type": "stream",
          "name": "stdout",
          "text": [
            "Train Epoch: 52, Average Loss: 0.0130, Accuracy: 0.8\n",
            "Validation set: Average loss: 0.0137, Accuracy: 0.76\n"
          ]
        },
        {
          "output_type": "stream",
          "name": "stderr",
          "text": [
            "100%|██████████| 352/352 [00:33<00:00, 10.44it/s]\n"
          ]
        },
        {
          "output_type": "stream",
          "name": "stdout",
          "text": [
            "Train Epoch: 53, Average Loss: 0.0130, Accuracy: 0.8\n",
            "Validation set: Average loss: 0.0136, Accuracy: 0.76\n"
          ]
        },
        {
          "output_type": "stream",
          "name": "stderr",
          "text": [
            "100%|██████████| 352/352 [00:34<00:00, 10.32it/s]\n"
          ]
        },
        {
          "output_type": "stream",
          "name": "stdout",
          "text": [
            "Train Epoch: 54, Average Loss: 0.0130, Accuracy: 0.8\n",
            "Validation set: Average loss: 0.0136, Accuracy: 0.76\n"
          ]
        },
        {
          "output_type": "stream",
          "name": "stderr",
          "text": [
            "100%|██████████| 352/352 [00:34<00:00, 10.32it/s]\n"
          ]
        },
        {
          "output_type": "stream",
          "name": "stdout",
          "text": [
            "Train Epoch: 55, Average Loss: 0.0130, Accuracy: 0.8\n",
            "Validation set: Average loss: 0.0136, Accuracy: 0.76\n"
          ]
        },
        {
          "output_type": "stream",
          "name": "stderr",
          "text": [
            "100%|██████████| 352/352 [00:33<00:00, 10.60it/s]\n"
          ]
        },
        {
          "output_type": "stream",
          "name": "stdout",
          "text": [
            "Train Epoch: 56, Average Loss: 0.0129, Accuracy: 0.81\n",
            "Validation set: Average loss: 0.0136, Accuracy: 0.76\n"
          ]
        },
        {
          "output_type": "stream",
          "name": "stderr",
          "text": [
            "100%|██████████| 352/352 [00:34<00:00, 10.29it/s]\n"
          ]
        },
        {
          "output_type": "stream",
          "name": "stdout",
          "text": [
            "Train Epoch: 57, Average Loss: 0.0129, Accuracy: 0.81\n",
            "Validation set: Average loss: 0.0136, Accuracy: 0.76\n"
          ]
        },
        {
          "output_type": "stream",
          "name": "stderr",
          "text": [
            "100%|██████████| 352/352 [00:33<00:00, 10.38it/s]\n"
          ]
        },
        {
          "output_type": "stream",
          "name": "stdout",
          "text": [
            "Train Epoch: 58, Average Loss: 0.0129, Accuracy: 0.81\n",
            "Validation set: Average loss: 0.0135, Accuracy: 0.77\n"
          ]
        },
        {
          "output_type": "stream",
          "name": "stderr",
          "text": [
            "100%|██████████| 352/352 [00:33<00:00, 10.57it/s]\n"
          ]
        },
        {
          "output_type": "stream",
          "name": "stdout",
          "text": [
            "Train Epoch: 59, Average Loss: 0.0129, Accuracy: 0.81\n",
            "Validation set: Average loss: 0.0135, Accuracy: 0.77\n"
          ]
        },
        {
          "output_type": "stream",
          "name": "stderr",
          "text": [
            "100%|██████████| 352/352 [00:34<00:00, 10.29it/s]\n"
          ]
        },
        {
          "output_type": "stream",
          "name": "stdout",
          "text": [
            "Train Epoch: 60, Average Loss: 0.0129, Accuracy: 0.81\n",
            "Validation set: Average loss: 0.0136, Accuracy: 0.77\n"
          ]
        },
        {
          "output_type": "stream",
          "name": "stderr",
          "text": [
            "100%|██████████| 352/352 [00:34<00:00, 10.09it/s]\n"
          ]
        },
        {
          "output_type": "stream",
          "name": "stdout",
          "text": [
            "Train Epoch: 61, Average Loss: 0.0129, Accuracy: 0.81\n",
            "Validation set: Average loss: 0.0135, Accuracy: 0.78\n"
          ]
        },
        {
          "output_type": "stream",
          "name": "stderr",
          "text": [
            "100%|██████████| 352/352 [00:33<00:00, 10.64it/s]\n"
          ]
        },
        {
          "output_type": "stream",
          "name": "stdout",
          "text": [
            "Train Epoch: 62, Average Loss: 0.0129, Accuracy: 0.81\n",
            "Validation set: Average loss: 0.0135, Accuracy: 0.78\n"
          ]
        },
        {
          "output_type": "stream",
          "name": "stderr",
          "text": [
            "100%|██████████| 352/352 [00:34<00:00, 10.33it/s]\n"
          ]
        },
        {
          "output_type": "stream",
          "name": "stdout",
          "text": [
            "Train Epoch: 63, Average Loss: 0.0129, Accuracy: 0.82\n",
            "Validation set: Average loss: 0.0135, Accuracy: 0.78\n"
          ]
        },
        {
          "output_type": "stream",
          "name": "stderr",
          "text": [
            "100%|██████████| 352/352 [00:33<00:00, 10.47it/s]\n"
          ]
        },
        {
          "output_type": "stream",
          "name": "stdout",
          "text": [
            "Train Epoch: 64, Average Loss: 0.0129, Accuracy: 0.82\n",
            "Validation set: Average loss: 0.0135, Accuracy: 0.77\n"
          ]
        },
        {
          "output_type": "stream",
          "name": "stderr",
          "text": [
            "100%|██████████| 352/352 [00:33<00:00, 10.59it/s]\n"
          ]
        },
        {
          "output_type": "stream",
          "name": "stdout",
          "text": [
            "Train Epoch: 65, Average Loss: 0.0129, Accuracy: 0.82\n",
            "Validation set: Average loss: 0.0136, Accuracy: 0.77\n"
          ]
        },
        {
          "output_type": "stream",
          "name": "stderr",
          "text": [
            "100%|██████████| 352/352 [00:34<00:00, 10.29it/s]\n"
          ]
        },
        {
          "output_type": "stream",
          "name": "stdout",
          "text": [
            "Train Epoch: 66, Average Loss: 0.0129, Accuracy: 0.82\n",
            "Validation set: Average loss: 0.0136, Accuracy: 0.77\n"
          ]
        },
        {
          "output_type": "stream",
          "name": "stderr",
          "text": [
            "100%|██████████| 352/352 [00:33<00:00, 10.51it/s]\n"
          ]
        },
        {
          "output_type": "stream",
          "name": "stdout",
          "text": [
            "Train Epoch: 67, Average Loss: 0.0128, Accuracy: 0.82\n",
            "Validation set: Average loss: 0.0135, Accuracy: 0.78\n"
          ]
        },
        {
          "output_type": "stream",
          "name": "stderr",
          "text": [
            "100%|██████████| 352/352 [00:34<00:00, 10.27it/s]\n"
          ]
        },
        {
          "output_type": "stream",
          "name": "stdout",
          "text": [
            "Train Epoch: 68, Average Loss: 0.0128, Accuracy: 0.82\n",
            "Validation set: Average loss: 0.0135, Accuracy: 0.77\n"
          ]
        },
        {
          "output_type": "stream",
          "name": "stderr",
          "text": [
            "100%|██████████| 352/352 [00:34<00:00, 10.26it/s]\n"
          ]
        },
        {
          "output_type": "stream",
          "name": "stdout",
          "text": [
            "Train Epoch: 69, Average Loss: 0.0128, Accuracy: 0.82\n",
            "Validation set: Average loss: 0.0135, Accuracy: 0.77\n"
          ]
        },
        {
          "output_type": "stream",
          "name": "stderr",
          "text": [
            "100%|██████████| 352/352 [00:34<00:00, 10.35it/s]\n"
          ]
        },
        {
          "output_type": "stream",
          "name": "stdout",
          "text": [
            "Train Epoch: 70, Average Loss: 0.0128, Accuracy: 0.82\n",
            "Validation set: Average loss: 0.0135, Accuracy: 0.77\n"
          ]
        },
        {
          "output_type": "stream",
          "name": "stderr",
          "text": [
            "100%|██████████| 352/352 [00:34<00:00, 10.12it/s]\n"
          ]
        },
        {
          "output_type": "stream",
          "name": "stdout",
          "text": [
            "Train Epoch: 71, Average Loss: 0.0128, Accuracy: 0.82\n",
            "Validation set: Average loss: 0.0135, Accuracy: 0.77\n"
          ]
        },
        {
          "output_type": "stream",
          "name": "stderr",
          "text": [
            "100%|██████████| 352/352 [00:34<00:00, 10.25it/s]\n"
          ]
        },
        {
          "output_type": "stream",
          "name": "stdout",
          "text": [
            "Train Epoch: 72, Average Loss: 0.0128, Accuracy: 0.82\n",
            "Validation set: Average loss: 0.0135, Accuracy: 0.78\n"
          ]
        },
        {
          "output_type": "stream",
          "name": "stderr",
          "text": [
            "100%|██████████| 352/352 [00:34<00:00, 10.21it/s]\n"
          ]
        },
        {
          "output_type": "stream",
          "name": "stdout",
          "text": [
            "Train Epoch: 73, Average Loss: 0.0128, Accuracy: 0.82\n",
            "Validation set: Average loss: 0.0136, Accuracy: 0.77\n"
          ]
        },
        {
          "output_type": "stream",
          "name": "stderr",
          "text": [
            "100%|██████████| 352/352 [00:33<00:00, 10.54it/s]\n"
          ]
        },
        {
          "output_type": "stream",
          "name": "stdout",
          "text": [
            "Train Epoch: 74, Average Loss: 0.0128, Accuracy: 0.83\n",
            "Validation set: Average loss: 0.0135, Accuracy: 0.77\n"
          ]
        },
        {
          "output_type": "stream",
          "name": "stderr",
          "text": [
            "100%|██████████| 352/352 [00:34<00:00, 10.33it/s]\n"
          ]
        },
        {
          "output_type": "stream",
          "name": "stdout",
          "text": [
            "Train Epoch: 75, Average Loss: 0.0128, Accuracy: 0.83\n",
            "Validation set: Average loss: 0.0135, Accuracy: 0.77\n"
          ]
        },
        {
          "output_type": "stream",
          "name": "stderr",
          "text": [
            "100%|██████████| 352/352 [00:34<00:00, 10.27it/s]\n"
          ]
        },
        {
          "output_type": "stream",
          "name": "stdout",
          "text": [
            "Train Epoch: 76, Average Loss: 0.0128, Accuracy: 0.83\n",
            "Validation set: Average loss: 0.0135, Accuracy: 0.77\n"
          ]
        },
        {
          "output_type": "stream",
          "name": "stderr",
          "text": [
            "100%|██████████| 352/352 [00:33<00:00, 10.48it/s]\n"
          ]
        },
        {
          "output_type": "stream",
          "name": "stdout",
          "text": [
            "Train Epoch: 77, Average Loss: 0.0128, Accuracy: 0.83\n",
            "Validation set: Average loss: 0.0135, Accuracy: 0.77\n"
          ]
        },
        {
          "output_type": "stream",
          "name": "stderr",
          "text": [
            "100%|██████████| 352/352 [00:33<00:00, 10.48it/s]\n"
          ]
        },
        {
          "output_type": "stream",
          "name": "stdout",
          "text": [
            "Train Epoch: 78, Average Loss: 0.0128, Accuracy: 0.83\n",
            "Validation set: Average loss: 0.0135, Accuracy: 0.77\n"
          ]
        },
        {
          "output_type": "stream",
          "name": "stderr",
          "text": [
            "100%|██████████| 352/352 [00:33<00:00, 10.39it/s]\n"
          ]
        },
        {
          "output_type": "stream",
          "name": "stdout",
          "text": [
            "Train Epoch: 79, Average Loss: 0.0128, Accuracy: 0.83\n",
            "Validation set: Average loss: 0.0134, Accuracy: 0.78\n"
          ]
        },
        {
          "output_type": "stream",
          "name": "stderr",
          "text": [
            "100%|██████████| 352/352 [00:33<00:00, 10.56it/s]\n"
          ]
        },
        {
          "output_type": "stream",
          "name": "stdout",
          "text": [
            "Train Epoch: 80, Average Loss: 0.0128, Accuracy: 0.83\n",
            "Validation set: Average loss: 0.0135, Accuracy: 0.78\n"
          ]
        },
        {
          "output_type": "stream",
          "name": "stderr",
          "text": [
            "100%|██████████| 352/352 [00:34<00:00, 10.15it/s]\n"
          ]
        },
        {
          "output_type": "stream",
          "name": "stdout",
          "text": [
            "Train Epoch: 81, Average Loss: 0.0128, Accuracy: 0.83\n",
            "Validation set: Average loss: 0.0135, Accuracy: 0.78\n"
          ]
        },
        {
          "output_type": "stream",
          "name": "stderr",
          "text": [
            "100%|██████████| 352/352 [00:33<00:00, 10.39it/s]\n"
          ]
        },
        {
          "output_type": "stream",
          "name": "stdout",
          "text": [
            "Train Epoch: 82, Average Loss: 0.0128, Accuracy: 0.83\n",
            "Validation set: Average loss: 0.0134, Accuracy: 0.78\n"
          ]
        },
        {
          "output_type": "stream",
          "name": "stderr",
          "text": [
            "100%|██████████| 352/352 [00:32<00:00, 10.84it/s]\n"
          ]
        },
        {
          "output_type": "stream",
          "name": "stdout",
          "text": [
            "Train Epoch: 83, Average Loss: 0.0128, Accuracy: 0.83\n",
            "Validation set: Average loss: 0.0134, Accuracy: 0.78\n"
          ]
        },
        {
          "output_type": "stream",
          "name": "stderr",
          "text": [
            "100%|██████████| 352/352 [00:33<00:00, 10.59it/s]\n"
          ]
        },
        {
          "output_type": "stream",
          "name": "stdout",
          "text": [
            "Train Epoch: 84, Average Loss: 0.0127, Accuracy: 0.83\n",
            "Validation set: Average loss: 0.0135, Accuracy: 0.78\n"
          ]
        },
        {
          "output_type": "stream",
          "name": "stderr",
          "text": [
            "100%|██████████| 352/352 [00:32<00:00, 10.74it/s]\n"
          ]
        },
        {
          "output_type": "stream",
          "name": "stdout",
          "text": [
            "Train Epoch: 85, Average Loss: 0.0127, Accuracy: 0.84\n",
            "Validation set: Average loss: 0.0135, Accuracy: 0.78\n"
          ]
        },
        {
          "output_type": "stream",
          "name": "stderr",
          "text": [
            "100%|██████████| 352/352 [00:32<00:00, 10.77it/s]\n"
          ]
        },
        {
          "output_type": "stream",
          "name": "stdout",
          "text": [
            "Train Epoch: 86, Average Loss: 0.0127, Accuracy: 0.83\n",
            "Validation set: Average loss: 0.0135, Accuracy: 0.78\n"
          ]
        },
        {
          "output_type": "stream",
          "name": "stderr",
          "text": [
            "100%|██████████| 352/352 [00:33<00:00, 10.38it/s]\n"
          ]
        },
        {
          "output_type": "stream",
          "name": "stdout",
          "text": [
            "Train Epoch: 87, Average Loss: 0.0127, Accuracy: 0.83\n",
            "Validation set: Average loss: 0.0134, Accuracy: 0.78\n"
          ]
        },
        {
          "output_type": "stream",
          "name": "stderr",
          "text": [
            "100%|██████████| 352/352 [00:33<00:00, 10.55it/s]\n"
          ]
        },
        {
          "output_type": "stream",
          "name": "stdout",
          "text": [
            "Train Epoch: 88, Average Loss: 0.0127, Accuracy: 0.84\n",
            "Validation set: Average loss: 0.0135, Accuracy: 0.78\n"
          ]
        },
        {
          "output_type": "stream",
          "name": "stderr",
          "text": [
            "100%|██████████| 352/352 [00:33<00:00, 10.54it/s]\n"
          ]
        },
        {
          "output_type": "stream",
          "name": "stdout",
          "text": [
            "Train Epoch: 89, Average Loss: 0.0127, Accuracy: 0.84\n",
            "Validation set: Average loss: 0.0134, Accuracy: 0.78\n"
          ]
        },
        {
          "output_type": "stream",
          "name": "stderr",
          "text": [
            "100%|██████████| 352/352 [00:35<00:00,  9.80it/s]\n"
          ]
        },
        {
          "output_type": "stream",
          "name": "stdout",
          "text": [
            "Train Epoch: 90, Average Loss: 0.0127, Accuracy: 0.84\n",
            "Validation set: Average loss: 0.0134, Accuracy: 0.78\n"
          ]
        },
        {
          "output_type": "stream",
          "name": "stderr",
          "text": [
            "100%|██████████| 352/352 [00:35<00:00,  9.98it/s]\n"
          ]
        },
        {
          "output_type": "stream",
          "name": "stdout",
          "text": [
            "Train Epoch: 91, Average Loss: 0.0127, Accuracy: 0.84\n",
            "Validation set: Average loss: 0.0135, Accuracy: 0.78\n"
          ]
        },
        {
          "output_type": "stream",
          "name": "stderr",
          "text": [
            "100%|██████████| 352/352 [00:34<00:00, 10.34it/s]\n"
          ]
        },
        {
          "output_type": "stream",
          "name": "stdout",
          "text": [
            "Train Epoch: 92, Average Loss: 0.0127, Accuracy: 0.84\n",
            "Validation set: Average loss: 0.0135, Accuracy: 0.78\n"
          ]
        },
        {
          "output_type": "stream",
          "name": "stderr",
          "text": [
            "100%|██████████| 352/352 [00:33<00:00, 10.53it/s]\n"
          ]
        },
        {
          "output_type": "stream",
          "name": "stdout",
          "text": [
            "Train Epoch: 93, Average Loss: 0.0127, Accuracy: 0.84\n",
            "Validation set: Average loss: 0.0135, Accuracy: 0.78\n"
          ]
        },
        {
          "output_type": "stream",
          "name": "stderr",
          "text": [
            "100%|██████████| 352/352 [00:33<00:00, 10.37it/s]\n"
          ]
        },
        {
          "output_type": "stream",
          "name": "stdout",
          "text": [
            "Train Epoch: 94, Average Loss: 0.0127, Accuracy: 0.84\n",
            "Validation set: Average loss: 0.0135, Accuracy: 0.78\n"
          ]
        },
        {
          "output_type": "stream",
          "name": "stderr",
          "text": [
            "100%|██████████| 352/352 [00:32<00:00, 10.69it/s]\n"
          ]
        },
        {
          "output_type": "stream",
          "name": "stdout",
          "text": [
            "Train Epoch: 95, Average Loss: 0.0127, Accuracy: 0.84\n",
            "Validation set: Average loss: 0.0134, Accuracy: 0.78\n"
          ]
        },
        {
          "output_type": "stream",
          "name": "stderr",
          "text": [
            "100%|██████████| 352/352 [00:33<00:00, 10.50it/s]\n"
          ]
        },
        {
          "output_type": "stream",
          "name": "stdout",
          "text": [
            "Train Epoch: 96, Average Loss: 0.0127, Accuracy: 0.84\n",
            "Validation set: Average loss: 0.0134, Accuracy: 0.79\n"
          ]
        },
        {
          "output_type": "stream",
          "name": "stderr",
          "text": [
            "100%|██████████| 352/352 [00:33<00:00, 10.40it/s]\n"
          ]
        },
        {
          "output_type": "stream",
          "name": "stdout",
          "text": [
            "Train Epoch: 97, Average Loss: 0.0127, Accuracy: 0.84\n",
            "Validation set: Average loss: 0.0135, Accuracy: 0.78\n"
          ]
        },
        {
          "output_type": "stream",
          "name": "stderr",
          "text": [
            "100%|██████████| 352/352 [00:32<00:00, 10.84it/s]\n"
          ]
        },
        {
          "output_type": "stream",
          "name": "stdout",
          "text": [
            "Train Epoch: 98, Average Loss: 0.0127, Accuracy: 0.84\n",
            "Validation set: Average loss: 0.0134, Accuracy: 0.78\n"
          ]
        },
        {
          "output_type": "stream",
          "name": "stderr",
          "text": [
            "100%|██████████| 352/352 [00:33<00:00, 10.51it/s]\n"
          ]
        },
        {
          "output_type": "stream",
          "name": "stdout",
          "text": [
            "Train Epoch: 99, Average Loss: 0.0127, Accuracy: 0.84\n",
            "Validation set: Average loss: 0.0135, Accuracy: 0.78\n"
          ]
        },
        {
          "output_type": "stream",
          "name": "stderr",
          "text": [
            "100%|██████████| 352/352 [00:32<00:00, 10.67it/s]\n"
          ]
        },
        {
          "output_type": "stream",
          "name": "stdout",
          "text": [
            "Train Epoch: 100, Average Loss: 0.0127, Accuracy: 0.84\n",
            "Validation set: Average loss: 0.0134, Accuracy: 0.79\n"
          ]
        }
      ]
    },
    {
      "cell_type": "code",
      "source": [
        "# Test the model\n",
        "model.eval()\n",
        "test_loss = 0\n",
        "correct = 0\n",
        "with torch.no_grad():\n",
        "    for data, target in test_loader:\n",
        "        data, target = data.to(device), target.to(device)\n",
        "        output = model(data)\n",
        "        test_loss += criterion(output, target).item()\n",
        "        pred = output.argmax(dim=1, keepdim=True)\n",
        "        correct += pred.eq(target.view_as(pred)).sum().item()\n",
        "\n",
        "test_loss /= len(test_loader.dataset)\n",
        "accuracy = correct / len(test_loader.dataset)\n",
        "print(f'Test set: Average loss: {test_loss:.4f}, Accuracy: {accuracy:.2f}')"
      ],
      "metadata": {
        "colab": {
          "base_uri": "https://localhost:8080/"
        },
        "id": "87jtOaO1T3F8",
        "outputId": "e9e889b2-ca08-4e41-ab14-dc6ac9ba3fc4"
      },
      "execution_count": 10,
      "outputs": [
        {
          "output_type": "stream",
          "name": "stdout",
          "text": [
            "Test set: Average loss: 0.0132, Accuracy: 0.79\n"
          ]
        }
      ]
    },
    {
      "cell_type": "code",
      "source": [
        "# Plotting\n",
        "epochs_range = range(1, epochs + 1)\n",
        "\n",
        "# Plotting Loss\n",
        "plt.figure(figsize=(12, 5))\n",
        "plt.subplot(1, 2, 1)\n",
        "plt.plot(epochs_range, train_losses, label='Training Loss')\n",
        "plt.plot(epochs_range, val_losses, label='Validation Loss')\n",
        "plt.xlabel('Epochs')\n",
        "plt.ylabel('Loss')\n",
        "plt.title('Training and Validation Loss')\n",
        "plt.legend()\n",
        "\n",
        "# Plotting Accuracy\n",
        "plt.subplot(1, 2, 2)\n",
        "plt.plot(epochs_range, train_accuracies, label='Training Accuracy')\n",
        "plt.plot(epochs_range, val_accuracies, label='Validation Accuracy')\n",
        "plt.xlabel('Epochs')\n",
        "plt.ylabel('Accuracy')\n",
        "plt.title('Training and Validation Accuracy')\n",
        "plt.legend()\n",
        "\n",
        "plt.show()"
      ],
      "metadata": {
        "colab": {
          "base_uri": "https://localhost:8080/",
          "height": 487
        },
        "id": "W56ij2K_T4PK",
        "outputId": "fe7a0f42-51bb-4443-ac6d-b81d51968c40"
      },
      "execution_count": 11,
      "outputs": [
        {
          "output_type": "display_data",
          "data": {
            "text/plain": [
              "<Figure size 1200x500 with 2 Axes>"
            ],
            "image/png": "[encoded data removed]"
          },
          "metadata": {}
        }
      ]
    },
    {
      "cell_type": "code",
      "source": [
        "torch.save(model.state_dict(), 'trained_MyResNext_path4.pth')"
      ],
      "metadata": {
        "id": "zB_zgPKXT5Ke"
      },
      "execution_count": 12,
      "outputs": []
    },
    {
      "cell_type": "markdown",
      "source": [
        "# Metrics"
      ],
      "metadata": {
        "id": "OzHedoGnFRuF"
      }
    },
    {
      "cell_type": "code",
      "source": [
        "!git clone https://github.com/K-Hooshanfar/data_complexity_measures"
      ],
      "metadata": {
        "colab": {
          "base_uri": "https://localhost:8080/"
        },
        "id": "ViRJSDHlT7or",
        "outputId": "e4021b12-ba6d-40b0-c70e-28b295e47eab"
      },
      "execution_count": 4,
      "outputs": [
        {
          "output_type": "stream",
          "name": "stdout",
          "text": [
            "Cloning into 'data_complexity_measures'...\n",
            "remote: Enumerating objects: 143, done.\u001b[K\n",
            "remote: Counting objects: 100% (143/143), done.\u001b[K\n",
            "remote: Compressing objects: 100% (130/130), done.\u001b[K\n",
            "remote: Total 143 (delta 82), reused 33 (delta 9), pack-reused 0\u001b[K\n",
            "Receiving objects: 100% (143/143), 144.63 KiB | 1.79 MiB/s, done.\n",
            "Resolving deltas: 100% (82/82), done.\n"
          ]
        }
      ]
    },
    {
      "cell_type": "code",
      "source": [
        "from data_complexity_measures.models.ARH_SeparationIndex import ARH_SeparationIndex\n",
        "import torch\n",
        "from tqdm import tqdm"
      ],
      "metadata": {
        "id": "mGMctaN9FS98"
      },
      "execution_count": 4,
      "outputs": []
    },
    {
      "cell_type": "code",
      "source": [
        "# Load the pre-trained model\n",
        "state_dict = torch.load('/content/trained_MyResNext_path4.pth')\n",
        "\n",
        "model = MyResNext()\n",
        "model.load_state_dict(state_dict)"
      ],
      "metadata": {
        "colab": {
          "base_uri": "https://localhost:8080/"
        },
        "id": "4lrTmxUHFUR4",
        "outputId": "14c6c0de-5f19-4994-f10f-99c957f2edbe"
      },
      "execution_count": 5,
      "outputs": [
        {
          "output_type": "execute_result",
          "data": {
            "text/plain": [
              "<All keys matched successfully>"
            ]
          },
          "metadata": {},
          "execution_count": 5
        }
      ]
    },
    {
      "cell_type": "code",
      "source": [
        "transform_train = transforms.Compose([\n",
        "    transforms.ToTensor(),\n",
        "    transforms.Normalize((0.5, 0.5, 0.5), (0.5, 0.5, 0.5))\n",
        "])\n",
        "\n",
        "\n",
        "transform_test = transforms.Compose([\n",
        "    transforms.ToTensor(),\n",
        "    transforms.Normalize((0.5, 0.5, 0.5), (0.5, 0.5, 0.5))\n",
        "])"
      ],
      "metadata": {
        "id": "Io9aL4u2FXvL"
      },
      "execution_count": 6,
      "outputs": []
    },
    {
      "cell_type": "code",
      "source": [
        "from sklearn.model_selection import train_test_split\n",
        "\n",
        "# Load CIFAR-10 dataset\n",
        "train_dataset = datasets.CIFAR10(root='./data', train=True, download=True, transform=transform_train)\n",
        "test_dataset = datasets.CIFAR10(root='./data', train=False, download=True, transform=transform_test)\n",
        "\n",
        "# Splitting train dataset into train and validation sets\n",
        "train_size = int(0.9 * len(train_dataset))\n",
        "val_size = len(train_dataset) - train_size\n",
        "train_dataset, val_dataset = random_split(train_dataset, [train_size, val_size])\n",
        "\n",
        "# Convert test_dataset to a list or NumPy array\n",
        "test_data_list = [(img, label) for img, label in test_dataset]\n",
        "\n",
        "# Further split train_dataset into train_loader_dataset and 10% balanced subset\n",
        "train_loader_dataset, _ = train_test_split(train_dataset.dataset, train_size=int(0.1 * len(train_dataset)),\n",
        "                                           test_size=None, shuffle=True, stratify=train_dataset.dataset.targets)\n",
        "\n",
        "# Similarly, for the test_loader\n",
        "test_loader_dataset, _ = train_test_split(test_data_list, train_size=int(0.1 * len(test_dataset)),\n",
        "                                          test_size=None, shuffle=True, stratify=test_dataset.targets)\n",
        "\n",
        "# Data loaders\n",
        "train_loader = DataLoader(train_loader_dataset, batch_size=128, shuffle=True)\n",
        "val_loader = DataLoader(val_dataset, batch_size=128, shuffle=False)\n",
        "test_loader = DataLoader(test_loader_dataset, batch_size=128, shuffle=False)\n"
      ],
      "metadata": {
        "colab": {
          "base_uri": "https://localhost:8080/"
        },
        "id": "JcyMRTqVFXxg",
        "outputId": "2741d388-a2e9-4db8-e567-5ebbbb42b4e1"
      },
      "execution_count": 7,
      "outputs": [
        {
          "output_type": "stream",
          "name": "stdout",
          "text": [
            "Files already downloaded and verified\n",
            "Files already downloaded and verified\n"
          ]
        }
      ]
    },
    {
      "cell_type": "code",
      "source": [
        "features_per_layer = {}\n",
        "labels = []\n",
        "\n",
        "# Get the total number of layers in the model\n",
        "total_layers = len(list(model.children()))\n",
        "\n",
        "# Exclude the last four layers\n",
        "layers_to_be_deleted = set(list(model.children())[-4:])\n",
        "\n",
        "# Attach hooks to each layer except the excluded ones\n",
        "features_per_layer = {}\n",
        "for name, layer in model.named_children():\n",
        "    if layer not in layers_to_be_deleted:\n",
        "        features_per_layer[name] = []\n",
        "        def hook(module, input, output, name=name):\n",
        "            features_per_layer[name].append(output.detach())\n",
        "        layer.register_forward_hook(hook)"
      ],
      "metadata": {
        "id": "TqfJDiUbFZYs"
      },
      "execution_count": 8,
      "outputs": []
    },
    {
      "cell_type": "code",
      "source": [
        "model.to('cuda:0' if torch.cuda.is_available() else 'cpu')\n",
        "model.eval()\n",
        "device = torch.device(\"cuda\" if torch.cuda.is_available() else \"cpu\")\n",
        "\n",
        "with torch.no_grad():\n",
        "    for inputs, targets in tqdm(train_loader):\n",
        "        inputs = inputs.to(device)\n",
        "        model(inputs)\n",
        "        labels.append(targets.cpu())\n",
        "\n",
        "# Flatten and concatenate\n",
        "for layer_name, layer_features in features_per_layer.items():\n",
        "    if layer_features:\n",
        "        features_per_layer[layer_name] = torch.cat([f.view(f.size(0), -1) for f in layer_features])\n",
        "\n",
        "labels = torch.cat(labels)"
      ],
      "metadata": {
        "colab": {
          "base_uri": "https://localhost:8080/"
        },
        "id": "fBKYjICtFjJG",
        "outputId": "6f0c9598-b421-470d-fd7e-b054a0c7d641"
      },
      "execution_count": 9,
      "outputs": [
        {
          "output_type": "stream",
          "name": "stderr",
          "text": [
            "100%|██████████| 36/36 [00:02<00:00, 15.82it/s]\n"
          ]
        }
      ]
    },
    {
      "cell_type": "markdown",
      "source": [
        "# SI"
      ],
      "metadata": {
        "id": "c1-2zvAFFlMi"
      }
    },
    {
      "cell_type": "code",
      "source": [
        "si_train = []\n",
        "\n",
        "for layer_name, features in features_per_layer.items():\n",
        "    instance_disturbance = ARH_SeparationIndex(features, labels, normalize=True)\n",
        "    si = instance_disturbance.si_batch(batch_size=1000)\n",
        "    si_train.append((layer_name, si))"
      ],
      "metadata": {
        "colab": {
          "base_uri": "https://localhost:8080/"
        },
        "id": "mDLYf0IhFkLY",
        "outputId": "927f96ba-4d48-4496-f709-a1dcac4a83c2"
      },
      "execution_count": 11,
      "outputs": [
        {
          "output_type": "stream",
          "name": "stdout",
          "text": [
            "Data has been normalized\n"
          ]
        },
        {
          "output_type": "stream",
          "name": "stderr",
          "text": [
            "Calculating SI: 100%|██████████| 5/5 [00:00<00:00, 566.34it/s]\n"
          ]
        },
        {
          "output_type": "stream",
          "name": "stdout",
          "text": [
            "Data has been normalized\n"
          ]
        },
        {
          "output_type": "stream",
          "name": "stderr",
          "text": [
            "Calculating SI: 100%|██████████| 5/5 [00:00<00:00, 1389.12it/s]\n"
          ]
        },
        {
          "output_type": "stream",
          "name": "stdout",
          "text": [
            "Data has been normalized\n"
          ]
        },
        {
          "output_type": "stream",
          "name": "stderr",
          "text": [
            "Calculating SI: 100%|██████████| 5/5 [00:00<00:00, 1913.98it/s]\n"
          ]
        },
        {
          "output_type": "stream",
          "name": "stdout",
          "text": [
            "Data has been normalized\n"
          ]
        },
        {
          "output_type": "stream",
          "name": "stderr",
          "text": [
            "Calculating SI: 100%|██████████| 5/5 [00:00<00:00, 2549.73it/s]\n"
          ]
        },
        {
          "output_type": "stream",
          "name": "stdout",
          "text": [
            "Data has been normalized\n"
          ]
        },
        {
          "output_type": "stream",
          "name": "stderr",
          "text": [
            "Calculating SI: 100%|██████████| 5/5 [00:00<00:00, 3788.21it/s]\n"
          ]
        },
        {
          "output_type": "stream",
          "name": "stdout",
          "text": [
            "Data has been normalized\n"
          ]
        },
        {
          "output_type": "stream",
          "name": "stderr",
          "text": [
            "Calculating SI: 100%|██████████| 5/5 [00:00<00:00, 3880.74it/s]\n"
          ]
        },
        {
          "output_type": "stream",
          "name": "stdout",
          "text": [
            "Data has been normalized\n"
          ]
        },
        {
          "output_type": "stream",
          "name": "stderr",
          "text": [
            "Calculating SI: 100%|██████████| 5/5 [00:00<00:00, 1480.83it/s]\n"
          ]
        },
        {
          "output_type": "stream",
          "name": "stdout",
          "text": [
            "Data has been normalized\n"
          ]
        },
        {
          "output_type": "stream",
          "name": "stderr",
          "text": [
            "Calculating SI: 100%|██████████| 5/5 [00:00<00:00, 3876.44it/s]\n"
          ]
        },
        {
          "output_type": "stream",
          "name": "stdout",
          "text": [
            "Data has been normalized\n"
          ]
        },
        {
          "output_type": "stream",
          "name": "stderr",
          "text": [
            "Calculating SI: 100%|██████████| 5/5 [00:00<00:00, 3927.99it/s]\n"
          ]
        },
        {
          "output_type": "stream",
          "name": "stdout",
          "text": [
            "Data has been normalized\n"
          ]
        },
        {
          "output_type": "stream",
          "name": "stderr",
          "text": [
            "Calculating SI: 100%|██████████| 5/5 [00:00<00:00, 2610.67it/s]\n"
          ]
        },
        {
          "output_type": "stream",
          "name": "stdout",
          "text": [
            "Data has been normalized\n"
          ]
        },
        {
          "output_type": "stream",
          "name": "stderr",
          "text": [
            "Calculating SI: 100%|██████████| 5/5 [00:00<00:00, 2660.01it/s]\n"
          ]
        },
        {
          "output_type": "stream",
          "name": "stdout",
          "text": [
            "Data has been normalized\n"
          ]
        },
        {
          "output_type": "stream",
          "name": "stderr",
          "text": [
            "Calculating SI: 100%|██████████| 5/5 [00:00<00:00, 3995.34it/s]\n"
          ]
        },
        {
          "output_type": "stream",
          "name": "stdout",
          "text": [
            "Data has been normalized\n"
          ]
        },
        {
          "output_type": "stream",
          "name": "stderr",
          "text": [
            "Calculating SI: 100%|██████████| 5/5 [00:00<00:00, 4076.89it/s]\n"
          ]
        },
        {
          "output_type": "stream",
          "name": "stdout",
          "text": [
            "Data has been normalized\n"
          ]
        },
        {
          "output_type": "stream",
          "name": "stderr",
          "text": [
            "Calculating SI: 100%|██████████| 5/5 [00:00<00:00, 3847.99it/s]\n"
          ]
        }
      ]
    },
    {
      "cell_type": "code",
      "source": [
        "si_train"
      ],
      "metadata": {
        "colab": {
          "base_uri": "https://localhost:8080/"
        },
        "id": "XtkJPNGVFmNC",
        "outputId": "d327cd71-0be9-4086-cf87-034d4df0a098"
      },
      "execution_count": 12,
      "outputs": [
        {
          "output_type": "execute_result",
          "data": {
            "text/plain": [
              "[('conv1', 0.2173333317041397),\n",
              " ('activation1', 0.21711111068725586),\n",
              " ('conv2', 0.20177778601646423),\n",
              " ('activation2', 0.20355555415153503),\n",
              " ('maxpool1', 0.28066667914390564),\n",
              " ('resblock1', 0.3222222328186035),\n",
              " ('maxpool2', 0.4215555489063263),\n",
              " ('conv3', 0.38644444942474365),\n",
              " ('activation3', 0.3373333513736725),\n",
              " ('maxpool3', 0.5308889150619507),\n",
              " ('conv4', 0.5288888812065125),\n",
              " ('activation4', 0.4842222332954407),\n",
              " ('resblock2', 0.6026666760444641),\n",
              " ('avgpool', 0.6831111311912537)]"
            ]
          },
          "metadata": {},
          "execution_count": 12
        }
      ]
    },
    {
      "cell_type": "code",
      "source": [
        "plt.plot([layer for layer, _ in si_train], [si for _, si in si_train])\n",
        "plt.xlabel('Layer')\n",
        "plt.ylabel('SI')\n",
        "plt.title('SI vs Layer number - Resnext - path 4')\n",
        "plt.xticks(rotation=90)\n",
        "plt.show()"
      ],
      "metadata": {
        "colab": {
          "base_uri": "https://localhost:8080/",
          "height": 536
        },
        "id": "UDomZ7W8FoN2",
        "outputId": "6b7598e4-a055-44f2-a259-dab34ffb936f"
      },
      "execution_count": 13,
      "outputs": [
        {
          "output_type": "display_data",
          "data": {
            "text/plain": [
              "<Figure size 640x480 with 1 Axes>"
            ],
            "image/png": "[encoded data removed]"
          },
          "metadata": {}
        }
      ]
    },
    {
      "cell_type": "markdown",
      "source": [
        "# Center Si"
      ],
      "metadata": {
        "id": "nITEa0u8Free"
      }
    },
    {
      "cell_type": "code",
      "source": [
        "csi_train = []\n",
        "\n",
        "for layer_name, features in features_per_layer.items():\n",
        "    instance_disturbance = ARH_SeparationIndex(features, labels, normalize=True)\n",
        "    csi = instance_disturbance.center_si_batch(batch_size=1000)\n",
        "    csi_train.append((layer_name, csi))"
      ],
      "metadata": {
        "colab": {
          "base_uri": "https://localhost:8080/"
        },
        "id": "_gOJNIhmFp-A",
        "outputId": "c5f8ee1d-c39d-4bf6-a9c7-9033e6a5eeeb"
      },
      "execution_count": 10,
      "outputs": [
        {
          "output_type": "stream",
          "name": "stdout",
          "text": [
            "Data has been normalized\n"
          ]
        },
        {
          "output_type": "stream",
          "name": "stderr",
          "text": [
            "Calculating CSI: 100%|██████████| 5/5 [00:00<00:00, 1379.98it/s]\n"
          ]
        },
        {
          "output_type": "stream",
          "name": "stdout",
          "text": [
            "Data has been normalized\n"
          ]
        },
        {
          "output_type": "stream",
          "name": "stderr",
          "text": [
            "Calculating CSI: 100%|██████████| 5/5 [00:00<00:00, 1489.45it/s]\n"
          ]
        },
        {
          "output_type": "stream",
          "name": "stdout",
          "text": [
            "Data has been normalized\n"
          ]
        },
        {
          "output_type": "stream",
          "name": "stderr",
          "text": [
            "Calculating CSI: 100%|██████████| 5/5 [00:00<00:00, 1583.95it/s]\n"
          ]
        },
        {
          "output_type": "stream",
          "name": "stdout",
          "text": [
            "Data has been normalized\n"
          ]
        },
        {
          "output_type": "stream",
          "name": "stderr",
          "text": [
            "Calculating CSI: 100%|██████████| 5/5 [00:00<00:00, 1561.54it/s]\n"
          ]
        },
        {
          "output_type": "stream",
          "name": "stdout",
          "text": [
            "Data has been normalized\n"
          ]
        },
        {
          "output_type": "stream",
          "name": "stderr",
          "text": [
            "Calculating CSI: 100%|██████████| 5/5 [00:00<00:00, 997.08it/s]\n"
          ]
        },
        {
          "output_type": "stream",
          "name": "stdout",
          "text": [
            "Data has been normalized\n"
          ]
        },
        {
          "output_type": "stream",
          "name": "stderr",
          "text": [
            "Calculating CSI: 100%|██████████| 5/5 [00:00<00:00, 1116.63it/s]\n"
          ]
        },
        {
          "output_type": "stream",
          "name": "stdout",
          "text": [
            "Data has been normalized\n"
          ]
        },
        {
          "output_type": "stream",
          "name": "stderr",
          "text": [
            "Calculating CSI: 100%|██████████| 5/5 [00:00<00:00, 1249.87it/s]\n"
          ]
        },
        {
          "output_type": "stream",
          "name": "stdout",
          "text": [
            "Data has been normalized\n"
          ]
        },
        {
          "output_type": "stream",
          "name": "stderr",
          "text": [
            "Calculating CSI: 100%|██████████| 5/5 [00:00<00:00, 1825.20it/s]\n"
          ]
        },
        {
          "output_type": "stream",
          "name": "stdout",
          "text": [
            "Data has been normalized\n"
          ]
        },
        {
          "output_type": "stream",
          "name": "stderr",
          "text": [
            "Calculating CSI: 100%|██████████| 5/5 [00:00<00:00, 2076.80it/s]\n"
          ]
        },
        {
          "output_type": "stream",
          "name": "stdout",
          "text": [
            "Data has been normalized\n"
          ]
        },
        {
          "output_type": "stream",
          "name": "stderr",
          "text": [
            "Calculating CSI: 100%|██████████| 5/5 [00:00<00:00, 1557.72it/s]\n"
          ]
        },
        {
          "output_type": "stream",
          "name": "stdout",
          "text": [
            "Data has been normalized\n"
          ]
        },
        {
          "output_type": "stream",
          "name": "stderr",
          "text": [
            "Calculating CSI: 100%|██████████| 5/5 [00:00<00:00, 1470.14it/s]\n"
          ]
        },
        {
          "output_type": "stream",
          "name": "stdout",
          "text": [
            "Data has been normalized\n"
          ]
        },
        {
          "output_type": "stream",
          "name": "stderr",
          "text": [
            "Calculating CSI: 100%|██████████| 5/5 [00:00<00:00, 1191.09it/s]\n"
          ]
        },
        {
          "output_type": "stream",
          "name": "stdout",
          "text": [
            "Data has been normalized\n"
          ]
        },
        {
          "output_type": "stream",
          "name": "stderr",
          "text": [
            "Calculating CSI: 100%|██████████| 5/5 [00:00<00:00, 1552.53it/s]\n"
          ]
        },
        {
          "output_type": "stream",
          "name": "stdout",
          "text": [
            "Data has been normalized\n"
          ]
        },
        {
          "output_type": "stream",
          "name": "stderr",
          "text": [
            "Calculating CSI: 100%|██████████| 5/5 [00:00<00:00, 1300.48it/s]\n"
          ]
        }
      ]
    },
    {
      "cell_type": "code",
      "source": [
        "csi_train"
      ],
      "metadata": {
        "colab": {
          "base_uri": "https://localhost:8080/"
        },
        "id": "67dQ8YnwHfwa",
        "outputId": "ab578e7c-e23d-4949-f5ca-a0276c5ec040"
      },
      "execution_count": 11,
      "outputs": [
        {
          "output_type": "execute_result",
          "data": {
            "text/plain": [
              "[('conv1', 0.3408888876438141),\n",
              " ('activation1', 0.34111112356185913),\n",
              " ('conv2', 0.3479999899864197),\n",
              " ('activation2', 0.37444445490837097),\n",
              " ('maxpool1', 0.433777779340744),\n",
              " ('resblock1', 0.538444459438324),\n",
              " ('maxpool2', 0.5680000185966492),\n",
              " ('conv3', 0.5206666588783264),\n",
              " ('activation3', 0.5577777624130249),\n",
              " ('maxpool3', 0.6348888874053955),\n",
              " ('conv4', 0.5522222518920898),\n",
              " ('activation4', 0.629111111164093),\n",
              " ('resblock2', 0.7246666550636292),\n",
              " ('avgpool', 0.758222222328186)]"
            ]
          },
          "metadata": {},
          "execution_count": 11
        }
      ]
    },
    {
      "cell_type": "code",
      "source": [
        "plt.plot([layer for layer, _ in csi_train], [si for _, si in csi_train])\n",
        "plt.xlabel('Layer')\n",
        "plt.ylabel('CSI')\n",
        "plt.title('CSI vs Layer number - Resnext - path 4')\n",
        "plt.xticks(rotation=90)\n",
        "plt.show()"
      ],
      "metadata": {
        "colab": {
          "base_uri": "https://localhost:8080/",
          "height": 536
        },
        "id": "qIIlDdlUFteO",
        "outputId": "1e3a5c98-215d-4a36-fbe2-d8f9646d59e2"
      },
      "execution_count": 15,
      "outputs": [
        {
          "output_type": "display_data",
          "data": {
            "text/plain": [
              "<Figure size 640x480 with 1 Axes>"
            ],
            "image/png": "[encoded data removed]"
          },
          "metadata": {}
        }
      ]
    },
    {
      "cell_type": "markdown",
      "source": [
        "# Metrics of Test Loader"
      ],
      "metadata": {
        "id": "jxEzYuW2FxJS"
      }
    },
    {
      "cell_type": "code",
      "source": [
        "model.to('cuda:0' if torch.cuda.is_available() else 'cpu')\n",
        "model.eval()\n",
        "device = torch.device(\"cuda\" if torch.cuda.is_available() else \"cpu\")\n",
        "\n",
        "with torch.no_grad():\n",
        "    for inputs, targets in tqdm(test_loader):\n",
        "        inputs = inputs.to(device)\n",
        "        model(inputs)\n",
        "        labels.append(targets.cpu())\n",
        "\n",
        "# Flatten and concatenate\n",
        "for layer_name, layer_features in features_per_layer.items():\n",
        "    if layer_features:\n",
        "        features_per_layer[layer_name] = torch.cat([f.view(f.size(0), -1) for f in layer_features])\n",
        "\n",
        "labels = torch.cat(labels)"
      ],
      "metadata": {
        "colab": {
          "base_uri": "https://localhost:8080/"
        },
        "id": "ZJkXn-ZRFwIj",
        "outputId": "917e61e9-0770-43f6-f2f1-540be67f5517"
      },
      "execution_count": 9,
      "outputs": [
        {
          "output_type": "stream",
          "name": "stderr",
          "text": [
            "100%|██████████| 8/8 [00:01<00:00,  4.04it/s]\n"
          ]
        }
      ]
    },
    {
      "cell_type": "markdown",
      "source": [
        "# SI"
      ],
      "metadata": {
        "id": "swPNVzvNF5fE"
      }
    },
    {
      "cell_type": "code",
      "source": [
        "si_test = []\n",
        "\n",
        "for layer_name, features in features_per_layer.items():\n",
        "    instance_disturbance = ARH_SeparationIndex(features, labels, normalize=True)\n",
        "    si = instance_disturbance.si_batch(batch_size=1000)\n",
        "    si_test.append((layer_name, si))"
      ],
      "metadata": {
        "colab": {
          "base_uri": "https://localhost:8080/"
        },
        "id": "CxDNql9pF31i",
        "outputId": "f0c6ed1b-cc43-4a8a-f9fb-809dc29c7895"
      },
      "execution_count": 10,
      "outputs": [
        {
          "output_type": "stream",
          "name": "stdout",
          "text": [
            "Data has been normalized\n"
          ]
        },
        {
          "output_type": "stream",
          "name": "stderr",
          "text": [
            "Calculating SI: 100%|██████████| 1/1 [00:00<00:00, 714.65it/s]\n"
          ]
        },
        {
          "output_type": "stream",
          "name": "stdout",
          "text": [
            "Data has been normalized\n"
          ]
        },
        {
          "output_type": "stream",
          "name": "stderr",
          "text": [
            "Calculating SI: 100%|██████████| 1/1 [00:00<00:00, 1127.20it/s]\n"
          ]
        },
        {
          "output_type": "stream",
          "name": "stdout",
          "text": [
            "Data has been normalized\n"
          ]
        },
        {
          "output_type": "stream",
          "name": "stderr",
          "text": [
            "Calculating SI: 100%|██████████| 1/1 [00:00<00:00, 1056.23it/s]\n"
          ]
        },
        {
          "output_type": "stream",
          "name": "stdout",
          "text": [
            "Data has been normalized\n"
          ]
        },
        {
          "output_type": "stream",
          "name": "stderr",
          "text": [
            "Calculating SI: 100%|██████████| 1/1 [00:00<00:00, 1106.09it/s]\n"
          ]
        },
        {
          "output_type": "stream",
          "name": "stdout",
          "text": [
            "Data has been normalized\n"
          ]
        },
        {
          "output_type": "stream",
          "name": "stderr",
          "text": [
            "Calculating SI: 100%|██████████| 1/1 [00:00<00:00, 569.57it/s]"
          ]
        },
        {
          "output_type": "stream",
          "name": "stdout",
          "text": [
            "Data has been normalized\n"
          ]
        },
        {
          "output_type": "stream",
          "name": "stderr",
          "text": [
            "\n",
            "Calculating SI: 100%|██████████| 1/1 [00:00<00:00, 889.19it/s]\n"
          ]
        },
        {
          "output_type": "stream",
          "name": "stdout",
          "text": [
            "Data has been normalized\n"
          ]
        },
        {
          "output_type": "stream",
          "name": "stderr",
          "text": [
            "Calculating SI: 100%|██████████| 1/1 [00:00<00:00, 229.94it/s]\n"
          ]
        },
        {
          "output_type": "stream",
          "name": "stdout",
          "text": [
            "Data has been normalized\n"
          ]
        },
        {
          "output_type": "stream",
          "name": "stderr",
          "text": [
            "Calculating SI: 100%|██████████| 1/1 [00:00<00:00, 105.80it/s]\n"
          ]
        },
        {
          "output_type": "stream",
          "name": "stdout",
          "text": [
            "Data has been normalized\n"
          ]
        },
        {
          "output_type": "stream",
          "name": "stderr",
          "text": [
            "Calculating SI: 100%|██████████| 1/1 [00:00<00:00, 705.76it/s]\n"
          ]
        },
        {
          "output_type": "stream",
          "name": "stdout",
          "text": [
            "Data has been normalized\n"
          ]
        },
        {
          "output_type": "stream",
          "name": "stderr",
          "text": [
            "Calculating SI: 100%|██████████| 1/1 [00:00<00:00, 2480.37it/s]\n"
          ]
        },
        {
          "output_type": "stream",
          "name": "stdout",
          "text": [
            "Data has been normalized\n"
          ]
        },
        {
          "output_type": "stream",
          "name": "stderr",
          "text": [
            "Calculating SI: 100%|██████████| 1/1 [00:00<00:00, 1176.85it/s]\n"
          ]
        },
        {
          "output_type": "stream",
          "name": "stdout",
          "text": [
            "Data has been normalized\n"
          ]
        },
        {
          "output_type": "stream",
          "name": "stderr",
          "text": [
            "Calculating SI: 100%|██████████| 1/1 [00:00<00:00, 1066.98it/s]\n"
          ]
        },
        {
          "output_type": "stream",
          "name": "stdout",
          "text": [
            "Data has been normalized\n"
          ]
        },
        {
          "output_type": "stream",
          "name": "stderr",
          "text": [
            "Calculating SI: 100%|██████████| 1/1 [00:00<00:00, 3165.51it/s]\n"
          ]
        },
        {
          "output_type": "stream",
          "name": "stdout",
          "text": [
            "Data has been normalized\n"
          ]
        },
        {
          "output_type": "stream",
          "name": "stderr",
          "text": [
            "Calculating SI: 100%|██████████| 1/1 [00:00<00:00, 2525.17it/s]\n"
          ]
        }
      ]
    },
    {
      "cell_type": "code",
      "source": [
        "si_test"
      ],
      "metadata": {
        "colab": {
          "base_uri": "https://localhost:8080/"
        },
        "id": "xvENLQSEF6Vs",
        "outputId": "15bfe9ff-d427-46c7-d697-960504b0e5d2"
      },
      "execution_count": 11,
      "outputs": [
        {
          "output_type": "execute_result",
          "data": {
            "text/plain": [
              "[('conv1', 0.21300001442432404),\n",
              " ('activation1', 0.21000000834465027),\n",
              " ('conv2', 0.1980000138282776),\n",
              " ('activation2', 0.20400001108646393),\n",
              " ('maxpool1', 0.2460000067949295),\n",
              " ('resblock1', 0.2540000081062317),\n",
              " ('maxpool2', 0.3400000035762787),\n",
              " ('conv3', 0.3190000057220459),\n",
              " ('activation3', 0.25600001215934753),\n",
              " ('maxpool3', 0.44600000977516174),\n",
              " ('conv4', 0.43800002336502075),\n",
              " ('activation4', 0.3850000202655792),\n",
              " ('resblock2', 0.5010000467300415),\n",
              " ('avgpool', 0.6190000176429749)]"
            ]
          },
          "metadata": {},
          "execution_count": 11
        }
      ]
    },
    {
      "cell_type": "code",
      "source": [
        "plt.plot([layer for layer, _ in si_test], [si for _, si in si_test])\n",
        "plt.xlabel('Layer')\n",
        "plt.ylabel('SI')\n",
        "plt.title('SI vs Layer number - Resnext - path 4')\n",
        "plt.xticks(rotation=90)\n",
        "plt.show()"
      ],
      "metadata": {
        "colab": {
          "base_uri": "https://localhost:8080/",
          "height": 536
        },
        "id": "7E5nqaLhF7C1",
        "outputId": "7941b625-9c33-4440-9d16-8d12c44e2fb7"
      },
      "execution_count": 12,
      "outputs": [
        {
          "output_type": "display_data",
          "data": {
            "text/plain": [
              "<Figure size 640x480 with 1 Axes>"
            ],
            "image/png": "[encoded data removed]"
          },
          "metadata": {}
        }
      ]
    },
    {
      "cell_type": "markdown",
      "source": [
        "# Center Si"
      ],
      "metadata": {
        "id": "EQGiwLa6F907"
      }
    },
    {
      "cell_type": "code",
      "source": [
        "csi_test = []\n",
        "\n",
        "for layer_name, features in features_per_layer.items():\n",
        "    instance_disturbance = ARH_SeparationIndex(features, labels, normalize=True)\n",
        "    csi = instance_disturbance.center_si_batch(batch_size=1000)\n",
        "    csi_test.append((layer_name, csi))"
      ],
      "metadata": {
        "colab": {
          "base_uri": "https://localhost:8080/"
        },
        "id": "iBThI8ciF8xU",
        "outputId": "e88f8e46-9b16-4807-d9d5-a80397f52b59"
      },
      "execution_count": 13,
      "outputs": [
        {
          "output_type": "stream",
          "name": "stdout",
          "text": [
            "Data has been normalized\n"
          ]
        },
        {
          "output_type": "stream",
          "name": "stderr",
          "text": [
            "Calculating CSI: 100%|██████████| 1/1 [00:00<00:00, 798.61it/s]\n"
          ]
        },
        {
          "output_type": "stream",
          "name": "stdout",
          "text": [
            "Data has been normalized\n"
          ]
        },
        {
          "output_type": "stream",
          "name": "stderr",
          "text": [
            "Calculating CSI: 100%|██████████| 1/1 [00:00<00:00, 966.65it/s]\n"
          ]
        },
        {
          "output_type": "stream",
          "name": "stdout",
          "text": [
            "Data has been normalized\n"
          ]
        },
        {
          "output_type": "stream",
          "name": "stderr",
          "text": [
            "Calculating CSI: 100%|██████████| 1/1 [00:00<00:00, 381.47it/s]"
          ]
        },
        {
          "output_type": "stream",
          "name": "stdout",
          "text": [
            "Data has been normalized\n"
          ]
        },
        {
          "output_type": "stream",
          "name": "stderr",
          "text": [
            "\n",
            "Calculating CSI: 100%|██████████| 1/1 [00:00<00:00, 377.49it/s]\n"
          ]
        },
        {
          "output_type": "stream",
          "name": "stdout",
          "text": [
            "Data has been normalized\n"
          ]
        },
        {
          "output_type": "stream",
          "name": "stderr",
          "text": [
            "Calculating CSI: 100%|██████████| 1/1 [00:00<00:00, 385.68it/s]\n"
          ]
        },
        {
          "output_type": "stream",
          "name": "stdout",
          "text": [
            "Data has been normalized\n"
          ]
        },
        {
          "output_type": "stream",
          "name": "stderr",
          "text": [
            "Calculating CSI: 100%|██████████| 1/1 [00:00<00:00, 1028.02it/s]"
          ]
        },
        {
          "output_type": "stream",
          "name": "stdout",
          "text": [
            "Data has been normalized\n"
          ]
        },
        {
          "output_type": "stream",
          "name": "stderr",
          "text": [
            "\n",
            "Calculating CSI: 100%|██████████| 1/1 [00:00<00:00, 540.99it/s]\n"
          ]
        },
        {
          "output_type": "stream",
          "name": "stdout",
          "text": [
            "Data has been normalized\n"
          ]
        },
        {
          "output_type": "stream",
          "name": "stderr",
          "text": [
            "Calculating CSI: 100%|██████████| 1/1 [00:00<00:00, 457.64it/s]\n"
          ]
        },
        {
          "output_type": "stream",
          "name": "stdout",
          "text": [
            "Data has been normalized\n"
          ]
        },
        {
          "output_type": "stream",
          "name": "stderr",
          "text": [
            "Calculating CSI: 100%|██████████| 1/1 [00:00<00:00, 974.29it/s]\n"
          ]
        },
        {
          "output_type": "stream",
          "name": "stdout",
          "text": [
            "Data has been normalized\n"
          ]
        },
        {
          "output_type": "stream",
          "name": "stderr",
          "text": [
            "Calculating CSI: 100%|██████████| 1/1 [00:00<00:00, 677.16it/s]\n"
          ]
        },
        {
          "output_type": "stream",
          "name": "stdout",
          "text": [
            "Data has been normalized\n"
          ]
        },
        {
          "output_type": "stream",
          "name": "stderr",
          "text": [
            "Calculating CSI: 100%|██████████| 1/1 [00:00<00:00, 1700.16it/s]\n"
          ]
        },
        {
          "output_type": "stream",
          "name": "stdout",
          "text": [
            "Data has been normalized\n"
          ]
        },
        {
          "output_type": "stream",
          "name": "stderr",
          "text": [
            "Calculating CSI: 100%|██████████| 1/1 [00:00<00:00, 688.15it/s]\n"
          ]
        },
        {
          "output_type": "stream",
          "name": "stdout",
          "text": [
            "Data has been normalized\n"
          ]
        },
        {
          "output_type": "stream",
          "name": "stderr",
          "text": [
            "Calculating CSI: 100%|██████████| 1/1 [00:00<00:00, 962.00it/s]\n"
          ]
        },
        {
          "output_type": "stream",
          "name": "stdout",
          "text": [
            "Data has been normalized\n"
          ]
        },
        {
          "output_type": "stream",
          "name": "stderr",
          "text": [
            "Calculating CSI: 100%|██████████| 1/1 [00:00<00:00, 1642.25it/s]\n"
          ]
        }
      ]
    },
    {
      "cell_type": "code",
      "source": [
        "csi_test"
      ],
      "metadata": {
        "colab": {
          "base_uri": "https://localhost:8080/"
        },
        "id": "5Jx3U5COF_Af",
        "outputId": "55db1012-dc40-4468-fd94-9399d256673e"
      },
      "execution_count": 14,
      "outputs": [
        {
          "output_type": "execute_result",
          "data": {
            "text/plain": [
              "[('conv1', 0.4490000307559967),\n",
              " ('activation1', 0.445000022649765),\n",
              " ('conv2', 0.47300001978874207),\n",
              " ('activation2', 0.5070000290870667),\n",
              " ('maxpool1', 0.5410000085830688),\n",
              " ('resblock1', 0.6360000371932983),\n",
              " ('maxpool2', 0.6430000066757202),\n",
              " ('conv3', 0.6030000448226929),\n",
              " ('activation3', 0.6620000600814819),\n",
              " ('maxpool3', 0.687000036239624),\n",
              " ('conv4', 0.6170000433921814),\n",
              " ('activation4', 0.7280000448226929),\n",
              " ('resblock2', 0.7420000433921814),\n",
              " ('avgpool', 0.7500000596046448)]"
            ]
          },
          "metadata": {},
          "execution_count": 14
        }
      ]
    },
    {
      "cell_type": "code",
      "source": [
        "plt.plot([layer for layer, _ in csi_test], [si for _, si in csi_test])\n",
        "plt.xlabel('Layer')\n",
        "plt.ylabel('CSI')\n",
        "plt.title('CSI vs Layer number - Resnext - path 4')\n",
        "plt.xticks(rotation=90)\n",
        "plt.show()"
      ],
      "metadata": {
        "colab": {
          "base_uri": "https://localhost:8080/",
          "height": 536
        },
        "id": "UpKsLqpRF_4V",
        "outputId": "90e8584d-caad-455d-8761-0b66e66a4cdb"
      },
      "execution_count": 15,
      "outputs": [
        {
          "output_type": "display_data",
          "data": {
            "text/plain": [
              "<Figure size 640x480 with 1 Axes>"
            ],
            "image/png": "[encoded data removed]"
          },
          "metadata": {}
        }
      ]
    }
  ]
}