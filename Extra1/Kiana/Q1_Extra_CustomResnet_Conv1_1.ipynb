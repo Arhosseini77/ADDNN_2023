{
  "nbformat": 4,
  "nbformat_minor": 0,
  "metadata": {
    "colab": {
      "provenance": [],
      "gpuType": "T4"
    },
    "kernelspec": {
      "name": "python3",
      "display_name": "Python 3"
    },
    "language_info": {
      "name": "python"
    },
    "accelerator": "GPU"
  },
  "cells": [
    {
      "cell_type": "markdown",
      "source": [
        "# Libraries"
      ],
      "metadata": {
        "id": "gGXmdeyB3iB6"
      }
    },
    {
      "cell_type": "code",
      "execution_count": 1,
      "metadata": {
        "id": "hjpiEbRz_eSD"
      },
      "outputs": [],
      "source": [
        "import torch\n",
        "import torch.nn as nn\n",
        "import torch.nn.functional as F\n",
        "from torchvision import datasets, transforms\n",
        "import torch.optim as optim\n",
        "from torch.optim.lr_scheduler import StepLR\n",
        "from sklearn.model_selection import train_test_split\n",
        "from torch.utils.data import DataLoader, random_split\n",
        "import matplotlib.pyplot as plt\n",
        "from tqdm import tqdm"
      ]
    },
    {
      "cell_type": "code",
      "source": [
        "!pip install --q torchsummary"
      ],
      "metadata": {
        "id": "uaUuOV96_zeq"
      },
      "execution_count": 2,
      "outputs": []
    },
    {
      "cell_type": "markdown",
      "source": [
        "# Custom_Resnet\n",
        "\n"
      ],
      "metadata": {
        "id": "rH2SMLv6Ba55"
      }
    },
    {
      "cell_type": "code",
      "source": [
        "# Define a ResNet block\n",
        "class MyResNetBlock(nn.Module):\n",
        "    # Constructor with input and output channel parameters\n",
        "    def __init__(self, in_channels, out_channels):\n",
        "        super(MyResNetBlock, self).__init__()\n",
        "        # First convolutional layer\n",
        "        self.conv1 = nn.Conv2d(in_channels, out_channels, kernel_size=3, padding=1)\n",
        "        # ELU activation function\n",
        "        self.activation1 = nn.ELU()\n",
        "        # Second convolutional layer\n",
        "        self.conv2 = nn.Conv2d(out_channels, out_channels, kernel_size=3, padding=1)\n",
        "\n",
        "    # Forward method for the block\n",
        "    def forward(self, x):\n",
        "        shortcut = x  # Preserve the input for the shortcut connection\n",
        "        x = self.conv1(x)\n",
        "        x = self.activation1(x)\n",
        "        x = self.conv2(x)\n",
        "        x += shortcut  # Add the input to the output (residual connection)\n",
        "        x = self.activation1(x)\n",
        "        return x\n",
        "\n",
        "# Define the main ResNet model\n",
        "class MyResNet(nn.Module):\n",
        "    # Constructor\n",
        "    def __init__(self):\n",
        "        super(MyResNet, self).__init__()\n",
        "        # Initial convolutional layers\n",
        "        self.conv1 = nn.Conv2d(3, 32, kernel_size=3, padding=1)\n",
        "        self.activation1 = nn.ELU()\n",
        "        self.conv2 = nn.Conv2d(32, 64, kernel_size=3, padding=1)\n",
        "        self.activation2 = nn.ELU()\n",
        "        self.maxpool1 = nn.MaxPool2d(kernel_size=2)\n",
        "\n",
        "        # Residual blocks\n",
        "        self.resblock1 = MyResNetBlock(64, 64)\n",
        "        self.maxpool2 = nn.MaxPool2d(kernel_size=2)\n",
        "        self.conv3 = nn.Conv2d(64, 128, kernel_size=3, padding=1)\n",
        "        self.activation3 = nn.ELU()\n",
        "        self.maxpool3 = nn.MaxPool2d(kernel_size=2)\n",
        "        self.conv1x1 = nn.Conv2d(128, 256, kernel_size=1, padding=1)  # 1x1 convolution\n",
        "        self.activation4 = nn.ELU()\n",
        "        self.resblock2 = MyResNetBlock(256, 256)\n",
        "\n",
        "        # Average pooling and fully connected layers\n",
        "        self.avgpool = nn.AvgPool2d(kernel_size=3, stride=2)\n",
        "        self.flatten = nn.Flatten()\n",
        "        self.dense1 = nn.Linear(1024, 256)\n",
        "        self.dense2 = nn.Linear(256, 10)\n",
        "        self.softmax = nn.Softmax(dim=1)\n",
        "\n",
        "    # Forward method for the model\n",
        "    def forward(self, x):\n",
        "        x = self.conv1(x)\n",
        "        x = self.activation1(x)\n",
        "        x = self.conv2(x)\n",
        "        x = self.activation2(x)\n",
        "        x = self.maxpool1(x)\n",
        "\n",
        "        x = self.resblock1(x)\n",
        "        x = self.conv3(x)\n",
        "        x = self.activation3(x)\n",
        "        x = self.maxpool2(x)\n",
        "\n",
        "        x = self.conv1x1(x)\n",
        "        x = self.activation4(x)\n",
        "        x = self.maxpool3(x)\n",
        "        x = self.resblock2(x)\n",
        "        x = self.avgpool(x)\n",
        "        x = self.flatten(x)\n",
        "        x = self.dense1(x)\n",
        "        x = self.dense2(x)\n",
        "        x = self.softmax(x)\n",
        "        return x\n"
      ],
      "metadata": {
        "id": "k_5Gx7y8_0dp"
      },
      "execution_count": 3,
      "outputs": []
    },
    {
      "cell_type": "code",
      "source": [
        "from torchsummary import summary\n",
        "\n",
        "# Instantiate the model\n",
        "model = MyResNet()\n",
        "\n",
        "# Move the model to GPU if available\n",
        "device = torch.device(\"cuda\" if torch.cuda.is_available() else \"cpu\")\n",
        "model.to(device)\n",
        "\n",
        "# Print the model summary\n",
        "summary(model, (3, 32, 32))"
      ],
      "metadata": {
        "colab": {
          "base_uri": "https://localhost:8080/"
        },
        "id": "8UD_U3KKCxzI",
        "outputId": "239e3633-0552-4d59-a3cb-ca6db782ba69"
      },
      "execution_count": 8,
      "outputs": [
        {
          "output_type": "stream",
          "name": "stdout",
          "text": [
            "----------------------------------------------------------------\n",
            "        Layer (type)               Output Shape         Param #\n",
            "================================================================\n",
            "            Conv2d-1           [-1, 32, 32, 32]             896\n",
            "               ELU-2           [-1, 32, 32, 32]               0\n",
            "            Conv2d-3           [-1, 64, 32, 32]          18,496\n",
            "               ELU-4           [-1, 64, 32, 32]               0\n",
            "         MaxPool2d-5           [-1, 64, 16, 16]               0\n",
            "            Conv2d-6           [-1, 64, 16, 16]          36,928\n",
            "               ELU-7           [-1, 64, 16, 16]               0\n",
            "            Conv2d-8           [-1, 64, 16, 16]          36,928\n",
            "               ELU-9           [-1, 64, 16, 16]               0\n",
            "    MyResNetBlock-10           [-1, 64, 16, 16]               0\n",
            "           Conv2d-11          [-1, 128, 16, 16]          73,856\n",
            "              ELU-12          [-1, 128, 16, 16]               0\n",
            "        MaxPool2d-13            [-1, 128, 8, 8]               0\n",
            "           Conv2d-14          [-1, 256, 10, 10]          33,024\n",
            "              ELU-15          [-1, 256, 10, 10]               0\n",
            "        MaxPool2d-16            [-1, 256, 5, 5]               0\n",
            "           Conv2d-17            [-1, 256, 5, 5]         590,080\n",
            "              ELU-18            [-1, 256, 5, 5]               0\n",
            "           Conv2d-19            [-1, 256, 5, 5]         590,080\n",
            "              ELU-20            [-1, 256, 5, 5]               0\n",
            "    MyResNetBlock-21            [-1, 256, 5, 5]               0\n",
            "        AvgPool2d-22            [-1, 256, 2, 2]               0\n",
            "          Flatten-23                 [-1, 1024]               0\n",
            "           Linear-24                  [-1, 256]         262,400\n",
            "           Linear-25                   [-1, 10]           2,570\n",
            "          Softmax-26                   [-1, 10]               0\n",
            "================================================================\n",
            "Total params: 1,645,258\n",
            "Trainable params: 1,645,258\n",
            "Non-trainable params: 0\n",
            "----------------------------------------------------------------\n",
            "Input size (MB): 0.01\n",
            "Forward/backward pass size (MB): 3.51\n",
            "Params size (MB): 6.28\n",
            "Estimated Total Size (MB): 9.80\n",
            "----------------------------------------------------------------\n"
          ]
        }
      ]
    },
    {
      "cell_type": "markdown",
      "source": [
        "# Dataset"
      ],
      "metadata": {
        "id": "yx2QKuhV4Mfz"
      }
    },
    {
      "cell_type": "code",
      "source": [
        "# Data augmentation transformations for training data\n",
        "data_augmentation_train = transforms.Compose([\n",
        "    transforms.RandomHorizontalFlip(),  # Randomly flip the image horizontally\n",
        "    transforms.RandomRotation(15),  # Randomly rotate the image by 15 degrees\n",
        "    transforms.RandomVerticalFlip(),  # Randomly flip the image vertically\n",
        "    transforms.ToTensor(),  # Convert the image to a PyTorch tensor\n",
        "    transforms.Normalize((0.5, 0.5, 0.5), (0.5, 0.5, 0.5))  # Normalize the tensor values\n",
        "])\n",
        "\n",
        "# Data preprocessing transformations for test/validation data\n",
        "data_preprocessing_test = transforms.Compose([\n",
        "    transforms.ToTensor(),  # Convert the image to a PyTorch tensor\n",
        "    transforms.Normalize((0.5, 0.5, 0.5), (0.5, 0.5, 0.5)) # Normalize the tensor values\n",
        "])\n",
        "\n",
        "\n",
        "# Load CIFAR-10 dataset\n",
        "# Training set with data augmentation\n",
        "train_dataset = datasets.CIFAR10(root='./data', train=True, download=True, transform=data_augmentation_train)\n",
        "# Test set with data preprocessing\n",
        "test_dataset = datasets.CIFAR10(root='./data', train=False, download=True, transform=data_preprocessing_test)\n",
        "\n",
        "# Splitting the training dataset into training and validation sets\n",
        "train_size = int(0.9 * len(train_dataset))\n",
        "val_size = len(train_dataset) - train_size\n",
        "train_dataset, val_dataset = random_split(train_dataset, [train_size, val_size])\n",
        "\n",
        "# Data loaders\n",
        "batch_size = 128\n",
        "# Training data loader\n",
        "train_loader = DataLoader(train_dataset, batch_size=batch_size, shuffle=True)\n",
        "# Validation data loader\n",
        "val_loader = DataLoader(val_dataset, batch_size=batch_size, shuffle=False)\n",
        "# Test data loader\n",
        "test_loader = DataLoader(test_dataset, batch_size=batch_size, shuffle=False)"
      ],
      "metadata": {
        "colab": {
          "base_uri": "https://localhost:8080/"
        },
        "id": "oWHNFbxeDRhx",
        "outputId": "7deb1877-c48c-4b8d-e561-f30daf5c39a7"
      },
      "execution_count": 9,
      "outputs": [
        {
          "output_type": "stream",
          "name": "stdout",
          "text": [
            "Downloading https://www.cs.toronto.edu/~kriz/cifar-10-python.tar.gz to ./data/cifar-10-python.tar.gz\n"
          ]
        },
        {
          "output_type": "stream",
          "name": "stderr",
          "text": [
            "100%|██████████| 170498071/170498071 [00:02<00:00, 73516456.19it/s]\n"
          ]
        },
        {
          "output_type": "stream",
          "name": "stdout",
          "text": [
            "Extracting ./data/cifar-10-python.tar.gz to ./data\n",
            "Files already downloaded and verified\n"
          ]
        }
      ]
    },
    {
      "cell_type": "markdown",
      "source": [
        "# Training"
      ],
      "metadata": {
        "id": "IeTV7C4f4Omj"
      }
    },
    {
      "cell_type": "code",
      "source": [
        "device = torch.device(\"cuda:0\" if torch.cuda.is_available() else \"cpu\")\n",
        "model = MyResNet().to(device)"
      ],
      "metadata": {
        "id": "6sa8VK-4D9pW"
      },
      "execution_count": 10,
      "outputs": []
    },
    {
      "cell_type": "code",
      "source": [
        "# Optimizer, Learning Rate Scheduler, and Loss Criterion\n",
        "# Stochastic Gradient Descent (SGD) optimizer\n",
        "optimizer = optim.SGD(model.parameters(), lr=0.01, momentum=0.9)\n",
        "# Learning rate scheduler with step decay\n",
        "scheduler = StepLR(optimizer, step_size=50, gamma=0.1)\n",
        "# CrossEntropyLoss criterion for classification tasks\n",
        "criterion = nn.CrossEntropyLoss()"
      ],
      "metadata": {
        "id": "Isz06eq-D-iO"
      },
      "execution_count": 11,
      "outputs": []
    },
    {
      "cell_type": "code",
      "source": [
        "from tqdm import tqdm\n",
        "\n",
        "train_losses = []\n",
        "train_accuracies = []\n",
        "val_losses = []\n",
        "val_accuracies = []\n",
        "best_val_accuracy = 0\n",
        "best_model_weights = None\n",
        "\n",
        "# Number of epochs\n",
        "epochs = 100\n",
        "\n",
        "# Training loop\n",
        "for epoch in range(1, epochs + 1):\n",
        "    # Training\n",
        "    model.train()\n",
        "    total_loss = 0\n",
        "    correct = 0\n",
        "    total_samples = 0\n",
        "    for data, target in tqdm(train_loader):\n",
        "        data, target = data.to(device), target.to(device)\n",
        "        optimizer.zero_grad()\n",
        "        output = model(data)\n",
        "        loss = criterion(output, target)\n",
        "        loss.backward()\n",
        "        optimizer.step()\n",
        "\n",
        "        # Compute training accuracy\n",
        "        pred = output.argmax(dim=1, keepdim=True)\n",
        "        correct += pred.eq(target.view_as(pred)).sum().item()\n",
        "        total_samples += data.size(0)\n",
        "\n",
        "        total_loss += loss.item()\n",
        "\n",
        "    # Calculate average training loss and accuracy\n",
        "    average_loss = total_loss / len(train_loader.dataset)\n",
        "    accuracy_train = correct / total_samples\n",
        "\n",
        "    print(f'Train Epoch: {epoch}, Average Loss: {average_loss:.4f}, Accuracy: {accuracy_train:.2}')\n",
        "\n",
        "    # Validation\n",
        "    model.eval()\n",
        "    val_loss = 0\n",
        "    correct = 0\n",
        "    with torch.no_grad():\n",
        "        for data, target in val_loader:\n",
        "            data, target = data.to(device), target.to(device)\n",
        "            output = model(data)\n",
        "            val_loss += criterion(output, target).item()\n",
        "            pred = output.argmax(dim=1, keepdim=True)\n",
        "            correct += pred.eq(target.view_as(pred)).sum().item()\n",
        "\n",
        "    val_loss /= len(val_loader.dataset)\n",
        "    accuracy_val = correct / len(val_loader.dataset)\n",
        "    print(f'Validation set: Average loss: {val_loss:.4f}, Accuracy: {accuracy_val:.2f}')\n",
        "\n",
        "    # Append values for plotting\n",
        "    train_losses.append(average_loss)\n",
        "    train_accuracies.append(accuracy_train)\n",
        "\n",
        "    # Append values for plotting\n",
        "    val_losses.append(val_loss)\n",
        "    val_accuracies.append(accuracy_val)\n",
        "\n",
        "    if accuracy_val > best_val_accuracy:\n",
        "       best_val_accuracy = accuracy_val\n",
        "       best_model_weights = model.state_dict()\n",
        "\n",
        "    scheduler.step()"
      ],
      "metadata": {
        "colab": {
          "base_uri": "https://localhost:8080/"
        },
        "id": "wq8eb-dqD_RU",
        "outputId": "c5094959-1d4b-47c0-e3c7-a2fa455231f6"
      },
      "execution_count": 12,
      "outputs": [
        {
          "output_type": "stream",
          "name": "stderr",
          "text": [
            "100%|██████████| 352/352 [00:43<00:00,  8.14it/s]\n"
          ]
        },
        {
          "output_type": "stream",
          "name": "stdout",
          "text": [
            "Train Epoch: 1, Average Loss: 0.0180, Accuracy: 0.12\n",
            "Validation set: Average loss: 0.0184, Accuracy: 0.14\n"
          ]
        },
        {
          "output_type": "stream",
          "name": "stderr",
          "text": [
            "100%|██████████| 352/352 [00:30<00:00, 11.40it/s]\n"
          ]
        },
        {
          "output_type": "stream",
          "name": "stdout",
          "text": [
            "Train Epoch: 2, Average Loss: 0.0177, Accuracy: 0.17\n",
            "Validation set: Average loss: 0.0178, Accuracy: 0.20\n"
          ]
        },
        {
          "output_type": "stream",
          "name": "stderr",
          "text": [
            "100%|██████████| 352/352 [00:32<00:00, 10.68it/s]\n"
          ]
        },
        {
          "output_type": "stream",
          "name": "stdout",
          "text": [
            "Train Epoch: 3, Average Loss: 0.0174, Accuracy: 0.21\n",
            "Validation set: Average loss: 0.0178, Accuracy: 0.22\n"
          ]
        },
        {
          "output_type": "stream",
          "name": "stderr",
          "text": [
            "100%|██████████| 352/352 [00:30<00:00, 11.46it/s]\n"
          ]
        },
        {
          "output_type": "stream",
          "name": "stdout",
          "text": [
            "Train Epoch: 4, Average Loss: 0.0173, Accuracy: 0.23\n",
            "Validation set: Average loss: 0.0176, Accuracy: 0.24\n"
          ]
        },
        {
          "output_type": "stream",
          "name": "stderr",
          "text": [
            "100%|██████████| 352/352 [00:31<00:00, 11.12it/s]\n"
          ]
        },
        {
          "output_type": "stream",
          "name": "stdout",
          "text": [
            "Train Epoch: 5, Average Loss: 0.0171, Accuracy: 0.25\n",
            "Validation set: Average loss: 0.0174, Accuracy: 0.27\n"
          ]
        },
        {
          "output_type": "stream",
          "name": "stderr",
          "text": [
            "100%|██████████| 352/352 [00:31<00:00, 11.11it/s]\n"
          ]
        },
        {
          "output_type": "stream",
          "name": "stdout",
          "text": [
            "Train Epoch: 6, Average Loss: 0.0169, Accuracy: 0.29\n",
            "Validation set: Average loss: 0.0172, Accuracy: 0.30\n"
          ]
        },
        {
          "output_type": "stream",
          "name": "stderr",
          "text": [
            "100%|██████████| 352/352 [00:32<00:00, 10.70it/s]\n"
          ]
        },
        {
          "output_type": "stream",
          "name": "stdout",
          "text": [
            "Train Epoch: 7, Average Loss: 0.0168, Accuracy: 0.31\n",
            "Validation set: Average loss: 0.0170, Accuracy: 0.32\n"
          ]
        },
        {
          "output_type": "stream",
          "name": "stderr",
          "text": [
            "100%|██████████| 352/352 [00:30<00:00, 11.38it/s]\n"
          ]
        },
        {
          "output_type": "stream",
          "name": "stdout",
          "text": [
            "Train Epoch: 8, Average Loss: 0.0166, Accuracy: 0.33\n",
            "Validation set: Average loss: 0.0169, Accuracy: 0.34\n"
          ]
        },
        {
          "output_type": "stream",
          "name": "stderr",
          "text": [
            "100%|██████████| 352/352 [00:31<00:00, 11.30it/s]\n"
          ]
        },
        {
          "output_type": "stream",
          "name": "stdout",
          "text": [
            "Train Epoch: 9, Average Loss: 0.0165, Accuracy: 0.35\n",
            "Validation set: Average loss: 0.0169, Accuracy: 0.34\n"
          ]
        },
        {
          "output_type": "stream",
          "name": "stderr",
          "text": [
            "100%|██████████| 352/352 [00:30<00:00, 11.42it/s]\n"
          ]
        },
        {
          "output_type": "stream",
          "name": "stdout",
          "text": [
            "Train Epoch: 10, Average Loss: 0.0163, Accuracy: 0.36\n",
            "Validation set: Average loss: 0.0165, Accuracy: 0.39\n"
          ]
        },
        {
          "output_type": "stream",
          "name": "stderr",
          "text": [
            "100%|██████████| 352/352 [00:31<00:00, 11.29it/s]\n"
          ]
        },
        {
          "output_type": "stream",
          "name": "stdout",
          "text": [
            "Train Epoch: 11, Average Loss: 0.0162, Accuracy: 0.38\n",
            "Validation set: Average loss: 0.0164, Accuracy: 0.41\n"
          ]
        },
        {
          "output_type": "stream",
          "name": "stderr",
          "text": [
            "100%|██████████| 352/352 [00:30<00:00, 11.36it/s]\n"
          ]
        },
        {
          "output_type": "stream",
          "name": "stdout",
          "text": [
            "Train Epoch: 12, Average Loss: 0.0161, Accuracy: 0.39\n",
            "Validation set: Average loss: 0.0164, Accuracy: 0.40\n"
          ]
        },
        {
          "output_type": "stream",
          "name": "stderr",
          "text": [
            "100%|██████████| 352/352 [00:30<00:00, 11.39it/s]\n"
          ]
        },
        {
          "output_type": "stream",
          "name": "stdout",
          "text": [
            "Train Epoch: 13, Average Loss: 0.0160, Accuracy: 0.41\n",
            "Validation set: Average loss: 0.0163, Accuracy: 0.42\n"
          ]
        },
        {
          "output_type": "stream",
          "name": "stderr",
          "text": [
            "100%|██████████| 352/352 [00:30<00:00, 11.43it/s]\n"
          ]
        },
        {
          "output_type": "stream",
          "name": "stdout",
          "text": [
            "Train Epoch: 14, Average Loss: 0.0159, Accuracy: 0.42\n",
            "Validation set: Average loss: 0.0162, Accuracy: 0.43\n"
          ]
        },
        {
          "output_type": "stream",
          "name": "stderr",
          "text": [
            "100%|██████████| 352/352 [00:30<00:00, 11.40it/s]\n"
          ]
        },
        {
          "output_type": "stream",
          "name": "stdout",
          "text": [
            "Train Epoch: 15, Average Loss: 0.0158, Accuracy: 0.44\n",
            "Validation set: Average loss: 0.0161, Accuracy: 0.44\n"
          ]
        },
        {
          "output_type": "stream",
          "name": "stderr",
          "text": [
            "100%|██████████| 352/352 [00:31<00:00, 11.35it/s]\n"
          ]
        },
        {
          "output_type": "stream",
          "name": "stdout",
          "text": [
            "Train Epoch: 16, Average Loss: 0.0157, Accuracy: 0.45\n",
            "Validation set: Average loss: 0.0160, Accuracy: 0.46\n"
          ]
        },
        {
          "output_type": "stream",
          "name": "stderr",
          "text": [
            "100%|██████████| 352/352 [00:30<00:00, 11.41it/s]\n"
          ]
        },
        {
          "output_type": "stream",
          "name": "stdout",
          "text": [
            "Train Epoch: 17, Average Loss: 0.0157, Accuracy: 0.45\n",
            "Validation set: Average loss: 0.0159, Accuracy: 0.47\n"
          ]
        },
        {
          "output_type": "stream",
          "name": "stderr",
          "text": [
            "100%|██████████| 352/352 [00:33<00:00, 10.53it/s]\n"
          ]
        },
        {
          "output_type": "stream",
          "name": "stdout",
          "text": [
            "Train Epoch: 18, Average Loss: 0.0155, Accuracy: 0.47\n",
            "Validation set: Average loss: 0.0158, Accuracy: 0.48\n"
          ]
        },
        {
          "output_type": "stream",
          "name": "stderr",
          "text": [
            "100%|██████████| 352/352 [00:32<00:00, 10.80it/s]\n"
          ]
        },
        {
          "output_type": "stream",
          "name": "stdout",
          "text": [
            "Train Epoch: 19, Average Loss: 0.0154, Accuracy: 0.49\n",
            "Validation set: Average loss: 0.0159, Accuracy: 0.47\n"
          ]
        },
        {
          "output_type": "stream",
          "name": "stderr",
          "text": [
            "100%|██████████| 352/352 [00:32<00:00, 10.92it/s]\n"
          ]
        },
        {
          "output_type": "stream",
          "name": "stdout",
          "text": [
            "Train Epoch: 20, Average Loss: 0.0153, Accuracy: 0.5\n",
            "Validation set: Average loss: 0.0157, Accuracy: 0.50\n"
          ]
        },
        {
          "output_type": "stream",
          "name": "stderr",
          "text": [
            "100%|██████████| 352/352 [00:31<00:00, 11.21it/s]\n"
          ]
        },
        {
          "output_type": "stream",
          "name": "stdout",
          "text": [
            "Train Epoch: 21, Average Loss: 0.0152, Accuracy: 0.51\n",
            "Validation set: Average loss: 0.0156, Accuracy: 0.51\n"
          ]
        },
        {
          "output_type": "stream",
          "name": "stderr",
          "text": [
            "100%|██████████| 352/352 [00:32<00:00, 10.86it/s]\n"
          ]
        },
        {
          "output_type": "stream",
          "name": "stdout",
          "text": [
            "Train Epoch: 22, Average Loss: 0.0151, Accuracy: 0.53\n",
            "Validation set: Average loss: 0.0154, Accuracy: 0.53\n"
          ]
        },
        {
          "output_type": "stream",
          "name": "stderr",
          "text": [
            "100%|██████████| 352/352 [00:32<00:00, 10.93it/s]\n"
          ]
        },
        {
          "output_type": "stream",
          "name": "stdout",
          "text": [
            "Train Epoch: 23, Average Loss: 0.0150, Accuracy: 0.54\n",
            "Validation set: Average loss: 0.0155, Accuracy: 0.53\n"
          ]
        },
        {
          "output_type": "stream",
          "name": "stderr",
          "text": [
            "100%|██████████| 352/352 [00:31<00:00, 11.16it/s]\n"
          ]
        },
        {
          "output_type": "stream",
          "name": "stdout",
          "text": [
            "Train Epoch: 24, Average Loss: 0.0150, Accuracy: 0.54\n",
            "Validation set: Average loss: 0.0152, Accuracy: 0.56\n"
          ]
        },
        {
          "output_type": "stream",
          "name": "stderr",
          "text": [
            "100%|██████████| 352/352 [00:31<00:00, 11.16it/s]\n"
          ]
        },
        {
          "output_type": "stream",
          "name": "stdout",
          "text": [
            "Train Epoch: 25, Average Loss: 0.0149, Accuracy: 0.55\n",
            "Validation set: Average loss: 0.0153, Accuracy: 0.55\n"
          ]
        },
        {
          "output_type": "stream",
          "name": "stderr",
          "text": [
            "100%|██████████| 352/352 [00:32<00:00, 10.95it/s]\n"
          ]
        },
        {
          "output_type": "stream",
          "name": "stdout",
          "text": [
            "Train Epoch: 26, Average Loss: 0.0148, Accuracy: 0.56\n",
            "Validation set: Average loss: 0.0152, Accuracy: 0.56\n"
          ]
        },
        {
          "output_type": "stream",
          "name": "stderr",
          "text": [
            "100%|██████████| 352/352 [00:31<00:00, 11.22it/s]\n"
          ]
        },
        {
          "output_type": "stream",
          "name": "stdout",
          "text": [
            "Train Epoch: 27, Average Loss: 0.0147, Accuracy: 0.57\n",
            "Validation set: Average loss: 0.0151, Accuracy: 0.56\n"
          ]
        },
        {
          "output_type": "stream",
          "name": "stderr",
          "text": [
            "100%|██████████| 352/352 [00:33<00:00, 10.60it/s]\n"
          ]
        },
        {
          "output_type": "stream",
          "name": "stdout",
          "text": [
            "Train Epoch: 28, Average Loss: 0.0147, Accuracy: 0.58\n",
            "Validation set: Average loss: 0.0150, Accuracy: 0.58\n"
          ]
        },
        {
          "output_type": "stream",
          "name": "stderr",
          "text": [
            "100%|██████████| 352/352 [00:32<00:00, 10.69it/s]\n"
          ]
        },
        {
          "output_type": "stream",
          "name": "stdout",
          "text": [
            "Train Epoch: 29, Average Loss: 0.0146, Accuracy: 0.59\n",
            "Validation set: Average loss: 0.0150, Accuracy: 0.59\n"
          ]
        },
        {
          "output_type": "stream",
          "name": "stderr",
          "text": [
            "100%|██████████| 352/352 [00:31<00:00, 11.19it/s]\n"
          ]
        },
        {
          "output_type": "stream",
          "name": "stdout",
          "text": [
            "Train Epoch: 30, Average Loss: 0.0146, Accuracy: 0.6\n",
            "Validation set: Average loss: 0.0150, Accuracy: 0.59\n"
          ]
        },
        {
          "output_type": "stream",
          "name": "stderr",
          "text": [
            "100%|██████████| 352/352 [00:31<00:00, 11.10it/s]\n"
          ]
        },
        {
          "output_type": "stream",
          "name": "stdout",
          "text": [
            "Train Epoch: 31, Average Loss: 0.0145, Accuracy: 0.6\n",
            "Validation set: Average loss: 0.0148, Accuracy: 0.60\n"
          ]
        },
        {
          "output_type": "stream",
          "name": "stderr",
          "text": [
            "100%|██████████| 352/352 [00:31<00:00, 11.21it/s]\n"
          ]
        },
        {
          "output_type": "stream",
          "name": "stdout",
          "text": [
            "Train Epoch: 32, Average Loss: 0.0144, Accuracy: 0.61\n",
            "Validation set: Average loss: 0.0147, Accuracy: 0.62\n"
          ]
        },
        {
          "output_type": "stream",
          "name": "stderr",
          "text": [
            "100%|██████████| 352/352 [00:31<00:00, 11.06it/s]\n"
          ]
        },
        {
          "output_type": "stream",
          "name": "stdout",
          "text": [
            "Train Epoch: 33, Average Loss: 0.0144, Accuracy: 0.62\n",
            "Validation set: Average loss: 0.0148, Accuracy: 0.60\n"
          ]
        },
        {
          "output_type": "stream",
          "name": "stderr",
          "text": [
            "100%|██████████| 352/352 [00:31<00:00, 11.29it/s]\n"
          ]
        },
        {
          "output_type": "stream",
          "name": "stdout",
          "text": [
            "Train Epoch: 34, Average Loss: 0.0144, Accuracy: 0.62\n",
            "Validation set: Average loss: 0.0147, Accuracy: 0.61\n"
          ]
        },
        {
          "output_type": "stream",
          "name": "stderr",
          "text": [
            "100%|██████████| 352/352 [00:30<00:00, 11.41it/s]\n"
          ]
        },
        {
          "output_type": "stream",
          "name": "stdout",
          "text": [
            "Train Epoch: 35, Average Loss: 0.0143, Accuracy: 0.63\n",
            "Validation set: Average loss: 0.0146, Accuracy: 0.63\n"
          ]
        },
        {
          "output_type": "stream",
          "name": "stderr",
          "text": [
            "100%|██████████| 352/352 [00:30<00:00, 11.41it/s]\n"
          ]
        },
        {
          "output_type": "stream",
          "name": "stdout",
          "text": [
            "Train Epoch: 36, Average Loss: 0.0143, Accuracy: 0.63\n",
            "Validation set: Average loss: 0.0147, Accuracy: 0.63\n"
          ]
        },
        {
          "output_type": "stream",
          "name": "stderr",
          "text": [
            "100%|██████████| 352/352 [00:30<00:00, 11.45it/s]\n"
          ]
        },
        {
          "output_type": "stream",
          "name": "stdout",
          "text": [
            "Train Epoch: 37, Average Loss: 0.0143, Accuracy: 0.63\n",
            "Validation set: Average loss: 0.0146, Accuracy: 0.63\n"
          ]
        },
        {
          "output_type": "stream",
          "name": "stderr",
          "text": [
            "100%|██████████| 352/352 [00:32<00:00, 10.80it/s]\n"
          ]
        },
        {
          "output_type": "stream",
          "name": "stdout",
          "text": [
            "Train Epoch: 38, Average Loss: 0.0142, Accuracy: 0.64\n",
            "Validation set: Average loss: 0.0148, Accuracy: 0.61\n"
          ]
        },
        {
          "output_type": "stream",
          "name": "stderr",
          "text": [
            "100%|██████████| 352/352 [00:30<00:00, 11.41it/s]\n"
          ]
        },
        {
          "output_type": "stream",
          "name": "stdout",
          "text": [
            "Train Epoch: 39, Average Loss: 0.0142, Accuracy: 0.65\n",
            "Validation set: Average loss: 0.0146, Accuracy: 0.63\n"
          ]
        },
        {
          "output_type": "stream",
          "name": "stderr",
          "text": [
            "100%|██████████| 352/352 [00:31<00:00, 11.33it/s]\n"
          ]
        },
        {
          "output_type": "stream",
          "name": "stdout",
          "text": [
            "Train Epoch: 40, Average Loss: 0.0142, Accuracy: 0.65\n",
            "Validation set: Average loss: 0.0145, Accuracy: 0.65\n"
          ]
        },
        {
          "output_type": "stream",
          "name": "stderr",
          "text": [
            "100%|██████████| 352/352 [00:30<00:00, 11.48it/s]\n"
          ]
        },
        {
          "output_type": "stream",
          "name": "stdout",
          "text": [
            "Train Epoch: 41, Average Loss: 0.0141, Accuracy: 0.66\n",
            "Validation set: Average loss: 0.0146, Accuracy: 0.63\n"
          ]
        },
        {
          "output_type": "stream",
          "name": "stderr",
          "text": [
            "100%|██████████| 352/352 [00:31<00:00, 11.22it/s]\n"
          ]
        },
        {
          "output_type": "stream",
          "name": "stdout",
          "text": [
            "Train Epoch: 42, Average Loss: 0.0141, Accuracy: 0.65\n",
            "Validation set: Average loss: 0.0144, Accuracy: 0.66\n"
          ]
        },
        {
          "output_type": "stream",
          "name": "stderr",
          "text": [
            "100%|██████████| 352/352 [00:30<00:00, 11.36it/s]\n"
          ]
        },
        {
          "output_type": "stream",
          "name": "stdout",
          "text": [
            "Train Epoch: 43, Average Loss: 0.0141, Accuracy: 0.66\n",
            "Validation set: Average loss: 0.0146, Accuracy: 0.64\n"
          ]
        },
        {
          "output_type": "stream",
          "name": "stderr",
          "text": [
            "100%|██████████| 352/352 [00:31<00:00, 11.16it/s]\n"
          ]
        },
        {
          "output_type": "stream",
          "name": "stdout",
          "text": [
            "Train Epoch: 44, Average Loss: 0.0140, Accuracy: 0.66\n",
            "Validation set: Average loss: 0.0145, Accuracy: 0.64\n"
          ]
        },
        {
          "output_type": "stream",
          "name": "stderr",
          "text": [
            "100%|██████████| 352/352 [00:30<00:00, 11.38it/s]\n"
          ]
        },
        {
          "output_type": "stream",
          "name": "stdout",
          "text": [
            "Train Epoch: 45, Average Loss: 0.0140, Accuracy: 0.67\n",
            "Validation set: Average loss: 0.0143, Accuracy: 0.67\n"
          ]
        },
        {
          "output_type": "stream",
          "name": "stderr",
          "text": [
            "100%|██████████| 352/352 [00:31<00:00, 11.14it/s]\n"
          ]
        },
        {
          "output_type": "stream",
          "name": "stdout",
          "text": [
            "Train Epoch: 46, Average Loss: 0.0140, Accuracy: 0.67\n",
            "Validation set: Average loss: 0.0143, Accuracy: 0.67\n"
          ]
        },
        {
          "output_type": "stream",
          "name": "stderr",
          "text": [
            "100%|██████████| 352/352 [00:30<00:00, 11.36it/s]\n"
          ]
        },
        {
          "output_type": "stream",
          "name": "stdout",
          "text": [
            "Train Epoch: 47, Average Loss: 0.0139, Accuracy: 0.68\n",
            "Validation set: Average loss: 0.0143, Accuracy: 0.67\n"
          ]
        },
        {
          "output_type": "stream",
          "name": "stderr",
          "text": [
            "100%|██████████| 352/352 [00:32<00:00, 10.76it/s]\n"
          ]
        },
        {
          "output_type": "stream",
          "name": "stdout",
          "text": [
            "Train Epoch: 48, Average Loss: 0.0139, Accuracy: 0.68\n",
            "Validation set: Average loss: 0.0142, Accuracy: 0.67\n"
          ]
        },
        {
          "output_type": "stream",
          "name": "stderr",
          "text": [
            "100%|██████████| 352/352 [00:30<00:00, 11.45it/s]\n"
          ]
        },
        {
          "output_type": "stream",
          "name": "stdout",
          "text": [
            "Train Epoch: 49, Average Loss: 0.0139, Accuracy: 0.68\n",
            "Validation set: Average loss: 0.0142, Accuracy: 0.68\n"
          ]
        },
        {
          "output_type": "stream",
          "name": "stderr",
          "text": [
            "100%|██████████| 352/352 [00:31<00:00, 11.14it/s]\n"
          ]
        },
        {
          "output_type": "stream",
          "name": "stdout",
          "text": [
            "Train Epoch: 50, Average Loss: 0.0139, Accuracy: 0.69\n",
            "Validation set: Average loss: 0.0142, Accuracy: 0.68\n"
          ]
        },
        {
          "output_type": "stream",
          "name": "stderr",
          "text": [
            "100%|██████████| 352/352 [00:30<00:00, 11.47it/s]\n"
          ]
        },
        {
          "output_type": "stream",
          "name": "stdout",
          "text": [
            "Train Epoch: 51, Average Loss: 0.0136, Accuracy: 0.72\n",
            "Validation set: Average loss: 0.0141, Accuracy: 0.70\n"
          ]
        },
        {
          "output_type": "stream",
          "name": "stderr",
          "text": [
            "100%|██████████| 352/352 [00:31<00:00, 11.29it/s]\n"
          ]
        },
        {
          "output_type": "stream",
          "name": "stdout",
          "text": [
            "Train Epoch: 52, Average Loss: 0.0136, Accuracy: 0.72\n",
            "Validation set: Average loss: 0.0141, Accuracy: 0.69\n"
          ]
        },
        {
          "output_type": "stream",
          "name": "stderr",
          "text": [
            "100%|██████████| 352/352 [00:30<00:00, 11.46it/s]\n"
          ]
        },
        {
          "output_type": "stream",
          "name": "stdout",
          "text": [
            "Train Epoch: 53, Average Loss: 0.0136, Accuracy: 0.73\n",
            "Validation set: Average loss: 0.0140, Accuracy: 0.70\n"
          ]
        },
        {
          "output_type": "stream",
          "name": "stderr",
          "text": [
            "100%|██████████| 352/352 [00:31<00:00, 11.29it/s]\n"
          ]
        },
        {
          "output_type": "stream",
          "name": "stdout",
          "text": [
            "Train Epoch: 54, Average Loss: 0.0135, Accuracy: 0.73\n",
            "Validation set: Average loss: 0.0140, Accuracy: 0.71\n"
          ]
        },
        {
          "output_type": "stream",
          "name": "stderr",
          "text": [
            "100%|██████████| 352/352 [00:30<00:00, 11.45it/s]\n"
          ]
        },
        {
          "output_type": "stream",
          "name": "stdout",
          "text": [
            "Train Epoch: 55, Average Loss: 0.0135, Accuracy: 0.73\n",
            "Validation set: Average loss: 0.0140, Accuracy: 0.70\n"
          ]
        },
        {
          "output_type": "stream",
          "name": "stderr",
          "text": [
            "100%|██████████| 352/352 [00:30<00:00, 11.42it/s]\n"
          ]
        },
        {
          "output_type": "stream",
          "name": "stdout",
          "text": [
            "Train Epoch: 56, Average Loss: 0.0135, Accuracy: 0.73\n",
            "Validation set: Average loss: 0.0140, Accuracy: 0.70\n"
          ]
        },
        {
          "output_type": "stream",
          "name": "stderr",
          "text": [
            "100%|██████████| 352/352 [00:31<00:00, 11.27it/s]\n"
          ]
        },
        {
          "output_type": "stream",
          "name": "stdout",
          "text": [
            "Train Epoch: 57, Average Loss: 0.0135, Accuracy: 0.73\n",
            "Validation set: Average loss: 0.0139, Accuracy: 0.71\n"
          ]
        },
        {
          "output_type": "stream",
          "name": "stderr",
          "text": [
            "100%|██████████| 352/352 [00:30<00:00, 11.45it/s]\n"
          ]
        },
        {
          "output_type": "stream",
          "name": "stdout",
          "text": [
            "Train Epoch: 58, Average Loss: 0.0135, Accuracy: 0.73\n",
            "Validation set: Average loss: 0.0140, Accuracy: 0.71\n"
          ]
        },
        {
          "output_type": "stream",
          "name": "stderr",
          "text": [
            "100%|██████████| 352/352 [00:32<00:00, 10.92it/s]\n"
          ]
        },
        {
          "output_type": "stream",
          "name": "stdout",
          "text": [
            "Train Epoch: 59, Average Loss: 0.0135, Accuracy: 0.73\n",
            "Validation set: Average loss: 0.0140, Accuracy: 0.70\n"
          ]
        },
        {
          "output_type": "stream",
          "name": "stderr",
          "text": [
            "100%|██████████| 352/352 [00:30<00:00, 11.42it/s]\n"
          ]
        },
        {
          "output_type": "stream",
          "name": "stdout",
          "text": [
            "Train Epoch: 60, Average Loss: 0.0135, Accuracy: 0.74\n",
            "Validation set: Average loss: 0.0139, Accuracy: 0.71\n"
          ]
        },
        {
          "output_type": "stream",
          "name": "stderr",
          "text": [
            "100%|██████████| 352/352 [00:31<00:00, 11.28it/s]\n"
          ]
        },
        {
          "output_type": "stream",
          "name": "stdout",
          "text": [
            "Train Epoch: 61, Average Loss: 0.0135, Accuracy: 0.74\n",
            "Validation set: Average loss: 0.0140, Accuracy: 0.71\n"
          ]
        },
        {
          "output_type": "stream",
          "name": "stderr",
          "text": [
            "100%|██████████| 352/352 [00:30<00:00, 11.54it/s]\n"
          ]
        },
        {
          "output_type": "stream",
          "name": "stdout",
          "text": [
            "Train Epoch: 62, Average Loss: 0.0135, Accuracy: 0.74\n",
            "Validation set: Average loss: 0.0140, Accuracy: 0.71\n"
          ]
        },
        {
          "output_type": "stream",
          "name": "stderr",
          "text": [
            "100%|██████████| 352/352 [00:31<00:00, 11.14it/s]\n"
          ]
        },
        {
          "output_type": "stream",
          "name": "stdout",
          "text": [
            "Train Epoch: 63, Average Loss: 0.0135, Accuracy: 0.74\n",
            "Validation set: Average loss: 0.0140, Accuracy: 0.71\n"
          ]
        },
        {
          "output_type": "stream",
          "name": "stderr",
          "text": [
            "100%|██████████| 352/352 [00:30<00:00, 11.43it/s]\n"
          ]
        },
        {
          "output_type": "stream",
          "name": "stdout",
          "text": [
            "Train Epoch: 64, Average Loss: 0.0135, Accuracy: 0.74\n",
            "Validation set: Average loss: 0.0140, Accuracy: 0.71\n"
          ]
        },
        {
          "output_type": "stream",
          "name": "stderr",
          "text": [
            "100%|██████████| 352/352 [00:31<00:00, 11.06it/s]\n"
          ]
        },
        {
          "output_type": "stream",
          "name": "stdout",
          "text": [
            "Train Epoch: 65, Average Loss: 0.0135, Accuracy: 0.74\n",
            "Validation set: Average loss: 0.0140, Accuracy: 0.71\n"
          ]
        },
        {
          "output_type": "stream",
          "name": "stderr",
          "text": [
            "100%|██████████| 352/352 [00:30<00:00, 11.42it/s]\n"
          ]
        },
        {
          "output_type": "stream",
          "name": "stdout",
          "text": [
            "Train Epoch: 66, Average Loss: 0.0134, Accuracy: 0.74\n",
            "Validation set: Average loss: 0.0139, Accuracy: 0.71\n"
          ]
        },
        {
          "output_type": "stream",
          "name": "stderr",
          "text": [
            "100%|██████████| 352/352 [00:31<00:00, 11.01it/s]\n"
          ]
        },
        {
          "output_type": "stream",
          "name": "stdout",
          "text": [
            "Train Epoch: 67, Average Loss: 0.0135, Accuracy: 0.74\n",
            "Validation set: Average loss: 0.0140, Accuracy: 0.71\n"
          ]
        },
        {
          "output_type": "stream",
          "name": "stderr",
          "text": [
            "100%|██████████| 352/352 [00:30<00:00, 11.37it/s]\n"
          ]
        },
        {
          "output_type": "stream",
          "name": "stdout",
          "text": [
            "Train Epoch: 68, Average Loss: 0.0134, Accuracy: 0.74\n",
            "Validation set: Average loss: 0.0139, Accuracy: 0.71\n"
          ]
        },
        {
          "output_type": "stream",
          "name": "stderr",
          "text": [
            "100%|██████████| 352/352 [00:32<00:00, 10.96it/s]\n"
          ]
        },
        {
          "output_type": "stream",
          "name": "stdout",
          "text": [
            "Train Epoch: 69, Average Loss: 0.0134, Accuracy: 0.74\n",
            "Validation set: Average loss: 0.0139, Accuracy: 0.72\n"
          ]
        },
        {
          "output_type": "stream",
          "name": "stderr",
          "text": [
            "100%|██████████| 352/352 [00:31<00:00, 11.34it/s]\n"
          ]
        },
        {
          "output_type": "stream",
          "name": "stdout",
          "text": [
            "Train Epoch: 70, Average Loss: 0.0134, Accuracy: 0.74\n",
            "Validation set: Average loss: 0.0139, Accuracy: 0.71\n"
          ]
        },
        {
          "output_type": "stream",
          "name": "stderr",
          "text": [
            "100%|██████████| 352/352 [00:30<00:00, 11.42it/s]\n"
          ]
        },
        {
          "output_type": "stream",
          "name": "stdout",
          "text": [
            "Train Epoch: 71, Average Loss: 0.0134, Accuracy: 0.74\n",
            "Validation set: Average loss: 0.0140, Accuracy: 0.71\n"
          ]
        },
        {
          "output_type": "stream",
          "name": "stderr",
          "text": [
            "100%|██████████| 352/352 [00:30<00:00, 11.42it/s]\n"
          ]
        },
        {
          "output_type": "stream",
          "name": "stdout",
          "text": [
            "Train Epoch: 72, Average Loss: 0.0134, Accuracy: 0.74\n",
            "Validation set: Average loss: 0.0139, Accuracy: 0.72\n"
          ]
        },
        {
          "output_type": "stream",
          "name": "stderr",
          "text": [
            "100%|██████████| 352/352 [00:30<00:00, 11.44it/s]\n"
          ]
        },
        {
          "output_type": "stream",
          "name": "stdout",
          "text": [
            "Train Epoch: 73, Average Loss: 0.0134, Accuracy: 0.74\n",
            "Validation set: Average loss: 0.0139, Accuracy: 0.71\n"
          ]
        },
        {
          "output_type": "stream",
          "name": "stderr",
          "text": [
            "100%|██████████| 352/352 [00:31<00:00, 11.28it/s]\n"
          ]
        },
        {
          "output_type": "stream",
          "name": "stdout",
          "text": [
            "Train Epoch: 74, Average Loss: 0.0134, Accuracy: 0.75\n",
            "Validation set: Average loss: 0.0139, Accuracy: 0.72\n"
          ]
        },
        {
          "output_type": "stream",
          "name": "stderr",
          "text": [
            "100%|██████████| 352/352 [00:30<00:00, 11.39it/s]\n"
          ]
        },
        {
          "output_type": "stream",
          "name": "stdout",
          "text": [
            "Train Epoch: 75, Average Loss: 0.0134, Accuracy: 0.75\n",
            "Validation set: Average loss: 0.0139, Accuracy: 0.72\n"
          ]
        },
        {
          "output_type": "stream",
          "name": "stderr",
          "text": [
            "100%|██████████| 352/352 [00:31<00:00, 11.19it/s]\n"
          ]
        },
        {
          "output_type": "stream",
          "name": "stdout",
          "text": [
            "Train Epoch: 76, Average Loss: 0.0134, Accuracy: 0.75\n",
            "Validation set: Average loss: 0.0139, Accuracy: 0.72\n"
          ]
        },
        {
          "output_type": "stream",
          "name": "stderr",
          "text": [
            "100%|██████████| 352/352 [00:31<00:00, 11.24it/s]\n"
          ]
        },
        {
          "output_type": "stream",
          "name": "stdout",
          "text": [
            "Train Epoch: 77, Average Loss: 0.0134, Accuracy: 0.75\n",
            "Validation set: Average loss: 0.0139, Accuracy: 0.72\n"
          ]
        },
        {
          "output_type": "stream",
          "name": "stderr",
          "text": [
            "100%|██████████| 352/352 [00:31<00:00, 11.17it/s]\n"
          ]
        },
        {
          "output_type": "stream",
          "name": "stdout",
          "text": [
            "Train Epoch: 78, Average Loss: 0.0134, Accuracy: 0.75\n",
            "Validation set: Average loss: 0.0140, Accuracy: 0.71\n"
          ]
        },
        {
          "output_type": "stream",
          "name": "stderr",
          "text": [
            "100%|██████████| 352/352 [00:30<00:00, 11.47it/s]\n"
          ]
        },
        {
          "output_type": "stream",
          "name": "stdout",
          "text": [
            "Train Epoch: 79, Average Loss: 0.0134, Accuracy: 0.75\n",
            "Validation set: Average loss: 0.0140, Accuracy: 0.71\n"
          ]
        },
        {
          "output_type": "stream",
          "name": "stderr",
          "text": [
            "100%|██████████| 352/352 [00:32<00:00, 10.79it/s]\n"
          ]
        },
        {
          "output_type": "stream",
          "name": "stdout",
          "text": [
            "Train Epoch: 80, Average Loss: 0.0134, Accuracy: 0.75\n",
            "Validation set: Average loss: 0.0140, Accuracy: 0.71\n"
          ]
        },
        {
          "output_type": "stream",
          "name": "stderr",
          "text": [
            "100%|██████████| 352/352 [00:30<00:00, 11.40it/s]\n"
          ]
        },
        {
          "output_type": "stream",
          "name": "stdout",
          "text": [
            "Train Epoch: 81, Average Loss: 0.0134, Accuracy: 0.75\n",
            "Validation set: Average loss: 0.0139, Accuracy: 0.72\n"
          ]
        },
        {
          "output_type": "stream",
          "name": "stderr",
          "text": [
            "100%|██████████| 352/352 [00:30<00:00, 11.48it/s]\n"
          ]
        },
        {
          "output_type": "stream",
          "name": "stdout",
          "text": [
            "Train Epoch: 82, Average Loss: 0.0134, Accuracy: 0.75\n",
            "Validation set: Average loss: 0.0139, Accuracy: 0.72\n"
          ]
        },
        {
          "output_type": "stream",
          "name": "stderr",
          "text": [
            "100%|██████████| 352/352 [00:30<00:00, 11.40it/s]\n"
          ]
        },
        {
          "output_type": "stream",
          "name": "stdout",
          "text": [
            "Train Epoch: 83, Average Loss: 0.0134, Accuracy: 0.75\n",
            "Validation set: Average loss: 0.0140, Accuracy: 0.71\n"
          ]
        },
        {
          "output_type": "stream",
          "name": "stderr",
          "text": [
            "100%|██████████| 352/352 [00:30<00:00, 11.40it/s]\n"
          ]
        },
        {
          "output_type": "stream",
          "name": "stdout",
          "text": [
            "Train Epoch: 84, Average Loss: 0.0134, Accuracy: 0.75\n",
            "Validation set: Average loss: 0.0139, Accuracy: 0.73\n"
          ]
        },
        {
          "output_type": "stream",
          "name": "stderr",
          "text": [
            "100%|██████████| 352/352 [00:31<00:00, 11.33it/s]\n"
          ]
        },
        {
          "output_type": "stream",
          "name": "stdout",
          "text": [
            "Train Epoch: 85, Average Loss: 0.0134, Accuracy: 0.75\n",
            "Validation set: Average loss: 0.0139, Accuracy: 0.72\n"
          ]
        },
        {
          "output_type": "stream",
          "name": "stderr",
          "text": [
            "100%|██████████| 352/352 [00:30<00:00, 11.49it/s]\n"
          ]
        },
        {
          "output_type": "stream",
          "name": "stdout",
          "text": [
            "Train Epoch: 86, Average Loss: 0.0134, Accuracy: 0.75\n",
            "Validation set: Average loss: 0.0139, Accuracy: 0.72\n"
          ]
        },
        {
          "output_type": "stream",
          "name": "stderr",
          "text": [
            "100%|██████████| 352/352 [00:31<00:00, 11.29it/s]\n"
          ]
        },
        {
          "output_type": "stream",
          "name": "stdout",
          "text": [
            "Train Epoch: 87, Average Loss: 0.0134, Accuracy: 0.76\n",
            "Validation set: Average loss: 0.0139, Accuracy: 0.72\n"
          ]
        },
        {
          "output_type": "stream",
          "name": "stderr",
          "text": [
            "100%|██████████| 352/352 [00:31<00:00, 11.34it/s]\n"
          ]
        },
        {
          "output_type": "stream",
          "name": "stdout",
          "text": [
            "Train Epoch: 88, Average Loss: 0.0134, Accuracy: 0.75\n",
            "Validation set: Average loss: 0.0139, Accuracy: 0.72\n"
          ]
        },
        {
          "output_type": "stream",
          "name": "stderr",
          "text": [
            "100%|██████████| 352/352 [00:31<00:00, 11.20it/s]\n"
          ]
        },
        {
          "output_type": "stream",
          "name": "stdout",
          "text": [
            "Train Epoch: 89, Average Loss: 0.0133, Accuracy: 0.76\n",
            "Validation set: Average loss: 0.0139, Accuracy: 0.72\n"
          ]
        },
        {
          "output_type": "stream",
          "name": "stderr",
          "text": [
            "100%|██████████| 352/352 [00:30<00:00, 11.48it/s]\n"
          ]
        },
        {
          "output_type": "stream",
          "name": "stdout",
          "text": [
            "Train Epoch: 90, Average Loss: 0.0133, Accuracy: 0.76\n",
            "Validation set: Average loss: 0.0139, Accuracy: 0.72\n"
          ]
        },
        {
          "output_type": "stream",
          "name": "stderr",
          "text": [
            "100%|██████████| 352/352 [00:32<00:00, 10.79it/s]\n"
          ]
        },
        {
          "output_type": "stream",
          "name": "stdout",
          "text": [
            "Train Epoch: 91, Average Loss: 0.0133, Accuracy: 0.76\n",
            "Validation set: Average loss: 0.0139, Accuracy: 0.72\n"
          ]
        },
        {
          "output_type": "stream",
          "name": "stderr",
          "text": [
            "100%|██████████| 352/352 [00:31<00:00, 11.33it/s]\n"
          ]
        },
        {
          "output_type": "stream",
          "name": "stdout",
          "text": [
            "Train Epoch: 92, Average Loss: 0.0133, Accuracy: 0.76\n",
            "Validation set: Average loss: 0.0139, Accuracy: 0.72\n"
          ]
        },
        {
          "output_type": "stream",
          "name": "stderr",
          "text": [
            "100%|██████████| 352/352 [00:31<00:00, 11.30it/s]\n"
          ]
        },
        {
          "output_type": "stream",
          "name": "stdout",
          "text": [
            "Train Epoch: 93, Average Loss: 0.0133, Accuracy: 0.76\n",
            "Validation set: Average loss: 0.0139, Accuracy: 0.72\n"
          ]
        },
        {
          "output_type": "stream",
          "name": "stderr",
          "text": [
            "100%|██████████| 352/352 [00:31<00:00, 11.34it/s]\n"
          ]
        },
        {
          "output_type": "stream",
          "name": "stdout",
          "text": [
            "Train Epoch: 94, Average Loss: 0.0133, Accuracy: 0.76\n",
            "Validation set: Average loss: 0.0139, Accuracy: 0.73\n"
          ]
        },
        {
          "output_type": "stream",
          "name": "stderr",
          "text": [
            "100%|██████████| 352/352 [00:31<00:00, 11.32it/s]\n"
          ]
        },
        {
          "output_type": "stream",
          "name": "stdout",
          "text": [
            "Train Epoch: 95, Average Loss: 0.0133, Accuracy: 0.76\n",
            "Validation set: Average loss: 0.0139, Accuracy: 0.72\n"
          ]
        },
        {
          "output_type": "stream",
          "name": "stderr",
          "text": [
            "100%|██████████| 352/352 [00:30<00:00, 11.42it/s]\n"
          ]
        },
        {
          "output_type": "stream",
          "name": "stdout",
          "text": [
            "Train Epoch: 96, Average Loss: 0.0133, Accuracy: 0.76\n",
            "Validation set: Average loss: 0.0138, Accuracy: 0.72\n"
          ]
        },
        {
          "output_type": "stream",
          "name": "stderr",
          "text": [
            "100%|██████████| 352/352 [00:30<00:00, 11.50it/s]\n"
          ]
        },
        {
          "output_type": "stream",
          "name": "stdout",
          "text": [
            "Train Epoch: 97, Average Loss: 0.0133, Accuracy: 0.76\n",
            "Validation set: Average loss: 0.0139, Accuracy: 0.72\n"
          ]
        },
        {
          "output_type": "stream",
          "name": "stderr",
          "text": [
            "100%|██████████| 352/352 [00:31<00:00, 11.33it/s]\n"
          ]
        },
        {
          "output_type": "stream",
          "name": "stdout",
          "text": [
            "Train Epoch: 98, Average Loss: 0.0133, Accuracy: 0.76\n",
            "Validation set: Average loss: 0.0139, Accuracy: 0.72\n"
          ]
        },
        {
          "output_type": "stream",
          "name": "stderr",
          "text": [
            "100%|██████████| 352/352 [00:30<00:00, 11.52it/s]\n"
          ]
        },
        {
          "output_type": "stream",
          "name": "stdout",
          "text": [
            "Train Epoch: 99, Average Loss: 0.0133, Accuracy: 0.76\n",
            "Validation set: Average loss: 0.0139, Accuracy: 0.73\n"
          ]
        },
        {
          "output_type": "stream",
          "name": "stderr",
          "text": [
            "100%|██████████| 352/352 [00:31<00:00, 11.23it/s]\n"
          ]
        },
        {
          "output_type": "stream",
          "name": "stdout",
          "text": [
            "Train Epoch: 100, Average Loss: 0.0133, Accuracy: 0.76\n",
            "Validation set: Average loss: 0.0139, Accuracy: 0.73\n"
          ]
        }
      ]
    },
    {
      "cell_type": "code",
      "source": [
        "# Test the model\n",
        "model.eval()\n",
        "test_loss = 0\n",
        "correct = 0\n",
        "with torch.no_grad():\n",
        "    for data, target in test_loader:\n",
        "        data, target = data.to(device), target.to(device)\n",
        "        output = model(data)\n",
        "        test_loss += criterion(output, target).item()\n",
        "        pred = output.argmax(dim=1, keepdim=True)\n",
        "        correct += pred.eq(target.view_as(pred)).sum().item()\n",
        "\n",
        "test_loss /= len(test_loader.dataset)\n",
        "accuracy = correct / len(test_loader.dataset)\n",
        "print(f'Test set: Average loss: {test_loss:.4f}, Accuracy: {accuracy:.2f}')"
      ],
      "metadata": {
        "colab": {
          "base_uri": "https://localhost:8080/"
        },
        "id": "f5XY__8iD_-N",
        "outputId": "88885dd3-252f-430f-f80f-56bf7453d406"
      },
      "execution_count": 13,
      "outputs": [
        {
          "output_type": "stream",
          "name": "stdout",
          "text": [
            "Test set: Average loss: 0.0136, Accuracy: 0.73\n"
          ]
        }
      ]
    },
    {
      "cell_type": "code",
      "source": [
        "# Plotting\n",
        "epochs_range = range(1, epochs + 1)\n",
        "\n",
        "# Plotting Loss\n",
        "plt.figure(figsize=(12, 5))\n",
        "plt.subplot(1, 2, 1)\n",
        "plt.plot(epochs_range, train_losses, label='Training Loss')\n",
        "plt.plot(epochs_range, val_losses, label='Validation Loss')\n",
        "plt.xlabel('Epochs')\n",
        "plt.ylabel('Loss')\n",
        "plt.title('Training and Validation Loss')\n",
        "plt.legend()\n",
        "\n",
        "# Plotting Accuracy\n",
        "plt.subplot(1, 2, 2)\n",
        "plt.plot(epochs_range, train_accuracies, label='Training Accuracy')\n",
        "plt.plot(epochs_range, val_accuracies, label='Validation Accuracy')\n",
        "plt.xlabel('Epochs')\n",
        "plt.ylabel('Accuracy')\n",
        "plt.title('Training and Validation Accuracy')\n",
        "plt.legend()\n",
        "\n",
        "plt.show()"
      ],
      "metadata": {
        "colab": {
          "base_uri": "https://localhost:8080/",
          "height": 487
        },
        "id": "35H94Hp-EA5M",
        "outputId": "5b97194e-072d-4856-9f9c-8c9691601e38"
      },
      "execution_count": 14,
      "outputs": [
        {
          "output_type": "display_data",
          "data": {
            "text/plain": [
              "<Figure size 1200x500 with 2 Axes>"
            ],
            "image/png": "[encoded data removed]"
          },
          "metadata": {}
        }
      ]
    },
    {
      "cell_type": "code",
      "source": [
        "torch.save(model.state_dict(), 'trained_MyResNet_Conv1_1.pth')"
      ],
      "metadata": {
        "id": "j-nNjJdYEByG"
      },
      "execution_count": 15,
      "outputs": []
    },
    {
      "cell_type": "markdown",
      "source": [
        "# Metrics"
      ],
      "metadata": {
        "id": "yfbWkZTK4Sgj"
      }
    },
    {
      "cell_type": "code",
      "source": [
        "!git clone https://github.com/K-Hooshanfar/data_complexity_measures"
      ],
      "metadata": {
        "colab": {
          "base_uri": "https://localhost:8080/"
        },
        "id": "9qorPAv7EGP8",
        "outputId": "8f1898d9-a15a-4ba2-9491-6245e8a323d9"
      },
      "execution_count": 4,
      "outputs": [
        {
          "output_type": "stream",
          "name": "stdout",
          "text": [
            "Cloning into 'data_complexity_measures'...\n",
            "remote: Enumerating objects: 143, done.\u001b[K\n",
            "remote: Counting objects: 100% (143/143), done.\u001b[K\n",
            "remote: Compressing objects: 100% (130/130), done.\u001b[K\n",
            "remote: Total 143 (delta 82), reused 33 (delta 9), pack-reused 0\u001b[K\n",
            "Receiving objects: 100% (143/143), 144.63 KiB | 20.66 MiB/s, done.\n",
            "Resolving deltas: 100% (82/82), done.\n"
          ]
        }
      ]
    },
    {
      "cell_type": "code",
      "source": [
        "from data_complexity_measures.models.ARH_SeparationIndex import ARH_SeparationIndex\n",
        "import torch\n",
        "from tqdm import tqdm"
      ],
      "metadata": {
        "id": "Q64nPREm4UD-"
      },
      "execution_count": 4,
      "outputs": []
    },
    {
      "cell_type": "code",
      "source": [
        "# Load the pre-trained model\n",
        "state_dict = torch.load('/content/trained_MyResNet_Conv1_1.pth')\n",
        "\n",
        "model = MyResNet()\n",
        "model.load_state_dict(state_dict)"
      ],
      "metadata": {
        "colab": {
          "base_uri": "https://localhost:8080/"
        },
        "id": "FZo6Fz-M4U6h",
        "outputId": "2319d2ea-c536-495f-b60d-9385f0bdc8e1"
      },
      "execution_count": 5,
      "outputs": [
        {
          "output_type": "execute_result",
          "data": {
            "text/plain": [
              "<All keys matched successfully>"
            ]
          },
          "metadata": {},
          "execution_count": 5
        }
      ]
    },
    {
      "cell_type": "code",
      "source": [
        "transform_train = transforms.Compose([\n",
        "    transforms.ToTensor(),\n",
        "    transforms.Normalize((0.5, 0.5, 0.5), (0.5, 0.5, 0.5))\n",
        "])\n",
        "\n",
        "\n",
        "transform_test = transforms.Compose([\n",
        "    transforms.ToTensor(),\n",
        "    transforms.Normalize((0.5, 0.5, 0.5), (0.5, 0.5, 0.5))\n",
        "])"
      ],
      "metadata": {
        "id": "q_Zk76jZ4W1R"
      },
      "execution_count": 6,
      "outputs": []
    },
    {
      "cell_type": "code",
      "source": [
        "from sklearn.model_selection import train_test_split\n",
        "\n",
        "# Load CIFAR-10 dataset\n",
        "train_dataset = datasets.CIFAR10(root='./data', train=True, download=True, transform=transform_train)\n",
        "test_dataset = datasets.CIFAR10(root='./data', train=False, download=True, transform=transform_test)\n",
        "\n",
        "# Splitting train dataset into train and validation sets\n",
        "train_size = int(0.9 * len(train_dataset))\n",
        "val_size = len(train_dataset) - train_size\n",
        "train_dataset, val_dataset = random_split(train_dataset, [train_size, val_size])\n",
        "\n",
        "# Convert test_dataset to a list or NumPy array\n",
        "test_data_list = [(img, label) for img, label in test_dataset]\n",
        "\n",
        "# Further split train_dataset into train_loader_dataset and 10% balanced subset\n",
        "train_loader_dataset, _ = train_test_split(train_dataset.dataset, train_size=int(0.1 * len(train_dataset)),\n",
        "                                           test_size=None, shuffle=True, stratify=train_dataset.dataset.targets)\n",
        "\n",
        "# Similarly, for the test_loader\n",
        "test_loader_dataset, _ = train_test_split(test_data_list, train_size=int(0.1 * len(test_dataset)),\n",
        "                                          test_size=None, shuffle=True, stratify=test_dataset.targets)\n",
        "\n",
        "# Data loaders\n",
        "train_loader = DataLoader(train_loader_dataset, batch_size=128, shuffle=True)\n",
        "val_loader = DataLoader(val_dataset, batch_size=128, shuffle=False)\n",
        "test_loader = DataLoader(test_loader_dataset, batch_size=128, shuffle=False)\n"
      ],
      "metadata": {
        "colab": {
          "base_uri": "https://localhost:8080/"
        },
        "id": "zF5ZZ3wN4XlQ",
        "outputId": "1cfa2d11-5c8d-432a-efde-eb3c6c4f84a9"
      },
      "execution_count": 7,
      "outputs": [
        {
          "output_type": "stream",
          "name": "stdout",
          "text": [
            "Files already downloaded and verified\n",
            "Files already downloaded and verified\n"
          ]
        }
      ]
    },
    {
      "cell_type": "code",
      "source": [
        "features_per_layer = {}\n",
        "labels = []\n",
        "\n",
        "# Get the total number of layers in the model\n",
        "total_layers = len(list(model.children()))\n",
        "\n",
        "# Exclude the last four layers\n",
        "layers_to_be_deleted = set(list(model.children())[-4:])\n",
        "\n",
        "# Attach hooks to each layer except the excluded ones\n",
        "features_per_layer = {}\n",
        "for name, layer in model.named_children():\n",
        "    if layer not in layers_to_be_deleted:\n",
        "        features_per_layer[name] = []\n",
        "        def hook(module, input, output, name=name):\n",
        "            features_per_layer[name].append(output.detach())\n",
        "        layer.register_forward_hook(hook)"
      ],
      "metadata": {
        "id": "4X6um4jl4YlF"
      },
      "execution_count": 8,
      "outputs": []
    },
    {
      "cell_type": "code",
      "source": [
        "model.to('cuda:0' if torch.cuda.is_available() else 'cpu')\n",
        "model.eval()\n",
        "device = torch.device(\"cuda\" if torch.cuda.is_available() else \"cpu\")\n",
        "\n",
        "with torch.no_grad():\n",
        "    for inputs, targets in tqdm(train_loader):\n",
        "        inputs = inputs.to(device)\n",
        "        model(inputs)\n",
        "        labels.append(targets.cpu())\n",
        "\n",
        "# Flatten and concatenate\n",
        "for layer_name, layer_features in features_per_layer.items():\n",
        "    if layer_features:\n",
        "        features_per_layer[layer_name] = torch.cat([f.view(f.size(0), -1) for f in layer_features])\n",
        "\n",
        "labels = torch.cat(labels)"
      ],
      "metadata": {
        "colab": {
          "base_uri": "https://localhost:8080/"
        },
        "id": "xTb_XTE34ZYd",
        "outputId": "4b3605eb-ba44-4675-b3ab-8c991c05e11d"
      },
      "execution_count": 10,
      "outputs": [
        {
          "output_type": "stream",
          "name": "stderr",
          "text": [
            "100%|██████████| 36/36 [00:06<00:00,  5.17it/s]\n"
          ]
        }
      ]
    },
    {
      "cell_type": "markdown",
      "source": [
        "# SI"
      ],
      "metadata": {
        "id": "qg33p65s4bfp"
      }
    },
    {
      "cell_type": "code",
      "source": [
        "si_train = []\n",
        "\n",
        "for layer_name, features in features_per_layer.items():\n",
        "    instance_disturbance = ARH_SeparationIndex(features, labels, normalize=True)\n",
        "    si = instance_disturbance.si_batch(batch_size=1000)\n",
        "    si_train.append((layer_name, si))"
      ],
      "metadata": {
        "colab": {
          "base_uri": "https://localhost:8080/"
        },
        "id": "Ku2lR6PI4aTC",
        "outputId": "95ce0c89-c48f-4617-b40d-4531ad8e8929"
      },
      "execution_count": 11,
      "outputs": [
        {
          "output_type": "stream",
          "name": "stdout",
          "text": [
            "Data has been normalized\n"
          ]
        },
        {
          "output_type": "stream",
          "name": "stderr",
          "text": [
            "Calculating SI: 100%|██████████| 5/5 [00:00<00:00, 461.48it/s]\n"
          ]
        },
        {
          "output_type": "stream",
          "name": "stdout",
          "text": [
            "Data has been normalized\n"
          ]
        },
        {
          "output_type": "stream",
          "name": "stderr",
          "text": [
            "Calculating SI: 100%|██████████| 5/5 [00:00<00:00, 2896.22it/s]\n"
          ]
        },
        {
          "output_type": "stream",
          "name": "stdout",
          "text": [
            "Data has been normalized\n"
          ]
        },
        {
          "output_type": "stream",
          "name": "stderr",
          "text": [
            "Calculating SI: 100%|██████████| 5/5 [00:00<00:00, 2390.73it/s]\n"
          ]
        },
        {
          "output_type": "stream",
          "name": "stdout",
          "text": [
            "Data has been normalized\n"
          ]
        },
        {
          "output_type": "stream",
          "name": "stderr",
          "text": [
            "Calculating SI: 100%|██████████| 5/5 [00:00<00:00, 1801.21it/s]\n"
          ]
        },
        {
          "output_type": "stream",
          "name": "stdout",
          "text": [
            "Data has been normalized\n"
          ]
        },
        {
          "output_type": "stream",
          "name": "stderr",
          "text": [
            "Calculating SI: 100%|██████████| 5/5 [00:00<00:00, 3835.32it/s]\n"
          ]
        },
        {
          "output_type": "stream",
          "name": "stdout",
          "text": [
            "Data has been normalized\n"
          ]
        },
        {
          "output_type": "stream",
          "name": "stderr",
          "text": [
            "Calculating SI: 100%|██████████| 5/5 [00:00<00:00, 2491.57it/s]\n"
          ]
        },
        {
          "output_type": "stream",
          "name": "stdout",
          "text": [
            "Data has been normalized\n"
          ]
        },
        {
          "output_type": "stream",
          "name": "stderr",
          "text": [
            "Calculating SI: 100%|██████████| 5/5 [00:00<00:00, 3812.31it/s]\n"
          ]
        },
        {
          "output_type": "stream",
          "name": "stdout",
          "text": [
            "Data has been normalized\n"
          ]
        },
        {
          "output_type": "stream",
          "name": "stderr",
          "text": [
            "Calculating SI: 100%|██████████| 5/5 [00:00<00:00, 2038.05it/s]\n"
          ]
        },
        {
          "output_type": "stream",
          "name": "stdout",
          "text": [
            "Data has been normalized\n"
          ]
        },
        {
          "output_type": "stream",
          "name": "stderr",
          "text": [
            "Calculating SI: 100%|██████████| 5/5 [00:00<00:00, 4173.44it/s]\n"
          ]
        },
        {
          "output_type": "stream",
          "name": "stdout",
          "text": [
            "Data has been normalized\n"
          ]
        },
        {
          "output_type": "stream",
          "name": "stderr",
          "text": [
            "Calculating SI: 100%|██████████| 5/5 [00:00<00:00, 2702.52it/s]\n"
          ]
        },
        {
          "output_type": "stream",
          "name": "stdout",
          "text": [
            "Data has been normalized\n"
          ]
        },
        {
          "output_type": "stream",
          "name": "stderr",
          "text": [
            "Calculating SI: 100%|██████████| 5/5 [00:00<00:00, 1607.14it/s]\n"
          ]
        },
        {
          "output_type": "stream",
          "name": "stdout",
          "text": [
            "Data has been normalized\n"
          ]
        },
        {
          "output_type": "stream",
          "name": "stderr",
          "text": [
            "Calculating SI: 100%|██████████| 5/5 [00:00<00:00, 4266.84it/s]\n"
          ]
        },
        {
          "output_type": "stream",
          "name": "stdout",
          "text": [
            "Data has been normalized\n"
          ]
        },
        {
          "output_type": "stream",
          "name": "stderr",
          "text": [
            "Calculating SI: 100%|██████████| 5/5 [00:00<00:00, 4251.27it/s]\n"
          ]
        },
        {
          "output_type": "stream",
          "name": "stdout",
          "text": [
            "Data has been normalized\n"
          ]
        },
        {
          "output_type": "stream",
          "name": "stderr",
          "text": [
            "Calculating SI: 100%|██████████| 5/5 [00:00<00:00, 5098.84it/s]\n"
          ]
        }
      ]
    },
    {
      "cell_type": "code",
      "source": [
        "si_train"
      ],
      "metadata": {
        "colab": {
          "base_uri": "https://localhost:8080/"
        },
        "id": "Fz7wYv214chg",
        "outputId": "a82c1c02-8aed-428d-d4ee-0aba35bb6fea"
      },
      "execution_count": 12,
      "outputs": [
        {
          "output_type": "execute_result",
          "data": {
            "text/plain": [
              "[('conv1', 0.2155555635690689),\n",
              " ('activation1', 0.21511110663414001),\n",
              " ('conv2', 0.21444444358348846),\n",
              " ('activation2', 0.2173333317041397),\n",
              " ('maxpool1', 0.28155556321144104),\n",
              " ('resblock1', 0.36666667461395264),\n",
              " ('maxpool2', 0.44644445180892944),\n",
              " ('conv3', 0.40933334827423096),\n",
              " ('activation3', 0.39266666769981384),\n",
              " ('maxpool3', 0.46488890051841736),\n",
              " ('conv1x1', 0.09977778047323227),\n",
              " ('activation4', 0.14355555176734924),\n",
              " ('resblock2', 0.5524444580078125),\n",
              " ('avgpool', 0.6193333268165588)]"
            ]
          },
          "metadata": {},
          "execution_count": 12
        }
      ]
    },
    {
      "cell_type": "code",
      "source": [
        "plt.plot([layer for layer, _ in si_train], [si for _, si in si_train])\n",
        "plt.xlabel('Layer')\n",
        "plt.ylabel('SI')\n",
        "plt.title('SI vs Layer number with conv1x1')\n",
        "plt.xticks(rotation=90)\n",
        "plt.show()"
      ],
      "metadata": {
        "colab": {
          "base_uri": "https://localhost:8080/",
          "height": 536
        },
        "id": "WjclxeYV4dkC",
        "outputId": "bab48f87-b06d-4af3-e4ab-b2efd09d125a"
      },
      "execution_count": 17,
      "outputs": [
        {
          "output_type": "display_data",
          "data": {
            "text/plain": [
              "<Figure size 640x480 with 1 Axes>"
            ],
            "image/png": "[encoded data removed]"
          },
          "metadata": {}
        }
      ]
    },
    {
      "cell_type": "markdown",
      "source": [
        "# Center Si"
      ],
      "metadata": {
        "id": "H8Bi3xMn4fO4"
      }
    },
    {
      "cell_type": "code",
      "source": [
        "csi_train = []\n",
        "\n",
        "for layer_name, features in features_per_layer.items():\n",
        "    instance_disturbance = ARH_SeparationIndex(features, labels, normalize=True)\n",
        "    csi = instance_disturbance.center_si_batch(batch_size=1000)\n",
        "    csi_train.append((layer_name, csi))"
      ],
      "metadata": {
        "colab": {
          "base_uri": "https://localhost:8080/"
        },
        "id": "fq3D5-om4eRJ",
        "outputId": "7da4f2da-9bd2-4d8f-f3d5-59350fcf0877"
      },
      "execution_count": 14,
      "outputs": [
        {
          "output_type": "stream",
          "name": "stdout",
          "text": [
            "Data has been normalized\n"
          ]
        },
        {
          "output_type": "stream",
          "name": "stderr",
          "text": [
            "Calculating CSI: 100%|██████████| 5/5 [00:00<00:00, 1939.65it/s]\n"
          ]
        },
        {
          "output_type": "stream",
          "name": "stdout",
          "text": [
            "Data has been normalized\n"
          ]
        },
        {
          "output_type": "stream",
          "name": "stderr",
          "text": [
            "Calculating CSI: 100%|██████████| 5/5 [00:00<00:00, 1227.12it/s]\n"
          ]
        },
        {
          "output_type": "stream",
          "name": "stdout",
          "text": [
            "Data has been normalized\n"
          ]
        },
        {
          "output_type": "stream",
          "name": "stderr",
          "text": [
            "Calculating CSI: 100%|██████████| 5/5 [00:00<00:00, 1035.89it/s]\n"
          ]
        },
        {
          "output_type": "stream",
          "name": "stdout",
          "text": [
            "Data has been normalized\n"
          ]
        },
        {
          "output_type": "stream",
          "name": "stderr",
          "text": [
            "Calculating CSI: 100%|██████████| 5/5 [00:00<00:00, 1794.43it/s]\n"
          ]
        },
        {
          "output_type": "stream",
          "name": "stdout",
          "text": [
            "Data has been normalized\n"
          ]
        },
        {
          "output_type": "stream",
          "name": "stderr",
          "text": [
            "Calculating CSI: 100%|██████████| 5/5 [00:00<00:00, 1597.34it/s]\n"
          ]
        },
        {
          "output_type": "stream",
          "name": "stdout",
          "text": [
            "Data has been normalized\n"
          ]
        },
        {
          "output_type": "stream",
          "name": "stderr",
          "text": [
            "Calculating CSI: 100%|██████████| 5/5 [00:00<00:00, 1934.46it/s]\n"
          ]
        },
        {
          "output_type": "stream",
          "name": "stdout",
          "text": [
            "Data has been normalized\n"
          ]
        },
        {
          "output_type": "stream",
          "name": "stderr",
          "text": [
            "Calculating CSI: 100%|██████████| 5/5 [00:00<00:00, 1606.40it/s]\n"
          ]
        },
        {
          "output_type": "stream",
          "name": "stdout",
          "text": [
            "Data has been normalized\n"
          ]
        },
        {
          "output_type": "stream",
          "name": "stderr",
          "text": [
            "Calculating CSI: 100%|██████████| 5/5 [00:00<00:00, 1132.37it/s]\n"
          ]
        },
        {
          "output_type": "stream",
          "name": "stdout",
          "text": [
            "Data has been normalized\n"
          ]
        },
        {
          "output_type": "stream",
          "name": "stderr",
          "text": [
            "Calculating CSI: 100%|██████████| 5/5 [00:00<00:00, 1028.27it/s]\n"
          ]
        },
        {
          "output_type": "stream",
          "name": "stdout",
          "text": [
            "Data has been normalized\n"
          ]
        },
        {
          "output_type": "stream",
          "name": "stderr",
          "text": [
            "Calculating CSI: 100%|██████████| 5/5 [00:00<00:00, 814.68it/s]\n"
          ]
        },
        {
          "output_type": "stream",
          "name": "stdout",
          "text": [
            "Data has been normalized\n"
          ]
        },
        {
          "output_type": "stream",
          "name": "stderr",
          "text": [
            "Calculating CSI: 100%|██████████| 5/5 [00:00<00:00, 1858.85it/s]\n"
          ]
        },
        {
          "output_type": "stream",
          "name": "stdout",
          "text": [
            "Data has been normalized\n"
          ]
        },
        {
          "output_type": "stream",
          "name": "stderr",
          "text": [
            "Calculating CSI: 100%|██████████| 5/5 [00:00<00:00, 1528.31it/s]\n"
          ]
        },
        {
          "output_type": "stream",
          "name": "stdout",
          "text": [
            "Data has been normalized\n"
          ]
        },
        {
          "output_type": "stream",
          "name": "stderr",
          "text": [
            "Calculating CSI: 100%|██████████| 5/5 [00:00<00:00, 2006.65it/s]\n"
          ]
        },
        {
          "output_type": "stream",
          "name": "stdout",
          "text": [
            "Data has been normalized\n"
          ]
        },
        {
          "output_type": "stream",
          "name": "stderr",
          "text": [
            "Calculating CSI: 100%|██████████| 5/5 [00:00<00:00, 1601.25it/s]\n"
          ]
        }
      ]
    },
    {
      "cell_type": "code",
      "source": [
        "csi_train"
      ],
      "metadata": {
        "colab": {
          "base_uri": "https://localhost:8080/"
        },
        "id": "cT-R7wLT4gUR",
        "outputId": "efd9d2b0-262a-4220-e761-e64cdfec878d"
      },
      "execution_count": 15,
      "outputs": [
        {
          "output_type": "execute_result",
          "data": {
            "text/plain": [
              "[('conv1', 0.3531111180782318),\n",
              " ('activation1', 0.35733333230018616),\n",
              " ('conv2', 0.3659999966621399),\n",
              " ('activation2', 0.3897777795791626),\n",
              " ('maxpool1', 0.44688889384269714),\n",
              " ('resblock1', 0.5595555901527405),\n",
              " ('maxpool2', 0.5788888931274414),\n",
              " ('conv3', 0.5479999780654907),\n",
              " ('activation3', 0.5640000104904175),\n",
              " ('maxpool3', 0.5879999995231628),\n",
              " ('conv1x1', 0.5648888945579529),\n",
              " ('activation4', 0.5748888850212097),\n",
              " ('resblock2', 0.6671110987663269),\n",
              " ('avgpool', 0.6626666784286499)]"
            ]
          },
          "metadata": {},
          "execution_count": 15
        }
      ]
    },
    {
      "cell_type": "code",
      "source": [
        "plt.plot([layer for layer, _ in csi_train], [si for _, si in csi_train])\n",
        "plt.xlabel('Layer')\n",
        "plt.ylabel('CSI')\n",
        "plt.title('CSI vs Layer number with conv1x1')\n",
        "plt.xticks(rotation=90)\n",
        "plt.show()"
      ],
      "metadata": {
        "colab": {
          "base_uri": "https://localhost:8080/",
          "height": 536
        },
        "id": "tn0X9J0x4hV9",
        "outputId": "b0a3a2fc-b757-414f-df10-7c54911b481e"
      },
      "execution_count": 18,
      "outputs": [
        {
          "output_type": "display_data",
          "data": {
            "text/plain": [
              "<Figure size 640x480 with 1 Axes>"
            ],
            "image/png": "[encoded data removed]"
          },
          "metadata": {}
        }
      ]
    },
    {
      "cell_type": "markdown",
      "source": [
        "# Metrics of Test Loader"
      ],
      "metadata": {
        "id": "9tpcNjon4ijy"
      }
    },
    {
      "cell_type": "code",
      "source": [
        "model.to('cuda:0' if torch.cuda.is_available() else 'cpu')\n",
        "model.eval()\n",
        "device = torch.device(\"cuda\" if torch.cuda.is_available() else \"cpu\")\n",
        "\n",
        "with torch.no_grad():\n",
        "    for inputs, targets in tqdm(test_loader):\n",
        "        inputs = inputs.to(device)\n",
        "        model(inputs)\n",
        "        labels.append(targets.cpu())\n",
        "\n",
        "# Flatten and concatenate\n",
        "for layer_name, layer_features in features_per_layer.items():\n",
        "    if layer_features:\n",
        "        features_per_layer[layer_name] = torch.cat([f.view(f.size(0), -1) for f in layer_features])\n",
        "\n",
        "labels = torch.cat(labels)"
      ],
      "metadata": {
        "colab": {
          "base_uri": "https://localhost:8080/"
        },
        "id": "SB0J729y4iBe",
        "outputId": "55c08026-e1ad-463c-97af-9921ba50a2b2"
      },
      "execution_count": 10,
      "outputs": [
        {
          "output_type": "stream",
          "name": "stderr",
          "text": [
            "100%|██████████| 8/8 [00:01<00:00,  5.67it/s]\n"
          ]
        }
      ]
    },
    {
      "cell_type": "markdown",
      "source": [
        "# SI"
      ],
      "metadata": {
        "id": "GCXYyDwB46QJ"
      }
    },
    {
      "cell_type": "code",
      "source": [
        "si_test = []\n",
        "\n",
        "for layer_name, features in features_per_layer.items():\n",
        "    instance_disturbance = ARH_SeparationIndex(features, labels, normalize=True)\n",
        "    si = instance_disturbance.si_batch(batch_size=1000)\n",
        "    si_test.append((layer_name, si))"
      ],
      "metadata": {
        "colab": {
          "base_uri": "https://localhost:8080/"
        },
        "id": "KvleHQOx438F",
        "outputId": "f81330b1-f3c0-43bc-8ace-58f81b52282d"
      },
      "execution_count": 11,
      "outputs": [
        {
          "output_type": "stream",
          "name": "stdout",
          "text": [
            "Data has been normalized\n"
          ]
        },
        {
          "output_type": "stream",
          "name": "stderr",
          "text": [
            "Calculating SI: 100%|██████████| 1/1 [00:00<00:00, 524.94it/s]\n"
          ]
        },
        {
          "output_type": "stream",
          "name": "stdout",
          "text": [
            "Data has been normalized\n"
          ]
        },
        {
          "output_type": "stream",
          "name": "stderr",
          "text": [
            "Calculating SI: 100%|██████████| 1/1 [00:00<00:00, 2364.32it/s]\n"
          ]
        },
        {
          "output_type": "stream",
          "name": "stdout",
          "text": [
            "Data has been normalized\n"
          ]
        },
        {
          "output_type": "stream",
          "name": "stderr",
          "text": [
            "Calculating SI: 100%|██████████| 1/1 [00:00<00:00, 1331.95it/s]"
          ]
        },
        {
          "output_type": "stream",
          "name": "stdout",
          "text": [
            "Data has been normalized\n"
          ]
        },
        {
          "output_type": "stream",
          "name": "stderr",
          "text": [
            "\n",
            "Calculating SI: 100%|██████████| 1/1 [00:00<00:00, 1579.18it/s]\n"
          ]
        },
        {
          "output_type": "stream",
          "name": "stdout",
          "text": [
            "Data has been normalized\n"
          ]
        },
        {
          "output_type": "stream",
          "name": "stderr",
          "text": [
            "Calculating SI: 100%|██████████| 1/1 [00:00<00:00, 1942.71it/s]\n"
          ]
        },
        {
          "output_type": "stream",
          "name": "stdout",
          "text": [
            "Data has been normalized\n"
          ]
        },
        {
          "output_type": "stream",
          "name": "stderr",
          "text": [
            "Calculating SI: 100%|██████████| 1/1 [00:00<00:00, 2748.56it/s]\n"
          ]
        },
        {
          "output_type": "stream",
          "name": "stdout",
          "text": [
            "Data has been normalized\n"
          ]
        },
        {
          "output_type": "stream",
          "name": "stderr",
          "text": [
            "Calculating SI: 100%|██████████| 1/1 [00:00<00:00, 441.41it/s]\n"
          ]
        },
        {
          "output_type": "stream",
          "name": "stdout",
          "text": [
            "Data has been normalized\n"
          ]
        },
        {
          "output_type": "stream",
          "name": "stderr",
          "text": [
            "Calculating SI: 100%|██████████| 1/1 [00:00<00:00, 2593.88it/s]\n"
          ]
        },
        {
          "output_type": "stream",
          "name": "stdout",
          "text": [
            "Data has been normalized\n"
          ]
        },
        {
          "output_type": "stream",
          "name": "stderr",
          "text": [
            "Calculating SI: 100%|██████████| 1/1 [00:00<00:00, 2750.36it/s]\n"
          ]
        },
        {
          "output_type": "stream",
          "name": "stdout",
          "text": [
            "Data has been normalized\n"
          ]
        },
        {
          "output_type": "stream",
          "name": "stderr",
          "text": [
            "Calculating SI: 100%|██████████| 1/1 [00:00<00:00, 1125.69it/s]\n"
          ]
        },
        {
          "output_type": "stream",
          "name": "stdout",
          "text": [
            "Data has been normalized\n"
          ]
        },
        {
          "output_type": "stream",
          "name": "stderr",
          "text": [
            "Calculating SI: 100%|██████████| 1/1 [00:00<00:00, 995.33it/s]\n"
          ]
        },
        {
          "output_type": "stream",
          "name": "stdout",
          "text": [
            "Data has been normalized\n"
          ]
        },
        {
          "output_type": "stream",
          "name": "stderr",
          "text": [
            "Calculating SI: 100%|██████████| 1/1 [00:00<00:00, 2777.68it/s]\n"
          ]
        },
        {
          "output_type": "stream",
          "name": "stdout",
          "text": [
            "Data has been normalized\n"
          ]
        },
        {
          "output_type": "stream",
          "name": "stderr",
          "text": [
            "Calculating SI: 100%|██████████| 1/1 [00:00<00:00, 2258.65it/s]\n"
          ]
        },
        {
          "output_type": "stream",
          "name": "stdout",
          "text": [
            "Data has been normalized\n"
          ]
        },
        {
          "output_type": "stream",
          "name": "stderr",
          "text": [
            "Calculating SI: 100%|██████████| 1/1 [00:00<00:00, 2949.58it/s]\n"
          ]
        }
      ]
    },
    {
      "cell_type": "code",
      "source": [
        "si_test"
      ],
      "metadata": {
        "colab": {
          "base_uri": "https://localhost:8080/"
        },
        "id": "E37LXvzW6MhI",
        "outputId": "492cc0e9-f5d0-4e60-c732-218f43e20ec4"
      },
      "execution_count": 17,
      "outputs": [
        {
          "output_type": "execute_result",
          "data": {
            "text/plain": [
              "[('conv1', 0.1860000044107437),\n",
              " ('activation1', 0.18800000846385956),\n",
              " ('conv2', 0.18400001525878906),\n",
              " ('activation2', 0.19300000369548798),\n",
              " ('maxpool1', 0.23500001430511475),\n",
              " ('resblock1', 0.32200002670288086),\n",
              " ('maxpool2', 0.398000031709671),\n",
              " ('conv3', 0.37700000405311584),\n",
              " ('activation3', 0.33900001645088196),\n",
              " ('maxpool3', 0.4240000247955322),\n",
              " ('conv1x1', 0.27800002694129944),\n",
              " ('activation4', 0.33900001645088196),\n",
              " ('resblock2', 0.4790000319480896),\n",
              " ('avgpool', 0.5530000329017639)]"
            ]
          },
          "metadata": {},
          "execution_count": 17
        }
      ]
    },
    {
      "cell_type": "code",
      "source": [
        "plt.plot([layer for layer, _ in si_test], [si for _, si in si_test])\n",
        "plt.xlabel('Layer')\n",
        "plt.ylabel('SI')\n",
        "plt.title('SI vs Layer number with conv1x1')\n",
        "plt.xticks(rotation=90)\n",
        "plt.show()"
      ],
      "metadata": {
        "colab": {
          "base_uri": "https://localhost:8080/",
          "height": 536
        },
        "id": "FJvHjeUv47RY",
        "outputId": "c496898b-5e1a-4373-f3d0-775a7c1aecde"
      },
      "execution_count": 12,
      "outputs": [
        {
          "output_type": "display_data",
          "data": {
            "text/plain": [
              "<Figure size 640x480 with 1 Axes>"
            ],
            "image/png": "[encoded data removed]"
          },
          "metadata": {}
        }
      ]
    },
    {
      "cell_type": "markdown",
      "source": [
        "# Center Si"
      ],
      "metadata": {
        "id": "RxuSQWfb5GjU"
      }
    },
    {
      "cell_type": "code",
      "source": [
        "csi_test = []\n",
        "\n",
        "for layer_name, features in features_per_layer.items():\n",
        "    instance_disturbance = ARH_SeparationIndex(features, labels, normalize=True)\n",
        "    csi = instance_disturbance.center_si_batch(batch_size=1000)\n",
        "    csi_test.append((layer_name, csi))"
      ],
      "metadata": {
        "colab": {
          "base_uri": "https://localhost:8080/"
        },
        "id": "KM85Djva5Faw",
        "outputId": "b67b9405-85c1-4d0a-d416-1eca0c766015"
      },
      "execution_count": 13,
      "outputs": [
        {
          "output_type": "stream",
          "name": "stdout",
          "text": [
            "Data has been normalized\n"
          ]
        },
        {
          "output_type": "stream",
          "name": "stderr",
          "text": [
            "Calculating CSI: 100%|██████████| 1/1 [00:00<00:00, 676.83it/s]\n"
          ]
        },
        {
          "output_type": "stream",
          "name": "stdout",
          "text": [
            "Data has been normalized\n"
          ]
        },
        {
          "output_type": "stream",
          "name": "stderr",
          "text": [
            "Calculating CSI: 100%|██████████| 1/1 [00:00<00:00, 1605.78it/s]\n"
          ]
        },
        {
          "output_type": "stream",
          "name": "stdout",
          "text": [
            "Data has been normalized\n"
          ]
        },
        {
          "output_type": "stream",
          "name": "stderr",
          "text": [
            "Calculating CSI: 100%|██████████| 1/1 [00:00<00:00, 1509.29it/s]\n"
          ]
        },
        {
          "output_type": "stream",
          "name": "stdout",
          "text": [
            "Data has been normalized\n"
          ]
        },
        {
          "output_type": "stream",
          "name": "stderr",
          "text": [
            "Calculating CSI: 100%|██████████| 1/1 [00:00<00:00, 1495.30it/s]\n"
          ]
        },
        {
          "output_type": "stream",
          "name": "stdout",
          "text": [
            "Data has been normalized\n"
          ]
        },
        {
          "output_type": "stream",
          "name": "stderr",
          "text": [
            "Calculating CSI: 100%|██████████| 1/1 [00:00<00:00, 580.45it/s]"
          ]
        },
        {
          "output_type": "stream",
          "name": "stdout",
          "text": [
            "Data has been normalized\n"
          ]
        },
        {
          "output_type": "stream",
          "name": "stderr",
          "text": [
            "\n",
            "Calculating CSI: 100%|██████████| 1/1 [00:00<00:00, 1639.68it/s]\n"
          ]
        },
        {
          "output_type": "stream",
          "name": "stdout",
          "text": [
            "Data has been normalized\n"
          ]
        },
        {
          "output_type": "stream",
          "name": "stderr",
          "text": [
            "Calculating CSI: 100%|██████████| 1/1 [00:00<00:00, 1118.78it/s]\n"
          ]
        },
        {
          "output_type": "stream",
          "name": "stdout",
          "text": [
            "Data has been normalized\n"
          ]
        },
        {
          "output_type": "stream",
          "name": "stderr",
          "text": [
            "Calculating CSI: 100%|██████████| 1/1 [00:00<00:00, 1616.93it/s]\n"
          ]
        },
        {
          "output_type": "stream",
          "name": "stdout",
          "text": [
            "Data has been normalized\n"
          ]
        },
        {
          "output_type": "stream",
          "name": "stderr",
          "text": [
            "Calculating CSI: 100%|██████████| 1/1 [00:00<00:00, 850.77it/s]\n"
          ]
        },
        {
          "output_type": "stream",
          "name": "stdout",
          "text": [
            "Data has been normalized\n"
          ]
        },
        {
          "output_type": "stream",
          "name": "stderr",
          "text": [
            "Calculating CSI: 100%|██████████| 1/1 [00:00<00:00, 498.97it/s]\n"
          ]
        },
        {
          "output_type": "stream",
          "name": "stdout",
          "text": [
            "Data has been normalized\n"
          ]
        },
        {
          "output_type": "stream",
          "name": "stderr",
          "text": [
            "Calculating CSI: 100%|██████████| 1/1 [00:00<00:00, 480.67it/s]\n"
          ]
        },
        {
          "output_type": "stream",
          "name": "stdout",
          "text": [
            "Data has been normalized\n"
          ]
        },
        {
          "output_type": "stream",
          "name": "stderr",
          "text": [
            "Calculating CSI: 100%|██████████| 1/1 [00:00<00:00, 330.21it/s]\n"
          ]
        },
        {
          "output_type": "stream",
          "name": "stdout",
          "text": [
            "Data has been normalized\n"
          ]
        },
        {
          "output_type": "stream",
          "name": "stderr",
          "text": [
            "Calculating CSI: 100%|██████████| 1/1 [00:00<00:00, 1851.79it/s]\n"
          ]
        },
        {
          "output_type": "stream",
          "name": "stdout",
          "text": [
            "Data has been normalized\n"
          ]
        },
        {
          "output_type": "stream",
          "name": "stderr",
          "text": [
            "Calculating CSI: 100%|██████████| 1/1 [00:00<00:00, 1613.81it/s]\n"
          ]
        }
      ]
    },
    {
      "cell_type": "code",
      "source": [
        "csi_test"
      ],
      "metadata": {
        "colab": {
          "base_uri": "https://localhost:8080/"
        },
        "id": "dv1SXeC65Hnj",
        "outputId": "22385ee9-be62-4f69-e2e3-113fd70e46ae"
      },
      "execution_count": 14,
      "outputs": [
        {
          "output_type": "execute_result",
          "data": {
            "text/plain": [
              "[('conv1', 0.42900002002716064),\n",
              " ('activation1', 0.4320000112056732),\n",
              " ('conv2', 0.45100003480911255),\n",
              " ('activation2', 0.4870000183582306),\n",
              " ('maxpool1', 0.5250000357627869),\n",
              " ('resblock1', 0.6380000114440918),\n",
              " ('maxpool2', 0.6240000128746033),\n",
              " ('conv3', 0.6030000448226929),\n",
              " ('activation3', 0.6390000581741333),\n",
              " ('maxpool3', 0.64000004529953),\n",
              " ('conv1x1', 0.6220000386238098),\n",
              " ('activation4', 0.6390000581741333),\n",
              " ('resblock2', 0.6950000524520874),\n",
              " ('avgpool', 0.6580000519752502)]"
            ]
          },
          "metadata": {},
          "execution_count": 14
        }
      ]
    },
    {
      "cell_type": "code",
      "source": [
        "plt.plot([layer for layer, _ in csi_test], [si for _, si in csi_test])\n",
        "plt.xlabel('Layer')\n",
        "plt.ylabel('CSI')\n",
        "plt.title('CSI vs Layer number with conv1x1')\n",
        "plt.xticks(rotation=90)\n",
        "plt.show()"
      ],
      "metadata": {
        "colab": {
          "base_uri": "https://localhost:8080/",
          "height": 536
        },
        "id": "R-OEw5_J5Isu",
        "outputId": "c1f49a8b-ffa1-47ac-ef5d-f80f6beaa6a1"
      },
      "execution_count": 16,
      "outputs": [
        {
          "output_type": "display_data",
          "data": {
            "text/plain": [
              "<Figure size 640x480 with 1 Axes>"
            ],
            "image/png": "[encoded data removed]"
          },
          "metadata": {}
        }
      ]
    }
  ]
}