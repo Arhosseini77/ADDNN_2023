{
  "nbformat": 4,
  "nbformat_minor": 0,
  "metadata": {
    "colab": {
      "provenance": [],
      "gpuType": "T4"
    },
    "kernelspec": {
      "name": "python3",
      "display_name": "Python 3"
    },
    "language_info": {
      "name": "python"
    },
    "accelerator": "GPU"
  },
  "cells": [
    {
      "cell_type": "markdown",
      "source": [
        "# Libraries\n"
      ],
      "metadata": {
        "id": "L1-evvtTvVqi"
      }
    },
    {
      "cell_type": "code",
      "execution_count": 1,
      "metadata": {
        "id": "QX252s-p0wSl"
      },
      "outputs": [],
      "source": [
        "import torch\n",
        "import torch.nn as nn\n",
        "import torch.nn.functional as F\n",
        "from torchvision import datasets, transforms\n",
        "import torch.optim as optim\n",
        "from torch.optim.lr_scheduler import StepLR\n",
        "from sklearn.model_selection import train_test_split\n",
        "from torch.utils.data import DataLoader, random_split\n",
        "import matplotlib.pyplot as plt\n",
        "from tqdm import tqdm"
      ]
    },
    {
      "cell_type": "code",
      "source": [
        "!pip install --q torchsummary"
      ],
      "metadata": {
        "id": "u1qeSWz301_h"
      },
      "execution_count": 2,
      "outputs": []
    },
    {
      "cell_type": "markdown",
      "source": [
        "# Custom_Resnet"
      ],
      "metadata": {
        "id": "3_YX-8_VvYnH"
      }
    },
    {
      "cell_type": "code",
      "source": [
        "# Define a ResNet block\n",
        "class MyResNetBlock(nn.Module):\n",
        "    # Constructor with input and output channel parameters\n",
        "    def __init__(self, in_channels, out_channels):\n",
        "        super(MyResNetBlock, self).__init__()\n",
        "        # First convolutional layer\n",
        "        self.conv1 = nn.Conv2d(in_channels, out_channels, kernel_size=3, padding=1)\n",
        "        # ELU activation function\n",
        "        self.activation1 = nn.ELU()\n",
        "        # Second convolutional layer\n",
        "        self.conv2 = nn.Conv2d(out_channels, out_channels, kernel_size=3, padding=1)\n",
        "\n",
        "    # Forward method for the block\n",
        "    def forward(self, x):\n",
        "        x = self.conv1(x)\n",
        "        x = self.activation1(x)\n",
        "        x = self.conv2(x)\n",
        "        x = self.activation1(x)\n",
        "        return x\n",
        "\n",
        "# Define the main ResNet model\n",
        "class MyResNet(nn.Module):\n",
        "    # Constructor\n",
        "    def __init__(self):\n",
        "        super(MyResNet, self).__init__()\n",
        "        # Initial convolutional layers\n",
        "        self.conv1 = nn.Conv2d(3, 32, kernel_size=3, padding=1)\n",
        "        self.activation1 = nn.ELU()\n",
        "        self.conv2 = nn.Conv2d(32, 64, kernel_size=3, padding=1)\n",
        "        self.activation2 = nn.ELU()\n",
        "        self.maxpool1 = nn.MaxPool2d(kernel_size=2)\n",
        "\n",
        "        # Residual blocks\n",
        "        self.resblock1 = MyResNetBlock(64, 64)\n",
        "        self.maxpool2 = nn.MaxPool2d(kernel_size=2)\n",
        "        self.conv3 = nn.Conv2d(64, 128, kernel_size=3, padding=1)\n",
        "        self.activation3 = nn.ELU()\n",
        "        self.maxpool3 = nn.MaxPool2d(kernel_size=2)\n",
        "        self.conv4 = nn.Conv2d(128, 256, kernel_size=3, padding=1)\n",
        "        self.activation4 = nn.ELU()\n",
        "        self.resblock2 = MyResNetBlock(256, 256)\n",
        "\n",
        "        # Average pooling and fully connected layers\n",
        "        self.avgpool = nn.AvgPool2d(kernel_size=3, stride=2)\n",
        "        self.flatten = nn.Flatten()\n",
        "        self.dense1 = nn.Linear(256, 256)\n",
        "        self.dense2 = nn.Linear(256, 10)\n",
        "        self.softmax = nn.Softmax(dim=1)\n",
        "\n",
        "    # Forward method for the model\n",
        "    def forward(self, x):\n",
        "        x = self.conv1(x)\n",
        "        x = self.activation1(x)\n",
        "        x = self.conv2(x)\n",
        "        x = self.activation2(x)\n",
        "        x = self.maxpool1(x)\n",
        "\n",
        "        x = self.resblock1(x)\n",
        "        x = self.conv3(x)\n",
        "        x = self.activation3(x)\n",
        "        x = self.maxpool2(x)\n",
        "\n",
        "        x = self.conv4(x)\n",
        "        x = self.activation4(x)\n",
        "        x = self.maxpool3(x)\n",
        "        x = self.resblock2(x)\n",
        "        x = self.avgpool(x)\n",
        "        x = self.flatten(x)\n",
        "        x = self.dense1(x)\n",
        "        x = self.dense2(x)\n",
        "        x = self.softmax(x)\n",
        "        return x\n"
      ],
      "metadata": {
        "id": "xCCufGHw03IG"
      },
      "execution_count": 3,
      "outputs": []
    },
    {
      "cell_type": "code",
      "source": [
        "from torchsummary import summary\n",
        "\n",
        "# Instantiate the model\n",
        "model = MyResNet()\n",
        "\n",
        "# Move the model to GPU if available\n",
        "device = torch.device(\"cuda\" if torch.cuda.is_available() else \"cpu\")\n",
        "model.to(device)\n",
        "\n",
        "# Print the model summary\n",
        "summary(model, (3, 32, 32))"
      ],
      "metadata": {
        "colab": {
          "base_uri": "https://localhost:8080/"
        },
        "id": "6k5unGZ71UxL",
        "outputId": "4eb9e8ba-85a6-4cda-fc04-b32aaae256e3"
      },
      "execution_count": 4,
      "outputs": [
        {
          "output_type": "stream",
          "name": "stdout",
          "text": [
            "----------------------------------------------------------------\n",
            "        Layer (type)               Output Shape         Param #\n",
            "================================================================\n",
            "            Conv2d-1           [-1, 32, 32, 32]             896\n",
            "               ELU-2           [-1, 32, 32, 32]               0\n",
            "            Conv2d-3           [-1, 64, 32, 32]          18,496\n",
            "               ELU-4           [-1, 64, 32, 32]               0\n",
            "         MaxPool2d-5           [-1, 64, 16, 16]               0\n",
            "            Conv2d-6           [-1, 64, 16, 16]          36,928\n",
            "               ELU-7           [-1, 64, 16, 16]               0\n",
            "            Conv2d-8           [-1, 64, 16, 16]          36,928\n",
            "               ELU-9           [-1, 64, 16, 16]               0\n",
            "    MyResNetBlock-10           [-1, 64, 16, 16]               0\n",
            "           Conv2d-11          [-1, 128, 16, 16]          73,856\n",
            "              ELU-12          [-1, 128, 16, 16]               0\n",
            "        MaxPool2d-13            [-1, 128, 8, 8]               0\n",
            "           Conv2d-14            [-1, 256, 8, 8]         295,168\n",
            "              ELU-15            [-1, 256, 8, 8]               0\n",
            "        MaxPool2d-16            [-1, 256, 4, 4]               0\n",
            "           Conv2d-17            [-1, 256, 4, 4]         590,080\n",
            "              ELU-18            [-1, 256, 4, 4]               0\n",
            "           Conv2d-19            [-1, 256, 4, 4]         590,080\n",
            "              ELU-20            [-1, 256, 4, 4]               0\n",
            "    MyResNetBlock-21            [-1, 256, 4, 4]               0\n",
            "        AvgPool2d-22            [-1, 256, 1, 1]               0\n",
            "          Flatten-23                  [-1, 256]               0\n",
            "           Linear-24                  [-1, 256]          65,792\n",
            "           Linear-25                   [-1, 10]           2,570\n",
            "          Softmax-26                   [-1, 10]               0\n",
            "================================================================\n",
            "Total params: 1,710,794\n",
            "Trainable params: 1,710,794\n",
            "Non-trainable params: 0\n",
            "----------------------------------------------------------------\n",
            "Input size (MB): 0.01\n",
            "Forward/backward pass size (MB): 3.26\n",
            "Params size (MB): 6.53\n",
            "Estimated Total Size (MB): 9.79\n",
            "----------------------------------------------------------------\n"
          ]
        }
      ]
    },
    {
      "cell_type": "markdown",
      "source": [
        "# Dataset"
      ],
      "metadata": {
        "id": "QnVe7X29vbkI"
      }
    },
    {
      "cell_type": "code",
      "source": [
        "# Data augmentation transformations for training data\n",
        "data_augmentation_train = transforms.Compose([\n",
        "    transforms.RandomHorizontalFlip(),  # Randomly flip the image horizontally\n",
        "    transforms.RandomRotation(15),  # Randomly rotate the image by 15 degrees\n",
        "    transforms.RandomVerticalFlip(),  # Randomly flip the image vertically\n",
        "    transforms.ToTensor(),  # Convert the image to a PyTorch tensor\n",
        "    transforms.Normalize((0.5, 0.5, 0.5), (0.5, 0.5, 0.5))  # Normalize the tensor values\n",
        "])\n",
        "\n",
        "# Data preprocessing transformations for test/validation data\n",
        "data_preprocessing_test = transforms.Compose([\n",
        "    transforms.ToTensor(),  # Convert the image to a PyTorch tensor\n",
        "    transforms.Normalize((0.5, 0.5, 0.5), (0.5, 0.5, 0.5)) # Normalize the tensor values\n",
        "])\n",
        "\n",
        "\n",
        "# Load CIFAR-10 dataset\n",
        "# Training set with data augmentation\n",
        "train_dataset = datasets.CIFAR10(root='./data', train=True, download=True, transform=data_augmentation_train)\n",
        "# Test set with data preprocessing\n",
        "test_dataset = datasets.CIFAR10(root='./data', train=False, download=True, transform=data_preprocessing_test)\n",
        "\n",
        "# Splitting the training dataset into training and validation sets\n",
        "train_size = int(0.9 * len(train_dataset))\n",
        "val_size = len(train_dataset) - train_size\n",
        "train_dataset, val_dataset = random_split(train_dataset, [train_size, val_size])\n",
        "\n",
        "# Data loaders\n",
        "batch_size = 128\n",
        "# Training data loader\n",
        "train_loader = DataLoader(train_dataset, batch_size=batch_size, shuffle=True)\n",
        "# Validation data loader\n",
        "val_loader = DataLoader(val_dataset, batch_size=batch_size, shuffle=False)\n",
        "# Test data loader\n",
        "test_loader = DataLoader(test_dataset, batch_size=batch_size, shuffle=False)"
      ],
      "metadata": {
        "colab": {
          "base_uri": "https://localhost:8080/"
        },
        "id": "a5NYwU5e1Woq",
        "outputId": "cadc91d9-922a-46cb-d461-6ccbddb6f42a"
      },
      "execution_count": 5,
      "outputs": [
        {
          "output_type": "stream",
          "name": "stdout",
          "text": [
            "Downloading https://www.cs.toronto.edu/~kriz/cifar-10-python.tar.gz to ./data/cifar-10-python.tar.gz\n"
          ]
        },
        {
          "output_type": "stream",
          "name": "stderr",
          "text": [
            "100%|██████████| 170498071/170498071 [00:01<00:00, 96339545.78it/s] \n"
          ]
        },
        {
          "output_type": "stream",
          "name": "stdout",
          "text": [
            "Extracting ./data/cifar-10-python.tar.gz to ./data\n",
            "Files already downloaded and verified\n"
          ]
        }
      ]
    },
    {
      "cell_type": "markdown",
      "source": [
        "# Training"
      ],
      "metadata": {
        "id": "1KZPCA65vdzQ"
      }
    },
    {
      "cell_type": "code",
      "source": [
        "device = torch.device(\"cuda:0\" if torch.cuda.is_available() else \"cpu\")\n",
        "model = MyResNet().to(device)"
      ],
      "metadata": {
        "id": "ne0ksUiK1a-4"
      },
      "execution_count": 6,
      "outputs": []
    },
    {
      "cell_type": "code",
      "source": [
        "# Optimizer, Learning Rate Scheduler, and Loss Criterion\n",
        "# Stochastic Gradient Descent (SGD) optimizer\n",
        "optimizer = optim.SGD(model.parameters(), lr=0.01, momentum=0.9)\n",
        "# Learning rate scheduler with step decay\n",
        "scheduler = StepLR(optimizer, step_size=50, gamma=0.1)\n",
        "# CrossEntropyLoss criterion for classification tasks\n",
        "criterion = nn.CrossEntropyLoss()"
      ],
      "metadata": {
        "id": "FXxfUgqx1cXk"
      },
      "execution_count": 7,
      "outputs": []
    },
    {
      "cell_type": "code",
      "source": [
        "from tqdm import tqdm\n",
        "\n",
        "train_losses = []\n",
        "train_accuracies = []\n",
        "val_losses = []\n",
        "val_accuracies = []\n",
        "best_val_accuracy = 0\n",
        "best_model_weights = None\n",
        "\n",
        "# Number of epochs\n",
        "epochs = 100\n",
        "\n",
        "# Training loop\n",
        "for epoch in range(1, epochs + 1):\n",
        "    # Training\n",
        "    model.train()\n",
        "    total_loss = 0\n",
        "    correct = 0\n",
        "    total_samples = 0\n",
        "    for data, target in tqdm(train_loader):\n",
        "        data, target = data.to(device), target.to(device)\n",
        "        optimizer.zero_grad()\n",
        "        output = model(data)\n",
        "        loss = criterion(output, target)\n",
        "        loss.backward()\n",
        "        optimizer.step()\n",
        "\n",
        "        # Compute training accuracy\n",
        "        pred = output.argmax(dim=1, keepdim=True)\n",
        "        correct += pred.eq(target.view_as(pred)).sum().item()\n",
        "        total_samples += data.size(0)\n",
        "\n",
        "        total_loss += loss.item()\n",
        "\n",
        "    # Calculate average training loss and accuracy\n",
        "    average_loss = total_loss / len(train_loader.dataset)\n",
        "    accuracy_train = correct / total_samples\n",
        "\n",
        "    print(f'Train Epoch: {epoch}, Average Loss: {average_loss:.4f}, Accuracy: {accuracy_train:.2}')\n",
        "\n",
        "    # Validation\n",
        "    model.eval()\n",
        "    val_loss = 0\n",
        "    correct = 0\n",
        "    with torch.no_grad():\n",
        "        for data, target in val_loader:\n",
        "            data, target = data.to(device), target.to(device)\n",
        "            output = model(data)\n",
        "            val_loss += criterion(output, target).item()\n",
        "            pred = output.argmax(dim=1, keepdim=True)\n",
        "            correct += pred.eq(target.view_as(pred)).sum().item()\n",
        "\n",
        "    val_loss /= len(val_loader.dataset)\n",
        "    accuracy_val = correct / len(val_loader.dataset)\n",
        "    print(f'Validation set: Average loss: {val_loss:.4f}, Accuracy: {accuracy_val:.2f}')\n",
        "\n",
        "    # Append values for plotting\n",
        "    train_losses.append(average_loss)\n",
        "    train_accuracies.append(accuracy_train)\n",
        "\n",
        "    # Append values for plotting\n",
        "    val_losses.append(val_loss)\n",
        "    val_accuracies.append(accuracy_val)\n",
        "\n",
        "    if accuracy_val > best_val_accuracy:\n",
        "       best_val_accuracy = accuracy_val\n",
        "       best_model_weights = model.state_dict()\n",
        "\n",
        "    scheduler.step()"
      ],
      "metadata": {
        "colab": {
          "base_uri": "https://localhost:8080/"
        },
        "id": "b3dxzdCe1dZ7",
        "outputId": "a2d7cd68-3ec1-47fb-e340-85fddfe1aa0f"
      },
      "execution_count": 8,
      "outputs": [
        {
          "output_type": "stream",
          "name": "stderr",
          "text": [
            "100%|██████████| 352/352 [00:45<00:00,  7.70it/s]\n"
          ]
        },
        {
          "output_type": "stream",
          "name": "stdout",
          "text": [
            "Train Epoch: 1, Average Loss: 0.0180, Accuracy: 0.1\n",
            "Validation set: Average loss: 0.0184, Accuracy: 0.09\n"
          ]
        },
        {
          "output_type": "stream",
          "name": "stderr",
          "text": [
            "100%|██████████| 352/352 [00:30<00:00, 11.62it/s]\n"
          ]
        },
        {
          "output_type": "stream",
          "name": "stdout",
          "text": [
            "Train Epoch: 2, Average Loss: 0.0180, Accuracy: 0.1\n",
            "Validation set: Average loss: 0.0184, Accuracy: 0.09\n"
          ]
        },
        {
          "output_type": "stream",
          "name": "stderr",
          "text": [
            "100%|██████████| 352/352 [00:30<00:00, 11.46it/s]\n"
          ]
        },
        {
          "output_type": "stream",
          "name": "stdout",
          "text": [
            "Train Epoch: 3, Average Loss: 0.0180, Accuracy: 0.1\n",
            "Validation set: Average loss: 0.0184, Accuracy: 0.09\n"
          ]
        },
        {
          "output_type": "stream",
          "name": "stderr",
          "text": [
            "100%|██████████| 352/352 [00:30<00:00, 11.40it/s]\n"
          ]
        },
        {
          "output_type": "stream",
          "name": "stdout",
          "text": [
            "Train Epoch: 4, Average Loss: 0.0180, Accuracy: 0.1\n",
            "Validation set: Average loss: 0.0184, Accuracy: 0.09\n"
          ]
        },
        {
          "output_type": "stream",
          "name": "stderr",
          "text": [
            "100%|██████████| 352/352 [00:31<00:00, 11.16it/s]\n"
          ]
        },
        {
          "output_type": "stream",
          "name": "stdout",
          "text": [
            "Train Epoch: 5, Average Loss: 0.0180, Accuracy: 0.1\n",
            "Validation set: Average loss: 0.0184, Accuracy: 0.09\n"
          ]
        },
        {
          "output_type": "stream",
          "name": "stderr",
          "text": [
            "100%|██████████| 352/352 [00:30<00:00, 11.56it/s]\n"
          ]
        },
        {
          "output_type": "stream",
          "name": "stdout",
          "text": [
            "Train Epoch: 6, Average Loss: 0.0179, Accuracy: 0.14\n",
            "Validation set: Average loss: 0.0179, Accuracy: 0.18\n"
          ]
        },
        {
          "output_type": "stream",
          "name": "stderr",
          "text": [
            "100%|██████████| 352/352 [00:31<00:00, 11.32it/s]\n"
          ]
        },
        {
          "output_type": "stream",
          "name": "stdout",
          "text": [
            "Train Epoch: 7, Average Loss: 0.0175, Accuracy: 0.18\n",
            "Validation set: Average loss: 0.0178, Accuracy: 0.20\n"
          ]
        },
        {
          "output_type": "stream",
          "name": "stderr",
          "text": [
            "100%|██████████| 352/352 [00:30<00:00, 11.44it/s]\n"
          ]
        },
        {
          "output_type": "stream",
          "name": "stdout",
          "text": [
            "Train Epoch: 8, Average Loss: 0.0174, Accuracy: 0.2\n",
            "Validation set: Average loss: 0.0177, Accuracy: 0.22\n"
          ]
        },
        {
          "output_type": "stream",
          "name": "stderr",
          "text": [
            "100%|██████████| 352/352 [00:30<00:00, 11.55it/s]\n"
          ]
        },
        {
          "output_type": "stream",
          "name": "stdout",
          "text": [
            "Train Epoch: 9, Average Loss: 0.0173, Accuracy: 0.22\n",
            "Validation set: Average loss: 0.0176, Accuracy: 0.23\n"
          ]
        },
        {
          "output_type": "stream",
          "name": "stderr",
          "text": [
            "100%|██████████| 352/352 [00:30<00:00, 11.60it/s]\n"
          ]
        },
        {
          "output_type": "stream",
          "name": "stdout",
          "text": [
            "Train Epoch: 10, Average Loss: 0.0172, Accuracy: 0.24\n",
            "Validation set: Average loss: 0.0175, Accuracy: 0.25\n"
          ]
        },
        {
          "output_type": "stream",
          "name": "stderr",
          "text": [
            "100%|██████████| 352/352 [00:31<00:00, 11.24it/s]\n"
          ]
        },
        {
          "output_type": "stream",
          "name": "stdout",
          "text": [
            "Train Epoch: 11, Average Loss: 0.0171, Accuracy: 0.26\n",
            "Validation set: Average loss: 0.0173, Accuracy: 0.29\n"
          ]
        },
        {
          "output_type": "stream",
          "name": "stderr",
          "text": [
            "100%|██████████| 352/352 [00:31<00:00, 11.22it/s]\n"
          ]
        },
        {
          "output_type": "stream",
          "name": "stdout",
          "text": [
            "Train Epoch: 12, Average Loss: 0.0170, Accuracy: 0.27\n",
            "Validation set: Average loss: 0.0173, Accuracy: 0.27\n"
          ]
        },
        {
          "output_type": "stream",
          "name": "stderr",
          "text": [
            "100%|██████████| 352/352 [00:30<00:00, 11.43it/s]\n"
          ]
        },
        {
          "output_type": "stream",
          "name": "stdout",
          "text": [
            "Train Epoch: 13, Average Loss: 0.0169, Accuracy: 0.29\n",
            "Validation set: Average loss: 0.0171, Accuracy: 0.30\n"
          ]
        },
        {
          "output_type": "stream",
          "name": "stderr",
          "text": [
            "100%|██████████| 352/352 [00:31<00:00, 11.35it/s]\n"
          ]
        },
        {
          "output_type": "stream",
          "name": "stdout",
          "text": [
            "Train Epoch: 14, Average Loss: 0.0167, Accuracy: 0.31\n",
            "Validation set: Average loss: 0.0169, Accuracy: 0.33\n"
          ]
        },
        {
          "output_type": "stream",
          "name": "stderr",
          "text": [
            "100%|██████████| 352/352 [00:30<00:00, 11.57it/s]\n"
          ]
        },
        {
          "output_type": "stream",
          "name": "stdout",
          "text": [
            "Train Epoch: 15, Average Loss: 0.0166, Accuracy: 0.33\n",
            "Validation set: Average loss: 0.0168, Accuracy: 0.35\n"
          ]
        },
        {
          "output_type": "stream",
          "name": "stderr",
          "text": [
            "100%|██████████| 352/352 [00:30<00:00, 11.66it/s]\n"
          ]
        },
        {
          "output_type": "stream",
          "name": "stdout",
          "text": [
            "Train Epoch: 16, Average Loss: 0.0164, Accuracy: 0.35\n",
            "Validation set: Average loss: 0.0166, Accuracy: 0.38\n"
          ]
        },
        {
          "output_type": "stream",
          "name": "stderr",
          "text": [
            "100%|██████████| 352/352 [00:31<00:00, 11.22it/s]\n"
          ]
        },
        {
          "output_type": "stream",
          "name": "stdout",
          "text": [
            "Train Epoch: 17, Average Loss: 0.0163, Accuracy: 0.37\n",
            "Validation set: Average loss: 0.0166, Accuracy: 0.38\n"
          ]
        },
        {
          "output_type": "stream",
          "name": "stderr",
          "text": [
            "100%|██████████| 352/352 [00:31<00:00, 11.07it/s]\n"
          ]
        },
        {
          "output_type": "stream",
          "name": "stdout",
          "text": [
            "Train Epoch: 18, Average Loss: 0.0162, Accuracy: 0.38\n",
            "Validation set: Average loss: 0.0164, Accuracy: 0.40\n"
          ]
        },
        {
          "output_type": "stream",
          "name": "stderr",
          "text": [
            "100%|██████████| 352/352 [00:31<00:00, 11.08it/s]\n"
          ]
        },
        {
          "output_type": "stream",
          "name": "stdout",
          "text": [
            "Train Epoch: 19, Average Loss: 0.0162, Accuracy: 0.39\n",
            "Validation set: Average loss: 0.0163, Accuracy: 0.41\n"
          ]
        },
        {
          "output_type": "stream",
          "name": "stderr",
          "text": [
            "100%|██████████| 352/352 [00:31<00:00, 11.01it/s]\n"
          ]
        },
        {
          "output_type": "stream",
          "name": "stdout",
          "text": [
            "Train Epoch: 20, Average Loss: 0.0161, Accuracy: 0.4\n",
            "Validation set: Average loss: 0.0163, Accuracy: 0.41\n"
          ]
        },
        {
          "output_type": "stream",
          "name": "stderr",
          "text": [
            "100%|██████████| 352/352 [00:31<00:00, 11.33it/s]\n"
          ]
        },
        {
          "output_type": "stream",
          "name": "stdout",
          "text": [
            "Train Epoch: 21, Average Loss: 0.0160, Accuracy: 0.41\n",
            "Validation set: Average loss: 0.0162, Accuracy: 0.42\n"
          ]
        },
        {
          "output_type": "stream",
          "name": "stderr",
          "text": [
            "100%|██████████| 352/352 [00:31<00:00, 11.17it/s]\n"
          ]
        },
        {
          "output_type": "stream",
          "name": "stdout",
          "text": [
            "Train Epoch: 22, Average Loss: 0.0159, Accuracy: 0.42\n",
            "Validation set: Average loss: 0.0161, Accuracy: 0.44\n"
          ]
        },
        {
          "output_type": "stream",
          "name": "stderr",
          "text": [
            "100%|██████████| 352/352 [00:31<00:00, 11.22it/s]\n"
          ]
        },
        {
          "output_type": "stream",
          "name": "stdout",
          "text": [
            "Train Epoch: 23, Average Loss: 0.0158, Accuracy: 0.43\n",
            "Validation set: Average loss: 0.0161, Accuracy: 0.44\n"
          ]
        },
        {
          "output_type": "stream",
          "name": "stderr",
          "text": [
            "100%|██████████| 352/352 [00:31<00:00, 11.15it/s]\n"
          ]
        },
        {
          "output_type": "stream",
          "name": "stdout",
          "text": [
            "Train Epoch: 24, Average Loss: 0.0157, Accuracy: 0.45\n",
            "Validation set: Average loss: 0.0159, Accuracy: 0.46\n"
          ]
        },
        {
          "output_type": "stream",
          "name": "stderr",
          "text": [
            "100%|██████████| 352/352 [00:30<00:00, 11.56it/s]\n"
          ]
        },
        {
          "output_type": "stream",
          "name": "stdout",
          "text": [
            "Train Epoch: 25, Average Loss: 0.0157, Accuracy: 0.45\n",
            "Validation set: Average loss: 0.0159, Accuracy: 0.46\n"
          ]
        },
        {
          "output_type": "stream",
          "name": "stderr",
          "text": [
            "100%|██████████| 352/352 [00:31<00:00, 11.24it/s]\n"
          ]
        },
        {
          "output_type": "stream",
          "name": "stdout",
          "text": [
            "Train Epoch: 26, Average Loss: 0.0156, Accuracy: 0.47\n",
            "Validation set: Average loss: 0.0159, Accuracy: 0.46\n"
          ]
        },
        {
          "output_type": "stream",
          "name": "stderr",
          "text": [
            "100%|██████████| 352/352 [00:30<00:00, 11.44it/s]\n"
          ]
        },
        {
          "output_type": "stream",
          "name": "stdout",
          "text": [
            "Train Epoch: 27, Average Loss: 0.0155, Accuracy: 0.48\n",
            "Validation set: Average loss: 0.0156, Accuracy: 0.50\n"
          ]
        },
        {
          "output_type": "stream",
          "name": "stderr",
          "text": [
            "100%|██████████| 352/352 [00:32<00:00, 11.00it/s]\n"
          ]
        },
        {
          "output_type": "stream",
          "name": "stdout",
          "text": [
            "Train Epoch: 28, Average Loss: 0.0153, Accuracy: 0.5\n",
            "Validation set: Average loss: 0.0156, Accuracy: 0.51\n"
          ]
        },
        {
          "output_type": "stream",
          "name": "stderr",
          "text": [
            "100%|██████████| 352/352 [00:31<00:00, 11.14it/s]\n"
          ]
        },
        {
          "output_type": "stream",
          "name": "stdout",
          "text": [
            "Train Epoch: 29, Average Loss: 0.0152, Accuracy: 0.51\n",
            "Validation set: Average loss: 0.0155, Accuracy: 0.52\n"
          ]
        },
        {
          "output_type": "stream",
          "name": "stderr",
          "text": [
            "100%|██████████| 352/352 [00:33<00:00, 10.40it/s]\n"
          ]
        },
        {
          "output_type": "stream",
          "name": "stdout",
          "text": [
            "Train Epoch: 30, Average Loss: 0.0151, Accuracy: 0.53\n",
            "Validation set: Average loss: 0.0153, Accuracy: 0.55\n"
          ]
        },
        {
          "output_type": "stream",
          "name": "stderr",
          "text": [
            "100%|██████████| 352/352 [00:30<00:00, 11.51it/s]\n"
          ]
        },
        {
          "output_type": "stream",
          "name": "stdout",
          "text": [
            "Train Epoch: 31, Average Loss: 0.0150, Accuracy: 0.54\n",
            "Validation set: Average loss: 0.0152, Accuracy: 0.55\n"
          ]
        },
        {
          "output_type": "stream",
          "name": "stderr",
          "text": [
            "100%|██████████| 352/352 [00:30<00:00, 11.40it/s]\n"
          ]
        },
        {
          "output_type": "stream",
          "name": "stdout",
          "text": [
            "Train Epoch: 32, Average Loss: 0.0149, Accuracy: 0.55\n",
            "Validation set: Average loss: 0.0152, Accuracy: 0.56\n"
          ]
        },
        {
          "output_type": "stream",
          "name": "stderr",
          "text": [
            "100%|██████████| 352/352 [00:30<00:00, 11.51it/s]\n"
          ]
        },
        {
          "output_type": "stream",
          "name": "stdout",
          "text": [
            "Train Epoch: 33, Average Loss: 0.0148, Accuracy: 0.56\n",
            "Validation set: Average loss: 0.0152, Accuracy: 0.55\n"
          ]
        },
        {
          "output_type": "stream",
          "name": "stderr",
          "text": [
            "100%|██████████| 352/352 [00:30<00:00, 11.45it/s]\n"
          ]
        },
        {
          "output_type": "stream",
          "name": "stdout",
          "text": [
            "Train Epoch: 34, Average Loss: 0.0148, Accuracy: 0.57\n",
            "Validation set: Average loss: 0.0151, Accuracy: 0.57\n"
          ]
        },
        {
          "output_type": "stream",
          "name": "stderr",
          "text": [
            "100%|██████████| 352/352 [00:31<00:00, 11.31it/s]\n"
          ]
        },
        {
          "output_type": "stream",
          "name": "stdout",
          "text": [
            "Train Epoch: 35, Average Loss: 0.0147, Accuracy: 0.58\n",
            "Validation set: Average loss: 0.0151, Accuracy: 0.57\n"
          ]
        },
        {
          "output_type": "stream",
          "name": "stderr",
          "text": [
            "100%|██████████| 352/352 [00:30<00:00, 11.56it/s]\n"
          ]
        },
        {
          "output_type": "stream",
          "name": "stdout",
          "text": [
            "Train Epoch: 36, Average Loss: 0.0146, Accuracy: 0.59\n",
            "Validation set: Average loss: 0.0149, Accuracy: 0.60\n"
          ]
        },
        {
          "output_type": "stream",
          "name": "stderr",
          "text": [
            "100%|██████████| 352/352 [00:30<00:00, 11.37it/s]\n"
          ]
        },
        {
          "output_type": "stream",
          "name": "stdout",
          "text": [
            "Train Epoch: 37, Average Loss: 0.0146, Accuracy: 0.6\n",
            "Validation set: Average loss: 0.0148, Accuracy: 0.60\n"
          ]
        },
        {
          "output_type": "stream",
          "name": "stderr",
          "text": [
            "100%|██████████| 352/352 [00:30<00:00, 11.50it/s]\n"
          ]
        },
        {
          "output_type": "stream",
          "name": "stdout",
          "text": [
            "Train Epoch: 38, Average Loss: 0.0145, Accuracy: 0.61\n",
            "Validation set: Average loss: 0.0149, Accuracy: 0.59\n"
          ]
        },
        {
          "output_type": "stream",
          "name": "stderr",
          "text": [
            "100%|██████████| 352/352 [00:30<00:00, 11.47it/s]\n"
          ]
        },
        {
          "output_type": "stream",
          "name": "stdout",
          "text": [
            "Train Epoch: 39, Average Loss: 0.0144, Accuracy: 0.62\n",
            "Validation set: Average loss: 0.0147, Accuracy: 0.62\n"
          ]
        },
        {
          "output_type": "stream",
          "name": "stderr",
          "text": [
            "100%|██████████| 352/352 [00:32<00:00, 10.90it/s]\n"
          ]
        },
        {
          "output_type": "stream",
          "name": "stdout",
          "text": [
            "Train Epoch: 40, Average Loss: 0.0144, Accuracy: 0.62\n",
            "Validation set: Average loss: 0.0148, Accuracy: 0.60\n"
          ]
        },
        {
          "output_type": "stream",
          "name": "stderr",
          "text": [
            "100%|██████████| 352/352 [00:30<00:00, 11.49it/s]\n"
          ]
        },
        {
          "output_type": "stream",
          "name": "stdout",
          "text": [
            "Train Epoch: 41, Average Loss: 0.0143, Accuracy: 0.63\n",
            "Validation set: Average loss: 0.0146, Accuracy: 0.64\n"
          ]
        },
        {
          "output_type": "stream",
          "name": "stderr",
          "text": [
            "100%|██████████| 352/352 [00:31<00:00, 11.16it/s]\n"
          ]
        },
        {
          "output_type": "stream",
          "name": "stdout",
          "text": [
            "Train Epoch: 42, Average Loss: 0.0143, Accuracy: 0.64\n",
            "Validation set: Average loss: 0.0146, Accuracy: 0.63\n"
          ]
        },
        {
          "output_type": "stream",
          "name": "stderr",
          "text": [
            "100%|██████████| 352/352 [00:30<00:00, 11.65it/s]\n"
          ]
        },
        {
          "output_type": "stream",
          "name": "stdout",
          "text": [
            "Train Epoch: 43, Average Loss: 0.0142, Accuracy: 0.64\n",
            "Validation set: Average loss: 0.0145, Accuracy: 0.65\n"
          ]
        },
        {
          "output_type": "stream",
          "name": "stderr",
          "text": [
            "100%|██████████| 352/352 [00:30<00:00, 11.65it/s]\n"
          ]
        },
        {
          "output_type": "stream",
          "name": "stdout",
          "text": [
            "Train Epoch: 44, Average Loss: 0.0142, Accuracy: 0.65\n",
            "Validation set: Average loss: 0.0145, Accuracy: 0.65\n"
          ]
        },
        {
          "output_type": "stream",
          "name": "stderr",
          "text": [
            "100%|██████████| 352/352 [00:30<00:00, 11.64it/s]\n"
          ]
        },
        {
          "output_type": "stream",
          "name": "stdout",
          "text": [
            "Train Epoch: 45, Average Loss: 0.0141, Accuracy: 0.65\n",
            "Validation set: Average loss: 0.0146, Accuracy: 0.64\n"
          ]
        },
        {
          "output_type": "stream",
          "name": "stderr",
          "text": [
            "100%|██████████| 352/352 [00:30<00:00, 11.53it/s]\n"
          ]
        },
        {
          "output_type": "stream",
          "name": "stdout",
          "text": [
            "Train Epoch: 46, Average Loss: 0.0141, Accuracy: 0.66\n",
            "Validation set: Average loss: 0.0145, Accuracy: 0.65\n"
          ]
        },
        {
          "output_type": "stream",
          "name": "stderr",
          "text": [
            "100%|██████████| 352/352 [00:30<00:00, 11.38it/s]\n"
          ]
        },
        {
          "output_type": "stream",
          "name": "stdout",
          "text": [
            "Train Epoch: 47, Average Loss: 0.0141, Accuracy: 0.66\n",
            "Validation set: Average loss: 0.0146, Accuracy: 0.63\n"
          ]
        },
        {
          "output_type": "stream",
          "name": "stderr",
          "text": [
            "100%|██████████| 352/352 [00:30<00:00, 11.50it/s]\n"
          ]
        },
        {
          "output_type": "stream",
          "name": "stdout",
          "text": [
            "Train Epoch: 48, Average Loss: 0.0140, Accuracy: 0.66\n",
            "Validation set: Average loss: 0.0144, Accuracy: 0.66\n"
          ]
        },
        {
          "output_type": "stream",
          "name": "stderr",
          "text": [
            "100%|██████████| 352/352 [00:30<00:00, 11.43it/s]\n"
          ]
        },
        {
          "output_type": "stream",
          "name": "stdout",
          "text": [
            "Train Epoch: 49, Average Loss: 0.0140, Accuracy: 0.67\n",
            "Validation set: Average loss: 0.0145, Accuracy: 0.66\n"
          ]
        },
        {
          "output_type": "stream",
          "name": "stderr",
          "text": [
            "100%|██████████| 352/352 [00:31<00:00, 11.27it/s]\n"
          ]
        },
        {
          "output_type": "stream",
          "name": "stdout",
          "text": [
            "Train Epoch: 50, Average Loss: 0.0140, Accuracy: 0.67\n",
            "Validation set: Average loss: 0.0143, Accuracy: 0.67\n"
          ]
        },
        {
          "output_type": "stream",
          "name": "stderr",
          "text": [
            "100%|██████████| 352/352 [00:30<00:00, 11.58it/s]\n"
          ]
        },
        {
          "output_type": "stream",
          "name": "stdout",
          "text": [
            "Train Epoch: 51, Average Loss: 0.0137, Accuracy: 0.71\n",
            "Validation set: Average loss: 0.0141, Accuracy: 0.69\n"
          ]
        },
        {
          "output_type": "stream",
          "name": "stderr",
          "text": [
            "100%|██████████| 352/352 [00:30<00:00, 11.37it/s]\n"
          ]
        },
        {
          "output_type": "stream",
          "name": "stdout",
          "text": [
            "Train Epoch: 52, Average Loss: 0.0137, Accuracy: 0.72\n",
            "Validation set: Average loss: 0.0141, Accuracy: 0.69\n"
          ]
        },
        {
          "output_type": "stream",
          "name": "stderr",
          "text": [
            "100%|██████████| 352/352 [00:30<00:00, 11.57it/s]\n"
          ]
        },
        {
          "output_type": "stream",
          "name": "stdout",
          "text": [
            "Train Epoch: 53, Average Loss: 0.0136, Accuracy: 0.72\n",
            "Validation set: Average loss: 0.0141, Accuracy: 0.69\n"
          ]
        },
        {
          "output_type": "stream",
          "name": "stderr",
          "text": [
            "100%|██████████| 352/352 [00:30<00:00, 11.54it/s]\n"
          ]
        },
        {
          "output_type": "stream",
          "name": "stdout",
          "text": [
            "Train Epoch: 54, Average Loss: 0.0136, Accuracy: 0.72\n",
            "Validation set: Average loss: 0.0141, Accuracy: 0.69\n"
          ]
        },
        {
          "output_type": "stream",
          "name": "stderr",
          "text": [
            "100%|██████████| 352/352 [00:30<00:00, 11.61it/s]\n"
          ]
        },
        {
          "output_type": "stream",
          "name": "stdout",
          "text": [
            "Train Epoch: 55, Average Loss: 0.0136, Accuracy: 0.72\n",
            "Validation set: Average loss: 0.0141, Accuracy: 0.70\n"
          ]
        },
        {
          "output_type": "stream",
          "name": "stderr",
          "text": [
            "100%|██████████| 352/352 [00:30<00:00, 11.66it/s]\n"
          ]
        },
        {
          "output_type": "stream",
          "name": "stdout",
          "text": [
            "Train Epoch: 56, Average Loss: 0.0136, Accuracy: 0.72\n",
            "Validation set: Average loss: 0.0141, Accuracy: 0.70\n"
          ]
        },
        {
          "output_type": "stream",
          "name": "stderr",
          "text": [
            "100%|██████████| 352/352 [00:30<00:00, 11.48it/s]\n"
          ]
        },
        {
          "output_type": "stream",
          "name": "stdout",
          "text": [
            "Train Epoch: 57, Average Loss: 0.0136, Accuracy: 0.73\n",
            "Validation set: Average loss: 0.0141, Accuracy: 0.69\n"
          ]
        },
        {
          "output_type": "stream",
          "name": "stderr",
          "text": [
            "100%|██████████| 352/352 [00:30<00:00, 11.61it/s]\n"
          ]
        },
        {
          "output_type": "stream",
          "name": "stdout",
          "text": [
            "Train Epoch: 58, Average Loss: 0.0136, Accuracy: 0.72\n",
            "Validation set: Average loss: 0.0140, Accuracy: 0.71\n"
          ]
        },
        {
          "output_type": "stream",
          "name": "stderr",
          "text": [
            "100%|██████████| 352/352 [00:30<00:00, 11.41it/s]\n"
          ]
        },
        {
          "output_type": "stream",
          "name": "stdout",
          "text": [
            "Train Epoch: 59, Average Loss: 0.0136, Accuracy: 0.73\n",
            "Validation set: Average loss: 0.0141, Accuracy: 0.70\n"
          ]
        },
        {
          "output_type": "stream",
          "name": "stderr",
          "text": [
            "100%|██████████| 352/352 [00:31<00:00, 11.17it/s]\n"
          ]
        },
        {
          "output_type": "stream",
          "name": "stdout",
          "text": [
            "Train Epoch: 60, Average Loss: 0.0136, Accuracy: 0.73\n",
            "Validation set: Average loss: 0.0141, Accuracy: 0.70\n"
          ]
        },
        {
          "output_type": "stream",
          "name": "stderr",
          "text": [
            "100%|██████████| 352/352 [00:30<00:00, 11.52it/s]\n"
          ]
        },
        {
          "output_type": "stream",
          "name": "stdout",
          "text": [
            "Train Epoch: 61, Average Loss: 0.0135, Accuracy: 0.73\n",
            "Validation set: Average loss: 0.0141, Accuracy: 0.70\n"
          ]
        },
        {
          "output_type": "stream",
          "name": "stderr",
          "text": [
            "100%|██████████| 352/352 [00:30<00:00, 11.52it/s]\n"
          ]
        },
        {
          "output_type": "stream",
          "name": "stdout",
          "text": [
            "Train Epoch: 62, Average Loss: 0.0135, Accuracy: 0.73\n",
            "Validation set: Average loss: 0.0141, Accuracy: 0.70\n"
          ]
        },
        {
          "output_type": "stream",
          "name": "stderr",
          "text": [
            "100%|██████████| 352/352 [00:30<00:00, 11.59it/s]\n"
          ]
        },
        {
          "output_type": "stream",
          "name": "stdout",
          "text": [
            "Train Epoch: 63, Average Loss: 0.0135, Accuracy: 0.73\n",
            "Validation set: Average loss: 0.0140, Accuracy: 0.71\n"
          ]
        },
        {
          "output_type": "stream",
          "name": "stderr",
          "text": [
            "100%|██████████| 352/352 [00:31<00:00, 11.33it/s]\n"
          ]
        },
        {
          "output_type": "stream",
          "name": "stdout",
          "text": [
            "Train Epoch: 64, Average Loss: 0.0135, Accuracy: 0.73\n",
            "Validation set: Average loss: 0.0141, Accuracy: 0.70\n"
          ]
        },
        {
          "output_type": "stream",
          "name": "stderr",
          "text": [
            "100%|██████████| 352/352 [00:30<00:00, 11.55it/s]\n"
          ]
        },
        {
          "output_type": "stream",
          "name": "stdout",
          "text": [
            "Train Epoch: 65, Average Loss: 0.0135, Accuracy: 0.73\n",
            "Validation set: Average loss: 0.0140, Accuracy: 0.71\n"
          ]
        },
        {
          "output_type": "stream",
          "name": "stderr",
          "text": [
            "100%|██████████| 352/352 [00:30<00:00, 11.53it/s]\n"
          ]
        },
        {
          "output_type": "stream",
          "name": "stdout",
          "text": [
            "Train Epoch: 66, Average Loss: 0.0135, Accuracy: 0.74\n",
            "Validation set: Average loss: 0.0140, Accuracy: 0.70\n"
          ]
        },
        {
          "output_type": "stream",
          "name": "stderr",
          "text": [
            "100%|██████████| 352/352 [00:30<00:00, 11.65it/s]\n"
          ]
        },
        {
          "output_type": "stream",
          "name": "stdout",
          "text": [
            "Train Epoch: 67, Average Loss: 0.0135, Accuracy: 0.74\n",
            "Validation set: Average loss: 0.0140, Accuracy: 0.70\n"
          ]
        },
        {
          "output_type": "stream",
          "name": "stderr",
          "text": [
            "100%|██████████| 352/352 [00:30<00:00, 11.72it/s]\n"
          ]
        },
        {
          "output_type": "stream",
          "name": "stdout",
          "text": [
            "Train Epoch: 68, Average Loss: 0.0135, Accuracy: 0.74\n",
            "Validation set: Average loss: 0.0140, Accuracy: 0.71\n"
          ]
        },
        {
          "output_type": "stream",
          "name": "stderr",
          "text": [
            "100%|██████████| 352/352 [00:31<00:00, 11.33it/s]\n"
          ]
        },
        {
          "output_type": "stream",
          "name": "stdout",
          "text": [
            "Train Epoch: 69, Average Loss: 0.0135, Accuracy: 0.74\n",
            "Validation set: Average loss: 0.0140, Accuracy: 0.71\n"
          ]
        },
        {
          "output_type": "stream",
          "name": "stderr",
          "text": [
            "100%|██████████| 352/352 [00:31<00:00, 11.30it/s]\n"
          ]
        },
        {
          "output_type": "stream",
          "name": "stdout",
          "text": [
            "Train Epoch: 70, Average Loss: 0.0135, Accuracy: 0.74\n",
            "Validation set: Average loss: 0.0140, Accuracy: 0.71\n"
          ]
        },
        {
          "output_type": "stream",
          "name": "stderr",
          "text": [
            "100%|██████████| 352/352 [00:30<00:00, 11.51it/s]\n"
          ]
        },
        {
          "output_type": "stream",
          "name": "stdout",
          "text": [
            "Train Epoch: 71, Average Loss: 0.0135, Accuracy: 0.74\n",
            "Validation set: Average loss: 0.0141, Accuracy: 0.71\n"
          ]
        },
        {
          "output_type": "stream",
          "name": "stderr",
          "text": [
            "100%|██████████| 352/352 [00:30<00:00, 11.70it/s]\n"
          ]
        },
        {
          "output_type": "stream",
          "name": "stdout",
          "text": [
            "Train Epoch: 72, Average Loss: 0.0135, Accuracy: 0.74\n",
            "Validation set: Average loss: 0.0140, Accuracy: 0.70\n"
          ]
        },
        {
          "output_type": "stream",
          "name": "stderr",
          "text": [
            "100%|██████████| 352/352 [00:30<00:00, 11.67it/s]\n"
          ]
        },
        {
          "output_type": "stream",
          "name": "stdout",
          "text": [
            "Train Epoch: 73, Average Loss: 0.0135, Accuracy: 0.74\n",
            "Validation set: Average loss: 0.0140, Accuracy: 0.70\n"
          ]
        },
        {
          "output_type": "stream",
          "name": "stderr",
          "text": [
            "100%|██████████| 352/352 [00:30<00:00, 11.53it/s]\n"
          ]
        },
        {
          "output_type": "stream",
          "name": "stdout",
          "text": [
            "Train Epoch: 74, Average Loss: 0.0134, Accuracy: 0.75\n",
            "Validation set: Average loss: 0.0140, Accuracy: 0.71\n"
          ]
        },
        {
          "output_type": "stream",
          "name": "stderr",
          "text": [
            "100%|██████████| 352/352 [00:30<00:00, 11.69it/s]\n"
          ]
        },
        {
          "output_type": "stream",
          "name": "stdout",
          "text": [
            "Train Epoch: 75, Average Loss: 0.0134, Accuracy: 0.74\n",
            "Validation set: Average loss: 0.0140, Accuracy: 0.71\n"
          ]
        },
        {
          "output_type": "stream",
          "name": "stderr",
          "text": [
            "100%|██████████| 352/352 [00:31<00:00, 11.18it/s]\n"
          ]
        },
        {
          "output_type": "stream",
          "name": "stdout",
          "text": [
            "Train Epoch: 76, Average Loss: 0.0134, Accuracy: 0.75\n",
            "Validation set: Average loss: 0.0140, Accuracy: 0.71\n"
          ]
        },
        {
          "output_type": "stream",
          "name": "stderr",
          "text": [
            "100%|██████████| 352/352 [00:30<00:00, 11.41it/s]\n"
          ]
        },
        {
          "output_type": "stream",
          "name": "stdout",
          "text": [
            "Train Epoch: 77, Average Loss: 0.0134, Accuracy: 0.75\n",
            "Validation set: Average loss: 0.0140, Accuracy: 0.71\n"
          ]
        },
        {
          "output_type": "stream",
          "name": "stderr",
          "text": [
            "100%|██████████| 352/352 [00:30<00:00, 11.55it/s]\n"
          ]
        },
        {
          "output_type": "stream",
          "name": "stdout",
          "text": [
            "Train Epoch: 78, Average Loss: 0.0134, Accuracy: 0.75\n",
            "Validation set: Average loss: 0.0140, Accuracy: 0.71\n"
          ]
        },
        {
          "output_type": "stream",
          "name": "stderr",
          "text": [
            "100%|██████████| 352/352 [00:30<00:00, 11.64it/s]\n"
          ]
        },
        {
          "output_type": "stream",
          "name": "stdout",
          "text": [
            "Train Epoch: 79, Average Loss: 0.0134, Accuracy: 0.75\n",
            "Validation set: Average loss: 0.0141, Accuracy: 0.71\n"
          ]
        },
        {
          "output_type": "stream",
          "name": "stderr",
          "text": [
            "100%|██████████| 352/352 [00:31<00:00, 11.27it/s]\n"
          ]
        },
        {
          "output_type": "stream",
          "name": "stdout",
          "text": [
            "Train Epoch: 80, Average Loss: 0.0134, Accuracy: 0.75\n",
            "Validation set: Average loss: 0.0140, Accuracy: 0.71\n"
          ]
        },
        {
          "output_type": "stream",
          "name": "stderr",
          "text": [
            "100%|██████████| 352/352 [00:30<00:00, 11.44it/s]\n"
          ]
        },
        {
          "output_type": "stream",
          "name": "stdout",
          "text": [
            "Train Epoch: 81, Average Loss: 0.0134, Accuracy: 0.75\n",
            "Validation set: Average loss: 0.0140, Accuracy: 0.72\n"
          ]
        },
        {
          "output_type": "stream",
          "name": "stderr",
          "text": [
            "100%|██████████| 352/352 [00:30<00:00, 11.58it/s]\n"
          ]
        },
        {
          "output_type": "stream",
          "name": "stdout",
          "text": [
            "Train Epoch: 82, Average Loss: 0.0134, Accuracy: 0.75\n",
            "Validation set: Average loss: 0.0140, Accuracy: 0.71\n"
          ]
        },
        {
          "output_type": "stream",
          "name": "stderr",
          "text": [
            "100%|██████████| 352/352 [00:30<00:00, 11.42it/s]\n"
          ]
        },
        {
          "output_type": "stream",
          "name": "stdout",
          "text": [
            "Train Epoch: 83, Average Loss: 0.0134, Accuracy: 0.75\n",
            "Validation set: Average loss: 0.0140, Accuracy: 0.72\n"
          ]
        },
        {
          "output_type": "stream",
          "name": "stderr",
          "text": [
            "100%|██████████| 352/352 [00:30<00:00, 11.70it/s]\n"
          ]
        },
        {
          "output_type": "stream",
          "name": "stdout",
          "text": [
            "Train Epoch: 84, Average Loss: 0.0134, Accuracy: 0.75\n",
            "Validation set: Average loss: 0.0140, Accuracy: 0.71\n"
          ]
        },
        {
          "output_type": "stream",
          "name": "stderr",
          "text": [
            "100%|██████████| 352/352 [00:30<00:00, 11.67it/s]\n"
          ]
        },
        {
          "output_type": "stream",
          "name": "stdout",
          "text": [
            "Train Epoch: 85, Average Loss: 0.0134, Accuracy: 0.75\n",
            "Validation set: Average loss: 0.0140, Accuracy: 0.71\n"
          ]
        },
        {
          "output_type": "stream",
          "name": "stderr",
          "text": [
            "100%|██████████| 352/352 [00:30<00:00, 11.61it/s]\n"
          ]
        },
        {
          "output_type": "stream",
          "name": "stdout",
          "text": [
            "Train Epoch: 86, Average Loss: 0.0134, Accuracy: 0.75\n",
            "Validation set: Average loss: 0.0140, Accuracy: 0.71\n"
          ]
        },
        {
          "output_type": "stream",
          "name": "stderr",
          "text": [
            "100%|██████████| 352/352 [00:29<00:00, 11.78it/s]\n"
          ]
        },
        {
          "output_type": "stream",
          "name": "stdout",
          "text": [
            "Train Epoch: 87, Average Loss: 0.0133, Accuracy: 0.76\n",
            "Validation set: Average loss: 0.0139, Accuracy: 0.72\n"
          ]
        },
        {
          "output_type": "stream",
          "name": "stderr",
          "text": [
            "100%|██████████| 352/352 [00:30<00:00, 11.53it/s]\n"
          ]
        },
        {
          "output_type": "stream",
          "name": "stdout",
          "text": [
            "Train Epoch: 88, Average Loss: 0.0134, Accuracy: 0.75\n",
            "Validation set: Average loss: 0.0139, Accuracy: 0.72\n"
          ]
        },
        {
          "output_type": "stream",
          "name": "stderr",
          "text": [
            "100%|██████████| 352/352 [00:30<00:00, 11.63it/s]\n"
          ]
        },
        {
          "output_type": "stream",
          "name": "stdout",
          "text": [
            "Train Epoch: 89, Average Loss: 0.0134, Accuracy: 0.75\n",
            "Validation set: Average loss: 0.0140, Accuracy: 0.71\n"
          ]
        },
        {
          "output_type": "stream",
          "name": "stderr",
          "text": [
            "100%|██████████| 352/352 [00:31<00:00, 11.22it/s]\n"
          ]
        },
        {
          "output_type": "stream",
          "name": "stdout",
          "text": [
            "Train Epoch: 90, Average Loss: 0.0133, Accuracy: 0.76\n",
            "Validation set: Average loss: 0.0140, Accuracy: 0.71\n"
          ]
        },
        {
          "output_type": "stream",
          "name": "stderr",
          "text": [
            "100%|██████████| 352/352 [00:30<00:00, 11.53it/s]\n"
          ]
        },
        {
          "output_type": "stream",
          "name": "stdout",
          "text": [
            "Train Epoch: 91, Average Loss: 0.0133, Accuracy: 0.76\n",
            "Validation set: Average loss: 0.0139, Accuracy: 0.72\n"
          ]
        },
        {
          "output_type": "stream",
          "name": "stderr",
          "text": [
            "100%|██████████| 352/352 [00:30<00:00, 11.66it/s]\n"
          ]
        },
        {
          "output_type": "stream",
          "name": "stdout",
          "text": [
            "Train Epoch: 92, Average Loss: 0.0133, Accuracy: 0.76\n",
            "Validation set: Average loss: 0.0140, Accuracy: 0.71\n"
          ]
        },
        {
          "output_type": "stream",
          "name": "stderr",
          "text": [
            "100%|██████████| 352/352 [00:30<00:00, 11.54it/s]\n"
          ]
        },
        {
          "output_type": "stream",
          "name": "stdout",
          "text": [
            "Train Epoch: 93, Average Loss: 0.0133, Accuracy: 0.76\n",
            "Validation set: Average loss: 0.0140, Accuracy: 0.71\n"
          ]
        },
        {
          "output_type": "stream",
          "name": "stderr",
          "text": [
            "100%|██████████| 352/352 [00:30<00:00, 11.61it/s]\n"
          ]
        },
        {
          "output_type": "stream",
          "name": "stdout",
          "text": [
            "Train Epoch: 94, Average Loss: 0.0133, Accuracy: 0.76\n",
            "Validation set: Average loss: 0.0139, Accuracy: 0.72\n"
          ]
        },
        {
          "output_type": "stream",
          "name": "stderr",
          "text": [
            "100%|██████████| 352/352 [00:30<00:00, 11.73it/s]\n"
          ]
        },
        {
          "output_type": "stream",
          "name": "stdout",
          "text": [
            "Train Epoch: 95, Average Loss: 0.0133, Accuracy: 0.76\n",
            "Validation set: Average loss: 0.0139, Accuracy: 0.72\n"
          ]
        },
        {
          "output_type": "stream",
          "name": "stderr",
          "text": [
            "100%|██████████| 352/352 [00:30<00:00, 11.56it/s]\n"
          ]
        },
        {
          "output_type": "stream",
          "name": "stdout",
          "text": [
            "Train Epoch: 96, Average Loss: 0.0133, Accuracy: 0.76\n",
            "Validation set: Average loss: 0.0139, Accuracy: 0.72\n"
          ]
        },
        {
          "output_type": "stream",
          "name": "stderr",
          "text": [
            "100%|██████████| 352/352 [00:30<00:00, 11.69it/s]\n"
          ]
        },
        {
          "output_type": "stream",
          "name": "stdout",
          "text": [
            "Train Epoch: 97, Average Loss: 0.0133, Accuracy: 0.76\n",
            "Validation set: Average loss: 0.0139, Accuracy: 0.72\n"
          ]
        },
        {
          "output_type": "stream",
          "name": "stderr",
          "text": [
            "100%|██████████| 352/352 [00:30<00:00, 11.64it/s]\n"
          ]
        },
        {
          "output_type": "stream",
          "name": "stdout",
          "text": [
            "Train Epoch: 98, Average Loss: 0.0133, Accuracy: 0.76\n",
            "Validation set: Average loss: 0.0140, Accuracy: 0.71\n"
          ]
        },
        {
          "output_type": "stream",
          "name": "stderr",
          "text": [
            "100%|██████████| 352/352 [00:30<00:00, 11.55it/s]\n"
          ]
        },
        {
          "output_type": "stream",
          "name": "stdout",
          "text": [
            "Train Epoch: 99, Average Loss: 0.0133, Accuracy: 0.76\n",
            "Validation set: Average loss: 0.0139, Accuracy: 0.72\n"
          ]
        },
        {
          "output_type": "stream",
          "name": "stderr",
          "text": [
            "100%|██████████| 352/352 [00:31<00:00, 11.23it/s]\n"
          ]
        },
        {
          "output_type": "stream",
          "name": "stdout",
          "text": [
            "Train Epoch: 100, Average Loss: 0.0133, Accuracy: 0.77\n",
            "Validation set: Average loss: 0.0139, Accuracy: 0.72\n"
          ]
        }
      ]
    },
    {
      "cell_type": "code",
      "source": [
        "# Test the model\n",
        "model.eval()\n",
        "test_loss = 0\n",
        "correct = 0\n",
        "with torch.no_grad():\n",
        "    for data, target in test_loader:\n",
        "        data, target = data.to(device), target.to(device)\n",
        "        output = model(data)\n",
        "        test_loss += criterion(output, target).item()\n",
        "        pred = output.argmax(dim=1, keepdim=True)\n",
        "        correct += pred.eq(target.view_as(pred)).sum().item()\n",
        "\n",
        "test_loss /= len(test_loader.dataset)\n",
        "accuracy = correct / len(test_loader.dataset)\n",
        "print(f'Test set: Average loss: {test_loss:.4f}, Accuracy: {accuracy:.2f}')"
      ],
      "metadata": {
        "colab": {
          "base_uri": "https://localhost:8080/"
        },
        "id": "Eibl8amq1ebA",
        "outputId": "edf2d2f3-12b3-4043-ba85-79abf9b243db"
      },
      "execution_count": 9,
      "outputs": [
        {
          "output_type": "stream",
          "name": "stdout",
          "text": [
            "Test set: Average loss: 0.0136, Accuracy: 0.73\n"
          ]
        }
      ]
    },
    {
      "cell_type": "code",
      "source": [
        "# Plotting\n",
        "epochs_range = range(1, epochs + 1)\n",
        "\n",
        "# Plotting Loss\n",
        "plt.figure(figsize=(12, 5))\n",
        "plt.subplot(1, 2, 1)\n",
        "plt.plot(epochs_range, train_losses, label='Training Loss')\n",
        "plt.plot(epochs_range, val_losses, label='Validation Loss')\n",
        "plt.xlabel('Epochs')\n",
        "plt.ylabel('Loss')\n",
        "plt.title('Training and Validation Loss')\n",
        "plt.legend()\n",
        "\n",
        "# Plotting Accuracy\n",
        "plt.subplot(1, 2, 2)\n",
        "plt.plot(epochs_range, train_accuracies, label='Training Accuracy')\n",
        "plt.plot(epochs_range, val_accuracies, label='Validation Accuracy')\n",
        "plt.xlabel('Epochs')\n",
        "plt.ylabel('Accuracy')\n",
        "plt.title('Training and Validation Accuracy')\n",
        "plt.legend()\n",
        "\n",
        "plt.show()"
      ],
      "metadata": {
        "colab": {
          "base_uri": "https://localhost:8080/",
          "height": 487
        },
        "id": "UvKImiux1fy-",
        "outputId": "20703bd3-8f9f-4ff3-e931-2ec6d82a4296"
      },
      "execution_count": 10,
      "outputs": [
        {
          "output_type": "display_data",
          "data": {
            "text/plain": [
              "<Figure size 1200x500 with 2 Axes>"
            ],
            "image/png": "[encoded data removed]"
          },
          "metadata": {}
        }
      ]
    },
    {
      "cell_type": "code",
      "source": [
        "torch.save(model.state_dict(), 'trained_MyResNet_No_skip.pth')"
      ],
      "metadata": {
        "id": "_1jVRsMS1g4I"
      },
      "execution_count": 11,
      "outputs": []
    },
    {
      "cell_type": "markdown",
      "source": [
        "# Metrics"
      ],
      "metadata": {
        "id": "iywBNUz7vgmY"
      }
    },
    {
      "cell_type": "code",
      "source": [
        "!git clone https://github.com/K-Hooshanfar/data_complexity_measures"
      ],
      "metadata": {
        "colab": {
          "base_uri": "https://localhost:8080/"
        },
        "id": "5vzegKM8vg1h",
        "outputId": "b1fd26dc-1546-4edc-b5c5-b1457d1f1b0e"
      },
      "execution_count": 4,
      "outputs": [
        {
          "output_type": "stream",
          "name": "stdout",
          "text": [
            "Cloning into 'data_complexity_measures'...\n",
            "remote: Enumerating objects: 143, done.\u001b[K\n",
            "remote: Counting objects: 100% (143/143), done.\u001b[K\n",
            "remote: Compressing objects: 100% (130/130), done.\u001b[K\n",
            "remote: Total 143 (delta 82), reused 33 (delta 9), pack-reused 0\u001b[K\n",
            "Receiving objects: 100% (143/143), 144.63 KiB | 6.29 MiB/s, done.\n",
            "Resolving deltas: 100% (82/82), done.\n"
          ]
        }
      ]
    },
    {
      "cell_type": "code",
      "source": [
        "from data_complexity_measures.models.ARH_SeparationIndex import ARH_SeparationIndex\n",
        "import torch\n",
        "from tqdm import tqdm"
      ],
      "metadata": {
        "id": "Xfas_DoFvkDy"
      },
      "execution_count": 4,
      "outputs": []
    },
    {
      "cell_type": "code",
      "source": [
        "# Load the pre-trained model\n",
        "state_dict = torch.load('/content/trained_MyResNet_No_skip.pth')\n",
        "\n",
        "model = MyResNet()\n",
        "model.load_state_dict(state_dict)"
      ],
      "metadata": {
        "colab": {
          "base_uri": "https://localhost:8080/"
        },
        "id": "yruQDhGpvq_b",
        "outputId": "d87c8fde-db61-4530-88ca-6669ba03ac12"
      },
      "execution_count": 5,
      "outputs": [
        {
          "output_type": "execute_result",
          "data": {
            "text/plain": [
              "<All keys matched successfully>"
            ]
          },
          "metadata": {},
          "execution_count": 5
        }
      ]
    },
    {
      "cell_type": "code",
      "source": [
        "transform_train = transforms.Compose([\n",
        "    transforms.ToTensor(),\n",
        "    transforms.Normalize((0.5, 0.5, 0.5), (0.5, 0.5, 0.5))\n",
        "])\n",
        "\n",
        "\n",
        "transform_test = transforms.Compose([\n",
        "    transforms.ToTensor(),\n",
        "    transforms.Normalize((0.5, 0.5, 0.5), (0.5, 0.5, 0.5))\n",
        "])"
      ],
      "metadata": {
        "id": "W8axShsIvs9B"
      },
      "execution_count": 6,
      "outputs": []
    },
    {
      "cell_type": "code",
      "source": [
        "from sklearn.model_selection import train_test_split\n",
        "\n",
        "# Load CIFAR-10 dataset\n",
        "train_dataset = datasets.CIFAR10(root='./data', train=True, download=True, transform=transform_train)\n",
        "test_dataset = datasets.CIFAR10(root='./data', train=False, download=True, transform=transform_test)\n",
        "\n",
        "# Splitting train dataset into train and validation sets\n",
        "train_size = int(0.9 * len(train_dataset))\n",
        "val_size = len(train_dataset) - train_size\n",
        "train_dataset, val_dataset = random_split(train_dataset, [train_size, val_size])\n",
        "\n",
        "# Convert test_dataset to a list or NumPy array\n",
        "test_data_list = [(img, label) for img, label in test_dataset]\n",
        "\n",
        "# Further split train_dataset into train_loader_dataset and 10% balanced subset\n",
        "train_loader_dataset, _ = train_test_split(train_dataset.dataset, train_size=int(0.1 * len(train_dataset)),\n",
        "                                           test_size=None, shuffle=True, stratify=train_dataset.dataset.targets)\n",
        "\n",
        "# Similarly, for the test_loader\n",
        "test_loader_dataset, _ = train_test_split(test_data_list, train_size=int(0.1 * len(test_dataset)),\n",
        "                                          test_size=None, shuffle=True, stratify=test_dataset.targets)\n",
        "\n",
        "# Data loaders\n",
        "train_loader = DataLoader(train_loader_dataset, batch_size=128, shuffle=True)\n",
        "val_loader = DataLoader(val_dataset, batch_size=128, shuffle=False)\n",
        "test_loader = DataLoader(test_loader_dataset, batch_size=128, shuffle=False)\n"
      ],
      "metadata": {
        "colab": {
          "base_uri": "https://localhost:8080/"
        },
        "id": "YXSFybkIvtqf",
        "outputId": "c5b0e47e-1ab7-4170-92e6-807bcb61f83e"
      },
      "execution_count": 7,
      "outputs": [
        {
          "output_type": "stream",
          "name": "stdout",
          "text": [
            "Files already downloaded and verified\n",
            "Files already downloaded and verified\n"
          ]
        }
      ]
    },
    {
      "cell_type": "code",
      "source": [
        "features_per_layer = {}\n",
        "labels = []\n",
        "\n",
        "# Get the total number of layers in the model\n",
        "total_layers = len(list(model.children()))\n",
        "\n",
        "# Exclude the last four layers\n",
        "layers_to_be_deleted = set(list(model.children())[-4:])\n",
        "\n",
        "# Attach hooks to each layer except the excluded ones\n",
        "features_per_layer = {}\n",
        "for name, layer in model.named_children():\n",
        "    if layer not in layers_to_be_deleted:\n",
        "        features_per_layer[name] = []\n",
        "        def hook(module, input, output, name=name):\n",
        "            features_per_layer[name].append(output.detach())\n",
        "        layer.register_forward_hook(hook)"
      ],
      "metadata": {
        "id": "F3iuts03vvCp"
      },
      "execution_count": 8,
      "outputs": []
    },
    {
      "cell_type": "code",
      "source": [
        "model.to('cuda:0' if torch.cuda.is_available() else 'cpu')\n",
        "model.eval()\n",
        "device = torch.device(\"cuda\" if torch.cuda.is_available() else \"cpu\")\n",
        "\n",
        "with torch.no_grad():\n",
        "    for inputs, targets in tqdm(train_loader):\n",
        "        inputs = inputs.to(device)\n",
        "        model(inputs)\n",
        "        labels.append(targets.cpu())\n",
        "\n",
        "# Flatten and concatenate\n",
        "for layer_name, layer_features in features_per_layer.items():\n",
        "    if layer_features:\n",
        "        features_per_layer[layer_name] = torch.cat([f.view(f.size(0), -1) for f in layer_features])\n",
        "\n",
        "labels = torch.cat(labels)"
      ],
      "metadata": {
        "colab": {
          "base_uri": "https://localhost:8080/"
        },
        "id": "srk2Md3bvwrP",
        "outputId": "0b70f187-cc60-40c0-f3ee-7d93fc148d15"
      },
      "execution_count": 10,
      "outputs": [
        {
          "output_type": "stream",
          "name": "stderr",
          "text": [
            "100%|██████████| 36/36 [00:07<00:00,  4.68it/s]\n"
          ]
        }
      ]
    },
    {
      "cell_type": "markdown",
      "source": [
        "# SI"
      ],
      "metadata": {
        "id": "szwg4Q3evzGy"
      }
    },
    {
      "cell_type": "code",
      "source": [
        "si_train = []\n",
        "\n",
        "for layer_name, features in features_per_layer.items():\n",
        "    instance_disturbance = ARH_SeparationIndex(features, labels, normalize=True)\n",
        "    si = instance_disturbance.si_batch(batch_size=1000)\n",
        "    si_train.append((layer_name, si))"
      ],
      "metadata": {
        "colab": {
          "base_uri": "https://localhost:8080/"
        },
        "id": "pA1m_U7Qvxaq",
        "outputId": "681f25ce-64ff-42af-980d-0ac49a72929d"
      },
      "execution_count": 11,
      "outputs": [
        {
          "output_type": "stream",
          "name": "stdout",
          "text": [
            "Data has been normalized\n"
          ]
        },
        {
          "output_type": "stream",
          "name": "stderr",
          "text": [
            "Calculating SI: 100%|██████████| 5/5 [00:00<00:00, 432.69it/s]\n"
          ]
        },
        {
          "output_type": "stream",
          "name": "stdout",
          "text": [
            "Data has been normalized\n"
          ]
        },
        {
          "output_type": "stream",
          "name": "stderr",
          "text": [
            "Calculating SI: 100%|██████████| 5/5 [00:00<00:00, 2372.34it/s]\n"
          ]
        },
        {
          "output_type": "stream",
          "name": "stdout",
          "text": [
            "Data has been normalized\n"
          ]
        },
        {
          "output_type": "stream",
          "name": "stderr",
          "text": [
            "Calculating SI: 100%|██████████| 5/5 [00:00<00:00, 2579.84it/s]\n"
          ]
        },
        {
          "output_type": "stream",
          "name": "stdout",
          "text": [
            "Data has been normalized\n"
          ]
        },
        {
          "output_type": "stream",
          "name": "stderr",
          "text": [
            "Calculating SI: 100%|██████████| 5/5 [00:00<00:00, 3255.94it/s]\n"
          ]
        },
        {
          "output_type": "stream",
          "name": "stdout",
          "text": [
            "Data has been normalized\n"
          ]
        },
        {
          "output_type": "stream",
          "name": "stderr",
          "text": [
            "Calculating SI: 100%|██████████| 5/5 [00:00<00:00, 3365.67it/s]\n"
          ]
        },
        {
          "output_type": "stream",
          "name": "stdout",
          "text": [
            "Data has been normalized\n"
          ]
        },
        {
          "output_type": "stream",
          "name": "stderr",
          "text": [
            "Calculating SI: 100%|██████████| 5/5 [00:00<00:00, 3415.56it/s]\n"
          ]
        },
        {
          "output_type": "stream",
          "name": "stdout",
          "text": [
            "Data has been normalized\n"
          ]
        },
        {
          "output_type": "stream",
          "name": "stderr",
          "text": [
            "Calculating SI: 100%|██████████| 5/5 [00:00<00:00, 2613.27it/s]\n"
          ]
        },
        {
          "output_type": "stream",
          "name": "stdout",
          "text": [
            "Data has been normalized\n"
          ]
        },
        {
          "output_type": "stream",
          "name": "stderr",
          "text": [
            "Calculating SI: 100%|██████████| 5/5 [00:00<00:00, 2756.51it/s]\n"
          ]
        },
        {
          "output_type": "stream",
          "name": "stdout",
          "text": [
            "Data has been normalized\n"
          ]
        },
        {
          "output_type": "stream",
          "name": "stderr",
          "text": [
            "Calculating SI: 100%|██████████| 5/5 [00:00<00:00, 3262.02it/s]\n"
          ]
        },
        {
          "output_type": "stream",
          "name": "stdout",
          "text": [
            "Data has been normalized\n"
          ]
        },
        {
          "output_type": "stream",
          "name": "stderr",
          "text": [
            "Calculating SI: 100%|██████████| 5/5 [00:00<00:00, 3962.87it/s]\n"
          ]
        },
        {
          "output_type": "stream",
          "name": "stdout",
          "text": [
            "Data has been normalized\n"
          ]
        },
        {
          "output_type": "stream",
          "name": "stderr",
          "text": [
            "Calculating SI: 100%|██████████| 5/5 [00:00<00:00, 3069.60it/s]\n"
          ]
        },
        {
          "output_type": "stream",
          "name": "stdout",
          "text": [
            "Data has been normalized\n"
          ]
        },
        {
          "output_type": "stream",
          "name": "stderr",
          "text": [
            "Calculating SI: 100%|██████████| 5/5 [00:00<00:00, 2037.26it/s]\n"
          ]
        },
        {
          "output_type": "stream",
          "name": "stdout",
          "text": [
            "Data has been normalized\n"
          ]
        },
        {
          "output_type": "stream",
          "name": "stderr",
          "text": [
            "Calculating SI: 100%|██████████| 5/5 [00:00<00:00, 3589.17it/s]\n"
          ]
        },
        {
          "output_type": "stream",
          "name": "stdout",
          "text": [
            "Data has been normalized\n"
          ]
        },
        {
          "output_type": "stream",
          "name": "stderr",
          "text": [
            "Calculating SI: 100%|██████████| 5/5 [00:00<00:00, 3622.65it/s]\n"
          ]
        }
      ]
    },
    {
      "cell_type": "code",
      "source": [
        "si_train"
      ],
      "metadata": {
        "colab": {
          "base_uri": "https://localhost:8080/"
        },
        "id": "YV2j1ktov0BX",
        "outputId": "849bf87f-9dc3-4448-a8ef-c30659cc7f03"
      },
      "execution_count": 12,
      "outputs": [
        {
          "output_type": "execute_result",
          "data": {
            "text/plain": [
              "[('conv1', 0.2226666659116745),\n",
              " ('activation1', 0.22333332896232605),\n",
              " ('conv2', 0.20733334124088287),\n",
              " ('activation2', 0.21044445037841797),\n",
              " ('maxpool1', 0.29466667771339417),\n",
              " ('resblock1', 0.3871111273765564),\n",
              " ('maxpool2', 0.47066667675971985),\n",
              " ('conv3', 0.4360000193119049),\n",
              " ('activation3', 0.41111111640930176),\n",
              " ('maxpool3', 0.5344444513320923),\n",
              " ('conv4', 0.5217778086662292),\n",
              " ('activation4', 0.4868888854980469),\n",
              " ('resblock2', 0.6331111192703247),\n",
              " ('avgpool', 0.6662222146987915)]"
            ]
          },
          "metadata": {},
          "execution_count": 12
        }
      ]
    },
    {
      "cell_type": "code",
      "source": [
        "plt.plot([layer for layer, _ in si_train], [si for _, si in si_train])\n",
        "plt.xlabel('Layer')\n",
        "plt.ylabel('SI')\n",
        "plt.title('SI vs Layer number with no skip')\n",
        "plt.xticks(rotation=90)\n",
        "plt.show()"
      ],
      "metadata": {
        "colab": {
          "base_uri": "https://localhost:8080/",
          "height": 536
        },
        "id": "nX4a8BtRv099",
        "outputId": "078ef55b-61ed-4080-ee89-af2a7d5742ce"
      },
      "execution_count": 13,
      "outputs": [
        {
          "output_type": "display_data",
          "data": {
            "text/plain": [
              "<Figure size 640x480 with 1 Axes>"
            ],
            "image/png": "[encoded data removed]"
          },
          "metadata": {}
        }
      ]
    },
    {
      "cell_type": "markdown",
      "source": [
        "# Center Si"
      ],
      "metadata": {
        "id": "yZ7BBhXEv6uo"
      }
    },
    {
      "cell_type": "code",
      "source": [
        "csi_train = []\n",
        "\n",
        "for layer_name, features in features_per_layer.items():\n",
        "    instance_disturbance = ARH_SeparationIndex(features, labels, normalize=True)\n",
        "    csi = instance_disturbance.center_si_batch(batch_size=1000)\n",
        "    csi_train.append((layer_name, csi))"
      ],
      "metadata": {
        "colab": {
          "base_uri": "https://localhost:8080/"
        },
        "id": "WA29Ss8fv4bi",
        "outputId": "816d6250-ae29-466f-b2be-a96a881882b0"
      },
      "execution_count": 14,
      "outputs": [
        {
          "output_type": "stream",
          "name": "stdout",
          "text": [
            "Data has been normalized\n"
          ]
        },
        {
          "output_type": "stream",
          "name": "stderr",
          "text": [
            "Calculating CSI: 100%|██████████| 5/5 [00:00<00:00, 1616.05it/s]\n"
          ]
        },
        {
          "output_type": "stream",
          "name": "stdout",
          "text": [
            "Data has been normalized\n"
          ]
        },
        {
          "output_type": "stream",
          "name": "stderr",
          "text": [
            "Calculating CSI: 100%|██████████| 5/5 [00:00<00:00, 1302.98it/s]\n"
          ]
        },
        {
          "output_type": "stream",
          "name": "stdout",
          "text": [
            "Data has been normalized\n"
          ]
        },
        {
          "output_type": "stream",
          "name": "stderr",
          "text": [
            "Calculating CSI: 100%|██████████| 5/5 [00:00<00:00, 1715.04it/s]\n"
          ]
        },
        {
          "output_type": "stream",
          "name": "stdout",
          "text": [
            "Data has been normalized\n"
          ]
        },
        {
          "output_type": "stream",
          "name": "stderr",
          "text": [
            "Calculating CSI: 100%|██████████| 5/5 [00:00<00:00, 1502.69it/s]\n"
          ]
        },
        {
          "output_type": "stream",
          "name": "stdout",
          "text": [
            "Data has been normalized\n"
          ]
        },
        {
          "output_type": "stream",
          "name": "stderr",
          "text": [
            "Calculating CSI: 100%|██████████| 5/5 [00:00<00:00, 1011.02it/s]\n"
          ]
        },
        {
          "output_type": "stream",
          "name": "stdout",
          "text": [
            "Data has been normalized\n"
          ]
        },
        {
          "output_type": "stream",
          "name": "stderr",
          "text": [
            "Calculating CSI: 100%|██████████| 5/5 [00:00<00:00, 935.77it/s]\n"
          ]
        },
        {
          "output_type": "stream",
          "name": "stdout",
          "text": [
            "Data has been normalized\n"
          ]
        },
        {
          "output_type": "stream",
          "name": "stderr",
          "text": [
            "Calculating CSI: 100%|██████████| 5/5 [00:00<00:00, 1912.94it/s]\n"
          ]
        },
        {
          "output_type": "stream",
          "name": "stdout",
          "text": [
            "Data has been normalized\n"
          ]
        },
        {
          "output_type": "stream",
          "name": "stderr",
          "text": [
            "Calculating CSI: 100%|██████████| 5/5 [00:00<00:00, 1954.48it/s]\n"
          ]
        },
        {
          "output_type": "stream",
          "name": "stdout",
          "text": [
            "Data has been normalized\n"
          ]
        },
        {
          "output_type": "stream",
          "name": "stderr",
          "text": [
            "Calculating CSI: 100%|██████████| 5/5 [00:00<00:00, 1853.92it/s]\n"
          ]
        },
        {
          "output_type": "stream",
          "name": "stdout",
          "text": [
            "Data has been normalized\n"
          ]
        },
        {
          "output_type": "stream",
          "name": "stderr",
          "text": [
            "Calculating CSI: 100%|██████████| 5/5 [00:00<00:00, 1536.04it/s]\n"
          ]
        },
        {
          "output_type": "stream",
          "name": "stdout",
          "text": [
            "Data has been normalized\n"
          ]
        },
        {
          "output_type": "stream",
          "name": "stderr",
          "text": [
            "Calculating CSI: 100%|██████████| 5/5 [00:00<00:00, 1171.40it/s]\n"
          ]
        },
        {
          "output_type": "stream",
          "name": "stdout",
          "text": [
            "Data has been normalized\n"
          ]
        },
        {
          "output_type": "stream",
          "name": "stderr",
          "text": [
            "Calculating CSI: 100%|██████████| 5/5 [00:00<00:00, 1294.70it/s]\n"
          ]
        },
        {
          "output_type": "stream",
          "name": "stdout",
          "text": [
            "Data has been normalized\n"
          ]
        },
        {
          "output_type": "stream",
          "name": "stderr",
          "text": [
            "Calculating CSI: 100%|██████████| 5/5 [00:00<00:00, 1320.96it/s]\n"
          ]
        },
        {
          "output_type": "stream",
          "name": "stdout",
          "text": [
            "Data has been normalized\n"
          ]
        },
        {
          "output_type": "stream",
          "name": "stderr",
          "text": [
            "Calculating CSI: 100%|██████████| 5/5 [00:00<00:00, 1458.08it/s]\n"
          ]
        }
      ]
    },
    {
      "cell_type": "code",
      "source": [
        "csi_train"
      ],
      "metadata": {
        "colab": {
          "base_uri": "https://localhost:8080/"
        },
        "id": "Ihmr6T5mv7vg",
        "outputId": "406c5796-d35b-4e5a-d13b-ae422a80f3a1"
      },
      "execution_count": 15,
      "outputs": [
        {
          "output_type": "execute_result",
          "data": {
            "text/plain": [
              "[('conv1', 0.3517777919769287),\n",
              " ('activation1', 0.359333336353302),\n",
              " ('conv2', 0.3633333444595337),\n",
              " ('activation2', 0.390666663646698),\n",
              " ('maxpool1', 0.4519999921321869),\n",
              " ('resblock1', 0.5211111307144165),\n",
              " ('maxpool2', 0.5537777543067932),\n",
              " ('conv3', 0.5108888745307922),\n",
              " ('activation3', 0.5479999780654907),\n",
              " ('maxpool3', 0.6075555682182312),\n",
              " ('conv4', 0.550000011920929),\n",
              " ('activation4', 0.6037777662277222),\n",
              " ('resblock2', 0.6933333277702332),\n",
              " ('avgpool', 0.7324444651603699)]"
            ]
          },
          "metadata": {},
          "execution_count": 15
        }
      ]
    },
    {
      "cell_type": "code",
      "source": [
        "plt.plot([layer for layer, _ in csi_train], [si for _, si in csi_train])\n",
        "plt.xlabel('Layer')\n",
        "plt.ylabel('CSI')\n",
        "plt.title('CSI vs Layer number with no skip')\n",
        "plt.xticks(rotation=90)\n",
        "plt.show()"
      ],
      "metadata": {
        "colab": {
          "base_uri": "https://localhost:8080/",
          "height": 536
        },
        "id": "vnJJfgIUv9sV",
        "outputId": "bcc55b6d-2627-4e94-a13d-1c89f4e3aa93"
      },
      "execution_count": 16,
      "outputs": [
        {
          "output_type": "display_data",
          "data": {
            "text/plain": [
              "<Figure size 640x480 with 1 Axes>"
            ],
            "image/png": "[encoded data removed]"
          },
          "metadata": {}
        }
      ]
    },
    {
      "cell_type": "markdown",
      "source": [
        "# Metrics of Test Loader"
      ],
      "metadata": {
        "id": "8VUxTuX4wA3x"
      }
    },
    {
      "cell_type": "code",
      "source": [
        "model.to('cuda:0' if torch.cuda.is_available() else 'cpu')\n",
        "model.eval()\n",
        "device = torch.device(\"cuda\" if torch.cuda.is_available() else \"cpu\")\n",
        "\n",
        "with torch.no_grad():\n",
        "    for inputs, targets in tqdm(test_loader):\n",
        "        inputs = inputs.to(device)\n",
        "        model(inputs)\n",
        "        labels.append(targets.cpu())\n",
        "\n",
        "# Flatten and concatenate\n",
        "for layer_name, layer_features in features_per_layer.items():\n",
        "    if layer_features:\n",
        "        features_per_layer[layer_name] = torch.cat([f.view(f.size(0), -1) for f in layer_features])\n",
        "\n",
        "labels = torch.cat(labels)"
      ],
      "metadata": {
        "colab": {
          "base_uri": "https://localhost:8080/"
        },
        "id": "7NotcZpqv_au",
        "outputId": "a527f875-f9a2-4b7a-e448-720d492f0944"
      },
      "execution_count": 9,
      "outputs": [
        {
          "output_type": "stream",
          "name": "stderr",
          "text": [
            "100%|██████████| 8/8 [00:01<00:00,  5.48it/s]\n"
          ]
        }
      ]
    },
    {
      "cell_type": "markdown",
      "source": [
        "# SI"
      ],
      "metadata": {
        "id": "K2ON_bgFwG83"
      }
    },
    {
      "cell_type": "code",
      "source": [
        "si_test = []\n",
        "\n",
        "for layer_name, features in features_per_layer.items():\n",
        "    instance_disturbance = ARH_SeparationIndex(features, labels, normalize=True)\n",
        "    si = instance_disturbance.si_batch(batch_size=1000)\n",
        "    si_test.append((layer_name, si))"
      ],
      "metadata": {
        "colab": {
          "base_uri": "https://localhost:8080/"
        },
        "id": "jAikz0WkwE0t",
        "outputId": "47b339e3-9b63-4871-8b7f-1b7224f58684"
      },
      "execution_count": 10,
      "outputs": [
        {
          "output_type": "stream",
          "name": "stdout",
          "text": [
            "Data has been normalized\n"
          ]
        },
        {
          "output_type": "stream",
          "name": "stderr",
          "text": [
            "Calculating SI: 100%|██████████| 1/1 [00:00<00:00, 928.97it/s]\n"
          ]
        },
        {
          "output_type": "stream",
          "name": "stdout",
          "text": [
            "Data has been normalized\n"
          ]
        },
        {
          "output_type": "stream",
          "name": "stderr",
          "text": [
            "Calculating SI: 100%|██████████| 1/1 [00:00<00:00, 2755.78it/s]\n"
          ]
        },
        {
          "output_type": "stream",
          "name": "stdout",
          "text": [
            "Data has been normalized\n"
          ]
        },
        {
          "output_type": "stream",
          "name": "stderr",
          "text": [
            "Calculating SI: 100%|██████████| 1/1 [00:00<00:00, 1152.91it/s]\n"
          ]
        },
        {
          "output_type": "stream",
          "name": "stdout",
          "text": [
            "Data has been normalized\n"
          ]
        },
        {
          "output_type": "stream",
          "name": "stderr",
          "text": [
            "Calculating SI: 100%|██████████| 1/1 [00:00<00:00, 607.43it/s]\n"
          ]
        },
        {
          "output_type": "stream",
          "name": "stdout",
          "text": [
            "Data has been normalized\n"
          ]
        },
        {
          "output_type": "stream",
          "name": "stderr",
          "text": [
            "Calculating SI: 100%|██████████| 1/1 [00:00<00:00, 403.73it/s]\n"
          ]
        },
        {
          "output_type": "stream",
          "name": "stdout",
          "text": [
            "Data has been normalized\n"
          ]
        },
        {
          "output_type": "stream",
          "name": "stderr",
          "text": [
            "Calculating SI: 100%|██████████| 1/1 [00:00<00:00, 1833.98it/s]\n"
          ]
        },
        {
          "output_type": "stream",
          "name": "stdout",
          "text": [
            "Data has been normalized\n"
          ]
        },
        {
          "output_type": "stream",
          "name": "stderr",
          "text": [
            "Calculating SI: 100%|██████████| 1/1 [00:00<00:00, 2937.19it/s]\n"
          ]
        },
        {
          "output_type": "stream",
          "name": "stdout",
          "text": [
            "Data has been normalized\n"
          ]
        },
        {
          "output_type": "stream",
          "name": "stderr",
          "text": [
            "Calculating SI: 100%|██████████| 1/1 [00:00<00:00, 571.20it/s]\n"
          ]
        },
        {
          "output_type": "stream",
          "name": "stdout",
          "text": [
            "Data has been normalized\n"
          ]
        },
        {
          "output_type": "stream",
          "name": "stderr",
          "text": [
            "Calculating SI: 100%|██████████| 1/1 [00:00<00:00, 1829.18it/s]\n"
          ]
        },
        {
          "output_type": "stream",
          "name": "stdout",
          "text": [
            "Data has been normalized\n"
          ]
        },
        {
          "output_type": "stream",
          "name": "stderr",
          "text": [
            "Calculating SI: 100%|██████████| 1/1 [00:00<00:00, 2991.66it/s]\n"
          ]
        },
        {
          "output_type": "stream",
          "name": "stdout",
          "text": [
            "Data has been normalized\n"
          ]
        },
        {
          "output_type": "stream",
          "name": "stderr",
          "text": [
            "Calculating SI: 100%|██████████| 1/1 [00:00<00:00, 3187.16it/s]\n"
          ]
        },
        {
          "output_type": "stream",
          "name": "stdout",
          "text": [
            "Data has been normalized\n"
          ]
        },
        {
          "output_type": "stream",
          "name": "stderr",
          "text": [
            "Calculating SI: 100%|██████████| 1/1 [00:00<00:00, 766.22it/s]\n"
          ]
        },
        {
          "output_type": "stream",
          "name": "stdout",
          "text": [
            "Data has been normalized\n"
          ]
        },
        {
          "output_type": "stream",
          "name": "stderr",
          "text": [
            "Calculating SI: 100%|██████████| 1/1 [00:00<00:00, 2864.96it/s]\n"
          ]
        },
        {
          "output_type": "stream",
          "name": "stdout",
          "text": [
            "Data has been normalized\n"
          ]
        },
        {
          "output_type": "stream",
          "name": "stderr",
          "text": [
            "Calculating SI: 100%|██████████| 1/1 [00:00<00:00, 3039.35it/s]\n"
          ]
        }
      ]
    },
    {
      "cell_type": "code",
      "source": [
        "si_test"
      ],
      "metadata": {
        "colab": {
          "base_uri": "https://localhost:8080/"
        },
        "id": "3Lik2DGwwH0a",
        "outputId": "c8331a00-c283-4787-dd51-0a5a8752677f"
      },
      "execution_count": 11,
      "outputs": [
        {
          "output_type": "execute_result",
          "data": {
            "text/plain": [
              "[('conv1', 0.18700000643730164),\n",
              " ('activation1', 0.1900000125169754),\n",
              " ('conv2', 0.1850000023841858),\n",
              " ('activation2', 0.17600001394748688),\n",
              " ('maxpool1', 0.24500000476837158),\n",
              " ('resblock1', 0.3150000274181366),\n",
              " ('maxpool2', 0.4010000228881836),\n",
              " ('conv3', 0.3500000238418579),\n",
              " ('activation3', 0.34200000762939453),\n",
              " ('maxpool3', 0.4540000259876251),\n",
              " ('conv4', 0.43400001525878906),\n",
              " ('activation4', 0.4000000059604645),\n",
              " ('resblock2', 0.5640000104904175),\n",
              " ('avgpool', 0.6130000352859497)]"
            ]
          },
          "metadata": {},
          "execution_count": 11
        }
      ]
    },
    {
      "cell_type": "code",
      "source": [
        "plt.plot([layer for layer, _ in si_test], [si for _, si in si_test])\n",
        "plt.xlabel('Layer')\n",
        "plt.ylabel('SI')\n",
        "plt.title('SI vs Layer number with no skip')\n",
        "plt.xticks(rotation=90)\n",
        "plt.show()"
      ],
      "metadata": {
        "colab": {
          "base_uri": "https://localhost:8080/",
          "height": 536
        },
        "id": "WHPqWhJFwUOo",
        "outputId": "d26658d1-b23e-4e92-edd6-121f22906ce0"
      },
      "execution_count": 12,
      "outputs": [
        {
          "output_type": "display_data",
          "data": {
            "text/plain": [
              "<Figure size 640x480 with 1 Axes>"
            ],
            "image/png": "[encoded data removed]"
          },
          "metadata": {}
        }
      ]
    },
    {
      "cell_type": "markdown",
      "source": [
        "# Center Si"
      ],
      "metadata": {
        "id": "r7JZIaAhwX2v"
      }
    },
    {
      "cell_type": "code",
      "source": [
        "csi_test = []\n",
        "\n",
        "for layer_name, features in features_per_layer.items():\n",
        "    instance_disturbance = ARH_SeparationIndex(features, labels, normalize=True)\n",
        "    csi = instance_disturbance.center_si_batch(batch_size=1000)\n",
        "    csi_test.append((layer_name, csi))"
      ],
      "metadata": {
        "colab": {
          "base_uri": "https://localhost:8080/"
        },
        "id": "eX9fahoIwWbL",
        "outputId": "0d19a903-9360-477a-c674-503590d49334"
      },
      "execution_count": 13,
      "outputs": [
        {
          "output_type": "stream",
          "name": "stdout",
          "text": [
            "Data has been normalized\n"
          ]
        },
        {
          "output_type": "stream",
          "name": "stderr",
          "text": [
            "Calculating CSI: 100%|██████████| 1/1 [00:00<00:00, 1276.80it/s]\n"
          ]
        },
        {
          "output_type": "stream",
          "name": "stdout",
          "text": [
            "Data has been normalized\n"
          ]
        },
        {
          "output_type": "stream",
          "name": "stderr",
          "text": [
            "Calculating CSI: 100%|██████████| 1/1 [00:00<00:00, 927.74it/s]\n"
          ]
        },
        {
          "output_type": "stream",
          "name": "stdout",
          "text": [
            "Data has been normalized\n"
          ]
        },
        {
          "output_type": "stream",
          "name": "stderr",
          "text": [
            "Calculating CSI: 100%|██████████| 1/1 [00:00<00:00, 824.68it/s]\n"
          ]
        },
        {
          "output_type": "stream",
          "name": "stdout",
          "text": [
            "Data has been normalized\n"
          ]
        },
        {
          "output_type": "stream",
          "name": "stderr",
          "text": [
            "Calculating CSI: 100%|██████████| 1/1 [00:00<00:00, 900.65it/s]\n"
          ]
        },
        {
          "output_type": "stream",
          "name": "stdout",
          "text": [
            "Data has been normalized\n"
          ]
        },
        {
          "output_type": "stream",
          "name": "stderr",
          "text": [
            "Calculating CSI: 100%|██████████| 1/1 [00:00<00:00, 332.17it/s]\n"
          ]
        },
        {
          "output_type": "stream",
          "name": "stdout",
          "text": [
            "Data has been normalized\n"
          ]
        },
        {
          "output_type": "stream",
          "name": "stderr",
          "text": [
            "Calculating CSI: 100%|██████████| 1/1 [00:00<00:00, 1063.73it/s]\n"
          ]
        },
        {
          "output_type": "stream",
          "name": "stdout",
          "text": [
            "Data has been normalized\n"
          ]
        },
        {
          "output_type": "stream",
          "name": "stderr",
          "text": [
            "Calculating CSI: 100%|██████████| 1/1 [00:00<00:00, 1279.92it/s]\n"
          ]
        },
        {
          "output_type": "stream",
          "name": "stdout",
          "text": [
            "Data has been normalized\n"
          ]
        },
        {
          "output_type": "stream",
          "name": "stderr",
          "text": [
            "Calculating CSI: 100%|██████████| 1/1 [00:00<00:00, 1572.67it/s]\n"
          ]
        },
        {
          "output_type": "stream",
          "name": "stdout",
          "text": [
            "Data has been normalized\n"
          ]
        },
        {
          "output_type": "stream",
          "name": "stderr",
          "text": [
            "Calculating CSI: 100%|██████████| 1/1 [00:00<00:00, 336.19it/s]\n"
          ]
        },
        {
          "output_type": "stream",
          "name": "stdout",
          "text": [
            "Data has been normalized\n"
          ]
        },
        {
          "output_type": "stream",
          "name": "stderr",
          "text": [
            "Calculating CSI: 100%|██████████| 1/1 [00:00<00:00, 1350.82it/s]\n"
          ]
        },
        {
          "output_type": "stream",
          "name": "stdout",
          "text": [
            "Data has been normalized\n"
          ]
        },
        {
          "output_type": "stream",
          "name": "stderr",
          "text": [
            "Calculating CSI: 100%|██████████| 1/1 [00:00<00:00, 609.37it/s]\n"
          ]
        },
        {
          "output_type": "stream",
          "name": "stdout",
          "text": [
            "Data has been normalized\n"
          ]
        },
        {
          "output_type": "stream",
          "name": "stderr",
          "text": [
            "Calculating CSI: 100%|██████████| 1/1 [00:00<00:00, 897.75it/s]"
          ]
        },
        {
          "output_type": "stream",
          "name": "stdout",
          "text": [
            "Data has been normalized"
          ]
        },
        {
          "output_type": "stream",
          "name": "stderr",
          "text": [
            "\n"
          ]
        },
        {
          "output_type": "stream",
          "name": "stdout",
          "text": [
            "\n"
          ]
        },
        {
          "output_type": "stream",
          "name": "stderr",
          "text": [
            "Calculating CSI: 100%|██████████| 1/1 [00:00<00:00, 878.94it/s]\n"
          ]
        },
        {
          "output_type": "stream",
          "name": "stdout",
          "text": [
            "Data has been normalized\n"
          ]
        },
        {
          "output_type": "stream",
          "name": "stderr",
          "text": [
            "Calculating CSI: 100%|██████████| 1/1 [00:00<00:00, 1281.09it/s]\n"
          ]
        }
      ]
    },
    {
      "cell_type": "code",
      "source": [
        "csi_test"
      ],
      "metadata": {
        "colab": {
          "base_uri": "https://localhost:8080/"
        },
        "id": "4CsMU9HZwYu2",
        "outputId": "e9ef9256-04ee-4dcc-8316-0f8a55258091"
      },
      "execution_count": 14,
      "outputs": [
        {
          "output_type": "execute_result",
          "data": {
            "text/plain": [
              "[('conv1', 0.46800002455711365),\n",
              " ('activation1', 0.47700002789497375),\n",
              " ('conv2', 0.5049999952316284),\n",
              " ('activation2', 0.5240000486373901),\n",
              " ('maxpool1', 0.5440000295639038),\n",
              " ('resblock1', 0.5820000171661377),\n",
              " ('maxpool2', 0.625),\n",
              " ('conv3', 0.5690000057220459),\n",
              " ('activation3', 0.6380000114440918),\n",
              " ('maxpool3', 0.6830000281333923),\n",
              " ('conv4', 0.5940000414848328),\n",
              " ('activation4', 0.6960000395774841),\n",
              " ('resblock2', 0.7010000348091125),\n",
              " ('avgpool', 0.706000030040741)]"
            ]
          },
          "metadata": {},
          "execution_count": 14
        }
      ]
    },
    {
      "cell_type": "code",
      "source": [
        "plt.plot([layer for layer, _ in csi_test], [si for _, si in csi_test])\n",
        "plt.xlabel('Layer')\n",
        "plt.ylabel('CSI')\n",
        "plt.title('CSI vs Layer number with no skip')\n",
        "plt.xticks(rotation=90)\n",
        "plt.show()"
      ],
      "metadata": {
        "colab": {
          "base_uri": "https://localhost:8080/",
          "height": 536
        },
        "id": "3NKVY-quwZsh",
        "outputId": "5901542b-8ae6-414e-b7f7-590ce559e58d"
      },
      "execution_count": 15,
      "outputs": [
        {
          "output_type": "display_data",
          "data": {
            "text/plain": [
              "<Figure size 640x480 with 1 Axes>"
            ],
            "image/png": "[encoded data removed]"
          },
          "metadata": {}
        }
      ]
    }
  ]
}