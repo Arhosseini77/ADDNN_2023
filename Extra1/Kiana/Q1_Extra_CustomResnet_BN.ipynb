{
  "nbformat": 4,
  "nbformat_minor": 0,
  "metadata": {
    "colab": {
      "provenance": [],
      "gpuType": "T4"
    },
    "kernelspec": {
      "name": "python3",
      "display_name": "Python 3"
    },
    "language_info": {
      "name": "python"
    },
    "accelerator": "GPU"
  },
  "cells": [
    {
      "cell_type": "markdown",
      "source": [
        "# Libraries"
      ],
      "metadata": {
        "id": "ohsxvmcH-Jal"
      }
    },
    {
      "cell_type": "code",
      "execution_count": 1,
      "metadata": {
        "id": "6TOdwcG38wlg"
      },
      "outputs": [],
      "source": [
        "import torch\n",
        "import torch.nn as nn\n",
        "import torch.nn.functional as F\n",
        "from torchvision import datasets, transforms\n",
        "import torch.optim as optim\n",
        "from torch.optim.lr_scheduler import StepLR\n",
        "from sklearn.model_selection import train_test_split\n",
        "from torch.utils.data import DataLoader, random_split\n",
        "import matplotlib.pyplot as plt\n",
        "from tqdm import tqdm"
      ]
    },
    {
      "cell_type": "code",
      "source": [
        "!pip install --q torchsummary"
      ],
      "metadata": {
        "id": "I9tGdcJe-Ip7"
      },
      "execution_count": 2,
      "outputs": []
    },
    {
      "cell_type": "markdown",
      "source": [
        "# Custom_Resnet"
      ],
      "metadata": {
        "id": "wGx9RDAw-L5T"
      }
    },
    {
      "cell_type": "code",
      "source": [
        "import torch.nn.functional as F\n",
        "\n",
        "# Define a ResNet block with batch normalization\n",
        "class MyResNetBlock(nn.Module):\n",
        "    def __init__(self, in_channels, out_channels):\n",
        "        super(MyResNetBlock, self).__init__()\n",
        "        self.conv1 = nn.Conv2d(in_channels, out_channels, kernel_size=3, padding=1)\n",
        "        self.bn1 = nn.BatchNorm2d(out_channels)  # Batch normalization\n",
        "        self.activation1 = nn.ELU()\n",
        "        self.conv2 = nn.Conv2d(out_channels, out_channels, kernel_size=3, padding=1)\n",
        "        self.bn2 = nn.BatchNorm2d(out_channels)  # Batch normalization\n",
        "\n",
        "    def forward(self, x):\n",
        "        shortcut = x\n",
        "        x = self.conv1(x)\n",
        "        x = self.bn1(x)\n",
        "        x = self.activation1(x)\n",
        "        x = self.conv2(x)\n",
        "        x = self.bn2(x)\n",
        "        x += shortcut\n",
        "        x = self.activation1(x)\n",
        "        return x\n",
        "\n",
        "# Define the main ResNet model with batch normalization\n",
        "class MyResNet(nn.Module):\n",
        "    def __init__(self):\n",
        "        super(MyResNet, self).__init__()\n",
        "        self.conv1 = nn.Conv2d(3, 32, kernel_size=3, padding=1)\n",
        "        self.bn1 = nn.BatchNorm2d(32)  # Batch normalization\n",
        "        self.activation1 = nn.ELU()\n",
        "        self.conv2 = nn.Conv2d(32, 64, kernel_size=3, padding=1)\n",
        "        self.bn2 = nn.BatchNorm2d(64)  # Batch normalization\n",
        "        self.activation2 = nn.ELU()\n",
        "        self.maxpool1 = nn.MaxPool2d(kernel_size=2)\n",
        "\n",
        "        self.resblock1 = MyResNetBlock(64, 64)\n",
        "        self.maxpool2 = nn.MaxPool2d(kernel_size=2)\n",
        "        self.conv3 = nn.Conv2d(64, 128, kernel_size=3, padding=1)\n",
        "        self.bn3 = nn.BatchNorm2d(128)  # Batch normalization\n",
        "        self.activation3 = nn.ELU()\n",
        "        self.maxpool3 = nn.MaxPool2d(kernel_size=2)\n",
        "        self.conv4 = nn.Conv2d(128, 256, kernel_size=3, padding=1)\n",
        "        self.bn4 = nn.BatchNorm2d(256)  # Batch normalization\n",
        "        self.activation4 = nn.ELU()\n",
        "        self.resblock2 = MyResNetBlock(256, 256)\n",
        "\n",
        "        self.avgpool = nn.AvgPool2d(kernel_size=3, stride=2)\n",
        "        self.flatten = nn.Flatten()\n",
        "        self.dense1 = nn.Linear(256, 256)\n",
        "        self.dense2 = nn.Linear(256, 10)\n",
        "        self.softmax = nn.Softmax(dim=1)\n",
        "\n",
        "    def forward(self, x):\n",
        "        x = self.conv1(x)\n",
        "        x = self.bn1(x)\n",
        "        x = self.activation1(x)\n",
        "        x = self.conv2(x)\n",
        "        x = self.bn2(x)\n",
        "        x = self.activation2(x)\n",
        "        x = self.maxpool1(x)\n",
        "\n",
        "        x = self.resblock1(x)\n",
        "        x = self.conv3(x)\n",
        "        x = self.bn3(x)\n",
        "        x = self.activation3(x)\n",
        "        x = self.maxpool2(x)\n",
        "\n",
        "        x = self.conv4(x)\n",
        "        x = self.bn4(x)\n",
        "        x = self.activation4(x)\n",
        "        x = self.maxpool3(x)\n",
        "        x = self.resblock2(x)\n",
        "        x = self.avgpool(x)\n",
        "        x = self.flatten(x)\n",
        "        x = self.dense1(x)\n",
        "        x = self.dense2(x)\n",
        "        x = self.softmax(x)\n",
        "        return x\n"
      ],
      "metadata": {
        "id": "McKnCNvZ-LhS"
      },
      "execution_count": 3,
      "outputs": []
    },
    {
      "cell_type": "code",
      "source": [
        "from torchsummary import summary\n",
        "\n",
        "# Instantiate the model\n",
        "model = MyResNet()\n",
        "\n",
        "# Move the model to GPU if available\n",
        "device = torch.device(\"cuda\" if torch.cuda.is_available() else \"cpu\")\n",
        "model.to(device)\n",
        "\n",
        "# Print the model summary\n",
        "summary(model, (3, 32, 32))"
      ],
      "metadata": {
        "colab": {
          "base_uri": "https://localhost:8080/"
        },
        "id": "G-6IbKrr_uMP",
        "outputId": "bf312f77-a165-4594-b9d1-1c4474b27e07"
      },
      "execution_count": null,
      "outputs": [
        {
          "output_type": "stream",
          "name": "stdout",
          "text": [
            "----------------------------------------------------------------\n",
            "        Layer (type)               Output Shape         Param #\n",
            "================================================================\n",
            "            Conv2d-1           [-1, 32, 32, 32]             896\n",
            "       BatchNorm2d-2           [-1, 32, 32, 32]              64\n",
            "               ELU-3           [-1, 32, 32, 32]               0\n",
            "            Conv2d-4           [-1, 64, 32, 32]          18,496\n",
            "       BatchNorm2d-5           [-1, 64, 32, 32]             128\n",
            "               ELU-6           [-1, 64, 32, 32]               0\n",
            "         MaxPool2d-7           [-1, 64, 16, 16]               0\n",
            "            Conv2d-8           [-1, 64, 16, 16]          36,928\n",
            "       BatchNorm2d-9           [-1, 64, 16, 16]             128\n",
            "              ELU-10           [-1, 64, 16, 16]               0\n",
            "           Conv2d-11           [-1, 64, 16, 16]          36,928\n",
            "      BatchNorm2d-12           [-1, 64, 16, 16]             128\n",
            "              ELU-13           [-1, 64, 16, 16]               0\n",
            "    MyResNetBlock-14           [-1, 64, 16, 16]               0\n",
            "           Conv2d-15          [-1, 128, 16, 16]          73,856\n",
            "      BatchNorm2d-16          [-1, 128, 16, 16]             256\n",
            "              ELU-17          [-1, 128, 16, 16]               0\n",
            "        MaxPool2d-18            [-1, 128, 8, 8]               0\n",
            "           Conv2d-19            [-1, 256, 8, 8]         295,168\n",
            "      BatchNorm2d-20            [-1, 256, 8, 8]             512\n",
            "              ELU-21            [-1, 256, 8, 8]               0\n",
            "        MaxPool2d-22            [-1, 256, 4, 4]               0\n",
            "           Conv2d-23            [-1, 256, 4, 4]         590,080\n",
            "      BatchNorm2d-24            [-1, 256, 4, 4]             512\n",
            "              ELU-25            [-1, 256, 4, 4]               0\n",
            "           Conv2d-26            [-1, 256, 4, 4]         590,080\n",
            "      BatchNorm2d-27            [-1, 256, 4, 4]             512\n",
            "              ELU-28            [-1, 256, 4, 4]               0\n",
            "    MyResNetBlock-29            [-1, 256, 4, 4]               0\n",
            "        AvgPool2d-30            [-1, 256, 1, 1]               0\n",
            "          Flatten-31                  [-1, 256]               0\n",
            "           Linear-32                  [-1, 256]          65,792\n",
            "           Linear-33                   [-1, 10]           2,570\n",
            "          Softmax-34                   [-1, 10]               0\n",
            "================================================================\n",
            "Total params: 1,713,034\n",
            "Trainable params: 1,713,034\n",
            "Non-trainable params: 0\n",
            "----------------------------------------------------------------\n",
            "Input size (MB): 0.01\n",
            "Forward/backward pass size (MB): 4.69\n",
            "Params size (MB): 6.53\n",
            "Estimated Total Size (MB): 11.24\n",
            "----------------------------------------------------------------\n"
          ]
        }
      ]
    },
    {
      "cell_type": "markdown",
      "source": [
        "# Dataset"
      ],
      "metadata": {
        "id": "1dmfcPXBAA9V"
      }
    },
    {
      "cell_type": "code",
      "source": [
        "# Data augmentation transformations for training data\n",
        "data_augmentation_train = transforms.Compose([\n",
        "    transforms.RandomHorizontalFlip(),  # Randomly flip the image horizontally\n",
        "    transforms.RandomRotation(15),  # Randomly rotate the image by 15 degrees\n",
        "    transforms.RandomVerticalFlip(),  # Randomly flip the image vertically\n",
        "    transforms.ToTensor(),  # Convert the image to a PyTorch tensor\n",
        "    transforms.Normalize((0.5, 0.5, 0.5), (0.5, 0.5, 0.5))  # Normalize the tensor values\n",
        "])\n",
        "\n",
        "# Data preprocessing transformations for test/validation data\n",
        "data_preprocessing_test = transforms.Compose([\n",
        "    transforms.ToTensor(),  # Convert the image to a PyTorch tensor\n",
        "    transforms.Normalize((0.5, 0.5, 0.5), (0.5, 0.5, 0.5)) # Normalize the tensor values\n",
        "])\n",
        "\n",
        "\n",
        "# Load CIFAR-10 dataset\n",
        "# Training set with data augmentation\n",
        "train_dataset = datasets.CIFAR10(root='./data', train=True, download=True, transform=data_augmentation_train)\n",
        "# Test set with data preprocessing\n",
        "test_dataset = datasets.CIFAR10(root='./data', train=False, download=True, transform=data_preprocessing_test)\n",
        "\n",
        "# Splitting the training dataset into training and validation sets\n",
        "train_size = int(0.9 * len(train_dataset))\n",
        "val_size = len(train_dataset) - train_size\n",
        "train_dataset, val_dataset = random_split(train_dataset, [train_size, val_size])\n",
        "\n",
        "# Data loaders\n",
        "batch_size = 128\n",
        "# Training data loader\n",
        "train_loader = DataLoader(train_dataset, batch_size=batch_size, shuffle=True)\n",
        "# Validation data loader\n",
        "val_loader = DataLoader(val_dataset, batch_size=batch_size, shuffle=False)\n",
        "# Test data loader\n",
        "test_loader = DataLoader(test_dataset, batch_size=batch_size, shuffle=False)"
      ],
      "metadata": {
        "colab": {
          "base_uri": "https://localhost:8080/"
        },
        "id": "KrP_JVyC_0bH",
        "outputId": "cdc93840-0bd3-4aba-9bc1-9305daa33579"
      },
      "execution_count": null,
      "outputs": [
        {
          "output_type": "stream",
          "name": "stdout",
          "text": [
            "Downloading https://www.cs.toronto.edu/~kriz/cifar-10-python.tar.gz to ./data/cifar-10-python.tar.gz\n"
          ]
        },
        {
          "output_type": "stream",
          "name": "stderr",
          "text": [
            "100%|██████████| 170498071/170498071 [00:13<00:00, 12343558.29it/s]\n"
          ]
        },
        {
          "output_type": "stream",
          "name": "stdout",
          "text": [
            "Extracting ./data/cifar-10-python.tar.gz to ./data\n",
            "Files already downloaded and verified\n"
          ]
        }
      ]
    },
    {
      "cell_type": "markdown",
      "source": [
        "# Training"
      ],
      "metadata": {
        "id": "X0vmmEIgAEk0"
      }
    },
    {
      "cell_type": "code",
      "source": [
        "device = torch.device(\"cuda:0\" if torch.cuda.is_available() else \"cpu\")\n",
        "model = MyResNet().to(device)"
      ],
      "metadata": {
        "id": "eGFW4aOvACc0"
      },
      "execution_count": null,
      "outputs": []
    },
    {
      "cell_type": "code",
      "source": [
        "# Optimizer, Learning Rate Scheduler, and Loss Criterion\n",
        "# Stochastic Gradient Descent (SGD) optimizer\n",
        "optimizer = optim.SGD(model.parameters(), lr=0.01, momentum=0.9)\n",
        "# Learning rate scheduler with step decay\n",
        "scheduler = StepLR(optimizer, step_size=50, gamma=0.1)\n",
        "# CrossEntropyLoss criterion for classification tasks\n",
        "criterion = nn.CrossEntropyLoss()"
      ],
      "metadata": {
        "id": "Vs-S6tgxAG4O"
      },
      "execution_count": null,
      "outputs": []
    },
    {
      "cell_type": "code",
      "source": [
        "from tqdm import tqdm\n",
        "\n",
        "train_losses = []\n",
        "train_accuracies = []\n",
        "val_losses = []\n",
        "val_accuracies = []\n",
        "best_val_accuracy = 0\n",
        "best_model_weights = None\n",
        "\n",
        "# Number of epochs\n",
        "epochs = 100\n",
        "\n",
        "# Training loop\n",
        "for epoch in range(1, epochs + 1):\n",
        "    # Training\n",
        "    model.train()\n",
        "    total_loss = 0\n",
        "    correct = 0\n",
        "    total_samples = 0\n",
        "    for data, target in tqdm(train_loader):\n",
        "        data, target = data.to(device), target.to(device)\n",
        "        optimizer.zero_grad()\n",
        "        output = model(data)\n",
        "        loss = criterion(output, target)\n",
        "        loss.backward()\n",
        "        optimizer.step()\n",
        "\n",
        "        # Compute training accuracy\n",
        "        pred = output.argmax(dim=1, keepdim=True)\n",
        "        correct += pred.eq(target.view_as(pred)).sum().item()\n",
        "        total_samples += data.size(0)\n",
        "\n",
        "        total_loss += loss.item()\n",
        "\n",
        "    # Calculate average training loss and accuracy\n",
        "    average_loss = total_loss / len(train_loader.dataset)\n",
        "    accuracy_train = correct / total_samples\n",
        "\n",
        "    print(f'Train Epoch: {epoch}, Average Loss: {average_loss:.4f}, Accuracy: {accuracy_train:.2}')\n",
        "\n",
        "    # Validation\n",
        "    model.eval()\n",
        "    val_loss = 0\n",
        "    correct = 0\n",
        "    with torch.no_grad():\n",
        "        for data, target in val_loader:\n",
        "            data, target = data.to(device), target.to(device)\n",
        "            output = model(data)\n",
        "            val_loss += criterion(output, target).item()\n",
        "            pred = output.argmax(dim=1, keepdim=True)\n",
        "            correct += pred.eq(target.view_as(pred)).sum().item()\n",
        "\n",
        "    val_loss /= len(val_loader.dataset)\n",
        "    accuracy_val = correct / len(val_loader.dataset)\n",
        "    print(f'Validation set: Average loss: {val_loss:.4f}, Accuracy: {accuracy_val:.2f}')\n",
        "\n",
        "    # Append values for plotting\n",
        "    train_losses.append(average_loss)\n",
        "    train_accuracies.append(accuracy_train)\n",
        "\n",
        "    # Append values for plotting\n",
        "    val_losses.append(val_loss)\n",
        "    val_accuracies.append(accuracy_val)\n",
        "\n",
        "    if accuracy_val > best_val_accuracy:\n",
        "       best_val_accuracy = accuracy_val\n",
        "       best_model_weights = model.state_dict()\n",
        "\n",
        "    scheduler.step()"
      ],
      "metadata": {
        "colab": {
          "base_uri": "https://localhost:8080/"
        },
        "id": "KPV1pheSAIa7",
        "outputId": "c9c97fc6-0c99-456c-ddb7-48ee929db1e0"
      },
      "execution_count": null,
      "outputs": [
        {
          "metadata": {
            "tags": null
          },
          "name": "stderr",
          "output_type": "stream",
          "text": [
            "100%|██████████| 352/352 [00:42<00:00,  8.24it/s]\n"
          ]
        },
        {
          "metadata": {
            "tags": null
          },
          "name": "stdout",
          "output_type": "stream",
          "text": [
            "Train Epoch: 1, Average Loss: 0.0164, Accuracy: 0.37\n",
            "Validation set: Average loss: 0.0163, Accuracy: 0.42\n"
          ]
        },
        {
          "metadata": {
            "tags": null
          },
          "name": "stderr",
          "output_type": "stream",
          "text": [
            "100%|██████████| 352/352 [00:30<00:00, 11.64it/s]\n"
          ]
        },
        {
          "metadata": {
            "tags": null
          },
          "name": "stdout",
          "output_type": "stream",
          "text": [
            "Train Epoch: 2, Average Loss: 0.0155, Accuracy: 0.48\n",
            "Validation set: Average loss: 0.0157, Accuracy: 0.50\n"
          ]
        },
        {
          "metadata": {
            "tags": null
          },
          "name": "stderr",
          "output_type": "stream",
          "text": [
            "100%|██████████| 352/352 [00:30<00:00, 11.51it/s]\n"
          ]
        },
        {
          "metadata": {
            "tags": null
          },
          "name": "stdout",
          "output_type": "stream",
          "text": [
            "Train Epoch: 3, Average Loss: 0.0151, Accuracy: 0.54\n",
            "Validation set: Average loss: 0.0154, Accuracy: 0.53\n"
          ]
        },
        {
          "metadata": {
            "tags": null
          },
          "name": "stderr",
          "output_type": "stream",
          "text": [
            "100%|██████████| 352/352 [00:30<00:00, 11.42it/s]\n"
          ]
        },
        {
          "metadata": {
            "tags": null
          },
          "name": "stdout",
          "output_type": "stream",
          "text": [
            "Train Epoch: 4, Average Loss: 0.0148, Accuracy: 0.57\n",
            "Validation set: Average loss: 0.0151, Accuracy: 0.57\n"
          ]
        },
        {
          "metadata": {
            "tags": null
          },
          "name": "stderr",
          "output_type": "stream",
          "text": [
            "100%|██████████| 352/352 [00:30<00:00, 11.62it/s]\n"
          ]
        },
        {
          "metadata": {
            "tags": null
          },
          "name": "stdout",
          "output_type": "stream",
          "text": [
            "Train Epoch: 5, Average Loss: 0.0147, Accuracy: 0.58\n",
            "Validation set: Average loss: 0.0151, Accuracy: 0.57\n"
          ]
        },
        {
          "metadata": {
            "tags": null
          },
          "name": "stderr",
          "output_type": "stream",
          "text": [
            "100%|██████████| 352/352 [00:30<00:00, 11.37it/s]\n"
          ]
        },
        {
          "metadata": {
            "tags": null
          },
          "name": "stdout",
          "output_type": "stream",
          "text": [
            "Train Epoch: 6, Average Loss: 0.0146, Accuracy: 0.6\n",
            "Validation set: Average loss: 0.0155, Accuracy: 0.53\n"
          ]
        },
        {
          "metadata": {
            "tags": null
          },
          "name": "stderr",
          "output_type": "stream",
          "text": [
            "100%|██████████| 352/352 [00:29<00:00, 11.75it/s]\n"
          ]
        },
        {
          "metadata": {
            "tags": null
          },
          "name": "stdout",
          "output_type": "stream",
          "text": [
            "Train Epoch: 7, Average Loss: 0.0145, Accuracy: 0.61\n",
            "Validation set: Average loss: 0.0149, Accuracy: 0.60\n"
          ]
        },
        {
          "metadata": {
            "tags": null
          },
          "name": "stderr",
          "output_type": "stream",
          "text": [
            "100%|██████████| 352/352 [00:30<00:00, 11.72it/s]\n"
          ]
        },
        {
          "metadata": {
            "tags": null
          },
          "name": "stdout",
          "output_type": "stream",
          "text": [
            "Train Epoch: 8, Average Loss: 0.0144, Accuracy: 0.62\n",
            "Validation set: Average loss: 0.0150, Accuracy: 0.59\n"
          ]
        },
        {
          "metadata": {
            "tags": null
          },
          "name": "stderr",
          "output_type": "stream",
          "text": [
            "100%|██████████| 352/352 [00:30<00:00, 11.55it/s]\n"
          ]
        },
        {
          "metadata": {
            "tags": null
          },
          "name": "stdout",
          "output_type": "stream",
          "text": [
            "Train Epoch: 9, Average Loss: 0.0143, Accuracy: 0.63\n",
            "Validation set: Average loss: 0.0148, Accuracy: 0.61\n"
          ]
        },
        {
          "metadata": {
            "tags": null
          },
          "name": "stderr",
          "output_type": "stream",
          "text": [
            "100%|██████████| 352/352 [00:30<00:00, 11.62it/s]\n"
          ]
        },
        {
          "metadata": {
            "tags": null
          },
          "name": "stdout",
          "output_type": "stream",
          "text": [
            "Train Epoch: 10, Average Loss: 0.0142, Accuracy: 0.64\n",
            "Validation set: Average loss: 0.0147, Accuracy: 0.61\n"
          ]
        },
        {
          "metadata": {
            "tags": null
          },
          "name": "stderr",
          "output_type": "stream",
          "text": [
            "100%|██████████| 352/352 [00:30<00:00, 11.58it/s]\n"
          ]
        },
        {
          "metadata": {
            "tags": null
          },
          "name": "stdout",
          "output_type": "stream",
          "text": [
            "Train Epoch: 11, Average Loss: 0.0142, Accuracy: 0.65\n",
            "Validation set: Average loss: 0.0147, Accuracy: 0.62\n"
          ]
        },
        {
          "metadata": {
            "tags": null
          },
          "name": "stderr",
          "output_type": "stream",
          "text": [
            "100%|██████████| 352/352 [00:30<00:00, 11.72it/s]\n"
          ]
        },
        {
          "metadata": {
            "tags": null
          },
          "name": "stdout",
          "output_type": "stream",
          "text": [
            "Train Epoch: 12, Average Loss: 0.0141, Accuracy: 0.65\n",
            "Validation set: Average loss: 0.0146, Accuracy: 0.62\n"
          ]
        },
        {
          "metadata": {
            "tags": null
          },
          "name": "stderr",
          "output_type": "stream",
          "text": [
            "100%|██████████| 352/352 [00:30<00:00, 11.67it/s]\n"
          ]
        },
        {
          "metadata": {
            "tags": null
          },
          "name": "stdout",
          "output_type": "stream",
          "text": [
            "Train Epoch: 13, Average Loss: 0.0141, Accuracy: 0.66\n",
            "Validation set: Average loss: 0.0145, Accuracy: 0.65\n"
          ]
        },
        {
          "metadata": {
            "tags": null
          },
          "name": "stderr",
          "output_type": "stream",
          "text": [
            "100%|██████████| 352/352 [00:30<00:00, 11.41it/s]\n"
          ]
        },
        {
          "metadata": {
            "tags": null
          },
          "name": "stdout",
          "output_type": "stream",
          "text": [
            "Train Epoch: 14, Average Loss: 0.0140, Accuracy: 0.67\n",
            "Validation set: Average loss: 0.0144, Accuracy: 0.66\n"
          ]
        },
        {
          "metadata": {
            "tags": null
          },
          "name": "stderr",
          "output_type": "stream",
          "text": [
            "100%|██████████| 352/352 [00:30<00:00, 11.71it/s]\n"
          ]
        },
        {
          "metadata": {
            "tags": null
          },
          "name": "stdout",
          "output_type": "stream",
          "text": [
            "Train Epoch: 15, Average Loss: 0.0139, Accuracy: 0.68\n",
            "Validation set: Average loss: 0.0143, Accuracy: 0.67\n"
          ]
        },
        {
          "metadata": {
            "tags": null
          },
          "name": "stderr",
          "output_type": "stream",
          "text": [
            "100%|██████████| 352/352 [00:30<00:00, 11.57it/s]\n"
          ]
        },
        {
          "metadata": {
            "tags": null
          },
          "name": "stdout",
          "output_type": "stream",
          "text": [
            "Train Epoch: 16, Average Loss: 0.0139, Accuracy: 0.68\n",
            "Validation set: Average loss: 0.0145, Accuracy: 0.65\n"
          ]
        },
        {
          "metadata": {
            "tags": null
          },
          "name": "stderr",
          "output_type": "stream",
          "text": [
            "100%|██████████| 352/352 [00:30<00:00, 11.72it/s]\n"
          ]
        },
        {
          "metadata": {
            "tags": null
          },
          "name": "stdout",
          "output_type": "stream",
          "text": [
            "Train Epoch: 17, Average Loss: 0.0139, Accuracy: 0.69\n",
            "Validation set: Average loss: 0.0144, Accuracy: 0.66\n"
          ]
        },
        {
          "metadata": {
            "tags": null
          },
          "name": "stderr",
          "output_type": "stream",
          "text": [
            "100%|██████████| 352/352 [00:29<00:00, 11.80it/s]\n"
          ]
        },
        {
          "metadata": {
            "tags": null
          },
          "name": "stdout",
          "output_type": "stream",
          "text": [
            "Train Epoch: 18, Average Loss: 0.0138, Accuracy: 0.7\n",
            "Validation set: Average loss: 0.0141, Accuracy: 0.69\n"
          ]
        },
        {
          "metadata": {
            "tags": null
          },
          "name": "stderr",
          "output_type": "stream",
          "text": [
            "100%|██████████| 352/352 [00:30<00:00, 11.54it/s]\n"
          ]
        },
        {
          "metadata": {
            "tags": null
          },
          "name": "stdout",
          "output_type": "stream",
          "text": [
            "Train Epoch: 19, Average Loss: 0.0138, Accuracy: 0.7\n",
            "Validation set: Average loss: 0.0143, Accuracy: 0.68\n"
          ]
        },
        {
          "metadata": {
            "tags": null
          },
          "name": "stderr",
          "output_type": "stream",
          "text": [
            "100%|██████████| 352/352 [00:30<00:00, 11.68it/s]\n"
          ]
        },
        {
          "metadata": {
            "tags": null
          },
          "name": "stdout",
          "output_type": "stream",
          "text": [
            "Train Epoch: 20, Average Loss: 0.0138, Accuracy: 0.7\n",
            "Validation set: Average loss: 0.0145, Accuracy: 0.65\n"
          ]
        },
        {
          "metadata": {
            "tags": null
          },
          "name": "stderr",
          "output_type": "stream",
          "text": [
            "100%|██████████| 352/352 [00:30<00:00, 11.49it/s]\n"
          ]
        },
        {
          "metadata": {
            "tags": null
          },
          "name": "stdout",
          "output_type": "stream",
          "text": [
            "Train Epoch: 21, Average Loss: 0.0137, Accuracy: 0.71\n",
            "Validation set: Average loss: 0.0142, Accuracy: 0.68\n"
          ]
        },
        {
          "metadata": {
            "tags": null
          },
          "name": "stderr",
          "output_type": "stream",
          "text": [
            "100%|██████████| 352/352 [00:29<00:00, 11.75it/s]\n"
          ]
        },
        {
          "metadata": {
            "tags": null
          },
          "name": "stdout",
          "output_type": "stream",
          "text": [
            "Train Epoch: 22, Average Loss: 0.0137, Accuracy: 0.71\n",
            "Validation set: Average loss: 0.0143, Accuracy: 0.68\n"
          ]
        },
        {
          "metadata": {
            "tags": null
          },
          "name": "stderr",
          "output_type": "stream",
          "text": [
            "100%|██████████| 352/352 [00:30<00:00, 11.67it/s]\n"
          ]
        },
        {
          "metadata": {
            "tags": null
          },
          "name": "stdout",
          "output_type": "stream",
          "text": [
            "Train Epoch: 23, Average Loss: 0.0136, Accuracy: 0.72\n",
            "Validation set: Average loss: 0.0141, Accuracy: 0.69\n"
          ]
        },
        {
          "metadata": {
            "tags": null
          },
          "name": "stderr",
          "output_type": "stream",
          "text": [
            "100%|██████████| 352/352 [00:30<00:00, 11.47it/s]\n"
          ]
        },
        {
          "metadata": {
            "tags": null
          },
          "name": "stdout",
          "output_type": "stream",
          "text": [
            "Train Epoch: 24, Average Loss: 0.0136, Accuracy: 0.72\n",
            "Validation set: Average loss: 0.0140, Accuracy: 0.71\n"
          ]
        },
        {
          "metadata": {
            "tags": null
          },
          "name": "stderr",
          "output_type": "stream",
          "text": [
            "100%|██████████| 352/352 [00:30<00:00, 11.58it/s]\n"
          ]
        },
        {
          "metadata": {
            "tags": null
          },
          "name": "stdout",
          "output_type": "stream",
          "text": [
            "Train Epoch: 25, Average Loss: 0.0136, Accuracy: 0.72\n",
            "Validation set: Average loss: 0.0140, Accuracy: 0.71\n"
          ]
        },
        {
          "metadata": {
            "tags": null
          },
          "name": "stderr",
          "output_type": "stream",
          "text": [
            "100%|██████████| 352/352 [00:30<00:00, 11.62it/s]\n"
          ]
        },
        {
          "metadata": {
            "tags": null
          },
          "name": "stdout",
          "output_type": "stream",
          "text": [
            "Train Epoch: 26, Average Loss: 0.0136, Accuracy: 0.73\n",
            "Validation set: Average loss: 0.0141, Accuracy: 0.70\n"
          ]
        },
        {
          "metadata": {
            "tags": null
          },
          "name": "stderr",
          "output_type": "stream",
          "text": [
            "100%|██████████| 352/352 [00:29<00:00, 11.75it/s]\n"
          ]
        },
        {
          "metadata": {
            "tags": null
          },
          "name": "stdout",
          "output_type": "stream",
          "text": [
            "Train Epoch: 27, Average Loss: 0.0136, Accuracy: 0.73\n",
            "Validation set: Average loss: 0.0140, Accuracy: 0.71\n"
          ]
        },
        {
          "metadata": {
            "tags": null
          },
          "name": "stderr",
          "output_type": "stream",
          "text": [
            "100%|██████████| 352/352 [00:29<00:00, 11.75it/s]\n"
          ]
        },
        {
          "metadata": {
            "tags": null
          },
          "name": "stdout",
          "output_type": "stream",
          "text": [
            "Train Epoch: 28, Average Loss: 0.0135, Accuracy: 0.73\n",
            "Validation set: Average loss: 0.0140, Accuracy: 0.71\n"
          ]
        },
        {
          "metadata": {
            "tags": null
          },
          "name": "stderr",
          "output_type": "stream",
          "text": [
            "100%|██████████| 352/352 [00:30<00:00, 11.56it/s]\n"
          ]
        },
        {
          "metadata": {
            "tags": null
          },
          "name": "stdout",
          "output_type": "stream",
          "text": [
            "Train Epoch: 29, Average Loss: 0.0135, Accuracy: 0.73\n",
            "Validation set: Average loss: 0.0141, Accuracy: 0.70\n"
          ]
        },
        {
          "metadata": {
            "tags": null
          },
          "name": "stderr",
          "output_type": "stream",
          "text": [
            "100%|██████████| 352/352 [00:29<00:00, 11.79it/s]\n"
          ]
        },
        {
          "metadata": {
            "tags": null
          },
          "name": "stdout",
          "output_type": "stream",
          "text": [
            "Train Epoch: 30, Average Loss: 0.0135, Accuracy: 0.73\n",
            "Validation set: Average loss: 0.0141, Accuracy: 0.71\n"
          ]
        },
        {
          "metadata": {
            "tags": null
          },
          "name": "stderr",
          "output_type": "stream",
          "text": [
            "100%|██████████| 352/352 [00:30<00:00, 11.70it/s]\n"
          ]
        },
        {
          "metadata": {
            "tags": null
          },
          "name": "stdout",
          "output_type": "stream",
          "text": [
            "Train Epoch: 31, Average Loss: 0.0135, Accuracy: 0.74\n",
            "Validation set: Average loss: 0.0142, Accuracy: 0.69\n"
          ]
        },
        {
          "metadata": {
            "tags": null
          },
          "name": "stderr",
          "output_type": "stream",
          "text": [
            "100%|██████████| 352/352 [00:30<00:00, 11.63it/s]\n"
          ]
        },
        {
          "metadata": {
            "tags": null
          },
          "name": "stdout",
          "output_type": "stream",
          "text": [
            "Train Epoch: 32, Average Loss: 0.0134, Accuracy: 0.74\n",
            "Validation set: Average loss: 0.0139, Accuracy: 0.73\n"
          ]
        },
        {
          "metadata": {
            "tags": null
          },
          "name": "stderr",
          "output_type": "stream",
          "text": [
            "100%|██████████| 352/352 [00:29<00:00, 11.81it/s]\n"
          ]
        },
        {
          "metadata": {
            "tags": null
          },
          "name": "stdout",
          "output_type": "stream",
          "text": [
            "Train Epoch: 33, Average Loss: 0.0134, Accuracy: 0.74\n",
            "Validation set: Average loss: 0.0139, Accuracy: 0.72\n"
          ]
        },
        {
          "metadata": {
            "tags": null
          },
          "name": "stderr",
          "output_type": "stream",
          "text": [
            "100%|██████████| 352/352 [00:30<00:00, 11.44it/s]\n"
          ]
        },
        {
          "metadata": {
            "tags": null
          },
          "name": "stdout",
          "output_type": "stream",
          "text": [
            "Train Epoch: 34, Average Loss: 0.0134, Accuracy: 0.75\n",
            "Validation set: Average loss: 0.0140, Accuracy: 0.71\n"
          ]
        },
        {
          "metadata": {
            "tags": null
          },
          "name": "stderr",
          "output_type": "stream",
          "text": [
            "100%|██████████| 352/352 [00:29<00:00, 11.77it/s]\n"
          ]
        },
        {
          "metadata": {
            "tags": null
          },
          "name": "stdout",
          "output_type": "stream",
          "text": [
            "Train Epoch: 35, Average Loss: 0.0134, Accuracy: 0.75\n",
            "Validation set: Average loss: 0.0139, Accuracy: 0.73\n"
          ]
        },
        {
          "metadata": {
            "tags": null
          },
          "name": "stderr",
          "output_type": "stream",
          "text": [
            "100%|██████████| 352/352 [00:29<00:00, 11.82it/s]\n"
          ]
        },
        {
          "metadata": {
            "tags": null
          },
          "name": "stdout",
          "output_type": "stream",
          "text": [
            "Train Epoch: 36, Average Loss: 0.0134, Accuracy: 0.75\n",
            "Validation set: Average loss: 0.0139, Accuracy: 0.73\n"
          ]
        },
        {
          "metadata": {
            "tags": null
          },
          "name": "stderr",
          "output_type": "stream",
          "text": [
            "100%|██████████| 352/352 [00:29<00:00, 11.81it/s]\n"
          ]
        },
        {
          "metadata": {
            "tags": null
          },
          "name": "stdout",
          "output_type": "stream",
          "text": [
            "Train Epoch: 37, Average Loss: 0.0133, Accuracy: 0.76\n",
            "Validation set: Average loss: 0.0140, Accuracy: 0.72\n"
          ]
        },
        {
          "metadata": {
            "tags": null
          },
          "name": "stderr",
          "output_type": "stream",
          "text": [
            "100%|██████████| 352/352 [00:29<00:00, 11.83it/s]\n"
          ]
        },
        {
          "metadata": {
            "tags": null
          },
          "name": "stdout",
          "output_type": "stream",
          "text": [
            "Train Epoch: 38, Average Loss: 0.0133, Accuracy: 0.75\n",
            "Validation set: Average loss: 0.0139, Accuracy: 0.72\n"
          ]
        },
        {
          "metadata": {
            "tags": null
          },
          "name": "stderr",
          "output_type": "stream",
          "text": [
            "100%|██████████| 352/352 [00:30<00:00, 11.47it/s]\n"
          ]
        },
        {
          "metadata": {
            "tags": null
          },
          "name": "stdout",
          "output_type": "stream",
          "text": [
            "Train Epoch: 39, Average Loss: 0.0133, Accuracy: 0.76\n",
            "Validation set: Average loss: 0.0139, Accuracy: 0.72\n"
          ]
        },
        {
          "metadata": {
            "tags": null
          },
          "name": "stderr",
          "output_type": "stream",
          "text": [
            "100%|██████████| 352/352 [00:30<00:00, 11.69it/s]\n"
          ]
        },
        {
          "metadata": {
            "tags": null
          },
          "name": "stdout",
          "output_type": "stream",
          "text": [
            "Train Epoch: 40, Average Loss: 0.0133, Accuracy: 0.76\n",
            "Validation set: Average loss: 0.0138, Accuracy: 0.73\n"
          ]
        },
        {
          "metadata": {
            "tags": null
          },
          "name": "stderr",
          "output_type": "stream",
          "text": [
            "100%|██████████| 352/352 [00:29<00:00, 11.83it/s]\n"
          ]
        },
        {
          "metadata": {
            "tags": null
          },
          "name": "stdout",
          "output_type": "stream",
          "text": [
            "Train Epoch: 41, Average Loss: 0.0133, Accuracy: 0.76\n",
            "Validation set: Average loss: 0.0138, Accuracy: 0.74\n"
          ]
        },
        {
          "metadata": {
            "tags": null
          },
          "name": "stderr",
          "output_type": "stream",
          "text": [
            "100%|██████████| 352/352 [00:30<00:00, 11.68it/s]\n"
          ]
        },
        {
          "metadata": {
            "tags": null
          },
          "name": "stdout",
          "output_type": "stream",
          "text": [
            "Train Epoch: 42, Average Loss: 0.0133, Accuracy: 0.76\n",
            "Validation set: Average loss: 0.0139, Accuracy: 0.73\n"
          ]
        },
        {
          "metadata": {
            "tags": null
          },
          "name": "stderr",
          "output_type": "stream",
          "text": [
            "100%|██████████| 352/352 [00:30<00:00, 11.66it/s]\n"
          ]
        },
        {
          "metadata": {
            "tags": null
          },
          "name": "stdout",
          "output_type": "stream",
          "text": [
            "Train Epoch: 43, Average Loss: 0.0132, Accuracy: 0.77\n",
            "Validation set: Average loss: 0.0140, Accuracy: 0.71\n"
          ]
        },
        {
          "metadata": {
            "tags": null
          },
          "name": "stderr",
          "output_type": "stream",
          "text": [
            "100%|██████████| 352/352 [00:30<00:00, 11.59it/s]\n"
          ]
        },
        {
          "metadata": {
            "tags": null
          },
          "name": "stdout",
          "output_type": "stream",
          "text": [
            "Train Epoch: 44, Average Loss: 0.0132, Accuracy: 0.77\n",
            "Validation set: Average loss: 0.0140, Accuracy: 0.71\n"
          ]
        },
        {
          "metadata": {
            "tags": null
          },
          "name": "stderr",
          "output_type": "stream",
          "text": [
            "100%|██████████| 352/352 [00:30<00:00, 11.63it/s]\n"
          ]
        },
        {
          "metadata": {
            "tags": null
          },
          "name": "stdout",
          "output_type": "stream",
          "text": [
            "Train Epoch: 45, Average Loss: 0.0132, Accuracy: 0.77\n",
            "Validation set: Average loss: 0.0139, Accuracy: 0.73\n"
          ]
        },
        {
          "metadata": {
            "tags": null
          },
          "name": "stderr",
          "output_type": "stream",
          "text": [
            "100%|██████████| 352/352 [00:29<00:00, 11.84it/s]\n"
          ]
        },
        {
          "metadata": {
            "tags": null
          },
          "name": "stdout",
          "output_type": "stream",
          "text": [
            "Train Epoch: 46, Average Loss: 0.0132, Accuracy: 0.77\n",
            "Validation set: Average loss: 0.0138, Accuracy: 0.74\n"
          ]
        },
        {
          "metadata": {
            "tags": null
          },
          "name": "stderr",
          "output_type": "stream",
          "text": [
            "100%|██████████| 352/352 [00:30<00:00, 11.58it/s]\n"
          ]
        },
        {
          "metadata": {
            "tags": null
          },
          "name": "stdout",
          "output_type": "stream",
          "text": [
            "Train Epoch: 47, Average Loss: 0.0132, Accuracy: 0.77\n",
            "Validation set: Average loss: 0.0138, Accuracy: 0.73\n"
          ]
        },
        {
          "metadata": {
            "tags": null
          },
          "name": "stderr",
          "output_type": "stream",
          "text": [
            "100%|██████████| 352/352 [00:30<00:00, 11.68it/s]\n"
          ]
        },
        {
          "metadata": {
            "tags": null
          },
          "name": "stdout",
          "output_type": "stream",
          "text": [
            "Train Epoch: 48, Average Loss: 0.0132, Accuracy: 0.77\n",
            "Validation set: Average loss: 0.0138, Accuracy: 0.74\n"
          ]
        },
        {
          "metadata": {
            "tags": null
          },
          "name": "stderr",
          "output_type": "stream",
          "text": [
            "100%|██████████| 352/352 [00:30<00:00, 11.48it/s]\n"
          ]
        },
        {
          "metadata": {
            "tags": null
          },
          "name": "stdout",
          "output_type": "stream",
          "text": [
            "Train Epoch: 49, Average Loss: 0.0132, Accuracy: 0.78\n",
            "Validation set: Average loss: 0.0138, Accuracy: 0.73\n"
          ]
        },
        {
          "metadata": {
            "tags": null
          },
          "name": "stderr",
          "output_type": "stream",
          "text": [
            "100%|██████████| 352/352 [00:29<00:00, 11.74it/s]\n"
          ]
        },
        {
          "metadata": {
            "tags": null
          },
          "name": "stdout",
          "output_type": "stream",
          "text": [
            "Train Epoch: 50, Average Loss: 0.0131, Accuracy: 0.78\n",
            "Validation set: Average loss: 0.0138, Accuracy: 0.74\n"
          ]
        },
        {
          "metadata": {
            "tags": null
          },
          "name": "stderr",
          "output_type": "stream",
          "text": [
            "100%|██████████| 352/352 [00:29<00:00, 11.84it/s]\n"
          ]
        },
        {
          "metadata": {
            "tags": null
          },
          "name": "stdout",
          "output_type": "stream",
          "text": [
            "Train Epoch: 51, Average Loss: 0.0130, Accuracy: 0.8\n",
            "Validation set: Average loss: 0.0135, Accuracy: 0.77\n"
          ]
        },
        {
          "metadata": {
            "tags": null
          },
          "name": "stderr",
          "output_type": "stream",
          "text": [
            "100%|██████████| 352/352 [00:30<00:00, 11.64it/s]\n"
          ]
        },
        {
          "metadata": {
            "tags": null
          },
          "name": "stdout",
          "output_type": "stream",
          "text": [
            "Train Epoch: 52, Average Loss: 0.0129, Accuracy: 0.81\n",
            "Validation set: Average loss: 0.0134, Accuracy: 0.78\n"
          ]
        },
        {
          "metadata": {
            "tags": null
          },
          "name": "stderr",
          "output_type": "stream",
          "text": [
            "100%|██████████| 352/352 [00:29<00:00, 11.75it/s]\n"
          ]
        },
        {
          "metadata": {
            "tags": null
          },
          "name": "stdout",
          "output_type": "stream",
          "text": [
            "Train Epoch: 53, Average Loss: 0.0129, Accuracy: 0.82\n",
            "Validation set: Average loss: 0.0134, Accuracy: 0.78\n"
          ]
        },
        {
          "metadata": {
            "tags": null
          },
          "name": "stderr",
          "output_type": "stream",
          "text": [
            "100%|██████████| 352/352 [00:29<00:00, 11.75it/s]\n"
          ]
        },
        {
          "metadata": {
            "tags": null
          },
          "name": "stdout",
          "output_type": "stream",
          "text": [
            "Train Epoch: 54, Average Loss: 0.0129, Accuracy: 0.82\n",
            "Validation set: Average loss: 0.0134, Accuracy: 0.78\n"
          ]
        },
        {
          "output_type": "stream",
          "name": "stderr",
          "text": [
            "100%|██████████| 352/352 [00:29<00:00, 11.75it/s]\n"
          ]
        },
        {
          "output_type": "stream",
          "name": "stdout",
          "text": [
            "Train Epoch: 55, Average Loss: 0.0129, Accuracy: 0.82\n",
            "Validation set: Average loss: 0.0134, Accuracy: 0.79\n"
          ]
        },
        {
          "output_type": "stream",
          "name": "stderr",
          "text": [
            "100%|██████████| 352/352 [00:30<00:00, 11.70it/s]\n"
          ]
        },
        {
          "output_type": "stream",
          "name": "stdout",
          "text": [
            "Train Epoch: 56, Average Loss: 0.0128, Accuracy: 0.82\n",
            "Validation set: Average loss: 0.0134, Accuracy: 0.78\n"
          ]
        },
        {
          "output_type": "stream",
          "name": "stderr",
          "text": [
            "100%|██████████| 352/352 [00:29<00:00, 12.03it/s]\n"
          ]
        },
        {
          "output_type": "stream",
          "name": "stdout",
          "text": [
            "Train Epoch: 57, Average Loss: 0.0129, Accuracy: 0.82\n",
            "Validation set: Average loss: 0.0134, Accuracy: 0.79\n"
          ]
        },
        {
          "output_type": "stream",
          "name": "stderr",
          "text": [
            "100%|██████████| 352/352 [00:29<00:00, 12.09it/s]\n"
          ]
        },
        {
          "output_type": "stream",
          "name": "stdout",
          "text": [
            "Train Epoch: 58, Average Loss: 0.0128, Accuracy: 0.82\n",
            "Validation set: Average loss: 0.0134, Accuracy: 0.78\n"
          ]
        },
        {
          "output_type": "stream",
          "name": "stderr",
          "text": [
            "100%|██████████| 352/352 [00:28<00:00, 12.21it/s]\n"
          ]
        },
        {
          "output_type": "stream",
          "name": "stdout",
          "text": [
            "Train Epoch: 59, Average Loss: 0.0128, Accuracy: 0.83\n",
            "Validation set: Average loss: 0.0134, Accuracy: 0.79\n"
          ]
        },
        {
          "output_type": "stream",
          "name": "stderr",
          "text": [
            "100%|██████████| 352/352 [00:29<00:00, 11.77it/s]\n"
          ]
        },
        {
          "output_type": "stream",
          "name": "stdout",
          "text": [
            "Train Epoch: 60, Average Loss: 0.0128, Accuracy: 0.82\n",
            "Validation set: Average loss: 0.0134, Accuracy: 0.78\n"
          ]
        },
        {
          "output_type": "stream",
          "name": "stderr",
          "text": [
            "100%|██████████| 352/352 [00:29<00:00, 12.13it/s]\n"
          ]
        },
        {
          "output_type": "stream",
          "name": "stdout",
          "text": [
            "Train Epoch: 61, Average Loss: 0.0128, Accuracy: 0.82\n",
            "Validation set: Average loss: 0.0134, Accuracy: 0.79\n"
          ]
        },
        {
          "output_type": "stream",
          "name": "stderr",
          "text": [
            "100%|██████████| 352/352 [00:29<00:00, 11.82it/s]\n"
          ]
        },
        {
          "output_type": "stream",
          "name": "stdout",
          "text": [
            "Train Epoch: 62, Average Loss: 0.0128, Accuracy: 0.82\n",
            "Validation set: Average loss: 0.0133, Accuracy: 0.79\n"
          ]
        },
        {
          "output_type": "stream",
          "name": "stderr",
          "text": [
            "100%|██████████| 352/352 [00:28<00:00, 12.17it/s]\n"
          ]
        },
        {
          "output_type": "stream",
          "name": "stdout",
          "text": [
            "Train Epoch: 63, Average Loss: 0.0128, Accuracy: 0.83\n",
            "Validation set: Average loss: 0.0134, Accuracy: 0.79\n"
          ]
        },
        {
          "output_type": "stream",
          "name": "stderr",
          "text": [
            "100%|██████████| 352/352 [00:29<00:00, 12.05it/s]\n"
          ]
        },
        {
          "output_type": "stream",
          "name": "stdout",
          "text": [
            "Train Epoch: 64, Average Loss: 0.0128, Accuracy: 0.83\n",
            "Validation set: Average loss: 0.0134, Accuracy: 0.79\n"
          ]
        },
        {
          "output_type": "stream",
          "name": "stderr",
          "text": [
            "100%|██████████| 352/352 [00:29<00:00, 12.09it/s]\n"
          ]
        },
        {
          "output_type": "stream",
          "name": "stdout",
          "text": [
            "Train Epoch: 65, Average Loss: 0.0128, Accuracy: 0.83\n",
            "Validation set: Average loss: 0.0134, Accuracy: 0.79\n"
          ]
        },
        {
          "output_type": "stream",
          "name": "stderr",
          "text": [
            "100%|██████████| 352/352 [00:28<00:00, 12.27it/s]\n"
          ]
        },
        {
          "output_type": "stream",
          "name": "stdout",
          "text": [
            "Train Epoch: 66, Average Loss: 0.0128, Accuracy: 0.83\n",
            "Validation set: Average loss: 0.0134, Accuracy: 0.78\n"
          ]
        },
        {
          "output_type": "stream",
          "name": "stderr",
          "text": [
            "100%|██████████| 352/352 [00:29<00:00, 12.08it/s]\n"
          ]
        },
        {
          "output_type": "stream",
          "name": "stdout",
          "text": [
            "Train Epoch: 67, Average Loss: 0.0128, Accuracy: 0.83\n",
            "Validation set: Average loss: 0.0134, Accuracy: 0.79\n"
          ]
        },
        {
          "output_type": "stream",
          "name": "stderr",
          "text": [
            "100%|██████████| 352/352 [00:28<00:00, 12.14it/s]\n"
          ]
        },
        {
          "output_type": "stream",
          "name": "stdout",
          "text": [
            "Train Epoch: 68, Average Loss: 0.0128, Accuracy: 0.83\n",
            "Validation set: Average loss: 0.0134, Accuracy: 0.79\n"
          ]
        },
        {
          "output_type": "stream",
          "name": "stderr",
          "text": [
            "100%|██████████| 352/352 [00:30<00:00, 11.55it/s]\n"
          ]
        },
        {
          "output_type": "stream",
          "name": "stdout",
          "text": [
            "Train Epoch: 69, Average Loss: 0.0128, Accuracy: 0.83\n",
            "Validation set: Average loss: 0.0134, Accuracy: 0.79\n"
          ]
        },
        {
          "output_type": "stream",
          "name": "stderr",
          "text": [
            "100%|██████████| 352/352 [00:29<00:00, 11.83it/s]\n"
          ]
        },
        {
          "output_type": "stream",
          "name": "stdout",
          "text": [
            "Train Epoch: 70, Average Loss: 0.0128, Accuracy: 0.83\n",
            "Validation set: Average loss: 0.0134, Accuracy: 0.78\n"
          ]
        },
        {
          "output_type": "stream",
          "name": "stderr",
          "text": [
            "100%|██████████| 352/352 [00:29<00:00, 12.00it/s]\n"
          ]
        },
        {
          "output_type": "stream",
          "name": "stdout",
          "text": [
            "Train Epoch: 71, Average Loss: 0.0128, Accuracy: 0.83\n",
            "Validation set: Average loss: 0.0134, Accuracy: 0.78\n"
          ]
        },
        {
          "output_type": "stream",
          "name": "stderr",
          "text": [
            "100%|██████████| 352/352 [00:29<00:00, 11.77it/s]\n"
          ]
        },
        {
          "output_type": "stream",
          "name": "stdout",
          "text": [
            "Train Epoch: 72, Average Loss: 0.0128, Accuracy: 0.83\n",
            "Validation set: Average loss: 0.0133, Accuracy: 0.80\n"
          ]
        },
        {
          "output_type": "stream",
          "name": "stderr",
          "text": [
            "100%|██████████| 352/352 [00:29<00:00, 11.97it/s]\n"
          ]
        },
        {
          "output_type": "stream",
          "name": "stdout",
          "text": [
            "Train Epoch: 73, Average Loss: 0.0127, Accuracy: 0.83\n",
            "Validation set: Average loss: 0.0134, Accuracy: 0.79\n"
          ]
        },
        {
          "output_type": "stream",
          "name": "stderr",
          "text": [
            "100%|██████████| 352/352 [00:29<00:00, 12.07it/s]\n"
          ]
        },
        {
          "output_type": "stream",
          "name": "stdout",
          "text": [
            "Train Epoch: 74, Average Loss: 0.0127, Accuracy: 0.83\n",
            "Validation set: Average loss: 0.0134, Accuracy: 0.79\n"
          ]
        },
        {
          "output_type": "stream",
          "name": "stderr",
          "text": [
            "100%|██████████| 352/352 [00:29<00:00, 11.84it/s]\n"
          ]
        },
        {
          "output_type": "stream",
          "name": "stdout",
          "text": [
            "Train Epoch: 75, Average Loss: 0.0127, Accuracy: 0.83\n",
            "Validation set: Average loss: 0.0134, Accuracy: 0.79\n"
          ]
        },
        {
          "output_type": "stream",
          "name": "stderr",
          "text": [
            "100%|██████████| 352/352 [00:29<00:00, 12.05it/s]\n"
          ]
        },
        {
          "output_type": "stream",
          "name": "stdout",
          "text": [
            "Train Epoch: 76, Average Loss: 0.0127, Accuracy: 0.83\n",
            "Validation set: Average loss: 0.0134, Accuracy: 0.79\n"
          ]
        },
        {
          "output_type": "stream",
          "name": "stderr",
          "text": [
            "100%|██████████| 352/352 [00:29<00:00, 11.75it/s]\n"
          ]
        },
        {
          "output_type": "stream",
          "name": "stdout",
          "text": [
            "Train Epoch: 77, Average Loss: 0.0127, Accuracy: 0.83\n",
            "Validation set: Average loss: 0.0134, Accuracy: 0.79\n"
          ]
        },
        {
          "output_type": "stream",
          "name": "stderr",
          "text": [
            "100%|██████████| 352/352 [00:29<00:00, 11.97it/s]\n"
          ]
        },
        {
          "output_type": "stream",
          "name": "stdout",
          "text": [
            "Train Epoch: 78, Average Loss: 0.0127, Accuracy: 0.84\n",
            "Validation set: Average loss: 0.0133, Accuracy: 0.80\n"
          ]
        },
        {
          "output_type": "stream",
          "name": "stderr",
          "text": [
            "100%|██████████| 352/352 [00:29<00:00, 12.00it/s]\n"
          ]
        },
        {
          "output_type": "stream",
          "name": "stdout",
          "text": [
            "Train Epoch: 79, Average Loss: 0.0127, Accuracy: 0.84\n",
            "Validation set: Average loss: 0.0133, Accuracy: 0.79\n"
          ]
        },
        {
          "output_type": "stream",
          "name": "stderr",
          "text": [
            "100%|██████████| 352/352 [00:29<00:00, 11.90it/s]\n"
          ]
        },
        {
          "output_type": "stream",
          "name": "stdout",
          "text": [
            "Train Epoch: 80, Average Loss: 0.0127, Accuracy: 0.84\n",
            "Validation set: Average loss: 0.0133, Accuracy: 0.79\n"
          ]
        },
        {
          "output_type": "stream",
          "name": "stderr",
          "text": [
            "100%|██████████| 352/352 [00:29<00:00, 11.95it/s]\n"
          ]
        },
        {
          "output_type": "stream",
          "name": "stdout",
          "text": [
            "Train Epoch: 81, Average Loss: 0.0127, Accuracy: 0.84\n",
            "Validation set: Average loss: 0.0133, Accuracy: 0.79\n"
          ]
        },
        {
          "output_type": "stream",
          "name": "stderr",
          "text": [
            "100%|██████████| 352/352 [00:29<00:00, 11.89it/s]\n"
          ]
        },
        {
          "output_type": "stream",
          "name": "stdout",
          "text": [
            "Train Epoch: 82, Average Loss: 0.0127, Accuracy: 0.84\n",
            "Validation set: Average loss: 0.0133, Accuracy: 0.79\n"
          ]
        },
        {
          "output_type": "stream",
          "name": "stderr",
          "text": [
            "100%|██████████| 352/352 [00:29<00:00, 12.03it/s]\n"
          ]
        },
        {
          "output_type": "stream",
          "name": "stdout",
          "text": [
            "Train Epoch: 83, Average Loss: 0.0127, Accuracy: 0.84\n",
            "Validation set: Average loss: 0.0134, Accuracy: 0.79\n"
          ]
        },
        {
          "output_type": "stream",
          "name": "stderr",
          "text": [
            "100%|██████████| 352/352 [00:29<00:00, 11.98it/s]\n"
          ]
        },
        {
          "output_type": "stream",
          "name": "stdout",
          "text": [
            "Train Epoch: 84, Average Loss: 0.0127, Accuracy: 0.84\n",
            "Validation set: Average loss: 0.0134, Accuracy: 0.79\n"
          ]
        },
        {
          "output_type": "stream",
          "name": "stderr",
          "text": [
            "100%|██████████| 352/352 [00:29<00:00, 11.87it/s]\n"
          ]
        },
        {
          "output_type": "stream",
          "name": "stdout",
          "text": [
            "Train Epoch: 85, Average Loss: 0.0127, Accuracy: 0.84\n",
            "Validation set: Average loss: 0.0133, Accuracy: 0.80\n"
          ]
        },
        {
          "output_type": "stream",
          "name": "stderr",
          "text": [
            "100%|██████████| 352/352 [00:29<00:00, 12.07it/s]\n"
          ]
        },
        {
          "output_type": "stream",
          "name": "stdout",
          "text": [
            "Train Epoch: 86, Average Loss: 0.0127, Accuracy: 0.84\n",
            "Validation set: Average loss: 0.0134, Accuracy: 0.79\n"
          ]
        },
        {
          "output_type": "stream",
          "name": "stderr",
          "text": [
            "100%|██████████| 352/352 [00:29<00:00, 11.82it/s]\n"
          ]
        },
        {
          "output_type": "stream",
          "name": "stdout",
          "text": [
            "Train Epoch: 87, Average Loss: 0.0127, Accuracy: 0.84\n",
            "Validation set: Average loss: 0.0133, Accuracy: 0.80\n"
          ]
        },
        {
          "output_type": "stream",
          "name": "stderr",
          "text": [
            "100%|██████████| 352/352 [00:29<00:00, 11.92it/s]\n"
          ]
        },
        {
          "output_type": "stream",
          "name": "stdout",
          "text": [
            "Train Epoch: 88, Average Loss: 0.0127, Accuracy: 0.84\n",
            "Validation set: Average loss: 0.0133, Accuracy: 0.80\n"
          ]
        },
        {
          "output_type": "stream",
          "name": "stderr",
          "text": [
            "100%|██████████| 352/352 [00:29<00:00, 11.95it/s]\n"
          ]
        },
        {
          "output_type": "stream",
          "name": "stdout",
          "text": [
            "Train Epoch: 89, Average Loss: 0.0127, Accuracy: 0.84\n",
            "Validation set: Average loss: 0.0133, Accuracy: 0.79\n"
          ]
        },
        {
          "output_type": "stream",
          "name": "stderr",
          "text": [
            "100%|██████████| 352/352 [00:29<00:00, 11.99it/s]\n"
          ]
        },
        {
          "output_type": "stream",
          "name": "stdout",
          "text": [
            "Train Epoch: 90, Average Loss: 0.0127, Accuracy: 0.84\n",
            "Validation set: Average loss: 0.0133, Accuracy: 0.80\n"
          ]
        },
        {
          "output_type": "stream",
          "name": "stderr",
          "text": [
            "100%|██████████| 352/352 [00:29<00:00, 12.09it/s]\n"
          ]
        },
        {
          "output_type": "stream",
          "name": "stdout",
          "text": [
            "Train Epoch: 91, Average Loss: 0.0127, Accuracy: 0.84\n",
            "Validation set: Average loss: 0.0133, Accuracy: 0.79\n"
          ]
        },
        {
          "output_type": "stream",
          "name": "stderr",
          "text": [
            "100%|██████████| 352/352 [00:29<00:00, 11.78it/s]\n"
          ]
        },
        {
          "output_type": "stream",
          "name": "stdout",
          "text": [
            "Train Epoch: 92, Average Loss: 0.0127, Accuracy: 0.84\n",
            "Validation set: Average loss: 0.0133, Accuracy: 0.80\n"
          ]
        },
        {
          "output_type": "stream",
          "name": "stderr",
          "text": [
            "100%|██████████| 352/352 [00:29<00:00, 12.01it/s]\n"
          ]
        },
        {
          "output_type": "stream",
          "name": "stdout",
          "text": [
            "Train Epoch: 93, Average Loss: 0.0127, Accuracy: 0.84\n",
            "Validation set: Average loss: 0.0133, Accuracy: 0.79\n"
          ]
        },
        {
          "output_type": "stream",
          "name": "stderr",
          "text": [
            "100%|██████████| 352/352 [00:29<00:00, 11.93it/s]\n"
          ]
        },
        {
          "output_type": "stream",
          "name": "stdout",
          "text": [
            "Train Epoch: 94, Average Loss: 0.0127, Accuracy: 0.84\n",
            "Validation set: Average loss: 0.0133, Accuracy: 0.79\n"
          ]
        },
        {
          "output_type": "stream",
          "name": "stderr",
          "text": [
            "100%|██████████| 352/352 [00:29<00:00, 11.94it/s]\n"
          ]
        },
        {
          "output_type": "stream",
          "name": "stdout",
          "text": [
            "Train Epoch: 95, Average Loss: 0.0127, Accuracy: 0.84\n",
            "Validation set: Average loss: 0.0133, Accuracy: 0.79\n"
          ]
        },
        {
          "output_type": "stream",
          "name": "stderr",
          "text": [
            "100%|██████████| 352/352 [00:29<00:00, 12.10it/s]\n"
          ]
        },
        {
          "output_type": "stream",
          "name": "stdout",
          "text": [
            "Train Epoch: 96, Average Loss: 0.0127, Accuracy: 0.84\n",
            "Validation set: Average loss: 0.0133, Accuracy: 0.80\n"
          ]
        },
        {
          "output_type": "stream",
          "name": "stderr",
          "text": [
            "100%|██████████| 352/352 [00:29<00:00, 11.93it/s]\n"
          ]
        },
        {
          "output_type": "stream",
          "name": "stdout",
          "text": [
            "Train Epoch: 97, Average Loss: 0.0127, Accuracy: 0.84\n",
            "Validation set: Average loss: 0.0133, Accuracy: 0.80\n"
          ]
        },
        {
          "output_type": "stream",
          "name": "stderr",
          "text": [
            "100%|██████████| 352/352 [00:29<00:00, 11.83it/s]\n"
          ]
        },
        {
          "output_type": "stream",
          "name": "stdout",
          "text": [
            "Train Epoch: 98, Average Loss: 0.0127, Accuracy: 0.84\n",
            "Validation set: Average loss: 0.0133, Accuracy: 0.80\n"
          ]
        },
        {
          "output_type": "stream",
          "name": "stderr",
          "text": [
            "100%|██████████| 352/352 [00:29<00:00, 11.94it/s]\n"
          ]
        },
        {
          "output_type": "stream",
          "name": "stdout",
          "text": [
            "Train Epoch: 99, Average Loss: 0.0127, Accuracy: 0.84\n",
            "Validation set: Average loss: 0.0133, Accuracy: 0.80\n"
          ]
        },
        {
          "output_type": "stream",
          "name": "stderr",
          "text": [
            "100%|██████████| 352/352 [00:29<00:00, 12.05it/s]\n"
          ]
        },
        {
          "output_type": "stream",
          "name": "stdout",
          "text": [
            "Train Epoch: 100, Average Loss: 0.0127, Accuracy: 0.84\n",
            "Validation set: Average loss: 0.0133, Accuracy: 0.81\n"
          ]
        }
      ]
    },
    {
      "cell_type": "code",
      "source": [
        "# Test the model\n",
        "model.eval()\n",
        "test_loss = 0\n",
        "correct = 0\n",
        "with torch.no_grad():\n",
        "    for data, target in test_loader:\n",
        "        data, target = data.to(device), target.to(device)\n",
        "        output = model(data)\n",
        "        test_loss += criterion(output, target).item()\n",
        "        pred = output.argmax(dim=1, keepdim=True)\n",
        "        correct += pred.eq(target.view_as(pred)).sum().item()\n",
        "\n",
        "test_loss /= len(test_loader.dataset)\n",
        "accuracy = correct / len(test_loader.dataset)\n",
        "print(f'Test set: Average loss: {test_loss:.4f}, Accuracy: {accuracy:.2f}')"
      ],
      "metadata": {
        "colab": {
          "base_uri": "https://localhost:8080/"
        },
        "id": "uNaeY9i3AJu8",
        "outputId": "c7527f7a-2397-4333-9b7d-ad8c414cb947"
      },
      "execution_count": null,
      "outputs": [
        {
          "output_type": "stream",
          "name": "stdout",
          "text": [
            "Test set: Average loss: 0.0130, Accuracy: 0.82\n"
          ]
        }
      ]
    },
    {
      "cell_type": "code",
      "source": [
        "# Plotting\n",
        "epochs_range = range(1, epochs + 1)\n",
        "\n",
        "# Plotting Loss\n",
        "plt.figure(figsize=(12, 5))\n",
        "plt.subplot(1, 2, 1)\n",
        "plt.plot(epochs_range, train_losses, label='Training Loss')\n",
        "plt.plot(epochs_range, val_losses, label='Validation Loss')\n",
        "plt.xlabel('Epochs')\n",
        "plt.ylabel('Loss')\n",
        "plt.title('Training and Validation Loss')\n",
        "plt.legend()\n",
        "\n",
        "# Plotting Accuracy\n",
        "plt.subplot(1, 2, 2)\n",
        "plt.plot(epochs_range, train_accuracies, label='Training Accuracy')\n",
        "plt.plot(epochs_range, val_accuracies, label='Validation Accuracy')\n",
        "plt.xlabel('Epochs')\n",
        "plt.ylabel('Accuracy')\n",
        "plt.title('Training and Validation Accuracy')\n",
        "plt.legend()\n",
        "\n",
        "plt.show()"
      ],
      "metadata": {
        "colab": {
          "base_uri": "https://localhost:8080/",
          "height": 487
        },
        "id": "lVhf_Q9rAL8c",
        "outputId": "52824dee-414a-40a4-9a1a-2f3bb9d47207"
      },
      "execution_count": null,
      "outputs": [
        {
          "output_type": "display_data",
          "data": {
            "text/plain": [
              "<Figure size 1200x500 with 2 Axes>"
            ],
            "image/png": "[encoded data removed]"
          },
          "metadata": {}
        }
      ]
    },
    {
      "cell_type": "code",
      "source": [
        "torch.save(model.state_dict(), 'trained_MyResNet_BN.pth')"
      ],
      "metadata": {
        "id": "fvOfmj4MAM-1"
      },
      "execution_count": null,
      "outputs": []
    },
    {
      "cell_type": "markdown",
      "source": [
        "# Metrics"
      ],
      "metadata": {
        "id": "teZp55jlYvbi"
      }
    },
    {
      "cell_type": "code",
      "source": [
        "!git clone https://github.com/K-Hooshanfar/data_complexity_measures"
      ],
      "metadata": {
        "id": "5BM9XZsUAPjq",
        "colab": {
          "base_uri": "https://localhost:8080/"
        },
        "outputId": "5ab50305-2926-4a9f-f365-a94b84143bb3"
      },
      "execution_count": 4,
      "outputs": [
        {
          "output_type": "stream",
          "name": "stdout",
          "text": [
            "Cloning into 'data_complexity_measures'...\n",
            "remote: Enumerating objects: 143, done.\u001b[K\n",
            "remote: Counting objects: 100% (143/143), done.\u001b[K\n",
            "remote: Compressing objects: 100% (130/130), done.\u001b[K\n",
            "remote: Total 143 (delta 82), reused 33 (delta 9), pack-reused 0\u001b[K\n",
            "Receiving objects: 100% (143/143), 144.63 KiB | 5.36 MiB/s, done.\n",
            "Resolving deltas: 100% (82/82), done.\n"
          ]
        }
      ]
    },
    {
      "cell_type": "code",
      "source": [
        "from data_complexity_measures.models.ARH_SeparationIndex import ARH_SeparationIndex\n",
        "import torch\n",
        "from tqdm import tqdm"
      ],
      "metadata": {
        "id": "j7g8jD_cYwfW"
      },
      "execution_count": 4,
      "outputs": []
    },
    {
      "cell_type": "code",
      "source": [
        "# Load the pre-trained model\n",
        "state_dict = torch.load('/content/trained_MyResNet_BN.pth')\n",
        "\n",
        "model = MyResNet()\n",
        "model.load_state_dict(state_dict)"
      ],
      "metadata": {
        "colab": {
          "base_uri": "https://localhost:8080/"
        },
        "id": "4Eix2nk-YyOI",
        "outputId": "57aa0fac-234e-4dec-fc04-6e8446b43077"
      },
      "execution_count": 5,
      "outputs": [
        {
          "output_type": "execute_result",
          "data": {
            "text/plain": [
              "<All keys matched successfully>"
            ]
          },
          "metadata": {},
          "execution_count": 5
        }
      ]
    },
    {
      "cell_type": "code",
      "source": [
        "transform_train = transforms.Compose([\n",
        "    transforms.ToTensor(),\n",
        "    transforms.Normalize((0.5, 0.5, 0.5), (0.5, 0.5, 0.5))\n",
        "])\n",
        "\n",
        "\n",
        "transform_test = transforms.Compose([\n",
        "    transforms.ToTensor(),\n",
        "    transforms.Normalize((0.5, 0.5, 0.5), (0.5, 0.5, 0.5))\n",
        "])"
      ],
      "metadata": {
        "id": "uC_QsSvTY01q"
      },
      "execution_count": 6,
      "outputs": []
    },
    {
      "cell_type": "code",
      "source": [
        "from sklearn.model_selection import train_test_split\n",
        "\n",
        "# Load CIFAR-10 dataset\n",
        "train_dataset = datasets.CIFAR10(root='./data', train=True, download=True, transform=transform_train)\n",
        "test_dataset = datasets.CIFAR10(root='./data', train=False, download=True, transform=transform_test)\n",
        "\n",
        "# Splitting train dataset into train and validation sets\n",
        "train_size = int(0.9 * len(train_dataset))\n",
        "val_size = len(train_dataset) - train_size\n",
        "train_dataset, val_dataset = random_split(train_dataset, [train_size, val_size])\n",
        "\n",
        "# Convert test_dataset to a list or NumPy array\n",
        "test_data_list = [(img, label) for img, label in test_dataset]\n",
        "\n",
        "# Further split train_dataset into train_loader_dataset and 10% balanced subset\n",
        "train_loader_dataset, _ = train_test_split(train_dataset.dataset, train_size=int(0.1 * len(train_dataset)),\n",
        "                                           test_size=None, shuffle=True, stratify=train_dataset.dataset.targets)\n",
        "\n",
        "# Similarly, for the test_loader\n",
        "test_loader_dataset, _ = train_test_split(test_data_list, train_size=int(0.1 * len(test_dataset)),\n",
        "                                          test_size=None, shuffle=True, stratify=test_dataset.targets)\n",
        "\n",
        "# Data loaders\n",
        "train_loader = DataLoader(train_loader_dataset, batch_size=128, shuffle=True)\n",
        "val_loader = DataLoader(val_dataset, batch_size=128, shuffle=False)\n",
        "test_loader = DataLoader(test_loader_dataset, batch_size=128, shuffle=False)\n"
      ],
      "metadata": {
        "colab": {
          "base_uri": "https://localhost:8080/"
        },
        "id": "Sf_kwwTMY1sV",
        "outputId": "e6d68e31-24e8-42fa-9a97-ccd7f0b391cc"
      },
      "execution_count": 7,
      "outputs": [
        {
          "output_type": "stream",
          "name": "stdout",
          "text": [
            "Files already downloaded and verified\n",
            "Files already downloaded and verified\n"
          ]
        }
      ]
    },
    {
      "cell_type": "code",
      "source": [
        "features_per_layer = {}\n",
        "labels = []\n",
        "\n",
        "# Get the total number of layers in the model\n",
        "total_layers = len(list(model.children()))\n",
        "\n",
        "# Exclude the last four layers\n",
        "layers_to_be_deleted = set(list(model.children())[-4:])\n",
        "\n",
        "# Attach hooks to each layer except the excluded ones\n",
        "features_per_layer = {}\n",
        "for name, layer in model.named_children():\n",
        "    if layer not in layers_to_be_deleted:\n",
        "        features_per_layer[name] = []\n",
        "        def hook(module, input, output, name=name):\n",
        "            features_per_layer[name].append(output.detach())\n",
        "        layer.register_forward_hook(hook)"
      ],
      "metadata": {
        "id": "xLjEWcgVY2s2"
      },
      "execution_count": 8,
      "outputs": []
    },
    {
      "cell_type": "code",
      "source": [
        "model.to('cuda:0' if torch.cuda.is_available() else 'cpu')\n",
        "model.eval()\n",
        "device = torch.device(\"cuda\" if torch.cuda.is_available() else \"cpu\")\n",
        "\n",
        "with torch.no_grad():\n",
        "    for inputs, targets in tqdm(train_loader):\n",
        "        inputs = inputs.to(device)\n",
        "        model(inputs)\n",
        "        labels.append(targets.cpu())\n",
        "\n",
        "# Flatten and concatenate\n",
        "for layer_name, layer_features in features_per_layer.items():\n",
        "    if layer_features:\n",
        "        features_per_layer[layer_name] = torch.cat([f.view(f.size(0), -1) for f in layer_features])\n",
        "\n",
        "labels = torch.cat(labels)"
      ],
      "metadata": {
        "colab": {
          "base_uri": "https://localhost:8080/"
        },
        "id": "YLAdr_3CY3qa",
        "outputId": "8946fd95-1d05-480e-e154-15dcb709b385"
      },
      "execution_count": 11,
      "outputs": [
        {
          "output_type": "stream",
          "name": "stderr",
          "text": [
            "100%|██████████| 32/32 [00:01<00:00, 20.71it/s]\n"
          ]
        }
      ]
    },
    {
      "cell_type": "markdown",
      "source": [
        "# SI"
      ],
      "metadata": {
        "id": "O8e-N2rkY5jn"
      }
    },
    {
      "cell_type": "code",
      "source": [
        "si_train = []\n",
        "\n",
        "for layer_name, features in features_per_layer.items():\n",
        "    instance_disturbance = ARH_SeparationIndex(features, labels, normalize=True)\n",
        "    si = instance_disturbance.si_batch(batch_size=1000)\n",
        "    si_train.append((layer_name, si))"
      ],
      "metadata": {
        "colab": {
          "base_uri": "https://localhost:8080/"
        },
        "id": "FJthlFGlY4fE",
        "outputId": "f3095f9f-99aa-4595-f5dd-fd702b5115b1"
      },
      "execution_count": 12,
      "outputs": [
        {
          "output_type": "stream",
          "name": "stdout",
          "text": [
            "Data has been normalized\n"
          ]
        },
        {
          "output_type": "stream",
          "name": "stderr",
          "text": [
            "Calculating SI: 100%|██████████| 5/5 [00:00<00:00, 799.19it/s]\n"
          ]
        },
        {
          "output_type": "stream",
          "name": "stdout",
          "text": [
            "Data has been normalized\n"
          ]
        },
        {
          "output_type": "stream",
          "name": "stderr",
          "text": [
            "Calculating SI: 100%|██████████| 5/5 [00:00<00:00, 3309.90it/s]\n"
          ]
        },
        {
          "output_type": "stream",
          "name": "stdout",
          "text": [
            "Data has been normalized\n"
          ]
        },
        {
          "output_type": "stream",
          "name": "stderr",
          "text": [
            "Calculating SI: 100%|██████████| 5/5 [00:00<00:00, 1176.00it/s]\n"
          ]
        },
        {
          "output_type": "stream",
          "name": "stdout",
          "text": [
            "Data has been normalized\n"
          ]
        },
        {
          "output_type": "stream",
          "name": "stderr",
          "text": [
            "Calculating SI: 100%|██████████| 5/5 [00:00<00:00, 1717.43it/s]\n"
          ]
        },
        {
          "output_type": "stream",
          "name": "stdout",
          "text": [
            "Data has been normalized\n"
          ]
        },
        {
          "output_type": "stream",
          "name": "stderr",
          "text": [
            "Calculating SI: 100%|██████████| 5/5 [00:00<00:00, 4165.98it/s]\n"
          ]
        },
        {
          "output_type": "stream",
          "name": "stdout",
          "text": [
            "Data has been normalized\n"
          ]
        },
        {
          "output_type": "stream",
          "name": "stderr",
          "text": [
            "Calculating SI: 100%|██████████| 5/5 [00:00<00:00, 4214.53it/s]\n"
          ]
        },
        {
          "output_type": "stream",
          "name": "stdout",
          "text": [
            "Data has been normalized\n"
          ]
        },
        {
          "output_type": "stream",
          "name": "stderr",
          "text": [
            "Calculating SI: 100%|██████████| 5/5 [00:00<00:00, 4371.80it/s]\n"
          ]
        },
        {
          "output_type": "stream",
          "name": "stdout",
          "text": [
            "Data has been normalized\n"
          ]
        },
        {
          "output_type": "stream",
          "name": "stderr",
          "text": [
            "Calculating SI: 100%|██████████| 5/5 [00:00<00:00, 3185.22it/s]\n"
          ]
        },
        {
          "output_type": "stream",
          "name": "stdout",
          "text": [
            "Data has been normalized\n"
          ]
        },
        {
          "output_type": "stream",
          "name": "stderr",
          "text": [
            "Calculating SI: 100%|██████████| 5/5 [00:00<00:00, 4449.72it/s]\n"
          ]
        },
        {
          "output_type": "stream",
          "name": "stdout",
          "text": [
            "Data has been normalized\n"
          ]
        },
        {
          "output_type": "stream",
          "name": "stderr",
          "text": [
            "Calculating SI: 100%|██████████| 5/5 [00:00<00:00, 3800.57it/s]\n"
          ]
        },
        {
          "output_type": "stream",
          "name": "stdout",
          "text": [
            "Data has been normalized\n"
          ]
        },
        {
          "output_type": "stream",
          "name": "stderr",
          "text": [
            "Calculating SI: 100%|██████████| 5/5 [00:00<00:00, 3587.94it/s]\n"
          ]
        },
        {
          "output_type": "stream",
          "name": "stdout",
          "text": [
            "Data has been normalized\n"
          ]
        },
        {
          "output_type": "stream",
          "name": "stderr",
          "text": [
            "Calculating SI: 100%|██████████| 5/5 [00:00<00:00, 4110.45it/s]\n"
          ]
        },
        {
          "output_type": "stream",
          "name": "stdout",
          "text": [
            "Data has been normalized\n"
          ]
        },
        {
          "output_type": "stream",
          "name": "stderr",
          "text": [
            "Calculating SI: 100%|██████████| 5/5 [00:00<00:00, 2391.01it/s]\n"
          ]
        },
        {
          "output_type": "stream",
          "name": "stdout",
          "text": [
            "Data has been normalized\n"
          ]
        },
        {
          "output_type": "stream",
          "name": "stderr",
          "text": [
            "Calculating SI: 100%|██████████| 5/5 [00:00<00:00, 1817.76it/s]\n"
          ]
        },
        {
          "output_type": "stream",
          "name": "stdout",
          "text": [
            "Data has been normalized\n"
          ]
        },
        {
          "output_type": "stream",
          "name": "stderr",
          "text": [
            "Calculating SI: 100%|██████████| 5/5 [00:00<00:00, 1654.17it/s]\n"
          ]
        },
        {
          "output_type": "stream",
          "name": "stdout",
          "text": [
            "Data has been normalized\n"
          ]
        },
        {
          "output_type": "stream",
          "name": "stderr",
          "text": [
            "Calculating SI: 100%|██████████| 5/5 [00:00<00:00, 1630.12it/s]\n"
          ]
        },
        {
          "output_type": "stream",
          "name": "stdout",
          "text": [
            "Data has been normalized\n"
          ]
        },
        {
          "output_type": "stream",
          "name": "stderr",
          "text": [
            "Calculating SI: 100%|██████████| 5/5 [00:00<00:00, 4927.52it/s]\n"
          ]
        },
        {
          "output_type": "stream",
          "name": "stdout",
          "text": [
            "Data has been normalized\n"
          ]
        },
        {
          "output_type": "stream",
          "name": "stderr",
          "text": [
            "Calculating SI: 100%|██████████| 5/5 [00:00<00:00, 4081.65it/s]\n"
          ]
        }
      ]
    },
    {
      "cell_type": "code",
      "source": [
        "si_train"
      ],
      "metadata": {
        "colab": {
          "base_uri": "https://localhost:8080/"
        },
        "id": "casvS0rTY6sn",
        "outputId": "21492bd3-1a4c-462f-9915-33fbe9f68330"
      },
      "execution_count": 13,
      "outputs": [
        {
          "output_type": "execute_result",
          "data": {
            "text/plain": [
              "[('conv1', 0.21382716298103333),\n",
              " ('bn1', 0.21382716298103333),\n",
              " ('activation1', 0.2123456746339798),\n",
              " ('conv2', 0.19777777791023254),\n",
              " ('bn2', 0.19777777791023254),\n",
              " ('activation2', 0.1958024650812149),\n",
              " ('maxpool1', 0.2822222113609314),\n",
              " ('resblock1', 0.33530864119529724),\n",
              " ('maxpool2', 0.42641976475715637),\n",
              " ('conv3', 0.37481480836868286),\n",
              " ('bn3', 0.37481480836868286),\n",
              " ('activation3', 0.3883950710296631),\n",
              " ('maxpool3', 0.5634567737579346),\n",
              " ('conv4', 0.5081481337547302),\n",
              " ('bn4', 0.5081481337547302),\n",
              " ('activation4', 0.5279012322425842),\n",
              " ('resblock2', 0.7219753265380859),\n",
              " ('avgpool', 0.7696296572685242)]"
            ]
          },
          "metadata": {},
          "execution_count": 13
        }
      ]
    },
    {
      "cell_type": "code",
      "source": [
        "plt.plot([layer for layer, _ in si_train], [si for _, si in si_train])\n",
        "plt.xlabel('Layer')\n",
        "plt.ylabel('SI')\n",
        "plt.title('SI vs Layer number with BN')\n",
        "plt.xticks(rotation=90)\n",
        "plt.show()"
      ],
      "metadata": {
        "colab": {
          "base_uri": "https://localhost:8080/",
          "height": 536
        },
        "id": "obHsMeEFY7pm",
        "outputId": "b96bbdce-70d7-416d-ceb2-e2197444f0d6"
      },
      "execution_count": 14,
      "outputs": [
        {
          "output_type": "display_data",
          "data": {
            "text/plain": [
              "<Figure size 640x480 with 1 Axes>"
            ],
            "image/png": "[encoded data removed]"
          },
          "metadata": {}
        }
      ]
    },
    {
      "cell_type": "markdown",
      "source": [
        "# Center Si"
      ],
      "metadata": {
        "id": "sO0cb5H7ZB7x"
      }
    },
    {
      "cell_type": "code",
      "source": [
        "csi_train = []\n",
        "\n",
        "for layer_name, features in features_per_layer.items():\n",
        "    instance_disturbance = ARH_SeparationIndex(features, labels, normalize=True)\n",
        "    csi = instance_disturbance.center_si_batch(batch_size=1000)\n",
        "    csi_train.append((layer_name, csi))"
      ],
      "metadata": {
        "colab": {
          "base_uri": "https://localhost:8080/"
        },
        "id": "zmhH6ElxY-rv",
        "outputId": "9bb6444a-1507-405f-d621-7242920efcbc"
      },
      "execution_count": 15,
      "outputs": [
        {
          "output_type": "stream",
          "name": "stdout",
          "text": [
            "Data has been normalized\n"
          ]
        },
        {
          "output_type": "stream",
          "name": "stderr",
          "text": [
            "Calculating CSI: 100%|██████████| 5/5 [00:00<00:00, 2177.05it/s]\n"
          ]
        },
        {
          "output_type": "stream",
          "name": "stdout",
          "text": [
            "Data has been normalized\n"
          ]
        },
        {
          "output_type": "stream",
          "name": "stderr",
          "text": [
            "Calculating CSI: 100%|██████████| 5/5 [00:00<00:00, 2478.02it/s]\n"
          ]
        },
        {
          "output_type": "stream",
          "name": "stdout",
          "text": [
            "Data has been normalized\n"
          ]
        },
        {
          "output_type": "stream",
          "name": "stderr",
          "text": [
            "Calculating CSI: 100%|██████████| 5/5 [00:00<00:00, 1709.59it/s]\n"
          ]
        },
        {
          "output_type": "stream",
          "name": "stdout",
          "text": [
            "Data has been normalized\n"
          ]
        },
        {
          "output_type": "stream",
          "name": "stderr",
          "text": [
            "Calculating CSI: 100%|██████████| 5/5 [00:00<00:00, 363.45it/s]\n"
          ]
        },
        {
          "output_type": "stream",
          "name": "stdout",
          "text": [
            "Data has been normalized\n"
          ]
        },
        {
          "output_type": "stream",
          "name": "stderr",
          "text": [
            "Calculating CSI: 100%|██████████| 5/5 [00:00<00:00, 1232.97it/s]\n"
          ]
        },
        {
          "output_type": "stream",
          "name": "stdout",
          "text": [
            "Data has been normalized\n"
          ]
        },
        {
          "output_type": "stream",
          "name": "stderr",
          "text": [
            "Calculating CSI: 100%|██████████| 5/5 [00:00<00:00, 1216.23it/s]\n"
          ]
        },
        {
          "output_type": "stream",
          "name": "stdout",
          "text": [
            "Data has been normalized\n"
          ]
        },
        {
          "output_type": "stream",
          "name": "stderr",
          "text": [
            "Calculating CSI: 100%|██████████| 5/5 [00:00<00:00, 1225.26it/s]\n"
          ]
        },
        {
          "output_type": "stream",
          "name": "stdout",
          "text": [
            "Data has been normalized\n"
          ]
        },
        {
          "output_type": "stream",
          "name": "stderr",
          "text": [
            "Calculating CSI: 100%|██████████| 5/5 [00:00<00:00, 3270.16it/s]"
          ]
        },
        {
          "output_type": "stream",
          "name": "stdout",
          "text": [
            "Data has been normalized\n"
          ]
        },
        {
          "output_type": "stream",
          "name": "stderr",
          "text": [
            "\n",
            "Calculating CSI: 100%|██████████| 5/5 [00:00<00:00, 2293.22it/s]\n"
          ]
        },
        {
          "output_type": "stream",
          "name": "stdout",
          "text": [
            "Data has been normalized\n"
          ]
        },
        {
          "output_type": "stream",
          "name": "stderr",
          "text": [
            "Calculating CSI: 100%|██████████| 5/5 [00:00<00:00, 1421.61it/s]\n"
          ]
        },
        {
          "output_type": "stream",
          "name": "stdout",
          "text": [
            "Data has been normalized\n"
          ]
        },
        {
          "output_type": "stream",
          "name": "stderr",
          "text": [
            "Calculating CSI: 100%|██████████| 5/5 [00:00<00:00, 1585.75it/s]\n"
          ]
        },
        {
          "output_type": "stream",
          "name": "stdout",
          "text": [
            "Data has been normalized\n"
          ]
        },
        {
          "output_type": "stream",
          "name": "stderr",
          "text": [
            "Calculating CSI: 100%|██████████| 5/5 [00:00<00:00, 1891.03it/s]\n"
          ]
        },
        {
          "output_type": "stream",
          "name": "stdout",
          "text": [
            "Data has been normalized\n"
          ]
        },
        {
          "output_type": "stream",
          "name": "stderr",
          "text": [
            "Calculating CSI: 100%|██████████| 5/5 [00:00<00:00, 1190.35it/s]\n"
          ]
        },
        {
          "output_type": "stream",
          "name": "stdout",
          "text": [
            "Data has been normalized\n"
          ]
        },
        {
          "output_type": "stream",
          "name": "stderr",
          "text": [
            "Calculating CSI: 100%|██████████| 5/5 [00:00<00:00, 1580.73it/s]\n"
          ]
        },
        {
          "output_type": "stream",
          "name": "stdout",
          "text": [
            "Data has been normalized\n"
          ]
        },
        {
          "output_type": "stream",
          "name": "stderr",
          "text": [
            "Calculating CSI: 100%|██████████| 5/5 [00:00<00:00, 1245.04it/s]"
          ]
        },
        {
          "output_type": "stream",
          "name": "stdout",
          "text": [
            "Data has been normalized\n"
          ]
        },
        {
          "output_type": "stream",
          "name": "stderr",
          "text": [
            "\n",
            "Calculating CSI: 100%|██████████| 5/5 [00:00<00:00, 1574.67it/s]"
          ]
        },
        {
          "output_type": "stream",
          "name": "stdout",
          "text": [
            "Data has been normalized\n"
          ]
        },
        {
          "output_type": "stream",
          "name": "stderr",
          "text": [
            "\n",
            "Calculating CSI: 100%|██████████| 5/5 [00:00<00:00, 1715.04it/s]\n"
          ]
        },
        {
          "output_type": "stream",
          "name": "stdout",
          "text": [
            "Data has been normalized\n"
          ]
        },
        {
          "output_type": "stream",
          "name": "stderr",
          "text": [
            "Calculating CSI: 100%|██████████| 5/5 [00:00<00:00, 595.78it/s]\n"
          ]
        }
      ]
    },
    {
      "cell_type": "code",
      "source": [
        "csi_train"
      ],
      "metadata": {
        "colab": {
          "base_uri": "https://localhost:8080/"
        },
        "id": "UZMUeejqaTDv",
        "outputId": "0e4df6ea-b5e6-4d7b-b1fb-56c093a84afa"
      },
      "execution_count": 16,
      "outputs": [
        {
          "output_type": "execute_result",
          "data": {
            "text/plain": [
              "[('conv1', 0.38098764419555664),\n",
              " ('bn1', 0.38098764419555664),\n",
              " ('activation1', 0.39950618147850037),\n",
              " ('conv2', 0.42543208599090576),\n",
              " ('bn2', 0.42543208599090576),\n",
              " ('activation2', 0.43703705072402954),\n",
              " ('maxpool1', 0.49753087759017944),\n",
              " ('resblock1', 0.5837036967277527),\n",
              " ('maxpool2', 0.6039506196975708),\n",
              " ('conv3', 0.583456814289093),\n",
              " ('bn3', 0.583456814289093),\n",
              " ('activation3', 0.5883950591087341),\n",
              " ('maxpool3', 0.6609876751899719),\n",
              " ('conv4', 0.6135802268981934),\n",
              " ('bn4', 0.6135802268981934),\n",
              " ('activation4', 0.621975302696228),\n",
              " ('resblock2', 0.8088889122009277),\n",
              " ('avgpool', 0.8276543021202087)]"
            ]
          },
          "metadata": {},
          "execution_count": 16
        }
      ]
    },
    {
      "cell_type": "code",
      "source": [
        "plt.plot([layer for layer, _ in csi_train], [si for _, si in csi_train])\n",
        "plt.xlabel('Layer')\n",
        "plt.ylabel('SI')\n",
        "plt.title('CSI vs Layer number with BN')\n",
        "plt.xticks(rotation=90)\n",
        "plt.show()"
      ],
      "metadata": {
        "colab": {
          "base_uri": "https://localhost:8080/",
          "height": 536
        },
        "id": "WCVawOf8aUd6",
        "outputId": "e1379353-4e2b-4b01-85cf-e3a7419ce142"
      },
      "execution_count": 17,
      "outputs": [
        {
          "output_type": "display_data",
          "data": {
            "text/plain": [
              "<Figure size 640x480 with 1 Axes>"
            ],
            "image/png": "[encoded data removed]"
          },
          "metadata": {}
        }
      ]
    },
    {
      "cell_type": "markdown",
      "source": [
        "# Metrics of Test Loader"
      ],
      "metadata": {
        "id": "uus0EkvPaldY"
      }
    },
    {
      "cell_type": "code",
      "source": [
        "model.to('cuda:0' if torch.cuda.is_available() else 'cpu')\n",
        "model.eval()\n",
        "device = torch.device(\"cuda\" if torch.cuda.is_available() else \"cpu\")\n",
        "\n",
        "with torch.no_grad():\n",
        "    for inputs, targets in tqdm(test_loader):\n",
        "        inputs = inputs.to(device)\n",
        "        model(inputs)\n",
        "        labels.append(targets.cpu())\n",
        "\n",
        "# Flatten and concatenate\n",
        "for layer_name, layer_features in features_per_layer.items():\n",
        "    if layer_features:\n",
        "        features_per_layer[layer_name] = torch.cat([f.view(f.size(0), -1) for f in layer_features])\n",
        "\n",
        "labels = torch.cat(labels)"
      ],
      "metadata": {
        "colab": {
          "base_uri": "https://localhost:8080/"
        },
        "id": "9KoeE-ulakZY",
        "outputId": "ee44a441-f99a-449c-adef-4b03f17b5d44"
      },
      "execution_count": 9,
      "outputs": [
        {
          "output_type": "stream",
          "name": "stderr",
          "text": [
            "100%|██████████| 8/8 [00:02<00:00,  3.26it/s]\n"
          ]
        }
      ]
    },
    {
      "cell_type": "markdown",
      "source": [
        "# SI"
      ],
      "metadata": {
        "id": "pm-Rvo85ankz"
      }
    },
    {
      "cell_type": "code",
      "source": [
        "si_test = []\n",
        "\n",
        "for layer_name, features in features_per_layer.items():\n",
        "    instance_disturbance = ARH_SeparationIndex(features, labels, normalize=True)\n",
        "    si = instance_disturbance.si_batch(batch_size=1000)\n",
        "    si_test.append((layer_name, si))"
      ],
      "metadata": {
        "colab": {
          "base_uri": "https://localhost:8080/"
        },
        "id": "zJmcOcPIam9S",
        "outputId": "3f08f59b-3527-46d6-83b9-97e6c7783ffc"
      },
      "execution_count": 10,
      "outputs": [
        {
          "output_type": "stream",
          "name": "stdout",
          "text": [
            "Data has been normalized\n"
          ]
        },
        {
          "output_type": "stream",
          "name": "stderr",
          "text": [
            "Calculating SI: 100%|██████████| 1/1 [00:00<00:00, 699.75it/s]\n"
          ]
        },
        {
          "output_type": "stream",
          "name": "stdout",
          "text": [
            "Data has been normalized\n"
          ]
        },
        {
          "output_type": "stream",
          "name": "stderr",
          "text": [
            "Calculating SI: 100%|██████████| 1/1 [00:00<00:00, 923.65it/s]\n"
          ]
        },
        {
          "output_type": "stream",
          "name": "stdout",
          "text": [
            "Data has been normalized\n"
          ]
        },
        {
          "output_type": "stream",
          "name": "stderr",
          "text": [
            "Calculating SI: 100%|██████████| 1/1 [00:00<00:00, 891.65it/s]\n"
          ]
        },
        {
          "output_type": "stream",
          "name": "stdout",
          "text": [
            "Data has been normalized\n"
          ]
        },
        {
          "output_type": "stream",
          "name": "stderr",
          "text": [
            "Calculating SI: 100%|██████████| 1/1 [00:00<00:00, 2299.51it/s]"
          ]
        },
        {
          "output_type": "stream",
          "name": "stdout",
          "text": [
            "Data has been normalized\n"
          ]
        },
        {
          "output_type": "stream",
          "name": "stderr",
          "text": [
            "\n",
            "Calculating SI: 100%|██████████| 1/1 [00:00<00:00, 2312.19it/s]\n"
          ]
        },
        {
          "output_type": "stream",
          "name": "stdout",
          "text": [
            "Data has been normalized\n"
          ]
        },
        {
          "output_type": "stream",
          "name": "stderr",
          "text": [
            "Calculating SI: 100%|██████████| 1/1 [00:00<00:00, 2663.05it/s]\n"
          ]
        },
        {
          "output_type": "stream",
          "name": "stdout",
          "text": [
            "Data has been normalized\n"
          ]
        },
        {
          "output_type": "stream",
          "name": "stderr",
          "text": [
            "Calculating SI: 100%|██████████| 1/1 [00:00<00:00, 2616.53it/s]\n"
          ]
        },
        {
          "output_type": "stream",
          "name": "stdout",
          "text": [
            "Data has been normalized\n"
          ]
        },
        {
          "output_type": "stream",
          "name": "stderr",
          "text": [
            "Calculating SI: 100%|██████████| 1/1 [00:00<00:00, 2646.25it/s]\n"
          ]
        },
        {
          "output_type": "stream",
          "name": "stdout",
          "text": [
            "Data has been normalized\n"
          ]
        },
        {
          "output_type": "stream",
          "name": "stderr",
          "text": [
            "Calculating SI: 100%|██████████| 1/1 [00:00<00:00, 2216.86it/s]\n"
          ]
        },
        {
          "output_type": "stream",
          "name": "stdout",
          "text": [
            "Data has been normalized\n"
          ]
        },
        {
          "output_type": "stream",
          "name": "stderr",
          "text": [
            "Calculating SI: 100%|██████████| 1/1 [00:00<00:00, 1899.59it/s]\n"
          ]
        },
        {
          "output_type": "stream",
          "name": "stdout",
          "text": [
            "Data has been normalized\n"
          ]
        },
        {
          "output_type": "stream",
          "name": "stderr",
          "text": [
            "Calculating SI: 100%|██████████| 1/1 [00:00<00:00, 661.35it/s]\n"
          ]
        },
        {
          "output_type": "stream",
          "name": "stdout",
          "text": [
            "Data has been normalized\n"
          ]
        },
        {
          "output_type": "stream",
          "name": "stderr",
          "text": [
            "Calculating SI: 100%|██████████| 1/1 [00:00<00:00, 2313.46it/s]\n"
          ]
        },
        {
          "output_type": "stream",
          "name": "stdout",
          "text": [
            "Data has been normalized\n"
          ]
        },
        {
          "output_type": "stream",
          "name": "stderr",
          "text": [
            "Calculating SI: 100%|██████████| 1/1 [00:00<00:00, 2918.79it/s]\n"
          ]
        },
        {
          "output_type": "stream",
          "name": "stdout",
          "text": [
            "Data has been normalized\n"
          ]
        },
        {
          "output_type": "stream",
          "name": "stderr",
          "text": [
            "Calculating SI: 100%|██████████| 1/1 [00:00<00:00, 1019.77it/s]\n"
          ]
        },
        {
          "output_type": "stream",
          "name": "stdout",
          "text": [
            "Data has been normalized\n"
          ]
        },
        {
          "output_type": "stream",
          "name": "stderr",
          "text": [
            "Calculating SI: 100%|██████████| 1/1 [00:00<00:00, 3041.55it/s]\n"
          ]
        },
        {
          "output_type": "stream",
          "name": "stdout",
          "text": [
            "Data has been normalized\n"
          ]
        },
        {
          "output_type": "stream",
          "name": "stderr",
          "text": [
            "Calculating SI: 100%|██████████| 1/1 [00:00<00:00, 2493.64it/s]\n"
          ]
        },
        {
          "output_type": "stream",
          "name": "stdout",
          "text": [
            "Data has been normalized\n"
          ]
        },
        {
          "output_type": "stream",
          "name": "stderr",
          "text": [
            "Calculating SI: 100%|██████████| 1/1 [00:00<00:00, 2845.53it/s]\n"
          ]
        },
        {
          "output_type": "stream",
          "name": "stdout",
          "text": [
            "Data has been normalized\n"
          ]
        },
        {
          "output_type": "stream",
          "name": "stderr",
          "text": [
            "Calculating SI: 100%|██████████| 1/1 [00:00<00:00, 2926.94it/s]\n"
          ]
        }
      ]
    },
    {
      "cell_type": "code",
      "source": [
        "si_test"
      ],
      "metadata": {
        "colab": {
          "base_uri": "https://localhost:8080/"
        },
        "id": "rXGGA053apKG",
        "outputId": "862dda28-c5c2-4028-89e3-9808ec780a23"
      },
      "execution_count": 11,
      "outputs": [
        {
          "output_type": "execute_result",
          "data": {
            "text/plain": [
              "[('conv1', 0.20000000298023224),\n",
              " ('bn1', 0.20000000298023224),\n",
              " ('activation1', 0.198888897895813),\n",
              " ('conv2', 0.1922222226858139),\n",
              " ('bn2', 0.1922222226858139),\n",
              " ('activation2', 0.18444444239139557),\n",
              " ('maxpool1', 0.23888888955116272),\n",
              " ('resblock1', 0.2644444406032562),\n",
              " ('maxpool2', 0.3222222328186035),\n",
              " ('conv3', 0.2800000011920929),\n",
              " ('bn3', 0.2800000011920929),\n",
              " ('activation3', 0.30222222208976746),\n",
              " ('maxpool3', 0.4399999976158142),\n",
              " ('conv4', 0.3955555558204651),\n",
              " ('bn4', 0.3955555558204651),\n",
              " ('activation4', 0.4144444465637207),\n",
              " ('resblock2', 0.6222222447395325),\n",
              " ('avgpool', 0.6877778172492981)]"
            ]
          },
          "metadata": {},
          "execution_count": 11
        }
      ]
    },
    {
      "cell_type": "code",
      "source": [
        "plt.plot([layer for layer, _ in si_test], [si for _, si in si_test])\n",
        "plt.xlabel('Layer')\n",
        "plt.ylabel('SI')\n",
        "plt.title('SI vs Layer number with BN')\n",
        "plt.xticks(rotation=90)\n",
        "plt.show()"
      ],
      "metadata": {
        "colab": {
          "base_uri": "https://localhost:8080/",
          "height": 536
        },
        "id": "K9FIUtAnaqjO",
        "outputId": "f1776d2c-e1a0-4298-d177-995103b51dfa"
      },
      "execution_count": 13,
      "outputs": [
        {
          "output_type": "display_data",
          "data": {
            "text/plain": [
              "<Figure size 640x480 with 1 Axes>"
            ],
            "image/png": "[encoded data removed]"
          },
          "metadata": {}
        }
      ]
    },
    {
      "cell_type": "markdown",
      "source": [
        "# Center Si"
      ],
      "metadata": {
        "id": "zp4aZizKbKGj"
      }
    },
    {
      "cell_type": "code",
      "source": [
        "csi_test = []\n",
        "\n",
        "for layer_name, features in features_per_layer.items():\n",
        "    instance_disturbance = ARH_SeparationIndex(features, labels, normalize=True)\n",
        "    csi = instance_disturbance.center_si_batch(batch_size=1000)\n",
        "    csi_test.append((layer_name, csi))"
      ],
      "metadata": {
        "colab": {
          "base_uri": "https://localhost:8080/"
        },
        "id": "tuWt43ALat62",
        "outputId": "d1f3ee4e-4084-4e86-dfea-5d18d4da9148"
      },
      "execution_count": 14,
      "outputs": [
        {
          "output_type": "stream",
          "name": "stdout",
          "text": [
            "Data has been normalized\n"
          ]
        },
        {
          "output_type": "stream",
          "name": "stderr",
          "text": [
            "Calculating CSI: 100%|██████████| 1/1 [00:00<00:00, 169.67it/s]\n"
          ]
        },
        {
          "output_type": "stream",
          "name": "stdout",
          "text": [
            "Data has been normalized\n"
          ]
        },
        {
          "output_type": "stream",
          "name": "stderr",
          "text": [
            "Calculating CSI: 100%|██████████| 1/1 [00:00<00:00, 646.47it/s]\n"
          ]
        },
        {
          "output_type": "stream",
          "name": "stdout",
          "text": [
            "Data has been normalized\n"
          ]
        },
        {
          "output_type": "stream",
          "name": "stderr",
          "text": [
            "Calculating CSI: 100%|██████████| 1/1 [00:00<00:00, 241.01it/s]\n"
          ]
        },
        {
          "output_type": "stream",
          "name": "stdout",
          "text": [
            "Data has been normalized\n"
          ]
        },
        {
          "output_type": "stream",
          "name": "stderr",
          "text": [
            "Calculating CSI: 100%|██████████| 1/1 [00:00<00:00, 362.86it/s]\n"
          ]
        },
        {
          "output_type": "stream",
          "name": "stdout",
          "text": [
            "Data has been normalized\n"
          ]
        },
        {
          "output_type": "stream",
          "name": "stderr",
          "text": [
            "Calculating CSI: 100%|██████████| 1/1 [00:00<00:00, 513.94it/s]\n"
          ]
        },
        {
          "output_type": "stream",
          "name": "stdout",
          "text": [
            "Data has been normalized\n"
          ]
        },
        {
          "output_type": "stream",
          "name": "stderr",
          "text": [
            "Calculating CSI: 100%|██████████| 1/1 [00:00<00:00, 336.86it/s]\n"
          ]
        },
        {
          "output_type": "stream",
          "name": "stdout",
          "text": [
            "Data has been normalized\n"
          ]
        },
        {
          "output_type": "stream",
          "name": "stderr",
          "text": [
            "Calculating CSI: 100%|██████████| 1/1 [00:00<00:00, 85.17it/s]\n"
          ]
        },
        {
          "output_type": "stream",
          "name": "stdout",
          "text": [
            "Data has been normalized\n"
          ]
        },
        {
          "output_type": "stream",
          "name": "stderr",
          "text": [
            "Calculating CSI: 100%|██████████| 1/1 [00:00<00:00, 545.78it/s]\n"
          ]
        },
        {
          "output_type": "stream",
          "name": "stdout",
          "text": [
            "Data has been normalized\n"
          ]
        },
        {
          "output_type": "stream",
          "name": "stderr",
          "text": [
            "Calculating CSI: 100%|██████████| 1/1 [00:00<00:00, 674.43it/s]\n"
          ]
        },
        {
          "output_type": "stream",
          "name": "stdout",
          "text": [
            "Data has been normalized\n"
          ]
        },
        {
          "output_type": "stream",
          "name": "stderr",
          "text": [
            "Calculating CSI: 100%|██████████| 1/1 [00:00<00:00, 101.06it/s]\n"
          ]
        },
        {
          "output_type": "stream",
          "name": "stdout",
          "text": [
            "Data has been normalized\n"
          ]
        },
        {
          "output_type": "stream",
          "name": "stderr",
          "text": [
            "Calculating CSI: 100%|██████████| 1/1 [00:00<00:00, 1572.67it/s]\n"
          ]
        },
        {
          "output_type": "stream",
          "name": "stdout",
          "text": [
            "Data has been normalized\n"
          ]
        },
        {
          "output_type": "stream",
          "name": "stderr",
          "text": [
            "Calculating CSI: 100%|██████████| 1/1 [00:00<00:00, 790.19it/s]\n"
          ]
        },
        {
          "output_type": "stream",
          "name": "stdout",
          "text": [
            "Data has been normalized\n"
          ]
        },
        {
          "output_type": "stream",
          "name": "stderr",
          "text": [
            "Calculating CSI: 100%|██████████| 1/1 [00:00<00:00, 892.79it/s]\n"
          ]
        },
        {
          "output_type": "stream",
          "name": "stdout",
          "text": [
            "Data has been normalized\n"
          ]
        },
        {
          "output_type": "stream",
          "name": "stderr",
          "text": [
            "Calculating CSI: 100%|██████████| 1/1 [00:00<00:00, 975.42it/s]"
          ]
        },
        {
          "output_type": "stream",
          "name": "stdout",
          "text": [
            "Data has been normalized\n"
          ]
        },
        {
          "output_type": "stream",
          "name": "stderr",
          "text": [
            "\n",
            "Calculating CSI: 100%|██████████| 1/1 [00:00<00:00, 994.62it/s]\n"
          ]
        },
        {
          "output_type": "stream",
          "name": "stdout",
          "text": [
            "Data has been normalized\n"
          ]
        },
        {
          "output_type": "stream",
          "name": "stderr",
          "text": [
            "Calculating CSI: 100%|██████████| 1/1 [00:00<00:00, 869.65it/s]\n"
          ]
        },
        {
          "output_type": "stream",
          "name": "stdout",
          "text": [
            "Data has been normalized\n"
          ]
        },
        {
          "output_type": "stream",
          "name": "stderr",
          "text": [
            "Calculating CSI: 100%|██████████| 1/1 [00:00<00:00, 172.77it/s]\n"
          ]
        },
        {
          "output_type": "stream",
          "name": "stdout",
          "text": [
            "Data has been normalized\n"
          ]
        },
        {
          "output_type": "stream",
          "name": "stderr",
          "text": [
            "Calculating CSI: 100%|██████████| 1/1 [00:00<00:00, 1558.06it/s]\n"
          ]
        }
      ]
    },
    {
      "cell_type": "code",
      "source": [
        "csi_test"
      ],
      "metadata": {
        "colab": {
          "base_uri": "https://localhost:8080/"
        },
        "id": "4rWJ056zbLER",
        "outputId": "51303adf-ab9f-4634-fc50-e0dca92e00e1"
      },
      "execution_count": 15,
      "outputs": [
        {
          "output_type": "execute_result",
          "data": {
            "text/plain": [
              "[('conv1', 0.5022222399711609),\n",
              " ('bn1', 0.5022222399711609),\n",
              " ('activation1', 0.5233333706855774),\n",
              " ('conv2', 0.601111114025116),\n",
              " ('bn2', 0.601111114025116),\n",
              " ('activation2', 0.5955555438995361),\n",
              " ('maxpool1', 0.6133333444595337),\n",
              " ('resblock1', 0.6966666579246521),\n",
              " ('maxpool2', 0.7077777981758118),\n",
              " ('conv3', 0.6966666579246521),\n",
              " ('bn3', 0.6966666579246521),\n",
              " ('activation3', 0.7066667079925537),\n",
              " ('maxpool3', 0.7288889288902283),\n",
              " ('conv4', 0.6899999976158142),\n",
              " ('bn4', 0.6899999976158142),\n",
              " ('activation4', 0.698888897895813),\n",
              " ('resblock2', 0.7911111116409302),\n",
              " ('avgpool', 0.7766667008399963)]"
            ]
          },
          "metadata": {},
          "execution_count": 15
        }
      ]
    },
    {
      "cell_type": "code",
      "source": [
        "plt.plot([layer for layer, _ in csi_test], [si for _, si in csi_test])\n",
        "plt.xlabel('Layer')\n",
        "plt.ylabel('SI')\n",
        "plt.title('CSI vs Layer number with BN')\n",
        "plt.xticks(rotation=90)\n",
        "plt.show()"
      ],
      "metadata": {
        "colab": {
          "base_uri": "https://localhost:8080/",
          "height": 536
        },
        "id": "wXbJGIGCbMJZ",
        "outputId": "d427ee8c-af48-461c-918f-2062ff63cfd5"
      },
      "execution_count": 16,
      "outputs": [
        {
          "output_type": "display_data",
          "data": {
            "text/plain": [
              "<Figure size 640x480 with 1 Axes>"
            ],
            "image/png": "[encoded data removed]"
          },
          "metadata": {}
        }
      ]
    }
  ]
}